{
 "cells": [
  {
   "cell_type": "markdown",
   "metadata": {},
   "source": [
    "# Выбор локации для скважины"
   ]
  },
  {
   "cell_type": "markdown",
   "metadata": {},
   "source": [
    "Допустим, вы работаете в добывающей компании «ГлавРосГосНефть». Нужно решить, где бурить новую скважину.\n",
    "\n",
    "Вам предоставлены пробы нефти в трёх регионах: в каждом 10 000 месторождений, где измерили качество нефти и объём её запасов. Постройте модель машинного обучения, которая поможет определить регион, где добыча принесёт наибольшую прибыль. Проанализируйте возможную прибыль и риски техникой *Bootstrap.*\n",
    "\n",
    "Шаги для выбора локации:\n",
    "\n",
    "- В избранном регионе ищут месторождения, для каждого определяют значения признаков;\n",
    "- Строят модель и оценивают объём запасов;\n",
    "- Выбирают месторождения с самым высокими оценками значений. Количество месторождений зависит от бюджета компании и стоимости разработки одной скважины;\n",
    "- Прибыль равна суммарной прибыли отобранных месторождений."
   ]
  },
  {
   "cell_type": "markdown",
   "metadata": {},
   "source": [
    "# План выполнения работы:\n",
    "\n",
    "1. Загрузить и подготовить данные.\n",
    "2. Обучить и проверить модель для каждого региона.\n",
    " - 2.1. Разбить данные на обучающую и валидационную выборки в соотношении 75:25.\n",
    " - 2.2. Обучить модель и сделать предсказания на валидационной выборке.\n",
    " - 2.3. Вычислить средний запас предсказанного сырья и RMSE модели.\n",
    " - 2.4. Проанализируйте результаты.\n",
    "3. Подготовка к расчёту прибыли.\n",
    " - 3.1. Подготовить все ключевые для расчетов значения.\n",
    " - 3.2. Рассчитать достаточный объём сырья для безубыточной разработки новой скважины. Сравнить полученный объём сырья со средним запасом в каждом регионе.\n",
    " - 3.3. Написать выводы по этапу подготовки расчёта прибыли.\n",
    "4. Создать функцию для расчёта прибыли по выбранным скважинам и предсказаниям модели:\n",
    "5. Посчитать риски и прибыль для каждого региона:\n",
    " - 5.1. Применить технику Bootstrap с 1000 выборок, чтобы найти распределение прибыли.\n",
    " - 5.2. Найти среднюю прибыль, 95%-й доверительный интервал и риск убытков.\n",
    " - 5.3. Написать выводы: предложить регион для разработки скважин и обоснуйте выбор. "
   ]
  },
  {
   "cell_type": "markdown",
   "metadata": {},
   "source": [
    "## Загрузка и подготовка данных"
   ]
  },
  {
   "cell_type": "markdown",
   "metadata": {},
   "source": [
    "**Импортируем библиотеки, необходимые для работы**"
   ]
  },
  {
   "cell_type": "code",
   "execution_count": 1,
   "metadata": {},
   "outputs": [],
   "source": [
    "import pandas as pd\n",
    "import numpy as np\n",
    "\n",
    "from sklearn.linear_model import LinearRegression\n",
    "from sklearn.preprocessing import StandardScaler\n",
    "from sklearn.model_selection import train_test_split\n",
    "from sklearn.metrics import mean_squared_error\n",
    "from numpy.random import RandomState\n",
    "import warnings\n",
    "warnings.filterwarnings(\"ignore\")\n",
    "from scipy import stats as st\n",
    "from sklearn.preprocessing import StandardScaler "
   ]
  },
  {
   "cell_type": "markdown",
   "metadata": {},
   "source": [
    "**сохраним датасеты в переменные**"
   ]
  },
  {
   "cell_type": "code",
   "execution_count": 2,
   "metadata": {},
   "outputs": [
    {
     "data": {
      "text/html": [
       "<div>\n",
       "<style scoped>\n",
       "    .dataframe tbody tr th:only-of-type {\n",
       "        vertical-align: middle;\n",
       "    }\n",
       "\n",
       "    .dataframe tbody tr th {\n",
       "        vertical-align: top;\n",
       "    }\n",
       "\n",
       "    .dataframe thead th {\n",
       "        text-align: right;\n",
       "    }\n",
       "</style>\n",
       "<table border=\"1\" class=\"dataframe\">\n",
       "  <thead>\n",
       "    <tr style=\"text-align: right;\">\n",
       "      <th></th>\n",
       "      <th>id</th>\n",
       "      <th>f0</th>\n",
       "      <th>f1</th>\n",
       "      <th>f2</th>\n",
       "      <th>product</th>\n",
       "    </tr>\n",
       "  </thead>\n",
       "  <tbody>\n",
       "    <tr>\n",
       "      <th>0</th>\n",
       "      <td>txEyH</td>\n",
       "      <td>0.705745</td>\n",
       "      <td>-0.497823</td>\n",
       "      <td>1.221170</td>\n",
       "      <td>105.280062</td>\n",
       "    </tr>\n",
       "    <tr>\n",
       "      <th>1</th>\n",
       "      <td>2acmU</td>\n",
       "      <td>1.334711</td>\n",
       "      <td>-0.340164</td>\n",
       "      <td>4.365080</td>\n",
       "      <td>73.037750</td>\n",
       "    </tr>\n",
       "    <tr>\n",
       "      <th>2</th>\n",
       "      <td>409Wp</td>\n",
       "      <td>1.022732</td>\n",
       "      <td>0.151990</td>\n",
       "      <td>1.419926</td>\n",
       "      <td>85.265647</td>\n",
       "    </tr>\n",
       "    <tr>\n",
       "      <th>3</th>\n",
       "      <td>iJLyR</td>\n",
       "      <td>-0.032172</td>\n",
       "      <td>0.139033</td>\n",
       "      <td>2.978566</td>\n",
       "      <td>168.620776</td>\n",
       "    </tr>\n",
       "    <tr>\n",
       "      <th>4</th>\n",
       "      <td>Xdl7t</td>\n",
       "      <td>1.988431</td>\n",
       "      <td>0.155413</td>\n",
       "      <td>4.751769</td>\n",
       "      <td>154.036647</td>\n",
       "    </tr>\n",
       "  </tbody>\n",
       "</table>\n",
       "</div>"
      ],
      "text/plain": [
       "      id        f0        f1        f2     product\n",
       "0  txEyH  0.705745 -0.497823  1.221170  105.280062\n",
       "1  2acmU  1.334711 -0.340164  4.365080   73.037750\n",
       "2  409Wp  1.022732  0.151990  1.419926   85.265647\n",
       "3  iJLyR -0.032172  0.139033  2.978566  168.620776\n",
       "4  Xdl7t  1.988431  0.155413  4.751769  154.036647"
      ]
     },
     "execution_count": 2,
     "metadata": {},
     "output_type": "execute_result"
    }
   ],
   "source": [
    "geo_data_0 = pd.read_csv('/datasets/geo_data_0.csv')\n",
    "geo_data_0.head()                       "
   ]
  },
  {
   "cell_type": "code",
   "execution_count": 3,
   "metadata": {},
   "outputs": [
    {
     "data": {
      "text/html": [
       "<div>\n",
       "<style scoped>\n",
       "    .dataframe tbody tr th:only-of-type {\n",
       "        vertical-align: middle;\n",
       "    }\n",
       "\n",
       "    .dataframe tbody tr th {\n",
       "        vertical-align: top;\n",
       "    }\n",
       "\n",
       "    .dataframe thead th {\n",
       "        text-align: right;\n",
       "    }\n",
       "</style>\n",
       "<table border=\"1\" class=\"dataframe\">\n",
       "  <thead>\n",
       "    <tr style=\"text-align: right;\">\n",
       "      <th></th>\n",
       "      <th>id</th>\n",
       "      <th>f0</th>\n",
       "      <th>f1</th>\n",
       "      <th>f2</th>\n",
       "      <th>product</th>\n",
       "    </tr>\n",
       "  </thead>\n",
       "  <tbody>\n",
       "    <tr>\n",
       "      <th>0</th>\n",
       "      <td>kBEdx</td>\n",
       "      <td>-15.001348</td>\n",
       "      <td>-8.276000</td>\n",
       "      <td>-0.005876</td>\n",
       "      <td>3.179103</td>\n",
       "    </tr>\n",
       "    <tr>\n",
       "      <th>1</th>\n",
       "      <td>62mP7</td>\n",
       "      <td>14.272088</td>\n",
       "      <td>-3.475083</td>\n",
       "      <td>0.999183</td>\n",
       "      <td>26.953261</td>\n",
       "    </tr>\n",
       "    <tr>\n",
       "      <th>2</th>\n",
       "      <td>vyE1P</td>\n",
       "      <td>6.263187</td>\n",
       "      <td>-5.948386</td>\n",
       "      <td>5.001160</td>\n",
       "      <td>134.766305</td>\n",
       "    </tr>\n",
       "    <tr>\n",
       "      <th>3</th>\n",
       "      <td>KcrkZ</td>\n",
       "      <td>-13.081196</td>\n",
       "      <td>-11.506057</td>\n",
       "      <td>4.999415</td>\n",
       "      <td>137.945408</td>\n",
       "    </tr>\n",
       "    <tr>\n",
       "      <th>4</th>\n",
       "      <td>AHL4O</td>\n",
       "      <td>12.702195</td>\n",
       "      <td>-8.147433</td>\n",
       "      <td>5.004363</td>\n",
       "      <td>134.766305</td>\n",
       "    </tr>\n",
       "  </tbody>\n",
       "</table>\n",
       "</div>"
      ],
      "text/plain": [
       "      id         f0         f1        f2     product\n",
       "0  kBEdx -15.001348  -8.276000 -0.005876    3.179103\n",
       "1  62mP7  14.272088  -3.475083  0.999183   26.953261\n",
       "2  vyE1P   6.263187  -5.948386  5.001160  134.766305\n",
       "3  KcrkZ -13.081196 -11.506057  4.999415  137.945408\n",
       "4  AHL4O  12.702195  -8.147433  5.004363  134.766305"
      ]
     },
     "execution_count": 3,
     "metadata": {},
     "output_type": "execute_result"
    }
   ],
   "source": [
    "geo_data_1 = pd.read_csv('/datasets/geo_data_1.csv')\n",
    "geo_data_1.head()\n"
   ]
  },
  {
   "cell_type": "code",
   "execution_count": 4,
   "metadata": {},
   "outputs": [
    {
     "data": {
      "text/html": [
       "<div>\n",
       "<style scoped>\n",
       "    .dataframe tbody tr th:only-of-type {\n",
       "        vertical-align: middle;\n",
       "    }\n",
       "\n",
       "    .dataframe tbody tr th {\n",
       "        vertical-align: top;\n",
       "    }\n",
       "\n",
       "    .dataframe thead th {\n",
       "        text-align: right;\n",
       "    }\n",
       "</style>\n",
       "<table border=\"1\" class=\"dataframe\">\n",
       "  <thead>\n",
       "    <tr style=\"text-align: right;\">\n",
       "      <th></th>\n",
       "      <th>id</th>\n",
       "      <th>f0</th>\n",
       "      <th>f1</th>\n",
       "      <th>f2</th>\n",
       "      <th>product</th>\n",
       "    </tr>\n",
       "  </thead>\n",
       "  <tbody>\n",
       "    <tr>\n",
       "      <th>0</th>\n",
       "      <td>fwXo0</td>\n",
       "      <td>-1.146987</td>\n",
       "      <td>0.963328</td>\n",
       "      <td>-0.828965</td>\n",
       "      <td>27.758673</td>\n",
       "    </tr>\n",
       "    <tr>\n",
       "      <th>1</th>\n",
       "      <td>WJtFt</td>\n",
       "      <td>0.262778</td>\n",
       "      <td>0.269839</td>\n",
       "      <td>-2.530187</td>\n",
       "      <td>56.069697</td>\n",
       "    </tr>\n",
       "    <tr>\n",
       "      <th>2</th>\n",
       "      <td>ovLUW</td>\n",
       "      <td>0.194587</td>\n",
       "      <td>0.289035</td>\n",
       "      <td>-5.586433</td>\n",
       "      <td>62.871910</td>\n",
       "    </tr>\n",
       "    <tr>\n",
       "      <th>3</th>\n",
       "      <td>q6cA6</td>\n",
       "      <td>2.236060</td>\n",
       "      <td>-0.553760</td>\n",
       "      <td>0.930038</td>\n",
       "      <td>114.572842</td>\n",
       "    </tr>\n",
       "    <tr>\n",
       "      <th>4</th>\n",
       "      <td>WPMUX</td>\n",
       "      <td>-0.515993</td>\n",
       "      <td>1.716266</td>\n",
       "      <td>5.899011</td>\n",
       "      <td>149.600746</td>\n",
       "    </tr>\n",
       "  </tbody>\n",
       "</table>\n",
       "</div>"
      ],
      "text/plain": [
       "      id        f0        f1        f2     product\n",
       "0  fwXo0 -1.146987  0.963328 -0.828965   27.758673\n",
       "1  WJtFt  0.262778  0.269839 -2.530187   56.069697\n",
       "2  ovLUW  0.194587  0.289035 -5.586433   62.871910\n",
       "3  q6cA6  2.236060 -0.553760  0.930038  114.572842\n",
       "4  WPMUX -0.515993  1.716266  5.899011  149.600746"
      ]
     },
     "execution_count": 4,
     "metadata": {},
     "output_type": "execute_result"
    }
   ],
   "source": [
    "geo_data_2 = pd.read_csv('/datasets/geo_data_2.csv')\n",
    "geo_data_2.head()                       "
   ]
  },
  {
   "cell_type": "markdown",
   "metadata": {},
   "source": [
    "**Напишем функцию, которая выведет основнуб информацию о дата фреймах на экран**"
   ]
  },
  {
   "cell_type": "code",
   "execution_count": 5,
   "metadata": {},
   "outputs": [],
   "source": [
    "def info_geo (data):\n",
    "    print('Регион', i)\n",
    "    print(data.head())\n",
    "    print('Информация о месторожднении')\n",
    "    print(data.info())\n",
    "    print('___________________________________')\n",
    "    print(data.describe())\n",
    "    print('___________________________________')\n",
    "    print('Количество пропусков:', data.isna().sum())\n",
    "    print('Количество явных дубликатов:', data.duplicated().sum())\n",
    "    print('////////////////////////////////////')"
   ]
  },
  {
   "cell_type": "markdown",
   "metadata": {},
   "source": [
    "**Выведем на экран основную информацию**"
   ]
  },
  {
   "cell_type": "code",
   "execution_count": 6,
   "metadata": {},
   "outputs": [
    {
     "name": "stdout",
     "output_type": "stream",
     "text": [
      "Регион 0\n",
      "      id        f0        f1        f2     product\n",
      "0  txEyH  0.705745 -0.497823  1.221170  105.280062\n",
      "1  2acmU  1.334711 -0.340164  4.365080   73.037750\n",
      "2  409Wp  1.022732  0.151990  1.419926   85.265647\n",
      "3  iJLyR -0.032172  0.139033  2.978566  168.620776\n",
      "4  Xdl7t  1.988431  0.155413  4.751769  154.036647\n",
      "Информация о месторожднении\n",
      "<class 'pandas.core.frame.DataFrame'>\n",
      "RangeIndex: 100000 entries, 0 to 99999\n",
      "Data columns (total 5 columns):\n",
      " #   Column   Non-Null Count   Dtype  \n",
      "---  ------   --------------   -----  \n",
      " 0   id       100000 non-null  object \n",
      " 1   f0       100000 non-null  float64\n",
      " 2   f1       100000 non-null  float64\n",
      " 3   f2       100000 non-null  float64\n",
      " 4   product  100000 non-null  float64\n",
      "dtypes: float64(4), object(1)\n",
      "memory usage: 3.8+ MB\n",
      "None\n",
      "___________________________________\n",
      "                  f0             f1             f2        product\n",
      "count  100000.000000  100000.000000  100000.000000  100000.000000\n",
      "mean        0.500419       0.250143       2.502647      92.500000\n",
      "std         0.871832       0.504433       3.248248      44.288691\n",
      "min        -1.408605      -0.848218     -12.088328       0.000000\n",
      "25%        -0.072580      -0.200881       0.287748      56.497507\n",
      "50%         0.502360       0.250252       2.515969      91.849972\n",
      "75%         1.073581       0.700646       4.715088     128.564089\n",
      "max         2.362331       1.343769      16.003790     185.364347\n",
      "___________________________________\n",
      "Количество пропусков: id         0\n",
      "f0         0\n",
      "f1         0\n",
      "f2         0\n",
      "product    0\n",
      "dtype: int64\n",
      "Количество явных дубликатов: 0\n",
      "////////////////////////////////////\n",
      "Регион 1\n",
      "      id         f0         f1        f2     product\n",
      "0  kBEdx -15.001348  -8.276000 -0.005876    3.179103\n",
      "1  62mP7  14.272088  -3.475083  0.999183   26.953261\n",
      "2  vyE1P   6.263187  -5.948386  5.001160  134.766305\n",
      "3  KcrkZ -13.081196 -11.506057  4.999415  137.945408\n",
      "4  AHL4O  12.702195  -8.147433  5.004363  134.766305\n",
      "Информация о месторожднении\n",
      "<class 'pandas.core.frame.DataFrame'>\n",
      "RangeIndex: 100000 entries, 0 to 99999\n",
      "Data columns (total 5 columns):\n",
      " #   Column   Non-Null Count   Dtype  \n",
      "---  ------   --------------   -----  \n",
      " 0   id       100000 non-null  object \n",
      " 1   f0       100000 non-null  float64\n",
      " 2   f1       100000 non-null  float64\n",
      " 3   f2       100000 non-null  float64\n",
      " 4   product  100000 non-null  float64\n",
      "dtypes: float64(4), object(1)\n",
      "memory usage: 3.8+ MB\n",
      "None\n",
      "___________________________________\n",
      "                  f0             f1             f2        product\n",
      "count  100000.000000  100000.000000  100000.000000  100000.000000\n",
      "mean        1.141296      -4.796579       2.494541      68.825000\n",
      "std         8.965932       5.119872       1.703572      45.944423\n",
      "min       -31.609576     -26.358598      -0.018144       0.000000\n",
      "25%        -6.298551      -8.267985       1.000021      26.953261\n",
      "50%         1.153055      -4.813172       2.011479      57.085625\n",
      "75%         8.621015      -1.332816       3.999904     107.813044\n",
      "max        29.421755      18.734063       5.019721     137.945408\n",
      "___________________________________\n",
      "Количество пропусков: id         0\n",
      "f0         0\n",
      "f1         0\n",
      "f2         0\n",
      "product    0\n",
      "dtype: int64\n",
      "Количество явных дубликатов: 0\n",
      "////////////////////////////////////\n",
      "Регион 2\n",
      "      id        f0        f1        f2     product\n",
      "0  fwXo0 -1.146987  0.963328 -0.828965   27.758673\n",
      "1  WJtFt  0.262778  0.269839 -2.530187   56.069697\n",
      "2  ovLUW  0.194587  0.289035 -5.586433   62.871910\n",
      "3  q6cA6  2.236060 -0.553760  0.930038  114.572842\n",
      "4  WPMUX -0.515993  1.716266  5.899011  149.600746\n",
      "Информация о месторожднении\n",
      "<class 'pandas.core.frame.DataFrame'>\n",
      "RangeIndex: 100000 entries, 0 to 99999\n",
      "Data columns (total 5 columns):\n",
      " #   Column   Non-Null Count   Dtype  \n",
      "---  ------   --------------   -----  \n",
      " 0   id       100000 non-null  object \n",
      " 1   f0       100000 non-null  float64\n",
      " 2   f1       100000 non-null  float64\n",
      " 3   f2       100000 non-null  float64\n",
      " 4   product  100000 non-null  float64\n",
      "dtypes: float64(4), object(1)\n",
      "memory usage: 3.8+ MB\n",
      "None\n",
      "___________________________________\n",
      "                  f0             f1             f2        product\n",
      "count  100000.000000  100000.000000  100000.000000  100000.000000\n",
      "mean        0.002023      -0.002081       2.495128      95.000000\n",
      "std         1.732045       1.730417       3.473445      44.749921\n",
      "min        -8.760004      -7.084020     -11.970335       0.000000\n",
      "25%        -1.162288      -1.174820       0.130359      59.450441\n",
      "50%         0.009424      -0.009482       2.484236      94.925613\n",
      "75%         1.158535       1.163678       4.858794     130.595027\n",
      "max         7.238262       7.844801      16.739402     190.029838\n",
      "___________________________________\n",
      "Количество пропусков: id         0\n",
      "f0         0\n",
      "f1         0\n",
      "f2         0\n",
      "product    0\n",
      "dtype: int64\n",
      "Количество явных дубликатов: 0\n",
      "////////////////////////////////////\n"
     ]
    }
   ],
   "source": [
    "i=0\n",
    "for data in (geo_data_0, geo_data_1, geo_data_2):\n",
    "\n",
    "    info_geo(data)\n",
    "    i +=1"
   ]
  },
  {
   "cell_type": "markdown",
   "metadata": {},
   "source": [
    "*Изучив данные, мы делаем следующие выводы: **Целевой признак** находится в столбце `product`, численные признаки - чотлбцы `f0`,`f1`, `f2`. Столбец `id` - уникальный номер скажины, он не несет никакой смысловой нагрузки и не поможет нашей модели обучаться. Удалим его*"
   ]
  },
  {
   "cell_type": "code",
   "execution_count": 7,
   "metadata": {},
   "outputs": [],
   "source": [
    "geo_data_0 = geo_data_0.drop('id', axis=1)\n",
    "geo_data_1 = geo_data_1.drop('id', axis=1)\n",
    "geo_data_2 = geo_data_2.drop('id', axis=1)"
   ]
  },
  {
   "cell_type": "markdown",
   "metadata": {},
   "source": [
    "***Теперь наши данные готовы к обучению***"
   ]
  },
  {
   "cell_type": "markdown",
   "metadata": {},
   "source": [
    "## Обучение и проверка модели"
   ]
  },
  {
   "cell_type": "markdown",
   "metadata": {},
   "source": [
    "**Создадим функцию, которая на вход будет принимать датасет, выделять из него целевой признак, делить выборки на обучающую и валидационную, масштабировать численные признаки, обучать модель и выдавать нужные нам параметры: средний запас сырья и RMSE модели.**"
   ]
  },
  {
   "cell_type": "code",
   "execution_count": 8,
   "metadata": {},
   "outputs": [],
   "source": [
    "state = np.random.RandomState(12345) \n",
    "#Создадим функцию \n",
    "def model (data):\n",
    "    # выделим в переменную `target` целевой признак 'product', а в переменную 'features' - остальные признаки            \n",
    "    features = data.drop(['product'], axis=1)\n",
    "    target = data['product']\n",
    "    # разделим данные на обучающую и валидационную выборку\n",
    "    features_train, features_valid, target_train, target_valid = train_test_split(features,target,test_size=0.25,\n",
    "                                                                                  random_state = state)\n",
    "    #Проведем масштабирование численных признаков\n",
    "    numeric = ['f0', 'f1', 'f2'] # создадим список с признаками, которые надо масштабировать\n",
    "    #Создадим объект этой структуры и настроим его на обучающих данных\n",
    "    scaler = StandardScaler()\n",
    "    scaler.fit(features_train[numeric])\n",
    "    #Преобразуем обучающую и валидационную выборки функцией transform()\n",
    "    features_train[numeric] = scaler.transform(features_train[numeric])\n",
    "    features_valid[numeric] = scaler.transform(features_valid[numeric])\n",
    "    # обучим модель на тренировочных данных и предскажем прогнозные значения\n",
    "    model = LinearRegression()\n",
    "    model.fit(features_train, target_train)\n",
    "    predictions = model.predict(features_valid)\n",
    "    predictions = pd.Series(predictions)\n",
    "    # Посчитаем средний запас предсказанного сырья и RMSE модели.\n",
    "    predictions_mean = predictions.mean()\n",
    "    rmse = mean_squared_error(target_valid, predictions)** 0.5\n",
    "    #print (\"средний запас сырья:\", predictions_valid_mean, \"RMSE:\", rmse)\n",
    "    return predictions, predictions_mean, target_valid.reset_index(drop=True), rmse "
   ]
  },
  {
   "cell_type": "markdown",
   "metadata": {},
   "source": [
    "**Выведем значения среднего запаса предсказанного сырья и RMSE для каждого региона**"
   ]
  },
  {
   "cell_type": "code",
   "execution_count": 9,
   "metadata": {},
   "outputs": [
    {
     "name": "stdout",
     "output_type": "stream",
     "text": [
      "Регоин 0:\n",
      "Средний запас предсказанного сырья: 92.59256778438035\n",
      "RMSE модели: 37.5794217150813\n",
      "\n",
      "Регоин 1:\n",
      "Средний запас предсказанного сырья: 68.76995145799754\n",
      "RMSE модели: 0.889736773768065\n",
      "\n",
      "Регоин 2:\n",
      "Средний запас предсказанного сырья: 95.087528122523\n",
      "RMSE модели: 39.958042459521614\n",
      "\n"
     ]
    }
   ],
   "source": [
    "i = 0\n",
    "for geo in [geo_data_0,geo_data_1,geo_data_2]:\n",
    "    predictions, predictions_mean, target_valid, rmse = model(geo)\n",
    "    print(f'Регоин {i}:')\n",
    "    print(f'Средний запас предсказанного сырья: {predictions_mean}')\n",
    "    print(f'RMSE модели: {rmse}')\n",
    "    print()\n",
    "    i+=1"
   ]
  },
  {
   "cell_type": "markdown",
   "metadata": {},
   "source": [
    "*Сохраним наши параметры для каждог оместорождения*"
   ]
  },
  {
   "cell_type": "code",
   "execution_count": 10,
   "metadata": {},
   "outputs": [],
   "source": [
    "predictions_0, predictions_valid_mean_0, target_valid_0, rmse_0 = model(geo_data_0)\n",
    "predictions_1, predictions_valid_mean_1, target_valid_1, rmse_1 = model(geo_data_1)\n",
    "predictions_2, predictions_valid_mean_2, target_valid_2, rmse_2 = model(geo_data_2)"
   ]
  },
  {
   "cell_type": "markdown",
   "metadata": {},
   "source": [
    "***После обучения модели мы видим, что средний запас предсказанног осырья больше в регионе 2, однако в нем самое большое значение RMSE, значит модель обучилось хуже всего. А модель в регионе 1 выдает очень хороший показатель параметра RMSE,показатели на валидационной выборке получились ближе всего к реальным данным***"
   ]
  },
  {
   "cell_type": "markdown",
   "metadata": {},
   "source": [
    "## Подготовка к расчёту прибыли"
   ]
  },
  {
   "cell_type": "markdown",
   "metadata": {},
   "source": [
    "### Подготовим все ключевые для расчетов значения."
   ]
  },
  {
   "cell_type": "code",
   "execution_count": 11,
   "metadata": {},
   "outputs": [],
   "source": [
    "budget = 10**10 # бюджет на разработку месторождения\n",
    "income_product = 450000 # стоимость от продажи 1000 баррелей нефти"
   ]
  },
  {
   "cell_type": "markdown",
   "metadata": {},
   "source": [
    "### Рассчитаем достаточный объём сырья для безубыточной разработки новой скважины. Сравнить полученный объём сырья со средним запасом в каждом регионе."
   ]
  },
  {
   "cell_type": "markdown",
   "metadata": {},
   "source": [
    "*Точкой безубыточности будет то количество баррелей, которое необходимо добыть, чтобы окупился бюджет. Найдем этот показатель для отдельной скважины*"
   ]
  },
  {
   "cell_type": "code",
   "execution_count": 12,
   "metadata": {},
   "outputs": [
    {
     "name": "stdout",
     "output_type": "stream",
     "text": [
      "Точка безубыточности скважины 111 тыс. баррелей\n"
     ]
    }
   ],
   "source": [
    "bep = (budget / income_product) / 200\n",
    "print('Точка безубыточности скважины {0:.0f} тыс. баррелей'. format(bep))"
   ]
  },
  {
   "cell_type": "markdown",
   "metadata": {},
   "source": [
    "***Вывод: Мы видим, что запас средний запас сырья в скважинах меньше, чем точка безубыточности***"
   ]
  },
  {
   "cell_type": "markdown",
   "metadata": {},
   "source": [
    "## Расчёт прибыли и рисков "
   ]
  },
  {
   "cell_type": "markdown",
   "metadata": {},
   "source": [
    "**Напишем функцию `revenue()`, которая подсчитывает и возвращает выручку. Она получает на вход:**\n",
    " - список ответов target — запасы нефти в скажине;\n",
    " - список предсказаний модели `predictions`;\n",
    "\n",
    "***Функция должна выбрать скважины с наибольшим предсказанным запасом и подсчитать возможную выручку.***"
   ]
  },
  {
   "cell_type": "code",
   "execution_count": 13,
   "metadata": {},
   "outputs": [],
   "source": [
    "def revenue (target, predictions):\n",
    "    predictions_max = predictions.sort_values(ascending = False)\n",
    "    target_max = target[predictions_max.index][:200]\n",
    "    rev = target_max.sum() * income_product - budget\n",
    "    return rev"
   ]
  },
  {
   "cell_type": "markdown",
   "metadata": {},
   "source": [
    "**Применим технику Bootstrap с 1000 выборок, чтобы найти распределение прибыли.**\n",
    "\n",
    "**Найдем среднюю прибыль, 95%-й доверительный интервал и риск убытков.**"
   ]
  },
  {
   "cell_type": "code",
   "execution_count": 14,
   "metadata": {},
   "outputs": [],
   "source": [
    "def find_conf_interval (target, predictions): #создадим функцию find_conf_interval, которая будет проводить процедуру Bootstrap\n",
    "    \n",
    "    values = []\n",
    "    for i in range(1000):\n",
    "        target_subsample =target.sample(500, replace=True, random_state=state)\n",
    "        predictions_subsample = predictions [target_subsample.index]\n",
    "        values.append(revenue(target_subsample, predictions_subsample))\n",
    "    values = pd.Series(values)\n",
    "    mean = values.mean() # средняя прибыль\n",
    "    lower = values.quantile(0.025) # Низ 95% доверительного интервала\n",
    "    high = values.quantile(0.975) # Верх 95% доверительного интервала\n",
    "    risk = st.percentileofscore(values, 0,  kind = 'weak') # риск\n",
    "    \n",
    "    return mean, (lower, high), risk\n"
   ]
  },
  {
   "cell_type": "markdown",
   "metadata": {},
   "source": [
    "**Применим нашу функцию к регионом и рассчитаем все параметры**"
   ]
  },
  {
   "cell_type": "code",
   "execution_count": 15,
   "metadata": {
    "scrolled": true
   },
   "outputs": [
    {
     "name": "stdout",
     "output_type": "stream",
     "text": [
      "Регион 0:\n",
      "Средняя прибыль: 429391603.00374085\n",
      "Доверительный 95% интервал (-84479358.27523986, 937137724.6308087)\n",
      "Риск: 5.300000000000001\n",
      "\n",
      "Регион 1:\n",
      "Средняя прибыль: 545654352.8109497\n",
      "Доверительный 95% интервал (163077982.66738883, 976343911.0914689)\n",
      "Риск: 0.2\n",
      "\n",
      "Регион 2:\n",
      "Средняя прибыль: 432511156.58657175\n",
      "Доверительный 95% интервал (-153555072.12619615, 967178973.0046144)\n",
      "Риск: 6.4\n",
      "\n"
     ]
    }
   ],
   "source": [
    "i = 0\n",
    "for  target, preds in zip([target_valid_0, target_valid_1, target_valid_2], [predictions_0, predictions_1, predictions_2]):\n",
    "    mean, interval, risk = find_conf_interval (target, preds)\n",
    "    print(f'Регион {i}:')\n",
    "    print(f'Средняя прибыль: {mean}')\n",
    "    print('Доверительный 95% интервал', interval)\n",
    "    print(f'Риск: {risk}')\n",
    "    print()\n",
    "    i+=1"
   ]
  },
  {
   "cell_type": "markdown",
   "metadata": {},
   "source": [
    "# Вывод: в результате проведения анализы мы пришли к следующим результатам: \n",
    "1. **Самая высокая средняя прибыль в Регионе 1**\n",
    "2. **Регион 1 единственных из 3 регионов, у которого в доверительный интервал попадают только положительные значения прибыли**\n",
    "3. **Регион 1 имеет самый низки риск 0,5%, остальные регионы не смоги преодолеть необходимый порог риска меньше 2,5%**\n",
    "\n",
    "# Изходя из полученных данных мы рекомендуем к разработке регион 1 как потенциально самый прибыльный"
   ]
  },
  {
   "cell_type": "code",
   "execution_count": null,
   "metadata": {},
   "outputs": [],
   "source": []
  }
 ],
 "metadata": {
  "ExecuteTimeLog": [
   {
    "duration": 373,
    "start_time": "2022-11-17T12:55:25.359Z"
   },
   {
    "duration": 73,
    "start_time": "2022-11-17T12:55:48.277Z"
   },
   {
    "duration": 495,
    "start_time": "2022-11-17T12:56:02.942Z"
   },
   {
    "duration": 123,
    "start_time": "2022-11-17T12:56:44.230Z"
   },
   {
    "duration": 191,
    "start_time": "2022-11-17T12:56:53.303Z"
   },
   {
    "duration": 198,
    "start_time": "2022-11-17T12:57:13.280Z"
   },
   {
    "duration": 14,
    "start_time": "2022-11-17T12:57:31.421Z"
   },
   {
    "duration": 17,
    "start_time": "2022-11-17T13:01:05.502Z"
   },
   {
    "duration": 13,
    "start_time": "2022-11-17T13:01:17.624Z"
   },
   {
    "duration": 10,
    "start_time": "2022-11-17T13:03:31.715Z"
   },
   {
    "duration": 10,
    "start_time": "2022-11-17T13:03:45.373Z"
   },
   {
    "duration": 9,
    "start_time": "2022-11-17T13:03:52.252Z"
   },
   {
    "duration": 64,
    "start_time": "2022-11-17T13:04:16.451Z"
   },
   {
    "duration": 50,
    "start_time": "2022-11-17T13:04:26.197Z"
   },
   {
    "duration": 45,
    "start_time": "2022-11-17T13:04:36.997Z"
   },
   {
    "duration": 47,
    "start_time": "2022-11-17T13:04:47.637Z"
   },
   {
    "duration": 53,
    "start_time": "2022-11-17T13:07:49.627Z"
   },
   {
    "duration": 22,
    "start_time": "2022-11-17T13:08:44.045Z"
   },
   {
    "duration": 86,
    "start_time": "2022-11-17T13:09:10.334Z"
   },
   {
    "duration": 12,
    "start_time": "2022-11-17T13:09:17.261Z"
   },
   {
    "duration": 680,
    "start_time": "2022-11-17T14:54:32.942Z"
   },
   {
    "duration": 3,
    "start_time": "2022-11-17T14:55:05.427Z"
   },
   {
    "duration": 46,
    "start_time": "2022-11-17T14:55:09.013Z"
   },
   {
    "duration": 5,
    "start_time": "2022-11-17T14:55:51.462Z"
   },
   {
    "duration": 11,
    "start_time": "2022-11-17T15:02:28.200Z"
   },
   {
    "duration": 10,
    "start_time": "2022-11-17T15:02:59.634Z"
   },
   {
    "duration": 436,
    "start_time": "2022-11-17T15:03:01.115Z"
   },
   {
    "duration": 3,
    "start_time": "2022-11-17T15:08:14.042Z"
   },
   {
    "duration": 428,
    "start_time": "2022-11-17T15:08:20.099Z"
   },
   {
    "duration": 65,
    "start_time": "2022-11-17T15:28:10.294Z"
   },
   {
    "duration": 7,
    "start_time": "2022-11-17T15:28:21.927Z"
   },
   {
    "duration": 2,
    "start_time": "2022-11-17T15:28:27.863Z"
   },
   {
    "duration": 8,
    "start_time": "2022-11-17T15:28:28.990Z"
   },
   {
    "duration": 3,
    "start_time": "2022-11-17T15:28:37.495Z"
   },
   {
    "duration": 3,
    "start_time": "2022-11-17T15:28:38.457Z"
   },
   {
    "duration": 3,
    "start_time": "2022-11-17T15:29:28.704Z"
   },
   {
    "duration": 3,
    "start_time": "2022-11-17T15:32:28.927Z"
   },
   {
    "duration": 76,
    "start_time": "2022-11-17T15:53:03.640Z"
   },
   {
    "duration": 10,
    "start_time": "2022-11-17T15:53:08.866Z"
   },
   {
    "duration": 2,
    "start_time": "2022-11-17T15:53:15.473Z"
   },
   {
    "duration": 5,
    "start_time": "2022-11-17T15:53:18.371Z"
   },
   {
    "duration": 92,
    "start_time": "2022-11-17T15:53:20.641Z"
   },
   {
    "duration": 121,
    "start_time": "2022-11-17T15:53:27.705Z"
   },
   {
    "duration": 42,
    "start_time": "2022-11-17T15:53:58.891Z"
   },
   {
    "duration": 5,
    "start_time": "2022-11-17T15:54:09.841Z"
   },
   {
    "duration": 390,
    "start_time": "2022-11-17T15:54:10.739Z"
   },
   {
    "duration": 397,
    "start_time": "2022-11-17T15:54:18.034Z"
   },
   {
    "duration": 3,
    "start_time": "2022-11-17T15:56:30.622Z"
   },
   {
    "duration": 3,
    "start_time": "2022-11-17T16:05:11.708Z"
   },
   {
    "duration": 9,
    "start_time": "2022-11-17T16:13:29.629Z"
   },
   {
    "duration": 14,
    "start_time": "2022-11-17T16:14:48.118Z"
   },
   {
    "duration": 5,
    "start_time": "2022-11-17T16:16:09.057Z"
   },
   {
    "duration": 12,
    "start_time": "2022-11-17T16:16:12.202Z"
   },
   {
    "duration": 6,
    "start_time": "2022-11-17T16:16:58.562Z"
   },
   {
    "duration": 15,
    "start_time": "2022-11-17T16:17:35.427Z"
   },
   {
    "duration": 12,
    "start_time": "2022-11-17T16:20:26.529Z"
   },
   {
    "duration": 1015,
    "start_time": "2022-11-17T16:20:58.943Z"
   },
   {
    "duration": 134,
    "start_time": "2022-11-17T16:20:59.960Z"
   },
   {
    "duration": 12,
    "start_time": "2022-11-17T16:21:00.096Z"
   },
   {
    "duration": 115,
    "start_time": "2022-11-17T16:21:00.110Z"
   },
   {
    "duration": 11,
    "start_time": "2022-11-17T16:21:00.227Z"
   },
   {
    "duration": 119,
    "start_time": "2022-11-17T16:21:00.240Z"
   },
   {
    "duration": 12,
    "start_time": "2022-11-17T16:21:00.361Z"
   },
   {
    "duration": 14,
    "start_time": "2022-11-17T16:21:00.374Z"
   },
   {
    "duration": 14,
    "start_time": "2022-11-17T16:21:00.389Z"
   },
   {
    "duration": 21,
    "start_time": "2022-11-17T16:21:00.405Z"
   },
   {
    "duration": 42,
    "start_time": "2022-11-17T16:21:00.428Z"
   },
   {
    "duration": 55,
    "start_time": "2022-11-17T16:21:00.472Z"
   },
   {
    "duration": 45,
    "start_time": "2022-11-17T16:21:00.529Z"
   },
   {
    "duration": 11,
    "start_time": "2022-11-17T16:21:00.576Z"
   },
   {
    "duration": 25,
    "start_time": "2022-11-17T16:21:00.589Z"
   },
   {
    "duration": 436,
    "start_time": "2022-11-17T16:21:00.615Z"
   },
   {
    "duration": 517,
    "start_time": "2022-11-17T16:21:01.129Z"
   },
   {
    "duration": 8,
    "start_time": "2022-11-17T16:21:01.648Z"
   },
   {
    "duration": 100,
    "start_time": "2022-11-17T16:21:01.728Z"
   },
   {
    "duration": 22,
    "start_time": "2022-11-17T16:21:01.829Z"
   },
   {
    "duration": 1300,
    "start_time": "2022-11-17T16:21:01.852Z"
   },
   {
    "duration": 4,
    "start_time": "2022-11-17T16:21:38.505Z"
   },
   {
    "duration": 1202,
    "start_time": "2022-11-17T16:21:44.441Z"
   },
   {
    "duration": 1215,
    "start_time": "2022-11-17T16:22:53.788Z"
   },
   {
    "duration": 123,
    "start_time": "2022-11-17T16:35:26.650Z"
   },
   {
    "duration": 337,
    "start_time": "2022-11-17T16:35:50.411Z"
   },
   {
    "duration": 78,
    "start_time": "2022-11-17T16:36:59.669Z"
   },
   {
    "duration": 7,
    "start_time": "2022-11-17T16:37:13.228Z"
   },
   {
    "duration": 72,
    "start_time": "2022-11-17T16:43:16.376Z"
   },
   {
    "duration": 1309,
    "start_time": "2022-11-17T16:43:22.000Z"
   },
   {
    "duration": 72,
    "start_time": "2022-11-17T16:46:20.925Z"
   },
   {
    "duration": 1291,
    "start_time": "2022-11-17T16:46:31.934Z"
   },
   {
    "duration": 1312,
    "start_time": "2022-11-17T16:46:55.669Z"
   },
   {
    "duration": 4,
    "start_time": "2022-11-17T16:47:32.070Z"
   },
   {
    "duration": 15,
    "start_time": "2022-11-17T16:47:33.439Z"
   },
   {
    "duration": 4,
    "start_time": "2022-11-17T16:47:56.454Z"
   },
   {
    "duration": 3929,
    "start_time": "2022-11-17T16:47:57.472Z"
   },
   {
    "duration": 9,
    "start_time": "2022-11-17T16:49:14.754Z"
   },
   {
    "duration": 1054,
    "start_time": "2022-11-17T16:51:30.467Z"
   },
   {
    "duration": 161,
    "start_time": "2022-11-17T16:51:31.523Z"
   },
   {
    "duration": 16,
    "start_time": "2022-11-17T16:51:31.686Z"
   },
   {
    "duration": 130,
    "start_time": "2022-11-17T16:51:31.705Z"
   },
   {
    "duration": 14,
    "start_time": "2022-11-17T16:51:31.836Z"
   },
   {
    "duration": 131,
    "start_time": "2022-11-17T16:51:31.852Z"
   },
   {
    "duration": 13,
    "start_time": "2022-11-17T16:51:31.984Z"
   },
   {
    "duration": 12,
    "start_time": "2022-11-17T16:51:31.999Z"
   },
   {
    "duration": 19,
    "start_time": "2022-11-17T16:51:32.013Z"
   },
   {
    "duration": 9,
    "start_time": "2022-11-17T16:51:32.035Z"
   },
   {
    "duration": 49,
    "start_time": "2022-11-17T16:51:32.046Z"
   },
   {
    "duration": 68,
    "start_time": "2022-11-17T16:51:32.096Z"
   },
   {
    "duration": 61,
    "start_time": "2022-11-17T16:51:32.166Z"
   },
   {
    "duration": 13,
    "start_time": "2022-11-17T16:51:32.229Z"
   },
   {
    "duration": 10,
    "start_time": "2022-11-17T16:51:32.244Z"
   },
   {
    "duration": 403,
    "start_time": "2022-11-17T16:51:32.256Z"
   },
   {
    "duration": 528,
    "start_time": "2022-11-17T16:51:32.727Z"
   },
   {
    "duration": 69,
    "start_time": "2022-11-17T16:51:33.258Z"
   },
   {
    "duration": 101,
    "start_time": "2022-11-17T16:51:33.330Z"
   },
   {
    "duration": 7,
    "start_time": "2022-11-17T16:51:33.433Z"
   },
   {
    "duration": 14,
    "start_time": "2022-11-17T16:51:33.442Z"
   },
   {
    "duration": 4,
    "start_time": "2022-11-17T16:51:33.457Z"
   },
   {
    "duration": 3974,
    "start_time": "2022-11-17T16:51:33.463Z"
   },
   {
    "duration": 3,
    "start_time": "2022-11-17T16:54:40.861Z"
   },
   {
    "duration": 5,
    "start_time": "2022-11-17T16:54:46.548Z"
   },
   {
    "duration": 3878,
    "start_time": "2022-11-17T16:54:47.565Z"
   },
   {
    "duration": 8,
    "start_time": "2022-11-17T16:56:34.617Z"
   },
   {
    "duration": 10,
    "start_time": "2022-11-17T16:56:40.909Z"
   },
   {
    "duration": 1339,
    "start_time": "2022-11-17T16:57:42.536Z"
   },
   {
    "duration": 1054,
    "start_time": "2022-11-17T16:59:46.156Z"
   },
   {
    "duration": 145,
    "start_time": "2022-11-17T16:59:47.212Z"
   },
   {
    "duration": 16,
    "start_time": "2022-11-17T16:59:47.359Z"
   },
   {
    "duration": 128,
    "start_time": "2022-11-17T16:59:47.377Z"
   },
   {
    "duration": 21,
    "start_time": "2022-11-17T16:59:47.506Z"
   },
   {
    "duration": 123,
    "start_time": "2022-11-17T16:59:47.529Z"
   },
   {
    "duration": 14,
    "start_time": "2022-11-17T16:59:47.653Z"
   },
   {
    "duration": 9,
    "start_time": "2022-11-17T16:59:47.668Z"
   },
   {
    "duration": 11,
    "start_time": "2022-11-17T16:59:47.679Z"
   },
   {
    "duration": 36,
    "start_time": "2022-11-17T16:59:47.692Z"
   },
   {
    "duration": 50,
    "start_time": "2022-11-17T16:59:47.730Z"
   },
   {
    "duration": 65,
    "start_time": "2022-11-17T16:59:47.782Z"
   },
   {
    "duration": 48,
    "start_time": "2022-11-17T16:59:47.849Z"
   },
   {
    "duration": 12,
    "start_time": "2022-11-17T16:59:47.899Z"
   },
   {
    "duration": 7,
    "start_time": "2022-11-17T16:59:47.927Z"
   },
   {
    "duration": 414,
    "start_time": "2022-11-17T16:59:47.937Z"
   },
   {
    "duration": 595,
    "start_time": "2022-11-17T16:59:48.353Z"
   },
   {
    "duration": 83,
    "start_time": "2022-11-17T16:59:48.950Z"
   },
   {
    "duration": 107,
    "start_time": "2022-11-17T16:59:49.035Z"
   },
   {
    "duration": 27,
    "start_time": "2022-11-17T16:59:49.144Z"
   },
   {
    "duration": 24,
    "start_time": "2022-11-17T16:59:49.172Z"
   },
   {
    "duration": 18,
    "start_time": "2022-11-17T16:59:49.198Z"
   },
   {
    "duration": 3844,
    "start_time": "2022-11-17T16:59:49.218Z"
   },
   {
    "duration": 1268,
    "start_time": "2022-11-17T16:59:53.064Z"
   },
   {
    "duration": 5,
    "start_time": "2022-11-17T17:00:24.004Z"
   },
   {
    "duration": 3810,
    "start_time": "2022-11-17T17:00:25.813Z"
   },
   {
    "duration": 1089,
    "start_time": "2022-11-17T17:00:34.309Z"
   },
   {
    "duration": 143,
    "start_time": "2022-11-17T17:00:35.400Z"
   },
   {
    "duration": 16,
    "start_time": "2022-11-17T17:00:35.545Z"
   },
   {
    "duration": 130,
    "start_time": "2022-11-17T17:00:35.564Z"
   },
   {
    "duration": 15,
    "start_time": "2022-11-17T17:00:35.696Z"
   },
   {
    "duration": 131,
    "start_time": "2022-11-17T17:00:35.725Z"
   },
   {
    "duration": 15,
    "start_time": "2022-11-17T17:00:35.858Z"
   },
   {
    "duration": 11,
    "start_time": "2022-11-17T17:00:35.875Z"
   },
   {
    "duration": 10,
    "start_time": "2022-11-17T17:00:35.888Z"
   },
   {
    "duration": 33,
    "start_time": "2022-11-17T17:00:35.902Z"
   },
   {
    "duration": 51,
    "start_time": "2022-11-17T17:00:35.937Z"
   },
   {
    "duration": 61,
    "start_time": "2022-11-17T17:00:35.990Z"
   },
   {
    "duration": 49,
    "start_time": "2022-11-17T17:00:36.053Z"
   },
   {
    "duration": 34,
    "start_time": "2022-11-17T17:00:36.103Z"
   },
   {
    "duration": 14,
    "start_time": "2022-11-17T17:00:36.139Z"
   },
   {
    "duration": 484,
    "start_time": "2022-11-17T17:00:36.156Z"
   },
   {
    "duration": 613,
    "start_time": "2022-11-17T17:00:36.642Z"
   },
   {
    "duration": 71,
    "start_time": "2022-11-17T17:00:37.257Z"
   },
   {
    "duration": 100,
    "start_time": "2022-11-17T17:00:37.333Z"
   },
   {
    "duration": 8,
    "start_time": "2022-11-17T17:00:37.435Z"
   },
   {
    "duration": 27,
    "start_time": "2022-11-17T17:00:37.444Z"
   },
   {
    "duration": 7,
    "start_time": "2022-11-17T17:00:37.472Z"
   },
   {
    "duration": 3840,
    "start_time": "2022-11-17T17:00:37.481Z"
   },
   {
    "duration": 1290,
    "start_time": "2022-11-17T17:00:41.323Z"
   },
   {
    "duration": 1043,
    "start_time": "2022-11-17T17:04:04.169Z"
   },
   {
    "duration": 144,
    "start_time": "2022-11-17T17:04:05.214Z"
   },
   {
    "duration": 15,
    "start_time": "2022-11-17T17:04:05.359Z"
   },
   {
    "duration": 136,
    "start_time": "2022-11-17T17:04:05.377Z"
   },
   {
    "duration": 20,
    "start_time": "2022-11-17T17:04:05.514Z"
   },
   {
    "duration": 121,
    "start_time": "2022-11-17T17:04:05.536Z"
   },
   {
    "duration": 14,
    "start_time": "2022-11-17T17:04:05.659Z"
   },
   {
    "duration": 9,
    "start_time": "2022-11-17T17:04:05.675Z"
   },
   {
    "duration": 9,
    "start_time": "2022-11-17T17:04:05.686Z"
   },
   {
    "duration": 32,
    "start_time": "2022-11-17T17:04:05.698Z"
   },
   {
    "duration": 51,
    "start_time": "2022-11-17T17:04:05.732Z"
   },
   {
    "duration": 60,
    "start_time": "2022-11-17T17:04:05.785Z"
   },
   {
    "duration": 49,
    "start_time": "2022-11-17T17:04:05.846Z"
   },
   {
    "duration": 13,
    "start_time": "2022-11-17T17:04:05.897Z"
   },
   {
    "duration": 105,
    "start_time": "2022-11-17T17:04:05.927Z"
   },
   {
    "duration": 0,
    "start_time": "2022-11-17T17:04:06.033Z"
   },
   {
    "duration": 0,
    "start_time": "2022-11-17T17:04:06.034Z"
   },
   {
    "duration": 0,
    "start_time": "2022-11-17T17:04:06.035Z"
   },
   {
    "duration": 0,
    "start_time": "2022-11-17T17:04:06.036Z"
   },
   {
    "duration": 0,
    "start_time": "2022-11-17T17:04:06.037Z"
   },
   {
    "duration": 0,
    "start_time": "2022-11-17T17:04:06.038Z"
   },
   {
    "duration": 0,
    "start_time": "2022-11-17T17:04:06.039Z"
   },
   {
    "duration": 0,
    "start_time": "2022-11-17T17:04:06.040Z"
   },
   {
    "duration": 0,
    "start_time": "2022-11-17T17:04:06.041Z"
   },
   {
    "duration": 1065,
    "start_time": "2022-11-17T17:04:18.757Z"
   },
   {
    "duration": 151,
    "start_time": "2022-11-17T17:04:19.824Z"
   },
   {
    "duration": 15,
    "start_time": "2022-11-17T17:04:19.976Z"
   },
   {
    "duration": 134,
    "start_time": "2022-11-17T17:04:19.993Z"
   },
   {
    "duration": 13,
    "start_time": "2022-11-17T17:04:20.129Z"
   },
   {
    "duration": 126,
    "start_time": "2022-11-17T17:04:20.144Z"
   },
   {
    "duration": 14,
    "start_time": "2022-11-17T17:04:20.271Z"
   },
   {
    "duration": 16,
    "start_time": "2022-11-17T17:04:20.287Z"
   },
   {
    "duration": 24,
    "start_time": "2022-11-17T17:04:20.305Z"
   },
   {
    "duration": 9,
    "start_time": "2022-11-17T17:04:20.331Z"
   },
   {
    "duration": 55,
    "start_time": "2022-11-17T17:04:20.341Z"
   },
   {
    "duration": 60,
    "start_time": "2022-11-17T17:04:20.398Z"
   },
   {
    "duration": 49,
    "start_time": "2022-11-17T17:04:20.460Z"
   },
   {
    "duration": 14,
    "start_time": "2022-11-17T17:04:20.526Z"
   },
   {
    "duration": 9,
    "start_time": "2022-11-17T17:04:20.541Z"
   },
   {
    "duration": 494,
    "start_time": "2022-11-17T17:04:20.551Z"
   },
   {
    "duration": 613,
    "start_time": "2022-11-17T17:04:21.047Z"
   },
   {
    "duration": 6,
    "start_time": "2022-11-17T17:04:21.727Z"
   },
   {
    "duration": 101,
    "start_time": "2022-11-17T17:04:21.735Z"
   },
   {
    "duration": 10,
    "start_time": "2022-11-17T17:04:21.838Z"
   },
   {
    "duration": 16,
    "start_time": "2022-11-17T17:04:21.849Z"
   },
   {
    "duration": 4,
    "start_time": "2022-11-17T17:04:21.867Z"
   },
   {
    "duration": 3899,
    "start_time": "2022-11-17T17:04:21.873Z"
   },
   {
    "duration": 1272,
    "start_time": "2022-11-17T17:04:25.774Z"
   },
   {
    "duration": 4,
    "start_time": "2022-11-17T17:05:23.381Z"
   },
   {
    "duration": 3828,
    "start_time": "2022-11-17T17:05:24.605Z"
   },
   {
    "duration": 5,
    "start_time": "2022-11-17T17:10:31.574Z"
   },
   {
    "duration": 3864,
    "start_time": "2022-11-17T17:10:32.317Z"
   },
   {
    "duration": 4,
    "start_time": "2022-11-17T17:12:41.346Z"
   },
   {
    "duration": 3903,
    "start_time": "2022-11-17T17:12:41.915Z"
   },
   {
    "duration": 5,
    "start_time": "2022-11-17T17:13:01.610Z"
   },
   {
    "duration": 3902,
    "start_time": "2022-11-17T17:13:04.547Z"
   },
   {
    "duration": 5,
    "start_time": "2022-11-17T17:14:21.916Z"
   },
   {
    "duration": 3839,
    "start_time": "2022-11-17T17:14:22.605Z"
   },
   {
    "duration": 1051,
    "start_time": "2022-11-18T11:21:07.305Z"
   },
   {
    "duration": 847,
    "start_time": "2022-11-18T11:21:08.358Z"
   },
   {
    "duration": 14,
    "start_time": "2022-11-18T11:21:09.207Z"
   },
   {
    "duration": 576,
    "start_time": "2022-11-18T11:21:09.223Z"
   },
   {
    "duration": 13,
    "start_time": "2022-11-18T11:21:09.800Z"
   },
   {
    "duration": 572,
    "start_time": "2022-11-18T11:21:09.815Z"
   },
   {
    "duration": 14,
    "start_time": "2022-11-18T11:21:10.389Z"
   },
   {
    "duration": 12,
    "start_time": "2022-11-18T11:21:10.405Z"
   },
   {
    "duration": 18,
    "start_time": "2022-11-18T11:21:10.419Z"
   },
   {
    "duration": 9,
    "start_time": "2022-11-18T11:21:10.439Z"
   },
   {
    "duration": 44,
    "start_time": "2022-11-18T11:21:10.449Z"
   },
   {
    "duration": 53,
    "start_time": "2022-11-18T11:21:10.494Z"
   },
   {
    "duration": 41,
    "start_time": "2022-11-18T11:21:10.548Z"
   },
   {
    "duration": 23,
    "start_time": "2022-11-18T11:21:10.591Z"
   },
   {
    "duration": 5,
    "start_time": "2022-11-18T11:21:10.616Z"
   },
   {
    "duration": 396,
    "start_time": "2022-11-18T11:21:10.622Z"
   },
   {
    "duration": 593,
    "start_time": "2022-11-18T11:21:11.020Z"
   },
   {
    "duration": 2,
    "start_time": "2022-11-18T11:21:11.615Z"
   },
   {
    "duration": 94,
    "start_time": "2022-11-18T11:21:11.619Z"
   },
   {
    "duration": 7,
    "start_time": "2022-11-18T11:21:11.715Z"
   },
   {
    "duration": 11,
    "start_time": "2022-11-18T11:21:11.723Z"
   },
   {
    "duration": 5,
    "start_time": "2022-11-18T11:21:11.735Z"
   },
   {
    "duration": 3642,
    "start_time": "2022-11-18T11:21:11.741Z"
   },
   {
    "duration": 1204,
    "start_time": "2022-11-18T11:21:15.384Z"
   },
   {
    "duration": 5,
    "start_time": "2022-11-18T11:25:17.703Z"
   },
   {
    "duration": 1390,
    "start_time": "2022-11-18T11:25:19.198Z"
   },
   {
    "duration": 4,
    "start_time": "2022-11-18T11:25:44.039Z"
   },
   {
    "duration": 3905,
    "start_time": "2022-11-18T11:25:45.182Z"
   },
   {
    "duration": 3,
    "start_time": "2022-11-18T11:34:13.676Z"
   },
   {
    "duration": 39,
    "start_time": "2022-11-18T11:34:40.463Z"
   },
   {
    "duration": 108,
    "start_time": "2022-11-18T11:35:48.854Z"
   },
   {
    "duration": 3,
    "start_time": "2022-11-18T11:36:03.329Z"
   },
   {
    "duration": 43,
    "start_time": "2022-11-18T11:36:06.192Z"
   },
   {
    "duration": 4,
    "start_time": "2022-11-18T11:36:19.080Z"
   },
   {
    "duration": 101,
    "start_time": "2022-11-18T11:36:21.131Z"
   },
   {
    "duration": 1047,
    "start_time": "2022-11-18T11:38:03.735Z"
   },
   {
    "duration": 135,
    "start_time": "2022-11-18T11:38:04.784Z"
   },
   {
    "duration": 16,
    "start_time": "2022-11-18T11:38:04.921Z"
   },
   {
    "duration": 114,
    "start_time": "2022-11-18T11:38:04.939Z"
   },
   {
    "duration": 13,
    "start_time": "2022-11-18T11:38:05.054Z"
   },
   {
    "duration": 115,
    "start_time": "2022-11-18T11:38:05.068Z"
   },
   {
    "duration": 14,
    "start_time": "2022-11-18T11:38:05.184Z"
   },
   {
    "duration": 9,
    "start_time": "2022-11-18T11:38:05.212Z"
   },
   {
    "duration": 9,
    "start_time": "2022-11-18T11:38:05.223Z"
   },
   {
    "duration": 8,
    "start_time": "2022-11-18T11:38:05.234Z"
   },
   {
    "duration": 44,
    "start_time": "2022-11-18T11:38:05.244Z"
   },
   {
    "duration": 60,
    "start_time": "2022-11-18T11:38:05.289Z"
   },
   {
    "duration": 44,
    "start_time": "2022-11-18T11:38:05.351Z"
   },
   {
    "duration": 19,
    "start_time": "2022-11-18T11:38:05.396Z"
   },
   {
    "duration": 127,
    "start_time": "2022-11-18T11:38:05.417Z"
   },
   {
    "duration": 10,
    "start_time": "2022-11-18T11:38:05.545Z"
   },
   {
    "duration": 7,
    "start_time": "2022-11-18T11:38:05.556Z"
   },
   {
    "duration": 359,
    "start_time": "2022-11-18T11:38:05.565Z"
   },
   {
    "duration": 493,
    "start_time": "2022-11-18T11:38:05.926Z"
   },
   {
    "duration": 4,
    "start_time": "2022-11-18T11:38:06.421Z"
   },
   {
    "duration": 95,
    "start_time": "2022-11-18T11:38:06.427Z"
   },
   {
    "duration": 93,
    "start_time": "2022-11-18T11:38:06.524Z"
   },
   {
    "duration": 12,
    "start_time": "2022-11-18T11:38:06.619Z"
   },
   {
    "duration": 4,
    "start_time": "2022-11-18T11:38:06.633Z"
   },
   {
    "duration": 3858,
    "start_time": "2022-11-18T11:38:06.639Z"
   },
   {
    "duration": 1246,
    "start_time": "2022-11-18T11:38:10.498Z"
   },
   {
    "duration": 3,
    "start_time": "2022-11-18T11:42:08.347Z"
   },
   {
    "duration": 3794,
    "start_time": "2022-11-18T11:42:09.251Z"
   },
   {
    "duration": 5,
    "start_time": "2022-11-18T11:47:56.254Z"
   },
   {
    "duration": 3734,
    "start_time": "2022-11-18T11:47:57.118Z"
   },
   {
    "duration": 1130,
    "start_time": "2022-11-19T11:02:11.516Z"
   },
   {
    "duration": 569,
    "start_time": "2022-11-19T11:02:12.648Z"
   },
   {
    "duration": 18,
    "start_time": "2022-11-19T11:02:13.219Z"
   },
   {
    "duration": 626,
    "start_time": "2022-11-19T11:02:13.240Z"
   },
   {
    "duration": 17,
    "start_time": "2022-11-19T11:02:13.867Z"
   },
   {
    "duration": 589,
    "start_time": "2022-11-19T11:02:13.886Z"
   },
   {
    "duration": 22,
    "start_time": "2022-11-19T11:02:14.477Z"
   },
   {
    "duration": 11,
    "start_time": "2022-11-19T11:02:14.502Z"
   },
   {
    "duration": 19,
    "start_time": "2022-11-19T11:02:14.515Z"
   },
   {
    "duration": 12,
    "start_time": "2022-11-19T11:02:14.537Z"
   },
   {
    "duration": 75,
    "start_time": "2022-11-19T11:02:14.550Z"
   },
   {
    "duration": 60,
    "start_time": "2022-11-19T11:02:14.627Z"
   },
   {
    "duration": 48,
    "start_time": "2022-11-19T11:02:14.689Z"
   },
   {
    "duration": 4,
    "start_time": "2022-11-19T11:02:14.740Z"
   },
   {
    "duration": 157,
    "start_time": "2022-11-19T11:02:14.746Z"
   },
   {
    "duration": 10,
    "start_time": "2022-11-19T11:02:14.905Z"
   },
   {
    "duration": 6,
    "start_time": "2022-11-19T11:02:14.917Z"
   },
   {
    "duration": 367,
    "start_time": "2022-11-19T11:02:14.925Z"
   },
   {
    "duration": 683,
    "start_time": "2022-11-19T11:02:15.295Z"
   },
   {
    "duration": 4,
    "start_time": "2022-11-19T11:02:15.981Z"
   },
   {
    "duration": 99,
    "start_time": "2022-11-19T11:02:15.987Z"
   },
   {
    "duration": 8,
    "start_time": "2022-11-19T11:02:16.087Z"
   },
   {
    "duration": 12,
    "start_time": "2022-11-19T11:02:16.097Z"
   },
   {
    "duration": 6,
    "start_time": "2022-11-19T11:02:16.111Z"
   },
   {
    "duration": 4146,
    "start_time": "2022-11-19T11:02:16.118Z"
   },
   {
    "duration": 1429,
    "start_time": "2022-11-19T11:02:20.265Z"
   },
   {
    "duration": 4274,
    "start_time": "2022-11-19T11:02:54.678Z"
   },
   {
    "duration": 1117,
    "start_time": "2022-11-20T14:26:34.077Z"
   },
   {
    "duration": 572,
    "start_time": "2022-11-20T14:26:35.195Z"
   },
   {
    "duration": 603,
    "start_time": "2022-11-20T14:26:35.770Z"
   },
   {
    "duration": 568,
    "start_time": "2022-11-20T14:26:36.375Z"
   },
   {
    "duration": 4,
    "start_time": "2022-11-20T14:26:39.786Z"
   },
   {
    "duration": 178,
    "start_time": "2022-11-20T14:26:44.435Z"
   },
   {
    "duration": 3,
    "start_time": "2022-11-20T14:27:20.757Z"
   },
   {
    "duration": 64,
    "start_time": "2022-11-20T14:27:21.779Z"
   },
   {
    "duration": 5,
    "start_time": "2022-11-20T14:28:00.269Z"
   },
   {
    "duration": 65,
    "start_time": "2022-11-20T14:28:01.949Z"
   },
   {
    "duration": 6,
    "start_time": "2022-11-20T14:28:31.334Z"
   },
   {
    "duration": 3290,
    "start_time": "2022-11-20T14:28:32.966Z"
   },
   {
    "duration": 1172,
    "start_time": "2022-11-20T14:31:30.770Z"
   },
   {
    "duration": 146,
    "start_time": "2022-11-20T14:31:31.944Z"
   },
   {
    "duration": 129,
    "start_time": "2022-11-20T14:31:32.091Z"
   },
   {
    "duration": 124,
    "start_time": "2022-11-20T14:31:32.222Z"
   },
   {
    "duration": 4,
    "start_time": "2022-11-20T14:31:32.866Z"
   },
   {
    "duration": 431,
    "start_time": "2022-11-20T14:31:34.219Z"
   },
   {
    "duration": 1074,
    "start_time": "2022-11-20T15:11:49.663Z"
   },
   {
    "duration": 155,
    "start_time": "2022-11-20T15:11:50.738Z"
   },
   {
    "duration": 121,
    "start_time": "2022-11-20T15:11:50.895Z"
   },
   {
    "duration": 126,
    "start_time": "2022-11-20T15:11:51.019Z"
   },
   {
    "duration": 4,
    "start_time": "2022-11-20T15:11:51.147Z"
   },
   {
    "duration": 286,
    "start_time": "2022-11-20T15:11:51.153Z"
   },
   {
    "duration": 10,
    "start_time": "2022-11-20T15:11:51.441Z"
   },
   {
    "duration": 20,
    "start_time": "2022-11-20T15:11:51.452Z"
   },
   {
    "duration": 372,
    "start_time": "2022-11-20T15:11:51.474Z"
   },
   {
    "duration": 689,
    "start_time": "2022-11-20T15:11:51.849Z"
   },
   {
    "duration": 94,
    "start_time": "2022-11-20T15:11:52.543Z"
   },
   {
    "duration": 32,
    "start_time": "2022-11-20T15:11:52.639Z"
   },
   {
    "duration": 25,
    "start_time": "2022-11-20T15:11:52.673Z"
   },
   {
    "duration": 11,
    "start_time": "2022-11-20T15:11:52.699Z"
   },
   {
    "duration": 1426,
    "start_time": "2022-11-20T15:11:52.712Z"
   },
   {
    "duration": 1376,
    "start_time": "2022-11-20T15:12:38.505Z"
   },
   {
    "duration": 5,
    "start_time": "2022-11-20T15:13:17.165Z"
   },
   {
    "duration": 3926,
    "start_time": "2022-11-20T15:13:19.106Z"
   },
   {
    "duration": 1058,
    "start_time": "2022-11-21T13:10:57.322Z"
   },
   {
    "duration": 378,
    "start_time": "2022-11-21T13:10:58.382Z"
   },
   {
    "duration": 203,
    "start_time": "2022-11-21T13:10:58.761Z"
   },
   {
    "duration": 192,
    "start_time": "2022-11-21T13:10:58.967Z"
   },
   {
    "duration": 3,
    "start_time": "2022-11-21T13:10:59.161Z"
   },
   {
    "duration": 292,
    "start_time": "2022-11-21T13:10:59.165Z"
   },
   {
    "duration": 12,
    "start_time": "2022-11-21T13:10:59.458Z"
   },
   {
    "duration": 35,
    "start_time": "2022-11-21T13:10:59.471Z"
   },
   {
    "duration": 412,
    "start_time": "2022-11-21T13:10:59.508Z"
   },
   {
    "duration": 498,
    "start_time": "2022-11-21T13:10:59.924Z"
   },
   {
    "duration": 4,
    "start_time": "2022-11-21T13:11:00.424Z"
   },
   {
    "duration": 224,
    "start_time": "2022-11-21T13:11:00.430Z"
   },
   {
    "duration": 47,
    "start_time": "2022-11-21T13:11:00.656Z"
   },
   {
    "duration": 38,
    "start_time": "2022-11-21T13:11:00.704Z"
   },
   {
    "duration": 3906,
    "start_time": "2022-11-21T13:11:00.743Z"
   }
  ],
  "kernelspec": {
   "display_name": "Python 3 (ipykernel)",
   "language": "python",
   "name": "python3"
  },
  "language_info": {
   "codemirror_mode": {
    "name": "ipython",
    "version": 3
   },
   "file_extension": ".py",
   "mimetype": "text/x-python",
   "name": "python",
   "nbconvert_exporter": "python",
   "pygments_lexer": "ipython3",
   "version": "3.9.12"
  },
  "toc": {
   "base_numbering": 1,
   "nav_menu": {},
   "number_sections": true,
   "sideBar": true,
   "skip_h1_title": true,
   "title_cell": "Table of Contents",
   "title_sidebar": "Contents",
   "toc_cell": false,
   "toc_position": {},
   "toc_section_display": true,
   "toc_window_display": false
  }
 },
 "nbformat": 4,
 "nbformat_minor": 2
}
