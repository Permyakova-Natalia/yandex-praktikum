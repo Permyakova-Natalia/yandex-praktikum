{
 "cells": [
  {
   "cell_type": "markdown",
   "metadata": {
    "toc": true
   },
   "source": [
    "<h1>Содержание<span class=\"tocSkip\"></span></h1>\n",
    "<div class=\"toc\"><ul class=\"toc-item\"><li><span><a href=\"#Загрузка-данных\" data-toc-modified-id=\"Загрузка-данных-1\"><span class=\"toc-item-num\">1&nbsp;&nbsp;</span>Загрузка данных</a></span></li><li><span><a href=\"#Умножение-матриц\" data-toc-modified-id=\"Умножение-матриц-2\"><span class=\"toc-item-num\">2&nbsp;&nbsp;</span>Умножение матриц</a></span></li><li><span><a href=\"#Алгоритм-преобразования\" data-toc-modified-id=\"Алгоритм-преобразования-3\"><span class=\"toc-item-num\">3&nbsp;&nbsp;</span>Алгоритм преобразования</a></span></li><li><span><a href=\"#Проверка-алгоритма\" data-toc-modified-id=\"Проверка-алгоритма-4\"><span class=\"toc-item-num\">4&nbsp;&nbsp;</span>Проверка алгоритма</a></span><ul class=\"toc-item\"><li><span><a href=\"#Разделение-признаков-на-обучающие-и-тестовые\" data-toc-modified-id=\"Разделение-признаков-на-обучающие-и-тестовые-4.1\"><span class=\"toc-item-num\">4.1&nbsp;&nbsp;</span>Разделение признаков на обучающие и тестовые</a></span></li><li><span><a href=\"#Обучение-модели-без-преобразования\" data-toc-modified-id=\"Обучение-модели-без-преобразования-4.2\"><span class=\"toc-item-num\">4.2&nbsp;&nbsp;</span>Обучение модели без преобразования</a></span></li><li><span><a href=\"#Преобразование-матрицы-признаков\" data-toc-modified-id=\"Преобразование-матрицы-признаков-4.3\"><span class=\"toc-item-num\">4.3&nbsp;&nbsp;</span>Преобразование матрицы признаков</a></span></li><li><span><a href=\"#Обучение-модели-после-преобразования\" data-toc-modified-id=\"Обучение-модели-после-преобразования-4.4\"><span class=\"toc-item-num\">4.4&nbsp;&nbsp;</span>Обучение модели после преобразования</a></span></li></ul></li><li><span><a href=\"#Чек-лист-проверки\" data-toc-modified-id=\"Чек-лист-проверки-5\"><span class=\"toc-item-num\">5&nbsp;&nbsp;</span>Чек-лист проверки</a></span></li></ul></div>"
   ]
  },
  {
   "cell_type": "markdown",
   "metadata": {},
   "source": [
    "# Защита персональных данных клиентов"
   ]
  },
  {
   "cell_type": "markdown",
   "metadata": {},
   "source": [
    "Вам нужно защитить данные клиентов страховой компании «Хоть потоп». Разработайте такой метод преобразования данных, чтобы по ним было сложно восстановить персональную информацию. Обоснуйте корректность его работы.\n",
    "\n",
    "Нужно защитить данные, чтобы при преобразовании качество моделей машинного обучения не ухудшилось. Подбирать наилучшую модель не требуется."
   ]
  },
  {
   "cell_type": "markdown",
   "metadata": {},
   "source": [
    "## Загрузка данных"
   ]
  },
  {
   "cell_type": "markdown",
   "metadata": {},
   "source": [
    "Импортируем необходимые нам библиотеки"
   ]
  },
  {
   "cell_type": "code",
   "execution_count": 1,
   "metadata": {},
   "outputs": [],
   "source": [
    "import pandas as pd\n",
    "import numpy as np\n",
    "from sklearn.model_selection import train_test_split\n",
    "from sklearn.preprocessing import StandardScaler\n",
    "from sklearn.pipeline import Pipeline\n",
    "from sklearn.linear_model import LinearRegression\n",
    "from sklearn.metrics import r2_score\n",
    "from statsmodels.stats.outliers_influence import variance_inflation_factor\n",
    "from statsmodels.tools.tools import add_constant\n",
    "import warnings\n",
    "warnings.filterwarnings(\"ignore\")"
   ]
  },
  {
   "cell_type": "markdown",
   "metadata": {},
   "source": [
    "**Загрузим данные и сохраним их в переменной `data`. Выведем информацию о датасете**"
   ]
  },
  {
   "cell_type": "code",
   "execution_count": 2,
   "metadata": {},
   "outputs": [
    {
     "name": "stdout",
     "output_type": "stream",
     "text": [
      "<class 'pandas.core.frame.DataFrame'>\n",
      "RangeIndex: 5000 entries, 0 to 4999\n",
      "Data columns (total 5 columns):\n",
      " #   Column             Non-Null Count  Dtype  \n",
      "---  ------             --------------  -----  \n",
      " 0   Пол                5000 non-null   int64  \n",
      " 1   Возраст            5000 non-null   float64\n",
      " 2   Зарплата           5000 non-null   float64\n",
      " 3   Члены семьи        5000 non-null   int64  \n",
      " 4   Страховые выплаты  5000 non-null   int64  \n",
      "dtypes: float64(2), int64(3)\n",
      "memory usage: 195.4 KB\n"
     ]
    }
   ],
   "source": [
    "data = pd.read_csv('/datasets/insurance.csv')\n",
    "data.info()"
   ]
  },
  {
   "cell_type": "markdown",
   "metadata": {},
   "source": [
    "Выведем на экран первые 5 строк"
   ]
  },
  {
   "cell_type": "code",
   "execution_count": 3,
   "metadata": {},
   "outputs": [
    {
     "data": {
      "text/html": [
       "<div>\n",
       "<style scoped>\n",
       "    .dataframe tbody tr th:only-of-type {\n",
       "        vertical-align: middle;\n",
       "    }\n",
       "\n",
       "    .dataframe tbody tr th {\n",
       "        vertical-align: top;\n",
       "    }\n",
       "\n",
       "    .dataframe thead th {\n",
       "        text-align: right;\n",
       "    }\n",
       "</style>\n",
       "<table border=\"1\" class=\"dataframe\">\n",
       "  <thead>\n",
       "    <tr style=\"text-align: right;\">\n",
       "      <th></th>\n",
       "      <th>Пол</th>\n",
       "      <th>Возраст</th>\n",
       "      <th>Зарплата</th>\n",
       "      <th>Члены семьи</th>\n",
       "      <th>Страховые выплаты</th>\n",
       "    </tr>\n",
       "  </thead>\n",
       "  <tbody>\n",
       "    <tr>\n",
       "      <th>0</th>\n",
       "      <td>1</td>\n",
       "      <td>41.0</td>\n",
       "      <td>49600.0</td>\n",
       "      <td>1</td>\n",
       "      <td>0</td>\n",
       "    </tr>\n",
       "    <tr>\n",
       "      <th>1</th>\n",
       "      <td>0</td>\n",
       "      <td>46.0</td>\n",
       "      <td>38000.0</td>\n",
       "      <td>1</td>\n",
       "      <td>1</td>\n",
       "    </tr>\n",
       "    <tr>\n",
       "      <th>2</th>\n",
       "      <td>0</td>\n",
       "      <td>29.0</td>\n",
       "      <td>21000.0</td>\n",
       "      <td>0</td>\n",
       "      <td>0</td>\n",
       "    </tr>\n",
       "    <tr>\n",
       "      <th>3</th>\n",
       "      <td>0</td>\n",
       "      <td>21.0</td>\n",
       "      <td>41700.0</td>\n",
       "      <td>2</td>\n",
       "      <td>0</td>\n",
       "    </tr>\n",
       "    <tr>\n",
       "      <th>4</th>\n",
       "      <td>1</td>\n",
       "      <td>28.0</td>\n",
       "      <td>26100.0</td>\n",
       "      <td>0</td>\n",
       "      <td>0</td>\n",
       "    </tr>\n",
       "  </tbody>\n",
       "</table>\n",
       "</div>"
      ],
      "text/plain": [
       "   Пол  Возраст  Зарплата  Члены семьи  Страховые выплаты\n",
       "0    1     41.0   49600.0            1                  0\n",
       "1    0     46.0   38000.0            1                  1\n",
       "2    0     29.0   21000.0            0                  0\n",
       "3    0     21.0   41700.0            2                  0\n",
       "4    1     28.0   26100.0            0                  0"
      ]
     },
     "execution_count": 3,
     "metadata": {},
     "output_type": "execute_result"
    }
   ],
   "source": [
    "data.head()"
   ]
  },
  {
   "cell_type": "markdown",
   "metadata": {},
   "source": [
    "Проверим датасет на наличие пропусков, а так же посмотрим уникальные знаяения столбца `Страховые выплаты`, который является Целевым признаком"
   ]
  },
  {
   "cell_type": "code",
   "execution_count": 4,
   "metadata": {},
   "outputs": [
    {
     "name": "stdout",
     "output_type": "stream",
     "text": [
      "Пропусков в датасете:  Пол                  0\n",
      "Возраст              0\n",
      "Зарплата             0\n",
      "Члены семьи          0\n",
      "Страховые выплаты    0\n",
      "dtype: int64\n",
      "Уникальные значения Целевого признака:  [0 1 2 3 5 4]\n"
     ]
    }
   ],
   "source": [
    "print('Пропусков в датасете: ', data.isna().sum())\n",
    "print('Уникальные значения Целевого признака: ', data['Страховые выплаты'].unique())"
   ]
  },
  {
   "cell_type": "code",
   "execution_count": 5,
   "metadata": {},
   "outputs": [
    {
     "data": {
      "text/plain": [
       "0    4436\n",
       "1     423\n",
       "2     115\n",
       "3      18\n",
       "4       7\n",
       "5       1\n",
       "Name: Страховые выплаты, dtype: int64"
      ]
     },
     "execution_count": 5,
     "metadata": {},
     "output_type": "execute_result"
    }
   ],
   "source": [
    "data['Страховые выплаты'].value_counts()"
   ]
  },
  {
   "cell_type": "code",
   "execution_count": 6,
   "metadata": {},
   "outputs": [
    {
     "data": {
      "text/html": [
       "<div>\n",
       "<style scoped>\n",
       "    .dataframe tbody tr th:only-of-type {\n",
       "        vertical-align: middle;\n",
       "    }\n",
       "\n",
       "    .dataframe tbody tr th {\n",
       "        vertical-align: top;\n",
       "    }\n",
       "\n",
       "    .dataframe thead th {\n",
       "        text-align: right;\n",
       "    }\n",
       "</style>\n",
       "<table border=\"1\" class=\"dataframe\">\n",
       "  <thead>\n",
       "    <tr style=\"text-align: right;\">\n",
       "      <th></th>\n",
       "      <th>Пол</th>\n",
       "      <th>Возраст</th>\n",
       "      <th>Зарплата</th>\n",
       "      <th>Члены семьи</th>\n",
       "      <th>Страховые выплаты</th>\n",
       "    </tr>\n",
       "  </thead>\n",
       "  <tbody>\n",
       "    <tr>\n",
       "      <th>Пол</th>\n",
       "      <td>1.000000</td>\n",
       "      <td>0.002074</td>\n",
       "      <td>0.014910</td>\n",
       "      <td>-0.008991</td>\n",
       "      <td>0.010140</td>\n",
       "    </tr>\n",
       "    <tr>\n",
       "      <th>Возраст</th>\n",
       "      <td>0.002074</td>\n",
       "      <td>1.000000</td>\n",
       "      <td>-0.019093</td>\n",
       "      <td>-0.006692</td>\n",
       "      <td>0.651030</td>\n",
       "    </tr>\n",
       "    <tr>\n",
       "      <th>Зарплата</th>\n",
       "      <td>0.014910</td>\n",
       "      <td>-0.019093</td>\n",
       "      <td>1.000000</td>\n",
       "      <td>-0.030296</td>\n",
       "      <td>-0.014963</td>\n",
       "    </tr>\n",
       "    <tr>\n",
       "      <th>Члены семьи</th>\n",
       "      <td>-0.008991</td>\n",
       "      <td>-0.006692</td>\n",
       "      <td>-0.030296</td>\n",
       "      <td>1.000000</td>\n",
       "      <td>-0.036290</td>\n",
       "    </tr>\n",
       "    <tr>\n",
       "      <th>Страховые выплаты</th>\n",
       "      <td>0.010140</td>\n",
       "      <td>0.651030</td>\n",
       "      <td>-0.014963</td>\n",
       "      <td>-0.036290</td>\n",
       "      <td>1.000000</td>\n",
       "    </tr>\n",
       "  </tbody>\n",
       "</table>\n",
       "</div>"
      ],
      "text/plain": [
       "                        Пол   Возраст  Зарплата  Члены семьи  \\\n",
       "Пол                1.000000  0.002074  0.014910    -0.008991   \n",
       "Возраст            0.002074  1.000000 -0.019093    -0.006692   \n",
       "Зарплата           0.014910 -0.019093  1.000000    -0.030296   \n",
       "Члены семьи       -0.008991 -0.006692 -0.030296     1.000000   \n",
       "Страховые выплаты  0.010140  0.651030 -0.014963    -0.036290   \n",
       "\n",
       "                   Страховые выплаты  \n",
       "Пол                         0.010140  \n",
       "Возраст                     0.651030  \n",
       "Зарплата                   -0.014963  \n",
       "Члены семьи                -0.036290  \n",
       "Страховые выплаты           1.000000  "
      ]
     },
     "execution_count": 6,
     "metadata": {},
     "output_type": "execute_result"
    }
   ],
   "source": [
    "data.corr()"
   ]
  },
  {
   "cell_type": "markdown",
   "metadata": {},
   "source": [
    "Мы видим, что в нашем датасете 5000 значений, пропуски отсутствуют, а целевой признак имеет 6 категорий. Кроме того присутствует разбалансировка классов. Еще мы заметили, что Возраст оказывает на страховые выплаты гораздо большее влияние, чем остальные признаки. Приступим к дальнейшему анализу"
   ]
  },
  {
   "cell_type": "markdown",
   "metadata": {},
   "source": [
    "## Умножение матриц"
   ]
  },
  {
   "cell_type": "markdown",
   "metadata": {},
   "source": [
    "В этом задании вы можете записывать формулы в *Jupyter Notebook.*\n",
    "\n",
    "Чтобы записать формулу внутри текста, окружите её символами доллара \\\\$; если снаружи —  двойными символами \\\\$\\\\$. Эти формулы записываются на языке вёрстки *LaTeX.* \n",
    "\n",
    "Для примера мы записали формулы линейной регрессии. Можете их скопировать и отредактировать, чтобы решить задачу.\n",
    "\n",
    "Работать в *LaTeX* необязательно.***"
   ]
  },
  {
   "cell_type": "markdown",
   "metadata": {},
   "source": [
    "**Задание:\n",
    "Признаки умножают на обратимую матрицу. Изменится ли качество линейной регрессии?**"
   ]
  },
  {
   "cell_type": "markdown",
   "metadata": {},
   "source": [
    "Обозначения:\n",
    "\n",
    "- $X$ — матрица признаков (нулевой столбец состоит из единиц)\n",
    "\n",
    "- $y$ — вектор целевого признака\n",
    "\n",
    "- $P$ — матрица, на которую умножаются признаки\n",
    "\n",
    "- $w$ — вектор весов линейной регрессии (нулевой элемент равен сдвигу)"
   ]
  },
  {
   "cell_type": "markdown",
   "metadata": {},
   "source": [
    "Предсказания:\n",
    "\n",
    "$$\n",
    "a = Xw\n",
    "$$\n",
    "\n",
    "Задача обучения:\n",
    "\n",
    "$$\n",
    "w = \\arg\\min_w MSE(Xw, y)\n",
    "$$\n",
    "\n",
    "Формула обучения:\n",
    "\n",
    "$$\n",
    "w = (X^T X)^{-1} X^T y\n",
    "$$"
   ]
  },
  {
   "cell_type": "markdown",
   "metadata": {},
   "source": [
    "**Ответ:** Не изменится\n",
    "\n",
    "**Обоснование:** \n",
    "Запишем предсказания, полученные после умножения матрицы $Х$ на обратимую матрицу $P$:\n",
    "$$\n",
    "a' = XPw'\n",
    "$$\n",
    "\n",
    "Тогда формула обучения будет иметь вид:\n",
    "$$\n",
    "w'= ((XP)^T XP)^{-1} (XP)^T y\n",
    "$$\n",
    "Преобразуем эту формулу:\n",
    "$w' = ((XP)^T XP)^{-1} (XP)^T y = (P^TX^T XP)^{-1} P^TX^T y = (P^T (X^TX) P)^{-1} P^TX^T y = \n",
    "= /Так как X^TX - квадратная матрица, то получим/ = P^{-1} (X^TX)^{-1} (P^T)^{-1} P^T X^T y = \n",
    "= P^{-1} (X^TX)^{-1} E X^T y = P^{-1} (X^TX)^{-1}  X^T y = P^{-1} w$\n",
    "Мы получили следующее отношение между w и w'\n",
    "$$\n",
    "w' = P^{-1} w \n",
    "$$\n",
    "Теперь запишем предсказания, полученные после умножения матрицы $Х$ на обратимую матрицу $P$:\n",
    "$$a' = XPw' = XPP^{-1} w = X w = a$$\n",
    "\n",
    "Следовательно при умножении матрицы на обратимую матрицу наши предсказания не изменятся, а значит качество модели останется прежним\n",
    " "
   ]
  },
  {
   "cell_type": "markdown",
   "metadata": {},
   "source": [
    "## Алгоритм преобразования"
   ]
  },
  {
   "cell_type": "markdown",
   "metadata": {},
   "source": [
    "**Алгоритм**\n",
    "\n",
    "Для защиты информации будим умножать матрицу признаков на обратимую матрицу Z, сформированную случайным образом. Размерность матрицы будет равна `n*n`, где n - количество признаков, по которым мы будем обучать модель"
   ]
  },
  {
   "cell_type": "markdown",
   "metadata": {},
   "source": [
    "**Обоснование**\n",
    "\n",
    "Как было доказано выше, при умножении матрицы признаков на обратимую матрицу, качество можели не меняется."
   ]
  },
  {
   "cell_type": "markdown",
   "metadata": {},
   "source": [
    "## Проверка алгоритма"
   ]
  },
  {
   "cell_type": "markdown",
   "metadata": {},
   "source": [
    "### Разделение признаков на обучающие и тестовые"
   ]
  },
  {
   "cell_type": "code",
   "execution_count": 8,
   "metadata": {},
   "outputs": [],
   "source": [
    "features = data.drop('Страховые выплаты',axis=1)\n",
    "target = data['Страховые выплаты']\n",
    "features_train, features_test, target_train, target_test = train_test_split(\n",
    "    features, target, test_size=0.25, random_state=12345)"
   ]
  },
  {
   "cell_type": "markdown",
   "metadata": {},
   "source": [
    "### Обучение модели без преобразования"
   ]
  },
  {
   "cell_type": "markdown",
   "metadata": {},
   "source": [
    "Обучим модель с помощью линейной регрессии и найдем значение метрики R2"
   ]
  },
  {
   "cell_type": "code",
   "execution_count": 9,
   "metadata": {},
   "outputs": [
    {
     "name": "stdout",
     "output_type": "stream",
     "text": [
      "R2 модели без преобразования:  0.43522757127026546\n"
     ]
    }
   ],
   "source": [
    "model = LinearRegression()\n",
    "model.fit(features_train, target_train)\n",
    "predictions = model.predict(features_test)\n",
    "R2_data = r2_score(target_test, predictions)\n",
    "print('R2 модели без преобразования: ', R2_data)"
   ]
  },
  {
   "cell_type": "markdown",
   "metadata": {},
   "source": [
    "Создадим функцию, которая преобразует нашу матрицу признков, умножив ее на случайную обратимую матрицу\n"
   ]
  },
  {
   "cell_type": "code",
   "execution_count": 10,
   "metadata": {},
   "outputs": [],
   "source": [
    "def new_features(features):\n",
    "    features_new = features\n",
    "    n = features.shape[1]\n",
    "    matrix = np.random.random((n,n))\n",
    "    det_matrix = np.linalg.det(matrix)\n",
    "    while det_matrix ==0:\n",
    "        matrix = np.random.random((n,n))\n",
    "    features_new =  features_new @ matrix\n",
    "    return features_new, matrix"
   ]
  },
  {
   "cell_type": "markdown",
   "metadata": {},
   "source": [
    "### Преобразование матрицы признаков"
   ]
  },
  {
   "cell_type": "code",
   "execution_count": 11,
   "metadata": {},
   "outputs": [
    {
     "name": "stdout",
     "output_type": "stream",
     "text": [
      "             0             1             2             3\n",
      "0  5222.905425  38135.116904  23124.866910  19770.651497\n",
      "1  4004.169098  29229.706796  17717.864796  15158.250725\n",
      "2  2213.313655  16156.169752   9791.657642   8379.665710\n",
      "3  4388.883766  32049.240779  19440.651647  16610.643282\n",
      "4  2749.379112  20072.809481  12169.027094  10408.831524\n",
      "[[0.03547571 0.40458577 0.08872609 0.59429779]\n",
      " [0.18513937 0.92082726 0.08619731 0.80694672]\n",
      " [0.10514022 0.7680698  0.46615038 0.39791735]\n",
      " [0.32433917 0.69641119 0.18538816 0.27204691]]\n"
     ]
    }
   ],
   "source": [
    "features, matrix = new_features(features)\n",
    "print(features.head())\n",
    "print(matrix)"
   ]
  },
  {
   "cell_type": "markdown",
   "metadata": {},
   "source": [
    "### Обучение модели после преобразования "
   ]
  },
  {
   "cell_type": "markdown",
   "metadata": {},
   "source": [
    "Опять разобьем данные на обучающую и тестовую и обучим модель"
   ]
  },
  {
   "cell_type": "code",
   "execution_count": 12,
   "metadata": {},
   "outputs": [
    {
     "name": "stdout",
     "output_type": "stream",
     "text": [
      "R2 модели после преобразования:  0.43522757127084777\n"
     ]
    }
   ],
   "source": [
    "features_train, features_test, target_train, target_test = train_test_split(\n",
    "    features, target, test_size=0.25, random_state=12345)\n",
    "model = LinearRegression()\n",
    "model.fit(features_train, target_train)\n",
    "predictions = model.predict(features_test)\n",
    "R2_data_new = r2_score(target_test, predictions)\n",
    "print('R2 модели после преобразования: ', R2_data_new)"
   ]
  },
  {
   "cell_type": "markdown",
   "metadata": {},
   "source": [
    "Сравним показатели метрики R2 до и после преобразования"
   ]
  },
  {
   "cell_type": "code",
   "execution_count": 13,
   "metadata": {},
   "outputs": [
    {
     "name": "stdout",
     "output_type": "stream",
     "text": [
      "R2 модели без преобразования:  0.43522757127026546\n",
      "R2 модели после преобразования:  0.43522757127084777\n"
     ]
    }
   ],
   "source": [
    "print('R2 модели без преобразования: ', R2_data)\n",
    "print('R2 модели после преобразования: ', R2_data_new)"
   ]
  },
  {
   "cell_type": "markdown",
   "metadata": {},
   "source": [
    "# Наши метрики совпадают с точностью до 10 знаков после запятой, значит мы правильно выполнили шифрование и обезопасили данные пользователей."
   ]
  },
  {
   "cell_type": "markdown",
   "metadata": {},
   "source": [
    "# Вывод\n",
    "# В ходе выполнения проекта были сделаны следующие действия:\n",
    "- Изучены данные\n",
    "- Доказано, что при умножении признаки на обратимую матрицу, качество линейной регрессии не изменяется.\n",
    "- На основания утверждения, описанного выше, создан алгоритм преобразования данных для их защиты\n",
    "- Осуществлено преобразование данных и изучена метрика R2 для данных до преобразования и после\n",
    " \n",
    " **В результате метрики R2 для данных до преобразования и после оказались одинаковыми, а значит мы получили зашифрованные данные.**"
   ]
  }
 ],
 "metadata": {
  "ExecuteTimeLog": [
   {
    "duration": 1232,
    "start_time": "2022-12-23T13:31:59.679Z"
   },
   {
    "duration": 85,
    "start_time": "2022-12-23T13:32:01.957Z"
   },
   {
    "duration": 38,
    "start_time": "2022-12-23T13:32:12.038Z"
   },
   {
    "duration": 16,
    "start_time": "2022-12-23T13:32:42.502Z"
   },
   {
    "duration": 104,
    "start_time": "2022-12-23T13:36:11.560Z"
   },
   {
    "duration": 9,
    "start_time": "2022-12-23T13:36:43.749Z"
   },
   {
    "duration": 2,
    "start_time": "2022-12-23T15:29:56.243Z"
   },
   {
    "duration": 10,
    "start_time": "2022-12-23T15:30:59.531Z"
   },
   {
    "duration": 8,
    "start_time": "2022-12-23T15:31:51.443Z"
   },
   {
    "duration": 3,
    "start_time": "2022-12-23T15:38:05.204Z"
   },
   {
    "duration": 9,
    "start_time": "2022-12-23T15:38:35.232Z"
   },
   {
    "duration": 14,
    "start_time": "2022-12-23T15:38:58.690Z"
   },
   {
    "duration": 4,
    "start_time": "2022-12-23T15:40:02.165Z"
   },
   {
    "duration": 18,
    "start_time": "2022-12-23T15:40:05.983Z"
   },
   {
    "duration": 14,
    "start_time": "2022-12-23T15:42:49.396Z"
   },
   {
    "duration": 9,
    "start_time": "2022-12-23T15:44:23.999Z"
   },
   {
    "duration": 1067,
    "start_time": "2022-12-23T15:45:42.711Z"
   },
   {
    "duration": 38,
    "start_time": "2022-12-23T15:45:43.780Z"
   },
   {
    "duration": 16,
    "start_time": "2022-12-23T15:45:43.819Z"
   },
   {
    "duration": 8,
    "start_time": "2022-12-23T15:45:43.838Z"
   },
   {
    "duration": 7,
    "start_time": "2022-12-23T15:45:43.847Z"
   },
   {
    "duration": 4,
    "start_time": "2022-12-23T15:45:43.856Z"
   },
   {
    "duration": 6,
    "start_time": "2022-12-23T15:45:43.862Z"
   },
   {
    "duration": 6,
    "start_time": "2022-12-23T15:45:43.869Z"
   },
   {
    "duration": 26,
    "start_time": "2022-12-23T15:45:43.876Z"
   },
   {
    "duration": 4,
    "start_time": "2022-12-23T15:54:13.398Z"
   },
   {
    "duration": 105,
    "start_time": "2022-12-23T15:55:15.200Z"
   },
   {
    "duration": 4,
    "start_time": "2022-12-23T15:55:48.945Z"
   },
   {
    "duration": 185,
    "start_time": "2022-12-23T15:55:49.540Z"
   },
   {
    "duration": 3,
    "start_time": "2022-12-23T15:56:11.379Z"
   },
   {
    "duration": 175,
    "start_time": "2022-12-23T15:56:12.251Z"
   },
   {
    "duration": 42,
    "start_time": "2022-12-23T15:56:30.883Z"
   },
   {
    "duration": 51,
    "start_time": "2022-12-23T15:56:39.042Z"
   },
   {
    "duration": 3,
    "start_time": "2022-12-23T15:56:45.291Z"
   },
   {
    "duration": 8,
    "start_time": "2022-12-23T15:56:46.091Z"
   },
   {
    "duration": 8,
    "start_time": "2022-12-23T15:58:46.334Z"
   },
   {
    "duration": 7,
    "start_time": "2022-12-23T15:58:54.910Z"
   },
   {
    "duration": 12,
    "start_time": "2022-12-23T15:59:24.082Z"
   },
   {
    "duration": 5,
    "start_time": "2022-12-23T16:01:25.121Z"
   },
   {
    "duration": 4,
    "start_time": "2022-12-23T17:13:05.037Z"
   },
   {
    "duration": 8,
    "start_time": "2022-12-23T17:13:06.014Z"
   },
   {
    "duration": 22,
    "start_time": "2022-12-23T17:13:07.295Z"
   },
   {
    "duration": 4,
    "start_time": "2022-12-23T17:13:08.969Z"
   },
   {
    "duration": 1195,
    "start_time": "2022-12-23T17:19:05.790Z"
   },
   {
    "duration": 46,
    "start_time": "2022-12-23T17:19:06.988Z"
   },
   {
    "duration": 18,
    "start_time": "2022-12-23T17:19:07.036Z"
   },
   {
    "duration": 6,
    "start_time": "2022-12-23T17:19:07.057Z"
   },
   {
    "duration": 9,
    "start_time": "2022-12-23T17:19:07.065Z"
   },
   {
    "duration": 10,
    "start_time": "2022-12-23T17:19:07.077Z"
   },
   {
    "duration": 8,
    "start_time": "2022-12-23T17:19:07.097Z"
   },
   {
    "duration": 12,
    "start_time": "2022-12-23T17:19:07.109Z"
   },
   {
    "duration": 11,
    "start_time": "2022-12-23T17:19:07.122Z"
   },
   {
    "duration": 4,
    "start_time": "2022-12-23T17:19:07.135Z"
   },
   {
    "duration": 47,
    "start_time": "2022-12-24T05:20:02.537Z"
   },
   {
    "duration": 1679,
    "start_time": "2022-12-24T05:20:06.423Z"
   },
   {
    "duration": 50,
    "start_time": "2022-12-24T05:20:08.104Z"
   },
   {
    "duration": 14,
    "start_time": "2022-12-24T05:20:08.156Z"
   },
   {
    "duration": 8,
    "start_time": "2022-12-24T05:20:08.171Z"
   },
   {
    "duration": 9,
    "start_time": "2022-12-24T05:20:08.182Z"
   },
   {
    "duration": 14,
    "start_time": "2022-12-24T05:20:08.193Z"
   },
   {
    "duration": 4,
    "start_time": "2022-12-24T05:20:08.209Z"
   },
   {
    "duration": 28,
    "start_time": "2022-12-24T05:20:08.214Z"
   },
   {
    "duration": 14,
    "start_time": "2022-12-24T05:20:08.243Z"
   },
   {
    "duration": 5,
    "start_time": "2022-12-24T05:20:08.259Z"
   },
   {
    "duration": 8,
    "start_time": "2022-12-24T05:20:08.265Z"
   },
   {
    "duration": 1122,
    "start_time": "2022-12-24T08:11:40.751Z"
   },
   {
    "duration": 92,
    "start_time": "2022-12-24T08:11:41.876Z"
   },
   {
    "duration": 16,
    "start_time": "2022-12-24T08:11:41.969Z"
   },
   {
    "duration": 6,
    "start_time": "2022-12-24T08:11:41.987Z"
   },
   {
    "duration": 9,
    "start_time": "2022-12-24T08:11:41.995Z"
   },
   {
    "duration": 14,
    "start_time": "2022-12-24T08:11:42.005Z"
   },
   {
    "duration": 20,
    "start_time": "2022-12-24T08:11:42.021Z"
   },
   {
    "duration": 12,
    "start_time": "2022-12-24T08:11:42.043Z"
   },
   {
    "duration": 16,
    "start_time": "2022-12-24T08:11:42.057Z"
   },
   {
    "duration": 4,
    "start_time": "2022-12-24T08:11:42.075Z"
   },
   {
    "duration": 111,
    "start_time": "2022-12-24T08:16:37.388Z"
   },
   {
    "duration": 5,
    "start_time": "2022-12-24T08:16:45.839Z"
   },
   {
    "duration": 12,
    "start_time": "2022-12-24T08:18:30.273Z"
   },
   {
    "duration": 13,
    "start_time": "2022-12-24T08:18:59.268Z"
   },
   {
    "duration": 8,
    "start_time": "2022-12-24T08:19:24.541Z"
   },
   {
    "duration": 1081,
    "start_time": "2022-12-24T14:40:00.668Z"
   },
   {
    "duration": 37,
    "start_time": "2022-12-24T14:40:01.752Z"
   },
   {
    "duration": 17,
    "start_time": "2022-12-24T14:40:01.791Z"
   },
   {
    "duration": 22,
    "start_time": "2022-12-24T14:40:01.816Z"
   },
   {
    "duration": 31,
    "start_time": "2022-12-24T14:40:01.840Z"
   },
   {
    "duration": 123,
    "start_time": "2022-12-24T14:40:01.872Z"
   },
   {
    "duration": 0,
    "start_time": "2022-12-24T14:40:01.997Z"
   },
   {
    "duration": 0,
    "start_time": "2022-12-24T14:40:01.998Z"
   },
   {
    "duration": 0,
    "start_time": "2022-12-24T14:40:01.999Z"
   },
   {
    "duration": 0,
    "start_time": "2022-12-24T14:40:02.000Z"
   },
   {
    "duration": 0,
    "start_time": "2022-12-24T14:40:02.001Z"
   },
   {
    "duration": 15,
    "start_time": "2022-12-24T14:42:42.768Z"
   },
   {
    "duration": 14,
    "start_time": "2022-12-24T14:53:45.942Z"
   },
   {
    "duration": 39,
    "start_time": "2022-12-24T15:00:32.984Z"
   },
   {
    "duration": 49,
    "start_time": "2022-12-24T15:00:37.233Z"
   },
   {
    "duration": 130,
    "start_time": "2022-12-24T15:00:43.401Z"
   },
   {
    "duration": 40,
    "start_time": "2022-12-24T15:00:51.280Z"
   },
   {
    "duration": 1999,
    "start_time": "2022-12-24T15:08:18.972Z"
   },
   {
    "duration": 16,
    "start_time": "2022-12-24T15:10:38.315Z"
   },
   {
    "duration": 1155,
    "start_time": "2022-12-24T15:24:47.759Z"
   },
   {
    "duration": 35,
    "start_time": "2022-12-24T15:24:48.917Z"
   },
   {
    "duration": 15,
    "start_time": "2022-12-24T15:24:48.954Z"
   },
   {
    "duration": 6,
    "start_time": "2022-12-24T15:24:48.971Z"
   },
   {
    "duration": 5,
    "start_time": "2022-12-24T15:24:48.979Z"
   },
   {
    "duration": 14,
    "start_time": "2022-12-24T15:24:48.986Z"
   },
   {
    "duration": 47,
    "start_time": "2022-12-24T15:24:49.002Z"
   },
   {
    "duration": 0,
    "start_time": "2022-12-24T15:24:49.051Z"
   },
   {
    "duration": 0,
    "start_time": "2022-12-24T15:24:49.053Z"
   },
   {
    "duration": 0,
    "start_time": "2022-12-24T15:24:49.054Z"
   },
   {
    "duration": 0,
    "start_time": "2022-12-24T15:24:49.056Z"
   },
   {
    "duration": 0,
    "start_time": "2022-12-24T15:24:49.057Z"
   },
   {
    "duration": 0,
    "start_time": "2022-12-24T15:24:49.058Z"
   },
   {
    "duration": 6,
    "start_time": "2022-12-24T15:25:09.133Z"
   },
   {
    "duration": 10,
    "start_time": "2022-12-24T15:25:10.621Z"
   },
   {
    "duration": 3,
    "start_time": "2022-12-24T15:25:11.061Z"
   },
   {
    "duration": 7,
    "start_time": "2022-12-24T15:25:11.534Z"
   },
   {
    "duration": 11,
    "start_time": "2022-12-24T15:25:12.664Z"
   },
   {
    "duration": 4,
    "start_time": "2022-12-24T15:25:13.444Z"
   }
  ],
  "kernelspec": {
   "display_name": "Python 3 (ipykernel)",
   "language": "python",
   "name": "python3"
  },
  "language_info": {
   "codemirror_mode": {
    "name": "ipython",
    "version": 3
   },
   "file_extension": ".py",
   "mimetype": "text/x-python",
   "name": "python",
   "nbconvert_exporter": "python",
   "pygments_lexer": "ipython3",
   "version": "3.9.12"
  },
  "toc": {
   "base_numbering": 1,
   "nav_menu": {},
   "number_sections": true,
   "sideBar": true,
   "skip_h1_title": true,
   "title_cell": "Содержание",
   "title_sidebar": "Contents",
   "toc_cell": true,
   "toc_position": {},
   "toc_section_display": true,
   "toc_window_display": false
  }
 },
 "nbformat": 4,
 "nbformat_minor": 2
}
