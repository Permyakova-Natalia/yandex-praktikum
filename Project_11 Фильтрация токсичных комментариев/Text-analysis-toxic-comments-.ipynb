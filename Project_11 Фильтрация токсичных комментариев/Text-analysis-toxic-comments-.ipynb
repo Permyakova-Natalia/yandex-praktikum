{
 "cells": [
  {
   "cell_type": "markdown",
   "id": "2b5411f9",
   "metadata": {},
   "source": [
    "# Проект для «Викишоп»"
   ]
  },
  {
   "cell_type": "markdown",
   "id": "c5b6b380",
   "metadata": {},
   "source": [
    "Интернет-магазин «Викишоп» запускает новый сервис. Теперь пользователи могут редактировать и дополнять описания товаров, как в вики-сообществах. То есть клиенты предлагают свои правки и комментируют изменения других. Магазину нужен инструмент, который будет искать токсичные комментарии и отправлять их на модерацию. \n",
    "\n",
    "Обучите модель классифицировать комментарии на позитивные и негативные. В вашем распоряжении набор данных с разметкой о токсичности правок.\n",
    "\n",
    "Постройте модель со значением метрики качества *F1* не меньше 0.75. \n",
    "\n",
    "**Инструкция по выполнению проекта**\n",
    "\n",
    "1. Загрузите и подготовьте данные.\n",
    "2. Обучите разные модели. \n",
    "3. Сделайте выводы.\n",
    "\n",
    "\n",
    "\n",
    "**Описание данных**\n",
    "\n",
    "Данные находятся в файле `toxic_comments.csv`. Столбец *text* в нём содержит текст комментария, а *toxic* — целевой признак."
   ]
  },
  {
   "cell_type": "markdown",
   "id": "387b4b77",
   "metadata": {},
   "source": []
  },
  {
   "cell_type": "markdown",
   "id": "10cdd5fe",
   "metadata": {},
   "source": [
    "## 1. Подготовка данных"
   ]
  },
  {
   "cell_type": "markdown",
   "id": "dff8e534",
   "metadata": {},
   "source": [
    "Импортируем все необходимые библиотеки"
   ]
  },
  {
   "cell_type": "code",
   "execution_count": 28,
   "id": "db24763e",
   "metadata": {},
   "outputs": [
    {
     "name": "stderr",
     "output_type": "stream",
     "text": [
      "[nltk_data] Downloading package stopwords to C:\\Users\\Андрей и\n",
      "[nltk_data]     Алинушка\\AppData\\Roaming\\nltk_data...\n",
      "[nltk_data]   Package stopwords is already up-to-date!\n",
      "[nltk_data] Downloading package wordnet to C:\\Users\\Андрей и\n",
      "[nltk_data]     Алинушка\\AppData\\Roaming\\nltk_data...\n",
      "[nltk_data]   Package wordnet is already up-to-date!\n",
      "[nltk_data] Downloading package omw-1.4 to C:\\Users\\Андрей и\n",
      "[nltk_data]     Алинушка\\AppData\\Roaming\\nltk_data...\n",
      "[nltk_data]   Package omw-1.4 is already up-to-date!\n"
     ]
    }
   ],
   "source": [
    "import pandas as pd\n",
    "import numpy as np\n",
    "import re \n",
    "import time\n",
    "import matplotlib.pyplot as plt\n",
    "from tqdm import notebook\n",
    "#from pymystem3 import Mystem\n",
    "import nltk\n",
    "nltk.download('stopwords') \n",
    "nltk.download('wordnet')\n",
    "nltk.download('omw-1.4')\n",
    "from nltk.corpus import stopwords as nltk_stopwords\n",
    "from textblob import TextBlob, Word\n",
    "#from nltk.stem import WordNetLemmatizer\n",
    "from sklearn.model_selection import train_test_split\n",
    "from sklearn.model_selection import cross_val_score\n",
    "from sklearn.model_selection import GridSearchCV\n",
    "from sklearn.ensemble import RandomForestClassifier\n",
    "from sklearn.linear_model import LogisticRegression \n",
    "from catboost import CatBoostClassifier\n",
    "from sklearn.feature_extraction.text import TfidfVectorizer \n",
    "from sklearn.metrics import f1_score\n",
    "from sklearn.metrics import roc_curve\n",
    "from sklearn.metrics import roc_auc_score \n",
    "import warnings\n",
    "warnings.filterwarnings('ignore')"
   ]
  },
  {
   "cell_type": "markdown",
   "id": "a561dfa2",
   "metadata": {},
   "source": [
    "Сохраним датасет в переменной `data`"
   ]
  },
  {
   "cell_type": "code",
   "execution_count": 3,
   "id": "4c42c0af",
   "metadata": {},
   "outputs": [
    {
     "data": {
      "text/html": [
       "<div>\n",
       "<style scoped>\n",
       "    .dataframe tbody tr th:only-of-type {\n",
       "        vertical-align: middle;\n",
       "    }\n",
       "\n",
       "    .dataframe tbody tr th {\n",
       "        vertical-align: top;\n",
       "    }\n",
       "\n",
       "    .dataframe thead th {\n",
       "        text-align: right;\n",
       "    }\n",
       "</style>\n",
       "<table border=\"1\" class=\"dataframe\">\n",
       "  <thead>\n",
       "    <tr style=\"text-align: right;\">\n",
       "      <th></th>\n",
       "      <th>text</th>\n",
       "      <th>toxic</th>\n",
       "    </tr>\n",
       "  </thead>\n",
       "  <tbody>\n",
       "    <tr>\n",
       "      <th>0</th>\n",
       "      <td>Explanation\\nWhy the edits made under my usern...</td>\n",
       "      <td>0</td>\n",
       "    </tr>\n",
       "    <tr>\n",
       "      <th>1</th>\n",
       "      <td>D'aww! He matches this background colour I'm s...</td>\n",
       "      <td>0</td>\n",
       "    </tr>\n",
       "    <tr>\n",
       "      <th>2</th>\n",
       "      <td>Hey man, I'm really not trying to edit war. It...</td>\n",
       "      <td>0</td>\n",
       "    </tr>\n",
       "    <tr>\n",
       "      <th>3</th>\n",
       "      <td>\"\\nMore\\nI can't make any real suggestions on ...</td>\n",
       "      <td>0</td>\n",
       "    </tr>\n",
       "    <tr>\n",
       "      <th>4</th>\n",
       "      <td>You, sir, are my hero. Any chance you remember...</td>\n",
       "      <td>0</td>\n",
       "    </tr>\n",
       "  </tbody>\n",
       "</table>\n",
       "</div>"
      ],
      "text/plain": [
       "                                                text  toxic\n",
       "0  Explanation\\nWhy the edits made under my usern...      0\n",
       "1  D'aww! He matches this background colour I'm s...      0\n",
       "2  Hey man, I'm really not trying to edit war. It...      0\n",
       "3  \"\\nMore\\nI can't make any real suggestions on ...      0\n",
       "4  You, sir, are my hero. Any chance you remember...      0"
      ]
     },
     "execution_count": 3,
     "metadata": {},
     "output_type": "execute_result"
    }
   ],
   "source": [
    "data = pd.read_csv('toxic_comments.csv', index_col = [0])\n",
    "data.head()"
   ]
  },
  {
   "cell_type": "markdown",
   "id": "2b545ba6",
   "metadata": {},
   "source": [
    "Создадим корпус слов"
   ]
  },
  {
   "cell_type": "code",
   "execution_count": 4,
   "id": "6190cc57",
   "metadata": {},
   "outputs": [
    {
     "data": {
      "text/plain": [
       "159292"
      ]
     },
     "execution_count": 4,
     "metadata": {},
     "output_type": "execute_result"
    }
   ],
   "source": [
    "corpus = data['text'].values\n",
    "len(corpus)\n",
    "\n"
   ]
  },
  {
   "cell_type": "markdown",
   "id": "a4ba3735",
   "metadata": {},
   "source": [
    "<div class=\"alert alert-danger\">\n",
    "<b>1 Комментарий ревьюера ❌:</b> \n",
    "    \n",
    "`Unicode` для английского языка не требуется, но занимает доп. память, из-за чего ядро может падать"
   ]
  },
  {
   "cell_type": "markdown",
   "id": "5c0a838f",
   "metadata": {},
   "source": [
    "<div class=\"alert alert-success\">\n",
    "<b>2 Комментарий ревьюера ✔️:</b> \n",
    "    \n",
    "Верно!"
   ]
  },
  {
   "cell_type": "markdown",
   "id": "dc9d9850",
   "metadata": {},
   "source": [
    "Создадим функцию по очистке данных       \n"
   ]
  },
  {
   "cell_type": "code",
   "execution_count": 5,
   "id": "3ca04163",
   "metadata": {},
   "outputs": [],
   "source": [
    "def clear_text(text):\n",
    "    clear = re.sub(r'[^a-zA-Z ]', ' ', text) \n",
    "    clear = clear.split()\n",
    "    clear = \" \".join(clear)\n",
    "    return clear"
   ]
  },
  {
   "cell_type": "markdown",
   "id": "8e17462b",
   "metadata": {},
   "source": [
    "<div class=\"alert alert-success\">\n",
    "<b>1 Комментарий ревьюера ✔️:</b> \n",
    "    \n",
    "Правильная очистка!"
   ]
  },
  {
   "cell_type": "markdown",
   "id": "0f873eb6",
   "metadata": {},
   "source": [
    "создадим список и передадим в него очищенные и лемматизированные данные"
   ]
  },
  {
   "cell_type": "code",
   "execution_count": 6,
   "id": "797ee377",
   "metadata": {},
   "outputs": [
    {
     "data": {
      "application/vnd.jupyter.widget-view+json": {
       "model_id": "f2ec606cd47f47d2899d1936898f1969",
       "version_major": 2,
       "version_minor": 0
      },
      "text/plain": [
       "  0%|          | 0/159292 [00:00<?, ?it/s]"
      ]
     },
     "metadata": {},
     "output_type": "display_data"
    }
   ],
   "source": [
    "lemm=[]\n",
    "\n",
    "for i in notebook.tqdm(range(len(corpus))):\n",
    "    s = TextBlob(corpus[i])\n",
    "    lemm.append(\" \".join([w.lemmatize() for w in s.words]))\n",
    "# создадим столбец с очищенными и лемматизированными данными\n",
    "data['lemm_text']=pd.Series(lemm, index=data.index)"
   ]
  },
  {
   "cell_type": "markdown",
   "id": "d92d0720",
   "metadata": {},
   "source": [
    "<div class=\"alert alert-danger\">\n",
    "<b>1 Комментарий ревьюера ❌:</b> \n",
    "    \n",
    "`WordNetLemmatizer` лемматизирует слова, а не текст целиком.\n",
    "    \n",
    "Статья про лемматизацию: https://www.geeksforgeeks.org/python-lemmatization-approaches-with-examples/"
   ]
  },
  {
   "cell_type": "markdown",
   "id": "72ab5454",
   "metadata": {},
   "source": [
    "<div class=\"alert alert-info\"> <b> Исправлено </font></div></font>\n"
   ]
  },
  {
   "cell_type": "markdown",
   "id": "ffab3218",
   "metadata": {},
   "source": [
    "<div class=\"alert alert-success\">\n",
    "<b>2 Комментарий ревьюера ✔️:</b> \n",
    "    \n",
    "Хорошо"
   ]
  },
  {
   "cell_type": "markdown",
   "id": "489f5b15",
   "metadata": {},
   "source": [
    "Посмотрим на распределение классов в данных"
   ]
  },
  {
   "cell_type": "code",
   "execution_count": 8,
   "id": "a031c2c6",
   "metadata": {},
   "outputs": [
    {
     "data": {
      "text/plain": [
       "0    143106\n",
       "1     16186\n",
       "Name: toxic, dtype: int64"
      ]
     },
     "execution_count": 8,
     "metadata": {},
     "output_type": "execute_result"
    }
   ],
   "source": [
    "data['toxic'].value_counts()"
   ]
  },
  {
   "cell_type": "code",
   "execution_count": 9,
   "id": "0dc559b3",
   "metadata": {},
   "outputs": [
    {
     "data": {
      "image/png": "[encoded data removed]",
      "text/plain": [
       "<Figure size 720x720 with 1 Axes>"
      ]
     },
     "metadata": {},
     "output_type": "display_data"
    }
   ],
   "source": [
    "data['toxic'].value_counts(normalize=True).plot(kind='pie',figsize=[10,10], legend=False, autopct='%1.1f%%',labels=['Отзыв не токсичный','Отзыв токсичный'])\n",
    "plt.title('Баланс распределения классов в данных')\n",
    "plt.ylabel('')\n",
    "plt.show()"
   ]
  },
  {
   "cell_type": "markdown",
   "id": "b2eec181",
   "metadata": {},
   "source": [
    "<div class=\"alert alert-success\">\n",
    "<b>1 Комментарий ревьюера ✔️:</b> \n",
    "    \n",
    "Дисбаланс обнаружен в таргете!"
   ]
  },
  {
   "cell_type": "markdown",
   "id": "e1b195b9",
   "metadata": {},
   "source": [
    "Разобьем наш датасет на тренировочный и тестовый, чтобы убрать дисбаланс классов воспользуемся параметром `stratify`"
   ]
  },
  {
   "cell_type": "code",
   "execution_count": 10,
   "id": "fccaedeb",
   "metadata": {},
   "outputs": [],
   "source": [
    "features=data.drop('toxic',axis=1)\n",
    "target=data['toxic']\n",
    "features_train, features_test, target_train, target_test = train_test_split(features, target, test_size=0.25, \n",
    "                                                                            random_state=42, shuffle=True,stratify=target)"
   ]
  },
  {
   "cell_type": "markdown",
   "id": "7c988ba0",
   "metadata": {},
   "source": [
    "Удалим ненужные датасеты, чтобы осоводить память"
   ]
  },
  {
   "cell_type": "code",
   "execution_count": 11,
   "id": "410a5980",
   "metadata": {},
   "outputs": [],
   "source": [
    "del data, features, target"
   ]
  },
  {
   "cell_type": "markdown",
   "id": "0ad38afa",
   "metadata": {},
   "source": [
    "### Используем технологию `TF-IDF` для обработки наших данных, а так же отфильтруем содержимое при помощи библиотеки `nltk`\n"
   ]
  },
  {
   "cell_type": "markdown",
   "id": "c29ba63a",
   "metadata": {},
   "source": [
    "Загрузим библиотеку и стоп-слова из английского языка"
   ]
  },
  {
   "cell_type": "code",
   "execution_count": 12,
   "id": "bb4c325f",
   "metadata": {},
   "outputs": [],
   "source": [
    "stop_words = set(nltk_stopwords.words('english')) "
   ]
  },
  {
   "cell_type": "markdown",
   "id": "e5bb0c71",
   "metadata": {},
   "source": [
    "Применим модель `TfidfVectorizer` и обучим её на наших тренировочных данных"
   ]
  },
  {
   "cell_type": "code",
   "execution_count": 13,
   "id": "5674bbf7",
   "metadata": {},
   "outputs": [
    {
     "data": {
      "text/plain": [
       "<119469x154508 sparse matrix of type '<class 'numpy.float64'>'\n",
       "\twith 3365242 stored elements in Compressed Sparse Row format>"
      ]
     },
     "execution_count": 13,
     "metadata": {},
     "output_type": "execute_result"
    }
   ],
   "source": [
    "count_tf_idf = TfidfVectorizer(stop_words=stop_words) \n",
    "corpus_train = features_train['lemm_text'].values.astype('U')\n",
    "tf_idf_train = count_tf_idf.fit_transform(corpus_train) \n",
    "tf_idf_train"
   ]
  },
  {
   "cell_type": "markdown",
   "id": "404aa111",
   "metadata": {},
   "source": [
    "<div class=\"alert alert-success\">\n",
    "<b>1 Комментарий ревьюера ✔️:</b> \n",
    "    \n",
    "Нет утечки тестовых данных! Здорово, что ты не забываешь про `stop_words`"
   ]
  },
  {
   "cell_type": "markdown",
   "id": "2584869a",
   "metadata": {},
   "source": [
    "Создадим так же корпус слов и для тестовой выборки"
   ]
  },
  {
   "cell_type": "code",
   "execution_count": 14,
   "id": "362b8e84",
   "metadata": {},
   "outputs": [
    {
     "data": {
      "text/plain": [
       "<39823x154508 sparse matrix of type '<class 'numpy.float64'>'\n",
       "\twith 1081004 stored elements in Compressed Sparse Row format>"
      ]
     },
     "execution_count": 14,
     "metadata": {},
     "output_type": "execute_result"
    }
   ],
   "source": [
    "corpus_test = features_test['lemm_text'].values.astype('U')\n",
    "tf_idf_test = count_tf_idf.transform(corpus_test) \n",
    "tf_idf_test"
   ]
  },
  {
   "cell_type": "code",
   "execution_count": 15,
   "id": "e654bf4b",
   "metadata": {},
   "outputs": [],
   "source": [
    "# Снова удалим ненужные переменные\n",
    "del features_train, features_test, corpus_train, corpus_test"
   ]
  },
  {
   "cell_type": "markdown",
   "id": "21fb914b",
   "metadata": {},
   "source": [
    "# Вывод\n",
    "Мы загрузили и подготовили данные, провели очищение и лемматизацию данных. А так же обработали наши данные с помощью технологии `TF-IDF`, разделили данные на тренировочные и тестовые, выделели целевой признак. Теперь у нас все готово к обучению моделей"
   ]
  },
  {
   "cell_type": "markdown",
   "id": "57c84b00",
   "metadata": {},
   "source": [
    "## 2. Обучение"
   ]
  },
  {
   "cell_type": "markdown",
   "id": "a5209b16",
   "metadata": {},
   "source": [
    "<div class=\"alert alert-warning\">\n",
    "<b>1 Комментарий ревьюера ⚠️:</b> \n",
    "    \n",
    "Немного про утечку тестовых данных (совет): если делать кросс-валидацию на признаках TF-IDF - произойдет утечка тестовых данных. Чтобы не попадала информация о словах из тест. выборки в тренировочную, мы обучаем `TfidfVectorizer` на тренировочной выборке, после чего трансформируем тест. выборку. <br>**Но наша ситуация при кросс-валидации**: тренировочная выборка делится на тренировочные фолды и тестовый фолд, при этом `TfidfVectorizer` обучался на всех фолдах в сумме. Решение проблемы: [Pipelines](https://stackoverflow.com/questions/46010617/do-i-use-the-same-tfidf-vocabulary-in-k-fold-cross-validation), где получение признаков `TF-IDF` происходит каждый раз, когда выборка делится на тренировочные и тестовые фолды \n",
    "\n",
    "```python\n",
    "from sklearn.feature_extraction.text import CountVectorizer\n",
    "\n",
    "pipeline = Pipeline([\n",
    "           ('vect', TfidfVectorizer()),\n",
    "           ('clf', SGDClassifier()),\n",
    "])\n",
    "parameters = [{\n",
    "    'vect__max_df': (0.5, 0.75, 1.0),\n",
    "    'vect__max_features': (None, 5000, 10000, 50000),\n",
    "    'vect__ngram_range': ((1, 1), (1, 2), (1,3),)  \n",
    "    'tfidf__use_idf': (True, False),\n",
    "    'tfidf__norm': ('l1', 'l2', None),\n",
    "    'clf__max_iter': (20,),\n",
    "    'clf__alpha': (0.00001, 0.000001),\n",
    "    'clf__penalty': ('l2', 'elasticnet'),\n",
    "    'clf__max_iter': (10, 50, 80)\n",
    "},{\n",
    "    'vect': (CountVectorizer(),)\n",
    "    # count_vect_params...\n",
    "    'clf__max_iter': (20,),\n",
    "    'clf__alpha': (0.00001, 0.000001),\n",
    "    'clf__penalty': ('l2', 'elasticnet'),\n",
    "    'clf__max_iter': (10, 50, 80)\n",
    "}]\n",
    "\n",
    "grid_search = GridSearchCV(pipeline, parameters)\n",
    "```\n",
    "\n",
    "</div>\n"
   ]
  },
  {
   "cell_type": "markdown",
   "id": "7b5ccb89",
   "metadata": {},
   "source": [
    "<div class=\"alert alert-info\"> К своему стыду я пока не смогла разобраться с работой pipeline, в курсе практикума это не обсуждается, а время на  дополнительное изучения яндекс своими жесткими дедлайнами не оставляет. Я дополнила ваш код последней строкой, как мы обычно работаем с GridSearchCV, но у меня вылазиет ошибка. Пока не могу понеять технологию работы этого инструмента<b> \n",
    "\n",
    "```python\n",
    "from sklearn.feature_extraction.text import CountVectorizer\n",
    "\n",
    "pipeline = Pipeline([\n",
    "           ('vect', TfidfVectorizer()),\n",
    "           ('clf', SGDClassifier()),\n",
    "])\n",
    "parameters = [{\n",
    "    'vect__max_df': (0.5, 0.75, 1.0),\n",
    "    'vect__max_features': (None, 5000, 10000, 50000),\n",
    "    'vect__ngram_range': ((1, 1), (1, 2), (1,3),)  \n",
    "    'tfidf__use_idf': (True, False),\n",
    "    'tfidf__norm': ('l1', 'l2', None),\n",
    "    'clf__max_iter': (20,),\n",
    "    'clf__alpha': (0.00001, 0.000001),\n",
    "    'clf__penalty': ('l2', 'elasticnet'),\n",
    "    'clf__max_iter': (10, 50, 80)\n",
    "},{\n",
    "    'vect': (CountVectorizer(),)\n",
    "    # count_vect_params...\n",
    "    'clf__max_iter': (20,),\n",
    "    'clf__alpha': (0.00001, 0.000001),\n",
    "    'clf__penalty': ('l2', 'elasticnet'),\n",
    "    'clf__max_iter': (10, 50, 80)\n",
    "}]\n",
    "\n",
    "grid_search = GridSearchCV(pipeline, parameters)\n",
    "grid_search.fit(tf_idf_train, target_train)\n",
    "```\n",
    "\n",
    "</div>"
   ]
  },
  {
   "cell_type": "markdown",
   "id": "27960b5d",
   "metadata": {},
   "source": [
    "<div class=\"alert alert-warning\">\n",
    "<b>2 Комментарий ревьюера ⚠️:</b> \n",
    "\n",
    "Скорее всего дело в том, что ты передаешь не текст, а TF-IDF признаки для обучения. Мы ведь при обучении автоматически из текста получаем `TF-IDF`, т.к. в `Pipeline` `TfidfVectorizer` стоит входным слоем. Т.е. схема получается такая:\n",
    "\n",
    "`Запущен fit -> текст автоматически передается в TfidfVectorizer -> TF-IDF передается в SGDClassifier`"
   ]
  },
  {
   "cell_type": "markdown",
   "id": "95db5ac9",
   "metadata": {},
   "source": [
    "### Логистическая регрессия"
   ]
  },
  {
   "cell_type": "code",
   "execution_count": 22,
   "id": "40362097",
   "metadata": {},
   "outputs": [
    {
     "name": "stdout",
     "output_type": "stream",
     "text": [
      "CPU times: total: 3min 17s\n",
      "Wall time: 3min 24s\n"
     ]
    }
   ],
   "source": [
    "%%time\n",
    "\n",
    "model_lr = LogisticRegression(random_state=12345, solver='sag',class_weight='balanced')\n",
    "parametrs_lr = { 'C': range (1, 15),\n",
    "              'max_iter': range (6,15,2),\n",
    "              }\n",
    "lr = GridSearchCV(model_lr, parametrs_lr, cv=3, scoring='f1')\n",
    "lr.fit(tf_idf_train, target_train)\n",
    "f1_lr = lr.best_score_\n"
   ]
  },
  {
   "cell_type": "markdown",
   "id": "81cd6c7f",
   "metadata": {},
   "source": [
    "Вывыедем на экран лучший результат метрики f1"
   ]
  },
  {
   "cell_type": "code",
   "execution_count": 23,
   "id": "5d049cd3",
   "metadata": {},
   "outputs": [
    {
     "data": {
      "text/plain": [
       "0.7573989413702343"
      ]
     },
     "execution_count": 23,
     "metadata": {},
     "output_type": "execute_result"
    }
   ],
   "source": [
    "f1_lr"
   ]
  },
  {
   "cell_type": "markdown",
   "id": "e48f61cf",
   "metadata": {},
   "source": [
    "Посмотрим на параметыр лучшей модели"
   ]
  },
  {
   "cell_type": "code",
   "execution_count": 24,
   "id": "7e1538b2",
   "metadata": {},
   "outputs": [
    {
     "data": {
      "text/plain": [
       "{'C': 3, 'max_iter': 10}"
      ]
     },
     "execution_count": 24,
     "metadata": {},
     "output_type": "execute_result"
    }
   ],
   "source": [
    "lr.best_params_"
   ]
  },
  {
   "cell_type": "markdown",
   "id": "827f5508",
   "metadata": {},
   "source": [
    "### \"Случайный лес\""
   ]
  },
  {
   "cell_type": "code",
   "execution_count": 16,
   "id": "e144e59f",
   "metadata": {},
   "outputs": [
    {
     "name": "stdout",
     "output_type": "stream",
     "text": [
      "CPU times: total: 7min 10s\n",
      "Wall time: 7min 43s\n"
     ]
    },
    {
     "data": {
      "text/plain": [
       "0.3126823358315281"
      ]
     },
     "execution_count": 16,
     "metadata": {},
     "output_type": "execute_result"
    }
   ],
   "source": [
    "%%time\n",
    "model_rf =  RandomForestClassifier(random_state=12345, class_weight='balanced_subsample')\n",
    "grid = {'n_estimators':[10,20,30,40],\n",
    "        'max_depth': [5,6,7,8,9]}\n",
    "rf = GridSearchCV(model_rf, grid,cv=3, scoring='f1')\n",
    "rf.fit(tf_idf_train, target_train)\n",
    "f1_rf_best = rf.best_score_\n"
   ]
  },
  {
   "cell_type": "markdown",
   "id": "b4412a29",
   "metadata": {},
   "source": [
    "Вывыедем на экран лучший результат метрики f1"
   ]
  },
  {
   "cell_type": "code",
   "execution_count": null,
   "id": "384a647b",
   "metadata": {},
   "outputs": [],
   "source": [
    "f1_rf_best"
   ]
  },
  {
   "cell_type": "markdown",
   "id": "a3b70986",
   "metadata": {},
   "source": [
    "### Модель Catboost"
   ]
  },
  {
   "cell_type": "code",
   "execution_count": 17,
   "id": "d2bf5271",
   "metadata": {},
   "outputs": [
    {
     "name": "stdout",
     "output_type": "stream",
     "text": [
      "0:\tlearn: 0.4501931\ttotal: 612ms\tremaining: 1m\n",
      "50:\tlearn: 0.1897192\ttotal: 18.2s\tremaining: 17.5s\n",
      "99:\tlearn: 0.1679399\ttotal: 35.8s\tremaining: 0us\n",
      "0:\tlearn: 0.4501077\ttotal: 362ms\tremaining: 35.9s\n",
      "50:\tlearn: 0.1895848\ttotal: 17.9s\tremaining: 17.2s\n",
      "99:\tlearn: 0.1680083\ttotal: 34.9s\tremaining: 0us\n",
      "0:\tlearn: 0.4481245\ttotal: 369ms\tremaining: 36.5s\n",
      "50:\tlearn: 0.1879366\ttotal: 18.3s\tremaining: 17.6s\n",
      "99:\tlearn: 0.1653878\ttotal: 35.3s\tremaining: 0us\n",
      "0:\tlearn: 0.3969288\ttotal: 411ms\tremaining: 40.7s\n",
      "50:\tlearn: 0.1786432\ttotal: 18.3s\tremaining: 17.5s\n",
      "99:\tlearn: 0.1574520\ttotal: 35.9s\tremaining: 0us\n",
      "0:\tlearn: 0.3969185\ttotal: 374ms\tremaining: 37.1s\n",
      "50:\tlearn: 0.1786197\ttotal: 18.3s\tremaining: 17.6s\n",
      "99:\tlearn: 0.1567003\ttotal: 36.3s\tremaining: 0us\n",
      "0:\tlearn: 0.3945435\ttotal: 361ms\tremaining: 35.8s\n",
      "50:\tlearn: 0.1763139\ttotal: 18s\tremaining: 17.3s\n",
      "99:\tlearn: 0.1541653\ttotal: 35.3s\tremaining: 0us\n",
      "0:\tlearn: 0.4501931\ttotal: 365ms\tremaining: 54.4s\n",
      "50:\tlearn: 0.1897192\ttotal: 18.2s\tremaining: 35.3s\n",
      "100:\tlearn: 0.1676720\ttotal: 36.2s\tremaining: 17.6s\n",
      "149:\tlearn: 0.1549373\ttotal: 53.5s\tremaining: 0us\n",
      "0:\tlearn: 0.4501077\ttotal: 357ms\tremaining: 53.1s\n",
      "50:\tlearn: 0.1895848\ttotal: 18.1s\tremaining: 35.2s\n",
      "100:\tlearn: 0.1677766\ttotal: 36.9s\tremaining: 17.9s\n",
      "149:\tlearn: 0.1547055\ttotal: 55.3s\tremaining: 0us\n",
      "0:\tlearn: 0.4481245\ttotal: 401ms\tremaining: 59.8s\n",
      "50:\tlearn: 0.1879366\ttotal: 17.8s\tremaining: 34.6s\n",
      "100:\tlearn: 0.1649651\ttotal: 34.5s\tremaining: 16.7s\n",
      "149:\tlearn: 0.1510084\ttotal: 51.1s\tremaining: 0us\n",
      "0:\tlearn: 0.3969288\ttotal: 373ms\tremaining: 55.6s\n",
      "50:\tlearn: 0.1786432\ttotal: 17.4s\tremaining: 33.9s\n",
      "100:\tlearn: 0.1572067\ttotal: 34.6s\tremaining: 16.8s\n",
      "149:\tlearn: 0.1452794\ttotal: 51.4s\tremaining: 0us\n",
      "0:\tlearn: 0.3969185\ttotal: 352ms\tremaining: 52.5s\n",
      "50:\tlearn: 0.1786197\ttotal: 19.2s\tremaining: 37.3s\n",
      "100:\tlearn: 0.1563836\ttotal: 37.2s\tremaining: 18s\n",
      "149:\tlearn: 0.1441621\ttotal: 53.8s\tremaining: 0us\n",
      "0:\tlearn: 0.3945435\ttotal: 355ms\tremaining: 52.9s\n",
      "50:\tlearn: 0.1763139\ttotal: 18.1s\tremaining: 35.2s\n",
      "100:\tlearn: 0.1538755\ttotal: 35.9s\tremaining: 17.4s\n",
      "149:\tlearn: 0.1421793\ttotal: 52.5s\tremaining: 0us\n",
      "0:\tlearn: 0.4430110\ttotal: 741ms\tremaining: 1m 13s\n",
      "50:\tlearn: 0.1680702\ttotal: 36.3s\tremaining: 34.9s\n",
      "99:\tlearn: 0.1461256\ttotal: 1m 10s\tremaining: 0us\n",
      "0:\tlearn: 0.4497223\ttotal: 703ms\tremaining: 1m 9s\n",
      "50:\tlearn: 0.1679733\ttotal: 33.8s\tremaining: 32.5s\n",
      "99:\tlearn: 0.1453016\ttotal: 1m 7s\tremaining: 0us\n",
      "0:\tlearn: 0.4430673\ttotal: 698ms\tremaining: 1m 9s\n",
      "50:\tlearn: 0.1653624\ttotal: 34.2s\tremaining: 32.8s\n",
      "99:\tlearn: 0.1418438\ttotal: 1m 6s\tremaining: 0us\n",
      "0:\tlearn: 0.3885512\ttotal: 713ms\tremaining: 1m 10s\n",
      "50:\tlearn: 0.1569753\ttotal: 34.5s\tremaining: 33.1s\n",
      "99:\tlearn: 0.1355209\ttotal: 1m 6s\tremaining: 0us\n",
      "0:\tlearn: 0.3965284\ttotal: 720ms\tremaining: 1m 11s\n",
      "50:\tlearn: 0.1574025\ttotal: 33.7s\tremaining: 32.4s\n",
      "99:\tlearn: 0.1356705\ttotal: 1m 6s\tremaining: 0us\n",
      "0:\tlearn: 0.3885551\ttotal: 691ms\tremaining: 1m 8s\n",
      "50:\tlearn: 0.1542846\ttotal: 33.1s\tremaining: 31.8s\n",
      "99:\tlearn: 0.1331363\ttotal: 1m 5s\tremaining: 0us\n",
      "0:\tlearn: 0.4430110\ttotal: 677ms\tremaining: 1m 40s\n",
      "50:\tlearn: 0.1680702\ttotal: 33.1s\tremaining: 1m 4s\n",
      "100:\tlearn: 0.1459275\ttotal: 1m 4s\tremaining: 31.5s\n",
      "149:\tlearn: 0.1334337\ttotal: 1m 36s\tremaining: 0us\n",
      "0:\tlearn: 0.4497223\ttotal: 661ms\tremaining: 1m 38s\n",
      "50:\tlearn: 0.1679733\ttotal: 33.4s\tremaining: 1m 4s\n",
      "100:\tlearn: 0.1450870\ttotal: 1m 5s\tremaining: 31.9s\n",
      "149:\tlearn: 0.1326854\ttotal: 1m 37s\tremaining: 0us\n",
      "0:\tlearn: 0.4430673\ttotal: 682ms\tremaining: 1m 41s\n",
      "50:\tlearn: 0.1653624\ttotal: 33.1s\tremaining: 1m 4s\n",
      "100:\tlearn: 0.1414950\ttotal: 1m 5s\tremaining: 31.9s\n",
      "149:\tlearn: 0.1305246\ttotal: 1m 37s\tremaining: 0us\n",
      "0:\tlearn: 0.3885512\ttotal: 707ms\tremaining: 1m 45s\n",
      "50:\tlearn: 0.1569753\ttotal: 33.8s\tremaining: 1m 5s\n",
      "100:\tlearn: 0.1353384\ttotal: 1m 6s\tremaining: 32.4s\n",
      "149:\tlearn: 0.1232505\ttotal: 1m 38s\tremaining: 0us\n",
      "0:\tlearn: 0.3965284\ttotal: 661ms\tremaining: 1m 38s\n",
      "50:\tlearn: 0.1574025\ttotal: 33.4s\tremaining: 1m 4s\n",
      "100:\tlearn: 0.1354912\ttotal: 1m 5s\tremaining: 31.9s\n",
      "149:\tlearn: 0.1245533\ttotal: 1m 37s\tremaining: 0us\n",
      "0:\tlearn: 0.3885551\ttotal: 680ms\tremaining: 1m 41s\n",
      "50:\tlearn: 0.1542846\ttotal: 33.6s\tremaining: 1m 5s\n",
      "100:\tlearn: 0.1327930\ttotal: 1m 6s\tremaining: 32.2s\n",
      "149:\tlearn: 0.1217207\ttotal: 1m 37s\tremaining: 0us\n",
      "0:\tlearn: 0.4427144\ttotal: 1.65s\tremaining: 2m 43s\n",
      "50:\tlearn: 0.1546085\ttotal: 1m 15s\tremaining: 1m 12s\n",
      "99:\tlearn: 0.1320786\ttotal: 2m 21s\tremaining: 0us\n",
      "0:\tlearn: 0.4496234\ttotal: 1.75s\tremaining: 2m 53s\n",
      "50:\tlearn: 0.1542313\ttotal: 1m 21s\tremaining: 1m 18s\n",
      "99:\tlearn: 0.1324923\ttotal: 2m 36s\tremaining: 0us\n",
      "0:\tlearn: 0.4365782\ttotal: 1.53s\tremaining: 2m 31s\n",
      "50:\tlearn: 0.1511879\ttotal: 1m 18s\tremaining: 1m 15s\n",
      "99:\tlearn: 0.1301468\ttotal: 2m 34s\tremaining: 0us\n",
      "0:\tlearn: 0.3882446\ttotal: 1.53s\tremaining: 2m 32s\n",
      "50:\tlearn: 0.1451477\ttotal: 1m 25s\tremaining: 1m 21s\n",
      "99:\tlearn: 0.1222967\ttotal: 2m 39s\tremaining: 0us\n",
      "0:\tlearn: 0.3964354\ttotal: 1.61s\tremaining: 2m 39s\n",
      "50:\tlearn: 0.1444752\ttotal: 1m 15s\tremaining: 1m 12s\n",
      "99:\tlearn: 0.1228640\ttotal: 2m 40s\tremaining: 0us\n",
      "0:\tlearn: 0.3810098\ttotal: 1.87s\tremaining: 3m 5s\n",
      "50:\tlearn: 0.1405914\ttotal: 1m 23s\tremaining: 1m 19s\n",
      "99:\tlearn: 0.1205756\ttotal: 2m 39s\tremaining: 0us\n",
      "0:\tlearn: 0.4427144\ttotal: 2.28s\tremaining: 5m 40s\n",
      "50:\tlearn: 0.1546085\ttotal: 1m 32s\tremaining: 2m 59s\n",
      "100:\tlearn: 0.1317107\ttotal: 2m 54s\tremaining: 1m 24s\n",
      "149:\tlearn: 0.1199540\ttotal: 4m 9s\tremaining: 0us\n",
      "0:\tlearn: 0.4496234\ttotal: 1.78s\tremaining: 4m 26s\n",
      "50:\tlearn: 0.1542313\ttotal: 1m 16s\tremaining: 2m 28s\n",
      "100:\tlearn: 0.1322044\ttotal: 2m 31s\tremaining: 1m 13s\n",
      "149:\tlearn: 0.1203172\ttotal: 3m 45s\tremaining: 0us\n",
      "0:\tlearn: 0.4365782\ttotal: 1.54s\tremaining: 3m 49s\n",
      "50:\tlearn: 0.1511879\ttotal: 1m 17s\tremaining: 2m 30s\n",
      "100:\tlearn: 0.1296794\ttotal: 2m 32s\tremaining: 1m 13s\n",
      "149:\tlearn: 0.1190985\ttotal: 3m 46s\tremaining: 0us\n",
      "0:\tlearn: 0.3882446\ttotal: 1.48s\tremaining: 3m 40s\n",
      "50:\tlearn: 0.1451477\ttotal: 1m 11s\tremaining: 2m 18s\n",
      "100:\tlearn: 0.1220673\ttotal: 2m 19s\tremaining: 1m 7s\n",
      "149:\tlearn: 0.1115834\ttotal: 3m 29s\tremaining: 0us\n",
      "0:\tlearn: 0.3964354\ttotal: 1.47s\tremaining: 3m 38s\n",
      "50:\tlearn: 0.1444752\ttotal: 1m 10s\tremaining: 2m 16s\n",
      "100:\tlearn: 0.1224677\ttotal: 2m 19s\tremaining: 1m 7s\n",
      "149:\tlearn: 0.1110025\ttotal: 3m 26s\tremaining: 0us\n",
      "0:\tlearn: 0.3810098\ttotal: 1.35s\tremaining: 3m 20s\n",
      "50:\tlearn: 0.1405914\ttotal: 1m 10s\tremaining: 2m 16s\n",
      "100:\tlearn: 0.1202811\ttotal: 2m 17s\tremaining: 1m 6s\n",
      "149:\tlearn: 0.1100713\ttotal: 3m 24s\tremaining: 0us\n",
      "0:\tlearn: 0.3885035\ttotal: 2s\tremaining: 4m 58s\n",
      "50:\tlearn: 0.1433424\ttotal: 1m 33s\tremaining: 3m 2s\n",
      "100:\tlearn: 0.1236971\ttotal: 3m 7s\tremaining: 1m 31s\n",
      "149:\tlearn: 0.1133560\ttotal: 4m 40s\tremaining: 0us\n",
      "CPU times: total: 3h 18min 59s\n",
      "Wall time: 1h 15min 9s\n"
     ]
    }
   ],
   "source": [
    "%%time\n",
    "\n",
    "\n",
    "model_cat = CatBoostClassifier(random_state = 12345, verbose=50)\n",
    "grid = {'iterations': [100, 150],\n",
    "        'learning_rate': [0.3, 0.4],\n",
    "        'depth': [2,4,6]}\n",
    "model_cat_boost=GridSearchCV(model_cat, grid, scoring='f1', cv=3)\n",
    "model_cat_boost.fit(tf_idf_train, target_train)\n",
    "f1_cat_boost = model_cat_boost.best_score_"
   ]
  },
  {
   "cell_type": "code",
   "execution_count": 18,
   "id": "bf2cf53a",
   "metadata": {},
   "outputs": [
    {
     "data": {
      "text/plain": [
       "0.735296181299141"
      ]
     },
     "execution_count": 18,
     "metadata": {},
     "output_type": "execute_result"
    }
   ],
   "source": [
    "f1_cat_boost"
   ]
  },
  {
   "cell_type": "markdown",
   "id": "46c31821",
   "metadata": {},
   "source": [
    "# Вывод:\n",
    "Мы обучили 3 модели:\n",
    " 1. Логшистическая регрессия\n",
    " 2. Случаный лес\n",
    " 3. CatBoost\n",
    "В результате лучший результат метрики `f1` показала модель `Логистическая регрессия`."
   ]
  },
  {
   "cell_type": "markdown",
   "id": "968e52fe",
   "metadata": {},
   "source": [
    "### 3. Проверка модели на тестовой выборке"
   ]
  },
  {
   "cell_type": "code",
   "execution_count": 26,
   "id": "61cf2bc9",
   "metadata": {},
   "outputs": [
    {
     "data": {
      "text/plain": [
       "0.7551138333525944"
      ]
     },
     "execution_count": 26,
     "metadata": {},
     "output_type": "execute_result"
    }
   ],
   "source": [
    "best_model = LogisticRegression(random_state=12345, C = 9, max_iter = 14, solver='sag',class_weight='balanced')\n",
    "best_model.fit(tf_idf_train, target_train)\n",
    "predict = best_model.predict(tf_idf_test)\n",
    "f1_best_model = f1_score(target_test, predict)\n",
    "f1_best_model"
   ]
  },
  {
   "cell_type": "markdown",
   "id": "49a2948b",
   "metadata": {},
   "source": [
    "**На тестовой выборке наша модель показала результат f1= 0,755, что удовлетворяет условию задачи**"
   ]
  },
  {
   "cell_type": "markdown",
   "id": "3693b42e",
   "metadata": {},
   "source": [
    "<div class=\"alert alert-success\">\n",
    "<b>1 Комментарий ревьюера ✔️:</b> \n",
    "    \n",
    "Порог пройден!"
   ]
  },
  {
   "cell_type": "markdown",
   "id": "f95ffe5e",
   "metadata": {},
   "source": [
    "<div class=\"alert alert-info\"> <b> После изменения лемматизации параметр f1 уменьшился. С чем это может быть связано? </font></div></font>"
   ]
  },
  {
   "cell_type": "markdown",
   "id": "a4aefcbe",
   "metadata": {},
   "source": [
    "<div class=\"alert alert-warning\">\n",
    "<b>2 Комментарий ревьюера ⚠️:</b> \n",
    "    \n",
    "Стоит расширить сетку гиперпараметров для подбора"
   ]
  },
  {
   "cell_type": "markdown",
   "id": "719a83fb",
   "metadata": {},
   "source": [
    "Посторим график тестовой выборки и предсказаний"
   ]
  },
  {
   "cell_type": "code",
   "execution_count": 17,
   "id": "2bc15456",
   "metadata": {},
   "outputs": [
    {
     "data": {
      "image/png": "[encoded data removed]",
      "text/plain": [
       "<Figure size 720x432 with 1 Axes>"
      ]
     },
     "metadata": {
      "needs_background": "light"
     },
     "output_type": "display_data"
    }
   ],
   "source": [
    "\n",
    "plt.figure(figsize=(10,6))\n",
    "target_test.plot(kind='kde', linewidth=2)\n",
    "pd.Series(predict).plot(kind='kde',linewidth=2)\n",
    "plt.title('График распределения плотности предсказанных и истинных значений', y=1.01)\n",
    "plt.legend(['Истинные значения','Предсказанные значения'])\n",
    "plt.text(0.75,6,'F1= {:.2f}'.format(f1_best_model))\n",
    "plt.xlabel('')\n",
    "plt.ylabel('Плотность')\n",
    "plt.show()"
   ]
  },
  {
   "cell_type": "markdown",
   "id": "84af7705",
   "metadata": {},
   "source": [
    "Мы видим ,что модель очень хоршо предсказывает негативные комментарии"
   ]
  },
  {
   "cell_type": "markdown",
   "id": "7155ae25",
   "metadata": {},
   "source": [
    "Построим Roc-кривую и рассчитаем значение AUC-ROC"
   ]
  },
  {
   "cell_type": "code",
   "execution_count": 38,
   "id": "5f3ab39f",
   "metadata": {},
   "outputs": [
    {
     "data": {
      "image/png": "[encoded data removed]",
      "text/plain": [
       "<Figure size 432x288 with 1 Axes>"
      ]
     },
     "metadata": {
      "needs_background": "light"
     },
     "output_type": "display_data"
    }
   ],
   "source": [
    "probabilities_valid = best_model.predict_proba(tf_idf_test)\n",
    "probabilities_one_valid = probabilities_valid[:, 1]\n",
    "\n",
    "fpr, tpr, thresholds = roc_curve(target_test, probabilities_valid[:, 1])\n",
    "plt.figure()\n",
    "plt.plot(fpr, tpr)\n",
    "plt.title(\"ROC-кривая\")\n",
    "plt.xlabel('False Positive Rate')\n",
    "plt.ylabel('True Positive Rate')\n",
    "plt.ylim([0.0, 1.0])\n",
    "plt.xlim([0.0, 1.0])\n",
    "plt.plot([0, 1], [0, 1], linestyle='--')\n",
    "plt.show()"
   ]
  },
  {
   "cell_type": "code",
   "execution_count": 39,
   "id": "b0f8b7d3",
   "metadata": {},
   "outputs": [
    {
     "data": {
      "text/plain": [
       "0.9636489086409937"
      ]
     },
     "execution_count": 39,
     "metadata": {},
     "output_type": "execute_result"
    }
   ],
   "source": [
    "auc_roc = roc_auc_score(target_test, probabilities_one_valid)\n",
    "auc_roc"
   ]
  },
  {
   "cell_type": "markdown",
   "id": "bc6556c4",
   "metadata": {},
   "source": [
    "Положение Roc-кривой нашей модели над roc-кривой случайной модели, а так же высокое значение параметра auc-roc говорит нам о высоком качестве нашей модели"
   ]
  },
  {
   "cell_type": "markdown",
   "id": "59f64468",
   "metadata": {},
   "source": [
    "<div class=\"alert alert-warning\">\n",
    "<b>1 Комментарий ревьюера ⚠️:</b> \n",
    "    \n",
    "Более эффективно анализировать `ROC-AUC`\n",
    "</div>\n"
   ]
  },
  {
   "cell_type": "markdown",
   "id": "b026d63b",
   "metadata": {},
   "source": [
    "<div class=\"alert alert-success\">\n",
    "<b>2 Комментарий ревьюера ✔️:</b> \n",
    "    \n",
    "Отлично!"
   ]
  },
  {
   "cell_type": "markdown",
   "id": "c3c2cfaf",
   "metadata": {},
   "source": [
    "# Вывод\n",
    "\n",
    "Нашей целью было найти и обучить модель для магазина \"ВИКИШОП\", которая способна классифицировать комментарии на позитивные и негативные для того, чтобы в дальнейшем токсичные отзывы отправлялись на модерацию. При этом достигуть результата предсказания наилучшей модели по метрике `f1`  не меньше 0,75 \n",
    "\n",
    "В нашем распоряжении был набор данных с разметкой о токсичности правок, но для правильной работы предсказательных алгоритмов моделей нам пришлось очистить комментарии от лишних символов и пр.мусора, а так же прибегнуть к балансировке выборок методами upsample и downsamle, т.к. сильный дисбаланс в классах мог негативно повлиять на качество предсказания моделей.\n",
    "\n",
    "Для определения наилучшей модели мы остановили наш выбор на трёх моделях: \n",
    " - LogisticRegression\n",
    " - RandomForestClassifier\n",
    " - Catboost\n",
    " \n",
    " По итогам сравнеиня победила модель LogisticRegression. Мы проверили эту модель на тестовой выборке и получили значение метрики `f1 = 0.762`, которое удовлетворяет условию задачи\n",
    "\n",
    "Таким образом, для магазина \"ВИКИШОП\" можем рекомендовать модель LogisticRegression для модерации комментариев"
   ]
  },
  {
   "cell_type": "markdown",
   "id": "475a3896",
   "metadata": {},
   "source": [
    "<div class=\"alert alert-success\">\n",
    "<b>1 Комментарий ревьюера ✔️:</b> \n",
    "    \n",
    "Вывод верно описывает проделанную работу"
   ]
  },
  {
   "cell_type": "markdown",
   "id": "e2ec59d4",
   "metadata": {},
   "source": [
    "## 4. Чек-лист проверки"
   ]
  },
  {
   "cell_type": "markdown",
   "id": "f3e50902",
   "metadata": {},
   "source": [
    "- [x]  Jupyter Notebook открыт\n",
    "- [ ]  Весь код выполняется без ошибок\n",
    "- [ ]  Ячейки с кодом расположены в порядке исполнения\n",
    "- [ ]  Данные загружены и подготовлены\n",
    "- [ ]  Модели обучены\n",
    "- [ ]  Значение метрики *F1* не меньше 0.75\n",
    "- [ ]  Выводы написаны"
   ]
  }
 ],
 "metadata": {
  "kernelspec": {
   "display_name": "Python 3 (ipykernel)",
   "language": "python",
   "name": "python3"
  },
  "language_info": {
   "codemirror_mode": {
    "name": "ipython",
    "version": 3
   },
   "file_extension": ".py",
   "mimetype": "text/x-python",
   "name": "python",
   "nbconvert_exporter": "python",
   "pygments_lexer": "ipython3",
   "version": "3.9.12"
  },
  "toc": {
   "base_numbering": 1,
   "nav_menu": {},
   "number_sections": true,
   "sideBar": true,
   "skip_h1_title": true,
   "title_cell": "Table of Contents",
   "title_sidebar": "Contents",
   "toc_cell": false,
   "toc_position": {},
   "toc_section_display": true,
   "toc_window_display": false
  }
 },
 "nbformat": 4,
 "nbformat_minor": 5
}
