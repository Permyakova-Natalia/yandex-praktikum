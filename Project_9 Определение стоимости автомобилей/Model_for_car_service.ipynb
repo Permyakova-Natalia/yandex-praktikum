{
 "cells": [
  {
   "cell_type": "markdown",
   "metadata": {},
   "source": [
    "# Определение стоимости автомобилей"
   ]
  },
  {
   "cell_type": "markdown",
   "metadata": {
    "toc": true
   },
   "source": [
    "<h1>План работы<span class=\"tocSkip\"></span></h1>\n",
    "<div class=\"toc\"><ul class=\"toc-item\"><li><span><a href=\"#Подготовка-данных\" data-toc-modified-id=\"Подготовка-данных-1\"><span class=\"toc-item-num\">1&nbsp;&nbsp;</span>Подготовка данных</a></span></li><li><span><a href=\"#Обучение-моделей\" data-toc-modified-id=\"Обучение-моделей-2\"><span class=\"toc-item-num\">2&nbsp;&nbsp;</span>Обучение моделей</a></span></li><li><span><a href=\"#Анализ-моделей\" data-toc-modified-id=\"Анализ-моделей-3\"><span class=\"toc-item-num\">3&nbsp;&nbsp;</span>Анализ моделей</a></span></li></ul></div>"
   ]
  },
  {
   "cell_type": "markdown",
   "metadata": {},
   "source": [
    "Сервис по продаже автомобилей с пробегом «Не бит, не крашен» разрабатывает приложение для привлечения новых клиентов. В нём можно быстро узнать рыночную стоимость своего автомобиля. В вашем распоряжении исторические данные: технические характеристики, комплектации и цены автомобилей. Вам нужно построить модель для определения стоимости. \n",
    "\n",
    "Заказчику важны:\n",
    "\n",
    "- качество предсказания;\n",
    "- скорость предсказания;\n",
    "- время обучения."
   ]
  },
  {
   "cell_type": "markdown",
   "metadata": {},
   "source": [
    "## Подготовка данных"
   ]
  },
  {
   "cell_type": "markdown",
   "metadata": {},
   "source": [
    "Импортируем все необходимые библиотеки"
   ]
  },
  {
   "cell_type": "code",
   "execution_count": 1,
   "metadata": {},
   "outputs": [],
   "source": [
    "import pandas as pd\n",
    "import numpy as np\n",
    "from sklearn.metrics import mean_absolute_error,mean_squared_error\n",
    "from sklearn.dummy import DummyRegressor\n",
    "from sklearn.model_selection import train_test_split\n",
    "from sklearn.model_selection import cross_val_score\n",
    "from sklearn.linear_model import LinearRegression\n",
    "from sklearn.preprocessing import StandardScaler\n",
    "from catboost import CatBoostRegressor, Pool, cv\n",
    "from lightgbm import LGBMRegressor\n",
    "import warnings\n",
    "warnings.filterwarnings('ignore')\n",
    "\n",
    "\n",
    "import matplotlib.pyplot as plt\n",
    "\n",
    "from sklearn.model_selection import GridSearchCV\n",
    "\n",
    "import lightgbm as lgbm\n",
    "from catboost import CatBoostRegressor\n",
    "from sklearn.ensemble import RandomForestRegressor\n",
    "\n",
    "from sklearn.preprocessing import OrdinalEncoder\n",
    "from sklearn.preprocessing import OneHotEncoder\n",
    "import time"
   ]
  },
  {
   "cell_type": "markdown",
   "metadata": {},
   "source": [
    "Сохраним датасет в переменной `data`"
   ]
  },
  {
   "cell_type": "code",
   "execution_count": 2,
   "metadata": {},
   "outputs": [
    {
     "data": {
      "text/html": [
       "<div>\n",
       "<style scoped>\n",
       "    .dataframe tbody tr th:only-of-type {\n",
       "        vertical-align: middle;\n",
       "    }\n",
       "\n",
       "    .dataframe tbody tr th {\n",
       "        vertical-align: top;\n",
       "    }\n",
       "\n",
       "    .dataframe thead th {\n",
       "        text-align: right;\n",
       "    }\n",
       "</style>\n",
       "<table border=\"1\" class=\"dataframe\">\n",
       "  <thead>\n",
       "    <tr style=\"text-align: right;\">\n",
       "      <th></th>\n",
       "      <th>DateCrawled</th>\n",
       "      <th>Price</th>\n",
       "      <th>VehicleType</th>\n",
       "      <th>RegistrationYear</th>\n",
       "      <th>Gearbox</th>\n",
       "      <th>Power</th>\n",
       "      <th>Model</th>\n",
       "      <th>Kilometer</th>\n",
       "      <th>RegistrationMonth</th>\n",
       "      <th>FuelType</th>\n",
       "      <th>Brand</th>\n",
       "      <th>Repaired</th>\n",
       "      <th>DateCreated</th>\n",
       "      <th>NumberOfPictures</th>\n",
       "      <th>PostalCode</th>\n",
       "      <th>LastSeen</th>\n",
       "    </tr>\n",
       "  </thead>\n",
       "  <tbody>\n",
       "    <tr>\n",
       "      <th>0</th>\n",
       "      <td>2016-03-24 11:52:17</td>\n",
       "      <td>480</td>\n",
       "      <td>NaN</td>\n",
       "      <td>1993</td>\n",
       "      <td>manual</td>\n",
       "      <td>0</td>\n",
       "      <td>golf</td>\n",
       "      <td>150000</td>\n",
       "      <td>0</td>\n",
       "      <td>petrol</td>\n",
       "      <td>volkswagen</td>\n",
       "      <td>NaN</td>\n",
       "      <td>2016-03-24</td>\n",
       "      <td>0</td>\n",
       "      <td>70435</td>\n",
       "      <td>2016-04-07 03:16:57</td>\n",
       "    </tr>\n",
       "    <tr>\n",
       "      <th>1</th>\n",
       "      <td>2016-03-24 10:58:45</td>\n",
       "      <td>18300</td>\n",
       "      <td>coupe</td>\n",
       "      <td>2011</td>\n",
       "      <td>manual</td>\n",
       "      <td>190</td>\n",
       "      <td>NaN</td>\n",
       "      <td>125000</td>\n",
       "      <td>5</td>\n",
       "      <td>gasoline</td>\n",
       "      <td>audi</td>\n",
       "      <td>yes</td>\n",
       "      <td>2016-03-24</td>\n",
       "      <td>0</td>\n",
       "      <td>66954</td>\n",
       "      <td>2016-04-07 01:46:50</td>\n",
       "    </tr>\n",
       "    <tr>\n",
       "      <th>2</th>\n",
       "      <td>2016-03-14 12:52:21</td>\n",
       "      <td>9800</td>\n",
       "      <td>suv</td>\n",
       "      <td>2004</td>\n",
       "      <td>auto</td>\n",
       "      <td>163</td>\n",
       "      <td>grand</td>\n",
       "      <td>125000</td>\n",
       "      <td>8</td>\n",
       "      <td>gasoline</td>\n",
       "      <td>jeep</td>\n",
       "      <td>NaN</td>\n",
       "      <td>2016-03-14</td>\n",
       "      <td>0</td>\n",
       "      <td>90480</td>\n",
       "      <td>2016-04-05 12:47:46</td>\n",
       "    </tr>\n",
       "    <tr>\n",
       "      <th>3</th>\n",
       "      <td>2016-03-17 16:54:04</td>\n",
       "      <td>1500</td>\n",
       "      <td>small</td>\n",
       "      <td>2001</td>\n",
       "      <td>manual</td>\n",
       "      <td>75</td>\n",
       "      <td>golf</td>\n",
       "      <td>150000</td>\n",
       "      <td>6</td>\n",
       "      <td>petrol</td>\n",
       "      <td>volkswagen</td>\n",
       "      <td>no</td>\n",
       "      <td>2016-03-17</td>\n",
       "      <td>0</td>\n",
       "      <td>91074</td>\n",
       "      <td>2016-03-17 17:40:17</td>\n",
       "    </tr>\n",
       "    <tr>\n",
       "      <th>4</th>\n",
       "      <td>2016-03-31 17:25:20</td>\n",
       "      <td>3600</td>\n",
       "      <td>small</td>\n",
       "      <td>2008</td>\n",
       "      <td>manual</td>\n",
       "      <td>69</td>\n",
       "      <td>fabia</td>\n",
       "      <td>90000</td>\n",
       "      <td>7</td>\n",
       "      <td>gasoline</td>\n",
       "      <td>skoda</td>\n",
       "      <td>no</td>\n",
       "      <td>2016-03-31</td>\n",
       "      <td>0</td>\n",
       "      <td>60437</td>\n",
       "      <td>2016-04-06 10:17:21</td>\n",
       "    </tr>\n",
       "  </tbody>\n",
       "</table>\n",
       "</div>"
      ],
      "text/plain": [
       "          DateCrawled  Price VehicleType  RegistrationYear Gearbox  Power  \\\n",
       "0 2016-03-24 11:52:17    480         NaN              1993  manual      0   \n",
       "1 2016-03-24 10:58:45  18300       coupe              2011  manual    190   \n",
       "2 2016-03-14 12:52:21   9800         suv              2004    auto    163   \n",
       "3 2016-03-17 16:54:04   1500       small              2001  manual     75   \n",
       "4 2016-03-31 17:25:20   3600       small              2008  manual     69   \n",
       "\n",
       "   Model  Kilometer  RegistrationMonth  FuelType       Brand Repaired  \\\n",
       "0   golf     150000                  0    petrol  volkswagen      NaN   \n",
       "1    NaN     125000                  5  gasoline        audi      yes   \n",
       "2  grand     125000                  8  gasoline        jeep      NaN   \n",
       "3   golf     150000                  6    petrol  volkswagen       no   \n",
       "4  fabia      90000                  7  gasoline       skoda       no   \n",
       "\n",
       "  DateCreated  NumberOfPictures  PostalCode             LastSeen  \n",
       "0  2016-03-24                 0       70435  2016-04-07 03:16:57  \n",
       "1  2016-03-24                 0       66954  2016-04-07 01:46:50  \n",
       "2  2016-03-14                 0       90480  2016-04-05 12:47:46  \n",
       "3  2016-03-17                 0       91074  2016-03-17 17:40:17  \n",
       "4  2016-03-31                 0       60437  2016-04-06 10:17:21  "
      ]
     },
     "execution_count": 2,
     "metadata": {},
     "output_type": "execute_result"
    }
   ],
   "source": [
    "data = pd.read_csv('/datasets/autos.csv', parse_dates = [0, 12])\n",
    "data.head()"
   ]
  },
  {
   "cell_type": "code",
   "execution_count": 3,
   "metadata": {},
   "outputs": [
    {
     "name": "stdout",
     "output_type": "stream",
     "text": [
      "<class 'pandas.core.frame.DataFrame'>\n",
      "RangeIndex: 354369 entries, 0 to 354368\n",
      "Data columns (total 16 columns):\n",
      " #   Column             Non-Null Count   Dtype         \n",
      "---  ------             --------------   -----         \n",
      " 0   DateCrawled        354369 non-null  datetime64[ns]\n",
      " 1   Price              354369 non-null  int64         \n",
      " 2   VehicleType        316879 non-null  object        \n",
      " 3   RegistrationYear   354369 non-null  int64         \n",
      " 4   Gearbox            334536 non-null  object        \n",
      " 5   Power              354369 non-null  int64         \n",
      " 6   Model              334664 non-null  object        \n",
      " 7   Kilometer          354369 non-null  int64         \n",
      " 8   RegistrationMonth  354369 non-null  int64         \n",
      " 9   FuelType           321474 non-null  object        \n",
      " 10  Brand              354369 non-null  object        \n",
      " 11  Repaired           283215 non-null  object        \n",
      " 12  DateCreated        354369 non-null  datetime64[ns]\n",
      " 13  NumberOfPictures   354369 non-null  int64         \n",
      " 14  PostalCode         354369 non-null  int64         \n",
      " 15  LastSeen           354369 non-null  object        \n",
      "dtypes: datetime64[ns](2), int64(7), object(7)\n",
      "memory usage: 43.3+ MB\n"
     ]
    }
   ],
   "source": [
    "data.info()"
   ]
  },
  {
   "cell_type": "markdown",
   "metadata": {},
   "source": [
    "Проверим, нет ли в базе данных объявлений моложе даты самой выгруки"
   ]
  },
  {
   "cell_type": "code",
   "execution_count": 4,
   "metadata": {},
   "outputs": [
    {
     "data": {
      "text/html": [
       "<div>\n",
       "<style scoped>\n",
       "    .dataframe tbody tr th:only-of-type {\n",
       "        vertical-align: middle;\n",
       "    }\n",
       "\n",
       "    .dataframe tbody tr th {\n",
       "        vertical-align: top;\n",
       "    }\n",
       "\n",
       "    .dataframe thead th {\n",
       "        text-align: right;\n",
       "    }\n",
       "</style>\n",
       "<table border=\"1\" class=\"dataframe\">\n",
       "  <thead>\n",
       "    <tr style=\"text-align: right;\">\n",
       "      <th></th>\n",
       "      <th>DateCrawled</th>\n",
       "      <th>Price</th>\n",
       "      <th>VehicleType</th>\n",
       "      <th>RegistrationYear</th>\n",
       "      <th>Gearbox</th>\n",
       "      <th>Power</th>\n",
       "      <th>Model</th>\n",
       "      <th>Kilometer</th>\n",
       "      <th>RegistrationMonth</th>\n",
       "      <th>FuelType</th>\n",
       "      <th>Brand</th>\n",
       "      <th>Repaired</th>\n",
       "      <th>DateCreated</th>\n",
       "      <th>NumberOfPictures</th>\n",
       "      <th>PostalCode</th>\n",
       "      <th>LastSeen</th>\n",
       "    </tr>\n",
       "  </thead>\n",
       "  <tbody>\n",
       "  </tbody>\n",
       "</table>\n",
       "</div>"
      ],
      "text/plain": [
       "Empty DataFrame\n",
       "Columns: [DateCrawled, Price, VehicleType, RegistrationYear, Gearbox, Power, Model, Kilometer, RegistrationMonth, FuelType, Brand, Repaired, DateCreated, NumberOfPictures, PostalCode, LastSeen]\n",
       "Index: []"
      ]
     },
     "execution_count": 4,
     "metadata": {},
     "output_type": "execute_result"
    }
   ],
   "source": [
    "data.query('DateCreated\t > DateCrawled')"
   ]
  },
  {
   "cell_type": "markdown",
   "metadata": {},
   "source": [
    "Признаки `DateCrawled` — дата скачивания анкеты из базы, `DateCreated` — дата создания анкеты, NumberOfPictures — количество фотографий автомобиля, `PostalCode` — почтовый индекс владельца анкеты (пользователя), `LastSeen` — дата последней активности пользователя, `RegistrationMonth` - месяц регистрации не оказывают влияние на рыночную стоимость автомобиля. Удалим их перед началом анализа"
   ]
  },
  {
   "cell_type": "code",
   "execution_count": 5,
   "metadata": {},
   "outputs": [],
   "source": [
    "data = data.drop(['DateCrawled', 'DateCreated', 'PostalCode', 'LastSeen', 'NumberOfPictures', 'RegistrationMonth'], axis=1)"
   ]
  },
  {
   "cell_type": "code",
   "execution_count": 6,
   "metadata": {},
   "outputs": [
    {
     "name": "stdout",
     "output_type": "stream",
     "text": [
      "<class 'pandas.core.frame.DataFrame'>\n",
      "RangeIndex: 354369 entries, 0 to 354368\n",
      "Data columns (total 10 columns):\n",
      " #   Column            Non-Null Count   Dtype \n",
      "---  ------            --------------   ----- \n",
      " 0   Price             354369 non-null  int64 \n",
      " 1   VehicleType       316879 non-null  object\n",
      " 2   RegistrationYear  354369 non-null  int64 \n",
      " 3   Gearbox           334536 non-null  object\n",
      " 4   Power             354369 non-null  int64 \n",
      " 5   Model             334664 non-null  object\n",
      " 6   Kilometer         354369 non-null  int64 \n",
      " 7   FuelType          321474 non-null  object\n",
      " 8   Brand             354369 non-null  object\n",
      " 9   Repaired          283215 non-null  object\n",
      "dtypes: int64(4), object(6)\n",
      "memory usage: 27.0+ MB\n"
     ]
    }
   ],
   "source": [
    "data.info()"
   ]
  },
  {
   "cell_type": "markdown",
   "metadata": {},
   "source": [
    "Приведем все столбцы к стандартному виду"
   ]
  },
  {
   "cell_type": "code",
   "execution_count": 7,
   "metadata": {},
   "outputs": [
    {
     "name": "stdout",
     "output_type": "stream",
     "text": [
      "<class 'pandas.core.frame.DataFrame'>\n",
      "RangeIndex: 354369 entries, 0 to 354368\n",
      "Data columns (total 10 columns):\n",
      " #   Column             Non-Null Count   Dtype \n",
      "---  ------             --------------   ----- \n",
      " 0   price              354369 non-null  int64 \n",
      " 1   vehicle_type       316879 non-null  object\n",
      " 2   registration_year  354369 non-null  int64 \n",
      " 3   gearbox            334536 non-null  object\n",
      " 4   power              354369 non-null  int64 \n",
      " 5   model              334664 non-null  object\n",
      " 6   kilometer          354369 non-null  int64 \n",
      " 7   fuel_type          321474 non-null  object\n",
      " 8   brand              354369 non-null  object\n",
      " 9   repaired           283215 non-null  object\n",
      "dtypes: int64(4), object(6)\n",
      "memory usage: 27.0+ MB\n"
     ]
    }
   ],
   "source": [
    "data = data.rename(columns = {\n",
    "                   'VehicleType': 'vehicle_type', \n",
    "    'RegistrationYear':'registration_year', \n",
    "    \n",
    "    'FuelType':'fuel_type'})\n",
    "data.columns = data.columns.str.lower()\n",
    "data.info()"
   ]
  },
  {
   "cell_type": "markdown",
   "metadata": {},
   "source": [
    "Проверим наличие явных дубликатов"
   ]
  },
  {
   "cell_type": "code",
   "execution_count": 8,
   "metadata": {},
   "outputs": [
    {
     "data": {
      "text/plain": [
       "45040"
      ]
     },
     "execution_count": 8,
     "metadata": {},
     "output_type": "execute_result"
    }
   ],
   "source": [
    "data.duplicated().sum()"
   ]
  },
  {
   "cell_type": "code",
   "execution_count": 9,
   "metadata": {},
   "outputs": [],
   "source": [
    "data = data.drop_duplicates()"
   ]
  },
  {
   "cell_type": "markdown",
   "metadata": {},
   "source": [
    "Изучим основную статистическую информацию в столбцах"
   ]
  },
  {
   "cell_type": "code",
   "execution_count": 10,
   "metadata": {},
   "outputs": [
    {
     "data": {
      "text/html": [
       "<div>\n",
       "<style scoped>\n",
       "    .dataframe tbody tr th:only-of-type {\n",
       "        vertical-align: middle;\n",
       "    }\n",
       "\n",
       "    .dataframe tbody tr th {\n",
       "        vertical-align: top;\n",
       "    }\n",
       "\n",
       "    .dataframe thead th {\n",
       "        text-align: right;\n",
       "    }\n",
       "</style>\n",
       "<table border=\"1\" class=\"dataframe\">\n",
       "  <thead>\n",
       "    <tr style=\"text-align: right;\">\n",
       "      <th></th>\n",
       "      <th>price</th>\n",
       "      <th>registration_year</th>\n",
       "      <th>power</th>\n",
       "      <th>kilometer</th>\n",
       "    </tr>\n",
       "  </thead>\n",
       "  <tbody>\n",
       "    <tr>\n",
       "      <th>count</th>\n",
       "      <td>309329.000000</td>\n",
       "      <td>309329.000000</td>\n",
       "      <td>309329.000000</td>\n",
       "      <td>309329.000000</td>\n",
       "    </tr>\n",
       "    <tr>\n",
       "      <th>mean</th>\n",
       "      <td>4486.937196</td>\n",
       "      <td>2004.360105</td>\n",
       "      <td>110.976908</td>\n",
       "      <td>127217.735809</td>\n",
       "    </tr>\n",
       "    <tr>\n",
       "      <th>std</th>\n",
       "      <td>4564.852796</td>\n",
       "      <td>92.541399</td>\n",
       "      <td>200.969473</td>\n",
       "      <td>38532.941010</td>\n",
       "    </tr>\n",
       "    <tr>\n",
       "      <th>min</th>\n",
       "      <td>0.000000</td>\n",
       "      <td>1000.000000</td>\n",
       "      <td>0.000000</td>\n",
       "      <td>5000.000000</td>\n",
       "    </tr>\n",
       "    <tr>\n",
       "      <th>25%</th>\n",
       "      <td>1100.000000</td>\n",
       "      <td>1999.000000</td>\n",
       "      <td>69.000000</td>\n",
       "      <td>125000.000000</td>\n",
       "    </tr>\n",
       "    <tr>\n",
       "      <th>50%</th>\n",
       "      <td>2800.000000</td>\n",
       "      <td>2003.000000</td>\n",
       "      <td>105.000000</td>\n",
       "      <td>150000.000000</td>\n",
       "    </tr>\n",
       "    <tr>\n",
       "      <th>75%</th>\n",
       "      <td>6500.000000</td>\n",
       "      <td>2008.000000</td>\n",
       "      <td>143.000000</td>\n",
       "      <td>150000.000000</td>\n",
       "    </tr>\n",
       "    <tr>\n",
       "      <th>max</th>\n",
       "      <td>20000.000000</td>\n",
       "      <td>9999.000000</td>\n",
       "      <td>20000.000000</td>\n",
       "      <td>150000.000000</td>\n",
       "    </tr>\n",
       "  </tbody>\n",
       "</table>\n",
       "</div>"
      ],
      "text/plain": [
       "               price  registration_year          power      kilometer\n",
       "count  309329.000000      309329.000000  309329.000000  309329.000000\n",
       "mean     4486.937196        2004.360105     110.976908  127217.735809\n",
       "std      4564.852796          92.541399     200.969473   38532.941010\n",
       "min         0.000000        1000.000000       0.000000    5000.000000\n",
       "25%      1100.000000        1999.000000      69.000000  125000.000000\n",
       "50%      2800.000000        2003.000000     105.000000  150000.000000\n",
       "75%      6500.000000        2008.000000     143.000000  150000.000000\n",
       "max     20000.000000        9999.000000   20000.000000  150000.000000"
      ]
     },
     "execution_count": 10,
     "metadata": {},
     "output_type": "execute_result"
    }
   ],
   "source": [
    "data.describe()"
   ]
  },
  {
   "cell_type": "markdown",
   "metadata": {},
   "source": [
    "**Мы видим, что некоторые данные нуждаются в обработке, в частности у нас есть 0 значения в столбцах цена и мощность, а так же выбросы в столбце год регистрации. Отредактируем эти данные**"
   ]
  },
  {
   "cell_type": "markdown",
   "metadata": {},
   "source": [
    "***Цена***\n"
   ]
  },
  {
   "cell_type": "markdown",
   "metadata": {},
   "source": [
    "Построим гистограмму"
   ]
  },
  {
   "cell_type": "code",
   "execution_count": 11,
   "metadata": {},
   "outputs": [
    {
     "data": {
      "image/png": "[encoded data removed]",
      "text/plain": [
       "<Figure size 720x576 with 1 Axes>"
      ]
     },
     "metadata": {
      "needs_background": "light"
     },
     "output_type": "display_data"
    }
   ],
   "source": [
    "data['price'].hist(bins = 100, figsize=(10,8))\n",
    "plt.xlabel('Цена')\n",
    "plt.ylabel('Количество автомобилей')\n",
    "plt.title('Гистограмма распределения цены автомобилей')\n",
    "plt.show()"
   ]
  },
  {
   "cell_type": "markdown",
   "metadata": {},
   "source": [
    "Построим диаграмму размаха"
   ]
  },
  {
   "cell_type": "code",
   "execution_count": 12,
   "metadata": {},
   "outputs": [
    {
     "data": {
      "image/png": "[encoded data removed]",
      "text/plain": [
       "<Figure size 1080x720 with 1 Axes>"
      ]
     },
     "metadata": {
      "needs_background": "light"
     },
     "output_type": "display_data"
    }
   ],
   "source": [
    "data['price'].plot(kind='box', figsize=(15, 10), use_index = None )\n",
    "\n",
    "plt.ylabel('ЦЕНА')\n",
    "plt.title('Диаграмма размаха цены автомобилей')\n",
    "plt.show()"
   ]
  },
  {
   "cell_type": "markdown",
   "metadata": {},
   "source": [
    "Мы видим, что у нас присутствуют 0 значения и выбросы в верхней части. Предлагаю взять в качестве цены значения 95% доверительного интервала"
   ]
  },
  {
   "cell_type": "code",
   "execution_count": 13,
   "metadata": {},
   "outputs": [
    {
     "data": {
      "text/plain": [
       "0.025        0.0\n",
       "0.975    16990.0\n",
       "Name: price, dtype: float64"
      ]
     },
     "execution_count": 13,
     "metadata": {},
     "output_type": "execute_result"
    }
   ],
   "source": [
    "data['price'].quantile([0.025, 0.975])"
   ]
  },
  {
   "cell_type": "code",
   "execution_count": 14,
   "metadata": {},
   "outputs": [
    {
     "data": {
      "text/html": [
       "<div>\n",
       "<style scoped>\n",
       "    .dataframe tbody tr th:only-of-type {\n",
       "        vertical-align: middle;\n",
       "    }\n",
       "\n",
       "    .dataframe tbody tr th {\n",
       "        vertical-align: top;\n",
       "    }\n",
       "\n",
       "    .dataframe thead th {\n",
       "        text-align: right;\n",
       "    }\n",
       "</style>\n",
       "<table border=\"1\" class=\"dataframe\">\n",
       "  <thead>\n",
       "    <tr style=\"text-align: right;\">\n",
       "      <th></th>\n",
       "      <th>price</th>\n",
       "      <th>registration_year</th>\n",
       "      <th>power</th>\n",
       "      <th>kilometer</th>\n",
       "    </tr>\n",
       "  </thead>\n",
       "  <tbody>\n",
       "    <tr>\n",
       "      <th>count</th>\n",
       "      <td>286425.000000</td>\n",
       "      <td>286425.000000</td>\n",
       "      <td>286425.000000</td>\n",
       "      <td>286425.000000</td>\n",
       "    </tr>\n",
       "    <tr>\n",
       "      <th>mean</th>\n",
       "      <td>4341.296423</td>\n",
       "      <td>2003.918806</td>\n",
       "      <td>111.012366</td>\n",
       "      <td>128501.998778</td>\n",
       "    </tr>\n",
       "    <tr>\n",
       "      <th>std</th>\n",
       "      <td>4010.216105</td>\n",
       "      <td>69.103550</td>\n",
       "      <td>200.926002</td>\n",
       "      <td>37019.658458</td>\n",
       "    </tr>\n",
       "    <tr>\n",
       "      <th>min</th>\n",
       "      <td>200.000000</td>\n",
       "      <td>1000.000000</td>\n",
       "      <td>0.000000</td>\n",
       "      <td>5000.000000</td>\n",
       "    </tr>\n",
       "    <tr>\n",
       "      <th>25%</th>\n",
       "      <td>1250.000000</td>\n",
       "      <td>1999.000000</td>\n",
       "      <td>70.000000</td>\n",
       "      <td>125000.000000</td>\n",
       "    </tr>\n",
       "    <tr>\n",
       "      <th>50%</th>\n",
       "      <td>2900.000000</td>\n",
       "      <td>2003.000000</td>\n",
       "      <td>105.000000</td>\n",
       "      <td>150000.000000</td>\n",
       "    </tr>\n",
       "    <tr>\n",
       "      <th>75%</th>\n",
       "      <td>6350.000000</td>\n",
       "      <td>2008.000000</td>\n",
       "      <td>141.000000</td>\n",
       "      <td>150000.000000</td>\n",
       "    </tr>\n",
       "    <tr>\n",
       "      <th>max</th>\n",
       "      <td>16950.000000</td>\n",
       "      <td>9999.000000</td>\n",
       "      <td>20000.000000</td>\n",
       "      <td>150000.000000</td>\n",
       "    </tr>\n",
       "  </tbody>\n",
       "</table>\n",
       "</div>"
      ],
      "text/plain": [
       "               price  registration_year          power      kilometer\n",
       "count  286425.000000      286425.000000  286425.000000  286425.000000\n",
       "mean     4341.296423        2003.918806     111.012366  128501.998778\n",
       "std      4010.216105          69.103550     200.926002   37019.658458\n",
       "min       200.000000        1000.000000       0.000000    5000.000000\n",
       "25%      1250.000000        1999.000000      70.000000  125000.000000\n",
       "50%      2900.000000        2003.000000     105.000000  150000.000000\n",
       "75%      6350.000000        2008.000000     141.000000  150000.000000\n",
       "max     16950.000000        9999.000000   20000.000000  150000.000000"
      ]
     },
     "execution_count": 14,
     "metadata": {},
     "output_type": "execute_result"
    }
   ],
   "source": [
    "data = data.query('200 <= price <= 16950')\n",
    "data.describe()"
   ]
  },
  {
   "cell_type": "markdown",
   "metadata": {},
   "source": [
    "***Год регистрации***"
   ]
  },
  {
   "cell_type": "markdown",
   "metadata": {},
   "source": [
    "Построим диаграмму рассеивания"
   ]
  },
  {
   "cell_type": "code",
   "execution_count": 15,
   "metadata": {},
   "outputs": [
    {
     "data": {
      "image/png": "[encoded data removed]",
      "text/plain": [
       "<Figure size 1080x720 with 1 Axes>"
      ]
     },
     "metadata": {
      "needs_background": "light"
     },
     "output_type": "display_data"
    }
   ],
   "source": [
    "data['registration_year'].plot(kind='box', figsize=(15, 10), use_index = None)\n",
    "\n",
    "plt.ylabel('Год выпуска автомобиля')\n",
    "plt.title('Диаграмма размаха года выпуска автомобилей')\n",
    "plt.ylim(1950, 2022)\n",
    "plt.show()\n"
   ]
  },
  {
   "cell_type": "code",
   "execution_count": 16,
   "metadata": {},
   "outputs": [
    {
     "data": {
      "text/plain": [
       "count    286234.000000\n",
       "mean       2003.204717\n",
       "std           7.268420\n",
       "min        1951.000000\n",
       "25%        1999.000000\n",
       "50%        2003.000000\n",
       "75%        2008.000000\n",
       "max        2019.000000\n",
       "Name: registration_year, dtype: float64"
      ]
     },
     "execution_count": 16,
     "metadata": {},
     "output_type": "execute_result"
    },
    {
     "data": {
      "image/png": "[encoded data removed]",
      "text/plain": [
       "<Figure size 720x576 with 1 Axes>"
      ]
     },
     "metadata": {
      "needs_background": "light"
     },
     "output_type": "display_data"
    }
   ],
   "source": [
    "data = data.query('1950<registration_year <= 2022')\n",
    "data['registration_year'].hist(figsize=(10,8), bins = 50)\n",
    "plt.xlabel('Год регистрации')\n",
    "plt.ylabel('Количество автомобилей')\n",
    "plt.title('Гистограмма распределения года регистрации автомобилей автомобилей')\n",
    "data['registration_year'].describe()"
   ]
  },
  {
   "cell_type": "markdown",
   "metadata": {},
   "source": [
    "На диаграмме рассеивания мы видим выбросе после примерно 1985 года, уберем их и ограничим верхний порог 2016 годом - год выгрузки объявлений"
   ]
  },
  {
   "cell_type": "code",
   "execution_count": 17,
   "metadata": {},
   "outputs": [
    {
     "data": {
      "text/html": [
       "<div>\n",
       "<style scoped>\n",
       "    .dataframe tbody tr th:only-of-type {\n",
       "        vertical-align: middle;\n",
       "    }\n",
       "\n",
       "    .dataframe tbody tr th {\n",
       "        vertical-align: top;\n",
       "    }\n",
       "\n",
       "    .dataframe thead th {\n",
       "        text-align: right;\n",
       "    }\n",
       "</style>\n",
       "<table border=\"1\" class=\"dataframe\">\n",
       "  <thead>\n",
       "    <tr style=\"text-align: right;\">\n",
       "      <th></th>\n",
       "      <th>price</th>\n",
       "      <th>registration_year</th>\n",
       "      <th>power</th>\n",
       "      <th>kilometer</th>\n",
       "    </tr>\n",
       "  </thead>\n",
       "  <tbody>\n",
       "    <tr>\n",
       "      <th>count</th>\n",
       "      <td>269434.000000</td>\n",
       "      <td>269434.000000</td>\n",
       "      <td>269434.000000</td>\n",
       "      <td>269434.000000</td>\n",
       "    </tr>\n",
       "    <tr>\n",
       "      <th>mean</th>\n",
       "      <td>4366.180467</td>\n",
       "      <td>2002.982853</td>\n",
       "      <td>112.572775</td>\n",
       "      <td>128865.083842</td>\n",
       "    </tr>\n",
       "    <tr>\n",
       "      <th>std</th>\n",
       "      <td>4026.079230</td>\n",
       "      <td>5.821136</td>\n",
       "      <td>196.662488</td>\n",
       "      <td>36509.997834</td>\n",
       "    </tr>\n",
       "    <tr>\n",
       "      <th>min</th>\n",
       "      <td>200.000000</td>\n",
       "      <td>1985.000000</td>\n",
       "      <td>0.000000</td>\n",
       "      <td>5000.000000</td>\n",
       "    </tr>\n",
       "    <tr>\n",
       "      <th>25%</th>\n",
       "      <td>1250.000000</td>\n",
       "      <td>1999.000000</td>\n",
       "      <td>75.000000</td>\n",
       "      <td>125000.000000</td>\n",
       "    </tr>\n",
       "    <tr>\n",
       "      <th>50%</th>\n",
       "      <td>2900.000000</td>\n",
       "      <td>2003.000000</td>\n",
       "      <td>105.000000</td>\n",
       "      <td>150000.000000</td>\n",
       "    </tr>\n",
       "    <tr>\n",
       "      <th>75%</th>\n",
       "      <td>6450.000000</td>\n",
       "      <td>2007.000000</td>\n",
       "      <td>143.000000</td>\n",
       "      <td>150000.000000</td>\n",
       "    </tr>\n",
       "    <tr>\n",
       "      <th>max</th>\n",
       "      <td>16950.000000</td>\n",
       "      <td>2016.000000</td>\n",
       "      <td>20000.000000</td>\n",
       "      <td>150000.000000</td>\n",
       "    </tr>\n",
       "  </tbody>\n",
       "</table>\n",
       "</div>"
      ],
      "text/plain": [
       "               price  registration_year          power      kilometer\n",
       "count  269434.000000      269434.000000  269434.000000  269434.000000\n",
       "mean     4366.180467        2002.982853     112.572775  128865.083842\n",
       "std      4026.079230           5.821136     196.662488   36509.997834\n",
       "min       200.000000        1985.000000       0.000000    5000.000000\n",
       "25%      1250.000000        1999.000000      75.000000  125000.000000\n",
       "50%      2900.000000        2003.000000     105.000000  150000.000000\n",
       "75%      6450.000000        2007.000000     143.000000  150000.000000\n",
       "max     16950.000000        2016.000000   20000.000000  150000.000000"
      ]
     },
     "execution_count": 17,
     "metadata": {},
     "output_type": "execute_result"
    }
   ],
   "source": [
    "data = data.query('1985 <= registration_year <= 2016')\n",
    "data.describe()"
   ]
  },
  {
   "cell_type": "markdown",
   "metadata": {},
   "source": [
    "***Коробка передач***"
   ]
  },
  {
   "cell_type": "markdown",
   "metadata": {},
   "source": [
    "Посмотрим какие значения есть в столбце `gearbox`"
   ]
  },
  {
   "cell_type": "code",
   "execution_count": 18,
   "metadata": {},
   "outputs": [
    {
     "data": {
      "text/plain": [
       "array(['manual', 'auto', nan], dtype=object)"
      ]
     },
     "execution_count": 18,
     "metadata": {},
     "output_type": "execute_result"
    }
   ],
   "source": [
    "data['gearbox'].unique()"
   ]
  },
  {
   "cell_type": "markdown",
   "metadata": {},
   "source": [
    "Заменим все пустые значение на `manual`. Будем считать, что по умолчанию машины идут с механической коробкой передач"
   ]
  },
  {
   "cell_type": "code",
   "execution_count": 19,
   "metadata": {},
   "outputs": [],
   "source": [
    "data['gearbox'].fillna('manual', inplace=True)"
   ]
  },
  {
   "cell_type": "markdown",
   "metadata": {},
   "source": [
    "***Была машина в ремонте или нет***"
   ]
  },
  {
   "cell_type": "code",
   "execution_count": 20,
   "metadata": {},
   "outputs": [
    {
     "data": {
      "text/plain": [
       "array([nan, 'no', 'yes'], dtype=object)"
      ]
     },
     "execution_count": 20,
     "metadata": {},
     "output_type": "execute_result"
    }
   ],
   "source": [
    "data['repaired'].unique()"
   ]
  },
  {
   "cell_type": "markdown",
   "metadata": {},
   "source": [
    "В столбце В столбце `repaired` заменим пустые значения на `unknown`"
   ]
  },
  {
   "cell_type": "code",
   "execution_count": 21,
   "metadata": {},
   "outputs": [],
   "source": [
    "data['repaired'].fillna('unknown', inplace=True)"
   ]
  },
  {
   "cell_type": "markdown",
   "metadata": {},
   "source": [
    "Модель автомобиля"
   ]
  },
  {
   "cell_type": "markdown",
   "metadata": {},
   "source": [
    "Заменим пропущенные значения на `unknown`"
   ]
  },
  {
   "cell_type": "code",
   "execution_count": 22,
   "metadata": {},
   "outputs": [],
   "source": [
    "data['model'].fillna('unknown', inplace=True)"
   ]
  },
  {
   "cell_type": "markdown",
   "metadata": {},
   "source": [
    "***Тип кузова***"
   ]
  },
  {
   "cell_type": "code",
   "execution_count": 23,
   "metadata": {},
   "outputs": [
    {
     "data": {
      "text/plain": [
       "16227"
      ]
     },
     "execution_count": 23,
     "metadata": {},
     "output_type": "execute_result"
    }
   ],
   "source": [
    "data['vehicle_type'].isna().sum()"
   ]
  },
  {
   "cell_type": "code",
   "execution_count": 24,
   "metadata": {},
   "outputs": [
    {
     "data": {
      "text/plain": [
       "sedan          72135\n",
       "small          63143\n",
       "wagon          52917\n",
       "bus            24410\n",
       "convertible    16282\n",
       "coupe          12385\n",
       "suv             9279\n",
       "other           2656\n",
       "Name: vehicle_type, dtype: int64"
      ]
     },
     "execution_count": 24,
     "metadata": {},
     "output_type": "execute_result"
    }
   ],
   "source": [
    "data['vehicle_type'].value_counts()"
   ]
  },
  {
   "cell_type": "markdown",
   "metadata": {},
   "source": [
    "Заполним пропущенные значения параметром `unknow`"
   ]
  },
  {
   "cell_type": "code",
   "execution_count": 25,
   "metadata": {},
   "outputs": [],
   "source": [
    "data['vehicle_type'].fillna('unknown', inplace=True)"
   ]
  },
  {
   "cell_type": "markdown",
   "metadata": {},
   "source": [
    "***Тип топлива***"
   ]
  },
  {
   "cell_type": "markdown",
   "metadata": {},
   "source": [
    "Здесь так же пропущенные значения заменим на `unknown`"
   ]
  },
  {
   "cell_type": "code",
   "execution_count": 26,
   "metadata": {},
   "outputs": [],
   "source": [
    "data['fuel_type'].fillna('unknown', inplace=True)"
   ]
  },
  {
   "cell_type": "markdown",
   "metadata": {},
   "source": [
    "***Мощность***\n"
   ]
  },
  {
   "cell_type": "code",
   "execution_count": 27,
   "metadata": {},
   "outputs": [
    {
     "data": {
      "text/plain": [
       "count    269434.000000\n",
       "mean        112.572775\n",
       "std         196.662488\n",
       "min           0.000000\n",
       "25%          75.000000\n",
       "50%         105.000000\n",
       "75%         143.000000\n",
       "max       20000.000000\n",
       "Name: power, dtype: float64"
      ]
     },
     "execution_count": 27,
     "metadata": {},
     "output_type": "execute_result"
    }
   ],
   "source": [
    "data['power'].describe()"
   ]
  },
  {
   "cell_type": "code",
   "execution_count": 28,
   "metadata": {},
   "outputs": [
    {
     "data": {
      "image/png": "[encoded data removed]",
      "text/plain": [
       "<Figure size 1080x720 with 1 Axes>"
      ]
     },
     "metadata": {
      "needs_background": "light"
     },
     "output_type": "display_data"
    }
   ],
   "source": [
    "data['power'].plot(kind = 'box', figsize=(15, 10), use_index = None)\n",
    "plt.ylabel('Мощность автомобиля')\n",
    "plt.title('Диаграмма размаха года мощности автомобилей')\n",
    "plt.ylim(0,1000)\n",
    "plt.show()"
   ]
  },
  {
   "cell_type": "markdown",
   "metadata": {},
   "source": [
    "Мы видим выбросы выше 250, удалим их, а так же удалим значения, равные меньшие 30 - исключим совсем старые автомобили с малой мощностью"
   ]
  },
  {
   "cell_type": "code",
   "execution_count": 29,
   "metadata": {},
   "outputs": [],
   "source": [
    "data = data.query('30 < power <= 250')"
   ]
  },
  {
   "cell_type": "code",
   "execution_count": 30,
   "metadata": {},
   "outputs": [
    {
     "name": "stdout",
     "output_type": "stream",
     "text": [
      "<class 'pandas.core.frame.DataFrame'>\n",
      "Int64Index: 237807 entries, 2 to 354368\n",
      "Data columns (total 10 columns):\n",
      " #   Column             Non-Null Count   Dtype \n",
      "---  ------             --------------   ----- \n",
      " 0   price              237807 non-null  int64 \n",
      " 1   vehicle_type       237807 non-null  object\n",
      " 2   registration_year  237807 non-null  int64 \n",
      " 3   gearbox            237807 non-null  object\n",
      " 4   power              237807 non-null  int64 \n",
      " 5   model              237807 non-null  object\n",
      " 6   kilometer          237807 non-null  int64 \n",
      " 7   fuel_type          237807 non-null  object\n",
      " 8   brand              237807 non-null  object\n",
      " 9   repaired           237807 non-null  object\n",
      "dtypes: int64(4), object(6)\n",
      "memory usage: 20.0+ MB\n"
     ]
    }
   ],
   "source": [
    "data.info()"
   ]
  },
  {
   "cell_type": "code",
   "execution_count": 31,
   "metadata": {},
   "outputs": [
    {
     "data": {
      "text/plain": [
       "price                0\n",
       "vehicle_type         0\n",
       "registration_year    0\n",
       "gearbox              0\n",
       "power                0\n",
       "model                0\n",
       "kilometer            0\n",
       "fuel_type            0\n",
       "brand                0\n",
       "repaired             0\n",
       "dtype: int64"
      ]
     },
     "execution_count": 31,
     "metadata": {},
     "output_type": "execute_result"
    }
   ],
   "source": [
    "data.isna().sum()"
   ]
  },
  {
   "cell_type": "markdown",
   "metadata": {},
   "source": [
    "Мы обработали данные, у нас осталось 247574 значения. Приступим к подготовки и обучению моделей"
   ]
  },
  {
   "cell_type": "code",
   "execution_count": 32,
   "metadata": {
    "scrolled": true
   },
   "outputs": [
    {
     "data": {
      "text/html": [
       "<div>\n",
       "<style scoped>\n",
       "    .dataframe tbody tr th:only-of-type {\n",
       "        vertical-align: middle;\n",
       "    }\n",
       "\n",
       "    .dataframe tbody tr th {\n",
       "        vertical-align: top;\n",
       "    }\n",
       "\n",
       "    .dataframe thead th {\n",
       "        text-align: right;\n",
       "    }\n",
       "</style>\n",
       "<table border=\"1\" class=\"dataframe\">\n",
       "  <thead>\n",
       "    <tr style=\"text-align: right;\">\n",
       "      <th></th>\n",
       "      <th>price</th>\n",
       "      <th>vehicle_type</th>\n",
       "      <th>registration_year</th>\n",
       "      <th>gearbox</th>\n",
       "      <th>power</th>\n",
       "      <th>model</th>\n",
       "      <th>kilometer</th>\n",
       "      <th>fuel_type</th>\n",
       "      <th>brand</th>\n",
       "      <th>repaired</th>\n",
       "    </tr>\n",
       "  </thead>\n",
       "  <tbody>\n",
       "    <tr>\n",
       "      <th>0</th>\n",
       "      <td>9800</td>\n",
       "      <td>suv</td>\n",
       "      <td>2004</td>\n",
       "      <td>auto</td>\n",
       "      <td>163</td>\n",
       "      <td>grand</td>\n",
       "      <td>125000</td>\n",
       "      <td>gasoline</td>\n",
       "      <td>jeep</td>\n",
       "      <td>unknown</td>\n",
       "    </tr>\n",
       "    <tr>\n",
       "      <th>1</th>\n",
       "      <td>1500</td>\n",
       "      <td>small</td>\n",
       "      <td>2001</td>\n",
       "      <td>manual</td>\n",
       "      <td>75</td>\n",
       "      <td>golf</td>\n",
       "      <td>150000</td>\n",
       "      <td>petrol</td>\n",
       "      <td>volkswagen</td>\n",
       "      <td>no</td>\n",
       "    </tr>\n",
       "    <tr>\n",
       "      <th>2</th>\n",
       "      <td>3600</td>\n",
       "      <td>small</td>\n",
       "      <td>2008</td>\n",
       "      <td>manual</td>\n",
       "      <td>69</td>\n",
       "      <td>fabia</td>\n",
       "      <td>90000</td>\n",
       "      <td>gasoline</td>\n",
       "      <td>skoda</td>\n",
       "      <td>no</td>\n",
       "    </tr>\n",
       "    <tr>\n",
       "      <th>3</th>\n",
       "      <td>650</td>\n",
       "      <td>sedan</td>\n",
       "      <td>1995</td>\n",
       "      <td>manual</td>\n",
       "      <td>102</td>\n",
       "      <td>3er</td>\n",
       "      <td>150000</td>\n",
       "      <td>petrol</td>\n",
       "      <td>bmw</td>\n",
       "      <td>yes</td>\n",
       "    </tr>\n",
       "    <tr>\n",
       "      <th>4</th>\n",
       "      <td>2200</td>\n",
       "      <td>convertible</td>\n",
       "      <td>2004</td>\n",
       "      <td>manual</td>\n",
       "      <td>109</td>\n",
       "      <td>2_reihe</td>\n",
       "      <td>150000</td>\n",
       "      <td>petrol</td>\n",
       "      <td>peugeot</td>\n",
       "      <td>no</td>\n",
       "    </tr>\n",
       "  </tbody>\n",
       "</table>\n",
       "</div>"
      ],
      "text/plain": [
       "   price vehicle_type  registration_year gearbox  power    model  kilometer  \\\n",
       "0   9800          suv               2004    auto    163    grand     125000   \n",
       "1   1500        small               2001  manual     75     golf     150000   \n",
       "2   3600        small               2008  manual     69    fabia      90000   \n",
       "3    650        sedan               1995  manual    102      3er     150000   \n",
       "4   2200  convertible               2004  manual    109  2_reihe     150000   \n",
       "\n",
       "  fuel_type       brand repaired  \n",
       "0  gasoline        jeep  unknown  \n",
       "1    petrol  volkswagen       no  \n",
       "2  gasoline       skoda       no  \n",
       "3    petrol         bmw      yes  \n",
       "4    petrol     peugeot       no  "
      ]
     },
     "execution_count": 32,
     "metadata": {},
     "output_type": "execute_result"
    }
   ],
   "source": [
    "data = data.reset_index(drop=True)\n",
    "data.head()"
   ]
  },
  {
   "cell_type": "markdown",
   "metadata": {},
   "source": [
    "# Вывод\n",
    "\n",
    " - Были проанализированы данные\n",
    " \n",
    " - Названия столбцов приведены к классическому стилю\n",
    "\n",
    " - Обработаны пропуски,аномалии и некорректные значения\n",
    "\n",
    " - Убраны столбцы, которые не оказывают влияния на целевой признак\n",
    " \n"
   ]
  },
  {
   "cell_type": "markdown",
   "metadata": {},
   "source": [
    "## Обучение моделей"
   ]
  },
  {
   "cell_type": "markdown",
   "metadata": {},
   "source": [
    "**Создадим переменную `features` со всеми признаками, кроме `price`. Создадим переменную target с целевым признаком `price`**"
   ]
  },
  {
   "cell_type": "code",
   "execution_count": 33,
   "metadata": {},
   "outputs": [],
   "source": [
    "features = data.drop(['price'], axis=1)\n",
    "target = data['price']"
   ]
  },
  {
   "cell_type": "markdown",
   "metadata": {},
   "source": [
    "Разобьем выборку на обучающую и тестовую"
   ]
  },
  {
   "cell_type": "code",
   "execution_count": 34,
   "metadata": {},
   "outputs": [
    {
     "name": "stdout",
     "output_type": "stream",
     "text": [
      "<class 'pandas.core.frame.DataFrame'>\n",
      "Int64Index: 178355 entries, 26464 to 217570\n",
      "Data columns (total 9 columns):\n",
      " #   Column             Non-Null Count   Dtype \n",
      "---  ------             --------------   ----- \n",
      " 0   vehicle_type       178355 non-null  object\n",
      " 1   registration_year  178355 non-null  int64 \n",
      " 2   gearbox            178355 non-null  object\n",
      " 3   power              178355 non-null  int64 \n",
      " 4   model              178355 non-null  object\n",
      " 5   kilometer          178355 non-null  int64 \n",
      " 6   fuel_type          178355 non-null  object\n",
      " 7   brand              178355 non-null  object\n",
      " 8   repaired           178355 non-null  object\n",
      "dtypes: int64(3), object(6)\n",
      "memory usage: 13.6+ MB\n"
     ]
    }
   ],
   "source": [
    "features_train, features_test, target_train, target_test = train_test_split(features,target,test_size=0.25,\n",
    "                                                                              random_state = 12345)\n",
    "features_train.info()"
   ]
  },
  {
   "cell_type": "markdown",
   "metadata": {},
   "source": [
    "Сначала обучим модель с помощью `Catboost`, так как для нее не нужно кодирование категориальных признаков"
   ]
  },
  {
   "cell_type": "code",
   "execution_count": 35,
   "metadata": {},
   "outputs": [
    {
     "data": {
      "application/vnd.jupyter.widget-view+json": {
       "model_id": "8a4c542387524f349ce047b7fdd7ef59",
       "version_major": 2,
       "version_minor": 0
      },
      "text/plain": [
       "MetricVisualizer(layout=Layout(align_self='stretch', height='500px'))"
      ]
     },
     "metadata": {},
     "output_type": "display_data"
    },
    {
     "name": "stdout",
     "output_type": "stream",
     "text": [
      "\n",
      "bestTest = 1631.071134\n",
      "bestIteration = 99\n",
      "\n",
      "0:\tloss: 1631.0711342\tbest: 1631.0711342 (0)\ttotal: 4.33s\tremaining: 2m 31s\n",
      "\n",
      "bestTest = 1607.171034\n",
      "bestIteration = 99\n",
      "\n",
      "1:\tloss: 1607.1710343\tbest: 1607.1710343 (1)\ttotal: 7.76s\tremaining: 2m 11s\n",
      "\n",
      "bestTest = 1589.850836\n",
      "bestIteration = 99\n",
      "\n",
      "2:\tloss: 1589.8508365\tbest: 1589.8508365 (2)\ttotal: 11.1s\tremaining: 2m 2s\n",
      "\n",
      "bestTest = 1591.616449\n",
      "bestIteration = 149\n",
      "\n",
      "3:\tloss: 1591.6164494\tbest: 1589.8508365 (2)\ttotal: 16.1s\tremaining: 2m 8s\n",
      "\n",
      "bestTest = 1571.036059\n",
      "bestIteration = 149\n",
      "\n",
      "4:\tloss: 1571.0360595\tbest: 1571.0360595 (4)\ttotal: 21.1s\tremaining: 2m 10s\n",
      "\n",
      "bestTest = 1557.356492\n",
      "bestIteration = 149\n",
      "\n",
      "5:\tloss: 1557.3564919\tbest: 1557.3564919 (5)\ttotal: 26.3s\tremaining: 2m 11s\n",
      "\n",
      "bestTest = 1550.529308\n",
      "bestIteration = 199\n",
      "\n",
      "6:\tloss: 1550.5293075\tbest: 1550.5293075 (6)\ttotal: 37s\tremaining: 2m 33s\n",
      "\n",
      "bestTest = 1539.568942\n",
      "bestIteration = 199\n",
      "\n",
      "7:\tloss: 1539.5689423\tbest: 1539.5689423 (7)\ttotal: 47.4s\tremaining: 2m 45s\n",
      "\n",
      "bestTest = 1521.010437\n",
      "bestIteration = 199\n",
      "\n",
      "8:\tloss: 1521.0104369\tbest: 1521.0104369 (8)\ttotal: 58.6s\tremaining: 2m 55s\n",
      "\n",
      "bestTest = 1495.726647\n",
      "bestIteration = 99\n",
      "\n",
      "9:\tloss: 1495.7266471\tbest: 1495.7266471 (9)\ttotal: 1m 3s\tremaining: 2m 45s\n",
      "\n",
      "bestTest = 1474.869864\n",
      "bestIteration = 99\n",
      "\n",
      "10:\tloss: 1474.8698636\tbest: 1474.8698636 (10)\ttotal: 1m 8s\tremaining: 2m 36s\n",
      "\n",
      "bestTest = 1471.802276\n",
      "bestIteration = 99\n",
      "\n",
      "11:\tloss: 1471.8022764\tbest: 1471.8022764 (11)\ttotal: 1m 14s\tremaining: 2m 28s\n",
      "\n",
      "bestTest = 1470.848228\n",
      "bestIteration = 149\n",
      "\n",
      "12:\tloss: 1470.8482279\tbest: 1470.8482279 (12)\ttotal: 1m 22s\tremaining: 2m 25s\n",
      "\n",
      "bestTest = 1456.329668\n",
      "bestIteration = 149\n",
      "\n",
      "13:\tloss: 1456.3296683\tbest: 1456.3296683 (13)\ttotal: 1m 29s\tremaining: 2m 21s\n",
      "\n",
      "bestTest = 1451.488187\n",
      "bestIteration = 149\n",
      "\n",
      "14:\tloss: 1451.4881872\tbest: 1451.4881872 (14)\ttotal: 1m 37s\tremaining: 2m 16s\n",
      "\n",
      "bestTest = 1441.553423\n",
      "bestIteration = 199\n",
      "\n",
      "15:\tloss: 1441.5534235\tbest: 1441.5534235 (15)\ttotal: 2m 2s\tremaining: 2m 32s\n",
      "\n",
      "bestTest = 1434.106932\n",
      "bestIteration = 199\n",
      "\n",
      "16:\tloss: 1434.1069320\tbest: 1434.1069320 (16)\ttotal: 2m 26s\tremaining: 2m 43s\n",
      "\n",
      "bestTest = 1421.086824\n",
      "bestIteration = 196\n",
      "\n",
      "17:\tloss: 1421.0868240\tbest: 1421.0868240 (17)\ttotal: 2m 49s\tremaining: 2m 49s\n",
      "\n",
      "bestTest = 1441.989895\n",
      "bestIteration = 99\n",
      "\n",
      "18:\tloss: 1441.9898954\tbest: 1421.0868240 (17)\ttotal: 2m 56s\tremaining: 2m 38s\n",
      "\n",
      "bestTest = 1430.640175\n",
      "bestIteration = 97\n",
      "\n",
      "19:\tloss: 1430.6401749\tbest: 1421.0868240 (17)\ttotal: 3m 4s\tremaining: 2m 27s\n",
      "\n",
      "bestTest = 1431.870649\n",
      "bestIteration = 99\n",
      "\n",
      "20:\tloss: 1431.8706485\tbest: 1421.0868240 (17)\ttotal: 3m 11s\tremaining: 2m 17s\n",
      "\n",
      "bestTest = 1422.008607\n",
      "bestIteration = 149\n",
      "\n",
      "21:\tloss: 1422.0086069\tbest: 1421.0868240 (17)\ttotal: 3m 22s\tremaining: 2m 8s\n",
      "\n",
      "bestTest = 1412.898768\n",
      "bestIteration = 147\n",
      "\n",
      "22:\tloss: 1412.8987683\tbest: 1412.8987683 (22)\ttotal: 3m 32s\tremaining: 2m\n",
      "\n",
      "bestTest = 1415.466298\n",
      "bestIteration = 148\n",
      "\n",
      "23:\tloss: 1415.4662980\tbest: 1412.8987683 (22)\ttotal: 3m 42s\tremaining: 1m 51s\n",
      "\n",
      "bestTest = 1401.202145\n",
      "bestIteration = 199\n",
      "\n",
      "24:\tloss: 1401.2021446\tbest: 1401.2021446 (24)\ttotal: 4m 18s\tremaining: 1m 53s\n",
      "\n",
      "bestTest = 1395.406785\n",
      "bestIteration = 199\n",
      "\n",
      "25:\tloss: 1395.4067852\tbest: 1395.4067852 (25)\ttotal: 4m 54s\tremaining: 1m 53s\n",
      "\n",
      "bestTest = 1395.388346\n",
      "bestIteration = 194\n",
      "\n",
      "26:\tloss: 1395.3883463\tbest: 1395.3883463 (26)\ttotal: 5m 32s\tremaining: 1m 50s\n",
      "\n",
      "bestTest = 1398.107184\n",
      "bestIteration = 99\n",
      "\n",
      "27:\tloss: 1398.1071841\tbest: 1395.3883463 (26)\ttotal: 5m 42s\tremaining: 1m 37s\n",
      "\n",
      "bestTest = 1401.38216\n",
      "bestIteration = 99\n",
      "\n",
      "28:\tloss: 1401.3821600\tbest: 1395.3883463 (26)\ttotal: 5m 51s\tremaining: 1m 24s\n",
      "\n",
      "bestTest = 1401.899527\n",
      "bestIteration = 98\n",
      "\n",
      "29:\tloss: 1401.8995275\tbest: 1395.3883463 (26)\ttotal: 6m 1s\tremaining: 1m 12s\n",
      "\n",
      "bestTest = 1386.032406\n",
      "bestIteration = 148\n",
      "\n",
      "30:\tloss: 1386.0324063\tbest: 1386.0324063 (30)\ttotal: 6m 14s\tremaining: 1m\n",
      "\n",
      "bestTest = 1389.427013\n",
      "bestIteration = 149\n",
      "\n",
      "31:\tloss: 1389.4270133\tbest: 1386.0324063 (30)\ttotal: 6m 28s\tremaining: 48.6s\n",
      "\n",
      "bestTest = 1390.646218\n",
      "bestIteration = 145\n",
      "\n",
      "32:\tloss: 1390.6462181\tbest: 1386.0324063 (30)\ttotal: 6m 41s\tremaining: 36.5s\n",
      "\n",
      "bestTest = 1377.658406\n",
      "bestIteration = 194\n",
      "\n",
      "33:\tloss: 1377.6584057\tbest: 1377.6584057 (33)\ttotal: 7m 31s\tremaining: 26.5s\n",
      "\n",
      "bestTest = 1381.254143\n",
      "bestIteration = 199\n",
      "\n",
      "34:\tloss: 1381.2541433\tbest: 1377.6584057 (33)\ttotal: 8m 25s\tremaining: 14.4s\n",
      "\n",
      "bestTest = 1387.2599\n",
      "bestIteration = 199\n",
      "\n",
      "35:\tloss: 1387.2598999\tbest: 1377.6584057 (33)\ttotal: 9m 16s\tremaining: 0us\n",
      "Estimating final quality...\n",
      "Training on fold [0/5]\n",
      "\n",
      "bestTest = 1387.119956\n",
      "bestIteration = 199\n",
      "\n",
      "Training on fold [1/5]\n",
      "\n",
      "bestTest = 1359.682373\n",
      "bestIteration = 199\n",
      "\n",
      "Training on fold [2/5]\n",
      "\n",
      "bestTest = 1389.12526\n",
      "bestIteration = 197\n",
      "\n",
      "Training on fold [3/5]\n",
      "\n",
      "bestTest = 1397.386501\n",
      "bestIteration = 194\n",
      "\n",
      "Training on fold [4/5]\n",
      "\n",
      "bestTest = 1376.177936\n",
      "bestIteration = 198\n",
      "\n",
      "CPU times: user 13min 57s, sys: 16.8 s, total: 14min 13s\n",
      "Wall time: 14min 30s\n"
     ]
    },
    {
     "data": {
      "text/plain": [
       "{'params': {'depth': 8, 'iterations': 200, 'learning_rate': 0.3},\n",
       " 'cv_results': defaultdict(list,\n",
       "             {'iterations': [0,\n",
       "               1,\n",
       "               2,\n",
       "               3,\n",
       "               4,\n",
       "               5,\n",
       "               6,\n",
       "               7,\n",
       "               8,\n",
       "               9,\n",
       "               10,\n",
       "               11,\n",
       "               12,\n",
       "               13,\n",
       "               14,\n",
       "               15,\n",
       "               16,\n",
       "               17,\n",
       "               18,\n",
       "               19,\n",
       "               20,\n",
       "               21,\n",
       "               22,\n",
       "               23,\n",
       "               24,\n",
       "               25,\n",
       "               26,\n",
       "               27,\n",
       "               28,\n",
       "               29,\n",
       "               30,\n",
       "               31,\n",
       "               32,\n",
       "               33,\n",
       "               34,\n",
       "               35,\n",
       "               36,\n",
       "               37,\n",
       "               38,\n",
       "               39,\n",
       "               40,\n",
       "               41,\n",
       "               42,\n",
       "               43,\n",
       "               44,\n",
       "               45,\n",
       "               46,\n",
       "               47,\n",
       "               48,\n",
       "               49,\n",
       "               50,\n",
       "               51,\n",
       "               52,\n",
       "               53,\n",
       "               54,\n",
       "               55,\n",
       "               56,\n",
       "               57,\n",
       "               58,\n",
       "               59,\n",
       "               60,\n",
       "               61,\n",
       "               62,\n",
       "               63,\n",
       "               64,\n",
       "               65,\n",
       "               66,\n",
       "               67,\n",
       "               68,\n",
       "               69,\n",
       "               70,\n",
       "               71,\n",
       "               72,\n",
       "               73,\n",
       "               74,\n",
       "               75,\n",
       "               76,\n",
       "               77,\n",
       "               78,\n",
       "               79,\n",
       "               80,\n",
       "               81,\n",
       "               82,\n",
       "               83,\n",
       "               84,\n",
       "               85,\n",
       "               86,\n",
       "               87,\n",
       "               88,\n",
       "               89,\n",
       "               90,\n",
       "               91,\n",
       "               92,\n",
       "               93,\n",
       "               94,\n",
       "               95,\n",
       "               96,\n",
       "               97,\n",
       "               98,\n",
       "               99,\n",
       "               100,\n",
       "               101,\n",
       "               102,\n",
       "               103,\n",
       "               104,\n",
       "               105,\n",
       "               106,\n",
       "               107,\n",
       "               108,\n",
       "               109,\n",
       "               110,\n",
       "               111,\n",
       "               112,\n",
       "               113,\n",
       "               114,\n",
       "               115,\n",
       "               116,\n",
       "               117,\n",
       "               118,\n",
       "               119,\n",
       "               120,\n",
       "               121,\n",
       "               122,\n",
       "               123,\n",
       "               124,\n",
       "               125,\n",
       "               126,\n",
       "               127,\n",
       "               128,\n",
       "               129,\n",
       "               130,\n",
       "               131,\n",
       "               132,\n",
       "               133,\n",
       "               134,\n",
       "               135,\n",
       "               136,\n",
       "               137,\n",
       "               138,\n",
       "               139,\n",
       "               140,\n",
       "               141,\n",
       "               142,\n",
       "               143,\n",
       "               144,\n",
       "               145,\n",
       "               146,\n",
       "               147,\n",
       "               148,\n",
       "               149,\n",
       "               150,\n",
       "               151,\n",
       "               152,\n",
       "               153,\n",
       "               154,\n",
       "               155,\n",
       "               156,\n",
       "               157,\n",
       "               158,\n",
       "               159,\n",
       "               160,\n",
       "               161,\n",
       "               162,\n",
       "               163,\n",
       "               164,\n",
       "               165,\n",
       "               166,\n",
       "               167,\n",
       "               168,\n",
       "               169,\n",
       "               170,\n",
       "               171,\n",
       "               172,\n",
       "               173,\n",
       "               174,\n",
       "               175,\n",
       "               176,\n",
       "               177,\n",
       "               178,\n",
       "               179,\n",
       "               180,\n",
       "               181,\n",
       "               182,\n",
       "               183,\n",
       "               184,\n",
       "               185,\n",
       "               186,\n",
       "               187,\n",
       "               188,\n",
       "               189,\n",
       "               190,\n",
       "               191,\n",
       "               192,\n",
       "               193,\n",
       "               194,\n",
       "               195,\n",
       "               196,\n",
       "               197,\n",
       "               198,\n",
       "               199],\n",
       "              'test-RMSE-mean': [4498.757481763523,\n",
       "               3473.4004449611725,\n",
       "               2779.2795059123932,\n",
       "               2334.533414835899,\n",
       "               2051.9544737458937,\n",
       "               1878.6550492208862,\n",
       "               1774.3540360377258,\n",
       "               1708.8032279926967,\n",
       "               1664.6688765312829,\n",
       "               1628.0528726722325,\n",
       "               1606.8998310473867,\n",
       "               1589.586875560432,\n",
       "               1577.7786082159296,\n",
       "               1566.792194833446,\n",
       "               1557.299768849563,\n",
       "               1549.7388830338755,\n",
       "               1542.7913210603256,\n",
       "               1534.1542853764306,\n",
       "               1527.5836088189092,\n",
       "               1520.0046211466404,\n",
       "               1514.0149339056388,\n",
       "               1509.671604991617,\n",
       "               1504.8760202368887,\n",
       "               1501.4906117562425,\n",
       "               1497.419018007084,\n",
       "               1493.2225102784882,\n",
       "               1489.2056876466745,\n",
       "               1485.9553045243488,\n",
       "               1483.0185802622918,\n",
       "               1479.8305389824422,\n",
       "               1477.3466438043224,\n",
       "               1475.008617006559,\n",
       "               1472.0888163791565,\n",
       "               1469.6466454144627,\n",
       "               1467.0070886193841,\n",
       "               1464.9573119019788,\n",
       "               1462.8808436316542,\n",
       "               1460.627679672426,\n",
       "               1458.9015087935252,\n",
       "               1457.0630231498467,\n",
       "               1455.3325528188611,\n",
       "               1453.7326736866269,\n",
       "               1451.6531656551092,\n",
       "               1450.3404605081257,\n",
       "               1447.4647381056006,\n",
       "               1445.6647534005463,\n",
       "               1444.0404172439698,\n",
       "               1442.5631273520723,\n",
       "               1440.9804549949445,\n",
       "               1439.3621544628486,\n",
       "               1438.2812605195002,\n",
       "               1437.1715461581725,\n",
       "               1435.8955063071164,\n",
       "               1434.0867280416915,\n",
       "               1432.846444722998,\n",
       "               1431.445289530077,\n",
       "               1429.9709930186632,\n",
       "               1428.4662207896188,\n",
       "               1427.596606817684,\n",
       "               1426.6389504969952,\n",
       "               1426.0738013664943,\n",
       "               1425.3480323862555,\n",
       "               1424.4300151364212,\n",
       "               1423.4851462647987,\n",
       "               1422.5784697531265,\n",
       "               1422.046063242698,\n",
       "               1421.0956959000853,\n",
       "               1420.0000337589943,\n",
       "               1419.3648842453438,\n",
       "               1418.7344736343778,\n",
       "               1418.161435327981,\n",
       "               1417.7354428706644,\n",
       "               1417.3026923702942,\n",
       "               1416.5701159760606,\n",
       "               1416.0277385141112,\n",
       "               1415.333948980871,\n",
       "               1414.675373874816,\n",
       "               1413.8802901881418,\n",
       "               1413.2735777989806,\n",
       "               1412.7003222875646,\n",
       "               1411.8823062803017,\n",
       "               1410.9726719260962,\n",
       "               1410.2890925552936,\n",
       "               1409.76738446637,\n",
       "               1409.284850823916,\n",
       "               1408.710628897806,\n",
       "               1408.0409515050278,\n",
       "               1407.7562784254292,\n",
       "               1406.9953292274897,\n",
       "               1406.3437923485478,\n",
       "               1405.586923253366,\n",
       "               1405.2840781961409,\n",
       "               1404.9709885085917,\n",
       "               1404.5854540541336,\n",
       "               1404.2825820783507,\n",
       "               1404.0272916969893,\n",
       "               1403.7650873634313,\n",
       "               1403.1894587033523,\n",
       "               1402.8286078121341,\n",
       "               1402.5332043540652,\n",
       "               1402.1431692585768,\n",
       "               1401.6650443166873,\n",
       "               1401.138140911306,\n",
       "               1400.4242545164614,\n",
       "               1399.942519364888,\n",
       "               1399.654296789815,\n",
       "               1399.2440420019648,\n",
       "               1398.8125330563823,\n",
       "               1398.7422077174713,\n",
       "               1398.297080370813,\n",
       "               1398.2170444779263,\n",
       "               1397.5725459992186,\n",
       "               1397.3760084311843,\n",
       "               1397.0330342140267,\n",
       "               1396.6947315103641,\n",
       "               1396.4058161747478,\n",
       "               1396.1532079699564,\n",
       "               1395.8348778998254,\n",
       "               1395.334584299298,\n",
       "               1395.0430730643268,\n",
       "               1394.6408358276608,\n",
       "               1394.2566068616804,\n",
       "               1393.9960999420075,\n",
       "               1393.605477728571,\n",
       "               1393.3529207677655,\n",
       "               1392.9313330706289,\n",
       "               1392.757940371414,\n",
       "               1392.638969829945,\n",
       "               1392.4951296806332,\n",
       "               1392.2291091737977,\n",
       "               1392.0229727337176,\n",
       "               1391.924903461988,\n",
       "               1391.6854668005296,\n",
       "               1391.4728589711804,\n",
       "               1391.420169726666,\n",
       "               1391.01390158383,\n",
       "               1390.9571980360245,\n",
       "               1390.8552551975765,\n",
       "               1390.803489724846,\n",
       "               1390.514225964716,\n",
       "               1390.1639760484254,\n",
       "               1390.0972367846693,\n",
       "               1390.0244284903408,\n",
       "               1389.8498777268042,\n",
       "               1389.5655949156815,\n",
       "               1389.336029401081,\n",
       "               1389.081399633933,\n",
       "               1388.9219859784837,\n",
       "               1388.728726822079,\n",
       "               1388.5089075385233,\n",
       "               1388.3409702172073,\n",
       "               1388.120284711146,\n",
       "               1387.9269234770134,\n",
       "               1387.7587877489736,\n",
       "               1387.5285942848177,\n",
       "               1387.382018818776,\n",
       "               1387.2026764730374,\n",
       "               1387.1393706127005,\n",
       "               1386.9693952915006,\n",
       "               1386.839956164482,\n",
       "               1386.52148055098,\n",
       "               1386.4113866804678,\n",
       "               1386.2791966570862,\n",
       "               1386.2021621891727,\n",
       "               1386.0191270255502,\n",
       "               1385.8845177071655,\n",
       "               1385.7954845108118,\n",
       "               1385.525636408037,\n",
       "               1385.365320709399,\n",
       "               1385.215393592706,\n",
       "               1385.1187484915524,\n",
       "               1385.0682849700047,\n",
       "               1385.0245768604284,\n",
       "               1384.9193841505025,\n",
       "               1384.839851685879,\n",
       "               1384.7792488120908,\n",
       "               1384.7211990342093,\n",
       "               1384.528984833383,\n",
       "               1384.466398635257,\n",
       "               1384.3583411385891,\n",
       "               1384.2135371113382,\n",
       "               1384.0923740129904,\n",
       "               1384.114002841849,\n",
       "               1383.9167904886592,\n",
       "               1383.6572990178772,\n",
       "               1383.651593520301,\n",
       "               1383.6272408456925,\n",
       "               1383.4508932873637,\n",
       "               1383.2539863485488,\n",
       "               1383.2344223320438,\n",
       "               1383.0587325216468,\n",
       "               1382.9034023790605,\n",
       "               1382.7231543073253,\n",
       "               1382.5440963733447,\n",
       "               1382.3038836216306,\n",
       "               1382.1870030776531,\n",
       "               1382.030114667718,\n",
       "               1382.0144484193486,\n",
       "               1381.9976192059705,\n",
       "               1381.9353302225231],\n",
       "              'test-RMSE-std': [15.361310943306497,\n",
       "               11.062150841165456,\n",
       "               8.985591063566483,\n",
       "               7.310160173425794,\n",
       "               14.470394967331721,\n",
       "               17.05222861457105,\n",
       "               17.78730489926818,\n",
       "               17.981721520691952,\n",
       "               21.9493545590531,\n",
       "               26.295210063497635,\n",
       "               22.839234896882054,\n",
       "               23.176767981742245,\n",
       "               23.64005661284649,\n",
       "               23.942541342605164,\n",
       "               22.17321072655182,\n",
       "               21.097293482855616,\n",
       "               21.77179726742699,\n",
       "               20.309908389375387,\n",
       "               19.14587206885515,\n",
       "               20.01426472649932,\n",
       "               20.327394315890412,\n",
       "               20.575657220655863,\n",
       "               21.444668327700597,\n",
       "               20.336586297741107,\n",
       "               19.548378746785087,\n",
       "               20.43498351730919,\n",
       "               20.193203428353,\n",
       "               20.4059298494416,\n",
       "               20.294037393791353,\n",
       "               19.893002915433662,\n",
       "               20.10557213381455,\n",
       "               19.775601222446294,\n",
       "               19.191802628058497,\n",
       "               19.837785175137814,\n",
       "               19.612601348791923,\n",
       "               19.838349317431906,\n",
       "               19.290978386609314,\n",
       "               19.3771448036996,\n",
       "               19.574642475925437,\n",
       "               19.2083337478757,\n",
       "               19.38184849442835,\n",
       "               19.527474291251192,\n",
       "               19.895547152755352,\n",
       "               19.91120519412685,\n",
       "               19.339996431084696,\n",
       "               19.09547868229525,\n",
       "               18.614364171911856,\n",
       "               18.42030946290378,\n",
       "               18.061290708726748,\n",
       "               17.969767533580253,\n",
       "               17.8547148609522,\n",
       "               17.78113326650065,\n",
       "               17.882533163983798,\n",
       "               17.565318399410465,\n",
       "               17.234632604198012,\n",
       "               16.97381944507261,\n",
       "               16.459788699830042,\n",
       "               16.65312278594703,\n",
       "               16.492974115125136,\n",
       "               16.547137070310598,\n",
       "               16.612931216776005,\n",
       "               17.11423608272559,\n",
       "               17.203065524948684,\n",
       "               17.3502761239051,\n",
       "               17.526174613214135,\n",
       "               17.450450736719,\n",
       "               17.48039941503487,\n",
       "               17.581516203236326,\n",
       "               17.507953729199393,\n",
       "               17.21547108735304,\n",
       "               17.009120212815944,\n",
       "               17.047737118869936,\n",
       "               16.788314019452883,\n",
       "               16.89199280954522,\n",
       "               16.603150239979772,\n",
       "               16.71503506451338,\n",
       "               16.706584649176968,\n",
       "               16.507981418247617,\n",
       "               16.4449318633398,\n",
       "               16.4714881948683,\n",
       "               16.616689673363467,\n",
       "               16.18450704564954,\n",
       "               16.55919765466006,\n",
       "               16.911851456097594,\n",
       "               16.829314658126457,\n",
       "               16.516753148241214,\n",
       "               16.105179789271382,\n",
       "               16.123469590340527,\n",
       "               15.873369837075161,\n",
       "               15.463385271348567,\n",
       "               15.304567303160892,\n",
       "               15.369095675185745,\n",
       "               15.431504046699004,\n",
       "               15.458508572355104,\n",
       "               15.622599855007214,\n",
       "               15.735713390769511,\n",
       "               15.757894333127814,\n",
       "               15.695929772316264,\n",
       "               15.563276556062181,\n",
       "               15.57990144755405,\n",
       "               15.78012262959078,\n",
       "               15.856557265793198,\n",
       "               15.8469174170783,\n",
       "               15.867591948419914,\n",
       "               15.778465800861767,\n",
       "               15.761862345043442,\n",
       "               15.867085531693663,\n",
       "               15.733811796635278,\n",
       "               15.678482440634578,\n",
       "               15.482490847741623,\n",
       "               15.608743957330676,\n",
       "               15.29873751260196,\n",
       "               15.301226066527475,\n",
       "               15.44742622617202,\n",
       "               15.65887055040509,\n",
       "               15.614042620717825,\n",
       "               15.566588600447979,\n",
       "               15.463261007133134,\n",
       "               15.384169873395097,\n",
       "               15.292302364628625,\n",
       "               14.979593290640636,\n",
       "               15.176396651252203,\n",
       "               15.069907620976958,\n",
       "               14.894106558690991,\n",
       "               14.868655514356579,\n",
       "               14.703507063880867,\n",
       "               14.712078456554982,\n",
       "               14.55288604489433,\n",
       "               14.33205136407669,\n",
       "               14.567911604633572,\n",
       "               14.63579107326992,\n",
       "               14.541862513832408,\n",
       "               14.642662316858615,\n",
       "               14.651918709333815,\n",
       "               14.710612064201978,\n",
       "               14.723613065584097,\n",
       "               14.706928087543488,\n",
       "               14.687952904627032,\n",
       "               14.731587984996052,\n",
       "               14.723706531472446,\n",
       "               14.669300144754075,\n",
       "               14.705063509947887,\n",
       "               14.615398341914734,\n",
       "               14.554301504175577,\n",
       "               14.461641430507523,\n",
       "               14.366688803995123,\n",
       "               14.308108191575851,\n",
       "               14.280045828052364,\n",
       "               14.285506946182513,\n",
       "               14.287540259370466,\n",
       "               14.273972731060116,\n",
       "               14.12633566618003,\n",
       "               14.201778767682406,\n",
       "               14.238850723604846,\n",
       "               14.31221395424003,\n",
       "               14.321407763874513,\n",
       "               14.391206910601394,\n",
       "               14.339996698804724,\n",
       "               14.219284466619671,\n",
       "               14.244609868833015,\n",
       "               14.050569150553047,\n",
       "               14.199353790059225,\n",
       "               14.214346370056013,\n",
       "               14.271958861131203,\n",
       "               14.2350863568507,\n",
       "               14.222264094699504,\n",
       "               14.153640032230165,\n",
       "               14.056438737690563,\n",
       "               13.9159792815739,\n",
       "               13.931705666405414,\n",
       "               13.896222248857867,\n",
       "               13.966405047724843,\n",
       "               13.905199276893098,\n",
       "               13.968981589367425,\n",
       "               13.892275081177948,\n",
       "               14.062952000490927,\n",
       "               13.981816666003,\n",
       "               13.889099353910721,\n",
       "               13.899083035877272,\n",
       "               13.935439221507684,\n",
       "               13.882731115998322,\n",
       "               13.899870309646849,\n",
       "               13.942203005718184,\n",
       "               13.965066599776035,\n",
       "               14.070028791041906,\n",
       "               14.10243513682487,\n",
       "               14.016625534403563,\n",
       "               14.212365578160707,\n",
       "               14.317624425713234,\n",
       "               14.379655286592307,\n",
       "               14.360041111551066,\n",
       "               14.331746182740305,\n",
       "               14.310939373774731,\n",
       "               14.327176095868857,\n",
       "               14.366110902827206,\n",
       "               14.337009341163016,\n",
       "               14.424401226425786,\n",
       "               14.459607252367917,\n",
       "               14.582596712381958,\n",
       "               14.57662503644155],\n",
       "              'train-RMSE-mean': [4498.495065668351,\n",
       "               3472.5321926190036,\n",
       "               2776.333507079871,\n",
       "               2331.495797041627,\n",
       "               2048.8078308486683,\n",
       "               1875.218657134998,\n",
       "               1769.8496317204597,\n",
       "               1703.6959725949018,\n",
       "               1659.825055177001,\n",
       "               1623.7473314456156,\n",
       "               1600.9699714274784,\n",
       "               1583.9023126066418,\n",
       "               1571.1654860324757,\n",
       "               1558.943401455647,\n",
       "               1548.867534755676,\n",
       "               1540.5906203476036,\n",
       "               1533.4098610962076,\n",
       "               1524.4274647059985,\n",
       "               1516.9815121755375,\n",
       "               1509.012485676904,\n",
       "               1502.5623035431606,\n",
       "               1497.2498254637817,\n",
       "               1491.6658503283559,\n",
       "               1487.756387572285,\n",
       "               1482.8127321870995,\n",
       "               1478.2362599116013,\n",
       "               1473.4824791076355,\n",
       "               1469.599184325383,\n",
       "               1466.1292010027514,\n",
       "               1462.422385904379,\n",
       "               1459.076382419572,\n",
       "               1456.1898385204418,\n",
       "               1453.0169853104612,\n",
       "               1449.650334153876,\n",
       "               1446.2415042550188,\n",
       "               1443.255290866818,\n",
       "               1440.5305791892215,\n",
       "               1437.7526684601512,\n",
       "               1435.5103377690752,\n",
       "               1433.0321607283315,\n",
       "               1430.6014348850738,\n",
       "               1428.3664338268286,\n",
       "               1426.0085765285398,\n",
       "               1424.2926710977717,\n",
       "               1420.6646117350328,\n",
       "               1418.3091949156885,\n",
       "               1415.978878748773,\n",
       "               1413.7931352106984,\n",
       "               1411.9301069378903,\n",
       "               1409.8844633997435,\n",
       "               1408.2861976088955,\n",
       "               1406.585868432506,\n",
       "               1404.2576716083736,\n",
       "               1402.1707921588902,\n",
       "               1400.352794206255,\n",
       "               1398.8546507793858,\n",
       "               1396.6881835406843,\n",
       "               1394.9522966099253,\n",
       "               1393.3697433114487,\n",
       "               1391.5455981994983,\n",
       "               1390.5908873530277,\n",
       "               1389.282137308292,\n",
       "               1387.8536621714536,\n",
       "               1386.5871557412622,\n",
       "               1384.9935549594006,\n",
       "               1384.0034174970795,\n",
       "               1382.6636662882668,\n",
       "               1380.9117175633176,\n",
       "               1379.7576630236283,\n",
       "               1378.5778715285571,\n",
       "               1377.2107244209496,\n",
       "               1376.2247888734341,\n",
       "               1375.5561189749062,\n",
       "               1374.540054695564,\n",
       "               1373.4633593231883,\n",
       "               1372.2894757471606,\n",
       "               1371.053508324984,\n",
       "               1370.0016808827756,\n",
       "               1369.0535081914732,\n",
       "               1368.10207257017,\n",
       "               1366.872309286961,\n",
       "               1365.5575147449097,\n",
       "               1364.4698939496598,\n",
       "               1363.5023135026363,\n",
       "               1362.4468570270692,\n",
       "               1361.3766064718948,\n",
       "               1360.5370413039989,\n",
       "               1359.8000466830338,\n",
       "               1358.62206207187,\n",
       "               1357.4758650348115,\n",
       "               1356.453607917871,\n",
       "               1355.6885437350306,\n",
       "               1355.007767325543,\n",
       "               1354.1944215301069,\n",
       "               1353.5542344038195,\n",
       "               1352.7821395512851,\n",
       "               1352.0550388774798,\n",
       "               1351.3495255188286,\n",
       "               1350.507444022976,\n",
       "               1349.8081977345062,\n",
       "               1348.968043830116,\n",
       "               1348.0344922372294,\n",
       "               1347.0553363906768,\n",
       "               1345.9206308208836,\n",
       "               1345.1067470058829,\n",
       "               1344.3813980017499,\n",
       "               1343.5658127479148,\n",
       "               1342.6981645018336,\n",
       "               1342.3268788139605,\n",
       "               1341.5682423178025,\n",
       "               1341.1028164870597,\n",
       "               1340.1884645053049,\n",
       "               1339.5702979649298,\n",
       "               1338.9977937929152,\n",
       "               1338.357986041216,\n",
       "               1337.500694523836,\n",
       "               1336.666592570818,\n",
       "               1335.8579013306191,\n",
       "               1334.8119288889914,\n",
       "               1334.058338044728,\n",
       "               1333.1637491878637,\n",
       "               1332.3444826544746,\n",
       "               1331.786583620195,\n",
       "               1330.8127234596648,\n",
       "               1329.9858743185785,\n",
       "               1329.2976954348267,\n",
       "               1328.5245743943874,\n",
       "               1328.06227070823,\n",
       "               1327.6303821663794,\n",
       "               1326.87641207536,\n",
       "               1326.3746739426076,\n",
       "               1325.8793541517578,\n",
       "               1325.2411882691033,\n",
       "               1324.848698510712,\n",
       "               1324.3905506015444,\n",
       "               1323.699635291201,\n",
       "               1323.1596005704998,\n",
       "               1322.7215353274478,\n",
       "               1322.2626393624125,\n",
       "               1321.5938412425496,\n",
       "               1320.853667559522,\n",
       "               1320.288895119957,\n",
       "               1319.8786400720985,\n",
       "               1319.0303924117065,\n",
       "               1318.244762910755,\n",
       "               1317.662235719115,\n",
       "               1317.0360919405634,\n",
       "               1316.4886664453857,\n",
       "               1315.7928045238004,\n",
       "               1315.303786848362,\n",
       "               1314.7948549666794,\n",
       "               1314.21723687079,\n",
       "               1313.6956613935586,\n",
       "               1313.1842989649344,\n",
       "               1312.4870033477819,\n",
       "               1312.1071000145955,\n",
       "               1311.5137436392108,\n",
       "               1311.145202456891,\n",
       "               1310.702334478708,\n",
       "               1310.3770806738667,\n",
       "               1309.5457178730744,\n",
       "               1308.970663179093,\n",
       "               1308.4637883016128,\n",
       "               1308.1250819431766,\n",
       "               1307.5159290404088,\n",
       "               1306.8834673154427,\n",
       "               1306.4242567725826,\n",
       "               1305.7667651112954,\n",
       "               1305.188256060525,\n",
       "               1304.7805233915767,\n",
       "               1304.3995143404893,\n",
       "               1303.8214683699903,\n",
       "               1303.3776169721757,\n",
       "               1302.9815378183137,\n",
       "               1302.6925855209938,\n",
       "               1302.3237363985522,\n",
       "               1302.027690024182,\n",
       "               1301.4862459118935,\n",
       "               1301.0303437157074,\n",
       "               1300.4750931623564,\n",
       "               1300.0038899517683,\n",
       "               1299.605513362599,\n",
       "               1299.374972303293,\n",
       "               1298.8535423126166,\n",
       "               1298.3867773262962,\n",
       "               1297.9654554314056,\n",
       "               1297.5137492706585,\n",
       "               1297.1106546213528,\n",
       "               1296.6394110676486,\n",
       "               1296.1113189863786,\n",
       "               1295.5362426509648,\n",
       "               1295.1081518037593,\n",
       "               1294.6656270922058,\n",
       "               1294.0570739518146,\n",
       "               1293.5353129317582,\n",
       "               1292.857846794747,\n",
       "               1292.3072699593279,\n",
       "               1291.9707637000204,\n",
       "               1291.5633604981406,\n",
       "               1291.034759881307],\n",
       "              'train-RMSE-std': [2.623927914596893,\n",
       "               1.8842281782285855,\n",
       "               3.657174835147533,\n",
       "               2.3079901036075534,\n",
       "               6.466318384789913,\n",
       "               7.168232509074844,\n",
       "               4.452190332687152,\n",
       "               3.506615346655609,\n",
       "               6.619215487593867,\n",
       "               8.03726997205785,\n",
       "               5.2780737298228235,\n",
       "               5.6690350292613765,\n",
       "               5.506380327800912,\n",
       "               4.639452244492655,\n",
       "               2.6756170340096026,\n",
       "               4.101116640046639,\n",
       "               3.3320605343992646,\n",
       "               3.184724315151838,\n",
       "               3.3970165277999995,\n",
       "               4.2058791666071285,\n",
       "               3.67501663776965,\n",
       "               2.3172295722612226,\n",
       "               2.572116740208353,\n",
       "               2.8067809282572105,\n",
       "               4.181106572766819,\n",
       "               4.683690016240608,\n",
       "               5.215061561510655,\n",
       "               5.378973358223558,\n",
       "               4.906926837325703,\n",
       "               4.997145120379413,\n",
       "               4.034909304480565,\n",
       "               4.7890994581033635,\n",
       "               4.224701548252806,\n",
       "               4.5527763586975345,\n",
       "               4.598311489547118,\n",
       "               4.756558277163478,\n",
       "               5.1882483326591355,\n",
       "               4.935527539194282,\n",
       "               5.351051576329145,\n",
       "               5.122188924555863,\n",
       "               5.250349561470056,\n",
       "               5.279047098844575,\n",
       "               5.023272814186073,\n",
       "               5.031612850879608,\n",
       "               5.832278155732068,\n",
       "               5.26529584662915,\n",
       "               5.390031691752821,\n",
       "               5.043227780887999,\n",
       "               4.998371089544663,\n",
       "               4.7077840937767235,\n",
       "               4.649883930086659,\n",
       "               4.168403810794304,\n",
       "               4.309570759172479,\n",
       "               3.7775361047934117,\n",
       "               3.7577125126637068,\n",
       "               3.294667238355953,\n",
       "               3.1597335942278035,\n",
       "               3.210888225478228,\n",
       "               3.2635263402497636,\n",
       "               2.870438772224967,\n",
       "               2.3430937383517687,\n",
       "               2.128155169686638,\n",
       "               1.9253823425761019,\n",
       "               1.7025542938671905,\n",
       "               1.820165372662885,\n",
       "               1.4351617757864972,\n",
       "               1.7005853099277668,\n",
       "               1.8483992289647848,\n",
       "               2.219169662620276,\n",
       "               2.5850979867211175,\n",
       "               2.7579740119697522,\n",
       "               2.5652086730745705,\n",
       "               2.3887032945893556,\n",
       "               2.470294273661745,\n",
       "               2.6824626949003765,\n",
       "               2.4706200844332895,\n",
       "               2.545278495318309,\n",
       "               2.594557811369128,\n",
       "               2.667792442923075,\n",
       "               2.520389398692986,\n",
       "               2.3061399301858128,\n",
       "               3.1627686910717108,\n",
       "               3.055452782336628,\n",
       "               3.0313200361994856,\n",
       "               2.748940829235601,\n",
       "               2.8870536037568493,\n",
       "               3.1973010214779993,\n",
       "               3.4906669525854284,\n",
       "               3.663515069908123,\n",
       "               4.086705561753006,\n",
       "               4.071660921761386,\n",
       "               3.9833674046668053,\n",
       "               3.6718325376480174,\n",
       "               3.6013826420390163,\n",
       "               3.6458750359256737,\n",
       "               3.7352201287060645,\n",
       "               3.6609364582271717,\n",
       "               3.3770466146988696,\n",
       "               3.418282677704906,\n",
       "               3.2346963379953553,\n",
       "               3.0291316116904152,\n",
       "               2.774417629916292,\n",
       "               2.9809327261278216,\n",
       "               3.0914452616448225,\n",
       "               2.808586210941685,\n",
       "               2.6192113896685836,\n",
       "               2.469323435338037,\n",
       "               2.2985221744606474,\n",
       "               2.362835739491486,\n",
       "               2.5434852549350038,\n",
       "               2.4816455023456956,\n",
       "               2.579811027716485,\n",
       "               2.5554350837322084,\n",
       "               2.3468436487619373,\n",
       "               2.186079654903173,\n",
       "               1.9912040606358954,\n",
       "               2.0332346320720456,\n",
       "               2.0972055132054184,\n",
       "               2.0430784320130417,\n",
       "               2.2495094656670034,\n",
       "               2.576367090393446,\n",
       "               2.3938313589212683,\n",
       "               2.8176202706827564,\n",
       "               2.682203235550547,\n",
       "               2.7871117977077304,\n",
       "               2.8595490261948853,\n",
       "               2.708724001823809,\n",
       "               2.6333211051282075,\n",
       "               2.67401959420178,\n",
       "               2.3540154497558072,\n",
       "               2.1228014207532673,\n",
       "               2.1889094319972346,\n",
       "               2.2015739740406772,\n",
       "               2.1041960489430394,\n",
       "               2.1774618662975045,\n",
       "               2.2041300082567568,\n",
       "               2.1440131939478535,\n",
       "               2.1797117837523383,\n",
       "               2.180887350027737,\n",
       "               2.331141097928327,\n",
       "               2.435593122679731,\n",
       "               2.7187889650393404,\n",
       "               2.9986595191701273,\n",
       "               3.1320748696724396,\n",
       "               3.3750407430720863,\n",
       "               3.3790599306581846,\n",
       "               3.395452088733371,\n",
       "               3.302093892142563,\n",
       "               2.8571094255351444,\n",
       "               2.7659872736751034,\n",
       "               2.863821765445491,\n",
       "               3.1140960184116966,\n",
       "               2.8619690985730535,\n",
       "               2.781950867951105,\n",
       "               2.531029435435471,\n",
       "               2.5010773821211822,\n",
       "               2.4524267444258956,\n",
       "               2.503272769527886,\n",
       "               2.5766287464074003,\n",
       "               2.4877355885967694,\n",
       "               2.410682635150023,\n",
       "               2.391305475781616,\n",
       "               2.336939380319916,\n",
       "               2.3540158197544403,\n",
       "               2.3965295648402525,\n",
       "               2.691642811975853,\n",
       "               2.8160794412800523,\n",
       "               2.9567675067666084,\n",
       "               3.164437332554365,\n",
       "               3.2079314663832106,\n",
       "               3.2466163739313587,\n",
       "               3.163894580460036,\n",
       "               3.1577053853194093,\n",
       "               3.2145606790311425,\n",
       "               3.183307324927919,\n",
       "               3.064759555707741,\n",
       "               3.017183477875691,\n",
       "               3.0948831315286207,\n",
       "               3.0214573158205167,\n",
       "               2.970333289929249,\n",
       "               3.1841584268913032,\n",
       "               3.0487721398396213,\n",
       "               3.123934542490561,\n",
       "               3.1604853223525957,\n",
       "               3.2889958806845394,\n",
       "               3.343393280660671,\n",
       "               3.3980199373188196,\n",
       "               3.088824958226985,\n",
       "               3.0551463552736364,\n",
       "               3.1033985607489316,\n",
       "               2.9625806984131695,\n",
       "               3.029781685048595,\n",
       "               3.0581426396644646,\n",
       "               2.9436596008507037,\n",
       "               2.8634930501124956,\n",
       "               2.8058834730797297,\n",
       "               2.661960615941203,\n",
       "               2.7785924749806905,\n",
       "               2.8331799760647143,\n",
       "               2.9629657204043958]})}"
      ]
     },
     "execution_count": 35,
     "metadata": {},
     "output_type": "execute_result"
    }
   ],
   "source": [
    "%%time\n",
    "сat_features = ['vehicle_type', 'gearbox', 'model', 'fuel_type', 'brand', 'repaired']\n",
    "train_dataset = Pool(features_train, target_train, cat_features=сat_features) \n",
    "test_dataset = Pool(features_test, target_test, cat_features=сat_features)\n",
    "model_cat = CatBoostRegressor(random_state = 12345, verbose=False)\n",
    "grid = {'iterations': [100, 150, 200],\n",
    "        'learning_rate': [0.3, 0.4, 0.5],\n",
    "        'depth': [2, 4, 6, 8]}\n",
    "model_cat.grid_search(grid, train_dataset, cv=5, plot=True)\n"
   ]
  },
  {
   "cell_type": "markdown",
   "metadata": {},
   "source": [
    "*Выведем параметры лучшей модели и RMSE лучшей модели*"
   ]
  },
  {
   "cell_type": "code",
   "execution_count": 36,
   "metadata": {},
   "outputs": [
    {
     "name": "stdout",
     "output_type": "stream",
     "text": [
      "Параметры лучшей модели {'loss_function': 'RMSE', 'verbose': False, 'random_state': 12345, 'depth': 8, 'iterations': 200, 'learning_rate': 0.3}\n",
      "RMSE: {'learn': {'RMSE': 1300.2273949450748}}\n"
     ]
    }
   ],
   "source": [
    "print('Параметры лучшей модели', model_cat.get_params())\n",
    "print('RMSE:', model_cat.best_score_)"
   ]
  },
  {
   "cell_type": "markdown",
   "metadata": {},
   "source": [
    "Выполним кросс-валидацию оптимальной модели"
   ]
  },
  {
   "cell_type": "code",
   "execution_count": 37,
   "metadata": {},
   "outputs": [
    {
     "name": "stdout",
     "output_type": "stream",
     "text": [
      "0:\tlearn: 2941.1541185\ttotal: 331ms\tremaining: 1m 5s\n",
      "1:\tlearn: 2348.3682779\ttotal: 578ms\tremaining: 57.2s\n",
      "2:\tlearn: 2027.1764124\ttotal: 813ms\tremaining: 53.4s\n",
      "3:\tlearn: 1828.0961934\ttotal: 1.09s\tremaining: 53.6s\n",
      "4:\tlearn: 1723.1597995\ttotal: 1.35s\tremaining: 52.5s\n",
      "5:\tlearn: 1660.5712851\ttotal: 1.56s\tremaining: 50.5s\n",
      "6:\tlearn: 1626.3682150\ttotal: 1.79s\tremaining: 49.4s\n",
      "7:\tlearn: 1598.9960119\ttotal: 2.08s\tremaining: 49.9s\n",
      "8:\tlearn: 1580.1173750\ttotal: 2.22s\tremaining: 47.1s\n",
      "9:\tlearn: 1562.8534112\ttotal: 2.45s\tremaining: 46.6s\n",
      "10:\tlearn: 1554.0010381\ttotal: 2.62s\tremaining: 45s\n",
      "11:\tlearn: 1544.8145521\ttotal: 2.82s\tremaining: 44.2s\n",
      "12:\tlearn: 1535.3340536\ttotal: 2.98s\tremaining: 42.9s\n",
      "13:\tlearn: 1519.2990541\ttotal: 3.13s\tremaining: 41.5s\n",
      "14:\tlearn: 1511.6322668\ttotal: 3.32s\tremaining: 41s\n",
      "15:\tlearn: 1502.9715070\ttotal: 3.5s\tremaining: 40.3s\n",
      "16:\tlearn: 1495.6776707\ttotal: 3.74s\tremaining: 40.2s\n",
      "17:\tlearn: 1490.6485596\ttotal: 3.94s\tremaining: 39.8s\n",
      "18:\tlearn: 1486.7207903\ttotal: 4.21s\tremaining: 40.1s\n",
      "19:\tlearn: 1479.6268445\ttotal: 4.38s\tremaining: 39.4s\n",
      "20:\tlearn: 1473.2964903\ttotal: 4.62s\tremaining: 39.3s\n",
      "21:\tlearn: 1468.3119581\ttotal: 4.81s\tremaining: 38.9s\n",
      "22:\tlearn: 1464.1709151\ttotal: 4.97s\tremaining: 38.2s\n",
      "23:\tlearn: 1459.6776836\ttotal: 5.15s\tremaining: 37.8s\n",
      "24:\tlearn: 1452.7225047\ttotal: 5.37s\tremaining: 37.6s\n",
      "25:\tlearn: 1449.4459842\ttotal: 5.6s\tremaining: 37.5s\n",
      "26:\tlearn: 1445.5528219\ttotal: 5.76s\tremaining: 36.9s\n",
      "27:\tlearn: 1441.6236635\ttotal: 5.98s\tremaining: 36.8s\n",
      "28:\tlearn: 1438.1077777\ttotal: 6.2s\tremaining: 36.6s\n",
      "29:\tlearn: 1436.0629865\ttotal: 6.41s\tremaining: 36.3s\n",
      "30:\tlearn: 1432.9883077\ttotal: 6.65s\tremaining: 36.3s\n",
      "31:\tlearn: 1429.3329284\ttotal: 6.85s\tremaining: 36s\n",
      "32:\tlearn: 1426.1754857\ttotal: 7.1s\tremaining: 35.9s\n",
      "33:\tlearn: 1420.6050313\ttotal: 7.32s\tremaining: 35.8s\n",
      "34:\tlearn: 1417.6662604\ttotal: 7.54s\tremaining: 35.5s\n",
      "35:\tlearn: 1415.6754638\ttotal: 7.8s\tremaining: 35.5s\n",
      "36:\tlearn: 1412.6043971\ttotal: 8.05s\tremaining: 35.5s\n",
      "37:\tlearn: 1410.4939213\ttotal: 8.31s\tremaining: 35.4s\n",
      "38:\tlearn: 1408.1064479\ttotal: 8.54s\tremaining: 35.3s\n",
      "39:\tlearn: 1406.4395469\ttotal: 8.79s\tremaining: 35.2s\n",
      "40:\tlearn: 1404.2848293\ttotal: 9.01s\tremaining: 34.9s\n",
      "41:\tlearn: 1402.1254751\ttotal: 9.22s\tremaining: 34.7s\n",
      "42:\tlearn: 1398.0283498\ttotal: 9.45s\tremaining: 34.5s\n",
      "43:\tlearn: 1395.7116900\ttotal: 9.67s\tremaining: 34.3s\n",
      "44:\tlearn: 1394.1237259\ttotal: 9.88s\tremaining: 34s\n",
      "45:\tlearn: 1392.8811174\ttotal: 10.1s\tremaining: 33.8s\n",
      "46:\tlearn: 1390.5577984\ttotal: 10.3s\tremaining: 33.5s\n",
      "47:\tlearn: 1388.7525779\ttotal: 10.5s\tremaining: 33.1s\n",
      "48:\tlearn: 1387.2028057\ttotal: 10.6s\tremaining: 32.8s\n",
      "49:\tlearn: 1385.0599911\ttotal: 10.9s\tremaining: 32.7s\n",
      "50:\tlearn: 1382.7205192\ttotal: 11.1s\tremaining: 32.3s\n",
      "51:\tlearn: 1380.3124551\ttotal: 11.3s\tremaining: 32.1s\n",
      "52:\tlearn: 1378.6100161\ttotal: 11.5s\tremaining: 32s\n",
      "53:\tlearn: 1377.2681036\ttotal: 11.7s\tremaining: 31.7s\n",
      "54:\tlearn: 1376.1513267\ttotal: 11.9s\tremaining: 31.4s\n",
      "55:\tlearn: 1375.1712470\ttotal: 12.1s\tremaining: 31.1s\n",
      "56:\tlearn: 1372.2971525\ttotal: 12.3s\tremaining: 30.9s\n",
      "57:\tlearn: 1370.8449535\ttotal: 12.5s\tremaining: 30.6s\n",
      "58:\tlearn: 1369.5534088\ttotal: 12.7s\tremaining: 30.4s\n",
      "59:\tlearn: 1368.5582554\ttotal: 13s\tremaining: 30.3s\n",
      "60:\tlearn: 1367.4208598\ttotal: 13.3s\tremaining: 30.2s\n",
      "61:\tlearn: 1366.2094155\ttotal: 13.5s\tremaining: 30.1s\n",
      "62:\tlearn: 1364.3524066\ttotal: 13.8s\tremaining: 30s\n",
      "63:\tlearn: 1363.7169621\ttotal: 14s\tremaining: 29.8s\n",
      "64:\tlearn: 1362.5127809\ttotal: 14.3s\tremaining: 29.7s\n",
      "65:\tlearn: 1361.6776068\ttotal: 14.5s\tremaining: 29.5s\n",
      "66:\tlearn: 1361.1235932\ttotal: 14.7s\tremaining: 29.3s\n",
      "67:\tlearn: 1360.1157311\ttotal: 15s\tremaining: 29s\n",
      "68:\tlearn: 1359.1695954\ttotal: 15.2s\tremaining: 28.8s\n",
      "69:\tlearn: 1357.9939645\ttotal: 15.4s\tremaining: 28.6s\n",
      "70:\tlearn: 1356.3083577\ttotal: 15.7s\tremaining: 28.5s\n",
      "71:\tlearn: 1355.2583971\ttotal: 15.9s\tremaining: 28.2s\n",
      "72:\tlearn: 1353.9038387\ttotal: 16.1s\tremaining: 28s\n",
      "73:\tlearn: 1352.4577493\ttotal: 16.3s\tremaining: 27.8s\n",
      "74:\tlearn: 1351.4204078\ttotal: 16.6s\tremaining: 27.6s\n",
      "75:\tlearn: 1350.6326328\ttotal: 16.8s\tremaining: 27.4s\n",
      "76:\tlearn: 1349.5547157\ttotal: 17.1s\tremaining: 27.2s\n",
      "77:\tlearn: 1348.2122407\ttotal: 17.3s\tremaining: 27s\n",
      "78:\tlearn: 1346.8617355\ttotal: 17.5s\tremaining: 26.8s\n",
      "79:\tlearn: 1345.4090365\ttotal: 17.7s\tremaining: 26.5s\n",
      "80:\tlearn: 1344.6023897\ttotal: 17.9s\tremaining: 26.3s\n",
      "81:\tlearn: 1343.3496867\ttotal: 18.2s\tremaining: 26.1s\n",
      "82:\tlearn: 1342.4258833\ttotal: 18.4s\tremaining: 25.9s\n",
      "83:\tlearn: 1341.9734213\ttotal: 18.6s\tremaining: 25.6s\n",
      "84:\tlearn: 1341.0334465\ttotal: 18.8s\tremaining: 25.4s\n",
      "85:\tlearn: 1339.8136990\ttotal: 19s\tremaining: 25.2s\n",
      "86:\tlearn: 1339.1954522\ttotal: 19.2s\tremaining: 24.9s\n",
      "87:\tlearn: 1338.3478770\ttotal: 19.5s\tremaining: 24.8s\n",
      "88:\tlearn: 1337.8369011\ttotal: 19.7s\tremaining: 24.5s\n",
      "89:\tlearn: 1337.0478572\ttotal: 19.9s\tremaining: 24.3s\n",
      "90:\tlearn: 1336.0194918\ttotal: 20.1s\tremaining: 24s\n",
      "91:\tlearn: 1335.4312179\ttotal: 20.3s\tremaining: 23.8s\n",
      "92:\tlearn: 1334.2460469\ttotal: 20.5s\tremaining: 23.5s\n",
      "93:\tlearn: 1333.5435087\ttotal: 20.7s\tremaining: 23.3s\n",
      "94:\tlearn: 1332.3122003\ttotal: 20.9s\tremaining: 23.1s\n",
      "95:\tlearn: 1331.2008619\ttotal: 21.2s\tremaining: 22.9s\n",
      "96:\tlearn: 1331.1841914\ttotal: 21.2s\tremaining: 22.6s\n",
      "97:\tlearn: 1330.5131197\ttotal: 21.4s\tremaining: 22.3s\n",
      "98:\tlearn: 1329.3599576\ttotal: 21.7s\tremaining: 22.1s\n",
      "99:\tlearn: 1328.9371748\ttotal: 21.9s\tremaining: 21.9s\n",
      "100:\tlearn: 1328.0881235\ttotal: 22.2s\tremaining: 21.7s\n",
      "101:\tlearn: 1326.1098167\ttotal: 22.4s\tremaining: 21.5s\n",
      "102:\tlearn: 1324.7845111\ttotal: 22.6s\tremaining: 21.3s\n",
      "103:\tlearn: 1323.8085147\ttotal: 22.9s\tremaining: 21.1s\n",
      "104:\tlearn: 1323.1664661\ttotal: 23.1s\tremaining: 20.9s\n",
      "105:\tlearn: 1322.4587774\ttotal: 23.3s\tremaining: 20.6s\n",
      "106:\tlearn: 1321.7810042\ttotal: 23.4s\tremaining: 20.4s\n",
      "107:\tlearn: 1320.7463182\ttotal: 23.6s\tremaining: 20.1s\n",
      "108:\tlearn: 1320.1614441\ttotal: 23.9s\tremaining: 19.9s\n",
      "109:\tlearn: 1319.1177543\ttotal: 24.1s\tremaining: 19.7s\n",
      "110:\tlearn: 1318.9399043\ttotal: 24.3s\tremaining: 19.5s\n",
      "111:\tlearn: 1317.6197197\ttotal: 24.5s\tremaining: 19.3s\n",
      "112:\tlearn: 1316.8135804\ttotal: 24.8s\tremaining: 19.1s\n",
      "113:\tlearn: 1316.0808280\ttotal: 25s\tremaining: 18.9s\n",
      "114:\tlearn: 1315.3506748\ttotal: 25.2s\tremaining: 18.6s\n",
      "115:\tlearn: 1314.5900515\ttotal: 25.4s\tremaining: 18.4s\n",
      "116:\tlearn: 1314.0208576\ttotal: 25.6s\tremaining: 18.1s\n",
      "117:\tlearn: 1313.8611388\ttotal: 25.8s\tremaining: 17.9s\n",
      "118:\tlearn: 1312.9491526\ttotal: 26s\tremaining: 17.7s\n",
      "119:\tlearn: 1312.2655773\ttotal: 26.2s\tremaining: 17.5s\n",
      "120:\tlearn: 1311.2140360\ttotal: 26.4s\tremaining: 17.3s\n",
      "121:\tlearn: 1310.5294288\ttotal: 26.7s\tremaining: 17s\n",
      "122:\tlearn: 1310.1970353\ttotal: 26.8s\tremaining: 16.8s\n",
      "123:\tlearn: 1309.2714621\ttotal: 27s\tremaining: 16.6s\n",
      "124:\tlearn: 1308.4556648\ttotal: 27.3s\tremaining: 16.4s\n",
      "125:\tlearn: 1307.4596672\ttotal: 27.5s\tremaining: 16.2s\n",
      "126:\tlearn: 1306.4553630\ttotal: 27.7s\tremaining: 15.9s\n",
      "127:\tlearn: 1306.0030233\ttotal: 28s\tremaining: 15.7s\n",
      "128:\tlearn: 1305.8043165\ttotal: 28.2s\tremaining: 15.5s\n",
      "129:\tlearn: 1305.2294228\ttotal: 28.4s\tremaining: 15.3s\n",
      "130:\tlearn: 1304.4332296\ttotal: 28.6s\tremaining: 15.1s\n",
      "131:\tlearn: 1304.1463089\ttotal: 28.9s\tremaining: 14.9s\n",
      "132:\tlearn: 1303.3449443\ttotal: 29.1s\tremaining: 14.7s\n",
      "133:\tlearn: 1302.9369763\ttotal: 29.4s\tremaining: 14.5s\n",
      "134:\tlearn: 1302.6965635\ttotal: 29.6s\tremaining: 14.3s\n",
      "135:\tlearn: 1302.0870140\ttotal: 29.9s\tremaining: 14s\n",
      "136:\tlearn: 1301.5106253\ttotal: 30.1s\tremaining: 13.8s\n",
      "137:\tlearn: 1300.7713164\ttotal: 30.4s\tremaining: 13.7s\n",
      "138:\tlearn: 1299.5200927\ttotal: 30.6s\tremaining: 13.4s\n",
      "139:\tlearn: 1299.0041957\ttotal: 30.9s\tremaining: 13.2s\n",
      "140:\tlearn: 1298.4537320\ttotal: 31.1s\tremaining: 13s\n",
      "141:\tlearn: 1297.8828438\ttotal: 31.3s\tremaining: 12.8s\n",
      "142:\tlearn: 1296.6576603\ttotal: 31.6s\tremaining: 12.6s\n",
      "143:\tlearn: 1296.2595865\ttotal: 31.8s\tremaining: 12.4s\n",
      "144:\tlearn: 1295.4542410\ttotal: 32.1s\tremaining: 12.2s\n",
      "145:\tlearn: 1295.0590702\ttotal: 32.3s\tremaining: 12s\n",
      "146:\tlearn: 1294.6255132\ttotal: 32.6s\tremaining: 11.7s\n",
      "147:\tlearn: 1294.4801300\ttotal: 32.8s\tremaining: 11.5s\n",
      "148:\tlearn: 1293.4282012\ttotal: 33s\tremaining: 11.3s\n",
      "149:\tlearn: 1293.3347753\ttotal: 33.2s\tremaining: 11.1s\n",
      "150:\tlearn: 1292.8704577\ttotal: 33.5s\tremaining: 10.9s\n",
      "151:\tlearn: 1292.2493913\ttotal: 33.7s\tremaining: 10.6s\n",
      "152:\tlearn: 1291.9284495\ttotal: 34s\tremaining: 10.4s\n",
      "153:\tlearn: 1291.5435678\ttotal: 34.2s\tremaining: 10.2s\n",
      "154:\tlearn: 1290.8169129\ttotal: 34.5s\tremaining: 10s\n",
      "155:\tlearn: 1290.3387079\ttotal: 34.7s\tremaining: 9.78s\n",
      "156:\tlearn: 1290.2173925\ttotal: 34.9s\tremaining: 9.56s\n",
      "157:\tlearn: 1289.6731579\ttotal: 35.1s\tremaining: 9.34s\n",
      "158:\tlearn: 1289.3123156\ttotal: 35.4s\tremaining: 9.13s\n",
      "159:\tlearn: 1288.5124119\ttotal: 35.6s\tremaining: 8.89s\n",
      "160:\tlearn: 1288.4074096\ttotal: 35.8s\tremaining: 8.66s\n",
      "161:\tlearn: 1287.9983248\ttotal: 36s\tremaining: 8.45s\n",
      "162:\tlearn: 1287.3347714\ttotal: 36.3s\tremaining: 8.24s\n",
      "163:\tlearn: 1287.1508678\ttotal: 36.5s\tremaining: 8.01s\n",
      "164:\tlearn: 1286.4938119\ttotal: 36.7s\tremaining: 7.79s\n",
      "165:\tlearn: 1285.8356728\ttotal: 37s\tremaining: 7.58s\n",
      "166:\tlearn: 1285.0270732\ttotal: 37.2s\tremaining: 7.35s\n",
      "167:\tlearn: 1283.9861482\ttotal: 37.5s\tremaining: 7.13s\n",
      "168:\tlearn: 1283.8500268\ttotal: 37.7s\tremaining: 6.91s\n",
      "169:\tlearn: 1283.5362556\ttotal: 37.9s\tremaining: 6.68s\n",
      "170:\tlearn: 1283.3498660\ttotal: 38s\tremaining: 6.45s\n",
      "171:\tlearn: 1283.0454933\ttotal: 38.2s\tremaining: 6.22s\n",
      "172:\tlearn: 1282.4171067\ttotal: 38.4s\tremaining: 5.99s\n",
      "173:\tlearn: 1282.3633036\ttotal: 38.6s\tremaining: 5.77s\n",
      "174:\tlearn: 1281.8633129\ttotal: 38.8s\tremaining: 5.54s\n",
      "175:\tlearn: 1281.4419608\ttotal: 39s\tremaining: 5.32s\n",
      "176:\tlearn: 1281.0152725\ttotal: 39.3s\tremaining: 5.1s\n",
      "177:\tlearn: 1280.6525459\ttotal: 39.5s\tremaining: 4.88s\n",
      "178:\tlearn: 1280.4673273\ttotal: 39.8s\tremaining: 4.67s\n",
      "179:\tlearn: 1279.8184331\ttotal: 40s\tremaining: 4.44s\n",
      "180:\tlearn: 1279.2013942\ttotal: 40.3s\tremaining: 4.22s\n",
      "181:\tlearn: 1278.6081701\ttotal: 40.5s\tremaining: 4s\n",
      "182:\tlearn: 1278.2217265\ttotal: 40.7s\tremaining: 3.78s\n",
      "183:\tlearn: 1277.7633734\ttotal: 41s\tremaining: 3.56s\n",
      "184:\tlearn: 1277.4601407\ttotal: 41.2s\tremaining: 3.34s\n",
      "185:\tlearn: 1277.3564912\ttotal: 41.5s\tremaining: 3.12s\n",
      "186:\tlearn: 1276.8210450\ttotal: 41.7s\tremaining: 2.9s\n",
      "187:\tlearn: 1276.6081153\ttotal: 41.9s\tremaining: 2.67s\n",
      "188:\tlearn: 1276.3620817\ttotal: 42.1s\tremaining: 2.45s\n",
      "189:\tlearn: 1275.6632823\ttotal: 42.3s\tremaining: 2.23s\n",
      "190:\tlearn: 1274.8829384\ttotal: 42.5s\tremaining: 2s\n",
      "191:\tlearn: 1274.5315764\ttotal: 42.7s\tremaining: 1.78s\n",
      "192:\tlearn: 1273.9996742\ttotal: 43s\tremaining: 1.56s\n",
      "193:\tlearn: 1273.6782769\ttotal: 43.2s\tremaining: 1.34s\n",
      "194:\tlearn: 1273.5555792\ttotal: 43.4s\tremaining: 1.11s\n",
      "195:\tlearn: 1273.3396151\ttotal: 43.6s\tremaining: 891ms\n",
      "196:\tlearn: 1272.4626015\ttotal: 43.8s\tremaining: 668ms\n",
      "197:\tlearn: 1272.2392120\ttotal: 44.1s\tremaining: 445ms\n",
      "198:\tlearn: 1271.8628728\ttotal: 44.3s\tremaining: 222ms\n",
      "199:\tlearn: 1271.5579792\ttotal: 44.5s\tremaining: 0us\n",
      "0:\tlearn: 2951.4199657\ttotal: 331ms\tremaining: 1m 5s\n",
      "1:\tlearn: 2345.2713697\ttotal: 593ms\tremaining: 58.7s\n",
      "2:\tlearn: 2022.1408362\ttotal: 867ms\tremaining: 56.9s\n",
      "3:\tlearn: 1845.4776811\ttotal: 1.08s\tremaining: 53s\n",
      "4:\tlearn: 1751.2143793\ttotal: 1.29s\tremaining: 50.4s\n",
      "5:\tlearn: 1680.1975496\ttotal: 1.54s\tremaining: 49.9s\n",
      "6:\tlearn: 1634.8977226\ttotal: 1.71s\tremaining: 47.1s\n",
      "7:\tlearn: 1608.2850733\ttotal: 1.92s\tremaining: 46s\n",
      "8:\tlearn: 1590.7299782\ttotal: 2.15s\tremaining: 45.8s\n",
      "9:\tlearn: 1575.2654279\ttotal: 2.34s\tremaining: 44.4s\n",
      "10:\tlearn: 1559.5921992\ttotal: 2.53s\tremaining: 43.5s\n",
      "11:\tlearn: 1546.5840991\ttotal: 2.7s\tremaining: 42.4s\n",
      "12:\tlearn: 1538.0730774\ttotal: 2.95s\tremaining: 42.4s\n",
      "13:\tlearn: 1528.3376385\ttotal: 3.24s\tremaining: 43.1s\n",
      "14:\tlearn: 1522.1487409\ttotal: 3.45s\tremaining: 42.5s\n",
      "15:\tlearn: 1511.9010916\ttotal: 3.63s\tremaining: 41.8s\n",
      "16:\tlearn: 1503.6066069\ttotal: 3.8s\tremaining: 41s\n",
      "17:\tlearn: 1495.9999320\ttotal: 3.97s\tremaining: 40.1s\n",
      "18:\tlearn: 1491.1819855\ttotal: 4.18s\tremaining: 39.8s\n",
      "19:\tlearn: 1485.6604415\ttotal: 4.4s\tremaining: 39.6s\n",
      "20:\tlearn: 1479.6223475\ttotal: 4.62s\tremaining: 39.3s\n",
      "21:\tlearn: 1475.7729984\ttotal: 4.8s\tremaining: 38.9s\n",
      "22:\tlearn: 1472.0840802\ttotal: 5s\tremaining: 38.5s\n",
      "23:\tlearn: 1468.3751590\ttotal: 5.2s\tremaining: 38.1s\n",
      "24:\tlearn: 1463.8525840\ttotal: 5.39s\tremaining: 37.7s\n",
      "25:\tlearn: 1459.7945773\ttotal: 5.63s\tremaining: 37.7s\n",
      "26:\tlearn: 1456.4331771\ttotal: 5.86s\tremaining: 37.6s\n",
      "27:\tlearn: 1450.9013677\ttotal: 6.11s\tremaining: 37.6s\n",
      "28:\tlearn: 1446.1937056\ttotal: 6.34s\tremaining: 37.4s\n",
      "29:\tlearn: 1444.2404344\ttotal: 6.59s\tremaining: 37.4s\n",
      "30:\tlearn: 1440.6630116\ttotal: 6.83s\tremaining: 37.2s\n",
      "31:\tlearn: 1436.6045351\ttotal: 7.04s\tremaining: 37s\n",
      "32:\tlearn: 1433.4643890\ttotal: 7.28s\tremaining: 36.8s\n",
      "33:\tlearn: 1429.2098476\ttotal: 7.49s\tremaining: 36.6s\n",
      "34:\tlearn: 1427.7980471\ttotal: 7.72s\tremaining: 36.4s\n",
      "35:\tlearn: 1423.9198534\ttotal: 7.94s\tremaining: 36.2s\n",
      "36:\tlearn: 1421.3858812\ttotal: 8.16s\tremaining: 36s\n",
      "37:\tlearn: 1419.5482508\ttotal: 8.35s\tremaining: 35.6s\n",
      "38:\tlearn: 1417.5518782\ttotal: 8.6s\tremaining: 35.5s\n",
      "39:\tlearn: 1414.5403430\ttotal: 8.84s\tremaining: 35.4s\n",
      "40:\tlearn: 1413.0983339\ttotal: 9.08s\tremaining: 35.2s\n",
      "41:\tlearn: 1410.3563707\ttotal: 9.34s\tremaining: 35.1s\n",
      "42:\tlearn: 1408.9120625\ttotal: 9.59s\tremaining: 35s\n",
      "43:\tlearn: 1407.6399827\ttotal: 9.81s\tremaining: 34.8s\n",
      "44:\tlearn: 1405.6614634\ttotal: 10.1s\tremaining: 34.6s\n",
      "45:\tlearn: 1403.5102432\ttotal: 10.3s\tremaining: 34.6s\n",
      "46:\tlearn: 1401.8811269\ttotal: 10.5s\tremaining: 34.3s\n",
      "47:\tlearn: 1399.6499991\ttotal: 10.8s\tremaining: 34.1s\n",
      "48:\tlearn: 1397.9470785\ttotal: 11s\tremaining: 33.8s\n",
      "49:\tlearn: 1395.8094833\ttotal: 11.2s\tremaining: 33.5s\n",
      "50:\tlearn: 1394.3036192\ttotal: 11.3s\tremaining: 33.1s\n",
      "51:\tlearn: 1391.8601882\ttotal: 11.6s\tremaining: 33s\n",
      "52:\tlearn: 1388.8781446\ttotal: 11.8s\tremaining: 32.8s\n",
      "53:\tlearn: 1387.2714369\ttotal: 12s\tremaining: 32.4s\n",
      "54:\tlearn: 1385.3897533\ttotal: 12.2s\tremaining: 32.1s\n",
      "55:\tlearn: 1383.0129979\ttotal: 12.4s\tremaining: 31.8s\n",
      "56:\tlearn: 1381.5064150\ttotal: 12.6s\tremaining: 31.5s\n",
      "57:\tlearn: 1380.1162238\ttotal: 12.8s\tremaining: 31.2s\n",
      "58:\tlearn: 1379.3556127\ttotal: 13s\tremaining: 31.1s\n",
      "59:\tlearn: 1378.6416419\ttotal: 13.2s\tremaining: 30.8s\n",
      "60:\tlearn: 1376.3982922\ttotal: 13.4s\tremaining: 30.6s\n",
      "61:\tlearn: 1374.1217374\ttotal: 13.7s\tremaining: 30.4s\n",
      "62:\tlearn: 1373.6542423\ttotal: 13.9s\tremaining: 30.2s\n",
      "63:\tlearn: 1372.4314760\ttotal: 14.1s\tremaining: 29.9s\n",
      "64:\tlearn: 1370.9998751\ttotal: 14.3s\tremaining: 29.7s\n",
      "65:\tlearn: 1369.5017909\ttotal: 14.6s\tremaining: 29.6s\n",
      "66:\tlearn: 1367.8490101\ttotal: 14.8s\tremaining: 29.4s\n",
      "67:\tlearn: 1365.7889631\ttotal: 15s\tremaining: 29.2s\n",
      "68:\tlearn: 1364.5988249\ttotal: 15.3s\tremaining: 29.1s\n",
      "69:\tlearn: 1362.2454379\ttotal: 15.5s\tremaining: 28.8s\n",
      "70:\tlearn: 1361.2865927\ttotal: 15.7s\tremaining: 28.5s\n",
      "71:\tlearn: 1359.6657008\ttotal: 16s\tremaining: 28.4s\n",
      "72:\tlearn: 1358.6844412\ttotal: 16.1s\tremaining: 28.1s\n",
      "73:\tlearn: 1357.3834797\ttotal: 16.3s\tremaining: 27.8s\n",
      "74:\tlearn: 1356.6703594\ttotal: 16.5s\tremaining: 27.6s\n",
      "75:\tlearn: 1355.3249007\ttotal: 16.8s\tremaining: 27.4s\n",
      "76:\tlearn: 1354.3549355\ttotal: 17s\tremaining: 27.2s\n",
      "77:\tlearn: 1353.4706412\ttotal: 17.3s\tremaining: 27s\n",
      "78:\tlearn: 1352.2373216\ttotal: 17.5s\tremaining: 26.8s\n",
      "79:\tlearn: 1351.7867114\ttotal: 17.7s\tremaining: 26.5s\n",
      "80:\tlearn: 1350.5577869\ttotal: 17.9s\tremaining: 26.3s\n",
      "81:\tlearn: 1349.9182637\ttotal: 18.1s\tremaining: 26.1s\n",
      "82:\tlearn: 1349.4985499\ttotal: 18.3s\tremaining: 25.9s\n",
      "83:\tlearn: 1348.4976650\ttotal: 18.6s\tremaining: 25.7s\n",
      "84:\tlearn: 1347.4758334\ttotal: 18.8s\tremaining: 25.4s\n",
      "85:\tlearn: 1346.4719591\ttotal: 19.1s\tremaining: 25.3s\n",
      "86:\tlearn: 1345.2749206\ttotal: 19.3s\tremaining: 25.1s\n",
      "87:\tlearn: 1344.1038524\ttotal: 19.5s\tremaining: 24.8s\n",
      "88:\tlearn: 1343.0232056\ttotal: 19.8s\tremaining: 24.7s\n",
      "89:\tlearn: 1342.2598298\ttotal: 20s\tremaining: 24.4s\n",
      "90:\tlearn: 1341.0398266\ttotal: 20.2s\tremaining: 24.2s\n",
      "91:\tlearn: 1340.5290419\ttotal: 20.5s\tremaining: 24s\n",
      "92:\tlearn: 1339.7715821\ttotal: 20.7s\tremaining: 23.9s\n",
      "93:\tlearn: 1339.1261732\ttotal: 21s\tremaining: 23.6s\n",
      "94:\tlearn: 1337.4609113\ttotal: 21.2s\tremaining: 23.4s\n",
      "95:\tlearn: 1337.2640000\ttotal: 21.4s\tremaining: 23.2s\n",
      "96:\tlearn: 1335.5465893\ttotal: 21.6s\tremaining: 22.9s\n",
      "97:\tlearn: 1334.8896204\ttotal: 21.8s\tremaining: 22.7s\n",
      "98:\tlearn: 1334.4690515\ttotal: 22s\tremaining: 22.4s\n",
      "99:\tlearn: 1333.9400575\ttotal: 22.2s\tremaining: 22.2s\n",
      "100:\tlearn: 1332.2714639\ttotal: 22.4s\tremaining: 22s\n",
      "101:\tlearn: 1331.0580698\ttotal: 22.7s\tremaining: 21.8s\n",
      "102:\tlearn: 1330.2067804\ttotal: 22.9s\tremaining: 21.6s\n",
      "103:\tlearn: 1329.7661806\ttotal: 23.2s\tremaining: 21.4s\n",
      "104:\tlearn: 1328.8579692\ttotal: 23.4s\tremaining: 21.2s\n",
      "105:\tlearn: 1327.6885571\ttotal: 23.7s\tremaining: 21s\n",
      "106:\tlearn: 1326.8750385\ttotal: 24s\tremaining: 20.9s\n",
      "107:\tlearn: 1325.7868129\ttotal: 24.2s\tremaining: 20.6s\n",
      "108:\tlearn: 1325.0510332\ttotal: 24.4s\tremaining: 20.4s\n",
      "109:\tlearn: 1324.8936205\ttotal: 24.6s\tremaining: 20.1s\n",
      "110:\tlearn: 1324.1747196\ttotal: 24.8s\tremaining: 19.9s\n",
      "111:\tlearn: 1323.1133538\ttotal: 25.1s\tremaining: 19.7s\n",
      "112:\tlearn: 1322.4418593\ttotal: 25.3s\tremaining: 19.5s\n",
      "113:\tlearn: 1321.9099992\ttotal: 25.5s\tremaining: 19.2s\n",
      "114:\tlearn: 1321.0576813\ttotal: 25.7s\tremaining: 19s\n",
      "115:\tlearn: 1319.9097618\ttotal: 26s\tremaining: 18.8s\n",
      "116:\tlearn: 1318.4397188\ttotal: 26.3s\tremaining: 18.7s\n",
      "117:\tlearn: 1317.5309284\ttotal: 26.6s\tremaining: 18.5s\n",
      "118:\tlearn: 1316.5554595\ttotal: 26.9s\tremaining: 18.3s\n",
      "119:\tlearn: 1316.1582348\ttotal: 27.2s\tremaining: 18.1s\n",
      "120:\tlearn: 1315.9059588\ttotal: 27.5s\tremaining: 18s\n",
      "121:\tlearn: 1315.1670958\ttotal: 27.7s\tremaining: 17.7s\n",
      "122:\tlearn: 1314.3755312\ttotal: 27.9s\tremaining: 17.5s\n",
      "123:\tlearn: 1313.4829321\ttotal: 28.1s\tremaining: 17.2s\n",
      "124:\tlearn: 1312.3618041\ttotal: 28.4s\tremaining: 17.1s\n",
      "125:\tlearn: 1311.9502231\ttotal: 28.6s\tremaining: 16.8s\n",
      "126:\tlearn: 1311.0636141\ttotal: 28.9s\tremaining: 16.6s\n",
      "127:\tlearn: 1310.9319274\ttotal: 29s\tremaining: 16.3s\n",
      "128:\tlearn: 1310.6350749\ttotal: 29.2s\tremaining: 16.1s\n",
      "129:\tlearn: 1309.4247580\ttotal: 29.4s\tremaining: 15.8s\n",
      "130:\tlearn: 1309.3134365\ttotal: 29.6s\tremaining: 15.6s\n",
      "131:\tlearn: 1309.1136954\ttotal: 29.8s\tremaining: 15.3s\n",
      "132:\tlearn: 1308.3721947\ttotal: 30s\tremaining: 15.1s\n",
      "133:\tlearn: 1307.1359619\ttotal: 30.2s\tremaining: 14.9s\n",
      "134:\tlearn: 1306.0644972\ttotal: 30.5s\tremaining: 14.7s\n",
      "135:\tlearn: 1305.8543513\ttotal: 30.7s\tremaining: 14.4s\n",
      "136:\tlearn: 1305.4132203\ttotal: 30.9s\tremaining: 14.2s\n",
      "137:\tlearn: 1305.0861718\ttotal: 31.3s\tremaining: 14s\n",
      "138:\tlearn: 1304.7238337\ttotal: 31.5s\tremaining: 13.8s\n",
      "139:\tlearn: 1303.8471728\ttotal: 31.8s\tremaining: 13.6s\n",
      "140:\tlearn: 1302.8384292\ttotal: 32s\tremaining: 13.4s\n",
      "141:\tlearn: 1301.8955696\ttotal: 32.2s\tremaining: 13.2s\n",
      "142:\tlearn: 1301.5889411\ttotal: 32.4s\tremaining: 12.9s\n",
      "143:\tlearn: 1300.9477896\ttotal: 32.7s\tremaining: 12.7s\n",
      "144:\tlearn: 1300.2287003\ttotal: 32.9s\tremaining: 12.5s\n",
      "145:\tlearn: 1299.9614862\ttotal: 33.1s\tremaining: 12.3s\n",
      "146:\tlearn: 1299.7813648\ttotal: 33.3s\tremaining: 12s\n",
      "147:\tlearn: 1298.7703732\ttotal: 33.5s\tremaining: 11.8s\n",
      "148:\tlearn: 1298.6267920\ttotal: 33.7s\tremaining: 11.5s\n",
      "149:\tlearn: 1297.9304311\ttotal: 34s\tremaining: 11.3s\n",
      "150:\tlearn: 1297.4145435\ttotal: 34.2s\tremaining: 11.1s\n",
      "151:\tlearn: 1297.1141889\ttotal: 34.4s\tremaining: 10.9s\n",
      "152:\tlearn: 1296.7779377\ttotal: 34.8s\tremaining: 10.7s\n",
      "153:\tlearn: 1296.2173868\ttotal: 35s\tremaining: 10.5s\n",
      "154:\tlearn: 1295.6082778\ttotal: 35.3s\tremaining: 10.2s\n",
      "155:\tlearn: 1295.3107505\ttotal: 35.5s\tremaining: 10s\n",
      "156:\tlearn: 1294.8262438\ttotal: 35.8s\tremaining: 9.79s\n",
      "157:\tlearn: 1294.7028064\ttotal: 36s\tremaining: 9.56s\n",
      "158:\tlearn: 1294.2688579\ttotal: 36.1s\tremaining: 9.32s\n",
      "159:\tlearn: 1293.8850664\ttotal: 36.4s\tremaining: 9.1s\n",
      "160:\tlearn: 1293.6822816\ttotal: 36.6s\tremaining: 8.87s\n",
      "161:\tlearn: 1292.6484950\ttotal: 36.9s\tremaining: 8.64s\n",
      "162:\tlearn: 1292.3065123\ttotal: 37.1s\tremaining: 8.41s\n",
      "163:\tlearn: 1291.7438686\ttotal: 37.3s\tremaining: 8.18s\n",
      "164:\tlearn: 1290.9482074\ttotal: 37.5s\tremaining: 7.95s\n",
      "165:\tlearn: 1290.3457405\ttotal: 37.7s\tremaining: 7.72s\n",
      "166:\tlearn: 1289.7998450\ttotal: 37.9s\tremaining: 7.5s\n",
      "167:\tlearn: 1288.8751669\ttotal: 38.2s\tremaining: 7.28s\n",
      "168:\tlearn: 1288.4162533\ttotal: 38.5s\tremaining: 7.05s\n",
      "169:\tlearn: 1287.9523862\ttotal: 38.7s\tremaining: 6.83s\n",
      "170:\tlearn: 1287.3081044\ttotal: 39s\tremaining: 6.61s\n",
      "171:\tlearn: 1286.3423997\ttotal: 39.2s\tremaining: 6.38s\n",
      "172:\tlearn: 1285.7342814\ttotal: 39.5s\tremaining: 6.16s\n",
      "173:\tlearn: 1285.2401958\ttotal: 39.7s\tremaining: 5.93s\n",
      "174:\tlearn: 1284.6822510\ttotal: 39.9s\tremaining: 5.7s\n",
      "175:\tlearn: 1283.9369040\ttotal: 40.1s\tremaining: 5.47s\n",
      "176:\tlearn: 1283.5059234\ttotal: 40.4s\tremaining: 5.25s\n",
      "177:\tlearn: 1282.9282071\ttotal: 40.7s\tremaining: 5.03s\n",
      "178:\tlearn: 1282.5387125\ttotal: 40.9s\tremaining: 4.8s\n",
      "179:\tlearn: 1282.3403366\ttotal: 41.2s\tremaining: 4.58s\n",
      "180:\tlearn: 1281.5799655\ttotal: 41.4s\tremaining: 4.35s\n",
      "181:\tlearn: 1280.6923282\ttotal: 41.7s\tremaining: 4.12s\n",
      "182:\tlearn: 1280.4264714\ttotal: 41.9s\tremaining: 3.9s\n",
      "183:\tlearn: 1280.0644333\ttotal: 42.1s\tremaining: 3.66s\n",
      "184:\tlearn: 1279.7908818\ttotal: 42.3s\tremaining: 3.43s\n",
      "185:\tlearn: 1279.5915794\ttotal: 42.5s\tremaining: 3.2s\n",
      "186:\tlearn: 1279.4184172\ttotal: 42.7s\tremaining: 2.97s\n",
      "187:\tlearn: 1279.1715490\ttotal: 43s\tremaining: 2.74s\n",
      "188:\tlearn: 1278.5648699\ttotal: 43.2s\tremaining: 2.52s\n",
      "189:\tlearn: 1277.7688800\ttotal: 43.6s\tremaining: 2.29s\n",
      "190:\tlearn: 1277.6444031\ttotal: 43.8s\tremaining: 2.06s\n",
      "191:\tlearn: 1277.0380822\ttotal: 44.1s\tremaining: 1.83s\n",
      "192:\tlearn: 1276.9218528\ttotal: 44.2s\tremaining: 1.6s\n",
      "193:\tlearn: 1276.2145762\ttotal: 44.5s\tremaining: 1.37s\n",
      "194:\tlearn: 1275.9879059\ttotal: 44.8s\tremaining: 1.15s\n",
      "195:\tlearn: 1275.3709769\ttotal: 45s\tremaining: 918ms\n",
      "196:\tlearn: 1274.7288908\ttotal: 45.3s\tremaining: 689ms\n",
      "197:\tlearn: 1273.9114360\ttotal: 45.5s\tremaining: 460ms\n",
      "198:\tlearn: 1273.5298561\ttotal: 45.8s\tremaining: 230ms\n",
      "199:\tlearn: 1273.3421987\ttotal: 45.9s\tremaining: 0us\n",
      "0:\tlearn: 2952.8773906\ttotal: 367ms\tremaining: 1m 12s\n",
      "1:\tlearn: 2345.2492391\ttotal: 643ms\tremaining: 1m 3s\n",
      "2:\tlearn: 2022.6710778\ttotal: 920ms\tremaining: 1m\n",
      "3:\tlearn: 1832.0415903\ttotal: 1.18s\tremaining: 57.9s\n",
      "4:\tlearn: 1737.0312797\ttotal: 1.46s\tremaining: 57s\n",
      "5:\tlearn: 1674.9194485\ttotal: 1.76s\tremaining: 57s\n",
      "6:\tlearn: 1638.7398180\ttotal: 1.98s\tremaining: 54.5s\n",
      "7:\tlearn: 1606.7602634\ttotal: 2.21s\tremaining: 53.2s\n",
      "8:\tlearn: 1589.7555199\ttotal: 2.43s\tremaining: 51.6s\n",
      "9:\tlearn: 1567.3716579\ttotal: 2.63s\tremaining: 50.1s\n",
      "10:\tlearn: 1553.1798923\ttotal: 2.89s\tremaining: 49.7s\n",
      "11:\tlearn: 1541.2741987\ttotal: 3.06s\tremaining: 47.9s\n",
      "12:\tlearn: 1532.1147896\ttotal: 3.33s\tremaining: 47.9s\n",
      "13:\tlearn: 1523.6639791\ttotal: 3.53s\tremaining: 46.9s\n",
      "14:\tlearn: 1513.3734804\ttotal: 3.75s\tremaining: 46.3s\n",
      "15:\tlearn: 1507.4764420\ttotal: 4.02s\tremaining: 46.2s\n",
      "16:\tlearn: 1500.3056193\ttotal: 4.24s\tremaining: 45.6s\n",
      "17:\tlearn: 1494.4571641\ttotal: 4.47s\tremaining: 45.2s\n",
      "18:\tlearn: 1491.5393337\ttotal: 4.69s\tremaining: 44.7s\n",
      "19:\tlearn: 1486.7756301\ttotal: 4.96s\tremaining: 44.7s\n",
      "20:\tlearn: 1483.3685825\ttotal: 5.2s\tremaining: 44.3s\n",
      "21:\tlearn: 1476.2880489\ttotal: 5.46s\tremaining: 44.2s\n",
      "22:\tlearn: 1471.1419772\ttotal: 5.71s\tremaining: 43.9s\n",
      "23:\tlearn: 1465.2613014\ttotal: 5.93s\tremaining: 43.5s\n",
      "24:\tlearn: 1462.5723949\ttotal: 6.14s\tremaining: 43s\n",
      "25:\tlearn: 1459.7847942\ttotal: 6.32s\tremaining: 42.3s\n",
      "26:\tlearn: 1454.8679338\ttotal: 6.54s\tremaining: 41.9s\n",
      "27:\tlearn: 1451.7366008\ttotal: 6.77s\tremaining: 41.6s\n",
      "28:\tlearn: 1446.0412661\ttotal: 7.03s\tremaining: 41.4s\n",
      "29:\tlearn: 1442.9505378\ttotal: 7.29s\tremaining: 41.3s\n",
      "30:\tlearn: 1441.0989520\ttotal: 7.52s\tremaining: 41s\n",
      "31:\tlearn: 1437.7347199\ttotal: 7.74s\tremaining: 40.6s\n",
      "32:\tlearn: 1434.2741875\ttotal: 7.96s\tremaining: 40.3s\n",
      "33:\tlearn: 1431.3681125\ttotal: 8.21s\tremaining: 40.1s\n",
      "34:\tlearn: 1430.3091245\ttotal: 8.42s\tremaining: 39.7s\n",
      "35:\tlearn: 1425.9314819\ttotal: 8.64s\tremaining: 39.4s\n",
      "36:\tlearn: 1420.9171861\ttotal: 8.88s\tremaining: 39.1s\n",
      "37:\tlearn: 1418.2458199\ttotal: 9.13s\tremaining: 38.9s\n",
      "38:\tlearn: 1415.7131884\ttotal: 9.4s\tremaining: 38.8s\n",
      "39:\tlearn: 1414.7155757\ttotal: 9.62s\tremaining: 38.5s\n",
      "40:\tlearn: 1412.7196496\ttotal: 9.85s\tremaining: 38.2s\n",
      "41:\tlearn: 1410.3020525\ttotal: 10.1s\tremaining: 37.9s\n",
      "42:\tlearn: 1407.9896573\ttotal: 10.3s\tremaining: 37.5s\n",
      "43:\tlearn: 1404.9340235\ttotal: 10.5s\tremaining: 37.3s\n",
      "44:\tlearn: 1403.3625194\ttotal: 10.8s\tremaining: 37.1s\n",
      "45:\tlearn: 1400.6115210\ttotal: 11.1s\tremaining: 37.1s\n",
      "46:\tlearn: 1398.9875662\ttotal: 11.3s\tremaining: 36.9s\n",
      "47:\tlearn: 1396.7820983\ttotal: 11.6s\tremaining: 36.7s\n",
      "48:\tlearn: 1395.5722842\ttotal: 11.8s\tremaining: 36.3s\n",
      "49:\tlearn: 1393.6503059\ttotal: 12s\tremaining: 36.1s\n",
      "50:\tlearn: 1392.8080963\ttotal: 12.3s\tremaining: 35.8s\n",
      "51:\tlearn: 1389.8687646\ttotal: 12.5s\tremaining: 35.5s\n",
      "52:\tlearn: 1386.9873221\ttotal: 12.7s\tremaining: 35.2s\n",
      "53:\tlearn: 1385.7806575\ttotal: 12.9s\tremaining: 35s\n",
      "54:\tlearn: 1384.4570590\ttotal: 13.2s\tremaining: 34.7s\n",
      "55:\tlearn: 1382.7987948\ttotal: 13.4s\tremaining: 34.4s\n",
      "56:\tlearn: 1380.8632145\ttotal: 13.6s\tremaining: 34.2s\n",
      "57:\tlearn: 1380.3733556\ttotal: 13.8s\tremaining: 33.9s\n",
      "58:\tlearn: 1378.2573715\ttotal: 14s\tremaining: 33.5s\n",
      "59:\tlearn: 1377.1494156\ttotal: 14.2s\tremaining: 33.1s\n",
      "60:\tlearn: 1376.4657495\ttotal: 14.4s\tremaining: 32.8s\n",
      "61:\tlearn: 1374.6649122\ttotal: 14.6s\tremaining: 32.6s\n",
      "62:\tlearn: 1372.8105753\ttotal: 14.9s\tremaining: 32.3s\n",
      "63:\tlearn: 1371.1936702\ttotal: 15.1s\tremaining: 32.1s\n",
      "64:\tlearn: 1369.4037033\ttotal: 15.4s\tremaining: 31.9s\n",
      "65:\tlearn: 1367.3461311\ttotal: 15.6s\tremaining: 31.7s\n",
      "66:\tlearn: 1365.5523971\ttotal: 15.8s\tremaining: 31.4s\n",
      "67:\tlearn: 1365.1161784\ttotal: 16s\tremaining: 31s\n",
      "68:\tlearn: 1363.6960145\ttotal: 16.3s\tremaining: 30.9s\n",
      "69:\tlearn: 1362.7124323\ttotal: 16.6s\tremaining: 30.7s\n",
      "70:\tlearn: 1360.7751348\ttotal: 16.7s\tremaining: 30.4s\n",
      "71:\tlearn: 1357.9693511\ttotal: 17s\tremaining: 30.2s\n",
      "72:\tlearn: 1356.5276451\ttotal: 17.2s\tremaining: 29.8s\n",
      "73:\tlearn: 1355.8453071\ttotal: 17.4s\tremaining: 29.6s\n",
      "74:\tlearn: 1355.3604030\ttotal: 17.6s\tremaining: 29.4s\n",
      "75:\tlearn: 1354.7488916\ttotal: 18s\tremaining: 29.3s\n",
      "76:\tlearn: 1353.4344087\ttotal: 18.3s\tremaining: 29.2s\n",
      "77:\tlearn: 1352.7993380\ttotal: 18.5s\tremaining: 28.9s\n",
      "78:\tlearn: 1352.4170275\ttotal: 18.7s\tremaining: 28.7s\n",
      "79:\tlearn: 1351.4634215\ttotal: 19s\tremaining: 28.5s\n",
      "80:\tlearn: 1349.3799585\ttotal: 19.2s\tremaining: 28.2s\n",
      "81:\tlearn: 1348.0298619\ttotal: 19.5s\tremaining: 28.1s\n",
      "82:\tlearn: 1346.7850134\ttotal: 19.7s\tremaining: 27.8s\n",
      "83:\tlearn: 1346.2117698\ttotal: 19.9s\tremaining: 27.5s\n",
      "84:\tlearn: 1345.7832262\ttotal: 20.1s\tremaining: 27.2s\n",
      "85:\tlearn: 1344.9099070\ttotal: 20.3s\tremaining: 26.9s\n",
      "86:\tlearn: 1343.7459713\ttotal: 20.5s\tremaining: 26.6s\n",
      "87:\tlearn: 1342.6332234\ttotal: 20.7s\tremaining: 26.4s\n",
      "88:\tlearn: 1342.0136078\ttotal: 20.9s\tremaining: 26s\n",
      "89:\tlearn: 1340.9227733\ttotal: 21.1s\tremaining: 25.8s\n",
      "90:\tlearn: 1339.5000002\ttotal: 21.3s\tremaining: 25.5s\n",
      "91:\tlearn: 1338.4210994\ttotal: 21.6s\tremaining: 25.3s\n",
      "92:\tlearn: 1338.0136637\ttotal: 21.9s\tremaining: 25.2s\n",
      "93:\tlearn: 1337.0826423\ttotal: 22.1s\tremaining: 24.9s\n",
      "94:\tlearn: 1336.8862163\ttotal: 22.3s\tremaining: 24.7s\n",
      "95:\tlearn: 1335.9062335\ttotal: 22.6s\tremaining: 24.4s\n",
      "96:\tlearn: 1335.3239972\ttotal: 22.8s\tremaining: 24.2s\n",
      "97:\tlearn: 1335.0267932\ttotal: 23s\tremaining: 23.9s\n",
      "98:\tlearn: 1334.2579209\ttotal: 23.3s\tremaining: 23.7s\n",
      "99:\tlearn: 1333.3513758\ttotal: 23.5s\tremaining: 23.5s\n",
      "100:\tlearn: 1332.8429615\ttotal: 23.8s\tremaining: 23.3s\n",
      "101:\tlearn: 1332.4625461\ttotal: 24s\tremaining: 23s\n",
      "102:\tlearn: 1332.1531666\ttotal: 24.2s\tremaining: 22.8s\n",
      "103:\tlearn: 1331.4350984\ttotal: 24.4s\tremaining: 22.5s\n",
      "104:\tlearn: 1330.2812993\ttotal: 24.6s\tremaining: 22.3s\n",
      "105:\tlearn: 1329.6163932\ttotal: 24.9s\tremaining: 22.1s\n",
      "106:\tlearn: 1329.2103224\ttotal: 25.2s\tremaining: 21.9s\n",
      "107:\tlearn: 1328.0502651\ttotal: 25.4s\tremaining: 21.6s\n",
      "108:\tlearn: 1326.5682805\ttotal: 25.6s\tremaining: 21.4s\n",
      "109:\tlearn: 1325.4500061\ttotal: 25.9s\tremaining: 21.2s\n",
      "110:\tlearn: 1324.9081607\ttotal: 26.1s\tremaining: 20.9s\n",
      "111:\tlearn: 1324.3812197\ttotal: 26.3s\tremaining: 20.7s\n",
      "112:\tlearn: 1324.0718522\ttotal: 26.5s\tremaining: 20.4s\n",
      "113:\tlearn: 1323.8360299\ttotal: 26.7s\tremaining: 20.2s\n",
      "114:\tlearn: 1322.7991569\ttotal: 27s\tremaining: 19.9s\n",
      "115:\tlearn: 1321.9068048\ttotal: 27.2s\tremaining: 19.7s\n",
      "116:\tlearn: 1321.4986987\ttotal: 27.4s\tremaining: 19.4s\n",
      "117:\tlearn: 1320.7157459\ttotal: 27.6s\tremaining: 19.2s\n",
      "118:\tlearn: 1319.5630464\ttotal: 27.8s\tremaining: 18.9s\n",
      "119:\tlearn: 1318.4324621\ttotal: 28.1s\tremaining: 18.8s\n",
      "120:\tlearn: 1316.7248796\ttotal: 28.4s\tremaining: 18.5s\n",
      "121:\tlearn: 1315.8658460\ttotal: 28.6s\tremaining: 18.3s\n",
      "122:\tlearn: 1314.9946958\ttotal: 28.8s\tremaining: 18s\n",
      "123:\tlearn: 1314.4427447\ttotal: 28.9s\tremaining: 17.7s\n",
      "124:\tlearn: 1314.0890561\ttotal: 29.1s\tremaining: 17.5s\n",
      "125:\tlearn: 1313.7594031\ttotal: 29.3s\tremaining: 17.2s\n",
      "126:\tlearn: 1313.4169305\ttotal: 29.6s\tremaining: 17s\n",
      "127:\tlearn: 1312.5200656\ttotal: 29.8s\tremaining: 16.8s\n",
      "128:\tlearn: 1312.1846519\ttotal: 30s\tremaining: 16.5s\n",
      "129:\tlearn: 1311.5724131\ttotal: 30.3s\tremaining: 16.3s\n",
      "130:\tlearn: 1310.8357240\ttotal: 30.5s\tremaining: 16.1s\n",
      "131:\tlearn: 1310.2979789\ttotal: 30.7s\tremaining: 15.8s\n",
      "132:\tlearn: 1309.8770465\ttotal: 31s\tremaining: 15.6s\n",
      "133:\tlearn: 1309.5198693\ttotal: 31.2s\tremaining: 15.4s\n",
      "134:\tlearn: 1309.1647629\ttotal: 31.4s\tremaining: 15.1s\n",
      "135:\tlearn: 1308.3232461\ttotal: 31.7s\tremaining: 14.9s\n",
      "136:\tlearn: 1308.2862406\ttotal: 31.9s\tremaining: 14.7s\n",
      "137:\tlearn: 1307.4155087\ttotal: 32.1s\tremaining: 14.4s\n",
      "138:\tlearn: 1306.8483243\ttotal: 32.4s\tremaining: 14.2s\n",
      "139:\tlearn: 1306.1494927\ttotal: 32.6s\tremaining: 14s\n",
      "140:\tlearn: 1305.5902766\ttotal: 32.9s\tremaining: 13.7s\n",
      "141:\tlearn: 1304.9567024\ttotal: 33.1s\tremaining: 13.5s\n",
      "142:\tlearn: 1303.7069860\ttotal: 33.3s\tremaining: 13.3s\n",
      "143:\tlearn: 1302.7787898\ttotal: 33.6s\tremaining: 13.1s\n",
      "144:\tlearn: 1302.5112356\ttotal: 33.8s\tremaining: 12.8s\n",
      "145:\tlearn: 1302.4346563\ttotal: 34s\tremaining: 12.6s\n",
      "146:\tlearn: 1301.8621733\ttotal: 34.2s\tremaining: 12.3s\n",
      "147:\tlearn: 1301.2942628\ttotal: 34.5s\tremaining: 12.1s\n",
      "148:\tlearn: 1301.0202739\ttotal: 34.7s\tremaining: 11.9s\n",
      "149:\tlearn: 1300.3060606\ttotal: 34.9s\tremaining: 11.6s\n",
      "150:\tlearn: 1299.7037434\ttotal: 35.2s\tremaining: 11.4s\n",
      "151:\tlearn: 1299.0288043\ttotal: 35.4s\tremaining: 11.2s\n",
      "152:\tlearn: 1298.0519128\ttotal: 35.6s\tremaining: 10.9s\n",
      "153:\tlearn: 1297.4487239\ttotal: 35.8s\tremaining: 10.7s\n",
      "154:\tlearn: 1297.1090438\ttotal: 36s\tremaining: 10.5s\n",
      "155:\tlearn: 1296.7543774\ttotal: 36.3s\tremaining: 10.2s\n",
      "156:\tlearn: 1296.4368689\ttotal: 36.5s\tremaining: 10s\n",
      "157:\tlearn: 1296.2125717\ttotal: 36.8s\tremaining: 9.78s\n",
      "158:\tlearn: 1295.9196988\ttotal: 37s\tremaining: 9.54s\n",
      "159:\tlearn: 1295.1512355\ttotal: 37.3s\tremaining: 9.32s\n",
      "160:\tlearn: 1294.7835287\ttotal: 37.6s\tremaining: 9.1s\n",
      "161:\tlearn: 1293.9328321\ttotal: 37.8s\tremaining: 8.88s\n",
      "162:\tlearn: 1293.6702856\ttotal: 38.1s\tremaining: 8.65s\n",
      "163:\tlearn: 1293.3181881\ttotal: 38.3s\tremaining: 8.41s\n",
      "164:\tlearn: 1292.6548209\ttotal: 38.6s\tremaining: 8.18s\n",
      "165:\tlearn: 1291.9467670\ttotal: 38.8s\tremaining: 7.94s\n",
      "166:\tlearn: 1291.2428896\ttotal: 39.1s\tremaining: 7.72s\n",
      "167:\tlearn: 1290.3009994\ttotal: 39.3s\tremaining: 7.48s\n",
      "168:\tlearn: 1290.1089063\ttotal: 39.6s\tremaining: 7.26s\n",
      "169:\tlearn: 1288.8265669\ttotal: 39.8s\tremaining: 7.02s\n",
      "170:\tlearn: 1288.1137165\ttotal: 40s\tremaining: 6.79s\n",
      "171:\tlearn: 1287.5391585\ttotal: 40.2s\tremaining: 6.55s\n",
      "172:\tlearn: 1287.1246708\ttotal: 40.4s\tremaining: 6.31s\n",
      "173:\tlearn: 1286.1674321\ttotal: 40.7s\tremaining: 6.07s\n",
      "174:\tlearn: 1285.7732566\ttotal: 40.9s\tremaining: 5.85s\n",
      "175:\tlearn: 1285.0922480\ttotal: 41.2s\tremaining: 5.62s\n",
      "176:\tlearn: 1283.9460892\ttotal: 41.4s\tremaining: 5.38s\n",
      "177:\tlearn: 1282.9446344\ttotal: 41.6s\tremaining: 5.15s\n",
      "178:\tlearn: 1282.1958488\ttotal: 41.9s\tremaining: 4.92s\n",
      "179:\tlearn: 1281.5721113\ttotal: 42.1s\tremaining: 4.68s\n",
      "180:\tlearn: 1281.0981133\ttotal: 42.4s\tremaining: 4.45s\n",
      "181:\tlearn: 1280.3986430\ttotal: 42.7s\tremaining: 4.22s\n",
      "182:\tlearn: 1279.3823449\ttotal: 42.9s\tremaining: 3.99s\n",
      "183:\tlearn: 1278.6667844\ttotal: 43.2s\tremaining: 3.75s\n",
      "184:\tlearn: 1278.2850417\ttotal: 43.4s\tremaining: 3.52s\n",
      "185:\tlearn: 1277.5375522\ttotal: 43.7s\tremaining: 3.29s\n",
      "186:\tlearn: 1276.4109108\ttotal: 43.9s\tremaining: 3.05s\n",
      "187:\tlearn: 1275.5783813\ttotal: 44.2s\tremaining: 2.82s\n",
      "188:\tlearn: 1275.0017234\ttotal: 44.4s\tremaining: 2.58s\n",
      "189:\tlearn: 1274.4029483\ttotal: 44.6s\tremaining: 2.35s\n",
      "190:\tlearn: 1274.2005507\ttotal: 44.8s\tremaining: 2.11s\n",
      "191:\tlearn: 1273.9671559\ttotal: 45s\tremaining: 1.87s\n",
      "192:\tlearn: 1273.8059204\ttotal: 45.2s\tremaining: 1.64s\n",
      "193:\tlearn: 1273.5122250\ttotal: 45.5s\tremaining: 1.41s\n",
      "194:\tlearn: 1273.1541053\ttotal: 45.6s\tremaining: 1.17s\n",
      "195:\tlearn: 1272.8583058\ttotal: 45.8s\tremaining: 935ms\n",
      "196:\tlearn: 1272.4238916\ttotal: 46s\tremaining: 701ms\n",
      "197:\tlearn: 1272.2481604\ttotal: 46.1s\tremaining: 466ms\n",
      "198:\tlearn: 1272.1156426\ttotal: 46.3s\tremaining: 233ms\n",
      "199:\tlearn: 1271.7135876\ttotal: 46.5s\tremaining: 0us\n",
      "0:\tlearn: 2943.6696176\ttotal: 341ms\tremaining: 1m 7s\n",
      "1:\tlearn: 2346.8511766\ttotal: 599ms\tremaining: 59.3s\n",
      "2:\tlearn: 2024.2495359\ttotal: 856ms\tremaining: 56.2s\n",
      "3:\tlearn: 1824.4243738\ttotal: 1.16s\tremaining: 56.9s\n",
      "4:\tlearn: 1723.8025112\ttotal: 1.45s\tremaining: 56.7s\n",
      "5:\tlearn: 1652.0586616\ttotal: 1.73s\tremaining: 56.1s\n",
      "6:\tlearn: 1615.0041049\ttotal: 1.92s\tremaining: 52.9s\n",
      "7:\tlearn: 1593.3922531\ttotal: 2.16s\tremaining: 52s\n",
      "8:\tlearn: 1575.0757152\ttotal: 2.4s\tremaining: 50.9s\n",
      "9:\tlearn: 1562.3386551\ttotal: 2.57s\tremaining: 48.8s\n",
      "10:\tlearn: 1553.8413055\ttotal: 2.79s\tremaining: 48s\n",
      "11:\tlearn: 1543.5081794\ttotal: 3.06s\tremaining: 48s\n",
      "12:\tlearn: 1534.1560830\ttotal: 3.29s\tremaining: 47.3s\n",
      "13:\tlearn: 1524.2849331\ttotal: 3.46s\tremaining: 46s\n",
      "14:\tlearn: 1507.3117339\ttotal: 3.71s\tremaining: 45.7s\n",
      "15:\tlearn: 1501.8252534\ttotal: 3.9s\tremaining: 44.8s\n",
      "16:\tlearn: 1492.9038121\ttotal: 4.07s\tremaining: 43.8s\n",
      "17:\tlearn: 1487.7763274\ttotal: 4.28s\tremaining: 43.3s\n",
      "18:\tlearn: 1482.1883384\ttotal: 4.45s\tremaining: 42.4s\n",
      "19:\tlearn: 1475.5924717\ttotal: 4.69s\tremaining: 42.2s\n",
      "20:\tlearn: 1471.9033363\ttotal: 4.92s\tremaining: 41.9s\n",
      "21:\tlearn: 1467.4365582\ttotal: 5.12s\tremaining: 41.4s\n",
      "22:\tlearn: 1464.4245752\ttotal: 5.36s\tremaining: 41.2s\n",
      "23:\tlearn: 1460.2395453\ttotal: 5.62s\tremaining: 41.2s\n",
      "24:\tlearn: 1458.0766210\ttotal: 5.84s\tremaining: 40.9s\n",
      "25:\tlearn: 1454.7729217\ttotal: 6.05s\tremaining: 40.5s\n",
      "26:\tlearn: 1451.7326117\ttotal: 6.28s\tremaining: 40.2s\n",
      "27:\tlearn: 1448.7724963\ttotal: 6.5s\tremaining: 39.9s\n",
      "28:\tlearn: 1443.8918141\ttotal: 6.69s\tremaining: 39.5s\n",
      "29:\tlearn: 1440.3586922\ttotal: 6.94s\tremaining: 39.3s\n",
      "30:\tlearn: 1436.8920248\ttotal: 7.14s\tremaining: 38.9s\n",
      "31:\tlearn: 1432.6776919\ttotal: 7.4s\tremaining: 38.9s\n",
      "32:\tlearn: 1428.2423665\ttotal: 7.64s\tremaining: 38.7s\n",
      "33:\tlearn: 1425.3509843\ttotal: 7.77s\tremaining: 37.9s\n",
      "34:\tlearn: 1423.6296028\ttotal: 8.03s\tremaining: 37.8s\n",
      "35:\tlearn: 1421.5434066\ttotal: 8.19s\tremaining: 37.3s\n",
      "36:\tlearn: 1418.0137586\ttotal: 8.44s\tremaining: 37.2s\n",
      "37:\tlearn: 1415.6167973\ttotal: 8.69s\tremaining: 37s\n",
      "38:\tlearn: 1412.9978128\ttotal: 8.95s\tremaining: 36.9s\n",
      "39:\tlearn: 1410.3216396\ttotal: 9.21s\tremaining: 36.8s\n",
      "40:\tlearn: 1408.3344282\ttotal: 9.37s\tremaining: 36.3s\n",
      "41:\tlearn: 1406.3451402\ttotal: 9.55s\tremaining: 35.9s\n",
      "42:\tlearn: 1403.7464618\ttotal: 9.82s\tremaining: 35.9s\n",
      "43:\tlearn: 1401.0857124\ttotal: 10.1s\tremaining: 35.8s\n",
      "44:\tlearn: 1398.1123876\ttotal: 10.3s\tremaining: 35.6s\n",
      "45:\tlearn: 1396.2560042\ttotal: 10.6s\tremaining: 35.5s\n",
      "46:\tlearn: 1394.0427533\ttotal: 10.8s\tremaining: 35.1s\n",
      "47:\tlearn: 1392.1549015\ttotal: 11.1s\tremaining: 35.1s\n",
      "48:\tlearn: 1390.5908733\ttotal: 11.3s\tremaining: 34.8s\n",
      "49:\tlearn: 1389.5880507\ttotal: 11.5s\tremaining: 34.6s\n",
      "50:\tlearn: 1388.3735277\ttotal: 11.8s\tremaining: 34.5s\n",
      "51:\tlearn: 1386.8483821\ttotal: 12s\tremaining: 34.3s\n",
      "52:\tlearn: 1385.5444564\ttotal: 12.2s\tremaining: 33.9s\n",
      "53:\tlearn: 1383.0681457\ttotal: 12.5s\tremaining: 33.7s\n",
      "54:\tlearn: 1381.9917302\ttotal: 12.7s\tremaining: 33.6s\n",
      "55:\tlearn: 1380.9008875\ttotal: 12.9s\tremaining: 33.3s\n",
      "56:\tlearn: 1379.2537128\ttotal: 13.2s\tremaining: 33s\n",
      "57:\tlearn: 1377.0109167\ttotal: 13.4s\tremaining: 32.8s\n",
      "58:\tlearn: 1373.8168108\ttotal: 13.6s\tremaining: 32.6s\n",
      "59:\tlearn: 1371.5005717\ttotal: 13.9s\tremaining: 32.3s\n",
      "60:\tlearn: 1370.1963638\ttotal: 14.1s\tremaining: 32s\n",
      "61:\tlearn: 1369.5069677\ttotal: 14.3s\tremaining: 31.7s\n",
      "62:\tlearn: 1368.1861866\ttotal: 14.5s\tremaining: 31.6s\n",
      "63:\tlearn: 1365.8425978\ttotal: 14.8s\tremaining: 31.4s\n",
      "64:\tlearn: 1364.6468499\ttotal: 15s\tremaining: 31.2s\n",
      "65:\tlearn: 1363.8454891\ttotal: 15.2s\tremaining: 30.9s\n",
      "66:\tlearn: 1361.9513605\ttotal: 15.4s\tremaining: 30.6s\n",
      "67:\tlearn: 1361.4792102\ttotal: 15.7s\tremaining: 30.4s\n",
      "68:\tlearn: 1360.5389857\ttotal: 15.9s\tremaining: 30.1s\n",
      "69:\tlearn: 1359.2894802\ttotal: 16.1s\tremaining: 29.9s\n",
      "70:\tlearn: 1358.8259316\ttotal: 16.3s\tremaining: 29.6s\n",
      "71:\tlearn: 1358.0915034\ttotal: 16.5s\tremaining: 29.3s\n",
      "72:\tlearn: 1357.2488151\ttotal: 16.7s\tremaining: 29.1s\n",
      "73:\tlearn: 1356.5290708\ttotal: 17s\tremaining: 28.9s\n",
      "74:\tlearn: 1355.5568734\ttotal: 17.2s\tremaining: 28.7s\n",
      "75:\tlearn: 1354.7214041\ttotal: 17.5s\tremaining: 28.5s\n",
      "76:\tlearn: 1353.4377547\ttotal: 17.6s\tremaining: 28.2s\n",
      "77:\tlearn: 1352.7554965\ttotal: 17.8s\tremaining: 27.9s\n",
      "78:\tlearn: 1351.0096969\ttotal: 18s\tremaining: 27.6s\n",
      "79:\tlearn: 1350.8352053\ttotal: 18.2s\tremaining: 27.3s\n",
      "80:\tlearn: 1349.3016665\ttotal: 18.4s\tremaining: 27.1s\n",
      "81:\tlearn: 1348.1871647\ttotal: 18.7s\tremaining: 27s\n",
      "82:\tlearn: 1347.0773052\ttotal: 19s\tremaining: 26.8s\n",
      "83:\tlearn: 1346.3813028\ttotal: 19.2s\tremaining: 26.6s\n",
      "84:\tlearn: 1344.3178650\ttotal: 19.5s\tremaining: 26.4s\n",
      "85:\tlearn: 1343.6201951\ttotal: 19.8s\tremaining: 26.2s\n",
      "86:\tlearn: 1343.4991163\ttotal: 20s\tremaining: 25.9s\n",
      "87:\tlearn: 1342.1702294\ttotal: 20.2s\tremaining: 25.7s\n",
      "88:\tlearn: 1341.5793839\ttotal: 20.4s\tremaining: 25.4s\n",
      "89:\tlearn: 1341.0273439\ttotal: 20.6s\tremaining: 25.2s\n",
      "90:\tlearn: 1340.8476636\ttotal: 20.8s\tremaining: 24.9s\n",
      "91:\tlearn: 1340.0311926\ttotal: 21.1s\tremaining: 24.7s\n",
      "92:\tlearn: 1339.4265841\ttotal: 21.3s\tremaining: 24.5s\n",
      "93:\tlearn: 1338.7091457\ttotal: 21.5s\tremaining: 24.3s\n",
      "94:\tlearn: 1338.5009175\ttotal: 21.7s\tremaining: 24s\n",
      "95:\tlearn: 1336.9796340\ttotal: 21.9s\tremaining: 23.8s\n",
      "96:\tlearn: 1336.4565258\ttotal: 22.2s\tremaining: 23.5s\n",
      "97:\tlearn: 1334.5185071\ttotal: 22.3s\tremaining: 23.3s\n",
      "98:\tlearn: 1333.7617486\ttotal: 22.6s\tremaining: 23s\n",
      "99:\tlearn: 1333.1240601\ttotal: 22.8s\tremaining: 22.8s\n",
      "100:\tlearn: 1332.0334763\ttotal: 23.1s\tremaining: 22.6s\n",
      "101:\tlearn: 1330.5501890\ttotal: 23.2s\tremaining: 22.3s\n",
      "102:\tlearn: 1329.2393916\ttotal: 23.5s\tremaining: 22.1s\n",
      "103:\tlearn: 1328.5452486\ttotal: 23.7s\tremaining: 21.9s\n",
      "104:\tlearn: 1327.5972598\ttotal: 23.9s\tremaining: 21.6s\n",
      "105:\tlearn: 1327.1208581\ttotal: 24.1s\tremaining: 21.4s\n",
      "106:\tlearn: 1326.5504032\ttotal: 24.4s\tremaining: 21.2s\n",
      "107:\tlearn: 1325.7598241\ttotal: 24.5s\tremaining: 20.9s\n",
      "108:\tlearn: 1325.2566451\ttotal: 24.8s\tremaining: 20.7s\n",
      "109:\tlearn: 1324.6017636\ttotal: 25s\tremaining: 20.5s\n",
      "110:\tlearn: 1324.0303638\ttotal: 25.3s\tremaining: 20.3s\n",
      "111:\tlearn: 1322.7144444\ttotal: 25.5s\tremaining: 20s\n",
      "112:\tlearn: 1322.2464411\ttotal: 25.7s\tremaining: 19.8s\n",
      "113:\tlearn: 1321.5823606\ttotal: 26s\tremaining: 19.6s\n",
      "114:\tlearn: 1321.1191888\ttotal: 26.2s\tremaining: 19.4s\n",
      "115:\tlearn: 1320.5404399\ttotal: 26.5s\tremaining: 19.2s\n",
      "116:\tlearn: 1319.7031130\ttotal: 26.7s\tremaining: 18.9s\n",
      "117:\tlearn: 1319.0874872\ttotal: 26.8s\tremaining: 18.7s\n",
      "118:\tlearn: 1318.8247404\ttotal: 27s\tremaining: 18.4s\n",
      "119:\tlearn: 1317.3461894\ttotal: 27.3s\tremaining: 18.2s\n",
      "120:\tlearn: 1316.7936848\ttotal: 27.5s\tremaining: 18s\n",
      "121:\tlearn: 1316.2373681\ttotal: 27.8s\tremaining: 17.7s\n",
      "122:\tlearn: 1315.8960628\ttotal: 27.9s\tremaining: 17.5s\n",
      "123:\tlearn: 1314.5810469\ttotal: 28.2s\tremaining: 17.3s\n",
      "124:\tlearn: 1314.0357020\ttotal: 28.4s\tremaining: 17.1s\n",
      "125:\tlearn: 1313.2577350\ttotal: 28.7s\tremaining: 16.9s\n",
      "126:\tlearn: 1312.1907473\ttotal: 28.9s\tremaining: 16.6s\n",
      "127:\tlearn: 1311.2676588\ttotal: 29.2s\tremaining: 16.4s\n",
      "128:\tlearn: 1310.8037784\ttotal: 29.3s\tremaining: 16.2s\n",
      "129:\tlearn: 1310.1357046\ttotal: 29.6s\tremaining: 15.9s\n",
      "130:\tlearn: 1309.7160202\ttotal: 29.8s\tremaining: 15.7s\n",
      "131:\tlearn: 1309.3018879\ttotal: 30.1s\tremaining: 15.5s\n",
      "132:\tlearn: 1308.9068128\ttotal: 30.2s\tremaining: 15.2s\n",
      "133:\tlearn: 1308.3647937\ttotal: 30.4s\tremaining: 15s\n",
      "134:\tlearn: 1307.8610577\ttotal: 30.7s\tremaining: 14.8s\n",
      "135:\tlearn: 1307.4188700\ttotal: 31s\tremaining: 14.6s\n",
      "136:\tlearn: 1306.8136570\ttotal: 31.2s\tremaining: 14.3s\n",
      "137:\tlearn: 1306.1191245\ttotal: 31.4s\tremaining: 14.1s\n",
      "138:\tlearn: 1305.5822590\ttotal: 31.6s\tremaining: 13.9s\n",
      "139:\tlearn: 1304.8498644\ttotal: 31.8s\tremaining: 13.6s\n",
      "140:\tlearn: 1304.0982774\ttotal: 32s\tremaining: 13.4s\n",
      "141:\tlearn: 1303.0102204\ttotal: 32.3s\tremaining: 13.2s\n",
      "142:\tlearn: 1302.5892054\ttotal: 32.4s\tremaining: 12.9s\n",
      "143:\tlearn: 1301.4697052\ttotal: 32.7s\tremaining: 12.7s\n",
      "144:\tlearn: 1299.9190625\ttotal: 32.9s\tremaining: 12.5s\n",
      "145:\tlearn: 1298.6738416\ttotal: 33.2s\tremaining: 12.3s\n",
      "146:\tlearn: 1298.2251428\ttotal: 33.6s\tremaining: 12.1s\n",
      "147:\tlearn: 1297.0267407\ttotal: 33.8s\tremaining: 11.9s\n",
      "148:\tlearn: 1296.4327407\ttotal: 34.1s\tremaining: 11.7s\n",
      "149:\tlearn: 1295.8897296\ttotal: 34.4s\tremaining: 11.5s\n",
      "150:\tlearn: 1295.6511704\ttotal: 34.6s\tremaining: 11.2s\n",
      "151:\tlearn: 1295.5093050\ttotal: 34.9s\tremaining: 11s\n",
      "152:\tlearn: 1295.1639027\ttotal: 35.1s\tremaining: 10.8s\n",
      "153:\tlearn: 1294.6107570\ttotal: 35.4s\tremaining: 10.6s\n",
      "154:\tlearn: 1293.8684572\ttotal: 35.7s\tremaining: 10.4s\n",
      "155:\tlearn: 1293.4981060\ttotal: 35.9s\tremaining: 10.1s\n",
      "156:\tlearn: 1292.7369055\ttotal: 36.1s\tremaining: 9.89s\n",
      "157:\tlearn: 1292.2775098\ttotal: 36.3s\tremaining: 9.66s\n",
      "158:\tlearn: 1291.1572846\ttotal: 36.6s\tremaining: 9.43s\n",
      "159:\tlearn: 1290.5982841\ttotal: 36.8s\tremaining: 9.21s\n",
      "160:\tlearn: 1290.2039578\ttotal: 37s\tremaining: 8.96s\n",
      "161:\tlearn: 1289.7701981\ttotal: 37.2s\tremaining: 8.73s\n",
      "162:\tlearn: 1289.0646821\ttotal: 37.4s\tremaining: 8.49s\n",
      "163:\tlearn: 1288.3007162\ttotal: 37.6s\tremaining: 8.26s\n",
      "164:\tlearn: 1288.1247529\ttotal: 37.8s\tremaining: 8.03s\n",
      "165:\tlearn: 1287.9518286\ttotal: 38s\tremaining: 7.79s\n",
      "166:\tlearn: 1287.4881952\ttotal: 38.3s\tremaining: 7.57s\n",
      "167:\tlearn: 1286.8872505\ttotal: 38.6s\tremaining: 7.35s\n",
      "168:\tlearn: 1285.9846919\ttotal: 38.8s\tremaining: 7.12s\n",
      "169:\tlearn: 1285.2502061\ttotal: 39s\tremaining: 6.88s\n",
      "170:\tlearn: 1284.6372027\ttotal: 39.2s\tremaining: 6.65s\n",
      "171:\tlearn: 1283.9968332\ttotal: 39.5s\tremaining: 6.42s\n",
      "172:\tlearn: 1283.5348627\ttotal: 39.7s\tremaining: 6.19s\n",
      "173:\tlearn: 1283.2620015\ttotal: 39.9s\tremaining: 5.97s\n",
      "174:\tlearn: 1283.1042081\ttotal: 40.2s\tremaining: 5.74s\n",
      "175:\tlearn: 1282.5965899\ttotal: 40.4s\tremaining: 5.51s\n",
      "176:\tlearn: 1282.0969452\ttotal: 40.6s\tremaining: 5.28s\n",
      "177:\tlearn: 1281.6209018\ttotal: 40.8s\tremaining: 5.05s\n",
      "178:\tlearn: 1281.3834300\ttotal: 41.1s\tremaining: 4.82s\n",
      "179:\tlearn: 1281.1331772\ttotal: 41.4s\tremaining: 4.6s\n",
      "180:\tlearn: 1279.9296876\ttotal: 41.7s\tremaining: 4.38s\n",
      "181:\tlearn: 1279.3056102\ttotal: 42s\tremaining: 4.15s\n",
      "182:\tlearn: 1279.0220945\ttotal: 42.2s\tremaining: 3.92s\n",
      "183:\tlearn: 1278.8486400\ttotal: 42.4s\tremaining: 3.69s\n",
      "184:\tlearn: 1278.7720407\ttotal: 42.6s\tremaining: 3.45s\n",
      "185:\tlearn: 1278.1523322\ttotal: 42.9s\tremaining: 3.23s\n",
      "186:\tlearn: 1277.8747077\ttotal: 43.1s\tremaining: 3s\n",
      "187:\tlearn: 1277.4723949\ttotal: 43.4s\tremaining: 2.77s\n",
      "188:\tlearn: 1277.0715089\ttotal: 43.6s\tremaining: 2.54s\n",
      "189:\tlearn: 1276.8880465\ttotal: 43.9s\tremaining: 2.31s\n",
      "190:\tlearn: 1276.6494966\ttotal: 44.2s\tremaining: 2.08s\n",
      "191:\tlearn: 1276.2339656\ttotal: 44.5s\tremaining: 1.85s\n",
      "192:\tlearn: 1275.7488711\ttotal: 44.8s\tremaining: 1.63s\n",
      "193:\tlearn: 1275.5596988\ttotal: 45s\tremaining: 1.39s\n",
      "194:\tlearn: 1274.8007016\ttotal: 45.2s\tremaining: 1.16s\n",
      "195:\tlearn: 1274.1821979\ttotal: 45.5s\tremaining: 929ms\n",
      "196:\tlearn: 1273.3446355\ttotal: 45.8s\tremaining: 697ms\n",
      "197:\tlearn: 1272.6658729\ttotal: 46s\tremaining: 465ms\n",
      "198:\tlearn: 1272.0836818\ttotal: 46.2s\tremaining: 232ms\n",
      "199:\tlearn: 1272.0062649\ttotal: 46.4s\tremaining: 0us\n",
      "0:\tlearn: 2953.6103769\ttotal: 365ms\tremaining: 1m 12s\n",
      "1:\tlearn: 2347.4684804\ttotal: 671ms\tremaining: 1m 6s\n",
      "2:\tlearn: 2038.4140781\ttotal: 938ms\tremaining: 1m 1s\n",
      "3:\tlearn: 1846.1385039\ttotal: 1.2s\tremaining: 58.8s\n",
      "4:\tlearn: 1747.3146623\ttotal: 1.44s\tremaining: 56s\n",
      "5:\tlearn: 1673.3541864\ttotal: 1.7s\tremaining: 54.9s\n",
      "6:\tlearn: 1637.5195873\ttotal: 1.91s\tremaining: 52.8s\n",
      "7:\tlearn: 1611.2057058\ttotal: 2.11s\tremaining: 50.7s\n",
      "8:\tlearn: 1591.1518209\ttotal: 2.29s\tremaining: 48.7s\n",
      "9:\tlearn: 1578.7507963\ttotal: 2.48s\tremaining: 47.2s\n",
      "10:\tlearn: 1568.2257760\ttotal: 2.67s\tremaining: 45.9s\n",
      "11:\tlearn: 1547.2815665\ttotal: 2.82s\tremaining: 44.2s\n",
      "12:\tlearn: 1538.4674096\ttotal: 3.09s\tremaining: 44.5s\n",
      "13:\tlearn: 1527.9842475\ttotal: 3.34s\tremaining: 44.4s\n",
      "14:\tlearn: 1519.2549713\ttotal: 3.6s\tremaining: 44.4s\n",
      "15:\tlearn: 1513.5388988\ttotal: 3.82s\tremaining: 44s\n",
      "16:\tlearn: 1501.6446282\ttotal: 4.04s\tremaining: 43.5s\n",
      "17:\tlearn: 1497.0224242\ttotal: 4.23s\tremaining: 42.8s\n",
      "18:\tlearn: 1490.9905919\ttotal: 4.48s\tremaining: 42.7s\n",
      "19:\tlearn: 1483.5837509\ttotal: 4.66s\tremaining: 42s\n",
      "20:\tlearn: 1478.2168563\ttotal: 4.86s\tremaining: 41.4s\n",
      "21:\tlearn: 1474.5174602\ttotal: 5.17s\tremaining: 41.9s\n",
      "22:\tlearn: 1470.4747778\ttotal: 5.41s\tremaining: 41.7s\n",
      "23:\tlearn: 1466.6918137\ttotal: 5.66s\tremaining: 41.5s\n",
      "24:\tlearn: 1461.7717663\ttotal: 6s\tremaining: 42s\n",
      "25:\tlearn: 1455.6221652\ttotal: 6.19s\tremaining: 41.5s\n",
      "26:\tlearn: 1452.3873489\ttotal: 6.44s\tremaining: 41.2s\n",
      "27:\tlearn: 1449.0690491\ttotal: 6.6s\tremaining: 40.6s\n",
      "28:\tlearn: 1445.8141522\ttotal: 6.84s\tremaining: 40.3s\n",
      "29:\tlearn: 1443.2208612\ttotal: 7.05s\tremaining: 40s\n",
      "30:\tlearn: 1439.3397697\ttotal: 7.25s\tremaining: 39.5s\n",
      "31:\tlearn: 1434.6996910\ttotal: 7.5s\tremaining: 39.4s\n",
      "32:\tlearn: 1431.3168729\ttotal: 7.81s\tremaining: 39.5s\n",
      "33:\tlearn: 1428.0429405\ttotal: 8.02s\tremaining: 39.2s\n",
      "34:\tlearn: 1425.2854215\ttotal: 8.43s\tremaining: 39.7s\n",
      "35:\tlearn: 1420.6013448\ttotal: 8.81s\tremaining: 40.1s\n",
      "36:\tlearn: 1417.8320226\ttotal: 9.13s\tremaining: 40.2s\n",
      "37:\tlearn: 1415.4403680\ttotal: 9.36s\tremaining: 39.9s\n",
      "38:\tlearn: 1413.5861011\ttotal: 9.59s\tremaining: 39.6s\n",
      "39:\tlearn: 1410.8274158\ttotal: 9.82s\tremaining: 39.3s\n",
      "40:\tlearn: 1408.6559477\ttotal: 10.1s\tremaining: 39s\n",
      "41:\tlearn: 1405.4900117\ttotal: 10.3s\tremaining: 38.9s\n",
      "42:\tlearn: 1404.2253034\ttotal: 10.6s\tremaining: 38.8s\n",
      "43:\tlearn: 1402.3188670\ttotal: 10.9s\tremaining: 38.7s\n",
      "44:\tlearn: 1400.7605681\ttotal: 11.2s\tremaining: 38.4s\n",
      "45:\tlearn: 1399.3779310\ttotal: 11.3s\tremaining: 37.9s\n",
      "46:\tlearn: 1397.0562281\ttotal: 11.6s\tremaining: 37.6s\n",
      "47:\tlearn: 1395.5960756\ttotal: 11.8s\tremaining: 37.4s\n",
      "48:\tlearn: 1394.4881614\ttotal: 12s\tremaining: 37.1s\n",
      "49:\tlearn: 1393.1155772\ttotal: 12.2s\tremaining: 36.7s\n",
      "50:\tlearn: 1391.0958159\ttotal: 12.5s\tremaining: 36.5s\n",
      "51:\tlearn: 1390.2960830\ttotal: 12.7s\tremaining: 36.1s\n",
      "52:\tlearn: 1389.1114478\ttotal: 12.9s\tremaining: 35.8s\n",
      "53:\tlearn: 1387.0722713\ttotal: 13.2s\tremaining: 35.6s\n",
      "54:\tlearn: 1385.9549801\ttotal: 13.4s\tremaining: 35.4s\n",
      "55:\tlearn: 1385.0575292\ttotal: 13.6s\tremaining: 34.9s\n",
      "56:\tlearn: 1383.5531159\ttotal: 13.8s\tremaining: 34.6s\n",
      "57:\tlearn: 1382.1469352\ttotal: 14s\tremaining: 34.4s\n",
      "58:\tlearn: 1380.4250456\ttotal: 14.2s\tremaining: 34.1s\n",
      "59:\tlearn: 1379.6328316\ttotal: 14.5s\tremaining: 33.8s\n",
      "60:\tlearn: 1378.6996949\ttotal: 14.7s\tremaining: 33.5s\n",
      "61:\tlearn: 1377.8229538\ttotal: 14.9s\tremaining: 33.2s\n",
      "62:\tlearn: 1377.1419118\ttotal: 15.1s\tremaining: 32.8s\n",
      "63:\tlearn: 1375.5921090\ttotal: 15.4s\tremaining: 32.6s\n",
      "64:\tlearn: 1374.2484134\ttotal: 15.6s\tremaining: 32.4s\n",
      "65:\tlearn: 1372.2050110\ttotal: 15.8s\tremaining: 32.1s\n",
      "66:\tlearn: 1370.5679546\ttotal: 16s\tremaining: 31.8s\n",
      "67:\tlearn: 1368.5605167\ttotal: 16.2s\tremaining: 31.5s\n",
      "68:\tlearn: 1367.0419523\ttotal: 16.5s\tremaining: 31.3s\n",
      "69:\tlearn: 1366.1275203\ttotal: 16.7s\tremaining: 30.9s\n",
      "70:\tlearn: 1364.9980376\ttotal: 16.9s\tremaining: 30.7s\n",
      "71:\tlearn: 1363.7862933\ttotal: 17s\tremaining: 30.3s\n",
      "72:\tlearn: 1363.1661450\ttotal: 17.2s\tremaining: 30s\n",
      "73:\tlearn: 1361.9147462\ttotal: 17.5s\tremaining: 29.7s\n",
      "74:\tlearn: 1360.7800012\ttotal: 17.7s\tremaining: 29.5s\n",
      "75:\tlearn: 1359.0088285\ttotal: 17.9s\tremaining: 29.3s\n",
      "76:\tlearn: 1357.5131473\ttotal: 18.2s\tremaining: 29s\n",
      "77:\tlearn: 1356.1617369\ttotal: 18.4s\tremaining: 28.8s\n",
      "78:\tlearn: 1354.4130992\ttotal: 18.6s\tremaining: 28.5s\n",
      "79:\tlearn: 1353.9856748\ttotal: 18.8s\tremaining: 28.2s\n",
      "80:\tlearn: 1353.2305631\ttotal: 19s\tremaining: 27.9s\n",
      "81:\tlearn: 1352.2969437\ttotal: 19.2s\tremaining: 27.6s\n",
      "82:\tlearn: 1351.8142175\ttotal: 19.4s\tremaining: 27.4s\n",
      "83:\tlearn: 1349.7806923\ttotal: 19.6s\tremaining: 27.1s\n",
      "84:\tlearn: 1348.9220570\ttotal: 19.9s\tremaining: 26.9s\n",
      "85:\tlearn: 1347.9143578\ttotal: 20.1s\tremaining: 26.6s\n",
      "86:\tlearn: 1346.9041721\ttotal: 20.3s\tremaining: 26.4s\n",
      "87:\tlearn: 1345.7108355\ttotal: 20.5s\tremaining: 26.1s\n",
      "88:\tlearn: 1344.6232990\ttotal: 20.8s\tremaining: 25.9s\n",
      "89:\tlearn: 1344.0336338\ttotal: 21s\tremaining: 25.6s\n",
      "90:\tlearn: 1342.2380745\ttotal: 21.2s\tremaining: 25.4s\n",
      "91:\tlearn: 1340.9786920\ttotal: 21.4s\tremaining: 25.1s\n",
      "92:\tlearn: 1340.4248152\ttotal: 21.7s\tremaining: 24.9s\n",
      "93:\tlearn: 1339.5035976\ttotal: 21.9s\tremaining: 24.7s\n",
      "94:\tlearn: 1338.3510135\ttotal: 22.1s\tremaining: 24.5s\n",
      "95:\tlearn: 1337.7906116\ttotal: 22.4s\tremaining: 24.2s\n",
      "96:\tlearn: 1336.8674016\ttotal: 22.6s\tremaining: 24s\n",
      "97:\tlearn: 1335.9726590\ttotal: 22.8s\tremaining: 23.8s\n",
      "98:\tlearn: 1335.0646186\ttotal: 23.1s\tremaining: 23.5s\n",
      "99:\tlearn: 1334.8589116\ttotal: 23.2s\tremaining: 23.2s\n",
      "100:\tlearn: 1333.6940041\ttotal: 23.4s\tremaining: 22.9s\n",
      "101:\tlearn: 1332.9752894\ttotal: 23.6s\tremaining: 22.7s\n",
      "102:\tlearn: 1332.4762368\ttotal: 23.8s\tremaining: 22.4s\n",
      "103:\tlearn: 1331.8875230\ttotal: 24.1s\tremaining: 22.2s\n",
      "104:\tlearn: 1330.7596823\ttotal: 24.2s\tremaining: 21.9s\n",
      "105:\tlearn: 1330.0464113\ttotal: 24.5s\tremaining: 21.7s\n",
      "106:\tlearn: 1329.4144314\ttotal: 24.7s\tremaining: 21.5s\n",
      "107:\tlearn: 1328.9439118\ttotal: 24.9s\tremaining: 21.2s\n",
      "108:\tlearn: 1328.2129710\ttotal: 25.1s\tremaining: 21s\n",
      "109:\tlearn: 1326.9065805\ttotal: 25.4s\tremaining: 20.8s\n",
      "110:\tlearn: 1326.4417457\ttotal: 25.6s\tremaining: 20.5s\n",
      "111:\tlearn: 1326.2390317\ttotal: 25.8s\tremaining: 20.3s\n",
      "112:\tlearn: 1325.6983077\ttotal: 26.1s\tremaining: 20.1s\n",
      "113:\tlearn: 1324.8807172\ttotal: 26.4s\tremaining: 19.9s\n",
      "114:\tlearn: 1324.0090816\ttotal: 26.6s\tremaining: 19.7s\n",
      "115:\tlearn: 1323.3289634\ttotal: 26.9s\tremaining: 19.5s\n",
      "116:\tlearn: 1322.5253017\ttotal: 27.1s\tremaining: 19.2s\n",
      "117:\tlearn: 1322.4046521\ttotal: 27.3s\tremaining: 19s\n",
      "118:\tlearn: 1320.9125404\ttotal: 27.5s\tremaining: 18.7s\n",
      "119:\tlearn: 1320.3900964\ttotal: 27.8s\tremaining: 18.5s\n",
      "120:\tlearn: 1319.6600661\ttotal: 28s\tremaining: 18.3s\n",
      "121:\tlearn: 1317.4336002\ttotal: 28.2s\tremaining: 18s\n",
      "122:\tlearn: 1316.5631583\ttotal: 28.4s\tremaining: 17.8s\n",
      "123:\tlearn: 1315.2835693\ttotal: 28.6s\tremaining: 17.5s\n",
      "124:\tlearn: 1314.1610949\ttotal: 28.9s\tremaining: 17.3s\n",
      "125:\tlearn: 1313.7396175\ttotal: 29.1s\tremaining: 17.1s\n",
      "126:\tlearn: 1313.2468311\ttotal: 29.3s\tremaining: 16.8s\n",
      "127:\tlearn: 1312.3794475\ttotal: 29.4s\tremaining: 16.5s\n",
      "128:\tlearn: 1311.8615887\ttotal: 29.5s\tremaining: 16.3s\n",
      "129:\tlearn: 1311.5524406\ttotal: 29.8s\tremaining: 16s\n",
      "130:\tlearn: 1311.0254177\ttotal: 30.1s\tremaining: 15.8s\n",
      "131:\tlearn: 1310.2753476\ttotal: 30.3s\tremaining: 15.6s\n",
      "132:\tlearn: 1309.6205579\ttotal: 30.6s\tremaining: 15.4s\n",
      "133:\tlearn: 1308.6555795\ttotal: 30.9s\tremaining: 15.2s\n",
      "134:\tlearn: 1308.1354419\ttotal: 31.2s\tremaining: 15s\n",
      "135:\tlearn: 1307.3116014\ttotal: 31.4s\tremaining: 14.8s\n",
      "136:\tlearn: 1306.9795062\ttotal: 31.7s\tremaining: 14.6s\n",
      "137:\tlearn: 1306.2870056\ttotal: 31.9s\tremaining: 14.3s\n",
      "138:\tlearn: 1305.9067871\ttotal: 32.2s\tremaining: 14.1s\n",
      "139:\tlearn: 1305.2905311\ttotal: 32.4s\tremaining: 13.9s\n",
      "140:\tlearn: 1304.2644446\ttotal: 32.7s\tremaining: 13.7s\n",
      "141:\tlearn: 1303.4421072\ttotal: 33s\tremaining: 13.5s\n",
      "142:\tlearn: 1302.9274143\ttotal: 33.3s\tremaining: 13.3s\n",
      "143:\tlearn: 1302.5773023\ttotal: 33.5s\tremaining: 13s\n",
      "144:\tlearn: 1302.0127765\ttotal: 33.8s\tremaining: 12.8s\n",
      "145:\tlearn: 1301.3393972\ttotal: 34.1s\tremaining: 12.6s\n",
      "146:\tlearn: 1300.7975976\ttotal: 34.3s\tremaining: 12.4s\n",
      "147:\tlearn: 1299.9877156\ttotal: 34.6s\tremaining: 12.2s\n",
      "148:\tlearn: 1298.9482078\ttotal: 34.8s\tremaining: 11.9s\n",
      "149:\tlearn: 1298.5259573\ttotal: 35.1s\tremaining: 11.7s\n",
      "150:\tlearn: 1298.1252031\ttotal: 35.3s\tremaining: 11.5s\n",
      "151:\tlearn: 1297.7202383\ttotal: 35.6s\tremaining: 11.2s\n",
      "152:\tlearn: 1297.2900608\ttotal: 35.9s\tremaining: 11s\n",
      "153:\tlearn: 1296.7866655\ttotal: 36.1s\tremaining: 10.8s\n",
      "154:\tlearn: 1296.4327127\ttotal: 36.4s\tremaining: 10.6s\n",
      "155:\tlearn: 1294.9077047\ttotal: 36.5s\tremaining: 10.3s\n",
      "156:\tlearn: 1293.9796813\ttotal: 36.7s\tremaining: 10.1s\n",
      "157:\tlearn: 1293.5806592\ttotal: 36.9s\tremaining: 9.81s\n",
      "158:\tlearn: 1293.0214410\ttotal: 37.2s\tremaining: 9.58s\n",
      "159:\tlearn: 1292.6365017\ttotal: 37.4s\tremaining: 9.35s\n",
      "160:\tlearn: 1292.3918735\ttotal: 37.6s\tremaining: 9.12s\n",
      "161:\tlearn: 1291.8929991\ttotal: 37.9s\tremaining: 8.88s\n",
      "162:\tlearn: 1291.3733728\ttotal: 38.1s\tremaining: 8.65s\n",
      "163:\tlearn: 1290.8429289\ttotal: 38.3s\tremaining: 8.4s\n",
      "164:\tlearn: 1290.6854959\ttotal: 38.5s\tremaining: 8.16s\n",
      "165:\tlearn: 1289.9223035\ttotal: 38.6s\tremaining: 7.91s\n",
      "166:\tlearn: 1289.2112050\ttotal: 38.9s\tremaining: 7.68s\n",
      "167:\tlearn: 1288.6799291\ttotal: 39.1s\tremaining: 7.46s\n",
      "168:\tlearn: 1287.7468934\ttotal: 39.5s\tremaining: 7.24s\n",
      "169:\tlearn: 1287.0183169\ttotal: 39.7s\tremaining: 7.01s\n",
      "170:\tlearn: 1286.7777357\ttotal: 39.9s\tremaining: 6.77s\n",
      "171:\tlearn: 1286.4932563\ttotal: 40.1s\tremaining: 6.53s\n",
      "172:\tlearn: 1285.4721641\ttotal: 40.3s\tremaining: 6.29s\n",
      "173:\tlearn: 1285.3597749\ttotal: 40.5s\tremaining: 6.05s\n",
      "174:\tlearn: 1284.7722868\ttotal: 40.6s\tremaining: 5.8s\n",
      "175:\tlearn: 1284.1853797\ttotal: 40.8s\tremaining: 5.57s\n",
      "176:\tlearn: 1283.5226788\ttotal: 41s\tremaining: 5.33s\n",
      "177:\tlearn: 1282.7229467\ttotal: 41.4s\tremaining: 5.11s\n",
      "178:\tlearn: 1282.4737249\ttotal: 41.7s\tremaining: 4.89s\n",
      "179:\tlearn: 1282.3829479\ttotal: 41.9s\tremaining: 4.65s\n",
      "180:\tlearn: 1281.8263827\ttotal: 42.2s\tremaining: 4.42s\n",
      "181:\tlearn: 1281.5650897\ttotal: 42.4s\tremaining: 4.2s\n",
      "182:\tlearn: 1281.1447143\ttotal: 42.7s\tremaining: 3.96s\n",
      "183:\tlearn: 1280.6716087\ttotal: 42.8s\tremaining: 3.73s\n",
      "184:\tlearn: 1280.0932295\ttotal: 43.1s\tremaining: 3.49s\n",
      "185:\tlearn: 1279.6715513\ttotal: 43.2s\tremaining: 3.25s\n",
      "186:\tlearn: 1279.2697664\ttotal: 43.5s\tremaining: 3.02s\n",
      "187:\tlearn: 1279.2086768\ttotal: 43.6s\tremaining: 2.78s\n",
      "188:\tlearn: 1278.9178394\ttotal: 43.9s\tremaining: 2.55s\n",
      "189:\tlearn: 1278.4788617\ttotal: 44.1s\tremaining: 2.32s\n",
      "190:\tlearn: 1277.9991311\ttotal: 44.3s\tremaining: 2.09s\n",
      "191:\tlearn: 1277.3333191\ttotal: 44.6s\tremaining: 1.86s\n",
      "192:\tlearn: 1276.4761538\ttotal: 44.8s\tremaining: 1.62s\n",
      "193:\tlearn: 1276.0578403\ttotal: 45s\tremaining: 1.39s\n",
      "194:\tlearn: 1275.8322111\ttotal: 45.2s\tremaining: 1.16s\n",
      "195:\tlearn: 1275.3945776\ttotal: 45.4s\tremaining: 927ms\n",
      "196:\tlearn: 1275.2127464\ttotal: 45.6s\tremaining: 694ms\n",
      "197:\tlearn: 1274.1708020\ttotal: 45.8s\tremaining: 463ms\n",
      "198:\tlearn: 1273.6370774\ttotal: 46.1s\tremaining: 232ms\n",
      "199:\tlearn: 1273.0285348\ttotal: 46.4s\tremaining: 0us\n",
      "CPU times: user 3min 49s, sys: 1.31 s, total: 3min 50s\n",
      "Wall time: 4min 2s\n"
     ]
    }
   ],
   "source": [
    "%%time\n",
    "start = time.time()\n",
    "model_cat_best = CatBoostRegressor(random_state=123,learning_rate=0.4, depth = 8, iterations=200, cat_features=сat_features)\n",
    "\n",
    "model_cat_cross = cross_val_score(model_cat_best, features_train, target_train, scoring='neg_mean_squared_error')\n",
    "\n",
    "end = time.time()\n",
    "time_cat=round(end-start,2)\n"
   ]
  },
  {
   "cell_type": "code",
   "execution_count": 38,
   "metadata": {},
   "outputs": [],
   "source": [
    "#Рассчитаем rmse для модели\n",
    "rmse_cat_best=((model_cat_cross*-1)**0.5).mean()"
   ]
  },
  {
   "cell_type": "code",
   "execution_count": 39,
   "metadata": {},
   "outputs": [
    {
     "data": {
      "text/plain": [
       "1381.9165685891676"
      ]
     },
     "execution_count": 39,
     "metadata": {},
     "output_type": "execute_result"
    }
   ],
   "source": [
    "rmse_cat_best"
   ]
  },
  {
   "cell_type": "code",
   "execution_count": 40,
   "metadata": {},
   "outputs": [
    {
     "data": {
      "text/plain": [
       "242.46"
      ]
     },
     "execution_count": 40,
     "metadata": {},
     "output_type": "execute_result"
    }
   ],
   "source": [
    "time_cat"
   ]
  },
  {
   "cell_type": "markdown",
   "metadata": {},
   "source": [
    "Видим, что при большом количестве итераций модель начала \"переобучаться\" оптимальное значение iterations для данной модели 384"
   ]
  },
  {
   "cell_type": "markdown",
   "metadata": {},
   "source": [
    "***Закодируем категориальные признаки методом `OheHotEncoder`***"
   ]
  },
  {
   "cell_type": "markdown",
   "metadata": {},
   "source": [
    "Закодируем категориальные признаки методом OheHotEncoder и заново разобьем выборку на тренировочную и тестовую"
   ]
  },
  {
   "cell_type": "code",
   "execution_count": 41,
   "metadata": {},
   "outputs": [
    {
     "name": "stdout",
     "output_type": "stream",
     "text": [
      "<class 'pandas.core.frame.DataFrame'>\n",
      "Int64Index: 178355 entries, 26464 to 217570\n",
      "Columns: 303 entries, vehicle_type_convertible to repaired_yes\n",
      "dtypes: uint8(303)\n",
      "memory usage: 52.9 MB\n"
     ]
    }
   ],
   "source": [
    "col=['vehicle_type', 'gearbox', 'model', 'fuel_type', 'brand', 'repaired']\n",
    "features_ohe = pd.get_dummies(features[col], drop_first=True)\n",
    "features_train_ohe, features_test_ohe, target_train_ohe, target_test_ohe = train_test_split(features_ohe,target,test_size=0.25,\n",
    "                                                                              random_state = 12345)\n",
    "features_train_ohe.info()"
   ]
  },
  {
   "cell_type": "markdown",
   "metadata": {},
   "source": [
    "***Линейная регрессия***"
   ]
  },
  {
   "cell_type": "code",
   "execution_count": 42,
   "metadata": {},
   "outputs": [
    {
     "name": "stdout",
     "output_type": "stream",
     "text": [
      "CPU times: user 1min 32s, sys: 4min 12s, total: 5min 44s\n",
      "Wall time: 5min 45s\n"
     ]
    }
   ],
   "source": [
    "%%time\n",
    "start = time.time()\n",
    "# обучим модель на тренировочных данных и предскажем прогнозные значения\n",
    "model_lr = LinearRegression(normalize=True)\n",
    "\n",
    "rmse_lr = cross_val_score(model_lr, features_train_ohe, target_train_ohe, scoring = 'neg_mean_squared_error')\n",
    "\n",
    "\n",
    "end = time.time()\n",
    "time_lr=round(end-start,2)\n"
   ]
  },
  {
   "cell_type": "code",
   "execution_count": 43,
   "metadata": {},
   "outputs": [
    {
     "data": {
      "text/plain": [
       "499219416011898.3"
      ]
     },
     "execution_count": 43,
     "metadata": {},
     "output_type": "execute_result"
    }
   ],
   "source": [
    "rmse_lr_best=((rmse_lr*-1)**0.5).mean()\n",
    "rmse_lr_best"
   ]
  },
  {
   "cell_type": "markdown",
   "metadata": {},
   "source": [
    "***Случайный лес***"
   ]
  },
  {
   "cell_type": "markdown",
   "metadata": {},
   "source": [
    "Для модели случайного леса закодируем категориальные признаки методом `OrdinalEncoder`"
   ]
  },
  {
   "cell_type": "code",
   "execution_count": 44,
   "metadata": {},
   "outputs": [],
   "source": [
    "col=['vehicle_type', 'gearbox', 'model', 'fuel_type', 'brand', 'repaired']\n",
    "encoder = OrdinalEncoder()\n",
    "encoder.fit(features_train[col])\n",
    "\n",
    "cat_features = features_train[col]\n",
    "cat_features = pd.DataFrame(encoder.fit_transform(cat_features),\n",
    "                                columns=cat_features.columns, \n",
    "                                index=cat_features.index)\n",
    "features_train_ord=features_train.copy()\n",
    "for column in col:\n",
    "    features_train_ord[column] = cat_features[column]"
   ]
  },
  {
   "cell_type": "code",
   "execution_count": 45,
   "metadata": {},
   "outputs": [
    {
     "data": {
      "text/html": [
       "<div>\n",
       "<style scoped>\n",
       "    .dataframe tbody tr th:only-of-type {\n",
       "        vertical-align: middle;\n",
       "    }\n",
       "\n",
       "    .dataframe tbody tr th {\n",
       "        vertical-align: top;\n",
       "    }\n",
       "\n",
       "    .dataframe thead th {\n",
       "        text-align: right;\n",
       "    }\n",
       "</style>\n",
       "<table border=\"1\" class=\"dataframe\">\n",
       "  <thead>\n",
       "    <tr style=\"text-align: right;\">\n",
       "      <th></th>\n",
       "      <th>vehicle_type</th>\n",
       "      <th>registration_year</th>\n",
       "      <th>gearbox</th>\n",
       "      <th>power</th>\n",
       "      <th>model</th>\n",
       "      <th>kilometer</th>\n",
       "      <th>fuel_type</th>\n",
       "      <th>brand</th>\n",
       "      <th>repaired</th>\n",
       "    </tr>\n",
       "  </thead>\n",
       "  <tbody>\n",
       "    <tr>\n",
       "      <th>26464</th>\n",
       "      <td>4.0</td>\n",
       "      <td>1999</td>\n",
       "      <td>1.0</td>\n",
       "      <td>75</td>\n",
       "      <td>116.0</td>\n",
       "      <td>150000</td>\n",
       "      <td>6.0</td>\n",
       "      <td>38.0</td>\n",
       "      <td>0.0</td>\n",
       "    </tr>\n",
       "    <tr>\n",
       "      <th>70024</th>\n",
       "      <td>5.0</td>\n",
       "      <td>2000</td>\n",
       "      <td>1.0</td>\n",
       "      <td>60</td>\n",
       "      <td>173.0</td>\n",
       "      <td>150000</td>\n",
       "      <td>6.0</td>\n",
       "      <td>38.0</td>\n",
       "      <td>0.0</td>\n",
       "    </tr>\n",
       "    <tr>\n",
       "      <th>101356</th>\n",
       "      <td>5.0</td>\n",
       "      <td>2001</td>\n",
       "      <td>1.0</td>\n",
       "      <td>50</td>\n",
       "      <td>143.0</td>\n",
       "      <td>150000</td>\n",
       "      <td>6.0</td>\n",
       "      <td>38.0</td>\n",
       "      <td>1.0</td>\n",
       "    </tr>\n",
       "    <tr>\n",
       "      <th>222691</th>\n",
       "      <td>8.0</td>\n",
       "      <td>2012</td>\n",
       "      <td>0.0</td>\n",
       "      <td>184</td>\n",
       "      <td>59.0</td>\n",
       "      <td>150000</td>\n",
       "      <td>6.0</td>\n",
       "      <td>20.0</td>\n",
       "      <td>0.0</td>\n",
       "    </tr>\n",
       "    <tr>\n",
       "      <th>152740</th>\n",
       "      <td>5.0</td>\n",
       "      <td>2006</td>\n",
       "      <td>1.0</td>\n",
       "      <td>70</td>\n",
       "      <td>55.0</td>\n",
       "      <td>150000</td>\n",
       "      <td>6.0</td>\n",
       "      <td>5.0</td>\n",
       "      <td>0.0</td>\n",
       "    </tr>\n",
       "  </tbody>\n",
       "</table>\n",
       "</div>"
      ],
      "text/plain": [
       "        vehicle_type  registration_year  gearbox  power  model  kilometer  \\\n",
       "26464            4.0               1999      1.0     75  116.0     150000   \n",
       "70024            5.0               2000      1.0     60  173.0     150000   \n",
       "101356           5.0               2001      1.0     50  143.0     150000   \n",
       "222691           8.0               2012      0.0    184   59.0     150000   \n",
       "152740           5.0               2006      1.0     70   55.0     150000   \n",
       "\n",
       "        fuel_type  brand  repaired  \n",
       "26464         6.0   38.0       0.0  \n",
       "70024         6.0   38.0       0.0  \n",
       "101356        6.0   38.0       1.0  \n",
       "222691        6.0   20.0       0.0  \n",
       "152740        6.0    5.0       0.0  "
      ]
     },
     "execution_count": 45,
     "metadata": {},
     "output_type": "execute_result"
    }
   ],
   "source": [
    "features_train_ord.head()"
   ]
  },
  {
   "cell_type": "markdown",
   "metadata": {},
   "source": [
    "Обучим модель и подберем лучшие параметры"
   ]
  },
  {
   "cell_type": "code",
   "execution_count": 46,
   "metadata": {},
   "outputs": [
    {
     "data": {
      "text/plain": [
       "GridSearchCV(estimator=RandomForestRegressor(random_state=12345),\n",
       "             param_grid={'max_depth': [5, 6, 7, 8, 9, 10],\n",
       "                         'n_estimators': [10, 20, 30, 40, 50]},\n",
       "             scoring='neg_mean_squared_error')"
      ]
     },
     "execution_count": 46,
     "metadata": {},
     "output_type": "execute_result"
    }
   ],
   "source": [
    "model_rf =  RandomForestRegressor(random_state=12345)\n",
    "grid = {'n_estimators':[10,20,30,40,50],\n",
    "        'max_depth': [5,6,7,8,9,10]}\n",
    "rf = GridSearchCV(model_rf, grid, scoring='neg_mean_squared_error')\n",
    "rf.fit(features_train_ord, target_train)"
   ]
  },
  {
   "cell_type": "code",
   "execution_count": 47,
   "metadata": {},
   "outputs": [
    {
     "data": {
      "text/plain": [
       "{'max_depth': 10, 'n_estimators': 50}"
      ]
     },
     "execution_count": 47,
     "metadata": {},
     "output_type": "execute_result"
    }
   ],
   "source": [
    "rf.best_params_"
   ]
  },
  {
   "cell_type": "markdown",
   "metadata": {},
   "source": [
    "Проведем кросс-валидацию на лучших параметрах модели"
   ]
  },
  {
   "cell_type": "code",
   "execution_count": 48,
   "metadata": {},
   "outputs": [],
   "source": [
    "start = time.time()\n",
    "model_rf_best = RandomForestRegressor(random_state=123,n_estimators = 50 , max_depth = 10)\n",
    "\n",
    "rf_cross = cross_val_score(model_rf_best, features_train_ord, target_train, scoring='neg_mean_squared_error')\n",
    "\n",
    "end = time.time()\n",
    "time_rf=round(end-start,2)"
   ]
  },
  {
   "cell_type": "code",
   "execution_count": 49,
   "metadata": {},
   "outputs": [
    {
     "data": {
      "text/plain": [
       "1626.69037290162"
      ]
     },
     "execution_count": 49,
     "metadata": {},
     "output_type": "execute_result"
    }
   ],
   "source": [
    "rmse_rf_best=((rf_cross*-1)**0.5).mean()\n",
    "rmse_rf_best"
   ]
  },
  {
   "cell_type": "code",
   "execution_count": 50,
   "metadata": {},
   "outputs": [
    {
     "data": {
      "text/plain": [
       "62.68"
      ]
     },
     "execution_count": 50,
     "metadata": {},
     "output_type": "execute_result"
    }
   ],
   "source": [
    "time_rf"
   ]
  },
  {
   "cell_type": "markdown",
   "metadata": {},
   "source": [
    "**Библиотека градиентного бустинга LightGBM**"
   ]
  },
  {
   "cell_type": "code",
   "execution_count": 51,
   "metadata": {},
   "outputs": [],
   "source": [
    "# Удалим ненужные дата сеты, чтобы не нагружать память\n",
    "del data\n",
    "del features_train_ohe"
   ]
  },
  {
   "cell_type": "markdown",
   "metadata": {},
   "source": [
    "Обучим модель и подберем оптимальные парматеры"
   ]
  },
  {
   "cell_type": "code",
   "execution_count": 52,
   "metadata": {},
   "outputs": [
    {
     "name": "stdout",
     "output_type": "stream",
     "text": [
      "Fitting 3 folds for each of 4 candidates, totalling 12 fits\n",
      "[CV 1/3; 1/4] START learning_rate=0.3, num_leaves=11............................\n",
      "[CV 1/3; 1/4] END ..........learning_rate=0.3, num_leaves=11; total time=25.4min\n",
      "[CV 2/3; 1/4] START learning_rate=0.3, num_leaves=11............................\n",
      "[CV 2/3; 1/4] END ..........learning_rate=0.3, num_leaves=11; total time=22.2min\n",
      "[CV 3/3; 1/4] START learning_rate=0.3, num_leaves=11............................\n",
      "[CV 3/3; 1/4] END ..........learning_rate=0.3, num_leaves=11; total time=26.3min\n",
      "[CV 1/3; 2/4] START learning_rate=0.3, num_leaves=50............................\n",
      "[CV 1/3; 2/4] END .........learning_rate=0.3, num_leaves=50; total time=126.8min\n",
      "[CV 2/3; 2/4] START learning_rate=0.3, num_leaves=50............................\n",
      "[CV 2/3; 2/4] END ..........learning_rate=0.3, num_leaves=50; total time=89.7min\n",
      "[CV 3/3; 2/4] START learning_rate=0.3, num_leaves=50............................\n",
      "[CV 3/3; 2/4] END .........learning_rate=0.3, num_leaves=50; total time=119.2min\n",
      "[CV 1/3; 3/4] START learning_rate=0.4, num_leaves=11............................\n",
      "[CV 1/3; 3/4] END ..........learning_rate=0.4, num_leaves=11; total time=24.9min\n",
      "[CV 2/3; 3/4] START learning_rate=0.4, num_leaves=11............................\n",
      "[CV 2/3; 3/4] END ..........learning_rate=0.4, num_leaves=11; total time=22.6min\n",
      "[CV 3/3; 3/4] START learning_rate=0.4, num_leaves=11............................\n",
      "[CV 3/3; 3/4] END ..........learning_rate=0.4, num_leaves=11; total time=20.5min\n",
      "[CV 1/3; 4/4] START learning_rate=0.4, num_leaves=50............................\n",
      "[CV 1/3; 4/4] END .........learning_rate=0.4, num_leaves=50; total time=124.3min\n",
      "[CV 2/3; 4/4] START learning_rate=0.4, num_leaves=50............................\n",
      "[CV 2/3; 4/4] END ..........learning_rate=0.4, num_leaves=50; total time=50.7min\n",
      "[CV 3/3; 4/4] START learning_rate=0.4, num_leaves=50............................\n",
      "[CV 3/3; 4/4] END ..........learning_rate=0.4, num_leaves=50; total time= 5.9min\n",
      "CPU times: user 10h 38min 49s, sys: 5min 56s, total: 10h 44min 46s\n",
      "Wall time: 11h 21min 55s\n"
     ]
    },
    {
     "data": {
      "text/plain": [
       "GridSearchCV(cv=3, estimator=LGBMRegressor(n_estimators=1000),\n",
       "             param_grid={'learning_rate': [0.3, 0.4], 'num_leaves': [11, 50]},\n",
       "             scoring='neg_mean_squared_error', verbose=10)"
      ]
     },
     "execution_count": 52,
     "metadata": {},
     "output_type": "execute_result"
    }
   ],
   "source": [
    "%%time\n",
    "\n",
    "for i in сat_features:\n",
    "    features_train[i] = features_train[i].astype('category')\n",
    "\n",
    "\n",
    "regressor = LGBMRegressor(n_estimators=1000) \n",
    "grid = {'num_leaves':[11, 50],\n",
    "        'learning_rate': [0.3, 0.4]}\n",
    "model_lgbm = GridSearchCV(regressor, grid, scoring='neg_mean_squared_error', verbose=10, cv=3)\n",
    "model_lgbm.fit(features_train, target_train, categorical_feature=сat_features)"
   ]
  },
  {
   "cell_type": "code",
   "execution_count": 53,
   "metadata": {},
   "outputs": [
    {
     "data": {
      "text/plain": [
       "{'learning_rate': 0.3, 'num_leaves': 11}"
      ]
     },
     "execution_count": 53,
     "metadata": {},
     "output_type": "execute_result"
    }
   ],
   "source": [
    "# Выведем на экран лучшую модель\n",
    "model_lgbm.best_params_"
   ]
  },
  {
   "cell_type": "markdown",
   "metadata": {},
   "source": [
    "Проведем кросс-валидацию луучшей модели"
   ]
  },
  {
   "cell_type": "code",
   "execution_count": 54,
   "metadata": {},
   "outputs": [
    {
     "name": "stdout",
     "output_type": "stream",
     "text": [
      "CPU times: user 41min 50s, sys: 23.9 s, total: 42min 14s\n",
      "Wall time: 42min 27s\n"
     ]
    }
   ],
   "source": [
    "%%time\n",
    "start = time.time()\n",
    "model_lgbm_best =  LGBMRegressor(n_estimators=1000, num_leaves = 11, learning_rate = 0.3)\n",
    "\n",
    "model_lgbm_cross = cross_val_score(model_lgbm_best, features_train, target_train, scoring='neg_mean_squared_error')\n",
    "\n",
    "end = time.time()\n",
    "time_lgbm=round(end-start,2)"
   ]
  },
  {
   "cell_type": "code",
   "execution_count": 55,
   "metadata": {},
   "outputs": [
    {
     "data": {
      "text/plain": [
       "1363.2107665025187"
      ]
     },
     "execution_count": 55,
     "metadata": {},
     "output_type": "execute_result"
    }
   ],
   "source": [
    "rmse_lgbm_best=((model_lgbm_cross*-1)**0.5).mean()\n",
    "rmse_lgbm_best"
   ]
  },
  {
   "cell_type": "code",
   "execution_count": 56,
   "metadata": {},
   "outputs": [
    {
     "data": {
      "text/plain": [
       "2547.55"
      ]
     },
     "execution_count": 56,
     "metadata": {},
     "output_type": "execute_result"
    }
   ],
   "source": [
    "time_lgbm"
   ]
  },
  {
   "cell_type": "markdown",
   "metadata": {},
   "source": [
    "Обучим модель на лучших параметрах и проверим на тестовой выборке"
   ]
  },
  {
   "cell_type": "markdown",
   "metadata": {},
   "source": [
    "# Вывод:\n",
    "    \n",
    "    Мы сделали 2 выборки, обучающую и тестовую и построили 4 модели предсказания:\n",
    "     - CatBoost (проверяли без кодирования категориальных признаков)\n",
    "     - Линейная регрессия\n",
    "     - модель \"Случайного леса\"\n",
    "     - LightGBM\n",
    "    Для каждой модели подсчитана метрика качества RMSE, а так же время обучения и предсказания модели\n",
    "***Теперь мы можем приступить к анализу полученных результатов и выбору лучшей модели***"
   ]
  },
  {
   "cell_type": "markdown",
   "metadata": {},
   "source": [
    "## Анализ моделей"
   ]
  },
  {
   "cell_type": "markdown",
   "metadata": {},
   "source": [
    "Создадим таблицу с результатами работы наших моделей"
   ]
  },
  {
   "cell_type": "code",
   "execution_count": 68,
   "metadata": {},
   "outputs": [],
   "source": [
    "columns=['RMSE модели', 'Скорость обучения-предсказания']\n",
    "index = ['LinearRegression', 'RandomForestRegressor', 'CatBoostRegressor', 'LightGBM']\n",
    "data = [\n",
    "    [rmse_lr_best, time_lr],\n",
    "    [rmse_rf_best, time_rf],\n",
    "    [round(rmse_cat_best, 2), time_cat],\n",
    "    [round(rmse_lgbm_best,2), time_lgbm]\n",
    "]\n",
    "\n",
    "final_tabl = pd.DataFrame(data = data, columns = columns, index=index)"
   ]
  },
  {
   "cell_type": "code",
   "execution_count": 69,
   "metadata": {
    "scrolled": true
   },
   "outputs": [
    {
     "data": {
      "text/html": [
       "<div>\n",
       "<style scoped>\n",
       "    .dataframe tbody tr th:only-of-type {\n",
       "        vertical-align: middle;\n",
       "    }\n",
       "\n",
       "    .dataframe tbody tr th {\n",
       "        vertical-align: top;\n",
       "    }\n",
       "\n",
       "    .dataframe thead th {\n",
       "        text-align: right;\n",
       "    }\n",
       "</style>\n",
       "<table border=\"1\" class=\"dataframe\">\n",
       "  <thead>\n",
       "    <tr style=\"text-align: right;\">\n",
       "      <th></th>\n",
       "      <th>RMSE модели</th>\n",
       "      <th>Скорость обучения-предсказания</th>\n",
       "    </tr>\n",
       "  </thead>\n",
       "  <tbody>\n",
       "    <tr>\n",
       "      <th>LinearRegression</th>\n",
       "      <td>4.992194e+14</td>\n",
       "      <td>345.39</td>\n",
       "    </tr>\n",
       "    <tr>\n",
       "      <th>RandomForestRegressor</th>\n",
       "      <td>1.626690e+03</td>\n",
       "      <td>62.68</td>\n",
       "    </tr>\n",
       "    <tr>\n",
       "      <th>CatBoostRegressor</th>\n",
       "      <td>1.381920e+03</td>\n",
       "      <td>242.46</td>\n",
       "    </tr>\n",
       "    <tr>\n",
       "      <th>LightGBM</th>\n",
       "      <td>1.363210e+03</td>\n",
       "      <td>2547.55</td>\n",
       "    </tr>\n",
       "  </tbody>\n",
       "</table>\n",
       "</div>"
      ],
      "text/plain": [
       "                        RMSE модели  Скорость обучения-предсказания\n",
       "LinearRegression       4.992194e+14                          345.39\n",
       "RandomForestRegressor  1.626690e+03                           62.68\n",
       "CatBoostRegressor      1.381920e+03                          242.46\n",
       "LightGBM               1.363210e+03                         2547.55"
      ]
     },
     "execution_count": 69,
     "metadata": {},
     "output_type": "execute_result"
    }
   ],
   "source": [
    "final_tabl"
   ]
  },
  {
   "cell_type": "markdown",
   "metadata": {},
   "source": [
    "Мы видим что модели CatBoostRegressor и LightGBM показали схожие результаты с небольшим преимуществом модели LightGBM, однако время обучения  модели CatBoostRegressor намного меньше, поэтому выбираем эту модель в качестве лучшей модели"
   ]
  },
  {
   "cell_type": "markdown",
   "metadata": {},
   "source": [
    "***Проверим лучшую модель на тестовых данных***"
   ]
  },
  {
   "cell_type": "markdown",
   "metadata": {},
   "source": [
    "Получим предсказания модели"
   ]
  },
  {
   "cell_type": "code",
   "execution_count": 71,
   "metadata": {},
   "outputs": [
    {
     "name": "stdout",
     "output_type": "stream",
     "text": [
      "0:\tlearn: 2978.9967355\ttotal: 310ms\tremaining: 1m 1s\n",
      "1:\tlearn: 2346.1809817\ttotal: 640ms\tremaining: 1m 3s\n",
      "2:\tlearn: 2021.7524444\ttotal: 931ms\tremaining: 1m 1s\n",
      "3:\tlearn: 1843.4044258\ttotal: 1.28s\tremaining: 1m 2s\n",
      "4:\tlearn: 1734.7385752\ttotal: 1.61s\tremaining: 1m 2s\n",
      "5:\tlearn: 1663.0431398\ttotal: 1.81s\tremaining: 58.5s\n",
      "6:\tlearn: 1627.5374661\ttotal: 2.07s\tremaining: 57s\n",
      "7:\tlearn: 1602.8960079\ttotal: 2.3s\tremaining: 55.2s\n",
      "8:\tlearn: 1584.2755639\ttotal: 2.61s\tremaining: 55.3s\n",
      "9:\tlearn: 1569.4553653\ttotal: 2.83s\tremaining: 53.8s\n",
      "10:\tlearn: 1558.3251661\ttotal: 3.11s\tremaining: 53.4s\n",
      "11:\tlearn: 1543.2236327\ttotal: 3.31s\tremaining: 51.8s\n",
      "12:\tlearn: 1535.0280487\ttotal: 3.53s\tremaining: 50.8s\n",
      "13:\tlearn: 1518.2303170\ttotal: 3.84s\tremaining: 51s\n",
      "14:\tlearn: 1509.4190046\ttotal: 4.05s\tremaining: 50s\n",
      "15:\tlearn: 1501.0985429\ttotal: 4.27s\tremaining: 49.1s\n",
      "16:\tlearn: 1494.6170759\ttotal: 4.48s\tremaining: 48.2s\n",
      "17:\tlearn: 1489.0907261\ttotal: 4.79s\tremaining: 48.4s\n",
      "18:\tlearn: 1482.1725622\ttotal: 5.04s\tremaining: 48s\n",
      "19:\tlearn: 1476.7859718\ttotal: 5.28s\tremaining: 47.5s\n",
      "20:\tlearn: 1473.4365679\ttotal: 5.58s\tremaining: 47.6s\n",
      "21:\tlearn: 1467.6176593\ttotal: 5.85s\tremaining: 47.4s\n",
      "22:\tlearn: 1461.2264105\ttotal: 6.08s\tremaining: 46.8s\n",
      "23:\tlearn: 1456.8438060\ttotal: 6.34s\tremaining: 46.5s\n",
      "24:\tlearn: 1452.7400885\ttotal: 6.6s\tremaining: 46.2s\n",
      "25:\tlearn: 1447.8027695\ttotal: 6.89s\tremaining: 46.1s\n",
      "26:\tlearn: 1444.7802059\ttotal: 7.18s\tremaining: 46s\n",
      "27:\tlearn: 1441.5771364\ttotal: 7.45s\tremaining: 45.8s\n",
      "28:\tlearn: 1438.0901778\ttotal: 7.75s\tremaining: 45.7s\n",
      "29:\tlearn: 1435.7580923\ttotal: 8.08s\tremaining: 45.8s\n",
      "30:\tlearn: 1432.8353907\ttotal: 8.3s\tremaining: 45.3s\n",
      "31:\tlearn: 1429.7638771\ttotal: 8.51s\tremaining: 44.7s\n",
      "32:\tlearn: 1425.3677548\ttotal: 8.77s\tremaining: 44.4s\n",
      "33:\tlearn: 1423.9805583\ttotal: 9s\tremaining: 43.9s\n",
      "34:\tlearn: 1420.5021549\ttotal: 9.21s\tremaining: 43.4s\n",
      "35:\tlearn: 1418.1180842\ttotal: 9.51s\tremaining: 43.3s\n",
      "36:\tlearn: 1415.6304998\ttotal: 9.79s\tremaining: 43.1s\n",
      "37:\tlearn: 1412.9667911\ttotal: 10.1s\tremaining: 43s\n",
      "38:\tlearn: 1411.2871466\ttotal: 10.4s\tremaining: 42.8s\n",
      "39:\tlearn: 1409.1291343\ttotal: 10.6s\tremaining: 42.5s\n",
      "40:\tlearn: 1407.2173577\ttotal: 10.9s\tremaining: 42.2s\n",
      "41:\tlearn: 1405.7439434\ttotal: 11.1s\tremaining: 41.9s\n",
      "42:\tlearn: 1404.3920236\ttotal: 11.4s\tremaining: 41.5s\n",
      "43:\tlearn: 1402.1285243\ttotal: 11.6s\tremaining: 41.1s\n",
      "44:\tlearn: 1399.9504996\ttotal: 11.8s\tremaining: 40.8s\n",
      "45:\tlearn: 1397.6972709\ttotal: 12.1s\tremaining: 40.6s\n",
      "46:\tlearn: 1394.7535192\ttotal: 12.4s\tremaining: 40.2s\n",
      "47:\tlearn: 1392.5636081\ttotal: 12.6s\tremaining: 39.8s\n",
      "48:\tlearn: 1391.1586096\ttotal: 12.9s\tremaining: 39.8s\n",
      "49:\tlearn: 1389.8235125\ttotal: 13.2s\tremaining: 39.5s\n",
      "50:\tlearn: 1388.0934357\ttotal: 13.5s\tremaining: 39.3s\n",
      "51:\tlearn: 1385.7655356\ttotal: 13.7s\tremaining: 39s\n",
      "52:\tlearn: 1383.7514058\ttotal: 14s\tremaining: 38.9s\n",
      "53:\tlearn: 1382.8245865\ttotal: 14.3s\tremaining: 38.6s\n",
      "54:\tlearn: 1381.7781001\ttotal: 14.6s\tremaining: 38.4s\n",
      "55:\tlearn: 1379.6575064\ttotal: 14.9s\tremaining: 38.2s\n",
      "56:\tlearn: 1378.1766725\ttotal: 15.2s\tremaining: 38.1s\n",
      "57:\tlearn: 1375.9199733\ttotal: 15.4s\tremaining: 37.8s\n",
      "58:\tlearn: 1373.7598538\ttotal: 15.6s\tremaining: 37.4s\n",
      "59:\tlearn: 1372.5213693\ttotal: 15.9s\tremaining: 37.1s\n",
      "60:\tlearn: 1369.6976847\ttotal: 16.2s\tremaining: 36.8s\n",
      "61:\tlearn: 1368.1987924\ttotal: 16.5s\tremaining: 36.7s\n",
      "62:\tlearn: 1366.6656575\ttotal: 16.7s\tremaining: 36.4s\n",
      "63:\tlearn: 1365.3256354\ttotal: 17s\tremaining: 36.1s\n",
      "64:\tlearn: 1364.0845606\ttotal: 17.2s\tremaining: 35.7s\n",
      "65:\tlearn: 1362.2030021\ttotal: 17.4s\tremaining: 35.4s\n",
      "66:\tlearn: 1361.1384497\ttotal: 17.7s\tremaining: 35.2s\n",
      "67:\tlearn: 1359.9641719\ttotal: 17.9s\tremaining: 34.8s\n",
      "68:\tlearn: 1359.2975356\ttotal: 18.1s\tremaining: 34.4s\n",
      "69:\tlearn: 1358.3553532\ttotal: 18.5s\tremaining: 34.3s\n",
      "70:\tlearn: 1357.4732162\ttotal: 18.7s\tremaining: 34s\n",
      "71:\tlearn: 1356.8457897\ttotal: 19s\tremaining: 33.8s\n",
      "72:\tlearn: 1355.7682743\ttotal: 19.4s\tremaining: 33.7s\n",
      "73:\tlearn: 1354.6678352\ttotal: 19.7s\tremaining: 33.5s\n",
      "74:\tlearn: 1353.6642036\ttotal: 19.9s\tremaining: 33.2s\n",
      "75:\tlearn: 1352.2683580\ttotal: 20.2s\tremaining: 32.9s\n",
      "76:\tlearn: 1351.4124263\ttotal: 20.4s\tremaining: 32.6s\n",
      "77:\tlearn: 1350.1689383\ttotal: 20.6s\tremaining: 32.3s\n",
      "78:\tlearn: 1349.7676535\ttotal: 20.8s\tremaining: 31.9s\n",
      "79:\tlearn: 1348.9452922\ttotal: 21.1s\tremaining: 31.7s\n",
      "80:\tlearn: 1347.4764400\ttotal: 21.4s\tremaining: 31.4s\n",
      "81:\tlearn: 1346.8653544\ttotal: 21.6s\tremaining: 31.1s\n",
      "82:\tlearn: 1346.3501499\ttotal: 21.9s\tremaining: 30.9s\n",
      "83:\tlearn: 1345.5968993\ttotal: 22.2s\tremaining: 30.6s\n",
      "84:\tlearn: 1344.2958928\ttotal: 22.5s\tremaining: 30.4s\n",
      "85:\tlearn: 1343.6100364\ttotal: 22.8s\tremaining: 30.2s\n",
      "86:\tlearn: 1342.3168306\ttotal: 23s\tremaining: 29.9s\n",
      "87:\tlearn: 1341.7804830\ttotal: 23.3s\tremaining: 29.6s\n",
      "88:\tlearn: 1340.6267950\ttotal: 23.5s\tremaining: 29.3s\n",
      "89:\tlearn: 1339.8758145\ttotal: 23.8s\tremaining: 29.1s\n",
      "90:\tlearn: 1339.4380208\ttotal: 24.2s\tremaining: 28.9s\n",
      "91:\tlearn: 1338.8000066\ttotal: 24.5s\tremaining: 28.7s\n",
      "92:\tlearn: 1337.9366955\ttotal: 24.7s\tremaining: 28.4s\n",
      "93:\tlearn: 1336.6769869\ttotal: 25s\tremaining: 28.2s\n",
      "94:\tlearn: 1336.0472744\ttotal: 25.4s\tremaining: 28.1s\n",
      "95:\tlearn: 1335.2287623\ttotal: 25.7s\tremaining: 27.9s\n",
      "96:\tlearn: 1333.5015254\ttotal: 26s\tremaining: 27.6s\n",
      "97:\tlearn: 1332.3476521\ttotal: 26.3s\tremaining: 27.3s\n",
      "98:\tlearn: 1331.2332305\ttotal: 26.6s\tremaining: 27.1s\n",
      "99:\tlearn: 1330.5510631\ttotal: 26.8s\tremaining: 26.8s\n",
      "100:\tlearn: 1330.1908334\ttotal: 27.1s\tremaining: 26.5s\n",
      "101:\tlearn: 1329.3090533\ttotal: 27.4s\tremaining: 26.3s\n",
      "102:\tlearn: 1329.1112572\ttotal: 27.6s\tremaining: 26s\n",
      "103:\tlearn: 1328.4707101\ttotal: 27.9s\tremaining: 25.7s\n",
      "104:\tlearn: 1327.6489719\ttotal: 28.2s\tremaining: 25.5s\n",
      "105:\tlearn: 1326.9084435\ttotal: 28.4s\tremaining: 25.2s\n",
      "106:\tlearn: 1325.9801950\ttotal: 28.8s\tremaining: 25s\n",
      "107:\tlearn: 1325.4929635\ttotal: 29.2s\tremaining: 24.9s\n",
      "108:\tlearn: 1324.7414269\ttotal: 29.5s\tremaining: 24.6s\n",
      "109:\tlearn: 1323.7746822\ttotal: 29.7s\tremaining: 24.3s\n",
      "110:\tlearn: 1322.5936242\ttotal: 29.9s\tremaining: 24s\n",
      "111:\tlearn: 1322.2665742\ttotal: 30.3s\tremaining: 23.8s\n",
      "112:\tlearn: 1321.7162327\ttotal: 30.5s\tremaining: 23.5s\n",
      "113:\tlearn: 1321.3382713\ttotal: 30.8s\tremaining: 23.2s\n",
      "114:\tlearn: 1320.8670366\ttotal: 31s\tremaining: 22.9s\n",
      "115:\tlearn: 1320.1839773\ttotal: 31.3s\tremaining: 22.7s\n",
      "116:\tlearn: 1319.7464585\ttotal: 31.5s\tremaining: 22.3s\n",
      "117:\tlearn: 1319.1678055\ttotal: 31.7s\tremaining: 22s\n",
      "118:\tlearn: 1318.2901194\ttotal: 31.9s\tremaining: 21.7s\n",
      "119:\tlearn: 1317.4258863\ttotal: 32.2s\tremaining: 21.5s\n",
      "120:\tlearn: 1316.8419813\ttotal: 32.4s\tremaining: 21.2s\n",
      "121:\tlearn: 1316.3218665\ttotal: 32.6s\tremaining: 20.9s\n",
      "122:\tlearn: 1315.7226365\ttotal: 32.9s\tremaining: 20.6s\n",
      "123:\tlearn: 1314.9621554\ttotal: 33.2s\tremaining: 20.4s\n",
      "124:\tlearn: 1314.5467002\ttotal: 33.5s\tremaining: 20.1s\n",
      "125:\tlearn: 1314.1044420\ttotal: 33.6s\tremaining: 19.8s\n",
      "126:\tlearn: 1313.4067595\ttotal: 33.9s\tremaining: 19.5s\n",
      "127:\tlearn: 1312.6600884\ttotal: 34.1s\tremaining: 19.2s\n",
      "128:\tlearn: 1311.5224803\ttotal: 34.4s\tremaining: 18.9s\n",
      "129:\tlearn: 1311.1047640\ttotal: 34.7s\tremaining: 18.7s\n",
      "130:\tlearn: 1310.4374900\ttotal: 35s\tremaining: 18.4s\n",
      "131:\tlearn: 1309.4596151\ttotal: 35.3s\tremaining: 18.2s\n",
      "132:\tlearn: 1308.8785715\ttotal: 35.6s\tremaining: 17.9s\n",
      "133:\tlearn: 1307.9970027\ttotal: 35.9s\tremaining: 17.7s\n",
      "134:\tlearn: 1307.8332179\ttotal: 36.2s\tremaining: 17.4s\n",
      "135:\tlearn: 1307.6408307\ttotal: 36.5s\tremaining: 17.2s\n",
      "136:\tlearn: 1307.5117729\ttotal: 36.8s\tremaining: 16.9s\n",
      "137:\tlearn: 1307.2407595\ttotal: 37s\tremaining: 16.6s\n",
      "138:\tlearn: 1306.5693711\ttotal: 37.3s\tremaining: 16.4s\n",
      "139:\tlearn: 1305.1317831\ttotal: 37.5s\tremaining: 16.1s\n",
      "140:\tlearn: 1304.5113156\ttotal: 37.8s\tremaining: 15.8s\n",
      "141:\tlearn: 1304.3835102\ttotal: 38s\tremaining: 15.5s\n",
      "142:\tlearn: 1304.1566549\ttotal: 38.3s\tremaining: 15.3s\n",
      "143:\tlearn: 1303.8318165\ttotal: 38.5s\tremaining: 15s\n",
      "144:\tlearn: 1303.3386186\ttotal: 38.8s\tremaining: 14.7s\n",
      "145:\tlearn: 1302.7525151\ttotal: 39s\tremaining: 14.4s\n",
      "146:\tlearn: 1301.7225303\ttotal: 39.3s\tremaining: 14.2s\n",
      "147:\tlearn: 1301.4207460\ttotal: 39.6s\tremaining: 13.9s\n",
      "148:\tlearn: 1301.0201181\ttotal: 39.8s\tremaining: 13.6s\n",
      "149:\tlearn: 1300.5492172\ttotal: 40.1s\tremaining: 13.4s\n",
      "150:\tlearn: 1300.4191828\ttotal: 40.3s\tremaining: 13.1s\n",
      "151:\tlearn: 1299.3104772\ttotal: 40.6s\tremaining: 12.8s\n",
      "152:\tlearn: 1298.5136119\ttotal: 40.8s\tremaining: 12.5s\n",
      "153:\tlearn: 1298.2452401\ttotal: 41s\tremaining: 12.3s\n",
      "154:\tlearn: 1297.9186923\ttotal: 41.3s\tremaining: 12s\n",
      "155:\tlearn: 1297.5176201\ttotal: 41.5s\tremaining: 11.7s\n",
      "156:\tlearn: 1296.6393944\ttotal: 41.7s\tremaining: 11.4s\n",
      "157:\tlearn: 1295.7688987\ttotal: 42s\tremaining: 11.2s\n",
      "158:\tlearn: 1295.6973662\ttotal: 42.3s\tremaining: 10.9s\n",
      "159:\tlearn: 1295.2674790\ttotal: 42.5s\tremaining: 10.6s\n",
      "160:\tlearn: 1295.2366674\ttotal: 42.7s\tremaining: 10.3s\n",
      "161:\tlearn: 1294.7593434\ttotal: 43s\tremaining: 10.1s\n",
      "162:\tlearn: 1294.3032995\ttotal: 43.3s\tremaining: 9.82s\n",
      "163:\tlearn: 1294.1204354\ttotal: 43.6s\tremaining: 9.58s\n",
      "164:\tlearn: 1293.9551510\ttotal: 43.9s\tremaining: 9.31s\n",
      "165:\tlearn: 1293.7372862\ttotal: 44.1s\tremaining: 9.04s\n",
      "166:\tlearn: 1292.7582199\ttotal: 44.4s\tremaining: 8.77s\n",
      "167:\tlearn: 1291.9190044\ttotal: 44.7s\tremaining: 8.51s\n",
      "168:\tlearn: 1291.0963613\ttotal: 45s\tremaining: 8.25s\n",
      "169:\tlearn: 1290.7756745\ttotal: 45.3s\tremaining: 7.99s\n",
      "170:\tlearn: 1290.0380007\ttotal: 45.6s\tremaining: 7.73s\n",
      "171:\tlearn: 1289.0999829\ttotal: 45.9s\tremaining: 7.47s\n",
      "172:\tlearn: 1288.5289784\ttotal: 46.2s\tremaining: 7.22s\n",
      "173:\tlearn: 1288.2392521\ttotal: 46.5s\tremaining: 6.94s\n",
      "174:\tlearn: 1287.9572509\ttotal: 46.7s\tremaining: 6.67s\n",
      "175:\tlearn: 1287.8787859\ttotal: 46.9s\tremaining: 6.39s\n",
      "176:\tlearn: 1287.7215129\ttotal: 47.2s\tremaining: 6.13s\n",
      "177:\tlearn: 1287.4451858\ttotal: 47.4s\tremaining: 5.86s\n",
      "178:\tlearn: 1286.9559690\ttotal: 47.7s\tremaining: 5.59s\n",
      "179:\tlearn: 1286.1297533\ttotal: 47.9s\tremaining: 5.33s\n",
      "180:\tlearn: 1285.3557332\ttotal: 48.2s\tremaining: 5.06s\n",
      "181:\tlearn: 1285.2207172\ttotal: 48.4s\tremaining: 4.79s\n",
      "182:\tlearn: 1284.9828407\ttotal: 48.7s\tremaining: 4.53s\n",
      "183:\tlearn: 1284.4699705\ttotal: 49.1s\tremaining: 4.27s\n",
      "184:\tlearn: 1283.7173900\ttotal: 49.4s\tremaining: 4s\n",
      "185:\tlearn: 1283.4706022\ttotal: 49.5s\tremaining: 3.73s\n",
      "186:\tlearn: 1282.5776448\ttotal: 49.9s\tremaining: 3.47s\n",
      "187:\tlearn: 1282.1865191\ttotal: 50.1s\tremaining: 3.2s\n",
      "188:\tlearn: 1282.0395960\ttotal: 50.3s\tremaining: 2.93s\n",
      "189:\tlearn: 1281.8639247\ttotal: 50.7s\tremaining: 2.67s\n",
      "190:\tlearn: 1281.4832302\ttotal: 51s\tremaining: 2.4s\n",
      "191:\tlearn: 1281.3137849\ttotal: 51.2s\tremaining: 2.13s\n",
      "192:\tlearn: 1280.9252798\ttotal: 51.5s\tremaining: 1.87s\n",
      "193:\tlearn: 1280.2915736\ttotal: 51.7s\tremaining: 1.6s\n",
      "194:\tlearn: 1279.8749024\ttotal: 52s\tremaining: 1.33s\n",
      "195:\tlearn: 1279.4311568\ttotal: 52.3s\tremaining: 1.07s\n",
      "196:\tlearn: 1279.0053103\ttotal: 52.6s\tremaining: 801ms\n",
      "197:\tlearn: 1278.3435555\ttotal: 52.9s\tremaining: 534ms\n",
      "198:\tlearn: 1277.6540350\ttotal: 53.1s\tremaining: 267ms\n",
      "199:\tlearn: 1277.0002200\ttotal: 53.4s\tremaining: 0us\n"
     ]
    }
   ],
   "source": [
    "model_cat_best.fit(features_train, target_traind)\n",
    "predict = model_cat_best.predict(features_test)"
   ]
  },
  {
   "cell_type": "code",
   "execution_count": 72,
   "metadata": {},
   "outputs": [
    {
     "data": {
      "text/plain": [
       "1377.105181112033"
      ]
     },
     "execution_count": 72,
     "metadata": {},
     "output_type": "execute_result"
    }
   ],
   "source": [
    "cat_test_rmse = (mean_squared_error(target_test, predict))** 0.5 \n",
    "cat_test_rmse"
   ]
  },
  {
   "cell_type": "markdown",
   "metadata": {},
   "source": [
    "# Показатель RMSE на тестовой выборке для наилучшей модели `CatBoostRegressor` составил 1496,198 Евро"
   ]
  },
  {
   "cell_type": "markdown",
   "metadata": {},
   "source": [
    "Проверим модель на адекватность сравнив ее с константной моделью, предсказывающей средние значения"
   ]
  },
  {
   "cell_type": "code",
   "execution_count": 73,
   "metadata": {},
   "outputs": [],
   "source": [
    "dummy_regr = DummyRegressor(strategy =\"mean\")"
   ]
  },
  {
   "cell_type": "code",
   "execution_count": 74,
   "metadata": {},
   "outputs": [
    {
     "data": {
      "text/plain": [
       "DummyRegressor()"
      ]
     },
     "execution_count": 74,
     "metadata": {},
     "output_type": "execute_result"
    }
   ],
   "source": [
    "dummy_regr.fit(features_train_ord, target_train)"
   ]
  },
  {
   "cell_type": "code",
   "execution_count": 75,
   "metadata": {},
   "outputs": [],
   "source": [
    "dummy_predict = dummy_regr.predict(features_test_ord)"
   ]
  },
  {
   "cell_type": "code",
   "execution_count": 76,
   "metadata": {},
   "outputs": [
    {
     "data": {
      "text/plain": [
       "4001.165449785194"
      ]
     },
     "execution_count": 76,
     "metadata": {},
     "output_type": "execute_result"
    }
   ],
   "source": [
    "dummy_test_rmse = (mean_squared_error(target_test, dummy_predict))** 0.5 \n",
    "dummy_test_rmse"
   ]
  },
  {
   "cell_type": "markdown",
   "metadata": {},
   "source": [
    "RMSE константной модели выше, чем RMSE модели `CatBoostRegressor`, значит наша модель прошла проверку на адекватность и может быть рекомендована к применению"
   ]
  },
  {
   "cell_type": "markdown",
   "metadata": {},
   "source": [
    "# Вывод по итогам проекта:\n",
    "\n",
    "В теекущем проекте мы построили модели, которые определяли рыночную стоимость автомобиля по имеющимся данным\n",
    "\n",
    "Мы использовали следующие типы моделей:CatBoostRegressor, LightGBM, LinearRegression и RandomForestRegressor\n",
    "\n",
    "Опираясь на критерии заказчика, а именно:\n",
    " - качество предсказания;\n",
    " - время обучения модели;\n",
    " - время предсказания модели\n",
    "\n",
    "Мы рекомендуем компании \"Не бит, не крашен\" модель `CatBoostRegressor` в качестве модели, предсказывающе стоимость автомобиля\n"
   ]
  }
 ],
 "metadata": {
  "ExecuteTimeLog": [
   {
    "duration": 868,
    "start_time": "2023-01-09T17:03:23.438Z"
   },
   {
    "duration": 3025,
    "start_time": "2023-01-09T17:04:15.993Z"
   },
   {
    "duration": 120,
    "start_time": "2023-01-09T17:04:31.550Z"
   },
   {
    "duration": 75,
    "start_time": "2023-01-09T17:13:27.137Z"
   },
   {
    "duration": 27,
    "start_time": "2023-01-09T17:13:36.334Z"
   },
   {
    "duration": 109,
    "start_time": "2023-01-09T17:14:30.058Z"
   },
   {
    "duration": 208,
    "start_time": "2023-01-09T17:15:18.837Z"
   },
   {
    "duration": 636,
    "start_time": "2023-01-09T17:16:35.941Z"
   },
   {
    "duration": 885,
    "start_time": "2023-01-09T17:16:37.252Z"
   },
   {
    "duration": 109,
    "start_time": "2023-01-09T17:16:38.180Z"
   },
   {
    "duration": 428,
    "start_time": "2023-01-09T17:16:41.867Z"
   },
   {
    "duration": 578,
    "start_time": "2023-01-09T17:18:16.656Z"
   },
   {
    "duration": 569,
    "start_time": "2023-01-09T17:18:22.279Z"
   },
   {
    "duration": 46,
    "start_time": "2023-01-09T17:18:24.120Z"
   },
   {
    "duration": 73,
    "start_time": "2023-01-09T17:18:24.974Z"
   },
   {
    "duration": 103,
    "start_time": "2023-01-09T17:22:26.509Z"
   },
   {
    "duration": 14,
    "start_time": "2023-01-09T17:26:26.143Z"
   },
   {
    "duration": 706,
    "start_time": "2023-01-09T17:26:44.263Z"
   },
   {
    "duration": 988,
    "start_time": "2023-01-09T17:26:44.971Z"
   },
   {
    "duration": 121,
    "start_time": "2023-01-09T17:26:45.961Z"
   },
   {
    "duration": 30,
    "start_time": "2023-01-09T17:26:55.404Z"
   },
   {
    "duration": 81,
    "start_time": "2023-01-09T17:26:56.653Z"
   },
   {
    "duration": 83,
    "start_time": "2023-01-09T17:26:59.365Z"
   },
   {
    "duration": 189,
    "start_time": "2023-01-09T17:27:42.879Z"
   },
   {
    "duration": 246,
    "start_time": "2023-01-09T17:28:25.481Z"
   },
   {
    "duration": 67,
    "start_time": "2023-01-09T17:28:26.977Z"
   },
   {
    "duration": 1227,
    "start_time": "2023-01-09T17:31:19.614Z"
   },
   {
    "duration": 241,
    "start_time": "2023-01-09T17:31:37.238Z"
   },
   {
    "duration": 319,
    "start_time": "2023-01-09T17:31:55.663Z"
   },
   {
    "duration": 272,
    "start_time": "2023-01-09T17:32:08.950Z"
   },
   {
    "duration": 362,
    "start_time": "2023-01-09T17:32:19.119Z"
   },
   {
    "duration": 230,
    "start_time": "2023-01-09T17:32:30.816Z"
   },
   {
    "duration": 284,
    "start_time": "2023-01-09T17:32:41.992Z"
   },
   {
    "duration": 32,
    "start_time": "2023-01-09T17:33:57.754Z"
   },
   {
    "duration": 323,
    "start_time": "2023-01-09T17:34:11.522Z"
   },
   {
    "duration": 321,
    "start_time": "2023-01-09T17:34:35.789Z"
   },
   {
    "duration": 368,
    "start_time": "2023-01-09T17:34:41.789Z"
   },
   {
    "duration": 14,
    "start_time": "2023-01-09T17:40:40.857Z"
   },
   {
    "duration": 86,
    "start_time": "2023-01-09T17:40:52.718Z"
   },
   {
    "duration": 79,
    "start_time": "2023-01-09T17:41:16.783Z"
   },
   {
    "duration": 27,
    "start_time": "2023-01-09T17:41:33.192Z"
   },
   {
    "duration": 424,
    "start_time": "2023-01-09T17:41:41.313Z"
   },
   {
    "duration": 12,
    "start_time": "2023-01-09T17:44:08.500Z"
   },
   {
    "duration": 27,
    "start_time": "2023-01-09T17:46:38.904Z"
   },
   {
    "duration": 29,
    "start_time": "2023-01-09T17:46:45.339Z"
   },
   {
    "duration": 249,
    "start_time": "2023-01-09T17:47:37.418Z"
   },
   {
    "duration": 203,
    "start_time": "2023-01-09T17:51:51.161Z"
   },
   {
    "duration": 362,
    "start_time": "2023-01-09T17:52:04.057Z"
   },
   {
    "duration": 267,
    "start_time": "2023-01-09T17:53:35.708Z"
   },
   {
    "duration": 832,
    "start_time": "2023-01-16T16:08:58.818Z"
   },
   {
    "duration": 1201,
    "start_time": "2023-01-16T16:09:00.243Z"
   },
   {
    "duration": 109,
    "start_time": "2023-01-16T16:09:01.447Z"
   },
   {
    "duration": 25,
    "start_time": "2023-01-16T16:09:03.754Z"
   },
   {
    "duration": 76,
    "start_time": "2023-01-16T16:09:04.018Z"
   },
   {
    "duration": 107,
    "start_time": "2023-01-16T16:09:06.179Z"
   },
   {
    "duration": 183,
    "start_time": "2023-01-16T16:09:07.443Z"
   },
   {
    "duration": 233,
    "start_time": "2023-01-16T16:09:08.809Z"
   },
   {
    "duration": 53,
    "start_time": "2023-01-16T16:09:11.963Z"
   },
   {
    "duration": 304,
    "start_time": "2023-01-16T16:11:39.134Z"
   },
   {
    "duration": 384,
    "start_time": "2023-01-16T16:12:52.929Z"
   },
   {
    "duration": 409,
    "start_time": "2023-01-16T16:13:11.914Z"
   },
   {
    "duration": 71,
    "start_time": "2023-01-16T16:33:36.756Z"
   },
   {
    "duration": 398,
    "start_time": "2023-01-16T16:35:16.304Z"
   },
   {
    "duration": 412,
    "start_time": "2023-01-16T16:35:43.096Z"
   },
   {
    "duration": 365,
    "start_time": "2023-01-16T16:36:11.102Z"
   },
   {
    "duration": 386,
    "start_time": "2023-01-16T16:36:26.809Z"
   },
   {
    "duration": 365,
    "start_time": "2023-01-16T16:37:01.419Z"
   },
   {
    "duration": 384,
    "start_time": "2023-01-16T16:37:06.850Z"
   },
   {
    "duration": 372,
    "start_time": "2023-01-16T16:37:24.100Z"
   },
   {
    "duration": 258,
    "start_time": "2023-01-16T16:38:43.678Z"
   },
   {
    "duration": 79,
    "start_time": "2023-01-16T16:40:28.758Z"
   },
   {
    "duration": 15,
    "start_time": "2023-01-16T16:46:33.762Z"
   },
   {
    "duration": 13,
    "start_time": "2023-01-16T16:49:09.814Z"
   },
   {
    "duration": 16,
    "start_time": "2023-01-16T16:52:26.993Z"
   },
   {
    "duration": 16,
    "start_time": "2023-01-16T16:52:32.236Z"
   },
   {
    "duration": 17,
    "start_time": "2023-01-16T16:53:03.717Z"
   },
   {
    "duration": 14,
    "start_time": "2023-01-16T16:55:29.027Z"
   },
   {
    "duration": 13,
    "start_time": "2023-01-16T17:02:44.503Z"
   },
   {
    "duration": 50,
    "start_time": "2023-01-16T17:06:30.621Z"
   },
   {
    "duration": 14,
    "start_time": "2023-01-16T17:07:10.717Z"
   },
   {
    "duration": 25,
    "start_time": "2023-01-16T17:07:32.582Z"
   },
   {
    "duration": 33,
    "start_time": "2023-01-16T17:08:26.576Z"
   },
   {
    "duration": 13,
    "start_time": "2023-01-16T17:10:19.581Z"
   },
   {
    "duration": 9,
    "start_time": "2023-01-16T17:10:28.677Z"
   },
   {
    "duration": 39,
    "start_time": "2023-01-16T17:11:04.772Z"
   },
   {
    "duration": 8,
    "start_time": "2023-01-16T17:17:25.342Z"
   },
   {
    "duration": 13,
    "start_time": "2023-01-16T17:17:33.767Z"
   },
   {
    "duration": 13,
    "start_time": "2023-01-16T17:19:02.306Z"
   },
   {
    "duration": 13,
    "start_time": "2023-01-16T17:21:07.623Z"
   },
   {
    "duration": 304,
    "start_time": "2023-01-16T17:21:50.431Z"
   },
   {
    "duration": 14,
    "start_time": "2023-01-16T17:22:27.295Z"
   },
   {
    "duration": 301,
    "start_time": "2023-01-16T17:23:07.640Z"
   },
   {
    "duration": 379,
    "start_time": "2023-01-16T17:23:14.401Z"
   },
   {
    "duration": 286,
    "start_time": "2023-01-16T17:23:21.920Z"
   },
   {
    "duration": 21,
    "start_time": "2023-01-16T17:25:38.069Z"
   },
   {
    "duration": 51,
    "start_time": "2023-01-16T17:25:49.372Z"
   },
   {
    "duration": 47,
    "start_time": "2023-01-16T17:26:08.710Z"
   },
   {
    "duration": 12,
    "start_time": "2023-01-16T17:32:21.262Z"
   },
   {
    "duration": 820,
    "start_time": "2023-01-16T17:53:26.963Z"
   },
   {
    "duration": 156,
    "start_time": "2023-01-16T17:58:40.738Z"
   },
   {
    "duration": 11,
    "start_time": "2023-01-16T18:00:31.186Z"
   },
   {
    "duration": 14,
    "start_time": "2023-01-16T18:00:37.568Z"
   },
   {
    "duration": 13,
    "start_time": "2023-01-16T18:00:48.545Z"
   },
   {
    "duration": 67,
    "start_time": "2023-01-16T18:00:53.329Z"
   },
   {
    "duration": 59,
    "start_time": "2023-01-16T18:03:39.958Z"
   },
   {
    "duration": 1437,
    "start_time": "2023-01-16T18:04:36.552Z"
   },
   {
    "duration": 800,
    "start_time": "2023-01-16T18:04:38.817Z"
   },
   {
    "duration": 116,
    "start_time": "2023-01-16T18:04:39.619Z"
   },
   {
    "duration": 24,
    "start_time": "2023-01-16T18:04:39.737Z"
   },
   {
    "duration": 113,
    "start_time": "2023-01-16T18:04:39.763Z"
   },
   {
    "duration": 120,
    "start_time": "2023-01-16T18:04:40.142Z"
   },
   {
    "duration": 166,
    "start_time": "2023-01-16T18:04:40.558Z"
   },
   {
    "duration": 231,
    "start_time": "2023-01-16T18:04:40.790Z"
   },
   {
    "duration": 52,
    "start_time": "2023-01-16T18:04:41.224Z"
   },
   {
    "duration": 286,
    "start_time": "2023-01-16T18:04:42.096Z"
   },
   {
    "duration": 375,
    "start_time": "2023-01-16T18:04:42.540Z"
   },
   {
    "duration": 12,
    "start_time": "2023-01-16T18:04:42.990Z"
   },
   {
    "duration": 141,
    "start_time": "2023-01-16T18:04:43.217Z"
   },
   {
    "duration": 373,
    "start_time": "2023-01-16T18:04:43.942Z"
   },
   {
    "duration": 241,
    "start_time": "2023-01-16T18:04:44.318Z"
   },
   {
    "duration": 72,
    "start_time": "2023-01-16T18:04:44.641Z"
   },
   {
    "duration": 16,
    "start_time": "2023-01-16T18:04:45.359Z"
   },
   {
    "duration": 13,
    "start_time": "2023-01-16T18:04:45.815Z"
   },
   {
    "duration": 16,
    "start_time": "2023-01-16T18:04:46.280Z"
   },
   {
    "duration": 13,
    "start_time": "2023-01-16T18:04:46.757Z"
   },
   {
    "duration": 13,
    "start_time": "2023-01-16T18:04:48.464Z"
   },
   {
    "duration": 14,
    "start_time": "2023-01-16T18:04:49.823Z"
   },
   {
    "duration": 23,
    "start_time": "2023-01-16T18:04:50.080Z"
   },
   {
    "duration": 12,
    "start_time": "2023-01-16T18:04:51.063Z"
   },
   {
    "duration": 96,
    "start_time": "2023-01-16T18:04:53.719Z"
   },
   {
    "duration": 13,
    "start_time": "2023-01-16T18:04:54.017Z"
   },
   {
    "duration": 15,
    "start_time": "2023-01-16T18:04:54.608Z"
   },
   {
    "duration": 283,
    "start_time": "2023-01-16T18:04:55.320Z"
   },
   {
    "duration": 21,
    "start_time": "2023-01-16T18:04:56.608Z"
   },
   {
    "duration": 59,
    "start_time": "2023-01-16T18:04:56.856Z"
   },
   {
    "duration": 47,
    "start_time": "2023-01-16T18:04:57.138Z"
   },
   {
    "duration": 11,
    "start_time": "2023-01-16T18:04:58.539Z"
   },
   {
    "duration": 422,
    "start_time": "2023-01-16T18:04:59.745Z"
   },
   {
    "duration": 158,
    "start_time": "2023-01-16T18:05:04.200Z"
   },
   {
    "duration": 67,
    "start_time": "2023-01-16T18:05:48.865Z"
   },
   {
    "duration": 62,
    "start_time": "2023-01-16T18:10:36.547Z"
   },
   {
    "duration": 63,
    "start_time": "2023-01-16T18:11:11.948Z"
   },
   {
    "duration": 63,
    "start_time": "2023-01-16T18:11:26.220Z"
   },
   {
    "duration": 13,
    "start_time": "2023-01-16T18:14:10.065Z"
   },
   {
    "duration": 10,
    "start_time": "2023-01-16T18:16:02.013Z"
   },
   {
    "duration": 12,
    "start_time": "2023-01-16T18:16:17.781Z"
   },
   {
    "duration": 23,
    "start_time": "2023-01-16T18:16:23.988Z"
   },
   {
    "duration": 35,
    "start_time": "2023-01-16T18:16:31.397Z"
   },
   {
    "duration": 1384,
    "start_time": "2023-01-16T18:16:36.563Z"
   },
   {
    "duration": 831,
    "start_time": "2023-01-16T18:16:37.949Z"
   },
   {
    "duration": 113,
    "start_time": "2023-01-16T18:16:38.783Z"
   },
   {
    "duration": 33,
    "start_time": "2023-01-16T18:16:38.898Z"
   },
   {
    "duration": 82,
    "start_time": "2023-01-16T18:16:38.933Z"
   },
   {
    "duration": 116,
    "start_time": "2023-01-16T18:16:39.017Z"
   },
   {
    "duration": 188,
    "start_time": "2023-01-16T18:16:39.135Z"
   },
   {
    "duration": 228,
    "start_time": "2023-01-16T18:16:39.325Z"
   },
   {
    "duration": 62,
    "start_time": "2023-01-16T18:16:39.555Z"
   },
   {
    "duration": 308,
    "start_time": "2023-01-16T18:16:39.620Z"
   },
   {
    "duration": 539,
    "start_time": "2023-01-16T18:16:39.929Z"
   },
   {
    "duration": 12,
    "start_time": "2023-01-16T18:16:40.470Z"
   },
   {
    "duration": 89,
    "start_time": "2023-01-16T18:16:40.484Z"
   },
   {
    "duration": 395,
    "start_time": "2023-01-16T18:16:40.575Z"
   },
   {
    "duration": 270,
    "start_time": "2023-01-16T18:16:40.972Z"
   },
   {
    "duration": 75,
    "start_time": "2023-01-16T18:16:41.244Z"
   },
   {
    "duration": 15,
    "start_time": "2023-01-16T18:16:41.321Z"
   },
   {
    "duration": 23,
    "start_time": "2023-01-16T18:16:41.337Z"
   },
   {
    "duration": 18,
    "start_time": "2023-01-16T18:16:41.362Z"
   },
   {
    "duration": 21,
    "start_time": "2023-01-16T18:16:41.382Z"
   },
   {
    "duration": 19,
    "start_time": "2023-01-16T18:16:41.404Z"
   },
   {
    "duration": 15,
    "start_time": "2023-01-16T18:16:41.424Z"
   },
   {
    "duration": 28,
    "start_time": "2023-01-16T18:16:41.441Z"
   },
   {
    "duration": 15,
    "start_time": "2023-01-16T18:16:41.471Z"
   },
   {
    "duration": 26,
    "start_time": "2023-01-16T18:16:41.487Z"
   },
   {
    "duration": 17,
    "start_time": "2023-01-16T18:16:41.514Z"
   },
   {
    "duration": 283,
    "start_time": "2023-01-16T18:16:41.532Z"
   },
   {
    "duration": 23,
    "start_time": "2023-01-16T18:16:41.819Z"
   },
   {
    "duration": 70,
    "start_time": "2023-01-16T18:16:41.844Z"
   },
   {
    "duration": 51,
    "start_time": "2023-01-16T18:16:41.916Z"
   },
   {
    "duration": 19,
    "start_time": "2023-01-16T18:16:41.969Z"
   },
   {
    "duration": 33,
    "start_time": "2023-01-16T18:16:41.990Z"
   },
   {
    "duration": 382,
    "start_time": "2023-01-16T18:16:42.024Z"
   },
   {
    "duration": 14,
    "start_time": "2023-01-16T18:16:42.408Z"
   },
   {
    "duration": 189,
    "start_time": "2023-01-16T18:16:42.424Z"
   },
   {
    "duration": 5,
    "start_time": "2023-01-16T18:17:54.006Z"
   },
   {
    "duration": 390,
    "start_time": "2023-01-16T18:18:01.629Z"
   },
   {
    "duration": 200,
    "start_time": "2023-01-16T18:19:16.217Z"
   },
   {
    "duration": 195,
    "start_time": "2023-01-16T18:21:01.325Z"
   },
   {
    "duration": 110,
    "start_time": "2023-01-16T18:21:08.405Z"
   },
   {
    "duration": 112,
    "start_time": "2023-01-16T18:21:25.109Z"
   },
   {
    "duration": 212132,
    "start_time": "2023-01-16T18:24:21.697Z"
   },
   {
    "duration": 4,
    "start_time": "2023-01-16T18:28:15.569Z"
   },
   {
    "duration": 4,
    "start_time": "2023-01-16T18:33:53.754Z"
   },
   {
    "duration": 10,
    "start_time": "2023-01-16T18:34:07.388Z"
   },
   {
    "duration": 5,
    "start_time": "2023-01-16T18:34:33.877Z"
   },
   {
    "duration": 10,
    "start_time": "2023-01-16T18:34:38.629Z"
   },
   {
    "duration": 14,
    "start_time": "2023-01-16T18:38:34.982Z"
   },
   {
    "duration": 10,
    "start_time": "2023-01-16T18:38:48.524Z"
   },
   {
    "duration": 1245,
    "start_time": "2023-01-16T18:39:20.581Z"
   },
   {
    "duration": 1092,
    "start_time": "2023-01-16T18:39:43.118Z"
   },
   {
    "duration": 1947,
    "start_time": "2023-01-16T18:42:12.714Z"
   },
   {
    "duration": 52,
    "start_time": "2023-01-16T18:45:35.110Z"
   },
   {
    "duration": 1442,
    "start_time": "2023-01-16T18:45:40.957Z"
   },
   {
    "duration": 1083,
    "start_time": "2023-01-16T18:45:42.401Z"
   },
   {
    "duration": 124,
    "start_time": "2023-01-16T18:45:43.486Z"
   },
   {
    "duration": 26,
    "start_time": "2023-01-16T18:45:43.612Z"
   },
   {
    "duration": 90,
    "start_time": "2023-01-16T18:45:43.640Z"
   },
   {
    "duration": 126,
    "start_time": "2023-01-16T18:45:43.732Z"
   },
   {
    "duration": 196,
    "start_time": "2023-01-16T18:45:43.859Z"
   },
   {
    "duration": 256,
    "start_time": "2023-01-16T18:45:44.057Z"
   },
   {
    "duration": 52,
    "start_time": "2023-01-16T18:45:44.314Z"
   },
   {
    "duration": 328,
    "start_time": "2023-01-16T18:45:44.369Z"
   },
   {
    "duration": 480,
    "start_time": "2023-01-16T18:45:44.700Z"
   },
   {
    "duration": 10,
    "start_time": "2023-01-16T18:45:45.182Z"
   },
   {
    "duration": 83,
    "start_time": "2023-01-16T18:45:45.194Z"
   },
   {
    "duration": 380,
    "start_time": "2023-01-16T18:45:45.278Z"
   },
   {
    "duration": 276,
    "start_time": "2023-01-16T18:45:45.660Z"
   },
   {
    "duration": 78,
    "start_time": "2023-01-16T18:45:45.938Z"
   },
   {
    "duration": 19,
    "start_time": "2023-01-16T18:45:46.018Z"
   },
   {
    "duration": 26,
    "start_time": "2023-01-16T18:45:46.038Z"
   },
   {
    "duration": 23,
    "start_time": "2023-01-16T18:45:46.066Z"
   },
   {
    "duration": 29,
    "start_time": "2023-01-16T18:45:46.090Z"
   },
   {
    "duration": 19,
    "start_time": "2023-01-16T18:45:46.121Z"
   },
   {
    "duration": 20,
    "start_time": "2023-01-16T18:45:46.142Z"
   },
   {
    "duration": 27,
    "start_time": "2023-01-16T18:45:46.163Z"
   },
   {
    "duration": 35,
    "start_time": "2023-01-16T18:45:46.191Z"
   },
   {
    "duration": 17,
    "start_time": "2023-01-16T18:45:46.228Z"
   },
   {
    "duration": 22,
    "start_time": "2023-01-16T18:45:46.246Z"
   },
   {
    "duration": 317,
    "start_time": "2023-01-16T18:45:46.270Z"
   },
   {
    "duration": 33,
    "start_time": "2023-01-16T18:45:46.591Z"
   },
   {
    "duration": 59,
    "start_time": "2023-01-16T18:45:46.626Z"
   },
   {
    "duration": 68,
    "start_time": "2023-01-16T18:45:46.686Z"
   },
   {
    "duration": 26,
    "start_time": "2023-01-16T18:45:46.756Z"
   },
   {
    "duration": 31,
    "start_time": "2023-01-16T18:45:46.784Z"
   },
   {
    "duration": 428,
    "start_time": "2023-01-16T18:45:46.817Z"
   },
   {
    "duration": 13,
    "start_time": "2023-01-16T18:45:47.247Z"
   },
   {
    "duration": 151,
    "start_time": "2023-01-16T18:45:47.261Z"
   },
   {
    "duration": 200711,
    "start_time": "2023-01-16T18:45:47.414Z"
   },
   {
    "duration": 4,
    "start_time": "2023-01-16T18:49:08.128Z"
   },
   {
    "duration": 1436,
    "start_time": "2023-01-16T18:51:13.041Z"
   },
   {
    "duration": 1111,
    "start_time": "2023-01-16T18:51:14.480Z"
   },
   {
    "duration": 120,
    "start_time": "2023-01-16T18:51:15.593Z"
   },
   {
    "duration": 21,
    "start_time": "2023-01-16T18:51:15.715Z"
   },
   {
    "duration": 87,
    "start_time": "2023-01-16T18:51:15.738Z"
   },
   {
    "duration": 123,
    "start_time": "2023-01-16T18:51:15.827Z"
   },
   {
    "duration": 175,
    "start_time": "2023-01-16T18:51:15.952Z"
   },
   {
    "duration": 186,
    "start_time": "2023-01-16T18:51:16.129Z"
   },
   {
    "duration": 53,
    "start_time": "2023-01-16T18:51:16.317Z"
   },
   {
    "duration": 324,
    "start_time": "2023-01-16T18:51:16.373Z"
   },
   {
    "duration": 485,
    "start_time": "2023-01-16T18:51:16.699Z"
   },
   {
    "duration": 11,
    "start_time": "2023-01-16T18:51:17.186Z"
   },
   {
    "duration": 87,
    "start_time": "2023-01-16T18:51:17.199Z"
   },
   {
    "duration": 389,
    "start_time": "2023-01-16T18:51:17.288Z"
   },
   {
    "duration": 266,
    "start_time": "2023-01-16T18:51:17.679Z"
   },
   {
    "duration": 77,
    "start_time": "2023-01-16T18:51:17.947Z"
   },
   {
    "duration": 16,
    "start_time": "2023-01-16T18:51:18.026Z"
   },
   {
    "duration": 29,
    "start_time": "2023-01-16T18:51:18.044Z"
   },
   {
    "duration": 24,
    "start_time": "2023-01-16T18:51:18.075Z"
   },
   {
    "duration": 28,
    "start_time": "2023-01-16T18:51:18.101Z"
   },
   {
    "duration": 25,
    "start_time": "2023-01-16T18:51:18.131Z"
   },
   {
    "duration": 24,
    "start_time": "2023-01-16T18:51:18.159Z"
   },
   {
    "duration": 57,
    "start_time": "2023-01-16T18:51:18.185Z"
   },
   {
    "duration": 20,
    "start_time": "2023-01-16T18:51:18.244Z"
   },
   {
    "duration": 19,
    "start_time": "2023-01-16T18:51:18.266Z"
   },
   {
    "duration": 43,
    "start_time": "2023-01-16T18:51:18.287Z"
   },
   {
    "duration": 286,
    "start_time": "2023-01-16T18:51:18.332Z"
   },
   {
    "duration": 22,
    "start_time": "2023-01-16T18:51:18.621Z"
   },
   {
    "duration": 70,
    "start_time": "2023-01-16T18:51:18.644Z"
   },
   {
    "duration": 48,
    "start_time": "2023-01-16T18:51:18.715Z"
   },
   {
    "duration": 25,
    "start_time": "2023-01-16T18:51:18.765Z"
   },
   {
    "duration": 30,
    "start_time": "2023-01-16T18:51:18.792Z"
   },
   {
    "duration": 428,
    "start_time": "2023-01-16T18:51:18.824Z"
   },
   {
    "duration": 12,
    "start_time": "2023-01-16T18:51:19.254Z"
   },
   {
    "duration": 153,
    "start_time": "2023-01-16T18:51:19.268Z"
   },
   {
    "duration": 243,
    "start_time": "2023-01-16T18:51:19.423Z"
   },
   {
    "duration": 0,
    "start_time": "2023-01-16T18:51:19.667Z"
   },
   {
    "duration": 840,
    "start_time": "2023-01-16T18:51:56.706Z"
   },
   {
    "duration": 47,
    "start_time": "2023-01-16T18:55:59.386Z"
   },
   {
    "duration": 65,
    "start_time": "2023-01-16T18:57:05.154Z"
   },
   {
    "duration": 53,
    "start_time": "2023-01-16T18:57:47.572Z"
   },
   {
    "duration": 82,
    "start_time": "2023-01-16T18:58:15.349Z"
   },
   {
    "duration": 2135,
    "start_time": "2023-01-16T18:58:59.598Z"
   },
   {
    "duration": 1406,
    "start_time": "2023-01-16T18:59:46.863Z"
   },
   {
    "duration": 832,
    "start_time": "2023-01-16T18:59:48.271Z"
   },
   {
    "duration": 133,
    "start_time": "2023-01-16T18:59:49.105Z"
   },
   {
    "duration": 32,
    "start_time": "2023-01-16T18:59:49.241Z"
   },
   {
    "duration": 90,
    "start_time": "2023-01-16T18:59:49.274Z"
   },
   {
    "duration": 118,
    "start_time": "2023-01-16T18:59:49.366Z"
   },
   {
    "duration": 183,
    "start_time": "2023-01-16T18:59:49.485Z"
   },
   {
    "duration": 234,
    "start_time": "2023-01-16T18:59:49.670Z"
   },
   {
    "duration": 51,
    "start_time": "2023-01-16T18:59:49.906Z"
   },
   {
    "duration": 344,
    "start_time": "2023-01-16T18:59:49.959Z"
   },
   {
    "duration": 508,
    "start_time": "2023-01-16T18:59:50.305Z"
   },
   {
    "duration": 12,
    "start_time": "2023-01-16T18:59:50.815Z"
   },
   {
    "duration": 89,
    "start_time": "2023-01-16T18:59:50.829Z"
   },
   {
    "duration": 374,
    "start_time": "2023-01-16T18:59:50.920Z"
   },
   {
    "duration": 259,
    "start_time": "2023-01-16T18:59:51.295Z"
   },
   {
    "duration": 77,
    "start_time": "2023-01-16T18:59:51.556Z"
   },
   {
    "duration": 27,
    "start_time": "2023-01-16T18:59:51.635Z"
   },
   {
    "duration": 42,
    "start_time": "2023-01-16T18:59:51.664Z"
   },
   {
    "duration": 35,
    "start_time": "2023-01-16T18:59:51.708Z"
   },
   {
    "duration": 89,
    "start_time": "2023-01-16T18:59:51.745Z"
   },
   {
    "duration": 26,
    "start_time": "2023-01-16T18:59:51.837Z"
   },
   {
    "duration": 32,
    "start_time": "2023-01-16T18:59:51.864Z"
   },
   {
    "duration": 47,
    "start_time": "2023-01-16T18:59:51.898Z"
   },
   {
    "duration": 20,
    "start_time": "2023-01-16T18:59:51.947Z"
   },
   {
    "duration": 32,
    "start_time": "2023-01-16T18:59:51.969Z"
   },
   {
    "duration": 25,
    "start_time": "2023-01-16T18:59:52.003Z"
   },
   {
    "duration": 316,
    "start_time": "2023-01-16T18:59:52.030Z"
   },
   {
    "duration": 20,
    "start_time": "2023-01-16T18:59:52.350Z"
   },
   {
    "duration": 74,
    "start_time": "2023-01-16T18:59:52.372Z"
   },
   {
    "duration": 57,
    "start_time": "2023-01-16T18:59:52.448Z"
   },
   {
    "duration": 29,
    "start_time": "2023-01-16T18:59:52.506Z"
   },
   {
    "duration": 11,
    "start_time": "2023-01-16T18:59:52.537Z"
   },
   {
    "duration": 395,
    "start_time": "2023-01-16T18:59:52.550Z"
   },
   {
    "duration": 18,
    "start_time": "2023-01-16T18:59:52.948Z"
   },
   {
    "duration": 167,
    "start_time": "2023-01-16T18:59:52.969Z"
   },
   {
    "duration": 0,
    "start_time": "2023-01-16T18:59:53.138Z"
   },
   {
    "duration": 0,
    "start_time": "2023-01-16T18:59:53.139Z"
   },
   {
    "duration": 86,
    "start_time": "2023-01-16T19:00:32.430Z"
   },
   {
    "duration": 133,
    "start_time": "2023-01-16T19:00:39.681Z"
   },
   {
    "duration": 2107,
    "start_time": "2023-01-16T19:00:48.609Z"
   },
   {
    "duration": 11,
    "start_time": "2023-01-16T19:01:22.738Z"
   },
   {
    "duration": 54,
    "start_time": "2023-01-16T19:02:37.613Z"
   },
   {
    "duration": 8,
    "start_time": "2023-01-16T19:02:53.117Z"
   },
   {
    "duration": 9,
    "start_time": "2023-01-16T19:03:26.357Z"
   },
   {
    "duration": 1511,
    "start_time": "2023-01-16T19:03:31.141Z"
   },
   {
    "duration": 1063,
    "start_time": "2023-01-16T19:03:32.653Z"
   },
   {
    "duration": 109,
    "start_time": "2023-01-16T19:03:33.717Z"
   },
   {
    "duration": 22,
    "start_time": "2023-01-16T19:03:33.828Z"
   },
   {
    "duration": 92,
    "start_time": "2023-01-16T19:03:33.852Z"
   },
   {
    "duration": 117,
    "start_time": "2023-01-16T19:03:33.946Z"
   },
   {
    "duration": 171,
    "start_time": "2023-01-16T19:03:34.065Z"
   },
   {
    "duration": 191,
    "start_time": "2023-01-16T19:03:34.238Z"
   },
   {
    "duration": 53,
    "start_time": "2023-01-16T19:03:34.431Z"
   },
   {
    "duration": 347,
    "start_time": "2023-01-16T19:03:34.486Z"
   },
   {
    "duration": 498,
    "start_time": "2023-01-16T19:03:34.835Z"
   },
   {
    "duration": 13,
    "start_time": "2023-01-16T19:03:35.334Z"
   },
   {
    "duration": 97,
    "start_time": "2023-01-16T19:03:35.349Z"
   },
   {
    "duration": 388,
    "start_time": "2023-01-16T19:03:35.449Z"
   },
   {
    "duration": 262,
    "start_time": "2023-01-16T19:03:35.838Z"
   },
   {
    "duration": 74,
    "start_time": "2023-01-16T19:03:36.101Z"
   },
   {
    "duration": 16,
    "start_time": "2023-01-16T19:03:36.177Z"
   },
   {
    "duration": 35,
    "start_time": "2023-01-16T19:03:36.195Z"
   },
   {
    "duration": 19,
    "start_time": "2023-01-16T19:03:36.232Z"
   },
   {
    "duration": 16,
    "start_time": "2023-01-16T19:03:36.253Z"
   },
   {
    "duration": 17,
    "start_time": "2023-01-16T19:03:36.271Z"
   },
   {
    "duration": 26,
    "start_time": "2023-01-16T19:03:36.290Z"
   },
   {
    "duration": 27,
    "start_time": "2023-01-16T19:03:36.317Z"
   },
   {
    "duration": 18,
    "start_time": "2023-01-16T19:03:36.346Z"
   },
   {
    "duration": 17,
    "start_time": "2023-01-16T19:03:36.366Z"
   },
   {
    "duration": 31,
    "start_time": "2023-01-16T19:03:36.384Z"
   },
   {
    "duration": 297,
    "start_time": "2023-01-16T19:03:36.417Z"
   },
   {
    "duration": 21,
    "start_time": "2023-01-16T19:03:36.716Z"
   },
   {
    "duration": 53,
    "start_time": "2023-01-16T19:03:36.738Z"
   },
   {
    "duration": 76,
    "start_time": "2023-01-16T19:03:36.792Z"
   },
   {
    "duration": 39,
    "start_time": "2023-01-16T19:03:36.869Z"
   },
   {
    "duration": 20,
    "start_time": "2023-01-16T19:03:36.910Z"
   },
   {
    "duration": 411,
    "start_time": "2023-01-16T19:03:36.932Z"
   },
   {
    "duration": 13,
    "start_time": "2023-01-16T19:03:37.344Z"
   },
   {
    "duration": 111,
    "start_time": "2023-01-16T19:03:37.359Z"
   },
   {
    "duration": 140,
    "start_time": "2023-01-16T19:03:37.473Z"
   },
   {
    "duration": 1964,
    "start_time": "2023-01-16T19:04:33.626Z"
   },
   {
    "duration": 1092,
    "start_time": "2023-01-16T19:04:35.592Z"
   },
   {
    "duration": 117,
    "start_time": "2023-01-16T19:04:36.685Z"
   },
   {
    "duration": 40,
    "start_time": "2023-01-16T19:04:36.805Z"
   },
   {
    "duration": 84,
    "start_time": "2023-01-16T19:04:36.847Z"
   },
   {
    "duration": 133,
    "start_time": "2023-01-16T19:04:36.933Z"
   },
   {
    "duration": 179,
    "start_time": "2023-01-16T19:04:37.067Z"
   },
   {
    "duration": 240,
    "start_time": "2023-01-16T19:04:37.247Z"
   },
   {
    "duration": 57,
    "start_time": "2023-01-16T19:04:37.488Z"
   },
   {
    "duration": 310,
    "start_time": "2023-01-16T19:04:37.548Z"
   },
   {
    "duration": 500,
    "start_time": "2023-01-16T19:04:37.860Z"
   },
   {
    "duration": 12,
    "start_time": "2023-01-16T19:04:38.362Z"
   },
   {
    "duration": 95,
    "start_time": "2023-01-16T19:04:38.375Z"
   },
   {
    "duration": 383,
    "start_time": "2023-01-16T19:04:38.472Z"
   },
   {
    "duration": 275,
    "start_time": "2023-01-16T19:04:38.857Z"
   },
   {
    "duration": 91,
    "start_time": "2023-01-16T19:04:39.134Z"
   },
   {
    "duration": 16,
    "start_time": "2023-01-16T19:04:39.227Z"
   },
   {
    "duration": 31,
    "start_time": "2023-01-16T19:04:39.244Z"
   },
   {
    "duration": 35,
    "start_time": "2023-01-16T19:04:39.277Z"
   },
   {
    "duration": 51,
    "start_time": "2023-01-16T19:04:39.314Z"
   },
   {
    "duration": 51,
    "start_time": "2023-01-16T19:04:39.367Z"
   },
   {
    "duration": 40,
    "start_time": "2023-01-16T19:04:39.420Z"
   },
   {
    "duration": 52,
    "start_time": "2023-01-16T19:04:39.462Z"
   },
   {
    "duration": 42,
    "start_time": "2023-01-16T19:04:39.516Z"
   },
   {
    "duration": 67,
    "start_time": "2023-01-16T19:04:39.559Z"
   },
   {
    "duration": 48,
    "start_time": "2023-01-16T19:04:39.628Z"
   },
   {
    "duration": 300,
    "start_time": "2023-01-16T19:04:39.677Z"
   },
   {
    "duration": 21,
    "start_time": "2023-01-16T19:04:39.981Z"
   },
   {
    "duration": 63,
    "start_time": "2023-01-16T19:04:40.004Z"
   },
   {
    "duration": 60,
    "start_time": "2023-01-16T19:04:40.068Z"
   },
   {
    "duration": 41,
    "start_time": "2023-01-16T19:04:40.130Z"
   },
   {
    "duration": 38,
    "start_time": "2023-01-16T19:04:40.173Z"
   },
   {
    "duration": 439,
    "start_time": "2023-01-16T19:04:40.214Z"
   },
   {
    "duration": 13,
    "start_time": "2023-01-16T19:04:40.654Z"
   },
   {
    "duration": 94,
    "start_time": "2023-01-16T19:04:40.669Z"
   },
   {
    "duration": 151,
    "start_time": "2023-01-16T19:04:40.764Z"
   },
   {
    "duration": 1905,
    "start_time": "2023-01-16T19:09:37.383Z"
   },
   {
    "duration": 1217,
    "start_time": "2023-01-16T19:09:39.290Z"
   },
   {
    "duration": 125,
    "start_time": "2023-01-16T19:09:40.509Z"
   },
   {
    "duration": 30,
    "start_time": "2023-01-16T19:09:40.636Z"
   },
   {
    "duration": 146,
    "start_time": "2023-01-16T19:09:40.669Z"
   },
   {
    "duration": 125,
    "start_time": "2023-01-16T19:09:40.817Z"
   },
   {
    "duration": 209,
    "start_time": "2023-01-16T19:09:40.944Z"
   },
   {
    "duration": 268,
    "start_time": "2023-01-16T19:09:41.155Z"
   },
   {
    "duration": 54,
    "start_time": "2023-01-16T19:09:41.425Z"
   },
   {
    "duration": 325,
    "start_time": "2023-01-16T19:09:41.482Z"
   },
   {
    "duration": 508,
    "start_time": "2023-01-16T19:09:41.808Z"
   },
   {
    "duration": 12,
    "start_time": "2023-01-16T19:09:42.318Z"
   },
   {
    "duration": 91,
    "start_time": "2023-01-16T19:09:42.331Z"
   },
   {
    "duration": 375,
    "start_time": "2023-01-16T19:09:42.424Z"
   },
   {
    "duration": 272,
    "start_time": "2023-01-16T19:09:42.800Z"
   },
   {
    "duration": 73,
    "start_time": "2023-01-16T19:09:43.074Z"
   },
   {
    "duration": 16,
    "start_time": "2023-01-16T19:09:43.149Z"
   },
   {
    "duration": 15,
    "start_time": "2023-01-16T19:09:43.167Z"
   },
   {
    "duration": 22,
    "start_time": "2023-01-16T19:09:43.183Z"
   },
   {
    "duration": 29,
    "start_time": "2023-01-16T19:09:43.206Z"
   },
   {
    "duration": 17,
    "start_time": "2023-01-16T19:09:43.237Z"
   },
   {
    "duration": 18,
    "start_time": "2023-01-16T19:09:43.255Z"
   },
   {
    "duration": 39,
    "start_time": "2023-01-16T19:09:43.275Z"
   },
   {
    "duration": 17,
    "start_time": "2023-01-16T19:09:43.316Z"
   },
   {
    "duration": 28,
    "start_time": "2023-01-16T19:09:43.335Z"
   },
   {
    "duration": 92,
    "start_time": "2023-01-16T19:09:43.365Z"
   },
   {
    "duration": 281,
    "start_time": "2023-01-16T19:09:43.458Z"
   },
   {
    "duration": 21,
    "start_time": "2023-01-16T19:09:43.742Z"
   },
   {
    "duration": 60,
    "start_time": "2023-01-16T19:09:43.764Z"
   },
   {
    "duration": 48,
    "start_time": "2023-01-16T19:09:43.825Z"
   },
   {
    "duration": 39,
    "start_time": "2023-01-16T19:09:43.874Z"
   },
   {
    "duration": 13,
    "start_time": "2023-01-16T19:09:43.915Z"
   },
   {
    "duration": 389,
    "start_time": "2023-01-16T19:09:43.930Z"
   },
   {
    "duration": 12,
    "start_time": "2023-01-16T19:09:44.321Z"
   },
   {
    "duration": 95,
    "start_time": "2023-01-16T19:09:44.334Z"
   },
   {
    "duration": 105,
    "start_time": "2023-01-16T19:09:44.430Z"
   },
   {
    "duration": 1936,
    "start_time": "2023-01-16T19:12:32.611Z"
   },
   {
    "duration": 1143,
    "start_time": "2023-01-16T19:12:34.549Z"
   },
   {
    "duration": 113,
    "start_time": "2023-01-16T19:12:35.694Z"
   },
   {
    "duration": 27,
    "start_time": "2023-01-16T19:12:35.813Z"
   },
   {
    "duration": 90,
    "start_time": "2023-01-16T19:12:35.842Z"
   },
   {
    "duration": 106,
    "start_time": "2023-01-16T19:12:35.933Z"
   },
   {
    "duration": 175,
    "start_time": "2023-01-16T19:12:36.041Z"
   },
   {
    "duration": 199,
    "start_time": "2023-01-16T19:12:36.218Z"
   },
   {
    "duration": 55,
    "start_time": "2023-01-16T19:12:36.419Z"
   },
   {
    "duration": 320,
    "start_time": "2023-01-16T19:12:36.477Z"
   },
   {
    "duration": 497,
    "start_time": "2023-01-16T19:12:36.798Z"
   },
   {
    "duration": 20,
    "start_time": "2023-01-16T19:12:37.297Z"
   },
   {
    "duration": 81,
    "start_time": "2023-01-16T19:12:37.319Z"
   },
   {
    "duration": 410,
    "start_time": "2023-01-16T19:12:37.401Z"
   },
   {
    "duration": 268,
    "start_time": "2023-01-16T19:12:37.813Z"
   },
   {
    "duration": 86,
    "start_time": "2023-01-16T19:12:38.083Z"
   },
   {
    "duration": 16,
    "start_time": "2023-01-16T19:12:38.171Z"
   },
   {
    "duration": 27,
    "start_time": "2023-01-16T19:12:38.189Z"
   },
   {
    "duration": 15,
    "start_time": "2023-01-16T19:12:38.218Z"
   },
   {
    "duration": 19,
    "start_time": "2023-01-16T19:12:38.235Z"
   },
   {
    "duration": 15,
    "start_time": "2023-01-16T19:12:38.255Z"
   },
   {
    "duration": 37,
    "start_time": "2023-01-16T19:12:38.272Z"
   },
   {
    "duration": 29,
    "start_time": "2023-01-16T19:12:38.311Z"
   },
   {
    "duration": 18,
    "start_time": "2023-01-16T19:12:38.343Z"
   },
   {
    "duration": 16,
    "start_time": "2023-01-16T19:12:38.363Z"
   },
   {
    "duration": 17,
    "start_time": "2023-01-16T19:12:38.381Z"
   },
   {
    "duration": 304,
    "start_time": "2023-01-16T19:12:38.400Z"
   },
   {
    "duration": 25,
    "start_time": "2023-01-16T19:12:38.707Z"
   },
   {
    "duration": 55,
    "start_time": "2023-01-16T19:12:38.734Z"
   },
   {
    "duration": 67,
    "start_time": "2023-01-16T19:12:38.791Z"
   },
   {
    "duration": 33,
    "start_time": "2023-01-16T19:12:38.860Z"
   },
   {
    "duration": 22,
    "start_time": "2023-01-16T19:12:38.894Z"
   },
   {
    "duration": 424,
    "start_time": "2023-01-16T19:12:38.918Z"
   },
   {
    "duration": 13,
    "start_time": "2023-01-16T19:12:39.344Z"
   },
   {
    "duration": 118,
    "start_time": "2023-01-16T19:12:39.359Z"
   },
   {
    "duration": 137,
    "start_time": "2023-01-16T19:12:39.479Z"
   },
   {
    "duration": 3,
    "start_time": "2023-01-16T19:12:39.617Z"
   },
   {
    "duration": 1735,
    "start_time": "2023-01-16T19:13:06.764Z"
   },
   {
    "duration": 1077,
    "start_time": "2023-01-16T19:13:08.501Z"
   },
   {
    "duration": 116,
    "start_time": "2023-01-16T19:13:09.579Z"
   },
   {
    "duration": 33,
    "start_time": "2023-01-16T19:13:09.697Z"
   },
   {
    "duration": 73,
    "start_time": "2023-01-16T19:13:09.732Z"
   },
   {
    "duration": 120,
    "start_time": "2023-01-16T19:13:09.812Z"
   },
   {
    "duration": 192,
    "start_time": "2023-01-16T19:13:09.934Z"
   },
   {
    "duration": 293,
    "start_time": "2023-01-16T19:13:10.128Z"
   },
   {
    "duration": 52,
    "start_time": "2023-01-16T19:13:10.424Z"
   },
   {
    "duration": 300,
    "start_time": "2023-01-16T19:13:10.479Z"
   },
   {
    "duration": 492,
    "start_time": "2023-01-16T19:13:10.781Z"
   },
   {
    "duration": 12,
    "start_time": "2023-01-16T19:13:11.276Z"
   },
   {
    "duration": 93,
    "start_time": "2023-01-16T19:13:11.290Z"
   },
   {
    "duration": 366,
    "start_time": "2023-01-16T19:13:11.385Z"
   },
   {
    "duration": 261,
    "start_time": "2023-01-16T19:13:11.753Z"
   },
   {
    "duration": 72,
    "start_time": "2023-01-16T19:13:12.016Z"
   },
   {
    "duration": 25,
    "start_time": "2023-01-16T19:13:12.090Z"
   },
   {
    "duration": 13,
    "start_time": "2023-01-16T19:13:12.117Z"
   },
   {
    "duration": 28,
    "start_time": "2023-01-16T19:13:12.131Z"
   },
   {
    "duration": 15,
    "start_time": "2023-01-16T19:13:12.161Z"
   },
   {
    "duration": 17,
    "start_time": "2023-01-16T19:13:12.178Z"
   },
   {
    "duration": 28,
    "start_time": "2023-01-16T19:13:12.197Z"
   },
   {
    "duration": 27,
    "start_time": "2023-01-16T19:13:12.227Z"
   },
   {
    "duration": 18,
    "start_time": "2023-01-16T19:13:12.256Z"
   },
   {
    "duration": 19,
    "start_time": "2023-01-16T19:13:12.276Z"
   },
   {
    "duration": 28,
    "start_time": "2023-01-16T19:13:12.297Z"
   },
   {
    "duration": 292,
    "start_time": "2023-01-16T19:13:12.326Z"
   },
   {
    "duration": 22,
    "start_time": "2023-01-16T19:13:12.621Z"
   },
   {
    "duration": 68,
    "start_time": "2023-01-16T19:13:12.645Z"
   },
   {
    "duration": 48,
    "start_time": "2023-01-16T19:13:12.715Z"
   },
   {
    "duration": 25,
    "start_time": "2023-01-16T19:13:12.765Z"
   },
   {
    "duration": 32,
    "start_time": "2023-01-16T19:13:12.792Z"
   },
   {
    "duration": 433,
    "start_time": "2023-01-16T19:13:12.826Z"
   },
   {
    "duration": 12,
    "start_time": "2023-01-16T19:13:13.261Z"
   },
   {
    "duration": 96,
    "start_time": "2023-01-16T19:13:13.275Z"
   },
   {
    "duration": 150,
    "start_time": "2023-01-16T19:13:13.372Z"
   },
   {
    "duration": 91,
    "start_time": "2023-01-16T19:13:13.524Z"
   },
   {
    "duration": 1763,
    "start_time": "2023-01-16T19:16:51.509Z"
   },
   {
    "duration": 1066,
    "start_time": "2023-01-16T19:16:53.274Z"
   },
   {
    "duration": 108,
    "start_time": "2023-01-16T19:16:54.342Z"
   },
   {
    "duration": 23,
    "start_time": "2023-01-16T19:16:54.452Z"
   },
   {
    "duration": 85,
    "start_time": "2023-01-16T19:16:54.477Z"
   },
   {
    "duration": 127,
    "start_time": "2023-01-16T19:16:54.564Z"
   },
   {
    "duration": 187,
    "start_time": "2023-01-16T19:16:54.694Z"
   },
   {
    "duration": 206,
    "start_time": "2023-01-16T19:16:54.883Z"
   },
   {
    "duration": 57,
    "start_time": "2023-01-16T19:16:55.090Z"
   },
   {
    "duration": 320,
    "start_time": "2023-01-16T19:16:55.150Z"
   },
   {
    "duration": 455,
    "start_time": "2023-01-16T19:16:55.472Z"
   },
   {
    "duration": 10,
    "start_time": "2023-01-16T19:16:55.929Z"
   },
   {
    "duration": 88,
    "start_time": "2023-01-16T19:16:55.940Z"
   },
   {
    "duration": 384,
    "start_time": "2023-01-16T19:16:56.030Z"
   },
   {
    "duration": 247,
    "start_time": "2023-01-16T19:16:56.416Z"
   },
   {
    "duration": 75,
    "start_time": "2023-01-16T19:16:56.664Z"
   },
   {
    "duration": 14,
    "start_time": "2023-01-16T19:16:56.741Z"
   },
   {
    "duration": 48,
    "start_time": "2023-01-16T19:16:56.757Z"
   },
   {
    "duration": 29,
    "start_time": "2023-01-16T19:16:56.807Z"
   },
   {
    "duration": 34,
    "start_time": "2023-01-16T19:16:56.838Z"
   },
   {
    "duration": 20,
    "start_time": "2023-01-16T19:16:56.873Z"
   },
   {
    "duration": 21,
    "start_time": "2023-01-16T19:16:56.895Z"
   },
   {
    "duration": 34,
    "start_time": "2023-01-16T19:16:56.918Z"
   },
   {
    "duration": 21,
    "start_time": "2023-01-16T19:16:56.954Z"
   },
   {
    "duration": 14,
    "start_time": "2023-01-16T19:16:56.977Z"
   },
   {
    "duration": 27,
    "start_time": "2023-01-16T19:16:56.992Z"
   },
   {
    "duration": 306,
    "start_time": "2023-01-16T19:16:57.020Z"
   },
   {
    "duration": 21,
    "start_time": "2023-01-16T19:16:57.330Z"
   },
   {
    "duration": 68,
    "start_time": "2023-01-16T19:16:57.352Z"
   },
   {
    "duration": 52,
    "start_time": "2023-01-16T19:16:57.421Z"
   },
   {
    "duration": 20,
    "start_time": "2023-01-16T19:16:57.475Z"
   },
   {
    "duration": 13,
    "start_time": "2023-01-16T19:16:57.512Z"
   },
   {
    "duration": 376,
    "start_time": "2023-01-16T19:16:57.526Z"
   },
   {
    "duration": 17,
    "start_time": "2023-01-16T19:16:57.904Z"
   },
   {
    "duration": 110,
    "start_time": "2023-01-16T19:16:57.923Z"
   },
   {
    "duration": 185,
    "start_time": "2023-01-16T19:16:58.034Z"
   },
   {
    "duration": 3,
    "start_time": "2023-01-16T19:16:58.221Z"
   },
   {
    "duration": 1528,
    "start_time": "2023-01-16T19:28:54.788Z"
   },
   {
    "duration": 1095,
    "start_time": "2023-01-16T19:28:56.318Z"
   },
   {
    "duration": 122,
    "start_time": "2023-01-16T19:28:57.415Z"
   },
   {
    "duration": 25,
    "start_time": "2023-01-16T19:28:57.539Z"
   },
   {
    "duration": 96,
    "start_time": "2023-01-16T19:28:57.566Z"
   },
   {
    "duration": 112,
    "start_time": "2023-01-16T19:28:57.665Z"
   },
   {
    "duration": 197,
    "start_time": "2023-01-16T19:28:57.779Z"
   },
   {
    "duration": 253,
    "start_time": "2023-01-16T19:28:57.977Z"
   },
   {
    "duration": 61,
    "start_time": "2023-01-16T19:28:58.231Z"
   },
   {
    "duration": 313,
    "start_time": "2023-01-16T19:28:58.295Z"
   },
   {
    "duration": 490,
    "start_time": "2023-01-16T19:28:58.612Z"
   },
   {
    "duration": 17,
    "start_time": "2023-01-16T19:28:59.104Z"
   },
   {
    "duration": 91,
    "start_time": "2023-01-16T19:28:59.123Z"
   },
   {
    "duration": 359,
    "start_time": "2023-01-16T19:28:59.215Z"
   },
   {
    "duration": 264,
    "start_time": "2023-01-16T19:28:59.576Z"
   },
   {
    "duration": 79,
    "start_time": "2023-01-16T19:28:59.842Z"
   },
   {
    "duration": 16,
    "start_time": "2023-01-16T19:28:59.923Z"
   },
   {
    "duration": 31,
    "start_time": "2023-01-16T19:28:59.940Z"
   },
   {
    "duration": 29,
    "start_time": "2023-01-16T19:28:59.973Z"
   },
   {
    "duration": 50,
    "start_time": "2023-01-16T19:29:00.004Z"
   },
   {
    "duration": 37,
    "start_time": "2023-01-16T19:29:00.056Z"
   },
   {
    "duration": 44,
    "start_time": "2023-01-16T19:29:00.095Z"
   },
   {
    "duration": 51,
    "start_time": "2023-01-16T19:29:00.141Z"
   },
   {
    "duration": 35,
    "start_time": "2023-01-16T19:29:00.194Z"
   },
   {
    "duration": 22,
    "start_time": "2023-01-16T19:29:00.231Z"
   },
   {
    "duration": 46,
    "start_time": "2023-01-16T19:29:00.255Z"
   },
   {
    "duration": 339,
    "start_time": "2023-01-16T19:29:00.303Z"
   },
   {
    "duration": 22,
    "start_time": "2023-01-16T19:29:00.645Z"
   },
   {
    "duration": 69,
    "start_time": "2023-01-16T19:29:00.669Z"
   },
   {
    "duration": 92,
    "start_time": "2023-01-16T19:29:00.740Z"
   },
   {
    "duration": 73,
    "start_time": "2023-01-16T19:29:00.834Z"
   },
   {
    "duration": 45,
    "start_time": "2023-01-16T19:29:00.909Z"
   },
   {
    "duration": 419,
    "start_time": "2023-01-16T19:29:00.956Z"
   },
   {
    "duration": 13,
    "start_time": "2023-01-16T19:29:01.376Z"
   },
   {
    "duration": 154,
    "start_time": "2023-01-16T19:29:01.390Z"
   },
   {
    "duration": 101,
    "start_time": "2023-01-16T19:29:01.546Z"
   },
   {
    "duration": 1583,
    "start_time": "2023-01-16T19:30:20.372Z"
   },
   {
    "duration": 1113,
    "start_time": "2023-01-16T19:30:21.957Z"
   },
   {
    "duration": 123,
    "start_time": "2023-01-16T19:30:23.072Z"
   },
   {
    "duration": 25,
    "start_time": "2023-01-16T19:30:23.198Z"
   },
   {
    "duration": 83,
    "start_time": "2023-01-16T19:30:23.225Z"
   },
   {
    "duration": 116,
    "start_time": "2023-01-16T19:30:23.310Z"
   },
   {
    "duration": 179,
    "start_time": "2023-01-16T19:30:23.428Z"
   },
   {
    "duration": 193,
    "start_time": "2023-01-16T19:30:23.612Z"
   },
   {
    "duration": 56,
    "start_time": "2023-01-16T19:30:23.806Z"
   },
   {
    "duration": 306,
    "start_time": "2023-01-16T19:30:23.865Z"
   },
   {
    "duration": 479,
    "start_time": "2023-01-16T19:30:24.172Z"
   },
   {
    "duration": 14,
    "start_time": "2023-01-16T19:30:24.652Z"
   },
   {
    "duration": 96,
    "start_time": "2023-01-16T19:30:24.668Z"
   },
   {
    "duration": 371,
    "start_time": "2023-01-16T19:30:24.766Z"
   },
   {
    "duration": 264,
    "start_time": "2023-01-16T19:30:25.138Z"
   },
   {
    "duration": 70,
    "start_time": "2023-01-16T19:30:25.403Z"
   },
   {
    "duration": 15,
    "start_time": "2023-01-16T19:30:25.475Z"
   },
   {
    "duration": 28,
    "start_time": "2023-01-16T19:30:25.491Z"
   },
   {
    "duration": 16,
    "start_time": "2023-01-16T19:30:25.521Z"
   },
   {
    "duration": 19,
    "start_time": "2023-01-16T19:30:25.539Z"
   },
   {
    "duration": 20,
    "start_time": "2023-01-16T19:30:25.560Z"
   },
   {
    "duration": 16,
    "start_time": "2023-01-16T19:30:25.582Z"
   },
   {
    "duration": 36,
    "start_time": "2023-01-16T19:30:25.600Z"
   },
   {
    "duration": 21,
    "start_time": "2023-01-16T19:30:25.638Z"
   },
   {
    "duration": 21,
    "start_time": "2023-01-16T19:30:25.661Z"
   },
   {
    "duration": 24,
    "start_time": "2023-01-16T19:30:25.684Z"
   },
   {
    "duration": 283,
    "start_time": "2023-01-16T19:30:25.710Z"
   },
   {
    "duration": 31,
    "start_time": "2023-01-16T19:30:25.996Z"
   },
   {
    "duration": 54,
    "start_time": "2023-01-16T19:30:26.028Z"
   },
   {
    "duration": 73,
    "start_time": "2023-01-16T19:30:26.084Z"
   },
   {
    "duration": 20,
    "start_time": "2023-01-16T19:30:26.159Z"
   },
   {
    "duration": 12,
    "start_time": "2023-01-16T19:30:26.180Z"
   },
   {
    "duration": 401,
    "start_time": "2023-01-16T19:30:26.212Z"
   },
   {
    "duration": 13,
    "start_time": "2023-01-16T19:30:26.615Z"
   },
   {
    "duration": 114,
    "start_time": "2023-01-16T19:30:26.630Z"
   },
   {
    "duration": 105,
    "start_time": "2023-01-16T19:30:26.746Z"
   },
   {
    "duration": 62,
    "start_time": "2023-01-16T19:30:26.853Z"
   },
   {
    "duration": 48,
    "start_time": "2023-01-16T19:30:55.604Z"
   },
   {
    "duration": 1504,
    "start_time": "2023-01-16T19:31:01.130Z"
   },
   {
    "duration": 1157,
    "start_time": "2023-01-16T19:31:02.637Z"
   },
   {
    "duration": 110,
    "start_time": "2023-01-16T19:31:03.796Z"
   },
   {
    "duration": 22,
    "start_time": "2023-01-16T19:31:03.912Z"
   },
   {
    "duration": 89,
    "start_time": "2023-01-16T19:31:03.936Z"
   },
   {
    "duration": 335,
    "start_time": "2023-01-16T19:31:04.027Z"
   },
   {
    "duration": 174,
    "start_time": "2023-01-16T19:31:04.364Z"
   },
   {
    "duration": 226,
    "start_time": "2023-01-16T19:31:04.540Z"
   },
   {
    "duration": 60,
    "start_time": "2023-01-16T19:31:04.768Z"
   },
   {
    "duration": 344,
    "start_time": "2023-01-16T19:31:04.832Z"
   },
   {
    "duration": 501,
    "start_time": "2023-01-16T19:31:05.177Z"
   },
   {
    "duration": 11,
    "start_time": "2023-01-16T19:31:05.681Z"
   },
   {
    "duration": 98,
    "start_time": "2023-01-16T19:31:05.694Z"
   },
   {
    "duration": 362,
    "start_time": "2023-01-16T19:31:05.793Z"
   },
   {
    "duration": 279,
    "start_time": "2023-01-16T19:31:06.157Z"
   },
   {
    "duration": 85,
    "start_time": "2023-01-16T19:31:06.438Z"
   },
   {
    "duration": 18,
    "start_time": "2023-01-16T19:31:06.525Z"
   },
   {
    "duration": 15,
    "start_time": "2023-01-16T19:31:06.545Z"
   },
   {
    "duration": 23,
    "start_time": "2023-01-16T19:31:06.562Z"
   },
   {
    "duration": 34,
    "start_time": "2023-01-16T19:31:06.587Z"
   },
   {
    "duration": 34,
    "start_time": "2023-01-16T19:31:06.622Z"
   },
   {
    "duration": 21,
    "start_time": "2023-01-16T19:31:06.658Z"
   },
   {
    "duration": 28,
    "start_time": "2023-01-16T19:31:06.681Z"
   },
   {
    "duration": 25,
    "start_time": "2023-01-16T19:31:06.714Z"
   },
   {
    "duration": 32,
    "start_time": "2023-01-16T19:31:06.740Z"
   },
   {
    "duration": 27,
    "start_time": "2023-01-16T19:31:06.774Z"
   },
   {
    "duration": 323,
    "start_time": "2023-01-16T19:31:06.803Z"
   },
   {
    "duration": 22,
    "start_time": "2023-01-16T19:31:07.129Z"
   },
   {
    "duration": 70,
    "start_time": "2023-01-16T19:31:07.152Z"
   },
   {
    "duration": 49,
    "start_time": "2023-01-16T19:31:07.224Z"
   },
   {
    "duration": 39,
    "start_time": "2023-01-16T19:31:07.275Z"
   },
   {
    "duration": 13,
    "start_time": "2023-01-16T19:31:07.315Z"
   },
   {
    "duration": 403,
    "start_time": "2023-01-16T19:31:07.330Z"
   },
   {
    "duration": 12,
    "start_time": "2023-01-16T19:31:07.735Z"
   },
   {
    "duration": 257,
    "start_time": "2023-01-16T19:31:07.749Z"
   },
   {
    "duration": 114,
    "start_time": "2023-01-16T19:31:08.008Z"
   },
   {
    "duration": 5,
    "start_time": "2023-01-16T19:31:08.214Z"
   },
   {
    "duration": 1549,
    "start_time": "2023-01-16T19:34:03.260Z"
   },
   {
    "duration": 1063,
    "start_time": "2023-01-16T19:34:04.811Z"
   },
   {
    "duration": 106,
    "start_time": "2023-01-16T19:34:05.875Z"
   },
   {
    "duration": 21,
    "start_time": "2023-01-16T19:34:05.983Z"
   },
   {
    "duration": 92,
    "start_time": "2023-01-16T19:34:06.006Z"
   },
   {
    "duration": 108,
    "start_time": "2023-01-16T19:34:06.100Z"
   },
   {
    "duration": 167,
    "start_time": "2023-01-16T19:34:06.212Z"
   },
   {
    "duration": 200,
    "start_time": "2023-01-16T19:34:06.380Z"
   },
   {
    "duration": 63,
    "start_time": "2023-01-16T19:34:06.582Z"
   },
   {
    "duration": 322,
    "start_time": "2023-01-16T19:34:06.648Z"
   },
   {
    "duration": 492,
    "start_time": "2023-01-16T19:34:06.972Z"
   },
   {
    "duration": 11,
    "start_time": "2023-01-16T19:34:07.466Z"
   },
   {
    "duration": 87,
    "start_time": "2023-01-16T19:34:07.478Z"
   },
   {
    "duration": 370,
    "start_time": "2023-01-16T19:34:07.566Z"
   },
   {
    "duration": 257,
    "start_time": "2023-01-16T19:34:07.938Z"
   },
   {
    "duration": 74,
    "start_time": "2023-01-16T19:34:08.196Z"
   },
   {
    "duration": 16,
    "start_time": "2023-01-16T19:34:08.271Z"
   },
   {
    "duration": 27,
    "start_time": "2023-01-16T19:34:08.289Z"
   },
   {
    "duration": 17,
    "start_time": "2023-01-16T19:34:08.318Z"
   },
   {
    "duration": 19,
    "start_time": "2023-01-16T19:34:08.337Z"
   },
   {
    "duration": 22,
    "start_time": "2023-01-16T19:34:08.358Z"
   },
   {
    "duration": 24,
    "start_time": "2023-01-16T19:34:08.382Z"
   },
   {
    "duration": 28,
    "start_time": "2023-01-16T19:34:08.407Z"
   },
   {
    "duration": 31,
    "start_time": "2023-01-16T19:34:08.436Z"
   },
   {
    "duration": 20,
    "start_time": "2023-01-16T19:34:08.469Z"
   },
   {
    "duration": 22,
    "start_time": "2023-01-16T19:34:08.490Z"
   },
   {
    "duration": 295,
    "start_time": "2023-01-16T19:34:08.514Z"
   },
   {
    "duration": 21,
    "start_time": "2023-01-16T19:34:08.812Z"
   },
   {
    "duration": 54,
    "start_time": "2023-01-16T19:34:08.835Z"
   },
   {
    "duration": 70,
    "start_time": "2023-01-16T19:34:08.891Z"
   },
   {
    "duration": 19,
    "start_time": "2023-01-16T19:34:08.962Z"
   },
   {
    "duration": 11,
    "start_time": "2023-01-16T19:34:08.983Z"
   },
   {
    "duration": 426,
    "start_time": "2023-01-16T19:34:08.996Z"
   },
   {
    "duration": 17,
    "start_time": "2023-01-16T19:34:09.424Z"
   },
   {
    "duration": 113,
    "start_time": "2023-01-16T19:34:09.442Z"
   },
   {
    "duration": 106,
    "start_time": "2023-01-16T19:34:09.557Z"
   },
   {
    "duration": 205,
    "start_time": "2023-01-16T19:34:09.714Z"
   },
   {
    "duration": 1426,
    "start_time": "2023-01-16T19:35:32.349Z"
   },
   {
    "duration": 808,
    "start_time": "2023-01-16T19:35:33.777Z"
   },
   {
    "duration": 133,
    "start_time": "2023-01-16T19:35:34.586Z"
   },
   {
    "duration": 38,
    "start_time": "2023-01-16T19:35:34.722Z"
   },
   {
    "duration": 80,
    "start_time": "2023-01-16T19:35:34.762Z"
   },
   {
    "duration": 113,
    "start_time": "2023-01-16T19:35:34.844Z"
   },
   {
    "duration": 177,
    "start_time": "2023-01-16T19:35:34.959Z"
   },
   {
    "duration": 196,
    "start_time": "2023-01-16T19:35:35.138Z"
   },
   {
    "duration": 52,
    "start_time": "2023-01-16T19:35:35.336Z"
   },
   {
    "duration": 308,
    "start_time": "2023-01-16T19:35:35.392Z"
   },
   {
    "duration": 483,
    "start_time": "2023-01-16T19:35:35.702Z"
   },
   {
    "duration": 11,
    "start_time": "2023-01-16T19:35:36.187Z"
   },
   {
    "duration": 88,
    "start_time": "2023-01-16T19:35:36.200Z"
   },
   {
    "duration": 358,
    "start_time": "2023-01-16T19:35:36.290Z"
   },
   {
    "duration": 260,
    "start_time": "2023-01-16T19:35:36.650Z"
   },
   {
    "duration": 84,
    "start_time": "2023-01-16T19:35:36.913Z"
   },
   {
    "duration": 27,
    "start_time": "2023-01-16T19:35:36.999Z"
   },
   {
    "duration": 17,
    "start_time": "2023-01-16T19:35:37.027Z"
   },
   {
    "duration": 16,
    "start_time": "2023-01-16T19:35:37.046Z"
   },
   {
    "duration": 27,
    "start_time": "2023-01-16T19:35:37.064Z"
   },
   {
    "duration": 20,
    "start_time": "2023-01-16T19:35:37.093Z"
   },
   {
    "duration": 13,
    "start_time": "2023-01-16T19:35:37.115Z"
   },
   {
    "duration": 27,
    "start_time": "2023-01-16T19:35:37.129Z"
   },
   {
    "duration": 14,
    "start_time": "2023-01-16T19:35:37.159Z"
   },
   {
    "duration": 14,
    "start_time": "2023-01-16T19:35:37.175Z"
   },
   {
    "duration": 32,
    "start_time": "2023-01-16T19:35:37.191Z"
   },
   {
    "duration": 301,
    "start_time": "2023-01-16T19:35:37.225Z"
   },
   {
    "duration": 23,
    "start_time": "2023-01-16T19:35:37.530Z"
   },
   {
    "duration": 64,
    "start_time": "2023-01-16T19:35:37.555Z"
   },
   {
    "duration": 47,
    "start_time": "2023-01-16T19:35:37.622Z"
   },
   {
    "duration": 21,
    "start_time": "2023-01-16T19:35:37.671Z"
   },
   {
    "duration": 13,
    "start_time": "2023-01-16T19:35:37.714Z"
   },
   {
    "duration": 399,
    "start_time": "2023-01-16T19:35:37.729Z"
   },
   {
    "duration": 13,
    "start_time": "2023-01-16T19:35:38.130Z"
   },
   {
    "duration": 111,
    "start_time": "2023-01-16T19:35:38.145Z"
   },
   {
    "duration": 154,
    "start_time": "2023-01-16T19:35:38.258Z"
   },
   {
    "duration": 1058,
    "start_time": "2023-01-16T19:35:38.414Z"
   },
   {
    "duration": 1508,
    "start_time": "2023-01-16T19:42:31.408Z"
   },
   {
    "duration": 1052,
    "start_time": "2023-01-16T19:42:32.919Z"
   },
   {
    "duration": 114,
    "start_time": "2023-01-16T19:42:33.973Z"
   },
   {
    "duration": 28,
    "start_time": "2023-01-16T19:42:34.089Z"
   },
   {
    "duration": 102,
    "start_time": "2023-01-16T19:42:34.119Z"
   },
   {
    "duration": 109,
    "start_time": "2023-01-16T19:42:34.222Z"
   },
   {
    "duration": 175,
    "start_time": "2023-01-16T19:42:34.332Z"
   },
   {
    "duration": 253,
    "start_time": "2023-01-16T19:42:34.513Z"
   },
   {
    "duration": 59,
    "start_time": "2023-01-16T19:42:34.768Z"
   },
   {
    "duration": 330,
    "start_time": "2023-01-16T19:42:34.829Z"
   },
   {
    "duration": 469,
    "start_time": "2023-01-16T19:42:35.160Z"
   },
   {
    "duration": 11,
    "start_time": "2023-01-16T19:42:35.631Z"
   },
   {
    "duration": 88,
    "start_time": "2023-01-16T19:42:35.643Z"
   },
   {
    "duration": 359,
    "start_time": "2023-01-16T19:42:35.732Z"
   },
   {
    "duration": 244,
    "start_time": "2023-01-16T19:42:36.093Z"
   },
   {
    "duration": 75,
    "start_time": "2023-01-16T19:42:36.339Z"
   },
   {
    "duration": 19,
    "start_time": "2023-01-16T19:42:36.415Z"
   },
   {
    "duration": 22,
    "start_time": "2023-01-16T19:42:36.436Z"
   },
   {
    "duration": 18,
    "start_time": "2023-01-16T19:42:36.460Z"
   },
   {
    "duration": 22,
    "start_time": "2023-01-16T19:42:36.480Z"
   },
   {
    "duration": 18,
    "start_time": "2023-01-16T19:42:36.512Z"
   },
   {
    "duration": 15,
    "start_time": "2023-01-16T19:42:36.532Z"
   },
   {
    "duration": 26,
    "start_time": "2023-01-16T19:42:36.548Z"
   },
   {
    "duration": 14,
    "start_time": "2023-01-16T19:42:36.575Z"
   },
   {
    "duration": 25,
    "start_time": "2023-01-16T19:42:36.591Z"
   },
   {
    "duration": 18,
    "start_time": "2023-01-16T19:42:36.617Z"
   },
   {
    "duration": 303,
    "start_time": "2023-01-16T19:42:36.636Z"
   },
   {
    "duration": 21,
    "start_time": "2023-01-16T19:42:36.942Z"
   },
   {
    "duration": 68,
    "start_time": "2023-01-16T19:42:36.965Z"
   },
   {
    "duration": 50,
    "start_time": "2023-01-16T19:42:37.035Z"
   },
   {
    "duration": 40,
    "start_time": "2023-01-16T19:42:37.087Z"
   },
   {
    "duration": 13,
    "start_time": "2023-01-16T19:42:37.129Z"
   },
   {
    "duration": 407,
    "start_time": "2023-01-16T19:42:37.143Z"
   },
   {
    "duration": 13,
    "start_time": "2023-01-16T19:42:37.553Z"
   },
   {
    "duration": 95,
    "start_time": "2023-01-16T19:42:37.568Z"
   },
   {
    "duration": 92,
    "start_time": "2023-01-16T19:42:37.665Z"
   },
   {
    "duration": 1611,
    "start_time": "2023-01-17T03:58:13.567Z"
   },
   {
    "duration": 3070,
    "start_time": "2023-01-17T03:58:15.181Z"
   },
   {
    "duration": 161,
    "start_time": "2023-01-17T03:58:18.253Z"
   },
   {
    "duration": 40,
    "start_time": "2023-01-17T03:58:18.418Z"
   },
   {
    "duration": 110,
    "start_time": "2023-01-17T03:58:18.460Z"
   },
   {
    "duration": 144,
    "start_time": "2023-01-17T03:58:18.572Z"
   },
   {
    "duration": 212,
    "start_time": "2023-01-17T03:58:18.718Z"
   },
   {
    "duration": 290,
    "start_time": "2023-01-17T03:58:18.932Z"
   },
   {
    "duration": 62,
    "start_time": "2023-01-17T03:58:19.224Z"
   },
   {
    "duration": 312,
    "start_time": "2023-01-17T03:58:19.288Z"
   },
   {
    "duration": 541,
    "start_time": "2023-01-17T03:58:19.601Z"
   },
   {
    "duration": 23,
    "start_time": "2023-01-17T03:58:20.143Z"
   },
   {
    "duration": 92,
    "start_time": "2023-01-17T03:58:20.168Z"
   },
   {
    "duration": 418,
    "start_time": "2023-01-17T03:58:20.262Z"
   },
   {
    "duration": 261,
    "start_time": "2023-01-17T03:58:20.682Z"
   },
   {
    "duration": 110,
    "start_time": "2023-01-17T03:58:20.949Z"
   },
   {
    "duration": 19,
    "start_time": "2023-01-17T03:58:21.062Z"
   },
   {
    "duration": 20,
    "start_time": "2023-01-17T03:58:21.083Z"
   },
   {
    "duration": 16,
    "start_time": "2023-01-17T03:58:21.105Z"
   },
   {
    "duration": 43,
    "start_time": "2023-01-17T03:58:21.122Z"
   },
   {
    "duration": 16,
    "start_time": "2023-01-17T03:58:21.166Z"
   },
   {
    "duration": 17,
    "start_time": "2023-01-17T03:58:21.183Z"
   },
   {
    "duration": 26,
    "start_time": "2023-01-17T03:58:21.202Z"
   },
   {
    "duration": 39,
    "start_time": "2023-01-17T03:58:21.230Z"
   },
   {
    "duration": 23,
    "start_time": "2023-01-17T03:58:21.271Z"
   },
   {
    "duration": 15,
    "start_time": "2023-01-17T03:58:21.295Z"
   },
   {
    "duration": 378,
    "start_time": "2023-01-17T03:58:21.312Z"
   },
   {
    "duration": 20,
    "start_time": "2023-01-17T03:58:21.694Z"
   },
   {
    "duration": 87,
    "start_time": "2023-01-17T03:58:21.715Z"
   },
   {
    "duration": 78,
    "start_time": "2023-01-17T03:58:21.804Z"
   },
   {
    "duration": 17,
    "start_time": "2023-01-17T03:58:21.884Z"
   },
   {
    "duration": 11,
    "start_time": "2023-01-17T03:58:21.902Z"
   },
   {
    "duration": 172,
    "start_time": "2023-01-17T03:58:21.915Z"
   },
   {
    "duration": 0,
    "start_time": "2023-01-17T03:58:22.089Z"
   },
   {
    "duration": 0,
    "start_time": "2023-01-17T03:58:22.091Z"
   },
   {
    "duration": 52,
    "start_time": "2023-01-17T03:59:12.863Z"
   },
   {
    "duration": 11,
    "start_time": "2023-01-17T03:59:17.994Z"
   },
   {
    "duration": 52,
    "start_time": "2023-01-17T04:01:19.286Z"
   },
   {
    "duration": 1757,
    "start_time": "2023-01-17T06:42:48.387Z"
   },
   {
    "duration": 1192,
    "start_time": "2023-01-17T06:42:50.146Z"
   },
   {
    "duration": 143,
    "start_time": "2023-01-17T06:42:51.340Z"
   },
   {
    "duration": 101,
    "start_time": "2023-01-17T06:42:51.485Z"
   },
   {
    "duration": 164,
    "start_time": "2023-01-17T06:42:51.588Z"
   },
   {
    "duration": 155,
    "start_time": "2023-01-17T06:42:51.754Z"
   },
   {
    "duration": 227,
    "start_time": "2023-01-17T06:42:51.911Z"
   },
   {
    "duration": 244,
    "start_time": "2023-01-17T06:42:52.140Z"
   },
   {
    "duration": 62,
    "start_time": "2023-01-17T06:42:52.386Z"
   },
   {
    "duration": 352,
    "start_time": "2023-01-17T06:42:52.452Z"
   },
   {
    "duration": 562,
    "start_time": "2023-01-17T06:42:52.806Z"
   },
   {
    "duration": 11,
    "start_time": "2023-01-17T06:42:53.370Z"
   },
   {
    "duration": 94,
    "start_time": "2023-01-17T06:42:53.383Z"
   },
   {
    "duration": 425,
    "start_time": "2023-01-17T06:42:53.479Z"
   },
   {
    "duration": 272,
    "start_time": "2023-01-17T06:42:53.906Z"
   },
   {
    "duration": 78,
    "start_time": "2023-01-17T06:42:54.180Z"
   },
   {
    "duration": 16,
    "start_time": "2023-01-17T06:42:54.260Z"
   },
   {
    "duration": 19,
    "start_time": "2023-01-17T06:42:54.278Z"
   },
   {
    "duration": 19,
    "start_time": "2023-01-17T06:42:54.299Z"
   },
   {
    "duration": 33,
    "start_time": "2023-01-17T06:42:54.320Z"
   },
   {
    "duration": 23,
    "start_time": "2023-01-17T06:42:54.354Z"
   },
   {
    "duration": 24,
    "start_time": "2023-01-17T06:42:54.379Z"
   },
   {
    "duration": 38,
    "start_time": "2023-01-17T06:42:54.405Z"
   },
   {
    "duration": 26,
    "start_time": "2023-01-17T06:42:54.445Z"
   },
   {
    "duration": 30,
    "start_time": "2023-01-17T06:42:54.473Z"
   },
   {
    "duration": 23,
    "start_time": "2023-01-17T06:42:54.505Z"
   },
   {
    "duration": 351,
    "start_time": "2023-01-17T06:42:54.538Z"
   },
   {
    "duration": 22,
    "start_time": "2023-01-17T06:42:54.892Z"
   },
   {
    "duration": 76,
    "start_time": "2023-01-17T06:42:54.915Z"
   },
   {
    "duration": 67,
    "start_time": "2023-01-17T06:42:54.993Z"
   },
   {
    "duration": 24,
    "start_time": "2023-01-17T06:42:55.062Z"
   },
   {
    "duration": 12,
    "start_time": "2023-01-17T06:42:55.088Z"
   },
   {
    "duration": 80,
    "start_time": "2023-01-17T06:42:55.102Z"
   },
   {
    "duration": 54,
    "start_time": "2023-01-17T06:42:55.184Z"
   },
   {
    "duration": 1544,
    "start_time": "2023-01-17T06:44:22.516Z"
   },
   {
    "duration": 1145,
    "start_time": "2023-01-17T06:44:24.062Z"
   },
   {
    "duration": 145,
    "start_time": "2023-01-17T06:44:25.208Z"
   },
   {
    "duration": 26,
    "start_time": "2023-01-17T06:44:25.355Z"
   },
   {
    "duration": 106,
    "start_time": "2023-01-17T06:44:25.383Z"
   },
   {
    "duration": 142,
    "start_time": "2023-01-17T06:44:25.491Z"
   },
   {
    "duration": 225,
    "start_time": "2023-01-17T06:44:25.638Z"
   },
   {
    "duration": 258,
    "start_time": "2023-01-17T06:44:25.865Z"
   },
   {
    "duration": 61,
    "start_time": "2023-01-17T06:44:26.125Z"
   },
   {
    "duration": 315,
    "start_time": "2023-01-17T06:44:26.189Z"
   },
   {
    "duration": 521,
    "start_time": "2023-01-17T06:44:26.506Z"
   },
   {
    "duration": 16,
    "start_time": "2023-01-17T06:44:27.028Z"
   },
   {
    "duration": 93,
    "start_time": "2023-01-17T06:44:27.045Z"
   },
   {
    "duration": 409,
    "start_time": "2023-01-17T06:44:27.140Z"
   },
   {
    "duration": 260,
    "start_time": "2023-01-17T06:44:27.550Z"
   },
   {
    "duration": 81,
    "start_time": "2023-01-17T06:44:27.812Z"
   },
   {
    "duration": 18,
    "start_time": "2023-01-17T06:44:27.894Z"
   },
   {
    "duration": 27,
    "start_time": "2023-01-17T06:44:27.914Z"
   },
   {
    "duration": 18,
    "start_time": "2023-01-17T06:44:27.944Z"
   },
   {
    "duration": 20,
    "start_time": "2023-01-17T06:44:27.964Z"
   },
   {
    "duration": 16,
    "start_time": "2023-01-17T06:44:27.986Z"
   },
   {
    "duration": 41,
    "start_time": "2023-01-17T06:44:28.004Z"
   },
   {
    "duration": 31,
    "start_time": "2023-01-17T06:44:28.046Z"
   },
   {
    "duration": 17,
    "start_time": "2023-01-17T06:44:28.079Z"
   },
   {
    "duration": 18,
    "start_time": "2023-01-17T06:44:28.097Z"
   },
   {
    "duration": 31,
    "start_time": "2023-01-17T06:44:28.117Z"
   },
   {
    "duration": 333,
    "start_time": "2023-01-17T06:44:28.149Z"
   },
   {
    "duration": 21,
    "start_time": "2023-01-17T06:44:28.485Z"
   },
   {
    "duration": 78,
    "start_time": "2023-01-17T06:44:28.508Z"
   },
   {
    "duration": 71,
    "start_time": "2023-01-17T06:44:28.587Z"
   },
   {
    "duration": 20,
    "start_time": "2023-01-17T06:44:28.659Z"
   },
   {
    "duration": 12,
    "start_time": "2023-01-17T06:44:28.681Z"
   },
   {
    "duration": 76,
    "start_time": "2023-01-17T06:44:28.695Z"
   },
   {
    "duration": 40,
    "start_time": "2023-01-17T06:44:28.773Z"
   },
   {
    "duration": 23,
    "start_time": "2023-01-17T06:44:28.815Z"
   },
   {
    "duration": 1592,
    "start_time": "2023-01-17T06:44:49.098Z"
   },
   {
    "duration": 1175,
    "start_time": "2023-01-17T06:44:50.693Z"
   },
   {
    "duration": 140,
    "start_time": "2023-01-17T06:44:51.869Z"
   },
   {
    "duration": 35,
    "start_time": "2023-01-17T06:44:52.012Z"
   },
   {
    "duration": 109,
    "start_time": "2023-01-17T06:44:52.049Z"
   },
   {
    "duration": 134,
    "start_time": "2023-01-17T06:44:52.160Z"
   },
   {
    "duration": 207,
    "start_time": "2023-01-17T06:44:52.296Z"
   },
   {
    "duration": 268,
    "start_time": "2023-01-17T06:44:52.505Z"
   },
   {
    "duration": 64,
    "start_time": "2023-01-17T06:44:52.775Z"
   },
   {
    "duration": 321,
    "start_time": "2023-01-17T06:44:52.842Z"
   },
   {
    "duration": 547,
    "start_time": "2023-01-17T06:44:53.164Z"
   },
   {
    "duration": 12,
    "start_time": "2023-01-17T06:44:53.712Z"
   },
   {
    "duration": 86,
    "start_time": "2023-01-17T06:44:53.738Z"
   },
   {
    "duration": 445,
    "start_time": "2023-01-17T06:44:53.826Z"
   },
   {
    "duration": 266,
    "start_time": "2023-01-17T06:44:54.272Z"
   },
   {
    "duration": 69,
    "start_time": "2023-01-17T06:44:54.540Z"
   },
   {
    "duration": 31,
    "start_time": "2023-01-17T06:44:54.610Z"
   },
   {
    "duration": 22,
    "start_time": "2023-01-17T06:44:54.642Z"
   },
   {
    "duration": 25,
    "start_time": "2023-01-17T06:44:54.666Z"
   },
   {
    "duration": 25,
    "start_time": "2023-01-17T06:44:54.693Z"
   },
   {
    "duration": 26,
    "start_time": "2023-01-17T06:44:54.720Z"
   },
   {
    "duration": 29,
    "start_time": "2023-01-17T06:44:54.748Z"
   },
   {
    "duration": 37,
    "start_time": "2023-01-17T06:44:54.779Z"
   },
   {
    "duration": 24,
    "start_time": "2023-01-17T06:44:54.818Z"
   },
   {
    "duration": 26,
    "start_time": "2023-01-17T06:44:54.844Z"
   },
   {
    "duration": 19,
    "start_time": "2023-01-17T06:44:54.872Z"
   },
   {
    "duration": 331,
    "start_time": "2023-01-17T06:44:54.893Z"
   },
   {
    "duration": 25,
    "start_time": "2023-01-17T06:44:55.227Z"
   },
   {
    "duration": 76,
    "start_time": "2023-01-17T06:44:55.254Z"
   },
   {
    "duration": 64,
    "start_time": "2023-01-17T06:44:55.331Z"
   },
   {
    "duration": 24,
    "start_time": "2023-01-17T06:44:55.396Z"
   },
   {
    "duration": 20,
    "start_time": "2023-01-17T06:44:55.422Z"
   },
   {
    "duration": 51,
    "start_time": "2023-01-17T06:44:55.444Z"
   },
   {
    "duration": 60,
    "start_time": "2023-01-17T06:44:55.497Z"
   },
   {
    "duration": 5,
    "start_time": "2023-01-17T06:44:55.559Z"
   },
   {
    "duration": 41,
    "start_time": "2023-01-17T06:44:55.565Z"
   },
   {
    "duration": 1614,
    "start_time": "2023-01-17T07:10:03.986Z"
   },
   {
    "duration": 1142,
    "start_time": "2023-01-17T07:10:05.602Z"
   },
   {
    "duration": 136,
    "start_time": "2023-01-17T07:10:06.746Z"
   },
   {
    "duration": 22,
    "start_time": "2023-01-17T07:10:06.884Z"
   },
   {
    "duration": 112,
    "start_time": "2023-01-17T07:10:06.908Z"
   },
   {
    "duration": 139,
    "start_time": "2023-01-17T07:10:07.022Z"
   },
   {
    "duration": 195,
    "start_time": "2023-01-17T07:10:07.163Z"
   },
   {
    "duration": 208,
    "start_time": "2023-01-17T07:10:07.360Z"
   },
   {
    "duration": 55,
    "start_time": "2023-01-17T07:10:07.571Z"
   },
   {
    "duration": 382,
    "start_time": "2023-01-17T07:10:07.638Z"
   },
   {
    "duration": 516,
    "start_time": "2023-01-17T07:10:08.023Z"
   },
   {
    "duration": 12,
    "start_time": "2023-01-17T07:10:08.541Z"
   },
   {
    "duration": 89,
    "start_time": "2023-01-17T07:10:08.554Z"
   },
   {
    "duration": 486,
    "start_time": "2023-01-17T07:10:08.644Z"
   },
   {
    "duration": 264,
    "start_time": "2023-01-17T07:10:09.137Z"
   },
   {
    "duration": 74,
    "start_time": "2023-01-17T07:10:09.403Z"
   },
   {
    "duration": 17,
    "start_time": "2023-01-17T07:10:09.479Z"
   },
   {
    "duration": 36,
    "start_time": "2023-01-17T07:10:09.498Z"
   },
   {
    "duration": 34,
    "start_time": "2023-01-17T07:10:09.535Z"
   },
   {
    "duration": 41,
    "start_time": "2023-01-17T07:10:09.571Z"
   },
   {
    "duration": 42,
    "start_time": "2023-01-17T07:10:09.614Z"
   },
   {
    "duration": 39,
    "start_time": "2023-01-17T07:10:09.658Z"
   },
   {
    "duration": 50,
    "start_time": "2023-01-17T07:10:09.698Z"
   },
   {
    "duration": 26,
    "start_time": "2023-01-17T07:10:09.750Z"
   },
   {
    "duration": 28,
    "start_time": "2023-01-17T07:10:09.778Z"
   },
   {
    "duration": 39,
    "start_time": "2023-01-17T07:10:09.808Z"
   },
   {
    "duration": 333,
    "start_time": "2023-01-17T07:10:09.849Z"
   },
   {
    "duration": 22,
    "start_time": "2023-01-17T07:10:10.183Z"
   },
   {
    "duration": 94,
    "start_time": "2023-01-17T07:10:10.207Z"
   },
   {
    "duration": 64,
    "start_time": "2023-01-17T07:10:10.303Z"
   },
   {
    "duration": 41,
    "start_time": "2023-01-17T07:10:10.369Z"
   },
   {
    "duration": 17,
    "start_time": "2023-01-17T07:10:10.414Z"
   },
   {
    "duration": 32,
    "start_time": "2023-01-17T07:10:10.433Z"
   },
   {
    "duration": 37,
    "start_time": "2023-01-17T07:10:10.467Z"
   },
   {
    "duration": 44,
    "start_time": "2023-01-17T07:10:10.505Z"
   },
   {
    "duration": 11,
    "start_time": "2023-01-17T07:10:10.551Z"
   },
   {
    "duration": 37,
    "start_time": "2023-01-17T07:10:10.564Z"
   },
   {
    "duration": 1550,
    "start_time": "2023-01-17T07:10:29.523Z"
   },
   {
    "duration": 1131,
    "start_time": "2023-01-17T07:10:31.076Z"
   },
   {
    "duration": 144,
    "start_time": "2023-01-17T07:10:32.208Z"
   },
   {
    "duration": 25,
    "start_time": "2023-01-17T07:10:32.355Z"
   },
   {
    "duration": 123,
    "start_time": "2023-01-17T07:10:32.382Z"
   },
   {
    "duration": 131,
    "start_time": "2023-01-17T07:10:32.506Z"
   },
   {
    "duration": 199,
    "start_time": "2023-01-17T07:10:32.639Z"
   },
   {
    "duration": 270,
    "start_time": "2023-01-17T07:10:32.840Z"
   },
   {
    "duration": 56,
    "start_time": "2023-01-17T07:10:33.112Z"
   },
   {
    "duration": 316,
    "start_time": "2023-01-17T07:10:33.171Z"
   },
   {
    "duration": 519,
    "start_time": "2023-01-17T07:10:33.489Z"
   },
   {
    "duration": 10,
    "start_time": "2023-01-17T07:10:34.010Z"
   },
   {
    "duration": 92,
    "start_time": "2023-01-17T07:10:34.022Z"
   },
   {
    "duration": 423,
    "start_time": "2023-01-17T07:10:34.116Z"
   },
   {
    "duration": 272,
    "start_time": "2023-01-17T07:10:34.541Z"
   },
   {
    "duration": 79,
    "start_time": "2023-01-17T07:10:34.815Z"
   },
   {
    "duration": 20,
    "start_time": "2023-01-17T07:10:34.895Z"
   },
   {
    "duration": 48,
    "start_time": "2023-01-17T07:10:34.917Z"
   },
   {
    "duration": 48,
    "start_time": "2023-01-17T07:10:34.967Z"
   },
   {
    "duration": 63,
    "start_time": "2023-01-17T07:10:35.017Z"
   },
   {
    "duration": 50,
    "start_time": "2023-01-17T07:10:35.081Z"
   },
   {
    "duration": 69,
    "start_time": "2023-01-17T07:10:35.133Z"
   },
   {
    "duration": 57,
    "start_time": "2023-01-17T07:10:35.204Z"
   },
   {
    "duration": 47,
    "start_time": "2023-01-17T07:10:35.262Z"
   },
   {
    "duration": 43,
    "start_time": "2023-01-17T07:10:35.311Z"
   },
   {
    "duration": 49,
    "start_time": "2023-01-17T07:10:35.355Z"
   },
   {
    "duration": 364,
    "start_time": "2023-01-17T07:10:35.407Z"
   },
   {
    "duration": 22,
    "start_time": "2023-01-17T07:10:35.774Z"
   },
   {
    "duration": 131,
    "start_time": "2023-01-17T07:10:35.798Z"
   },
   {
    "duration": 115,
    "start_time": "2023-01-17T07:10:35.931Z"
   },
   {
    "duration": 32,
    "start_time": "2023-01-17T07:10:36.048Z"
   },
   {
    "duration": 15,
    "start_time": "2023-01-17T07:10:36.082Z"
   },
   {
    "duration": 31,
    "start_time": "2023-01-17T07:10:36.099Z"
   },
   {
    "duration": 49,
    "start_time": "2023-01-17T07:10:36.132Z"
   },
   {
    "duration": 45,
    "start_time": "2023-01-17T07:10:36.183Z"
   },
   {
    "duration": 12,
    "start_time": "2023-01-17T07:10:36.230Z"
   },
   {
    "duration": 39,
    "start_time": "2023-01-17T07:10:36.244Z"
   },
   {
    "duration": 1472,
    "start_time": "2023-01-17T07:28:52.686Z"
   },
   {
    "duration": 1063,
    "start_time": "2023-01-17T07:28:54.161Z"
   },
   {
    "duration": 142,
    "start_time": "2023-01-17T07:28:55.226Z"
   },
   {
    "duration": 23,
    "start_time": "2023-01-17T07:28:55.370Z"
   },
   {
    "duration": 112,
    "start_time": "2023-01-17T07:28:55.394Z"
   },
   {
    "duration": 136,
    "start_time": "2023-01-17T07:28:55.508Z"
   },
   {
    "duration": 209,
    "start_time": "2023-01-17T07:28:55.646Z"
   },
   {
    "duration": 224,
    "start_time": "2023-01-17T07:28:55.857Z"
   },
   {
    "duration": 55,
    "start_time": "2023-01-17T07:28:56.083Z"
   },
   {
    "duration": 298,
    "start_time": "2023-01-17T07:28:56.142Z"
   },
   {
    "duration": 490,
    "start_time": "2023-01-17T07:28:56.442Z"
   },
   {
    "duration": 11,
    "start_time": "2023-01-17T07:28:56.934Z"
   },
   {
    "duration": 72,
    "start_time": "2023-01-17T07:28:56.947Z"
   },
   {
    "duration": 405,
    "start_time": "2023-01-17T07:28:57.037Z"
   },
   {
    "duration": 271,
    "start_time": "2023-01-17T07:28:57.445Z"
   },
   {
    "duration": 82,
    "start_time": "2023-01-17T07:28:57.718Z"
   },
   {
    "duration": 19,
    "start_time": "2023-01-17T07:28:57.802Z"
   },
   {
    "duration": 47,
    "start_time": "2023-01-17T07:28:57.823Z"
   },
   {
    "duration": 53,
    "start_time": "2023-01-17T07:28:57.872Z"
   },
   {
    "duration": 36,
    "start_time": "2023-01-17T07:28:57.927Z"
   },
   {
    "duration": 44,
    "start_time": "2023-01-17T07:28:57.965Z"
   },
   {
    "duration": 53,
    "start_time": "2023-01-17T07:28:58.011Z"
   },
   {
    "duration": 39,
    "start_time": "2023-01-17T07:28:58.065Z"
   },
   {
    "duration": 40,
    "start_time": "2023-01-17T07:28:58.106Z"
   },
   {
    "duration": 36,
    "start_time": "2023-01-17T07:28:58.147Z"
   },
   {
    "duration": 48,
    "start_time": "2023-01-17T07:28:58.185Z"
   },
   {
    "duration": 324,
    "start_time": "2023-01-17T07:28:58.235Z"
   },
   {
    "duration": 22,
    "start_time": "2023-01-17T07:28:58.562Z"
   },
   {
    "duration": 87,
    "start_time": "2023-01-17T07:28:58.586Z"
   },
   {
    "duration": 69,
    "start_time": "2023-01-17T07:28:58.675Z"
   },
   {
    "duration": 23,
    "start_time": "2023-01-17T07:28:58.746Z"
   },
   {
    "duration": 8,
    "start_time": "2023-01-17T07:28:58.770Z"
   },
   {
    "duration": 22,
    "start_time": "2023-01-17T07:28:58.780Z"
   },
   {
    "duration": 19,
    "start_time": "2023-01-17T07:28:58.805Z"
   },
   {
    "duration": 69,
    "start_time": "2023-01-17T07:28:58.826Z"
   },
   {
    "duration": 4,
    "start_time": "2023-01-17T07:28:58.897Z"
   },
   {
    "duration": 47,
    "start_time": "2023-01-17T07:28:58.903Z"
   },
   {
    "duration": 7585,
    "start_time": "2023-01-17T07:28:58.953Z"
   },
   {
    "duration": 1437,
    "start_time": "2023-01-17T07:30:52.186Z"
   },
   {
    "duration": 895,
    "start_time": "2023-01-17T07:30:53.624Z"
   },
   {
    "duration": 141,
    "start_time": "2023-01-17T07:30:54.520Z"
   },
   {
    "duration": 22,
    "start_time": "2023-01-17T07:30:54.664Z"
   },
   {
    "duration": 112,
    "start_time": "2023-01-17T07:30:54.688Z"
   },
   {
    "duration": 135,
    "start_time": "2023-01-17T07:30:54.802Z"
   },
   {
    "duration": 193,
    "start_time": "2023-01-17T07:30:54.939Z"
   },
   {
    "duration": 212,
    "start_time": "2023-01-17T07:30:55.138Z"
   },
   {
    "duration": 56,
    "start_time": "2023-01-17T07:30:55.352Z"
   },
   {
    "duration": 323,
    "start_time": "2023-01-17T07:30:55.411Z"
   },
   {
    "duration": 543,
    "start_time": "2023-01-17T07:30:55.738Z"
   },
   {
    "duration": 13,
    "start_time": "2023-01-17T07:30:56.282Z"
   },
   {
    "duration": 90,
    "start_time": "2023-01-17T07:30:56.296Z"
   },
   {
    "duration": 408,
    "start_time": "2023-01-17T07:30:56.388Z"
   },
   {
    "duration": 272,
    "start_time": "2023-01-17T07:30:56.798Z"
   },
   {
    "duration": 85,
    "start_time": "2023-01-17T07:30:57.072Z"
   },
   {
    "duration": 18,
    "start_time": "2023-01-17T07:30:57.158Z"
   },
   {
    "duration": 22,
    "start_time": "2023-01-17T07:30:57.178Z"
   },
   {
    "duration": 23,
    "start_time": "2023-01-17T07:30:57.202Z"
   },
   {
    "duration": 16,
    "start_time": "2023-01-17T07:30:57.238Z"
   },
   {
    "duration": 18,
    "start_time": "2023-01-17T07:30:57.256Z"
   },
   {
    "duration": 19,
    "start_time": "2023-01-17T07:30:57.276Z"
   },
   {
    "duration": 45,
    "start_time": "2023-01-17T07:30:57.297Z"
   },
   {
    "duration": 21,
    "start_time": "2023-01-17T07:30:57.344Z"
   },
   {
    "duration": 33,
    "start_time": "2023-01-17T07:30:57.367Z"
   },
   {
    "duration": 19,
    "start_time": "2023-01-17T07:30:57.402Z"
   },
   {
    "duration": 340,
    "start_time": "2023-01-17T07:30:57.423Z"
   },
   {
    "duration": 22,
    "start_time": "2023-01-17T07:30:57.766Z"
   },
   {
    "duration": 80,
    "start_time": "2023-01-17T07:30:57.790Z"
   },
   {
    "duration": 97,
    "start_time": "2023-01-17T07:30:57.872Z"
   },
   {
    "duration": 22,
    "start_time": "2023-01-17T07:30:57.971Z"
   },
   {
    "duration": 13,
    "start_time": "2023-01-17T07:30:57.997Z"
   },
   {
    "duration": 81,
    "start_time": "2023-01-17T07:30:58.012Z"
   },
   {
    "duration": 57,
    "start_time": "2023-01-17T07:30:58.095Z"
   },
   {
    "duration": 5,
    "start_time": "2023-01-17T07:30:58.154Z"
   },
   {
    "duration": 26,
    "start_time": "2023-01-17T07:30:58.160Z"
   },
   {
    "duration": 9411,
    "start_time": "2023-01-17T07:30:58.187Z"
   },
   {
    "duration": 1569,
    "start_time": "2023-01-17T07:32:43.732Z"
   },
   {
    "duration": 876,
    "start_time": "2023-01-17T07:32:45.303Z"
   },
   {
    "duration": 151,
    "start_time": "2023-01-17T07:32:46.181Z"
   },
   {
    "duration": 23,
    "start_time": "2023-01-17T07:32:46.338Z"
   },
   {
    "duration": 111,
    "start_time": "2023-01-17T07:32:46.363Z"
   },
   {
    "duration": 151,
    "start_time": "2023-01-17T07:32:46.476Z"
   },
   {
    "duration": 199,
    "start_time": "2023-01-17T07:32:46.629Z"
   },
   {
    "duration": 218,
    "start_time": "2023-01-17T07:32:46.830Z"
   },
   {
    "duration": 56,
    "start_time": "2023-01-17T07:32:47.050Z"
   },
   {
    "duration": 337,
    "start_time": "2023-01-17T07:32:47.109Z"
   },
   {
    "duration": 580,
    "start_time": "2023-01-17T07:32:47.448Z"
   },
   {
    "duration": 14,
    "start_time": "2023-01-17T07:32:48.036Z"
   },
   {
    "duration": 101,
    "start_time": "2023-01-17T07:32:48.053Z"
   },
   {
    "duration": 423,
    "start_time": "2023-01-17T07:32:48.156Z"
   },
   {
    "duration": 296,
    "start_time": "2023-01-17T07:32:48.581Z"
   },
   {
    "duration": 94,
    "start_time": "2023-01-17T07:32:48.879Z"
   },
   {
    "duration": 23,
    "start_time": "2023-01-17T07:32:48.975Z"
   },
   {
    "duration": 37,
    "start_time": "2023-01-17T07:32:49.000Z"
   },
   {
    "duration": 22,
    "start_time": "2023-01-17T07:32:49.040Z"
   },
   {
    "duration": 26,
    "start_time": "2023-01-17T07:32:49.064Z"
   },
   {
    "duration": 40,
    "start_time": "2023-01-17T07:32:49.092Z"
   },
   {
    "duration": 29,
    "start_time": "2023-01-17T07:32:49.135Z"
   },
   {
    "duration": 32,
    "start_time": "2023-01-17T07:32:49.166Z"
   },
   {
    "duration": 19,
    "start_time": "2023-01-17T07:32:49.200Z"
   },
   {
    "duration": 20,
    "start_time": "2023-01-17T07:32:49.221Z"
   },
   {
    "duration": 22,
    "start_time": "2023-01-17T07:32:49.243Z"
   },
   {
    "duration": 344,
    "start_time": "2023-01-17T07:32:49.267Z"
   },
   {
    "duration": 34,
    "start_time": "2023-01-17T07:32:49.615Z"
   },
   {
    "duration": 70,
    "start_time": "2023-01-17T07:32:49.651Z"
   },
   {
    "duration": 69,
    "start_time": "2023-01-17T07:32:49.723Z"
   },
   {
    "duration": 20,
    "start_time": "2023-01-17T07:32:49.794Z"
   },
   {
    "duration": 34,
    "start_time": "2023-01-17T07:32:49.816Z"
   },
   {
    "duration": 53,
    "start_time": "2023-01-17T07:32:49.851Z"
   },
   {
    "duration": 57,
    "start_time": "2023-01-17T07:32:49.906Z"
   },
   {
    "duration": 5,
    "start_time": "2023-01-17T07:32:49.965Z"
   },
   {
    "duration": 23,
    "start_time": "2023-01-17T07:32:49.972Z"
   },
   {
    "duration": 8026,
    "start_time": "2023-01-17T07:32:49.997Z"
   },
   {
    "duration": 12,
    "start_time": "2023-01-17T07:36:00.285Z"
   },
   {
    "duration": 13,
    "start_time": "2023-01-17T07:36:24.853Z"
   },
   {
    "duration": 5,
    "start_time": "2023-01-17T07:37:07.272Z"
   },
   {
    "duration": 7588,
    "start_time": "2023-01-17T07:37:12.151Z"
   },
   {
    "duration": 1526,
    "start_time": "2023-01-17T07:46:50.520Z"
   },
   {
    "duration": 866,
    "start_time": "2023-01-17T07:46:52.048Z"
   },
   {
    "duration": 151,
    "start_time": "2023-01-17T07:46:52.916Z"
   },
   {
    "duration": 27,
    "start_time": "2023-01-17T07:46:53.069Z"
   },
   {
    "duration": 110,
    "start_time": "2023-01-17T07:46:53.098Z"
   },
   {
    "duration": 147,
    "start_time": "2023-01-17T07:46:53.210Z"
   },
   {
    "duration": 208,
    "start_time": "2023-01-17T07:46:53.359Z"
   },
   {
    "duration": 270,
    "start_time": "2023-01-17T07:46:53.568Z"
   },
   {
    "duration": 54,
    "start_time": "2023-01-17T07:46:53.840Z"
   },
   {
    "duration": 342,
    "start_time": "2023-01-17T07:46:53.898Z"
   },
   {
    "duration": 563,
    "start_time": "2023-01-17T07:46:54.242Z"
   },
   {
    "duration": 13,
    "start_time": "2023-01-17T07:46:54.808Z"
   },
   {
    "duration": 80,
    "start_time": "2023-01-17T07:46:54.837Z"
   },
   {
    "duration": 441,
    "start_time": "2023-01-17T07:46:54.919Z"
   },
   {
    "duration": 271,
    "start_time": "2023-01-17T07:46:55.362Z"
   },
   {
    "duration": 70,
    "start_time": "2023-01-17T07:46:55.636Z"
   },
   {
    "duration": 19,
    "start_time": "2023-01-17T07:46:55.708Z"
   },
   {
    "duration": 18,
    "start_time": "2023-01-17T07:46:55.738Z"
   },
   {
    "duration": 23,
    "start_time": "2023-01-17T07:46:55.758Z"
   },
   {
    "duration": 21,
    "start_time": "2023-01-17T07:46:55.784Z"
   },
   {
    "duration": 44,
    "start_time": "2023-01-17T07:46:55.807Z"
   },
   {
    "duration": 34,
    "start_time": "2023-01-17T07:46:55.853Z"
   },
   {
    "duration": 35,
    "start_time": "2023-01-17T07:46:55.889Z"
   },
   {
    "duration": 21,
    "start_time": "2023-01-17T07:46:55.926Z"
   },
   {
    "duration": 20,
    "start_time": "2023-01-17T07:46:55.949Z"
   },
   {
    "duration": 25,
    "start_time": "2023-01-17T07:46:55.971Z"
   },
   {
    "duration": 344,
    "start_time": "2023-01-17T07:46:55.998Z"
   },
   {
    "duration": 24,
    "start_time": "2023-01-17T07:46:56.346Z"
   },
   {
    "duration": 85,
    "start_time": "2023-01-17T07:46:56.372Z"
   },
   {
    "duration": 80,
    "start_time": "2023-01-17T07:46:56.459Z"
   },
   {
    "duration": 20,
    "start_time": "2023-01-17T07:46:56.541Z"
   },
   {
    "duration": 13,
    "start_time": "2023-01-17T07:46:56.563Z"
   },
   {
    "duration": 84,
    "start_time": "2023-01-17T07:46:56.578Z"
   },
   {
    "duration": 35,
    "start_time": "2023-01-17T07:46:56.664Z"
   },
   {
    "duration": 5,
    "start_time": "2023-01-17T07:46:56.701Z"
   },
   {
    "duration": 48,
    "start_time": "2023-01-17T07:46:56.708Z"
   },
   {
    "duration": 3193,
    "start_time": "2023-01-17T07:46:56.758Z"
   },
   {
    "duration": 10,
    "start_time": "2023-01-17T07:48:19.568Z"
   },
   {
    "duration": 1492,
    "start_time": "2023-01-17T07:48:25.350Z"
   },
   {
    "duration": 871,
    "start_time": "2023-01-17T07:48:26.844Z"
   },
   {
    "duration": 152,
    "start_time": "2023-01-17T07:48:27.716Z"
   },
   {
    "duration": 22,
    "start_time": "2023-01-17T07:48:27.871Z"
   },
   {
    "duration": 108,
    "start_time": "2023-01-17T07:48:27.896Z"
   },
   {
    "duration": 146,
    "start_time": "2023-01-17T07:48:28.006Z"
   },
   {
    "duration": 184,
    "start_time": "2023-01-17T07:48:28.154Z"
   },
   {
    "duration": 208,
    "start_time": "2023-01-17T07:48:28.340Z"
   },
   {
    "duration": 54,
    "start_time": "2023-01-17T07:48:28.550Z"
   },
   {
    "duration": 366,
    "start_time": "2023-01-17T07:48:28.607Z"
   },
   {
    "duration": 553,
    "start_time": "2023-01-17T07:48:28.975Z"
   },
   {
    "duration": 12,
    "start_time": "2023-01-17T07:48:29.537Z"
   },
   {
    "duration": 89,
    "start_time": "2023-01-17T07:48:29.550Z"
   },
   {
    "duration": 423,
    "start_time": "2023-01-17T07:48:29.641Z"
   },
   {
    "duration": 267,
    "start_time": "2023-01-17T07:48:30.066Z"
   },
   {
    "duration": 73,
    "start_time": "2023-01-17T07:48:30.337Z"
   },
   {
    "duration": 30,
    "start_time": "2023-01-17T07:48:30.412Z"
   },
   {
    "duration": 25,
    "start_time": "2023-01-17T07:48:30.444Z"
   },
   {
    "duration": 24,
    "start_time": "2023-01-17T07:48:30.471Z"
   },
   {
    "duration": 26,
    "start_time": "2023-01-17T07:48:30.497Z"
   },
   {
    "duration": 29,
    "start_time": "2023-01-17T07:48:30.525Z"
   },
   {
    "duration": 17,
    "start_time": "2023-01-17T07:48:30.557Z"
   },
   {
    "duration": 32,
    "start_time": "2023-01-17T07:48:30.576Z"
   },
   {
    "duration": 31,
    "start_time": "2023-01-17T07:48:30.610Z"
   },
   {
    "duration": 26,
    "start_time": "2023-01-17T07:48:30.644Z"
   },
   {
    "duration": 34,
    "start_time": "2023-01-17T07:48:30.672Z"
   },
   {
    "duration": 365,
    "start_time": "2023-01-17T07:48:30.707Z"
   },
   {
    "duration": 22,
    "start_time": "2023-01-17T07:48:31.076Z"
   },
   {
    "duration": 113,
    "start_time": "2023-01-17T07:48:31.100Z"
   },
   {
    "duration": 100,
    "start_time": "2023-01-17T07:48:31.215Z"
   },
   {
    "duration": 60,
    "start_time": "2023-01-17T07:48:31.317Z"
   },
   {
    "duration": 1292,
    "start_time": "2023-01-17T07:48:31.379Z"
   },
   {
    "duration": 0,
    "start_time": "2023-01-17T07:48:32.673Z"
   },
   {
    "duration": 0,
    "start_time": "2023-01-17T07:48:32.675Z"
   },
   {
    "duration": 0,
    "start_time": "2023-01-17T07:48:32.676Z"
   },
   {
    "duration": 0,
    "start_time": "2023-01-17T07:48:32.678Z"
   },
   {
    "duration": 0,
    "start_time": "2023-01-17T07:48:32.679Z"
   },
   {
    "duration": 0,
    "start_time": "2023-01-17T07:48:32.680Z"
   },
   {
    "duration": 27,
    "start_time": "2023-01-17T07:48:47.587Z"
   },
   {
    "duration": 12,
    "start_time": "2023-01-17T07:50:20.031Z"
   },
   {
    "duration": 1932,
    "start_time": "2023-01-17T07:50:21.639Z"
   },
   {
    "duration": 63,
    "start_time": "2023-01-17T07:50:58.903Z"
   },
   {
    "duration": 36,
    "start_time": "2023-01-17T07:51:02.030Z"
   },
   {
    "duration": 2,
    "start_time": "2023-01-17T07:51:02.406Z"
   },
   {
    "duration": 21,
    "start_time": "2023-01-17T07:51:02.894Z"
   },
   {
    "duration": 2612,
    "start_time": "2023-01-17T07:51:05.671Z"
   },
   {
    "duration": 11,
    "start_time": "2023-01-17T07:52:02.640Z"
   },
   {
    "duration": 1448,
    "start_time": "2023-01-17T07:52:16.093Z"
   },
   {
    "duration": 849,
    "start_time": "2023-01-17T07:52:17.544Z"
   },
   {
    "duration": 150,
    "start_time": "2023-01-17T07:52:18.394Z"
   },
   {
    "duration": 25,
    "start_time": "2023-01-17T07:52:18.546Z"
   },
   {
    "duration": 102,
    "start_time": "2023-01-17T07:52:18.574Z"
   },
   {
    "duration": 137,
    "start_time": "2023-01-17T07:52:18.678Z"
   },
   {
    "duration": 258,
    "start_time": "2023-01-17T07:52:18.818Z"
   },
   {
    "duration": 233,
    "start_time": "2023-01-17T07:52:19.078Z"
   },
   {
    "duration": 61,
    "start_time": "2023-01-17T07:52:19.313Z"
   },
   {
    "duration": 322,
    "start_time": "2023-01-17T07:52:19.376Z"
   },
   {
    "duration": 530,
    "start_time": "2023-01-17T07:52:19.700Z"
   },
   {
    "duration": 13,
    "start_time": "2023-01-17T07:52:20.236Z"
   },
   {
    "duration": 94,
    "start_time": "2023-01-17T07:52:20.250Z"
   },
   {
    "duration": 390,
    "start_time": "2023-01-17T07:52:20.347Z"
   },
   {
    "duration": 266,
    "start_time": "2023-01-17T07:52:20.739Z"
   },
   {
    "duration": 78,
    "start_time": "2023-01-17T07:52:21.007Z"
   },
   {
    "duration": 18,
    "start_time": "2023-01-17T07:52:21.087Z"
   },
   {
    "duration": 42,
    "start_time": "2023-01-17T07:52:21.107Z"
   },
   {
    "duration": 42,
    "start_time": "2023-01-17T07:52:21.151Z"
   },
   {
    "duration": 35,
    "start_time": "2023-01-17T07:52:21.195Z"
   },
   {
    "duration": 39,
    "start_time": "2023-01-17T07:52:21.232Z"
   },
   {
    "duration": 27,
    "start_time": "2023-01-17T07:52:21.273Z"
   },
   {
    "duration": 55,
    "start_time": "2023-01-17T07:52:21.302Z"
   },
   {
    "duration": 43,
    "start_time": "2023-01-17T07:52:21.359Z"
   },
   {
    "duration": 37,
    "start_time": "2023-01-17T07:52:21.404Z"
   },
   {
    "duration": 29,
    "start_time": "2023-01-17T07:52:21.443Z"
   },
   {
    "duration": 336,
    "start_time": "2023-01-17T07:52:21.474Z"
   },
   {
    "duration": 31,
    "start_time": "2023-01-17T07:52:21.811Z"
   },
   {
    "duration": 66,
    "start_time": "2023-01-17T07:52:21.844Z"
   },
   {
    "duration": 78,
    "start_time": "2023-01-17T07:52:21.911Z"
   },
   {
    "duration": 33,
    "start_time": "2023-01-17T07:52:21.991Z"
   },
   {
    "duration": 43,
    "start_time": "2023-01-17T07:52:22.026Z"
   },
   {
    "duration": 29,
    "start_time": "2023-01-17T07:52:22.071Z"
   },
   {
    "duration": 139,
    "start_time": "2023-01-17T07:52:22.102Z"
   },
   {
    "duration": 0,
    "start_time": "2023-01-17T07:52:22.243Z"
   },
   {
    "duration": 0,
    "start_time": "2023-01-17T07:52:22.244Z"
   },
   {
    "duration": 0,
    "start_time": "2023-01-17T07:52:22.245Z"
   },
   {
    "duration": 0,
    "start_time": "2023-01-17T07:52:22.246Z"
   },
   {
    "duration": 0,
    "start_time": "2023-01-17T07:52:22.248Z"
   },
   {
    "duration": 12,
    "start_time": "2023-01-17T07:52:52.525Z"
   },
   {
    "duration": 233,
    "start_time": "2023-01-17T07:53:20.603Z"
   },
   {
    "duration": 42,
    "start_time": "2023-01-17T07:53:36.453Z"
   },
   {
    "duration": 55,
    "start_time": "2023-01-17T07:53:52.715Z"
   },
   {
    "duration": 11,
    "start_time": "2023-01-17T07:54:03.524Z"
   },
   {
    "duration": 10,
    "start_time": "2023-01-17T07:54:11.452Z"
   },
   {
    "duration": 11,
    "start_time": "2023-01-17T07:54:21.630Z"
   },
   {
    "duration": 5,
    "start_time": "2023-01-17T07:54:30.296Z"
   },
   {
    "duration": 2589,
    "start_time": "2023-01-17T07:54:39.956Z"
   },
   {
    "duration": 11,
    "start_time": "2023-01-17T08:38:29.892Z"
   },
   {
    "duration": 1533,
    "start_time": "2023-01-17T08:38:35.841Z"
   },
   {
    "duration": 864,
    "start_time": "2023-01-17T08:38:37.376Z"
   },
   {
    "duration": 142,
    "start_time": "2023-01-17T08:38:38.242Z"
   },
   {
    "duration": 33,
    "start_time": "2023-01-17T08:38:38.387Z"
   },
   {
    "duration": 102,
    "start_time": "2023-01-17T08:38:38.422Z"
   },
   {
    "duration": 137,
    "start_time": "2023-01-17T08:38:38.526Z"
   },
   {
    "duration": 208,
    "start_time": "2023-01-17T08:38:38.665Z"
   },
   {
    "duration": 248,
    "start_time": "2023-01-17T08:38:38.875Z"
   },
   {
    "duration": 58,
    "start_time": "2023-01-17T08:38:39.124Z"
   },
   {
    "duration": 317,
    "start_time": "2023-01-17T08:38:39.184Z"
   },
   {
    "duration": 507,
    "start_time": "2023-01-17T08:38:39.502Z"
   },
   {
    "duration": 11,
    "start_time": "2023-01-17T08:38:40.010Z"
   },
   {
    "duration": 88,
    "start_time": "2023-01-17T08:38:40.036Z"
   },
   {
    "duration": 399,
    "start_time": "2023-01-17T08:38:40.126Z"
   },
   {
    "duration": 261,
    "start_time": "2023-01-17T08:38:40.528Z"
   },
   {
    "duration": 81,
    "start_time": "2023-01-17T08:38:40.791Z"
   },
   {
    "duration": 19,
    "start_time": "2023-01-17T08:38:40.873Z"
   },
   {
    "duration": 61,
    "start_time": "2023-01-17T08:38:40.894Z"
   },
   {
    "duration": 62,
    "start_time": "2023-01-17T08:38:40.957Z"
   },
   {
    "duration": 52,
    "start_time": "2023-01-17T08:38:41.021Z"
   },
   {
    "duration": 67,
    "start_time": "2023-01-17T08:38:41.075Z"
   },
   {
    "duration": 49,
    "start_time": "2023-01-17T08:38:41.144Z"
   },
   {
    "duration": 57,
    "start_time": "2023-01-17T08:38:41.195Z"
   },
   {
    "duration": 67,
    "start_time": "2023-01-17T08:38:41.254Z"
   },
   {
    "duration": 45,
    "start_time": "2023-01-17T08:38:41.323Z"
   },
   {
    "duration": 68,
    "start_time": "2023-01-17T08:38:41.370Z"
   },
   {
    "duration": 375,
    "start_time": "2023-01-17T08:38:41.440Z"
   },
   {
    "duration": 30,
    "start_time": "2023-01-17T08:38:41.819Z"
   },
   {
    "duration": 85,
    "start_time": "2023-01-17T08:38:41.855Z"
   },
   {
    "duration": 70,
    "start_time": "2023-01-17T08:38:41.942Z"
   },
   {
    "duration": 46,
    "start_time": "2023-01-17T08:38:42.013Z"
   },
   {
    "duration": 48,
    "start_time": "2023-01-17T08:38:42.061Z"
   },
   {
    "duration": 29,
    "start_time": "2023-01-17T08:38:42.111Z"
   },
   {
    "duration": 108,
    "start_time": "2023-01-17T08:38:42.142Z"
   },
   {
    "duration": 53,
    "start_time": "2023-01-17T08:38:42.252Z"
   },
   {
    "duration": 60,
    "start_time": "2023-01-17T08:38:42.307Z"
   },
   {
    "duration": 7,
    "start_time": "2023-01-17T08:38:42.369Z"
   },
   {
    "duration": 81,
    "start_time": "2023-01-17T08:38:42.377Z"
   },
   {
    "duration": 123,
    "start_time": "2023-01-17T08:38:42.460Z"
   },
   {
    "duration": 2007,
    "start_time": "2023-01-17T08:39:16.477Z"
   },
   {
    "duration": 1498,
    "start_time": "2023-01-17T08:40:21.667Z"
   },
   {
    "duration": 888,
    "start_time": "2023-01-17T08:40:23.167Z"
   },
   {
    "duration": 152,
    "start_time": "2023-01-17T08:40:24.056Z"
   },
   {
    "duration": 33,
    "start_time": "2023-01-17T08:40:24.211Z"
   },
   {
    "duration": 107,
    "start_time": "2023-01-17T08:40:24.246Z"
   },
   {
    "duration": 129,
    "start_time": "2023-01-17T08:40:24.355Z"
   },
   {
    "duration": 200,
    "start_time": "2023-01-17T08:40:24.486Z"
   },
   {
    "duration": 274,
    "start_time": "2023-01-17T08:40:24.689Z"
   },
   {
    "duration": 52,
    "start_time": "2023-01-17T08:40:24.965Z"
   },
   {
    "duration": 322,
    "start_time": "2023-01-17T08:40:25.020Z"
   },
   {
    "duration": 544,
    "start_time": "2023-01-17T08:40:25.343Z"
   },
   {
    "duration": 13,
    "start_time": "2023-01-17T08:40:25.890Z"
   },
   {
    "duration": 94,
    "start_time": "2023-01-17T08:40:25.904Z"
   },
   {
    "duration": 428,
    "start_time": "2023-01-17T08:40:26.001Z"
   },
   {
    "duration": 275,
    "start_time": "2023-01-17T08:40:26.431Z"
   },
   {
    "duration": 79,
    "start_time": "2023-01-17T08:40:26.707Z"
   },
   {
    "duration": 17,
    "start_time": "2023-01-17T08:40:26.788Z"
   },
   {
    "duration": 27,
    "start_time": "2023-01-17T08:40:26.807Z"
   },
   {
    "duration": 39,
    "start_time": "2023-01-17T08:40:26.836Z"
   },
   {
    "duration": 34,
    "start_time": "2023-01-17T08:40:26.877Z"
   },
   {
    "duration": 31,
    "start_time": "2023-01-17T08:40:26.913Z"
   },
   {
    "duration": 27,
    "start_time": "2023-01-17T08:40:26.946Z"
   },
   {
    "duration": 40,
    "start_time": "2023-01-17T08:40:26.975Z"
   },
   {
    "duration": 44,
    "start_time": "2023-01-17T08:40:27.016Z"
   },
   {
    "duration": 32,
    "start_time": "2023-01-17T08:40:27.062Z"
   },
   {
    "duration": 34,
    "start_time": "2023-01-17T08:40:27.096Z"
   },
   {
    "duration": 322,
    "start_time": "2023-01-17T08:40:27.132Z"
   },
   {
    "duration": 22,
    "start_time": "2023-01-17T08:40:27.457Z"
   },
   {
    "duration": 88,
    "start_time": "2023-01-17T08:40:27.481Z"
   },
   {
    "duration": 79,
    "start_time": "2023-01-17T08:40:27.571Z"
   },
   {
    "duration": 27,
    "start_time": "2023-01-17T08:40:27.651Z"
   },
   {
    "duration": 28,
    "start_time": "2023-01-17T08:40:27.680Z"
   },
   {
    "duration": 51,
    "start_time": "2023-01-17T08:40:27.710Z"
   },
   {
    "duration": 54,
    "start_time": "2023-01-17T08:40:27.763Z"
   },
   {
    "duration": 43,
    "start_time": "2023-01-17T08:40:27.819Z"
   },
   {
    "duration": 21,
    "start_time": "2023-01-17T08:40:27.864Z"
   },
   {
    "duration": 57,
    "start_time": "2023-01-17T08:40:27.887Z"
   },
   {
    "duration": 4213,
    "start_time": "2023-01-17T08:40:27.946Z"
   },
   {
    "duration": 6938,
    "start_time": "2023-01-17T08:41:24.242Z"
   },
   {
    "duration": 94,
    "start_time": "2023-01-17T08:49:34.973Z"
   },
   {
    "duration": 76,
    "start_time": "2023-01-17T08:49:46.639Z"
   },
   {
    "duration": 85,
    "start_time": "2023-01-17T08:49:59.840Z"
   },
   {
    "duration": 130,
    "start_time": "2023-01-17T08:50:06.639Z"
   },
   {
    "duration": 1019,
    "start_time": "2023-01-17T08:50:20.399Z"
   },
   {
    "duration": 6857,
    "start_time": "2023-01-17T08:51:23.689Z"
   },
   {
    "duration": 7022,
    "start_time": "2023-01-17T08:51:40.861Z"
   },
   {
    "duration": 136855,
    "start_time": "2023-01-17T08:52:36.068Z"
   },
   {
    "duration": 13,
    "start_time": "2023-01-17T11:01:15.930Z"
   },
   {
    "duration": 10090,
    "start_time": "2023-01-17T11:02:09.902Z"
   },
   {
    "duration": 34630,
    "start_time": "2023-01-17T11:02:34.157Z"
   },
   {
    "duration": 1563,
    "start_time": "2023-01-17T16:52:14.262Z"
   },
   {
    "duration": 2893,
    "start_time": "2023-01-17T16:52:15.827Z"
   },
   {
    "duration": 136,
    "start_time": "2023-01-17T16:52:18.724Z"
   },
   {
    "duration": 31,
    "start_time": "2023-01-17T16:52:18.863Z"
   },
   {
    "duration": 101,
    "start_time": "2023-01-17T16:52:18.896Z"
   },
   {
    "duration": 124,
    "start_time": "2023-01-17T16:52:18.999Z"
   },
   {
    "duration": 194,
    "start_time": "2023-01-17T16:52:19.126Z"
   },
   {
    "duration": 272,
    "start_time": "2023-01-17T16:52:19.323Z"
   },
   {
    "duration": 58,
    "start_time": "2023-01-17T16:52:19.596Z"
   },
   {
    "duration": 316,
    "start_time": "2023-01-17T16:52:19.657Z"
   },
   {
    "duration": 480,
    "start_time": "2023-01-17T16:52:19.974Z"
   },
   {
    "duration": 12,
    "start_time": "2023-01-17T16:52:20.456Z"
   },
   {
    "duration": 91,
    "start_time": "2023-01-17T16:52:20.470Z"
   },
   {
    "duration": 367,
    "start_time": "2023-01-17T16:52:20.563Z"
   },
   {
    "duration": 256,
    "start_time": "2023-01-17T16:52:20.932Z"
   },
   {
    "duration": 82,
    "start_time": "2023-01-17T16:52:21.190Z"
   },
   {
    "duration": 15,
    "start_time": "2023-01-17T16:52:21.274Z"
   },
   {
    "duration": 16,
    "start_time": "2023-01-17T16:52:21.291Z"
   },
   {
    "duration": 35,
    "start_time": "2023-01-17T16:52:21.309Z"
   },
   {
    "duration": 23,
    "start_time": "2023-01-17T16:52:21.346Z"
   },
   {
    "duration": 27,
    "start_time": "2023-01-17T16:52:21.371Z"
   },
   {
    "duration": 14,
    "start_time": "2023-01-17T16:52:21.400Z"
   },
   {
    "duration": 27,
    "start_time": "2023-01-17T16:52:21.416Z"
   },
   {
    "duration": 16,
    "start_time": "2023-01-17T16:52:21.445Z"
   },
   {
    "duration": 15,
    "start_time": "2023-01-17T16:52:21.462Z"
   },
   {
    "duration": 17,
    "start_time": "2023-01-17T16:52:21.479Z"
   },
   {
    "duration": 297,
    "start_time": "2023-01-17T16:52:21.497Z"
   },
   {
    "duration": 22,
    "start_time": "2023-01-17T16:52:21.798Z"
   },
   {
    "duration": 66,
    "start_time": "2023-01-17T16:52:21.823Z"
   },
   {
    "duration": 58,
    "start_time": "2023-01-17T16:52:21.891Z"
   },
   {
    "duration": 21,
    "start_time": "2023-01-17T16:52:21.951Z"
   },
   {
    "duration": 24,
    "start_time": "2023-01-17T16:52:21.974Z"
   },
   {
    "duration": 39,
    "start_time": "2023-01-17T16:52:22.000Z"
   },
   {
    "duration": 55,
    "start_time": "2023-01-17T16:52:22.041Z"
   },
   {
    "duration": 52,
    "start_time": "2023-01-17T16:52:22.098Z"
   },
   {
    "duration": 5,
    "start_time": "2023-01-17T16:52:22.152Z"
   },
   {
    "duration": 31,
    "start_time": "2023-01-17T16:52:22.159Z"
   },
   {
    "duration": 31186,
    "start_time": "2023-01-17T16:52:22.192Z"
   },
   {
    "duration": 128,
    "start_time": "2023-01-17T16:57:43.251Z"
   },
   {
    "duration": 11,
    "start_time": "2023-01-17T17:00:32.705Z"
   },
   {
    "duration": 4,
    "start_time": "2023-01-17T17:01:19.109Z"
   },
   {
    "duration": 21,
    "start_time": "2023-01-17T17:01:24.643Z"
   },
   {
    "duration": 62,
    "start_time": "2023-01-17T17:05:30.172Z"
   },
   {
    "duration": 58,
    "start_time": "2023-01-17T17:05:54.108Z"
   },
   {
    "duration": 83,
    "start_time": "2023-01-17T17:09:03.627Z"
   },
   {
    "duration": 300,
    "start_time": "2023-01-17T17:10:31.284Z"
   },
   {
    "duration": 450019,
    "start_time": "2023-01-17T17:11:11.678Z"
   },
   {
    "duration": 20,
    "start_time": "2023-01-17T17:22:23.582Z"
   },
   {
    "duration": 4,
    "start_time": "2023-01-17T17:23:26.922Z"
   },
   {
    "duration": 4,
    "start_time": "2023-01-17T17:23:51.978Z"
   },
   {
    "duration": 47,
    "start_time": "2023-01-17T17:28:23.995Z"
   },
   {
    "duration": 4,
    "start_time": "2023-01-17T17:28:29.146Z"
   },
   {
    "duration": 62,
    "start_time": "2023-01-17T17:28:33.282Z"
   },
   {
    "duration": 57,
    "start_time": "2023-01-17T17:31:05.208Z"
   },
   {
    "duration": 2450,
    "start_time": "2023-01-17T17:31:14.912Z"
   },
   {
    "duration": 13,
    "start_time": "2023-01-17T17:40:56.776Z"
   },
   {
    "duration": 1432,
    "start_time": "2023-01-17T17:45:38.370Z"
   },
   {
    "duration": 827,
    "start_time": "2023-01-17T17:45:39.804Z"
   },
   {
    "duration": 134,
    "start_time": "2023-01-17T17:45:40.632Z"
   },
   {
    "duration": 22,
    "start_time": "2023-01-17T17:45:40.768Z"
   },
   {
    "duration": 98,
    "start_time": "2023-01-17T17:45:40.792Z"
   },
   {
    "duration": 122,
    "start_time": "2023-01-17T17:45:40.892Z"
   },
   {
    "duration": 184,
    "start_time": "2023-01-17T17:45:41.015Z"
   },
   {
    "duration": 210,
    "start_time": "2023-01-17T17:45:41.201Z"
   },
   {
    "duration": 66,
    "start_time": "2023-01-17T17:45:41.413Z"
   },
   {
    "duration": 327,
    "start_time": "2023-01-17T17:45:41.482Z"
   },
   {
    "duration": 478,
    "start_time": "2023-01-17T17:45:41.811Z"
   },
   {
    "duration": 12,
    "start_time": "2023-01-17T17:45:42.290Z"
   },
   {
    "duration": 101,
    "start_time": "2023-01-17T17:45:42.304Z"
   },
   {
    "duration": 388,
    "start_time": "2023-01-17T17:45:42.407Z"
   },
   {
    "duration": 269,
    "start_time": "2023-01-17T17:45:42.797Z"
   },
   {
    "duration": 77,
    "start_time": "2023-01-17T17:45:43.067Z"
   },
   {
    "duration": 15,
    "start_time": "2023-01-17T17:45:43.146Z"
   },
   {
    "duration": 16,
    "start_time": "2023-01-17T17:45:43.163Z"
   },
   {
    "duration": 17,
    "start_time": "2023-01-17T17:45:43.181Z"
   },
   {
    "duration": 43,
    "start_time": "2023-01-17T17:45:43.199Z"
   },
   {
    "duration": 15,
    "start_time": "2023-01-17T17:45:43.244Z"
   },
   {
    "duration": 15,
    "start_time": "2023-01-17T17:45:43.261Z"
   },
   {
    "duration": 28,
    "start_time": "2023-01-17T17:45:43.278Z"
   },
   {
    "duration": 45,
    "start_time": "2023-01-17T17:45:43.308Z"
   },
   {
    "duration": 18,
    "start_time": "2023-01-17T17:45:43.354Z"
   },
   {
    "duration": 27,
    "start_time": "2023-01-17T17:45:43.374Z"
   },
   {
    "duration": 305,
    "start_time": "2023-01-17T17:45:43.403Z"
   },
   {
    "duration": 34,
    "start_time": "2023-01-17T17:45:43.712Z"
   },
   {
    "duration": 54,
    "start_time": "2023-01-17T17:45:43.747Z"
   },
   {
    "duration": 68,
    "start_time": "2023-01-17T17:45:43.803Z"
   },
   {
    "duration": 20,
    "start_time": "2023-01-17T17:45:43.872Z"
   },
   {
    "duration": 21,
    "start_time": "2023-01-17T17:45:43.894Z"
   },
   {
    "duration": 46,
    "start_time": "2023-01-17T17:45:43.917Z"
   },
   {
    "duration": 0,
    "start_time": "2023-01-17T17:45:43.965Z"
   },
   {
    "duration": 0,
    "start_time": "2023-01-17T17:45:43.966Z"
   },
   {
    "duration": 0,
    "start_time": "2023-01-17T17:45:43.967Z"
   },
   {
    "duration": 0,
    "start_time": "2023-01-17T17:45:43.968Z"
   },
   {
    "duration": 0,
    "start_time": "2023-01-17T17:45:43.969Z"
   },
   {
    "duration": 0,
    "start_time": "2023-01-17T17:45:43.970Z"
   },
   {
    "duration": 0,
    "start_time": "2023-01-17T17:45:43.972Z"
   },
   {
    "duration": 0,
    "start_time": "2023-01-17T17:45:43.973Z"
   },
   {
    "duration": 0,
    "start_time": "2023-01-17T17:45:43.974Z"
   },
   {
    "duration": 0,
    "start_time": "2023-01-17T17:45:43.975Z"
   },
   {
    "duration": 0,
    "start_time": "2023-01-17T17:45:43.976Z"
   },
   {
    "duration": 0,
    "start_time": "2023-01-17T17:45:43.977Z"
   },
   {
    "duration": 0,
    "start_time": "2023-01-17T17:45:43.978Z"
   },
   {
    "duration": 0,
    "start_time": "2023-01-17T17:45:43.979Z"
   },
   {
    "duration": 13,
    "start_time": "2023-01-17T17:45:52.449Z"
   },
   {
    "duration": 55,
    "start_time": "2023-01-17T17:45:54.719Z"
   },
   {
    "duration": 123,
    "start_time": "2023-01-17T17:46:14.832Z"
   },
   {
    "duration": 66,
    "start_time": "2023-01-17T17:46:18.784Z"
   },
   {
    "duration": 12922,
    "start_time": "2023-01-17T17:46:29.633Z"
   },
   {
    "duration": 1487,
    "start_time": "2023-01-17T17:47:35.406Z"
   },
   {
    "duration": 899,
    "start_time": "2023-01-17T17:47:36.895Z"
   },
   {
    "duration": 121,
    "start_time": "2023-01-17T17:47:37.795Z"
   },
   {
    "duration": 36,
    "start_time": "2023-01-17T17:47:37.919Z"
   },
   {
    "duration": 88,
    "start_time": "2023-01-17T17:47:37.956Z"
   },
   {
    "duration": 119,
    "start_time": "2023-01-17T17:47:38.046Z"
   },
   {
    "duration": 207,
    "start_time": "2023-01-17T17:47:38.167Z"
   },
   {
    "duration": 243,
    "start_time": "2023-01-17T17:47:38.376Z"
   },
   {
    "duration": 59,
    "start_time": "2023-01-17T17:47:38.621Z"
   },
   {
    "duration": 308,
    "start_time": "2023-01-17T17:47:38.683Z"
   },
   {
    "duration": 556,
    "start_time": "2023-01-17T17:47:38.993Z"
   },
   {
    "duration": 11,
    "start_time": "2023-01-17T17:47:39.551Z"
   },
   {
    "duration": 105,
    "start_time": "2023-01-17T17:47:39.563Z"
   },
   {
    "duration": 388,
    "start_time": "2023-01-17T17:47:39.669Z"
   },
   {
    "duration": 278,
    "start_time": "2023-01-17T17:47:40.058Z"
   },
   {
    "duration": 72,
    "start_time": "2023-01-17T17:47:40.338Z"
   },
   {
    "duration": 34,
    "start_time": "2023-01-17T17:47:40.412Z"
   },
   {
    "duration": 45,
    "start_time": "2023-01-17T17:47:40.447Z"
   },
   {
    "duration": 31,
    "start_time": "2023-01-17T17:47:40.494Z"
   },
   {
    "duration": 37,
    "start_time": "2023-01-17T17:47:40.527Z"
   },
   {
    "duration": 36,
    "start_time": "2023-01-17T17:47:40.566Z"
   },
   {
    "duration": 26,
    "start_time": "2023-01-17T17:47:40.604Z"
   },
   {
    "duration": 49,
    "start_time": "2023-01-17T17:47:40.631Z"
   },
   {
    "duration": 22,
    "start_time": "2023-01-17T17:47:40.682Z"
   },
   {
    "duration": 39,
    "start_time": "2023-01-17T17:47:40.706Z"
   },
   {
    "duration": 34,
    "start_time": "2023-01-17T17:47:40.747Z"
   },
   {
    "duration": 312,
    "start_time": "2023-01-17T17:47:40.783Z"
   },
   {
    "duration": 38,
    "start_time": "2023-01-17T17:47:41.099Z"
   },
   {
    "duration": 56,
    "start_time": "2023-01-17T17:47:41.139Z"
   },
   {
    "duration": 71,
    "start_time": "2023-01-17T17:47:41.196Z"
   },
   {
    "duration": 33,
    "start_time": "2023-01-17T17:47:41.269Z"
   },
   {
    "duration": 42,
    "start_time": "2023-01-17T17:47:41.304Z"
   },
   {
    "duration": 51,
    "start_time": "2023-01-17T17:47:41.349Z"
   },
   {
    "duration": 0,
    "start_time": "2023-01-17T17:47:41.402Z"
   },
   {
    "duration": 0,
    "start_time": "2023-01-17T17:47:41.403Z"
   },
   {
    "duration": 0,
    "start_time": "2023-01-17T17:47:41.404Z"
   },
   {
    "duration": 0,
    "start_time": "2023-01-17T17:47:41.405Z"
   },
   {
    "duration": 0,
    "start_time": "2023-01-17T17:47:41.407Z"
   },
   {
    "duration": 0,
    "start_time": "2023-01-17T17:47:41.407Z"
   },
   {
    "duration": 0,
    "start_time": "2023-01-17T17:47:41.409Z"
   },
   {
    "duration": 0,
    "start_time": "2023-01-17T17:47:41.410Z"
   },
   {
    "duration": 0,
    "start_time": "2023-01-17T17:47:41.411Z"
   },
   {
    "duration": 0,
    "start_time": "2023-01-17T17:47:41.412Z"
   },
   {
    "duration": 0,
    "start_time": "2023-01-17T17:47:41.413Z"
   },
   {
    "duration": 0,
    "start_time": "2023-01-17T17:47:41.414Z"
   },
   {
    "duration": 0,
    "start_time": "2023-01-17T17:47:41.415Z"
   },
   {
    "duration": 0,
    "start_time": "2023-01-17T17:47:41.416Z"
   },
   {
    "duration": 15,
    "start_time": "2023-01-17T17:47:48.825Z"
   },
   {
    "duration": 59,
    "start_time": "2023-01-17T17:47:51.858Z"
   },
   {
    "duration": 598866,
    "start_time": "2023-01-17T17:47:57.443Z"
   },
   {
    "duration": 5,
    "start_time": "2023-01-17T18:00:10.316Z"
   },
   {
    "duration": 4,
    "start_time": "2023-01-17T18:00:17.704Z"
   },
   {
    "duration": 4,
    "start_time": "2023-01-17T18:00:24.703Z"
   },
   {
    "duration": 155,
    "start_time": "2023-01-17T18:00:34.193Z"
   },
   {
    "duration": 183,
    "start_time": "2023-01-17T18:02:17.513Z"
   },
   {
    "duration": 139,
    "start_time": "2023-01-17T18:02:28.546Z"
   },
   {
    "duration": 3,
    "start_time": "2023-01-17T18:02:32.899Z"
   },
   {
    "duration": 4,
    "start_time": "2023-01-17T18:02:34.103Z"
   },
   {
    "duration": 433,
    "start_time": "2023-01-17T18:07:08.483Z"
   },
   {
    "duration": 50,
    "start_time": "2023-01-17T18:11:30.001Z"
   },
   {
    "duration": 114,
    "start_time": "2023-01-17T18:11:33.226Z"
   },
   {
    "duration": 222852,
    "start_time": "2023-01-17T18:11:56.297Z"
   },
   {
    "duration": 4,
    "start_time": "2023-01-17T18:32:36.872Z"
   },
   {
    "duration": 2,
    "start_time": "2023-01-17T18:32:50.301Z"
   },
   {
    "duration": 4,
    "start_time": "2023-01-17T18:33:00.226Z"
   },
   {
    "duration": 62,
    "start_time": "2023-01-17T18:34:17.500Z"
   },
   {
    "duration": 1500,
    "start_time": "2023-01-18T03:31:59.779Z"
   },
   {
    "duration": 2970,
    "start_time": "2023-01-18T03:32:01.281Z"
   },
   {
    "duration": 135,
    "start_time": "2023-01-18T03:32:04.253Z"
   },
   {
    "duration": 25,
    "start_time": "2023-01-18T03:32:04.390Z"
   },
   {
    "duration": 92,
    "start_time": "2023-01-18T03:32:04.416Z"
   },
   {
    "duration": 127,
    "start_time": "2023-01-18T03:32:04.510Z"
   },
   {
    "duration": 193,
    "start_time": "2023-01-18T03:32:04.638Z"
   },
   {
    "duration": 243,
    "start_time": "2023-01-18T03:32:04.833Z"
   },
   {
    "duration": 47,
    "start_time": "2023-01-18T03:32:05.078Z"
   },
   {
    "duration": 344,
    "start_time": "2023-01-18T03:32:05.127Z"
   },
   {
    "duration": 396,
    "start_time": "2023-01-18T03:32:05.472Z"
   },
   {
    "duration": 10,
    "start_time": "2023-01-18T03:32:05.869Z"
   },
   {
    "duration": 85,
    "start_time": "2023-01-18T03:32:05.881Z"
   },
   {
    "duration": 404,
    "start_time": "2023-01-18T03:32:05.967Z"
   },
   {
    "duration": 251,
    "start_time": "2023-01-18T03:32:06.375Z"
   },
   {
    "duration": 76,
    "start_time": "2023-01-18T03:32:06.628Z"
   },
   {
    "duration": 15,
    "start_time": "2023-01-18T03:32:06.706Z"
   },
   {
    "duration": 18,
    "start_time": "2023-01-18T03:32:06.723Z"
   },
   {
    "duration": 17,
    "start_time": "2023-01-18T03:32:06.748Z"
   },
   {
    "duration": 24,
    "start_time": "2023-01-18T03:32:06.767Z"
   },
   {
    "duration": 15,
    "start_time": "2023-01-18T03:32:06.792Z"
   },
   {
    "duration": 15,
    "start_time": "2023-01-18T03:32:06.809Z"
   },
   {
    "duration": 34,
    "start_time": "2023-01-18T03:32:06.826Z"
   },
   {
    "duration": 15,
    "start_time": "2023-01-18T03:32:06.862Z"
   },
   {
    "duration": 21,
    "start_time": "2023-01-18T03:32:06.878Z"
   },
   {
    "duration": 16,
    "start_time": "2023-01-18T03:32:06.900Z"
   },
   {
    "duration": 304,
    "start_time": "2023-01-18T03:32:06.917Z"
   },
   {
    "duration": 26,
    "start_time": "2023-01-18T03:32:07.225Z"
   },
   {
    "duration": 59,
    "start_time": "2023-01-18T03:32:07.253Z"
   },
   {
    "duration": 65,
    "start_time": "2023-01-18T03:32:07.314Z"
   },
   {
    "duration": 19,
    "start_time": "2023-01-18T03:32:07.381Z"
   },
   {
    "duration": 48,
    "start_time": "2023-01-18T03:32:07.402Z"
   },
   {
    "duration": 20,
    "start_time": "2023-01-18T03:32:07.452Z"
   },
   {
    "duration": 49,
    "start_time": "2023-01-18T03:32:07.473Z"
   },
   {
    "duration": 403,
    "start_time": "2023-01-18T03:32:07.524Z"
   },
   {
    "duration": 4,
    "start_time": "2023-01-18T03:32:07.929Z"
   },
   {
    "duration": 6,
    "start_time": "2023-01-18T03:32:07.935Z"
   },
   {
    "duration": 11,
    "start_time": "2023-01-18T03:32:07.942Z"
   },
   {
    "duration": 0,
    "start_time": "2023-01-18T03:32:07.954Z"
   },
   {
    "duration": 0,
    "start_time": "2023-01-18T03:32:07.956Z"
   },
   {
    "duration": 0,
    "start_time": "2023-01-18T03:32:07.957Z"
   },
   {
    "duration": 0,
    "start_time": "2023-01-18T03:32:07.958Z"
   },
   {
    "duration": 0,
    "start_time": "2023-01-18T03:32:07.959Z"
   },
   {
    "duration": 0,
    "start_time": "2023-01-18T03:32:07.960Z"
   },
   {
    "duration": 0,
    "start_time": "2023-01-18T03:32:07.961Z"
   },
   {
    "duration": 0,
    "start_time": "2023-01-18T03:32:07.962Z"
   },
   {
    "duration": 0,
    "start_time": "2023-01-18T03:32:07.963Z"
   },
   {
    "duration": 0,
    "start_time": "2023-01-18T03:32:07.964Z"
   },
   {
    "duration": 0,
    "start_time": "2023-01-18T03:32:07.965Z"
   },
   {
    "duration": 516040,
    "start_time": "2023-01-18T03:32:50.757Z"
   },
   {
    "duration": 4,
    "start_time": "2023-01-18T03:52:14.065Z"
   },
   {
    "duration": 4,
    "start_time": "2023-01-18T03:52:19.521Z"
   },
   {
    "duration": 66,
    "start_time": "2023-01-18T03:52:55.881Z"
   },
   {
    "duration": 119,
    "start_time": "2023-01-18T03:53:03.794Z"
   },
   {
    "duration": 4,
    "start_time": "2023-01-18T03:53:06.722Z"
   },
   {
    "duration": 4,
    "start_time": "2023-01-18T03:53:11.594Z"
   },
   {
    "duration": 385,
    "start_time": "2023-01-18T03:53:14.801Z"
   },
   {
    "duration": 36,
    "start_time": "2023-01-18T03:53:15.462Z"
   },
   {
    "duration": 223,
    "start_time": "2023-01-18T03:53:18.226Z"
   },
   {
    "duration": 381,
    "start_time": "2023-01-18T03:53:27.114Z"
   },
   {
    "duration": 385,
    "start_time": "2023-01-18T03:53:40.523Z"
   },
   {
    "duration": 362,
    "start_time": "2023-01-18T03:53:58.658Z"
   },
   {
    "duration": 186540,
    "start_time": "2023-01-18T03:54:11.779Z"
   },
   {
    "duration": 3,
    "start_time": "2023-01-18T03:59:23.515Z"
   },
   {
    "duration": 4,
    "start_time": "2023-01-18T03:59:25.975Z"
   },
   {
    "duration": 48,
    "start_time": "2023-01-18T03:59:33.244Z"
   },
   {
    "duration": 3,
    "start_time": "2023-01-18T04:00:21.388Z"
   },
   {
    "duration": 57,
    "start_time": "2023-01-18T04:00:24.269Z"
   },
   {
    "duration": 897134,
    "start_time": "2023-01-18T04:01:03.329Z"
   },
   {
    "duration": 5,
    "start_time": "2023-01-18T04:23:37.467Z"
   },
   {
    "duration": 9,
    "start_time": "2023-01-18T04:23:53.772Z"
   },
   {
    "duration": 3,
    "start_time": "2023-01-18T04:24:10.645Z"
   },
   {
    "duration": 4,
    "start_time": "2023-01-18T04:26:45.441Z"
   },
   {
    "duration": 3,
    "start_time": "2023-01-18T04:27:57.332Z"
   },
   {
    "duration": 5,
    "start_time": "2023-01-18T04:28:07.019Z"
   },
   {
    "duration": 5,
    "start_time": "2023-01-18T04:29:53.409Z"
   },
   {
    "duration": 1362,
    "start_time": "2023-01-18T04:58:35.094Z"
   },
   {
    "duration": 770,
    "start_time": "2023-01-18T04:58:36.458Z"
   },
   {
    "duration": 128,
    "start_time": "2023-01-18T04:58:37.230Z"
   },
   {
    "duration": 24,
    "start_time": "2023-01-18T04:58:37.360Z"
   },
   {
    "duration": 102,
    "start_time": "2023-01-18T04:58:37.386Z"
   },
   {
    "duration": 124,
    "start_time": "2023-01-18T04:58:37.490Z"
   },
   {
    "duration": 189,
    "start_time": "2023-01-18T04:58:37.616Z"
   },
   {
    "duration": 195,
    "start_time": "2023-01-18T04:58:37.807Z"
   },
   {
    "duration": 57,
    "start_time": "2023-01-18T04:58:38.004Z"
   },
   {
    "duration": 293,
    "start_time": "2023-01-18T04:58:38.063Z"
   },
   {
    "duration": 477,
    "start_time": "2023-01-18T04:58:38.358Z"
   },
   {
    "duration": 15,
    "start_time": "2023-01-18T04:58:38.836Z"
   },
   {
    "duration": 69,
    "start_time": "2023-01-18T04:58:38.853Z"
   },
   {
    "duration": 354,
    "start_time": "2023-01-18T04:58:38.923Z"
   },
   {
    "duration": 234,
    "start_time": "2023-01-18T04:58:39.279Z"
   },
   {
    "duration": 74,
    "start_time": "2023-01-18T04:58:39.515Z"
   },
   {
    "duration": 15,
    "start_time": "2023-01-18T04:58:39.591Z"
   },
   {
    "duration": 17,
    "start_time": "2023-01-18T04:58:39.608Z"
   },
   {
    "duration": 25,
    "start_time": "2023-01-18T04:58:39.626Z"
   },
   {
    "duration": 17,
    "start_time": "2023-01-18T04:58:39.653Z"
   },
   {
    "duration": 17,
    "start_time": "2023-01-18T04:58:39.671Z"
   },
   {
    "duration": 16,
    "start_time": "2023-01-18T04:58:39.690Z"
   },
   {
    "duration": 40,
    "start_time": "2023-01-18T04:58:39.708Z"
   },
   {
    "duration": 14,
    "start_time": "2023-01-18T04:58:39.750Z"
   },
   {
    "duration": 17,
    "start_time": "2023-01-18T04:58:39.766Z"
   },
   {
    "duration": 15,
    "start_time": "2023-01-18T04:58:39.785Z"
   },
   {
    "duration": 325,
    "start_time": "2023-01-18T04:58:39.801Z"
   },
   {
    "duration": 30,
    "start_time": "2023-01-18T04:58:40.129Z"
   },
   {
    "duration": 68,
    "start_time": "2023-01-18T04:58:40.161Z"
   },
   {
    "duration": 71,
    "start_time": "2023-01-18T04:58:40.231Z"
   },
   {
    "duration": 19,
    "start_time": "2023-01-18T04:58:40.303Z"
   },
   {
    "duration": 37,
    "start_time": "2023-01-18T04:58:40.324Z"
   },
   {
    "duration": 14,
    "start_time": "2023-01-18T04:58:40.363Z"
   },
   {
    "duration": 40,
    "start_time": "2023-01-18T04:58:40.378Z"
   },
   {
    "duration": 0,
    "start_time": "2023-01-18T04:58:40.419Z"
   },
   {
    "duration": 0,
    "start_time": "2023-01-18T04:58:40.421Z"
   },
   {
    "duration": 0,
    "start_time": "2023-01-18T04:58:40.422Z"
   },
   {
    "duration": 0,
    "start_time": "2023-01-18T04:58:40.423Z"
   },
   {
    "duration": 1,
    "start_time": "2023-01-18T04:58:40.423Z"
   },
   {
    "duration": 0,
    "start_time": "2023-01-18T04:58:40.425Z"
   },
   {
    "duration": 0,
    "start_time": "2023-01-18T04:58:40.426Z"
   },
   {
    "duration": 0,
    "start_time": "2023-01-18T04:58:40.427Z"
   },
   {
    "duration": 0,
    "start_time": "2023-01-18T04:58:40.428Z"
   },
   {
    "duration": 0,
    "start_time": "2023-01-18T04:58:40.429Z"
   },
   {
    "duration": 0,
    "start_time": "2023-01-18T04:58:40.430Z"
   },
   {
    "duration": 0,
    "start_time": "2023-01-18T04:58:40.431Z"
   },
   {
    "duration": 0,
    "start_time": "2023-01-18T04:58:40.431Z"
   },
   {
    "duration": 0,
    "start_time": "2023-01-18T04:58:40.432Z"
   },
   {
    "duration": 0,
    "start_time": "2023-01-18T04:58:40.433Z"
   },
   {
    "duration": 0,
    "start_time": "2023-01-18T04:58:40.434Z"
   },
   {
    "duration": 0,
    "start_time": "2023-01-18T04:58:40.435Z"
   },
   {
    "duration": 0,
    "start_time": "2023-01-18T04:58:40.436Z"
   },
   {
    "duration": 47,
    "start_time": "2023-01-18T04:58:51.627Z"
   },
   {
    "duration": 517119,
    "start_time": "2023-01-18T04:59:16.379Z"
   },
   {
    "duration": 9,
    "start_time": "2023-01-18T05:08:43.379Z"
   },
   {
    "duration": 71,
    "start_time": "2023-01-18T05:08:57.428Z"
   },
   {
    "duration": 49,
    "start_time": "2023-01-18T05:09:20.573Z"
   },
   {
    "duration": 4,
    "start_time": "2023-01-18T05:09:29.462Z"
   },
   {
    "duration": 165,
    "start_time": "2023-01-18T05:09:47.996Z"
   },
   {
    "duration": 53,
    "start_time": "2023-01-18T05:10:52.664Z"
   },
   {
    "duration": 34851,
    "start_time": "2023-01-18T05:11:16.223Z"
   },
   {
    "duration": 3,
    "start_time": "2023-01-18T05:12:18.354Z"
   },
   {
    "duration": 4,
    "start_time": "2023-01-18T05:12:24.137Z"
   },
   {
    "duration": 3,
    "start_time": "2023-01-18T05:12:42.314Z"
   },
   {
    "duration": 13861,
    "start_time": "2023-01-18T05:13:53.395Z"
   },
   {
    "duration": 34848,
    "start_time": "2023-01-18T05:14:26.495Z"
   },
   {
    "duration": 4,
    "start_time": "2023-01-18T05:18:03.042Z"
   },
   {
    "duration": 55,
    "start_time": "2023-01-18T05:18:51.501Z"
   },
   {
    "duration": 38801,
    "start_time": "2023-01-18T05:19:36.861Z"
   },
   {
    "duration": 37878,
    "start_time": "2023-01-18T05:20:56.649Z"
   },
   {
    "duration": 9955,
    "start_time": "2023-01-18T05:22:06.754Z"
   },
   {
    "duration": 17898,
    "start_time": "2023-01-18T05:22:36.628Z"
   },
   {
    "duration": 294396,
    "start_time": "2023-01-18T05:23:02.444Z"
   },
   {
    "duration": 4,
    "start_time": "2023-01-18T05:28:17.381Z"
   },
   {
    "duration": 4,
    "start_time": "2023-01-18T05:28:22.854Z"
   },
   {
    "duration": 8,
    "start_time": "2023-01-18T05:28:23.789Z"
   },
   {
    "duration": 9,
    "start_time": "2023-01-18T06:43:39.577Z"
   },
   {
    "duration": 393,
    "start_time": "2023-01-18T06:43:51.295Z"
   },
   {
    "duration": 37,
    "start_time": "2023-01-18T06:43:52.318Z"
   },
   {
    "duration": 71,
    "start_time": "2023-01-18T06:43:54.879Z"
   },
   {
    "duration": 193360,
    "start_time": "2023-01-18T06:43:57.870Z"
   },
   {
    "duration": 4,
    "start_time": "2023-01-18T06:47:19.885Z"
   },
   {
    "duration": 4,
    "start_time": "2023-01-18T06:47:20.926Z"
   },
   {
    "duration": 47,
    "start_time": "2023-01-18T06:47:25.574Z"
   },
   {
    "duration": 3,
    "start_time": "2023-01-18T06:47:28.374Z"
   },
   {
    "duration": 4182233,
    "start_time": "2023-01-18T06:48:25.032Z"
   },
   {
    "duration": 4,
    "start_time": "2023-01-18T08:33:49.027Z"
   },
   {
    "duration": 4,
    "start_time": "2023-01-18T08:33:56.882Z"
   },
   {
    "duration": 56,
    "start_time": "2023-01-18T08:39:06.266Z"
   },
   {
    "duration": 59,
    "start_time": "2023-01-18T08:39:39.821Z"
   },
   {
    "duration": 19780,
    "start_time": "2023-01-18T08:39:55.573Z"
   },
   {
    "duration": 20744,
    "start_time": "2023-01-18T08:42:13.626Z"
   },
   {
    "duration": 4,
    "start_time": "2023-01-18T08:43:06.266Z"
   },
   {
    "duration": 4,
    "start_time": "2023-01-18T08:43:22.147Z"
   },
   {
    "duration": 4,
    "start_time": "2023-01-18T08:43:32.316Z"
   },
   {
    "duration": 1588,
    "start_time": "2023-01-18T16:47:43.783Z"
   },
   {
    "duration": 3085,
    "start_time": "2023-01-18T16:47:45.373Z"
   },
   {
    "duration": 143,
    "start_time": "2023-01-18T16:47:48.460Z"
   },
   {
    "duration": 26,
    "start_time": "2023-01-18T16:47:48.606Z"
   },
   {
    "duration": 104,
    "start_time": "2023-01-18T16:47:48.635Z"
   },
   {
    "duration": 132,
    "start_time": "2023-01-18T16:47:48.741Z"
   },
   {
    "duration": 194,
    "start_time": "2023-01-18T16:47:48.874Z"
   },
   {
    "duration": 271,
    "start_time": "2023-01-18T16:47:49.070Z"
   },
   {
    "duration": 51,
    "start_time": "2023-01-18T16:47:49.343Z"
   },
   {
    "duration": 375,
    "start_time": "2023-01-18T16:47:49.397Z"
   },
   {
    "duration": 422,
    "start_time": "2023-01-18T16:47:49.774Z"
   },
   {
    "duration": 10,
    "start_time": "2023-01-18T16:47:50.197Z"
   },
   {
    "duration": 86,
    "start_time": "2023-01-18T16:47:50.209Z"
   },
   {
    "duration": 403,
    "start_time": "2023-01-18T16:47:50.297Z"
   },
   {
    "duration": 235,
    "start_time": "2023-01-18T16:47:50.701Z"
   },
   {
    "duration": 75,
    "start_time": "2023-01-18T16:47:50.937Z"
   },
   {
    "duration": 17,
    "start_time": "2023-01-18T16:47:51.013Z"
   },
   {
    "duration": 28,
    "start_time": "2023-01-18T16:47:51.031Z"
   },
   {
    "duration": 18,
    "start_time": "2023-01-18T16:47:51.060Z"
   },
   {
    "duration": 27,
    "start_time": "2023-01-18T16:47:51.080Z"
   },
   {
    "duration": 13,
    "start_time": "2023-01-18T16:47:51.109Z"
   },
   {
    "duration": 18,
    "start_time": "2023-01-18T16:47:51.124Z"
   },
   {
    "duration": 33,
    "start_time": "2023-01-18T16:47:51.143Z"
   },
   {
    "duration": 15,
    "start_time": "2023-01-18T16:47:51.178Z"
   },
   {
    "duration": 18,
    "start_time": "2023-01-18T16:47:51.195Z"
   },
   {
    "duration": 15,
    "start_time": "2023-01-18T16:47:51.215Z"
   },
   {
    "duration": 310,
    "start_time": "2023-01-18T16:47:51.248Z"
   },
   {
    "duration": 20,
    "start_time": "2023-01-18T16:47:51.563Z"
   },
   {
    "duration": 75,
    "start_time": "2023-01-18T16:47:51.585Z"
   },
   {
    "duration": 71,
    "start_time": "2023-01-18T16:47:51.662Z"
   },
   {
    "duration": 18,
    "start_time": "2023-01-18T16:47:51.748Z"
   },
   {
    "duration": 12,
    "start_time": "2023-01-18T16:47:51.768Z"
   },
   {
    "duration": 70,
    "start_time": "2023-01-18T16:47:51.782Z"
   },
   {
    "duration": 536922,
    "start_time": "2023-01-18T16:47:51.854Z"
   },
   {
    "duration": 3,
    "start_time": "2023-01-18T16:56:48.778Z"
   },
   {
    "duration": 306871,
    "start_time": "2023-01-18T16:56:48.783Z"
   },
   {
    "duration": 3,
    "start_time": "2023-01-18T17:01:55.656Z"
   },
   {
    "duration": 443,
    "start_time": "2023-01-18T17:01:55.661Z"
   },
   {
    "duration": 49,
    "start_time": "2023-01-18T17:01:56.105Z"
   },
   {
    "duration": 198,
    "start_time": "2023-01-18T17:01:56.156Z"
   },
   {
    "duration": 202551,
    "start_time": "2023-01-18T17:01:56.356Z"
   },
   {
    "duration": 4,
    "start_time": "2023-01-18T17:05:18.909Z"
   },
   {
    "duration": 64,
    "start_time": "2023-01-18T17:05:18.915Z"
   },
   {
    "duration": 2,
    "start_time": "2023-01-18T17:05:18.981Z"
   },
   {
    "duration": 2162071,
    "start_time": "2023-01-18T17:05:18.985Z"
   },
   {
    "duration": 4,
    "start_time": "2023-01-18T17:41:21.057Z"
   },
   {
    "duration": 6,
    "start_time": "2023-01-18T17:41:21.063Z"
   },
   {
    "duration": 22394,
    "start_time": "2023-01-18T17:41:21.070Z"
   },
   {
    "duration": 5,
    "start_time": "2023-01-18T17:41:43.465Z"
   },
   {
    "duration": 8,
    "start_time": "2023-01-18T17:41:43.472Z"
   },
   {
    "duration": 6,
    "start_time": "2023-01-18T17:41:43.482Z"
   },
   {
    "duration": 159,
    "start_time": "2023-01-18T17:41:43.490Z"
   },
   {
    "duration": 12,
    "start_time": "2023-01-18T17:43:15.372Z"
   },
   {
    "duration": 17,
    "start_time": "2023-01-18T17:44:06.205Z"
   },
   {
    "duration": 14,
    "start_time": "2023-01-18T17:45:09.925Z"
   },
   {
    "duration": 14,
    "start_time": "2023-01-18T17:45:36.658Z"
   },
   {
    "duration": 9,
    "start_time": "2023-01-18T17:45:51.810Z"
   },
   {
    "duration": 10,
    "start_time": "2023-01-18T17:45:55.815Z"
   },
   {
    "duration": 21743,
    "start_time": "2023-01-18T17:46:01.929Z"
   },
   {
    "duration": 4,
    "start_time": "2023-01-18T17:46:26.346Z"
   },
   {
    "duration": 8,
    "start_time": "2023-01-18T17:46:30.466Z"
   },
   {
    "duration": 10,
    "start_time": "2023-01-18T17:46:32.794Z"
   },
   {
    "duration": 10,
    "start_time": "2023-01-18T17:51:15.642Z"
   },
   {
    "duration": 4,
    "start_time": "2023-01-18T17:51:21.449Z"
   },
   {
    "duration": 7,
    "start_time": "2023-01-18T17:51:23.618Z"
   },
   {
    "duration": 5,
    "start_time": "2023-01-18T17:51:57.066Z"
   },
   {
    "duration": 9,
    "start_time": "2023-01-18T17:51:57.713Z"
   },
   {
    "duration": 4,
    "start_time": "2023-01-18T17:52:32.546Z"
   },
   {
    "duration": 25875,
    "start_time": "2023-01-18T17:53:51.575Z"
   },
   {
    "duration": 4,
    "start_time": "2023-01-18T17:54:19.647Z"
   },
   {
    "duration": 2255,
    "start_time": "2023-01-18T17:55:01.976Z"
   },
   {
    "duration": 1418,
    "start_time": "2023-01-18T17:55:53.875Z"
   },
   {
    "duration": 837,
    "start_time": "2023-01-18T17:55:55.295Z"
   },
   {
    "duration": 164,
    "start_time": "2023-01-18T17:55:56.134Z"
   },
   {
    "duration": 36,
    "start_time": "2023-01-18T17:55:56.300Z"
   },
   {
    "duration": 138,
    "start_time": "2023-01-18T17:55:56.341Z"
   },
   {
    "duration": 149,
    "start_time": "2023-01-18T17:55:56.481Z"
   },
   {
    "duration": 213,
    "start_time": "2023-01-18T17:55:56.632Z"
   },
   {
    "duration": 264,
    "start_time": "2023-01-18T17:55:56.846Z"
   },
   {
    "duration": 56,
    "start_time": "2023-01-18T17:55:57.111Z"
   },
   {
    "duration": 307,
    "start_time": "2023-01-18T17:55:57.169Z"
   },
   {
    "duration": 499,
    "start_time": "2023-01-18T17:55:57.477Z"
   },
   {
    "duration": 11,
    "start_time": "2023-01-18T17:55:57.977Z"
   },
   {
    "duration": 86,
    "start_time": "2023-01-18T17:55:57.989Z"
   },
   {
    "duration": 406,
    "start_time": "2023-01-18T17:55:58.077Z"
   },
   {
    "duration": 254,
    "start_time": "2023-01-18T17:55:58.485Z"
   },
   {
    "duration": 66,
    "start_time": "2023-01-18T17:55:58.741Z"
   },
   {
    "duration": 18,
    "start_time": "2023-01-18T17:55:58.809Z"
   },
   {
    "duration": 39,
    "start_time": "2023-01-18T17:55:58.828Z"
   },
   {
    "duration": 19,
    "start_time": "2023-01-18T17:55:58.868Z"
   },
   {
    "duration": 20,
    "start_time": "2023-01-18T17:55:58.889Z"
   },
   {
    "duration": 20,
    "start_time": "2023-01-18T17:55:58.911Z"
   },
   {
    "duration": 29,
    "start_time": "2023-01-18T17:55:58.932Z"
   },
   {
    "duration": 30,
    "start_time": "2023-01-18T17:55:58.963Z"
   },
   {
    "duration": 19,
    "start_time": "2023-01-18T17:55:58.994Z"
   },
   {
    "duration": 22,
    "start_time": "2023-01-18T17:55:59.015Z"
   },
   {
    "duration": 33,
    "start_time": "2023-01-18T17:55:59.039Z"
   },
   {
    "duration": 325,
    "start_time": "2023-01-18T17:55:59.074Z"
   },
   {
    "duration": 22,
    "start_time": "2023-01-18T17:55:59.403Z"
   },
   {
    "duration": 78,
    "start_time": "2023-01-18T17:55:59.426Z"
   },
   {
    "duration": 73,
    "start_time": "2023-01-18T17:55:59.506Z"
   },
   {
    "duration": 18,
    "start_time": "2023-01-18T17:55:59.581Z"
   },
   {
    "duration": 10,
    "start_time": "2023-01-18T17:55:59.601Z"
   },
   {
    "duration": 74,
    "start_time": "2023-01-18T17:55:59.613Z"
   },
   {
    "duration": 561819,
    "start_time": "2023-01-18T17:55:59.688Z"
   },
   {
    "duration": 4,
    "start_time": "2023-01-18T18:05:21.508Z"
   },
   {
    "duration": 304758,
    "start_time": "2023-01-18T18:05:21.514Z"
   },
   {
    "duration": 4,
    "start_time": "2023-01-18T18:10:26.273Z"
   },
   {
    "duration": 393,
    "start_time": "2023-01-18T18:10:26.278Z"
   },
   {
    "duration": 39,
    "start_time": "2023-01-18T18:10:26.673Z"
   },
   {
    "duration": 76,
    "start_time": "2023-01-18T18:10:26.714Z"
   },
   {
    "duration": 195865,
    "start_time": "2023-01-18T18:10:26.851Z"
   },
   {
    "duration": 4,
    "start_time": "2023-01-18T18:13:42.717Z"
   },
   {
    "duration": 154,
    "start_time": "2023-01-18T19:04:14.026Z"
   },
   {
    "duration": 1720,
    "start_time": "2023-01-18T19:04:23.794Z"
   },
   {
    "duration": 1466,
    "start_time": "2023-01-18T19:04:32.574Z"
   },
   {
    "duration": 1100,
    "start_time": "2023-01-18T19:04:34.041Z"
   },
   {
    "duration": 114,
    "start_time": "2023-01-18T19:04:35.143Z"
   },
   {
    "duration": 40,
    "start_time": "2023-01-18T19:04:35.260Z"
   },
   {
    "duration": 73,
    "start_time": "2023-01-18T19:04:35.302Z"
   },
   {
    "duration": 110,
    "start_time": "2023-01-18T19:04:35.377Z"
   },
   {
    "duration": 195,
    "start_time": "2023-01-18T19:04:35.488Z"
   },
   {
    "duration": 212,
    "start_time": "2023-01-18T19:04:35.691Z"
   },
   {
    "duration": 52,
    "start_time": "2023-01-18T19:04:35.904Z"
   },
   {
    "duration": 304,
    "start_time": "2023-01-18T19:04:35.959Z"
   },
   {
    "duration": 469,
    "start_time": "2023-01-18T19:04:36.265Z"
   },
   {
    "duration": 11,
    "start_time": "2023-01-18T19:04:36.735Z"
   },
   {
    "duration": 81,
    "start_time": "2023-01-18T19:04:36.748Z"
   },
   {
    "duration": 379,
    "start_time": "2023-01-18T19:04:36.831Z"
   },
   {
    "duration": 240,
    "start_time": "2023-01-18T19:04:37.212Z"
   },
   {
    "duration": 75,
    "start_time": "2023-01-18T19:04:37.454Z"
   },
   {
    "duration": 14,
    "start_time": "2023-01-18T19:04:37.531Z"
   },
   {
    "duration": 17,
    "start_time": "2023-01-18T19:04:37.547Z"
   },
   {
    "duration": 37,
    "start_time": "2023-01-18T19:04:37.565Z"
   },
   {
    "duration": 14,
    "start_time": "2023-01-18T19:04:37.603Z"
   },
   {
    "duration": 13,
    "start_time": "2023-01-18T19:04:37.618Z"
   },
   {
    "duration": 14,
    "start_time": "2023-01-18T19:04:37.632Z"
   },
   {
    "duration": 53,
    "start_time": "2023-01-18T19:04:37.648Z"
   },
   {
    "duration": 16,
    "start_time": "2023-01-18T19:04:37.703Z"
   },
   {
    "duration": 13,
    "start_time": "2023-01-18T19:04:37.720Z"
   },
   {
    "duration": 16,
    "start_time": "2023-01-18T19:04:37.735Z"
   },
   {
    "duration": 301,
    "start_time": "2023-01-18T19:04:37.753Z"
   },
   {
    "duration": 33,
    "start_time": "2023-01-18T19:04:38.058Z"
   },
   {
    "duration": 54,
    "start_time": "2023-01-18T19:04:38.098Z"
   },
   {
    "duration": 55,
    "start_time": "2023-01-18T19:04:38.154Z"
   },
   {
    "duration": 20,
    "start_time": "2023-01-18T19:04:38.210Z"
   },
   {
    "duration": 11,
    "start_time": "2023-01-18T19:04:38.232Z"
   },
   {
    "duration": 74,
    "start_time": "2023-01-18T19:04:38.245Z"
   },
   {
    "duration": 530545,
    "start_time": "2023-01-18T19:04:38.321Z"
   },
   {
    "duration": 4,
    "start_time": "2023-01-18T19:13:28.867Z"
   },
   {
    "duration": 305980,
    "start_time": "2023-01-18T19:13:28.873Z"
   },
   {
    "duration": 4,
    "start_time": "2023-01-18T19:18:34.854Z"
   },
   {
    "duration": 397,
    "start_time": "2023-01-18T19:18:34.859Z"
   },
   {
    "duration": 49,
    "start_time": "2023-01-18T19:18:35.258Z"
   },
   {
    "duration": 86,
    "start_time": "2023-01-18T19:18:35.309Z"
   },
   {
    "duration": 198187,
    "start_time": "2023-01-18T19:18:35.397Z"
   },
   {
    "duration": 4,
    "start_time": "2023-01-18T19:21:53.586Z"
   },
   {
    "duration": 1812,
    "start_time": "2023-01-19T05:34:04.505Z"
   },
   {
    "duration": 3521,
    "start_time": "2023-01-19T05:34:08.778Z"
   },
   {
    "duration": 155,
    "start_time": "2023-01-19T05:34:12.301Z"
   },
   {
    "duration": 44,
    "start_time": "2023-01-19T05:34:12.458Z"
   },
   {
    "duration": 103,
    "start_time": "2023-01-19T05:34:12.608Z"
   },
   {
    "duration": 138,
    "start_time": "2023-01-19T05:34:13.078Z"
   },
   {
    "duration": 207,
    "start_time": "2023-01-19T05:34:13.504Z"
   },
   {
    "duration": 285,
    "start_time": "2023-01-19T05:34:13.713Z"
   },
   {
    "duration": 63,
    "start_time": "2023-01-19T05:34:14.224Z"
   },
   {
    "duration": 441,
    "start_time": "2023-01-19T05:34:15.238Z"
   },
   {
    "duration": 569,
    "start_time": "2023-01-19T05:34:15.683Z"
   },
   {
    "duration": 13,
    "start_time": "2023-01-19T05:34:16.255Z"
   },
   {
    "duration": 81,
    "start_time": "2023-01-19T05:34:16.311Z"
   },
   {
    "duration": 457,
    "start_time": "2023-01-19T05:34:16.981Z"
   },
   {
    "duration": 283,
    "start_time": "2023-01-19T05:34:17.440Z"
   },
   {
    "duration": 77,
    "start_time": "2023-01-19T05:34:23.616Z"
   },
   {
    "duration": 16,
    "start_time": "2023-01-19T05:34:24.287Z"
   },
   {
    "duration": 19,
    "start_time": "2023-01-19T05:34:24.770Z"
   },
   {
    "duration": 23,
    "start_time": "2023-01-19T05:34:25.487Z"
   },
   {
    "duration": 22,
    "start_time": "2023-01-19T05:34:25.891Z"
   },
   {
    "duration": 15,
    "start_time": "2023-01-19T05:34:26.416Z"
   },
   {
    "duration": 14,
    "start_time": "2023-01-19T05:34:26.809Z"
   },
   {
    "duration": 27,
    "start_time": "2023-01-19T05:34:27.007Z"
   },
   {
    "duration": 36,
    "start_time": "2023-01-19T05:34:27.441Z"
   },
   {
    "duration": 32,
    "start_time": "2023-01-19T05:34:28.143Z"
   },
   {
    "duration": 22,
    "start_time": "2023-01-19T05:34:28.543Z"
   },
   {
    "duration": 360,
    "start_time": "2023-01-19T05:34:28.977Z"
   },
   {
    "duration": 21,
    "start_time": "2023-01-19T05:34:29.503Z"
   },
   {
    "duration": 90,
    "start_time": "2023-01-19T05:34:29.719Z"
   },
   {
    "duration": 66,
    "start_time": "2023-01-19T05:34:30.593Z"
   },
   {
    "duration": 24,
    "start_time": "2023-01-19T05:34:31.056Z"
   },
   {
    "duration": 13,
    "start_time": "2023-01-19T05:34:34.632Z"
   },
   {
    "duration": 49,
    "start_time": "2023-01-19T05:34:36.474Z"
   },
   {
    "duration": 198,
    "start_time": "2023-01-19T05:34:48.913Z"
   },
   {
    "duration": 9,
    "start_time": "2023-01-19T05:35:10.349Z"
   },
   {
    "duration": 377570,
    "start_time": "2023-01-19T05:35:17.098Z"
   },
   {
    "duration": 4,
    "start_time": "2023-01-19T05:41:40.499Z"
   },
   {
    "duration": 475,
    "start_time": "2023-01-19T05:41:46.114Z"
   },
   {
    "duration": 35,
    "start_time": "2023-01-19T05:41:48.802Z"
   },
   {
    "duration": 205,
    "start_time": "2023-01-19T05:41:50.547Z"
   },
   {
    "duration": 220659,
    "start_time": "2023-01-19T05:41:55.467Z"
   },
   {
    "duration": 5,
    "start_time": "2023-01-19T05:45:46.778Z"
   },
   {
    "duration": 1827,
    "start_time": "2023-01-19T09:00:20.043Z"
   },
   {
    "duration": 1199,
    "start_time": "2023-01-19T09:00:21.873Z"
   },
   {
    "duration": 147,
    "start_time": "2023-01-19T09:00:23.074Z"
   },
   {
    "duration": 33,
    "start_time": "2023-01-19T09:00:23.223Z"
   },
   {
    "duration": 104,
    "start_time": "2023-01-19T09:00:23.258Z"
   },
   {
    "duration": 150,
    "start_time": "2023-01-19T09:00:23.364Z"
   },
   {
    "duration": 210,
    "start_time": "2023-01-19T09:00:23.516Z"
   },
   {
    "duration": 280,
    "start_time": "2023-01-19T09:00:23.728Z"
   },
   {
    "duration": 65,
    "start_time": "2023-01-19T09:00:24.009Z"
   },
   {
    "duration": 426,
    "start_time": "2023-01-19T09:00:24.077Z"
   },
   {
    "duration": 470,
    "start_time": "2023-01-19T09:00:24.505Z"
   },
   {
    "duration": 11,
    "start_time": "2023-01-19T09:00:24.977Z"
   },
   {
    "duration": 97,
    "start_time": "2023-01-19T09:00:24.989Z"
   },
   {
    "duration": 451,
    "start_time": "2023-01-19T09:00:25.087Z"
   },
   {
    "duration": 266,
    "start_time": "2023-01-19T09:00:25.539Z"
   },
   {
    "duration": 82,
    "start_time": "2023-01-19T09:00:25.807Z"
   },
   {
    "duration": 18,
    "start_time": "2023-01-19T09:00:25.890Z"
   },
   {
    "duration": 45,
    "start_time": "2023-01-19T09:00:25.910Z"
   },
   {
    "duration": 66,
    "start_time": "2023-01-19T09:00:25.956Z"
   },
   {
    "duration": 37,
    "start_time": "2023-01-19T09:00:26.024Z"
   },
   {
    "duration": 33,
    "start_time": "2023-01-19T09:00:26.063Z"
   },
   {
    "duration": 33,
    "start_time": "2023-01-19T09:00:26.098Z"
   },
   {
    "duration": 58,
    "start_time": "2023-01-19T09:00:26.133Z"
   },
   {
    "duration": 55,
    "start_time": "2023-01-19T09:00:26.193Z"
   },
   {
    "duration": 38,
    "start_time": "2023-01-19T09:00:26.250Z"
   },
   {
    "duration": 62,
    "start_time": "2023-01-19T09:00:26.291Z"
   },
   {
    "duration": 347,
    "start_time": "2023-01-19T09:00:26.356Z"
   },
   {
    "duration": 20,
    "start_time": "2023-01-19T09:00:26.707Z"
   },
   {
    "duration": 77,
    "start_time": "2023-01-19T09:00:26.729Z"
   },
   {
    "duration": 77,
    "start_time": "2023-01-19T09:00:26.808Z"
   },
   {
    "duration": 31,
    "start_time": "2023-01-19T09:00:26.887Z"
   },
   {
    "duration": 12,
    "start_time": "2023-01-19T09:00:26.920Z"
   },
   {
    "duration": 72,
    "start_time": "2023-01-19T09:00:26.933Z"
   },
   {
    "duration": 2,
    "start_time": "2023-01-19T09:00:27.007Z"
   },
   {
    "duration": 611190,
    "start_time": "2023-01-19T09:00:27.011Z"
   },
   {
    "duration": 4,
    "start_time": "2023-01-19T09:10:38.205Z"
   },
   {
    "duration": 344875,
    "start_time": "2023-01-19T09:10:38.211Z"
   },
   {
    "duration": 5,
    "start_time": "2023-01-19T09:16:23.087Z"
   },
   {
    "duration": 481,
    "start_time": "2023-01-19T09:16:23.093Z"
   },
   {
    "duration": 52,
    "start_time": "2023-01-19T09:16:23.576Z"
   },
   {
    "duration": 227,
    "start_time": "2023-01-19T09:16:23.630Z"
   },
   {
    "duration": 223645,
    "start_time": "2023-01-19T09:16:23.859Z"
   },
   {
    "duration": 5,
    "start_time": "2023-01-19T09:20:07.507Z"
   },
   {
    "duration": 32,
    "start_time": "2023-01-19T09:20:07.515Z"
   },
   {
    "duration": 5573910,
    "start_time": "2023-01-19T09:20:07.549Z"
   },
   {
    "duration": 3,
    "start_time": "2023-01-19T10:53:01.461Z"
   },
   {
    "duration": 25,
    "start_time": "2023-01-19T10:53:01.466Z"
   },
   {
    "duration": 20991,
    "start_time": "2023-01-19T10:53:01.493Z"
   },
   {
    "duration": 4,
    "start_time": "2023-01-19T10:53:22.485Z"
   },
   {
    "duration": 115,
    "start_time": "2023-01-19T10:53:22.554Z"
   },
   {
    "duration": 0,
    "start_time": "2023-01-19T10:53:22.671Z"
   },
   {
    "duration": 0,
    "start_time": "2023-01-19T10:53:22.672Z"
   },
   {
    "duration": 0,
    "start_time": "2023-01-19T10:53:22.674Z"
   },
   {
    "duration": 13,
    "start_time": "2023-01-19T11:37:36.739Z"
   },
   {
    "duration": 5,
    "start_time": "2023-01-19T11:37:48.397Z"
   },
   {
    "duration": 10,
    "start_time": "2023-01-19T11:37:50.012Z"
   },
   {
    "duration": 1762,
    "start_time": "2023-01-22T16:21:19.220Z"
   },
   {
    "duration": 1136,
    "start_time": "2023-01-22T16:21:23.761Z"
   },
   {
    "duration": 159,
    "start_time": "2023-01-22T16:21:25.314Z"
   },
   {
    "duration": 148,
    "start_time": "2023-01-22T16:21:36.911Z"
   },
   {
    "duration": 195,
    "start_time": "2023-01-22T16:21:41.225Z"
   },
   {
    "duration": 518,
    "start_time": "2023-01-22T16:21:45.170Z"
   },
   {
    "duration": 632,
    "start_time": "2023-01-22T16:21:45.841Z"
   },
   {
    "duration": 97,
    "start_time": "2023-01-22T16:21:54.482Z"
   },
   {
    "duration": 321,
    "start_time": "2023-01-22T16:21:57.715Z"
   },
   {
    "duration": 72,
    "start_time": "2023-01-22T16:25:53.005Z"
   },
   {
    "duration": 81,
    "start_time": "2023-01-22T16:26:03.538Z"
   },
   {
    "duration": 535,
    "start_time": "2023-01-22T16:26:09.106Z"
   },
   {
    "duration": 332,
    "start_time": "2023-01-22T16:29:11.927Z"
   },
   {
    "duration": 1535,
    "start_time": "2023-01-22T16:33:38.622Z"
   },
   {
    "duration": 129,
    "start_time": "2023-01-22T16:33:42.454Z"
   },
   {
    "duration": 965,
    "start_time": "2023-01-22T16:35:24.010Z"
   },
   {
    "duration": 125,
    "start_time": "2023-01-22T16:35:29.205Z"
   },
   {
    "duration": 1008,
    "start_time": "2023-01-22T16:35:50.715Z"
   },
   {
    "duration": 102,
    "start_time": "2023-01-22T16:35:53.641Z"
   },
   {
    "duration": 94,
    "start_time": "2023-01-22T16:36:14.706Z"
   },
   {
    "duration": 9,
    "start_time": "2023-01-22T16:37:27.932Z"
   },
   {
    "duration": 5,
    "start_time": "2023-01-22T16:37:32.422Z"
   },
   {
    "duration": 5,
    "start_time": "2023-01-22T16:39:49.410Z"
   },
   {
    "duration": 22,
    "start_time": "2023-01-22T16:39:57.910Z"
   },
   {
    "duration": 100,
    "start_time": "2023-01-22T16:39:58.754Z"
   },
   {
    "duration": 205,
    "start_time": "2023-01-22T16:39:59.473Z"
   },
   {
    "duration": 176,
    "start_time": "2023-01-22T16:40:00.074Z"
   },
   {
    "duration": 208,
    "start_time": "2023-01-22T16:40:00.265Z"
   },
   {
    "duration": 52,
    "start_time": "2023-01-22T16:40:00.832Z"
   },
   {
    "duration": 319,
    "start_time": "2023-01-22T16:40:04.807Z"
   },
   {
    "duration": 429,
    "start_time": "2023-01-22T16:40:05.545Z"
   },
   {
    "duration": 13,
    "start_time": "2023-01-22T16:40:05.976Z"
   },
   {
    "duration": 91,
    "start_time": "2023-01-22T16:40:06.137Z"
   },
   {
    "duration": 523,
    "start_time": "2023-01-22T16:40:06.922Z"
   },
   {
    "duration": 292,
    "start_time": "2023-01-22T16:40:07.447Z"
   },
   {
    "duration": 69,
    "start_time": "2023-01-22T16:40:10.851Z"
   },
   {
    "duration": 66,
    "start_time": "2023-01-22T16:42:11.609Z"
   },
   {
    "duration": 17,
    "start_time": "2023-01-22T16:42:13.031Z"
   },
   {
    "duration": 15,
    "start_time": "2023-01-22T16:42:13.437Z"
   },
   {
    "duration": 17,
    "start_time": "2023-01-22T16:42:14.062Z"
   },
   {
    "duration": 15,
    "start_time": "2023-01-22T16:42:14.461Z"
   },
   {
    "duration": 24,
    "start_time": "2023-01-22T16:42:15.678Z"
   },
   {
    "duration": 26,
    "start_time": "2023-01-22T16:42:16.708Z"
   },
   {
    "duration": 31,
    "start_time": "2023-01-22T16:42:17.037Z"
   },
   {
    "duration": 18,
    "start_time": "2023-01-22T16:42:17.437Z"
   },
   {
    "duration": 15,
    "start_time": "2023-01-22T16:42:18.253Z"
   },
   {
    "duration": 16,
    "start_time": "2023-01-22T16:42:18.924Z"
   },
   {
    "duration": 312,
    "start_time": "2023-01-22T16:42:19.286Z"
   },
   {
    "duration": 22,
    "start_time": "2023-01-22T16:42:20.463Z"
   },
   {
    "duration": 63,
    "start_time": "2023-01-22T16:42:22.838Z"
   },
   {
    "duration": 70,
    "start_time": "2023-01-22T16:42:27.317Z"
   },
   {
    "duration": 21,
    "start_time": "2023-01-22T16:42:28.567Z"
   },
   {
    "duration": 1476,
    "start_time": "2023-01-22T16:53:53.388Z"
   },
   {
    "duration": 1153,
    "start_time": "2023-01-22T16:53:56.165Z"
   },
   {
    "duration": 211,
    "start_time": "2023-01-22T16:53:57.321Z"
   },
   {
    "duration": 39,
    "start_time": "2023-01-22T16:53:57.535Z"
   },
   {
    "duration": 132,
    "start_time": "2023-01-22T16:53:57.577Z"
   },
   {
    "duration": 152,
    "start_time": "2023-01-22T16:53:57.949Z"
   },
   {
    "duration": 254,
    "start_time": "2023-01-22T16:53:58.567Z"
   },
   {
    "duration": 294,
    "start_time": "2023-01-22T16:53:58.823Z"
   },
   {
    "duration": 54,
    "start_time": "2023-01-22T16:53:59.380Z"
   },
   {
    "duration": 339,
    "start_time": "2023-01-22T16:54:00.407Z"
   },
   {
    "duration": 495,
    "start_time": "2023-01-22T16:54:01.580Z"
   },
   {
    "duration": 15,
    "start_time": "2023-01-22T16:54:02.077Z"
   },
   {
    "duration": 74,
    "start_time": "2023-01-22T16:54:02.156Z"
   },
   {
    "duration": 518,
    "start_time": "2023-01-22T16:54:03.083Z"
   },
   {
    "duration": 274,
    "start_time": "2023-01-22T16:54:03.604Z"
   },
   {
    "duration": 80,
    "start_time": "2023-01-22T16:54:03.881Z"
   },
   {
    "duration": 17,
    "start_time": "2023-01-22T16:54:05.206Z"
   },
   {
    "duration": 16,
    "start_time": "2023-01-22T16:54:05.667Z"
   },
   {
    "duration": 19,
    "start_time": "2023-01-22T16:54:06.305Z"
   },
   {
    "duration": 35,
    "start_time": "2023-01-22T16:54:06.813Z"
   },
   {
    "duration": 17,
    "start_time": "2023-01-22T16:54:07.747Z"
   },
   {
    "duration": 25,
    "start_time": "2023-01-22T16:54:08.419Z"
   },
   {
    "duration": 37,
    "start_time": "2023-01-22T16:54:08.643Z"
   },
   {
    "duration": 27,
    "start_time": "2023-01-22T16:54:09.187Z"
   },
   {
    "duration": 25,
    "start_time": "2023-01-22T16:54:10.363Z"
   },
   {
    "duration": 18,
    "start_time": "2023-01-22T16:54:11.102Z"
   },
   {
    "duration": 321,
    "start_time": "2023-01-22T16:54:11.749Z"
   },
   {
    "duration": 21,
    "start_time": "2023-01-22T16:54:12.860Z"
   },
   {
    "duration": 61,
    "start_time": "2023-01-22T16:54:14.165Z"
   },
   {
    "duration": 62,
    "start_time": "2023-01-22T16:54:14.707Z"
   },
   {
    "duration": 19,
    "start_time": "2023-01-22T16:54:15.660Z"
   },
   {
    "duration": 17,
    "start_time": "2023-01-22T16:54:18.740Z"
   },
   {
    "duration": 66,
    "start_time": "2023-01-22T16:54:19.524Z"
   },
   {
    "duration": 3,
    "start_time": "2023-01-22T16:54:20.645Z"
   },
   {
    "duration": 696269,
    "start_time": "2023-01-22T16:54:20.933Z"
   },
   {
    "duration": 4,
    "start_time": "2023-01-22T17:11:11.708Z"
   },
   {
    "duration": 221,
    "start_time": "2023-01-22T17:11:42.484Z"
   },
   {
    "duration": 5,
    "start_time": "2023-01-22T17:12:14.472Z"
   },
   {
    "duration": 106965,
    "start_time": "2023-01-22T17:12:24.818Z"
   },
   {
    "duration": 1672,
    "start_time": "2023-01-22T17:14:17.425Z"
   },
   {
    "duration": 5,
    "start_time": "2023-01-22T17:16:28.277Z"
   },
   {
    "duration": 12,
    "start_time": "2023-01-22T17:17:56.041Z"
   },
   {
    "duration": 1651,
    "start_time": "2023-01-22T17:19:48.437Z"
   },
   {
    "duration": 11,
    "start_time": "2023-01-22T17:19:59.053Z"
   },
   {
    "duration": 2,
    "start_time": "2023-01-22T17:21:00.958Z"
   },
   {
    "duration": 5,
    "start_time": "2023-01-22T17:21:04.062Z"
   },
   {
    "duration": 1824,
    "start_time": "2023-01-22T17:27:36.469Z"
   },
   {
    "duration": 97,
    "start_time": "2023-01-22T17:29:13.831Z"
   },
   {
    "duration": 80,
    "start_time": "2023-01-22T17:29:37.144Z"
   },
   {
    "duration": 101,
    "start_time": "2023-01-22T17:29:46.528Z"
   },
   {
    "duration": 4,
    "start_time": "2023-01-22T18:36:03.948Z"
   },
   {
    "duration": 1085,
    "start_time": "2023-01-22T18:36:05.748Z"
   },
   {
    "duration": 133,
    "start_time": "2023-01-22T18:36:06.837Z"
   },
   {
    "duration": 20,
    "start_time": "2023-01-22T18:36:07.325Z"
   },
   {
    "duration": 162,
    "start_time": "2023-01-22T18:36:07.553Z"
   },
   {
    "duration": 103,
    "start_time": "2023-01-22T18:36:08.278Z"
   },
   {
    "duration": 178,
    "start_time": "2023-01-22T18:36:08.989Z"
   },
   {
    "duration": 197,
    "start_time": "2023-01-22T18:36:09.213Z"
   },
   {
    "duration": 53,
    "start_time": "2023-01-22T18:36:09.925Z"
   },
   {
    "duration": 314,
    "start_time": "2023-01-22T18:36:11.189Z"
   },
   {
    "duration": 429,
    "start_time": "2023-01-22T18:36:12.365Z"
   },
   {
    "duration": 12,
    "start_time": "2023-01-22T18:36:12.884Z"
   },
   {
    "duration": 83,
    "start_time": "2023-01-22T18:36:13.126Z"
   },
   {
    "duration": 408,
    "start_time": "2023-01-22T18:36:14.116Z"
   },
   {
    "duration": 259,
    "start_time": "2023-01-22T18:36:14.606Z"
   },
   {
    "duration": 71,
    "start_time": "2023-01-22T18:36:15.005Z"
   },
   {
    "duration": 20,
    "start_time": "2023-01-22T18:36:16.372Z"
   },
   {
    "duration": 17,
    "start_time": "2023-01-22T18:36:16.796Z"
   },
   {
    "duration": 32,
    "start_time": "2023-01-22T18:36:17.460Z"
   },
   {
    "duration": 17,
    "start_time": "2023-01-22T18:36:17.957Z"
   },
   {
    "duration": 17,
    "start_time": "2023-01-22T18:36:19.004Z"
   },
   {
    "duration": 19,
    "start_time": "2023-01-22T18:36:20.541Z"
   },
   {
    "duration": 30,
    "start_time": "2023-01-22T18:36:20.757Z"
   },
   {
    "duration": 26,
    "start_time": "2023-01-22T18:36:21.197Z"
   },
   {
    "duration": 26,
    "start_time": "2023-01-22T18:36:22.069Z"
   },
   {
    "duration": 15,
    "start_time": "2023-01-22T18:36:22.726Z"
   },
   {
    "duration": 316,
    "start_time": "2023-01-22T18:36:22.942Z"
   },
   {
    "duration": 28,
    "start_time": "2023-01-22T18:36:23.406Z"
   },
   {
    "duration": 67,
    "start_time": "2023-01-22T18:36:24.135Z"
   },
   {
    "duration": 57,
    "start_time": "2023-01-22T18:36:24.460Z"
   },
   {
    "duration": 18,
    "start_time": "2023-01-22T18:36:25.182Z"
   },
   {
    "duration": 17,
    "start_time": "2023-01-22T18:36:27.465Z"
   },
   {
    "duration": 61,
    "start_time": "2023-01-22T18:36:28.270Z"
   },
   {
    "duration": 3,
    "start_time": "2023-01-22T18:36:29.878Z"
   },
   {
    "duration": 77,
    "start_time": "2023-01-22T18:36:47.303Z"
   },
   {
    "duration": 1555,
    "start_time": "2023-01-22T18:36:50.943Z"
   },
   {
    "duration": 1020,
    "start_time": "2023-01-22T18:36:55.478Z"
   },
   {
    "duration": 112,
    "start_time": "2023-01-22T18:36:57.808Z"
   },
   {
    "duration": 27,
    "start_time": "2023-01-22T18:36:58.829Z"
   },
   {
    "duration": 89,
    "start_time": "2023-01-22T18:36:59.056Z"
   },
   {
    "duration": 143,
    "start_time": "2023-01-22T18:36:59.718Z"
   },
   {
    "duration": 204,
    "start_time": "2023-01-22T18:37:00.394Z"
   },
   {
    "duration": 307,
    "start_time": "2023-01-22T18:37:00.606Z"
   },
   {
    "duration": 65,
    "start_time": "2023-01-22T18:37:01.261Z"
   },
   {
    "duration": 317,
    "start_time": "2023-01-22T18:37:02.814Z"
   },
   {
    "duration": 474,
    "start_time": "2023-01-22T18:37:03.606Z"
   },
   {
    "duration": 11,
    "start_time": "2023-01-22T18:37:04.082Z"
   },
   {
    "duration": 78,
    "start_time": "2023-01-22T18:37:04.489Z"
   },
   {
    "duration": 507,
    "start_time": "2023-01-22T18:37:05.342Z"
   },
   {
    "duration": 263,
    "start_time": "2023-01-22T18:37:05.851Z"
   },
   {
    "duration": 86,
    "start_time": "2023-01-22T18:37:06.116Z"
   },
   {
    "duration": 18,
    "start_time": "2023-01-22T18:37:07.215Z"
   },
   {
    "duration": 20,
    "start_time": "2023-01-22T18:37:07.710Z"
   },
   {
    "duration": 23,
    "start_time": "2023-01-22T18:37:08.431Z"
   },
   {
    "duration": 16,
    "start_time": "2023-01-22T18:37:08.958Z"
   },
   {
    "duration": 15,
    "start_time": "2023-01-22T18:37:09.950Z"
   },
   {
    "duration": 15,
    "start_time": "2023-01-22T18:37:10.718Z"
   },
   {
    "duration": 45,
    "start_time": "2023-01-22T18:37:10.975Z"
   },
   {
    "duration": 20,
    "start_time": "2023-01-22T18:37:11.478Z"
   },
   {
    "duration": 16,
    "start_time": "2023-01-22T18:37:12.486Z"
   },
   {
    "duration": 16,
    "start_time": "2023-01-22T18:37:13.229Z"
   },
   {
    "duration": 337,
    "start_time": "2023-01-22T18:37:13.502Z"
   },
   {
    "duration": 24,
    "start_time": "2023-01-22T18:37:14.002Z"
   },
   {
    "duration": 66,
    "start_time": "2023-01-22T18:37:14.711Z"
   },
   {
    "duration": 62,
    "start_time": "2023-01-22T18:37:14.982Z"
   },
   {
    "duration": 20,
    "start_time": "2023-01-22T18:37:15.798Z"
   },
   {
    "duration": 16,
    "start_time": "2023-01-22T18:37:18.559Z"
   },
   {
    "duration": 57,
    "start_time": "2023-01-22T18:37:19.255Z"
   },
   {
    "duration": 4,
    "start_time": "2023-01-22T18:37:20.472Z"
   },
   {
    "duration": 695924,
    "start_time": "2023-01-22T18:37:26.119Z"
   },
   {
    "duration": 4,
    "start_time": "2023-01-22T18:52:48.356Z"
   },
   {
    "duration": 1658,
    "start_time": "2023-01-22T18:52:53.437Z"
   },
   {
    "duration": 117,
    "start_time": "2023-01-22T18:52:59.954Z"
   },
   {
    "duration": 3,
    "start_time": "2023-01-22T18:53:12.702Z"
   },
   {
    "duration": 1622,
    "start_time": "2023-01-22T18:53:21.582Z"
   },
   {
    "duration": 4,
    "start_time": "2023-01-22T18:53:24.287Z"
   },
   {
    "duration": 4,
    "start_time": "2023-01-22T18:53:33.662Z"
   },
   {
    "duration": 1607,
    "start_time": "2023-01-22T18:53:41.112Z"
   },
   {
    "duration": 3,
    "start_time": "2023-01-22T18:53:44.446Z"
   },
   {
    "duration": 5,
    "start_time": "2023-01-22T18:53:45.670Z"
   },
   {
    "duration": 1726,
    "start_time": "2023-01-22T18:55:10.584Z"
   },
   {
    "duration": 5,
    "start_time": "2023-01-22T18:55:20.184Z"
   },
   {
    "duration": 95,
    "start_time": "2023-01-22T18:56:48.995Z"
   },
   {
    "duration": 1593230,
    "start_time": "2023-01-22T18:57:59.237Z"
   },
   {
    "duration": 5,
    "start_time": "2023-01-22T19:26:21.165Z"
   },
   {
    "duration": 14,
    "start_time": "2023-01-22T19:28:25.569Z"
   },
   {
    "duration": 3,
    "start_time": "2023-01-22T19:28:43.729Z"
   },
   {
    "duration": 4,
    "start_time": "2023-01-22T19:28:46.048Z"
   },
   {
    "duration": 5,
    "start_time": "2023-01-22T19:31:10.025Z"
   },
   {
    "duration": 3,
    "start_time": "2023-01-22T19:31:27.014Z"
   },
   {
    "duration": 5,
    "start_time": "2023-01-22T19:31:28.423Z"
   },
   {
    "duration": 476,
    "start_time": "2023-01-22T19:32:56.008Z"
   },
   {
    "duration": 83,
    "start_time": "2023-01-22T19:33:22.112Z"
   },
   {
    "duration": 4,
    "start_time": "2023-01-22T19:38:53.971Z"
   },
   {
    "duration": 4,
    "start_time": "2023-01-22T19:38:55.851Z"
   },
   {
    "duration": 684,
    "start_time": "2023-01-22T19:40:15.775Z"
   },
   {
    "duration": 515,
    "start_time": "2023-01-22T19:42:03.512Z"
   },
   {
    "duration": 431,
    "start_time": "2023-01-22T19:42:41.892Z"
   },
   {
    "duration": 446,
    "start_time": "2023-01-22T19:42:57.378Z"
   },
   {
    "duration": 171497,
    "start_time": "2023-01-22T19:43:30.557Z"
   },
   {
    "duration": 3,
    "start_time": "2023-01-22T19:47:26.250Z"
   },
   {
    "duration": 5,
    "start_time": "2023-01-22T19:47:48.426Z"
   },
   {
    "duration": 1903,
    "start_time": "2023-01-23T03:00:01.263Z"
   },
   {
    "duration": 3810,
    "start_time": "2023-01-23T03:00:05.643Z"
   },
   {
    "duration": 109,
    "start_time": "2023-01-23T03:00:10.245Z"
   },
   {
    "duration": 24,
    "start_time": "2023-01-23T03:00:11.310Z"
   },
   {
    "duration": 84,
    "start_time": "2023-01-23T03:00:11.519Z"
   },
   {
    "duration": 143,
    "start_time": "2023-01-23T03:00:12.292Z"
   },
   {
    "duration": 192,
    "start_time": "2023-01-23T03:00:13.037Z"
   },
   {
    "duration": 203,
    "start_time": "2023-01-23T03:00:13.309Z"
   },
   {
    "duration": 72,
    "start_time": "2023-01-23T03:00:13.973Z"
   },
   {
    "duration": 409,
    "start_time": "2023-01-23T03:00:15.076Z"
   },
   {
    "duration": 657,
    "start_time": "2023-01-23T03:00:15.981Z"
   },
   {
    "duration": 15,
    "start_time": "2023-01-23T03:00:16.644Z"
   },
   {
    "duration": 97,
    "start_time": "2023-01-23T03:00:16.720Z"
   },
   {
    "duration": 402,
    "start_time": "2023-01-23T03:00:17.910Z"
   },
   {
    "duration": 274,
    "start_time": "2023-01-23T03:00:18.317Z"
   },
   {
    "duration": 73,
    "start_time": "2023-01-23T03:00:18.600Z"
   },
   {
    "duration": 18,
    "start_time": "2023-01-23T03:00:20.222Z"
   },
   {
    "duration": 15,
    "start_time": "2023-01-23T03:00:20.669Z"
   },
   {
    "duration": 15,
    "start_time": "2023-01-23T03:00:21.645Z"
   },
   {
    "duration": 14,
    "start_time": "2023-01-23T03:00:22.134Z"
   },
   {
    "duration": 12,
    "start_time": "2023-01-23T03:00:23.126Z"
   },
   {
    "duration": 12,
    "start_time": "2023-01-23T03:00:24.520Z"
   },
   {
    "duration": 23,
    "start_time": "2023-01-23T03:00:24.725Z"
   },
   {
    "duration": 12,
    "start_time": "2023-01-23T03:00:25.159Z"
   },
   {
    "duration": 12,
    "start_time": "2023-01-23T03:00:26.038Z"
   },
   {
    "duration": 17,
    "start_time": "2023-01-23T03:00:26.720Z"
   },
   {
    "duration": 319,
    "start_time": "2023-01-23T03:00:26.920Z"
   },
   {
    "duration": 27,
    "start_time": "2023-01-23T03:00:27.365Z"
   },
   {
    "duration": 74,
    "start_time": "2023-01-23T03:00:30.781Z"
   },
   {
    "duration": 70,
    "start_time": "2023-01-23T03:00:31.062Z"
   },
   {
    "duration": 18,
    "start_time": "2023-01-23T03:00:31.958Z"
   },
   {
    "duration": 12,
    "start_time": "2023-01-23T03:00:37.767Z"
   },
   {
    "duration": 58,
    "start_time": "2023-01-23T03:00:40.000Z"
   },
   {
    "duration": 5,
    "start_time": "2023-01-23T03:00:51.316Z"
   },
   {
    "duration": 692060,
    "start_time": "2023-01-23T03:01:57.849Z"
   },
   {
    "duration": 4,
    "start_time": "2023-01-23T03:14:11.845Z"
   },
   {
    "duration": 191189,
    "start_time": "2023-01-23T03:14:20.134Z"
   },
   {
    "duration": 5,
    "start_time": "2023-01-23T03:18:03.116Z"
   },
   {
    "duration": 196107,
    "start_time": "2023-01-23T03:18:20.546Z"
   },
   {
    "duration": 5,
    "start_time": "2023-01-23T04:05:57.431Z"
   },
   {
    "duration": 3,
    "start_time": "2023-01-23T04:05:59.486Z"
   },
   {
    "duration": 4,
    "start_time": "2023-01-23T04:06:00.791Z"
   },
   {
    "duration": 367,
    "start_time": "2023-01-23T04:07:20.303Z"
   },
   {
    "duration": 76727,
    "start_time": "2023-01-23T04:07:23.360Z"
   },
   {
    "duration": 4,
    "start_time": "2023-01-23T04:09:11.419Z"
   },
   {
    "duration": 412,
    "start_time": "2023-01-23T04:09:17.124Z"
   },
   {
    "duration": 297,
    "start_time": "2023-01-23T04:09:59.307Z"
   },
   {
    "duration": 16,
    "start_time": "2023-01-23T04:10:55.669Z"
   },
   {
    "duration": 8,
    "start_time": "2023-01-23T04:13:57.210Z"
   },
   {
    "duration": 279,
    "start_time": "2023-01-23T04:14:10.201Z"
   },
   {
    "duration": 255,
    "start_time": "2023-01-23T04:14:27.835Z"
   },
   {
    "duration": 293,
    "start_time": "2023-01-23T04:14:48.188Z"
   },
   {
    "duration": 10,
    "start_time": "2023-01-23T04:17:00.561Z"
   },
   {
    "duration": 29,
    "start_time": "2023-01-23T04:17:09.685Z"
   },
   {
    "duration": 24,
    "start_time": "2023-01-23T04:17:52.929Z"
   },
   {
    "duration": 22,
    "start_time": "2023-01-23T04:18:29.795Z"
   },
   {
    "duration": 4592,
    "start_time": "2023-01-23T04:19:21.866Z"
   },
   {
    "duration": 619807,
    "start_time": "2023-01-23T04:20:32.468Z"
   },
   {
    "duration": 56,
    "start_time": "2023-01-23T04:36:30.647Z"
   },
   {
    "duration": 4756,
    "start_time": "2023-01-23T04:37:01.874Z"
   },
   {
    "duration": 625343,
    "start_time": "2023-01-23T04:37:21.106Z"
   },
   {
    "duration": 8,
    "start_time": "2023-01-23T05:02:20.802Z"
   },
   {
    "duration": 617384,
    "start_time": "2023-01-23T05:19:07.871Z"
   },
   {
    "duration": 4,
    "start_time": "2023-01-23T05:37:33.359Z"
   },
   {
    "duration": 5318,
    "start_time": "2023-01-23T05:37:54.205Z"
   },
   {
    "duration": 46772,
    "start_time": "2023-01-23T05:38:10.872Z"
   },
   {
    "duration": 5,
    "start_time": "2023-01-23T05:39:20.337Z"
   },
   {
    "duration": 4,
    "start_time": "2023-01-23T05:39:49.299Z"
   },
   {
    "duration": 3,
    "start_time": "2023-01-23T06:17:11.338Z"
   },
   {
    "duration": 75,
    "start_time": "2023-01-23T06:17:13.467Z"
   },
   {
    "duration": 496,
    "start_time": "2023-01-23T06:17:47.769Z"
   },
   {
    "duration": 487,
    "start_time": "2023-01-23T06:18:13.205Z"
   },
   {
    "duration": 28,
    "start_time": "2023-01-23T06:18:47.647Z"
   },
   {
    "duration": 491,
    "start_time": "2023-01-23T06:18:52.865Z"
   },
   {
    "duration": 1613,
    "start_time": "2023-01-23T06:19:31.892Z"
   },
   {
    "duration": 1741,
    "start_time": "2023-01-23T06:19:33.507Z"
   },
   {
    "duration": 90,
    "start_time": "2023-01-23T06:19:35.250Z"
   },
   {
    "duration": 23,
    "start_time": "2023-01-23T06:19:35.343Z"
   },
   {
    "duration": 79,
    "start_time": "2023-01-23T06:19:35.368Z"
   },
   {
    "duration": 120,
    "start_time": "2023-01-23T06:19:35.449Z"
   },
   {
    "duration": 189,
    "start_time": "2023-01-23T06:19:35.572Z"
   },
   {
    "duration": 220,
    "start_time": "2023-01-23T06:19:35.762Z"
   },
   {
    "duration": 64,
    "start_time": "2023-01-23T06:19:35.984Z"
   },
   {
    "duration": 434,
    "start_time": "2023-01-23T06:19:36.051Z"
   },
   {
    "duration": 621,
    "start_time": "2023-01-23T06:19:36.488Z"
   },
   {
    "duration": 11,
    "start_time": "2023-01-23T06:19:37.111Z"
   },
   {
    "duration": 185,
    "start_time": "2023-01-23T06:19:37.123Z"
   },
   {
    "duration": 408,
    "start_time": "2023-01-23T06:19:37.310Z"
   },
   {
    "duration": 276,
    "start_time": "2023-01-23T06:19:37.720Z"
   },
   {
    "duration": 106,
    "start_time": "2023-01-23T06:19:37.998Z"
   },
   {
    "duration": 25,
    "start_time": "2023-01-23T06:19:38.107Z"
   },
   {
    "duration": 22,
    "start_time": "2023-01-23T06:19:38.135Z"
   },
   {
    "duration": 43,
    "start_time": "2023-01-23T06:19:38.160Z"
   },
   {
    "duration": 24,
    "start_time": "2023-01-23T06:19:38.205Z"
   },
   {
    "duration": 31,
    "start_time": "2023-01-23T06:19:38.232Z"
   },
   {
    "duration": 28,
    "start_time": "2023-01-23T06:19:38.266Z"
   },
   {
    "duration": 42,
    "start_time": "2023-01-23T06:19:38.297Z"
   },
   {
    "duration": 12,
    "start_time": "2023-01-23T06:19:38.340Z"
   },
   {
    "duration": 31,
    "start_time": "2023-01-23T06:19:38.353Z"
   },
   {
    "duration": 16,
    "start_time": "2023-01-23T06:19:38.385Z"
   },
   {
    "duration": 294,
    "start_time": "2023-01-23T06:19:38.404Z"
   },
   {
    "duration": 21,
    "start_time": "2023-01-23T06:19:38.702Z"
   },
   {
    "duration": 70,
    "start_time": "2023-01-23T06:19:38.725Z"
   },
   {
    "duration": 44,
    "start_time": "2023-01-23T06:19:38.797Z"
   },
   {
    "duration": 17,
    "start_time": "2023-01-23T06:19:38.843Z"
   },
   {
    "duration": 29,
    "start_time": "2023-01-23T06:19:38.862Z"
   },
   {
    "duration": 46,
    "start_time": "2023-01-23T06:19:38.892Z"
   },
   {
    "duration": 3,
    "start_time": "2023-01-23T06:19:38.940Z"
   },
   {
    "duration": 671810,
    "start_time": "2023-01-23T06:19:38.944Z"
   },
   {
    "duration": 3,
    "start_time": "2023-01-23T06:30:50.756Z"
   },
   {
    "duration": 182596,
    "start_time": "2023-01-23T06:30:50.761Z"
   },
   {
    "duration": 5,
    "start_time": "2023-01-23T06:33:53.358Z"
   },
   {
    "duration": 22,
    "start_time": "2023-01-23T06:33:53.364Z"
   },
   {
    "duration": 8,
    "start_time": "2023-01-23T06:33:53.388Z"
   },
   {
    "duration": 376,
    "start_time": "2023-01-23T06:33:53.397Z"
   },
   {
    "duration": 59607,
    "start_time": "2023-01-23T06:33:53.775Z"
   },
   {
    "duration": 6,
    "start_time": "2023-01-23T06:34:53.384Z"
   },
   {
    "duration": 318,
    "start_time": "2023-01-23T06:34:53.482Z"
   },
   {
    "duration": 397,
    "start_time": "2023-01-23T06:34:53.802Z"
   },
   {
    "duration": 1,
    "start_time": "2023-01-23T06:34:54.200Z"
   },
   {
    "duration": 0,
    "start_time": "2023-01-23T06:34:54.202Z"
   },
   {
    "duration": 0,
    "start_time": "2023-01-23T06:34:54.203Z"
   },
   {
    "duration": 0,
    "start_time": "2023-01-23T06:34:54.204Z"
   },
   {
    "duration": 0,
    "start_time": "2023-01-23T06:34:54.205Z"
   },
   {
    "duration": 0,
    "start_time": "2023-01-23T06:34:54.206Z"
   },
   {
    "duration": 0,
    "start_time": "2023-01-23T06:34:54.207Z"
   },
   {
    "duration": 0,
    "start_time": "2023-01-23T06:34:54.208Z"
   },
   {
    "duration": 0,
    "start_time": "2023-01-23T06:34:54.209Z"
   },
   {
    "duration": 0,
    "start_time": "2023-01-23T06:34:54.210Z"
   },
   {
    "duration": 0,
    "start_time": "2023-01-23T06:34:54.212Z"
   },
   {
    "duration": 0,
    "start_time": "2023-01-23T06:34:54.213Z"
   },
   {
    "duration": 0,
    "start_time": "2023-01-23T06:34:54.213Z"
   },
   {
    "duration": 0,
    "start_time": "2023-01-23T06:34:54.214Z"
   },
   {
    "duration": 3,
    "start_time": "2023-01-23T06:35:33.828Z"
   },
   {
    "duration": 467,
    "start_time": "2023-01-23T06:35:35.036Z"
   },
   {
    "duration": 366,
    "start_time": "2023-01-23T06:36:35.270Z"
   },
   {
    "duration": 19,
    "start_time": "2023-01-23T06:36:43.829Z"
   },
   {
    "duration": 629494,
    "start_time": "2023-01-23T06:37:48.802Z"
   },
   {
    "duration": 52,
    "start_time": "2023-01-24T02:39:35.226Z"
   },
   {
    "duration": 1714,
    "start_time": "2023-01-24T02:42:51.981Z"
   },
   {
    "duration": 1278,
    "start_time": "2023-01-24T02:42:53.697Z"
   },
   {
    "duration": 144,
    "start_time": "2023-01-24T02:42:54.977Z"
   },
   {
    "duration": 27,
    "start_time": "2023-01-24T02:42:55.124Z"
   },
   {
    "duration": 122,
    "start_time": "2023-01-24T02:42:55.153Z"
   },
   {
    "duration": 147,
    "start_time": "2023-01-24T02:42:55.278Z"
   },
   {
    "duration": 236,
    "start_time": "2023-01-24T02:42:55.427Z"
   },
   {
    "duration": 296,
    "start_time": "2023-01-24T02:42:55.665Z"
   },
   {
    "duration": 64,
    "start_time": "2023-01-24T02:42:55.963Z"
   },
   {
    "duration": 343,
    "start_time": "2023-01-24T02:42:56.029Z"
   },
   {
    "duration": 602,
    "start_time": "2023-01-24T02:42:56.373Z"
   },
   {
    "duration": 14,
    "start_time": "2023-01-24T02:42:56.984Z"
   },
   {
    "duration": 98,
    "start_time": "2023-01-24T02:42:57.000Z"
   },
   {
    "duration": 497,
    "start_time": "2023-01-24T02:42:57.099Z"
   },
   {
    "duration": 336,
    "start_time": "2023-01-24T02:42:57.598Z"
   },
   {
    "duration": 98,
    "start_time": "2023-01-24T02:42:57.936Z"
   },
   {
    "duration": 22,
    "start_time": "2023-01-24T02:42:58.036Z"
   },
   {
    "duration": 46,
    "start_time": "2023-01-24T02:42:58.060Z"
   },
   {
    "duration": 20,
    "start_time": "2023-01-24T02:42:58.108Z"
   },
   {
    "duration": 18,
    "start_time": "2023-01-24T02:42:58.130Z"
   },
   {
    "duration": 17,
    "start_time": "2023-01-24T02:42:58.150Z"
   },
   {
    "duration": 40,
    "start_time": "2023-01-24T02:42:58.168Z"
   },
   {
    "duration": 41,
    "start_time": "2023-01-24T02:42:58.210Z"
   },
   {
    "duration": 36,
    "start_time": "2023-01-24T02:42:58.253Z"
   },
   {
    "duration": 20,
    "start_time": "2023-01-24T02:42:58.291Z"
   },
   {
    "duration": 26,
    "start_time": "2023-01-24T02:42:58.313Z"
   },
   {
    "duration": 353,
    "start_time": "2023-01-24T02:42:58.341Z"
   },
   {
    "duration": 32,
    "start_time": "2023-01-24T02:42:58.698Z"
   },
   {
    "duration": 98,
    "start_time": "2023-01-24T02:42:58.732Z"
   },
   {
    "duration": 67,
    "start_time": "2023-01-24T02:42:58.832Z"
   },
   {
    "duration": 36,
    "start_time": "2023-01-24T02:42:58.902Z"
   },
   {
    "duration": 13,
    "start_time": "2023-01-24T02:42:58.939Z"
   },
   {
    "duration": 89,
    "start_time": "2023-01-24T02:42:58.954Z"
   },
   {
    "duration": 4,
    "start_time": "2023-01-24T02:42:59.046Z"
   },
   {
    "duration": 725436,
    "start_time": "2023-01-24T02:42:59.052Z"
   },
   {
    "duration": 3,
    "start_time": "2023-01-24T02:55:04.490Z"
   },
   {
    "duration": 198847,
    "start_time": "2023-01-24T02:55:04.495Z"
   },
   {
    "duration": 4,
    "start_time": "2023-01-24T02:58:23.344Z"
   },
   {
    "duration": 12,
    "start_time": "2023-01-24T02:58:23.350Z"
   },
   {
    "duration": 9,
    "start_time": "2023-01-24T02:58:23.364Z"
   },
   {
    "duration": 419,
    "start_time": "2023-01-24T02:58:23.383Z"
   },
   {
    "duration": 82689,
    "start_time": "2023-01-24T02:58:23.804Z"
   },
   {
    "duration": 93,
    "start_time": "2023-01-24T02:59:46.495Z"
   },
   {
    "duration": 508,
    "start_time": "2023-01-24T02:59:46.590Z"
   },
   {
    "duration": 1,
    "start_time": "2023-01-24T02:59:47.100Z"
   },
   {
    "duration": 0,
    "start_time": "2023-01-24T02:59:47.102Z"
   },
   {
    "duration": 0,
    "start_time": "2023-01-24T02:59:47.104Z"
   },
   {
    "duration": 0,
    "start_time": "2023-01-24T02:59:47.106Z"
   },
   {
    "duration": 0,
    "start_time": "2023-01-24T02:59:47.108Z"
   },
   {
    "duration": 0,
    "start_time": "2023-01-24T02:59:47.109Z"
   },
   {
    "duration": 0,
    "start_time": "2023-01-24T02:59:47.111Z"
   },
   {
    "duration": 0,
    "start_time": "2023-01-24T02:59:47.113Z"
   },
   {
    "duration": 0,
    "start_time": "2023-01-24T02:59:47.115Z"
   },
   {
    "duration": 0,
    "start_time": "2023-01-24T02:59:47.116Z"
   },
   {
    "duration": 0,
    "start_time": "2023-01-24T02:59:47.118Z"
   },
   {
    "duration": 0,
    "start_time": "2023-01-24T02:59:47.120Z"
   },
   {
    "duration": 441,
    "start_time": "2023-01-24T04:28:27.771Z"
   },
   {
    "duration": 2158,
    "start_time": "2023-01-24T04:28:30.899Z"
   },
   {
    "duration": 2233,
    "start_time": "2023-01-24T04:28:59.813Z"
   },
   {
    "duration": 102,
    "start_time": "2023-01-24T04:29:42.164Z"
   },
   {
    "duration": 15,
    "start_time": "2023-01-24T04:33:12.258Z"
   },
   {
    "duration": 17,
    "start_time": "2023-01-24T04:33:34.179Z"
   },
   {
    "duration": 10,
    "start_time": "2023-01-24T04:33:46.140Z"
   },
   {
    "duration": 12,
    "start_time": "2023-01-24T04:34:10.013Z"
   },
   {
    "duration": 13,
    "start_time": "2023-01-24T04:34:48.886Z"
   },
   {
    "duration": 122,
    "start_time": "2023-01-24T04:35:40.689Z"
   },
   {
    "duration": 14,
    "start_time": "2023-01-24T04:36:15.385Z"
   },
   {
    "duration": 1650,
    "start_time": "2023-01-24T04:40:29.101Z"
   },
   {
    "duration": 1091,
    "start_time": "2023-01-24T04:40:30.753Z"
   },
   {
    "duration": 183,
    "start_time": "2023-01-24T04:40:31.846Z"
   },
   {
    "duration": 24,
    "start_time": "2023-01-24T04:40:32.032Z"
   },
   {
    "duration": 192,
    "start_time": "2023-01-24T04:40:32.058Z"
   },
   {
    "duration": 185,
    "start_time": "2023-01-24T04:40:32.252Z"
   },
   {
    "duration": 207,
    "start_time": "2023-01-24T04:40:32.439Z"
   },
   {
    "duration": 238,
    "start_time": "2023-01-24T04:40:32.648Z"
   },
   {
    "duration": 59,
    "start_time": "2023-01-24T04:40:32.888Z"
   },
   {
    "duration": 368,
    "start_time": "2023-01-24T04:40:32.950Z"
   },
   {
    "duration": 498,
    "start_time": "2023-01-24T04:40:33.320Z"
   },
   {
    "duration": 12,
    "start_time": "2023-01-24T04:40:33.819Z"
   },
   {
    "duration": 190,
    "start_time": "2023-01-24T04:40:33.834Z"
   },
   {
    "duration": 453,
    "start_time": "2023-01-24T04:40:34.025Z"
   },
   {
    "duration": 278,
    "start_time": "2023-01-24T04:40:34.480Z"
   },
   {
    "duration": 88,
    "start_time": "2023-01-24T04:40:34.760Z"
   },
   {
    "duration": 34,
    "start_time": "2023-01-24T04:40:34.850Z"
   },
   {
    "duration": 21,
    "start_time": "2023-01-24T04:40:34.886Z"
   },
   {
    "duration": 51,
    "start_time": "2023-01-24T04:40:34.909Z"
   },
   {
    "duration": 41,
    "start_time": "2023-01-24T04:40:34.961Z"
   },
   {
    "duration": 38,
    "start_time": "2023-01-24T04:40:35.004Z"
   },
   {
    "duration": 32,
    "start_time": "2023-01-24T04:40:35.044Z"
   },
   {
    "duration": 37,
    "start_time": "2023-01-24T04:40:35.078Z"
   },
   {
    "duration": 39,
    "start_time": "2023-01-24T04:40:35.117Z"
   },
   {
    "duration": 37,
    "start_time": "2023-01-24T04:40:35.159Z"
   },
   {
    "duration": 34,
    "start_time": "2023-01-24T04:40:35.198Z"
   },
   {
    "duration": 351,
    "start_time": "2023-01-24T04:40:35.233Z"
   },
   {
    "duration": 25,
    "start_time": "2023-01-24T04:40:35.589Z"
   },
   {
    "duration": 119,
    "start_time": "2023-01-24T04:40:35.616Z"
   },
   {
    "duration": 125,
    "start_time": "2023-01-24T04:40:35.737Z"
   },
   {
    "duration": 37,
    "start_time": "2023-01-24T04:40:35.864Z"
   },
   {
    "duration": 30,
    "start_time": "2023-01-24T04:40:35.903Z"
   },
   {
    "duration": 79,
    "start_time": "2023-01-24T04:40:35.935Z"
   },
   {
    "duration": 3,
    "start_time": "2023-01-24T04:40:36.016Z"
   },
   {
    "duration": 747311,
    "start_time": "2023-01-24T04:40:36.021Z"
   },
   {
    "duration": 5,
    "start_time": "2023-01-24T04:53:03.333Z"
   },
   {
    "duration": 205018,
    "start_time": "2023-01-24T04:53:03.340Z"
   },
   {
    "duration": 3,
    "start_time": "2023-01-24T04:56:28.360Z"
   },
   {
    "duration": 20,
    "start_time": "2023-01-24T04:56:28.365Z"
   },
   {
    "duration": 4,
    "start_time": "2023-01-24T04:56:28.387Z"
   },
   {
    "duration": 397,
    "start_time": "2023-01-24T04:56:28.392Z"
   },
   {
    "duration": 88199,
    "start_time": "2023-01-24T04:56:28.791Z"
   },
   {
    "duration": 93,
    "start_time": "2023-01-24T04:57:56.993Z"
   },
   {
    "duration": 486,
    "start_time": "2023-01-24T04:57:57.089Z"
   },
   {
    "duration": 19,
    "start_time": "2023-01-24T04:57:57.577Z"
   },
   {
    "duration": 2283,
    "start_time": "2023-01-24T04:57:57.598Z"
   },
   {
    "duration": 0,
    "start_time": "2023-01-24T04:57:59.884Z"
   },
   {
    "duration": 0,
    "start_time": "2023-01-24T04:57:59.887Z"
   },
   {
    "duration": 0,
    "start_time": "2023-01-24T04:57:59.888Z"
   },
   {
    "duration": 0,
    "start_time": "2023-01-24T04:57:59.890Z"
   },
   {
    "duration": 0,
    "start_time": "2023-01-24T04:57:59.891Z"
   },
   {
    "duration": 0,
    "start_time": "2023-01-24T04:57:59.893Z"
   },
   {
    "duration": 0,
    "start_time": "2023-01-24T04:57:59.894Z"
   },
   {
    "duration": 0,
    "start_time": "2023-01-24T04:57:59.896Z"
   },
   {
    "duration": 0,
    "start_time": "2023-01-24T04:57:59.898Z"
   },
   {
    "duration": 0,
    "start_time": "2023-01-24T04:57:59.899Z"
   },
   {
    "duration": 0,
    "start_time": "2023-01-24T04:57:59.900Z"
   },
   {
    "duration": 110,
    "start_time": "2023-01-24T05:03:49.399Z"
   },
   {
    "duration": 81,
    "start_time": "2023-01-24T05:03:50.425Z"
   },
   {
    "duration": 404,
    "start_time": "2023-01-24T05:04:11.250Z"
   },
   {
    "duration": 15,
    "start_time": "2023-01-24T05:04:11.811Z"
   },
   {
    "duration": 389,
    "start_time": "2023-01-24T05:05:38.395Z"
   },
   {
    "duration": 16,
    "start_time": "2023-01-24T05:05:39.459Z"
   },
   {
    "duration": 361,
    "start_time": "2023-01-24T05:11:21.135Z"
   },
   {
    "duration": 411,
    "start_time": "2023-01-24T05:11:34.557Z"
   },
   {
    "duration": 17,
    "start_time": "2023-01-24T05:11:36.189Z"
   },
   {
    "duration": 763868,
    "start_time": "2023-01-24T05:11:40.926Z"
   },
   {
    "duration": 4,
    "start_time": "2023-01-24T05:25:27.489Z"
   },
   {
    "duration": 51602,
    "start_time": "2023-01-24T05:25:31.266Z"
   },
   {
    "duration": 5,
    "start_time": "2023-01-24T05:26:42.499Z"
   },
   {
    "duration": 5,
    "start_time": "2023-01-24T05:26:44.338Z"
   },
   {
    "duration": 4,
    "start_time": "2023-01-24T05:26:57.827Z"
   },
   {
    "duration": 515,
    "start_time": "2023-01-24T05:26:59.300Z"
   },
   {
    "duration": 89,
    "start_time": "2023-01-24T05:27:40.342Z"
   },
   {
    "duration": 316,
    "start_time": "2023-01-24T05:28:18.031Z"
   },
   {
    "duration": 462,
    "start_time": "2023-01-24T05:28:25.023Z"
   },
   {
    "duration": 45,
    "start_time": "2023-01-24T05:34:55.147Z"
   },
   {
    "duration": 1207,
    "start_time": "2023-01-24T05:36:27.885Z"
   },
   {
    "duration": 472,
    "start_time": "2023-01-24T05:37:45.318Z"
   },
   {
    "duration": 1614,
    "start_time": "2023-01-24T07:24:12.442Z"
   },
   {
    "duration": 1141,
    "start_time": "2023-01-24T07:24:14.058Z"
   },
   {
    "duration": 136,
    "start_time": "2023-01-24T07:24:15.204Z"
   },
   {
    "duration": 42,
    "start_time": "2023-01-24T07:24:15.344Z"
   },
   {
    "duration": 142,
    "start_time": "2023-01-24T07:24:15.388Z"
   },
   {
    "duration": 184,
    "start_time": "2023-01-24T07:24:15.532Z"
   },
   {
    "duration": 242,
    "start_time": "2023-01-24T07:24:15.718Z"
   },
   {
    "duration": 311,
    "start_time": "2023-01-24T07:24:15.962Z"
   },
   {
    "duration": 61,
    "start_time": "2023-01-24T07:24:16.275Z"
   },
   {
    "duration": 384,
    "start_time": "2023-01-24T07:24:16.338Z"
   },
   {
    "duration": 564,
    "start_time": "2023-01-24T07:24:16.724Z"
   },
   {
    "duration": 23,
    "start_time": "2023-01-24T07:24:17.291Z"
   },
   {
    "duration": 191,
    "start_time": "2023-01-24T07:24:17.317Z"
   },
   {
    "duration": 534,
    "start_time": "2023-01-24T07:24:17.517Z"
   },
   {
    "duration": 294,
    "start_time": "2023-01-24T07:24:18.053Z"
   },
   {
    "duration": 96,
    "start_time": "2023-01-24T07:24:18.349Z"
   },
   {
    "duration": 18,
    "start_time": "2023-01-24T07:24:18.447Z"
   },
   {
    "duration": 52,
    "start_time": "2023-01-24T07:24:18.467Z"
   },
   {
    "duration": 33,
    "start_time": "2023-01-24T07:24:18.521Z"
   },
   {
    "duration": 54,
    "start_time": "2023-01-24T07:24:18.556Z"
   },
   {
    "duration": 37,
    "start_time": "2023-01-24T07:24:18.613Z"
   },
   {
    "duration": 40,
    "start_time": "2023-01-24T07:24:18.652Z"
   },
   {
    "duration": 57,
    "start_time": "2023-01-24T07:24:18.694Z"
   },
   {
    "duration": 35,
    "start_time": "2023-01-24T07:24:18.753Z"
   },
   {
    "duration": 57,
    "start_time": "2023-01-24T07:24:18.790Z"
   },
   {
    "duration": 34,
    "start_time": "2023-01-24T07:24:18.849Z"
   },
   {
    "duration": 380,
    "start_time": "2023-01-24T07:24:18.896Z"
   },
   {
    "duration": 37,
    "start_time": "2023-01-24T07:24:19.278Z"
   },
   {
    "duration": 81,
    "start_time": "2023-01-24T07:24:19.317Z"
   },
   {
    "duration": 67,
    "start_time": "2023-01-24T07:24:19.404Z"
   },
   {
    "duration": 39,
    "start_time": "2023-01-24T07:24:19.473Z"
   },
   {
    "duration": 13,
    "start_time": "2023-01-24T07:24:19.514Z"
   },
   {
    "duration": 51,
    "start_time": "2023-01-24T07:24:19.530Z"
   },
   {
    "duration": 4,
    "start_time": "2023-01-24T07:24:19.589Z"
   },
   {
    "duration": 835362,
    "start_time": "2023-01-24T07:24:19.596Z"
   },
   {
    "duration": 4,
    "start_time": "2023-01-24T07:38:14.960Z"
   },
   {
    "duration": 232806,
    "start_time": "2023-01-24T07:38:14.966Z"
   },
   {
    "duration": 3,
    "start_time": "2023-01-24T07:42:07.774Z"
   },
   {
    "duration": 47,
    "start_time": "2023-01-24T07:42:07.785Z"
   },
   {
    "duration": 22,
    "start_time": "2023-01-24T07:42:07.834Z"
   },
   {
    "duration": 462,
    "start_time": "2023-01-24T07:42:07.861Z"
   },
   {
    "duration": 258571,
    "start_time": "2023-01-24T07:42:08.326Z"
   },
   {
    "duration": 13,
    "start_time": "2023-01-24T07:46:26.905Z"
   },
   {
    "duration": 571,
    "start_time": "2023-01-24T07:46:26.989Z"
   },
   {
    "duration": 13,
    "start_time": "2023-01-24T07:46:27.562Z"
   },
   {
    "duration": 868736,
    "start_time": "2023-01-24T07:46:27.584Z"
   },
   {
    "duration": 4,
    "start_time": "2023-01-24T08:00:56.322Z"
   },
   {
    "duration": 59530,
    "start_time": "2023-01-24T08:00:56.328Z"
   },
   {
    "duration": 4,
    "start_time": "2023-01-24T08:01:55.860Z"
   },
   {
    "duration": 8,
    "start_time": "2023-01-24T08:01:55.866Z"
   },
   {
    "duration": 3,
    "start_time": "2023-01-24T08:01:55.887Z"
   },
   {
    "duration": 4091903,
    "start_time": "2023-01-24T08:01:55.892Z"
   },
   {
    "duration": 4,
    "start_time": "2023-01-24T09:10:07.796Z"
   },
   {
    "duration": 169,
    "start_time": "2023-01-24T09:10:07.802Z"
   },
   {
    "duration": 0,
    "start_time": "2023-01-24T09:10:07.973Z"
   },
   {
    "duration": 0,
    "start_time": "2023-01-24T09:10:07.974Z"
   },
   {
    "duration": 0,
    "start_time": "2023-01-24T09:10:07.976Z"
   },
   {
    "duration": 0,
    "start_time": "2023-01-24T09:10:07.985Z"
   },
   {
    "duration": 11987,
    "start_time": "2023-01-24T13:31:05.207Z"
   },
   {
    "duration": 230197,
    "start_time": "2023-01-24T13:31:24.418Z"
   },
   {
    "duration": 5,
    "start_time": "2023-01-24T13:35:38.041Z"
   },
   {
    "duration": 5,
    "start_time": "2023-01-24T13:35:46.445Z"
   },
   {
    "duration": 12,
    "start_time": "2023-01-24T13:36:50.183Z"
   },
   {
    "duration": 4,
    "start_time": "2023-01-24T13:37:12.139Z"
   },
   {
    "duration": 18,
    "start_time": "2023-01-24T13:37:18.458Z"
   },
   {
    "duration": 5,
    "start_time": "2023-01-24T13:37:40.652Z"
   },
   {
    "duration": 7,
    "start_time": "2023-01-24T13:37:42.547Z"
   },
   {
    "duration": 56,
    "start_time": "2023-01-24T13:41:00.319Z"
   },
   {
    "duration": 20,
    "start_time": "2023-01-24T13:42:14.665Z"
   },
   {
    "duration": 15,
    "start_time": "2023-01-24T13:46:11.736Z"
   },
   {
    "duration": 21,
    "start_time": "2023-01-24T13:47:42.899Z"
   },
   {
    "duration": 16,
    "start_time": "2023-01-24T13:48:23.486Z"
   },
   {
    "duration": 19,
    "start_time": "2023-01-24T13:49:01.132Z"
   },
   {
    "duration": 114,
    "start_time": "2023-01-24T13:49:22.293Z"
   },
   {
    "duration": 118,
    "start_time": "2023-01-24T13:49:31.336Z"
   },
   {
    "duration": 18,
    "start_time": "2023-01-24T13:49:34.422Z"
   },
   {
    "duration": 3505,
    "start_time": "2023-01-24T13:49:49.134Z"
   },
   {
    "duration": 3426,
    "start_time": "2023-01-24T13:51:15.880Z"
   },
   {
    "duration": 15,
    "start_time": "2023-01-24T13:51:21.441Z"
   },
   {
    "duration": 4,
    "start_time": "2023-01-24T13:51:51.402Z"
   },
   {
    "duration": 12,
    "start_time": "2023-01-24T13:52:00.531Z"
   },
   {
    "duration": 7,
    "start_time": "2023-01-24T13:52:06.081Z"
   },
   {
    "duration": 4,
    "start_time": "2023-01-24T13:57:43.332Z"
   },
   {
    "duration": 3,
    "start_time": "2023-01-24T13:58:12.724Z"
   },
   {
    "duration": 7,
    "start_time": "2023-01-24T13:58:58.374Z"
   },
   {
    "duration": 7,
    "start_time": "2023-01-24T13:59:01.255Z"
   },
   {
    "duration": 6,
    "start_time": "2023-01-24T14:00:23.210Z"
   },
   {
    "duration": 7,
    "start_time": "2023-01-24T14:00:45.952Z"
   },
   {
    "duration": 11,
    "start_time": "2023-01-24T14:01:07.450Z"
   },
   {
    "duration": 3,
    "start_time": "2023-01-24T14:01:13.761Z"
   },
   {
    "duration": 6,
    "start_time": "2023-01-24T14:01:14.776Z"
   },
   {
    "duration": 2016,
    "start_time": "2023-01-25T16:03:21.256Z"
   },
   {
    "duration": 3401,
    "start_time": "2023-01-25T16:03:25.188Z"
   },
   {
    "duration": 153,
    "start_time": "2023-01-25T16:03:28.592Z"
   },
   {
    "duration": 41,
    "start_time": "2023-01-25T16:03:28.747Z"
   },
   {
    "duration": 151,
    "start_time": "2023-01-25T16:03:28.792Z"
   },
   {
    "duration": 201,
    "start_time": "2023-01-25T16:03:31.261Z"
   },
   {
    "duration": 226,
    "start_time": "2023-01-25T16:03:32.846Z"
   },
   {
    "duration": 314,
    "start_time": "2023-01-25T16:03:35.670Z"
   },
   {
    "duration": 72,
    "start_time": "2023-01-25T16:03:37.091Z"
   },
   {
    "duration": 321,
    "start_time": "2023-01-25T16:03:38.756Z"
   },
   {
    "duration": 648,
    "start_time": "2023-01-25T16:03:41.841Z"
   },
   {
    "duration": 148,
    "start_time": "2023-01-25T16:04:14.574Z"
   },
   {
    "duration": 430,
    "start_time": "2023-01-25T16:04:27.484Z"
   },
   {
    "duration": 12,
    "start_time": "2023-01-25T16:10:46.512Z"
   },
   {
    "duration": 205,
    "start_time": "2023-01-25T16:10:59.871Z"
   },
   {
    "duration": 171,
    "start_time": "2023-01-25T16:11:36.168Z"
   },
   {
    "duration": 199,
    "start_time": "2023-01-25T16:13:53.989Z"
   },
   {
    "duration": 194,
    "start_time": "2023-01-25T16:14:06.188Z"
   },
   {
    "duration": 197,
    "start_time": "2023-01-25T16:14:09.811Z"
   },
   {
    "duration": 192,
    "start_time": "2023-01-25T16:14:28.924Z"
   },
   {
    "duration": 202,
    "start_time": "2023-01-25T16:14:33.397Z"
   },
   {
    "duration": 233,
    "start_time": "2023-01-25T16:16:13.303Z"
   },
   {
    "duration": 200,
    "start_time": "2023-01-25T16:17:13.546Z"
   },
   {
    "duration": 203,
    "start_time": "2023-01-25T16:18:24.011Z"
   },
   {
    "duration": 13,
    "start_time": "2023-01-25T16:18:31.551Z"
   },
   {
    "duration": 87,
    "start_time": "2023-01-25T16:18:32.082Z"
   },
   {
    "duration": 372,
    "start_time": "2023-01-25T16:18:36.385Z"
   },
   {
    "duration": 291,
    "start_time": "2023-01-25T16:19:11.556Z"
   },
   {
    "duration": 233,
    "start_time": "2023-01-25T16:19:47.256Z"
   },
   {
    "duration": 194,
    "start_time": "2023-01-25T16:21:13.906Z"
   },
   {
    "duration": 1797,
    "start_time": "2023-01-25T16:50:38.374Z"
   },
   {
    "duration": 3164,
    "start_time": "2023-01-25T16:50:41.949Z"
   },
   {
    "duration": 121,
    "start_time": "2023-01-25T16:50:45.116Z"
   },
   {
    "duration": 22,
    "start_time": "2023-01-25T16:50:45.239Z"
   },
   {
    "duration": 108,
    "start_time": "2023-01-25T16:50:45.263Z"
   },
   {
    "duration": 136,
    "start_time": "2023-01-25T16:50:47.260Z"
   },
   {
    "duration": 56,
    "start_time": "2023-01-25T16:57:02.287Z"
   },
   {
    "duration": 1564,
    "start_time": "2023-01-25T16:57:24.698Z"
   },
   {
    "duration": 1027,
    "start_time": "2023-01-25T16:57:29.113Z"
   },
   {
    "duration": 120,
    "start_time": "2023-01-25T16:57:30.142Z"
   },
   {
    "duration": 15,
    "start_time": "2023-01-25T16:57:30.264Z"
   },
   {
    "duration": 28,
    "start_time": "2023-01-25T16:57:30.753Z"
   },
   {
    "duration": 104,
    "start_time": "2023-01-25T16:57:30.945Z"
   },
   {
    "duration": 138,
    "start_time": "2023-01-25T16:57:31.523Z"
   },
   {
    "duration": 250,
    "start_time": "2023-01-25T16:57:32.082Z"
   },
   {
    "duration": 264,
    "start_time": "2023-01-25T16:57:32.339Z"
   },
   {
    "duration": 69,
    "start_time": "2023-01-25T16:57:32.853Z"
   },
   {
    "duration": 396,
    "start_time": "2023-01-25T16:57:34.135Z"
   },
   {
    "duration": 197,
    "start_time": "2023-01-25T16:57:37.416Z"
   },
   {
    "duration": 260,
    "start_time": "2023-01-25T16:57:59.498Z"
   },
   {
    "duration": 190,
    "start_time": "2023-01-25T16:58:40.596Z"
   },
   {
    "duration": 202,
    "start_time": "2023-01-25T16:58:47.469Z"
   },
   {
    "duration": 248,
    "start_time": "2023-01-25T16:59:04.918Z"
   },
   {
    "duration": 88,
    "start_time": "2023-01-25T16:59:52.565Z"
   },
   {
    "duration": 91,
    "start_time": "2023-01-25T16:59:58.566Z"
   },
   {
    "duration": 271,
    "start_time": "2023-01-25T17:00:04.366Z"
   },
   {
    "duration": 180,
    "start_time": "2023-01-25T17:00:26.976Z"
   },
   {
    "duration": 23,
    "start_time": "2023-01-25T17:02:33.222Z"
   },
   {
    "duration": 94,
    "start_time": "2023-01-25T17:02:34.163Z"
   },
   {
    "duration": 881,
    "start_time": "2023-01-25T17:03:35.579Z"
   },
   {
    "duration": 411,
    "start_time": "2023-01-25T17:06:35.786Z"
   },
   {
    "duration": 4,
    "start_time": "2023-01-25T17:06:38.540Z"
   },
   {
    "duration": 389,
    "start_time": "2023-01-25T17:07:03.907Z"
   },
   {
    "duration": 4,
    "start_time": "2023-01-25T17:07:05.531Z"
   },
   {
    "duration": 901,
    "start_time": "2023-01-25T17:07:40.291Z"
   },
   {
    "duration": 829,
    "start_time": "2023-01-25T17:07:49.461Z"
   },
   {
    "duration": 1230,
    "start_time": "2023-01-25T17:08:14.059Z"
   },
   {
    "duration": 92950,
    "start_time": "2023-01-25T17:08:46.790Z"
   },
   {
    "duration": 5,
    "start_time": "2023-01-25T17:11:06.249Z"
   },
   {
    "duration": 119,
    "start_time": "2023-01-25T17:11:43.587Z"
   },
   {
    "duration": 71,
    "start_time": "2023-01-25T17:12:03.995Z"
   },
   {
    "duration": 204,
    "start_time": "2023-01-25T17:12:15.043Z"
   },
   {
    "duration": 11,
    "start_time": "2023-01-25T17:12:15.972Z"
   },
   {
    "duration": 69,
    "start_time": "2023-01-25T17:12:16.163Z"
   },
   {
    "duration": 171,
    "start_time": "2023-01-25T17:12:16.914Z"
   },
   {
    "duration": 250,
    "start_time": "2023-01-25T17:12:17.115Z"
   },
   {
    "duration": 73,
    "start_time": "2023-01-25T17:12:17.490Z"
   },
   {
    "duration": 17,
    "start_time": "2023-01-25T17:12:18.855Z"
   },
   {
    "duration": 17,
    "start_time": "2023-01-25T17:12:19.241Z"
   },
   {
    "duration": 17,
    "start_time": "2023-01-25T17:12:19.840Z"
   },
   {
    "duration": 16,
    "start_time": "2023-01-25T17:12:20.209Z"
   },
   {
    "duration": 16,
    "start_time": "2023-01-25T17:12:21.777Z"
   },
   {
    "duration": 16,
    "start_time": "2023-01-25T17:12:22.378Z"
   },
   {
    "duration": 29,
    "start_time": "2023-01-25T17:12:22.586Z"
   },
   {
    "duration": 15,
    "start_time": "2023-01-25T17:12:23.018Z"
   },
   {
    "duration": 16,
    "start_time": "2023-01-25T17:12:24.021Z"
   },
   {
    "duration": 19,
    "start_time": "2023-01-25T17:12:24.714Z"
   },
   {
    "duration": 183,
    "start_time": "2023-01-25T17:12:24.932Z"
   },
   {
    "duration": 22,
    "start_time": "2023-01-25T17:12:25.410Z"
   },
   {
    "duration": 67,
    "start_time": "2023-01-25T17:12:26.361Z"
   },
   {
    "duration": 62,
    "start_time": "2023-01-25T17:12:26.579Z"
   },
   {
    "duration": 24,
    "start_time": "2023-01-25T17:12:29.107Z"
   },
   {
    "duration": 14,
    "start_time": "2023-01-25T17:12:30.594Z"
   },
   {
    "duration": 94,
    "start_time": "2023-01-25T17:12:31.739Z"
   },
   {
    "duration": 819,
    "start_time": "2023-01-25T17:12:40.364Z"
   },
   {
    "duration": 62633,
    "start_time": "2023-01-25T17:12:44.892Z"
   },
   {
    "duration": 4,
    "start_time": "2023-01-25T17:18:04.061Z"
   },
   {
    "duration": 350,
    "start_time": "2023-01-25T17:18:13.055Z"
   },
   {
    "duration": 13,
    "start_time": "2023-01-25T17:18:16.052Z"
   },
   {
    "duration": 61,
    "start_time": "2023-01-25T17:18:21.840Z"
   },
   {
    "duration": 108,
    "start_time": "2023-01-25T17:19:32.791Z"
   },
   {
    "duration": 156,
    "start_time": "2023-01-25T17:32:18.030Z"
   },
   {
    "duration": 367524,
    "start_time": "2023-01-25T17:32:48.915Z"
   },
   {
    "duration": 4,
    "start_time": "2023-01-25T17:42:33.888Z"
   },
   {
    "duration": 3,
    "start_time": "2023-01-25T17:42:35.456Z"
   },
   {
    "duration": 160,
    "start_time": "2023-01-25T17:43:00.737Z"
   },
   {
    "duration": 9,
    "start_time": "2023-01-25T17:43:04.136Z"
   },
   {
    "duration": 19,
    "start_time": "2023-01-25T17:44:00.522Z"
   },
   {
    "duration": 1538,
    "start_time": "2023-01-25T18:06:38.105Z"
   },
   {
    "duration": 1179,
    "start_time": "2023-01-25T18:06:40.199Z"
   },
   {
    "duration": 154,
    "start_time": "2023-01-25T18:06:41.380Z"
   },
   {
    "duration": 18,
    "start_time": "2023-01-25T18:06:41.535Z"
   },
   {
    "duration": 31,
    "start_time": "2023-01-25T18:06:41.602Z"
   },
   {
    "duration": 182,
    "start_time": "2023-01-25T18:06:41.922Z"
   },
   {
    "duration": 136,
    "start_time": "2023-01-25T18:06:42.496Z"
   },
   {
    "duration": 221,
    "start_time": "2023-01-25T18:06:43.048Z"
   },
   {
    "duration": 321,
    "start_time": "2023-01-25T18:06:43.271Z"
   },
   {
    "duration": 63,
    "start_time": "2023-01-25T18:06:43.793Z"
   },
   {
    "duration": 420,
    "start_time": "2023-01-25T18:06:44.769Z"
   },
   {
    "duration": 215,
    "start_time": "2023-01-25T18:06:45.744Z"
   },
   {
    "duration": 14,
    "start_time": "2023-01-25T18:06:46.161Z"
   },
   {
    "duration": 110,
    "start_time": "2023-01-25T18:06:46.361Z"
   },
   {
    "duration": 282,
    "start_time": "2023-01-25T18:06:47.169Z"
   },
   {
    "duration": 285,
    "start_time": "2023-01-25T18:06:47.452Z"
   },
   {
    "duration": 82,
    "start_time": "2023-01-25T18:06:47.759Z"
   },
   {
    "duration": 19,
    "start_time": "2023-01-25T18:06:49.296Z"
   },
   {
    "duration": 22,
    "start_time": "2023-01-25T18:06:49.720Z"
   },
   {
    "duration": 23,
    "start_time": "2023-01-25T18:06:50.360Z"
   },
   {
    "duration": 17,
    "start_time": "2023-01-25T18:06:50.791Z"
   },
   {
    "duration": 16,
    "start_time": "2023-01-25T18:06:51.897Z"
   },
   {
    "duration": 14,
    "start_time": "2023-01-25T18:06:52.504Z"
   },
   {
    "duration": 32,
    "start_time": "2023-01-25T18:06:52.696Z"
   },
   {
    "duration": 16,
    "start_time": "2023-01-25T18:06:53.104Z"
   },
   {
    "duration": 23,
    "start_time": "2023-01-25T18:06:53.921Z"
   },
   {
    "duration": 18,
    "start_time": "2023-01-25T18:06:54.577Z"
   },
   {
    "duration": 172,
    "start_time": "2023-01-25T18:06:54.793Z"
   },
   {
    "duration": 27,
    "start_time": "2023-01-25T18:06:55.236Z"
   },
   {
    "duration": 77,
    "start_time": "2023-01-25T18:06:56.104Z"
   },
   {
    "duration": 72,
    "start_time": "2023-01-25T18:06:56.324Z"
   },
   {
    "duration": 33,
    "start_time": "2023-01-25T18:06:57.145Z"
   },
   {
    "duration": 13,
    "start_time": "2023-01-25T18:06:59.881Z"
   },
   {
    "duration": 103,
    "start_time": "2023-01-25T18:07:00.681Z"
   },
   {
    "duration": 855,
    "start_time": "2023-01-25T18:07:17.232Z"
   },
   {
    "duration": 537,
    "start_time": "2023-01-25T18:07:24.788Z"
   },
   {
    "duration": 19,
    "start_time": "2023-01-25T18:07:26.763Z"
   },
   {
    "duration": 3,
    "start_time": "2023-01-25T18:07:35.146Z"
   },
   {
    "duration": 2027,
    "start_time": "2023-01-25T23:47:08.049Z"
   },
   {
    "duration": 1524,
    "start_time": "2023-01-25T23:47:10.078Z"
   },
   {
    "duration": 129,
    "start_time": "2023-01-25T23:47:11.604Z"
   },
   {
    "duration": 16,
    "start_time": "2023-01-25T23:47:11.735Z"
   },
   {
    "duration": 46,
    "start_time": "2023-01-25T23:47:11.752Z"
   },
   {
    "duration": 103,
    "start_time": "2023-01-25T23:47:11.800Z"
   },
   {
    "duration": 192,
    "start_time": "2023-01-25T23:47:11.905Z"
   },
   {
    "duration": 221,
    "start_time": "2023-01-25T23:47:12.100Z"
   },
   {
    "duration": 291,
    "start_time": "2023-01-25T23:47:12.323Z"
   },
   {
    "duration": 57,
    "start_time": "2023-01-25T23:47:12.617Z"
   },
   {
    "duration": 352,
    "start_time": "2023-01-25T23:47:12.685Z"
   },
   {
    "duration": 209,
    "start_time": "2023-01-25T23:47:13.039Z"
   },
   {
    "duration": 12,
    "start_time": "2023-01-25T23:47:13.250Z"
   },
   {
    "duration": 98,
    "start_time": "2023-01-25T23:47:13.264Z"
   },
   {
    "duration": 296,
    "start_time": "2023-01-25T23:47:13.364Z"
   },
   {
    "duration": 280,
    "start_time": "2023-01-25T23:47:13.663Z"
   },
   {
    "duration": 87,
    "start_time": "2023-01-25T23:47:13.945Z"
   },
   {
    "duration": 18,
    "start_time": "2023-01-25T23:47:14.034Z"
   },
   {
    "duration": 33,
    "start_time": "2023-01-25T23:47:14.055Z"
   },
   {
    "duration": 20,
    "start_time": "2023-01-25T23:47:14.090Z"
   },
   {
    "duration": 17,
    "start_time": "2023-01-25T23:47:14.113Z"
   },
   {
    "duration": 16,
    "start_time": "2023-01-25T23:47:14.132Z"
   },
   {
    "duration": 45,
    "start_time": "2023-01-25T23:47:14.150Z"
   },
   {
    "duration": 34,
    "start_time": "2023-01-25T23:47:14.197Z"
   },
   {
    "duration": 27,
    "start_time": "2023-01-25T23:47:14.233Z"
   },
   {
    "duration": 28,
    "start_time": "2023-01-25T23:47:15.497Z"
   },
   {
    "duration": 21,
    "start_time": "2023-01-25T23:47:16.023Z"
   },
   {
    "duration": 185,
    "start_time": "2023-01-25T23:47:16.068Z"
   },
   {
    "duration": 29,
    "start_time": "2023-01-25T23:47:16.543Z"
   },
   {
    "duration": 67,
    "start_time": "2023-01-25T23:47:17.161Z"
   },
   {
    "duration": 62,
    "start_time": "2023-01-25T23:47:17.330Z"
   },
   {
    "duration": 27,
    "start_time": "2023-01-25T23:47:17.870Z"
   },
   {
    "duration": 13,
    "start_time": "2023-01-25T23:47:20.788Z"
   },
   {
    "duration": 142,
    "start_time": "2023-01-25T23:47:21.884Z"
   },
   {
    "duration": 6,
    "start_time": "2023-01-25T23:47:26.697Z"
   },
   {
    "duration": 23,
    "start_time": "2023-01-25T23:50:33.702Z"
   },
   {
    "duration": 228,
    "start_time": "2023-01-25T23:51:15.266Z"
   },
   {
    "duration": 12,
    "start_time": "2023-01-25T23:51:33.658Z"
   },
   {
    "duration": 68,
    "start_time": "2023-01-25T23:51:39.278Z"
   },
   {
    "duration": 100,
    "start_time": "2023-01-25T23:52:44.334Z"
   },
   {
    "duration": 26,
    "start_time": "2023-01-25T23:52:50.205Z"
   },
   {
    "duration": 107617,
    "start_time": "2023-01-25T23:52:53.159Z"
   },
   {
    "duration": 2148,
    "start_time": "2023-01-26T03:04:08.898Z"
   },
   {
    "duration": 1687,
    "start_time": "2023-01-26T03:04:12.842Z"
   },
   {
    "duration": 132,
    "start_time": "2023-01-26T03:04:14.531Z"
   },
   {
    "duration": 38,
    "start_time": "2023-01-26T03:04:14.665Z"
   },
   {
    "duration": 25,
    "start_time": "2023-01-26T03:04:14.706Z"
   },
   {
    "duration": 152,
    "start_time": "2023-01-26T03:04:14.734Z"
   },
   {
    "duration": 144,
    "start_time": "2023-01-26T03:04:15.350Z"
   },
   {
    "duration": 254,
    "start_time": "2023-01-26T03:04:16.048Z"
   },
   {
    "duration": 276,
    "start_time": "2023-01-26T03:04:16.304Z"
   },
   {
    "duration": 67,
    "start_time": "2023-01-26T03:04:16.864Z"
   },
   {
    "duration": 397,
    "start_time": "2023-01-26T03:04:17.950Z"
   },
   {
    "duration": 308,
    "start_time": "2023-01-26T03:04:19.239Z"
   },
   {
    "duration": 18,
    "start_time": "2023-01-26T03:04:19.783Z"
   },
   {
    "duration": 96,
    "start_time": "2023-01-26T03:04:20.016Z"
   },
   {
    "duration": 216,
    "start_time": "2023-01-26T03:04:21.023Z"
   },
   {
    "duration": 470,
    "start_time": "2023-01-26T03:04:21.242Z"
   },
   {
    "duration": 95,
    "start_time": "2023-01-26T03:04:23.107Z"
   },
   {
    "duration": 32,
    "start_time": "2023-01-26T03:04:25.470Z"
   },
   {
    "duration": 16,
    "start_time": "2023-01-26T03:04:25.919Z"
   },
   {
    "duration": 21,
    "start_time": "2023-01-26T03:04:26.615Z"
   },
   {
    "duration": 25,
    "start_time": "2023-01-26T03:04:27.070Z"
   },
   {
    "duration": 26,
    "start_time": "2023-01-26T03:04:28.223Z"
   },
   {
    "duration": 26,
    "start_time": "2023-01-26T03:04:28.911Z"
   },
   {
    "duration": 51,
    "start_time": "2023-01-26T03:04:29.129Z"
   },
   {
    "duration": 27,
    "start_time": "2023-01-26T03:04:29.665Z"
   },
   {
    "duration": 19,
    "start_time": "2023-01-26T03:04:30.623Z"
   },
   {
    "duration": 18,
    "start_time": "2023-01-26T03:04:31.345Z"
   },
   {
    "duration": 213,
    "start_time": "2023-01-26T03:04:31.606Z"
   },
   {
    "duration": 33,
    "start_time": "2023-01-26T03:04:32.102Z"
   },
   {
    "duration": 82,
    "start_time": "2023-01-26T03:04:33.031Z"
   },
   {
    "duration": 65,
    "start_time": "2023-01-26T03:04:33.232Z"
   },
   {
    "duration": 24,
    "start_time": "2023-01-26T03:04:33.823Z"
   },
   {
    "duration": 16,
    "start_time": "2023-01-26T03:04:34.858Z"
   },
   {
    "duration": 120,
    "start_time": "2023-01-26T03:04:35.303Z"
   },
   {
    "duration": 792513,
    "start_time": "2023-01-26T03:04:35.945Z"
   },
   {
    "duration": 5,
    "start_time": "2023-01-26T03:17:48.461Z"
   },
   {
    "duration": 227134,
    "start_time": "2023-01-26T03:17:48.468Z"
   },
   {
    "duration": 4,
    "start_time": "2023-01-26T03:21:35.604Z"
   },
   {
    "duration": 17,
    "start_time": "2023-01-26T03:21:35.610Z"
   },
   {
    "duration": 8,
    "start_time": "2023-01-26T03:21:35.630Z"
   },
   {
    "duration": 7709,
    "start_time": "2023-01-26T03:21:35.640Z"
   },
   {
    "duration": 7907,
    "start_time": "2023-01-26T03:24:34.278Z"
   },
   {
    "duration": 7565,
    "start_time": "2023-01-26T03:26:52.390Z"
   },
   {
    "duration": 7623,
    "start_time": "2023-01-26T03:29:19.309Z"
   },
   {
    "duration": 8216,
    "start_time": "2023-01-26T03:31:47.262Z"
   },
   {
    "duration": 5,
    "start_time": "2023-01-26T03:37:07.489Z"
   },
   {
    "duration": 8128,
    "start_time": "2023-01-26T03:37:14.191Z"
   },
   {
    "duration": 7556,
    "start_time": "2023-01-26T03:37:59.842Z"
   },
   {
    "duration": 980,
    "start_time": "2023-01-26T03:38:19.542Z"
   },
   {
    "duration": 9,
    "start_time": "2023-01-26T03:39:18.684Z"
   },
   {
    "duration": 130,
    "start_time": "2023-01-26T03:40:07.531Z"
   },
   {
    "duration": 169,
    "start_time": "2023-01-26T03:40:21.549Z"
   },
   {
    "duration": 2503719,
    "start_time": "2023-01-26T03:40:30.583Z"
   },
   {
    "duration": 4,
    "start_time": "2023-01-26T04:28:04.055Z"
   },
   {
    "duration": 82,
    "start_time": "2023-01-26T04:28:35.677Z"
   },
   {
    "duration": 145252,
    "start_time": "2023-01-26T04:29:07.965Z"
   },
   {
    "duration": 186964,
    "start_time": "2023-01-26T04:57:17.240Z"
   },
   {
    "duration": 10,
    "start_time": "2023-01-26T05:00:24.206Z"
   },
   {
    "duration": 0,
    "start_time": "2023-01-26T05:00:24.217Z"
   },
   {
    "duration": 5,
    "start_time": "2023-01-26T05:04:05.308Z"
   },
   {
    "duration": 5,
    "start_time": "2023-01-26T05:04:06.591Z"
   },
   {
    "duration": 462198,
    "start_time": "2023-01-26T05:04:50.294Z"
   },
   {
    "duration": 2067,
    "start_time": "2023-01-26T09:19:38.424Z"
   },
   {
    "duration": 3052,
    "start_time": "2023-01-26T09:19:40.494Z"
   },
   {
    "duration": 111,
    "start_time": "2023-01-26T09:19:43.548Z"
   },
   {
    "duration": 16,
    "start_time": "2023-01-26T09:19:43.662Z"
   },
   {
    "duration": 37,
    "start_time": "2023-01-26T09:19:43.680Z"
   },
   {
    "duration": 103,
    "start_time": "2023-01-26T09:19:43.719Z"
   },
   {
    "duration": 131,
    "start_time": "2023-01-26T09:19:43.825Z"
   },
   {
    "duration": 193,
    "start_time": "2023-01-26T09:19:43.957Z"
   },
   {
    "duration": 257,
    "start_time": "2023-01-26T09:19:44.152Z"
   },
   {
    "duration": 67,
    "start_time": "2023-01-26T09:19:44.411Z"
   },
   {
    "duration": 381,
    "start_time": "2023-01-26T09:19:44.480Z"
   },
   {
    "duration": 207,
    "start_time": "2023-01-26T09:19:44.865Z"
   },
   {
    "duration": 11,
    "start_time": "2023-01-26T09:19:45.074Z"
   },
   {
    "duration": 102,
    "start_time": "2023-01-26T09:19:45.087Z"
   },
   {
    "duration": 308,
    "start_time": "2023-01-26T09:19:45.190Z"
   },
   {
    "duration": 319,
    "start_time": "2023-01-26T09:19:45.499Z"
   },
   {
    "duration": 86,
    "start_time": "2023-01-26T09:19:45.819Z"
   },
   {
    "duration": 31,
    "start_time": "2023-01-26T09:19:45.907Z"
   },
   {
    "duration": 28,
    "start_time": "2023-01-26T09:19:45.940Z"
   },
   {
    "duration": 22,
    "start_time": "2023-01-26T09:19:45.970Z"
   },
   {
    "duration": 26,
    "start_time": "2023-01-26T09:19:45.994Z"
   },
   {
    "duration": 22,
    "start_time": "2023-01-26T09:19:46.022Z"
   },
   {
    "duration": 30,
    "start_time": "2023-01-26T09:19:46.047Z"
   },
   {
    "duration": 30,
    "start_time": "2023-01-26T09:19:46.078Z"
   },
   {
    "duration": 19,
    "start_time": "2023-01-26T09:19:46.110Z"
   },
   {
    "duration": 28,
    "start_time": "2023-01-26T09:19:46.131Z"
   },
   {
    "duration": 30,
    "start_time": "2023-01-26T09:19:46.161Z"
   },
   {
    "duration": 187,
    "start_time": "2023-01-26T09:19:46.193Z"
   },
   {
    "duration": 21,
    "start_time": "2023-01-26T09:19:46.382Z"
   },
   {
    "duration": 77,
    "start_time": "2023-01-26T09:19:46.404Z"
   },
   {
    "duration": 63,
    "start_time": "2023-01-26T09:19:46.482Z"
   },
   {
    "duration": 27,
    "start_time": "2023-01-26T09:19:46.548Z"
   },
   {
    "duration": 12,
    "start_time": "2023-01-26T09:19:47.722Z"
   },
   {
    "duration": 140,
    "start_time": "2023-01-26T09:19:48.350Z"
   },
   {
    "duration": 8991,
    "start_time": "2023-01-26T09:20:25.380Z"
   },
   {
    "duration": 17,
    "start_time": "2023-01-26T09:21:00.933Z"
   },
   {
    "duration": 293,
    "start_time": "2023-01-26T09:21:17.221Z"
   },
   {
    "duration": 289,
    "start_time": "2023-01-26T09:21:24.047Z"
   },
   {
    "duration": 295,
    "start_time": "2023-01-26T09:21:27.355Z"
   },
   {
    "duration": 313,
    "start_time": "2023-01-26T09:21:29.505Z"
   },
   {
    "duration": 271,
    "start_time": "2023-01-26T09:21:33.142Z"
   },
   {
    "duration": 855,
    "start_time": "2023-01-26T09:21:39.600Z"
   },
   {
    "duration": 49,
    "start_time": "2023-01-26T09:21:56.178Z"
   },
   {
    "duration": 858,
    "start_time": "2023-01-26T09:22:00.804Z"
   },
   {
    "duration": 847,
    "start_time": "2023-01-26T09:22:19.564Z"
   },
   {
    "duration": 244,
    "start_time": "2023-01-26T09:22:22.621Z"
   },
   {
    "duration": 9,
    "start_time": "2023-01-26T09:22:56.297Z"
   },
   {
    "duration": 5,
    "start_time": "2023-01-26T09:23:07.988Z"
   },
   {
    "duration": 847,
    "start_time": "2023-01-26T09:23:13.563Z"
   },
   {
    "duration": 196,
    "start_time": "2023-01-26T09:23:17.680Z"
   },
   {
    "duration": 1953,
    "start_time": "2023-01-26T09:29:31.773Z"
   },
   {
    "duration": 1147,
    "start_time": "2023-01-26T09:29:33.728Z"
   },
   {
    "duration": 111,
    "start_time": "2023-01-26T09:29:34.877Z"
   },
   {
    "duration": 15,
    "start_time": "2023-01-26T09:29:34.990Z"
   },
   {
    "duration": 42,
    "start_time": "2023-01-26T09:29:35.007Z"
   },
   {
    "duration": 92,
    "start_time": "2023-01-26T09:29:35.052Z"
   },
   {
    "duration": 142,
    "start_time": "2023-01-26T09:29:35.146Z"
   },
   {
    "duration": 235,
    "start_time": "2023-01-26T09:29:35.290Z"
   },
   {
    "duration": 240,
    "start_time": "2023-01-26T09:29:35.527Z"
   },
   {
    "duration": 54,
    "start_time": "2023-01-26T09:29:35.771Z"
   },
   {
    "duration": 378,
    "start_time": "2023-01-26T09:29:35.827Z"
   },
   {
    "duration": 214,
    "start_time": "2023-01-26T09:29:36.207Z"
   },
   {
    "duration": 23,
    "start_time": "2023-01-26T09:29:36.423Z"
   },
   {
    "duration": 113,
    "start_time": "2023-01-26T09:29:36.448Z"
   },
   {
    "duration": 294,
    "start_time": "2023-01-26T09:29:36.563Z"
   },
   {
    "duration": 325,
    "start_time": "2023-01-26T09:29:36.861Z"
   },
   {
    "duration": 88,
    "start_time": "2023-01-26T09:29:37.188Z"
   },
   {
    "duration": 16,
    "start_time": "2023-01-26T09:29:37.278Z"
   },
   {
    "duration": 18,
    "start_time": "2023-01-26T09:29:37.295Z"
   },
   {
    "duration": 37,
    "start_time": "2023-01-26T09:29:37.315Z"
   },
   {
    "duration": 34,
    "start_time": "2023-01-26T09:29:37.353Z"
   },
   {
    "duration": 17,
    "start_time": "2023-01-26T09:29:37.389Z"
   },
   {
    "duration": 22,
    "start_time": "2023-01-26T09:29:37.409Z"
   },
   {
    "duration": 52,
    "start_time": "2023-01-26T09:29:37.433Z"
   },
   {
    "duration": 13,
    "start_time": "2023-01-26T09:29:37.487Z"
   },
   {
    "duration": 18,
    "start_time": "2023-01-26T09:29:37.502Z"
   },
   {
    "duration": 23,
    "start_time": "2023-01-26T09:29:37.522Z"
   },
   {
    "duration": 190,
    "start_time": "2023-01-26T09:29:37.550Z"
   },
   {
    "duration": 27,
    "start_time": "2023-01-26T09:29:37.742Z"
   },
   {
    "duration": 71,
    "start_time": "2023-01-26T09:29:37.771Z"
   },
   {
    "duration": 63,
    "start_time": "2023-01-26T09:29:37.844Z"
   },
   {
    "duration": 42,
    "start_time": "2023-01-26T09:29:37.908Z"
   },
   {
    "duration": 16,
    "start_time": "2023-01-26T09:29:37.953Z"
   },
   {
    "duration": 129,
    "start_time": "2023-01-26T09:29:37.972Z"
   },
   {
    "duration": 764989,
    "start_time": "2023-01-26T09:29:38.103Z"
   },
   {
    "duration": 5,
    "start_time": "2023-01-26T09:42:23.094Z"
   },
   {
    "duration": 210918,
    "start_time": "2023-01-26T09:42:23.101Z"
   },
   {
    "duration": 4,
    "start_time": "2023-01-26T09:45:54.021Z"
   },
   {
    "duration": 37,
    "start_time": "2023-01-26T09:45:54.027Z"
   },
   {
    "duration": 20,
    "start_time": "2023-01-26T09:45:54.066Z"
   },
   {
    "duration": 976,
    "start_time": "2023-01-26T09:45:54.088Z"
   },
   {
    "duration": 103575,
    "start_time": "2023-01-26T09:45:55.066Z"
   },
   {
    "duration": 8,
    "start_time": "2023-01-26T09:47:38.643Z"
   },
   {
    "duration": 495,
    "start_time": "2023-01-26T09:47:38.653Z"
   },
   {
    "duration": 20,
    "start_time": "2023-01-26T09:47:39.151Z"
   },
   {
    "duration": 744037,
    "start_time": "2023-01-26T09:47:39.173Z"
   },
   {
    "duration": 4,
    "start_time": "2023-01-26T10:00:03.212Z"
   },
   {
    "duration": 56287,
    "start_time": "2023-01-26T10:00:03.218Z"
   },
   {
    "duration": 5,
    "start_time": "2023-01-26T10:00:59.507Z"
   },
   {
    "duration": 52,
    "start_time": "2023-01-26T10:00:59.514Z"
   },
   {
    "duration": 48,
    "start_time": "2023-01-26T10:00:59.568Z"
   },
   {
    "duration": 6723860,
    "start_time": "2023-01-26T10:00:59.618Z"
   },
   {
    "duration": 11,
    "start_time": "2023-01-26T11:53:03.479Z"
   },
   {
    "duration": 0,
    "start_time": "2023-01-26T11:53:03.492Z"
   },
   {
    "duration": 0,
    "start_time": "2023-01-26T11:53:03.493Z"
   },
   {
    "duration": 0,
    "start_time": "2023-01-26T11:53:03.494Z"
   },
   {
    "duration": 0,
    "start_time": "2023-01-26T11:53:03.495Z"
   },
   {
    "duration": 0,
    "start_time": "2023-01-26T11:53:03.496Z"
   },
   {
    "duration": 0,
    "start_time": "2023-01-26T11:53:03.498Z"
   },
   {
    "duration": 0,
    "start_time": "2023-01-26T11:53:03.499Z"
   },
   {
    "duration": 0,
    "start_time": "2023-01-26T11:53:03.500Z"
   },
   {
    "duration": 0,
    "start_time": "2023-01-26T11:53:03.501Z"
   },
   {
    "duration": 0,
    "start_time": "2023-01-26T11:53:03.502Z"
   },
   {
    "duration": 0,
    "start_time": "2023-01-26T11:53:03.503Z"
   },
   {
    "duration": 0,
    "start_time": "2023-01-26T11:53:03.505Z"
   },
   {
    "duration": 22478,
    "start_time": "2023-01-26T11:53:17.235Z"
   },
   {
    "duration": 10,
    "start_time": "2023-01-26T11:53:39.716Z"
   },
   {
    "duration": 0,
    "start_time": "2023-01-26T11:53:39.728Z"
   },
   {
    "duration": 0,
    "start_time": "2023-01-26T11:53:39.729Z"
   },
   {
    "duration": 0,
    "start_time": "2023-01-26T11:53:39.730Z"
   },
   {
    "duration": 0,
    "start_time": "2023-01-26T11:53:39.731Z"
   },
   {
    "duration": 0,
    "start_time": "2023-01-26T11:53:39.732Z"
   },
   {
    "duration": 0,
    "start_time": "2023-01-26T11:53:39.737Z"
   },
   {
    "duration": 0,
    "start_time": "2023-01-26T11:53:39.738Z"
   },
   {
    "duration": 0,
    "start_time": "2023-01-26T11:53:39.739Z"
   },
   {
    "duration": 0,
    "start_time": "2023-01-26T11:53:39.740Z"
   },
   {
    "duration": 0,
    "start_time": "2023-01-26T11:53:39.741Z"
   },
   {
    "duration": 0,
    "start_time": "2023-01-26T11:53:39.742Z"
   },
   {
    "duration": 0,
    "start_time": "2023-01-26T11:53:39.743Z"
   },
   {
    "duration": 2155,
    "start_time": "2023-01-26T14:24:38.114Z"
   },
   {
    "duration": 1166,
    "start_time": "2023-01-26T14:24:40.270Z"
   },
   {
    "duration": 83,
    "start_time": "2023-01-26T14:24:41.437Z"
   },
   {
    "duration": 12,
    "start_time": "2023-01-26T14:24:41.522Z"
   },
   {
    "duration": 19,
    "start_time": "2023-01-26T14:24:41.536Z"
   },
   {
    "duration": 89,
    "start_time": "2023-01-26T14:24:41.557Z"
   },
   {
    "duration": 117,
    "start_time": "2023-01-26T14:24:41.648Z"
   },
   {
    "duration": 184,
    "start_time": "2023-01-26T14:24:41.766Z"
   },
   {
    "duration": 245,
    "start_time": "2023-01-26T14:24:41.951Z"
   },
   {
    "duration": 48,
    "start_time": "2023-01-26T14:24:42.200Z"
   },
   {
    "duration": 312,
    "start_time": "2023-01-26T14:24:42.249Z"
   },
   {
    "duration": 266,
    "start_time": "2023-01-26T14:24:42.563Z"
   },
   {
    "duration": 10,
    "start_time": "2023-01-26T14:24:42.830Z"
   },
   {
    "duration": 90,
    "start_time": "2023-01-26T14:24:42.842Z"
   },
   {
    "duration": 194,
    "start_time": "2023-01-26T14:24:42.933Z"
   },
   {
    "duration": 290,
    "start_time": "2023-01-26T14:24:43.129Z"
   },
   {
    "duration": 81,
    "start_time": "2023-01-26T14:24:43.421Z"
   },
   {
    "duration": 19,
    "start_time": "2023-01-26T14:24:43.504Z"
   },
   {
    "duration": 25,
    "start_time": "2023-01-26T14:24:43.525Z"
   },
   {
    "duration": 24,
    "start_time": "2023-01-26T14:24:43.552Z"
   },
   {
    "duration": 23,
    "start_time": "2023-01-26T14:24:43.586Z"
   },
   {
    "duration": 20,
    "start_time": "2023-01-26T14:24:43.611Z"
   },
   {
    "duration": 25,
    "start_time": "2023-01-26T14:24:43.633Z"
   },
   {
    "duration": 47,
    "start_time": "2023-01-26T14:24:43.662Z"
   },
   {
    "duration": 15,
    "start_time": "2023-01-26T14:24:43.711Z"
   },
   {
    "duration": 13,
    "start_time": "2023-01-26T14:24:43.727Z"
   },
   {
    "duration": 25,
    "start_time": "2023-01-26T14:24:43.742Z"
   },
   {
    "duration": 172,
    "start_time": "2023-01-26T14:24:43.772Z"
   },
   {
    "duration": 19,
    "start_time": "2023-01-26T14:24:43.946Z"
   },
   {
    "duration": 71,
    "start_time": "2023-01-26T14:24:43.966Z"
   },
   {
    "duration": 75,
    "start_time": "2023-01-26T14:24:44.039Z"
   },
   {
    "duration": 18,
    "start_time": "2023-01-26T14:24:44.116Z"
   },
   {
    "duration": 12,
    "start_time": "2023-01-26T14:24:44.136Z"
   },
   {
    "duration": 123,
    "start_time": "2023-01-26T14:24:44.149Z"
   },
   {
    "duration": 625286,
    "start_time": "2023-01-26T14:24:44.273Z"
   },
   {
    "duration": 3,
    "start_time": "2023-01-26T14:35:09.561Z"
   },
   {
    "duration": 175963,
    "start_time": "2023-01-26T14:35:09.566Z"
   },
   {
    "duration": 3,
    "start_time": "2023-01-26T14:38:05.530Z"
   },
   {
    "duration": 20,
    "start_time": "2023-01-26T14:38:05.534Z"
   },
   {
    "duration": 9,
    "start_time": "2023-01-26T14:38:05.556Z"
   },
   {
    "duration": 805,
    "start_time": "2023-01-26T14:38:05.567Z"
   },
   {
    "duration": 183225,
    "start_time": "2023-01-26T14:38:06.374Z"
   },
   {
    "duration": 99,
    "start_time": "2023-01-26T14:41:09.603Z"
   },
   {
    "duration": 411,
    "start_time": "2023-01-26T14:41:09.708Z"
   },
   {
    "duration": 13,
    "start_time": "2023-01-26T14:41:10.120Z"
   },
   {
    "duration": 605998,
    "start_time": "2023-01-26T14:41:10.134Z"
   },
   {
    "duration": 4,
    "start_time": "2023-01-26T14:51:16.133Z"
   },
   {
    "duration": 40645,
    "start_time": "2023-01-26T14:51:16.138Z"
   },
   {
    "duration": 5,
    "start_time": "2023-01-26T14:51:56.785Z"
   },
   {
    "duration": 25,
    "start_time": "2023-01-26T14:51:56.792Z"
   },
   {
    "duration": 7,
    "start_time": "2023-01-26T14:51:56.819Z"
   },
   {
    "duration": 1724,
    "start_time": "2023-05-18T16:02:18.998Z"
   },
   {
    "duration": 1242,
    "start_time": "2023-05-18T16:02:20.725Z"
   },
   {
    "duration": 92,
    "start_time": "2023-05-18T16:02:21.969Z"
   },
   {
    "duration": 14,
    "start_time": "2023-05-18T16:02:22.063Z"
   },
   {
    "duration": 29,
    "start_time": "2023-05-18T16:02:22.078Z"
   },
   {
    "duration": 116,
    "start_time": "2023-05-18T16:02:22.108Z"
   },
   {
    "duration": 112,
    "start_time": "2023-05-18T16:02:22.225Z"
   },
   {
    "duration": 174,
    "start_time": "2023-05-18T16:02:22.339Z"
   },
   {
    "duration": 62,
    "start_time": "2023-05-18T16:02:22.514Z"
   },
   {
    "duration": 0,
    "start_time": "2023-05-18T16:02:22.579Z"
   },
   {
    "duration": 0,
    "start_time": "2023-05-18T16:02:22.580Z"
   },
   {
    "duration": 0,
    "start_time": "2023-05-18T16:02:22.582Z"
   },
   {
    "duration": 0,
    "start_time": "2023-05-18T16:02:22.583Z"
   },
   {
    "duration": 0,
    "start_time": "2023-05-18T16:02:22.584Z"
   },
   {
    "duration": 0,
    "start_time": "2023-05-18T16:02:22.585Z"
   },
   {
    "duration": 0,
    "start_time": "2023-05-18T16:02:22.586Z"
   },
   {
    "duration": 0,
    "start_time": "2023-05-18T16:02:22.587Z"
   },
   {
    "duration": 0,
    "start_time": "2023-05-18T16:02:22.588Z"
   },
   {
    "duration": 0,
    "start_time": "2023-05-18T16:02:22.589Z"
   },
   {
    "duration": 0,
    "start_time": "2023-05-18T16:02:22.590Z"
   },
   {
    "duration": 0,
    "start_time": "2023-05-18T16:02:22.591Z"
   },
   {
    "duration": 0,
    "start_time": "2023-05-18T16:02:22.592Z"
   },
   {
    "duration": 0,
    "start_time": "2023-05-18T16:02:22.593Z"
   },
   {
    "duration": 0,
    "start_time": "2023-05-18T16:02:22.594Z"
   },
   {
    "duration": 0,
    "start_time": "2023-05-18T16:02:22.594Z"
   },
   {
    "duration": 0,
    "start_time": "2023-05-18T16:02:22.595Z"
   },
   {
    "duration": 0,
    "start_time": "2023-05-18T16:02:22.596Z"
   },
   {
    "duration": 0,
    "start_time": "2023-05-18T16:02:22.597Z"
   },
   {
    "duration": 0,
    "start_time": "2023-05-18T16:02:22.598Z"
   },
   {
    "duration": 0,
    "start_time": "2023-05-18T16:02:22.599Z"
   },
   {
    "duration": 0,
    "start_time": "2023-05-18T16:02:22.600Z"
   },
   {
    "duration": 0,
    "start_time": "2023-05-18T16:02:22.601Z"
   },
   {
    "duration": 0,
    "start_time": "2023-05-18T16:02:22.601Z"
   },
   {
    "duration": 0,
    "start_time": "2023-05-18T16:02:22.602Z"
   },
   {
    "duration": 0,
    "start_time": "2023-05-18T16:02:22.603Z"
   },
   {
    "duration": 0,
    "start_time": "2023-05-18T16:02:22.604Z"
   },
   {
    "duration": 0,
    "start_time": "2023-05-18T16:02:22.605Z"
   },
   {
    "duration": 0,
    "start_time": "2023-05-18T16:02:22.606Z"
   },
   {
    "duration": 0,
    "start_time": "2023-05-18T16:02:22.607Z"
   },
   {
    "duration": 0,
    "start_time": "2023-05-18T16:02:22.608Z"
   },
   {
    "duration": 0,
    "start_time": "2023-05-18T16:02:22.609Z"
   },
   {
    "duration": 0,
    "start_time": "2023-05-18T16:02:22.610Z"
   },
   {
    "duration": 0,
    "start_time": "2023-05-18T16:02:22.611Z"
   },
   {
    "duration": 0,
    "start_time": "2023-05-18T16:02:22.618Z"
   },
   {
    "duration": 0,
    "start_time": "2023-05-18T16:02:22.619Z"
   },
   {
    "duration": 0,
    "start_time": "2023-05-18T16:02:22.621Z"
   },
   {
    "duration": 0,
    "start_time": "2023-05-18T16:02:22.622Z"
   },
   {
    "duration": 0,
    "start_time": "2023-05-18T16:02:22.623Z"
   },
   {
    "duration": 0,
    "start_time": "2023-05-18T16:02:22.624Z"
   },
   {
    "duration": 0,
    "start_time": "2023-05-18T16:02:22.626Z"
   },
   {
    "duration": 0,
    "start_time": "2023-05-18T16:02:22.626Z"
   },
   {
    "duration": 0,
    "start_time": "2023-05-18T16:02:22.627Z"
   },
   {
    "duration": 0,
    "start_time": "2023-05-18T16:02:22.628Z"
   },
   {
    "duration": 0,
    "start_time": "2023-05-18T16:02:22.630Z"
   },
   {
    "duration": 0,
    "start_time": "2023-05-18T16:02:22.631Z"
   },
   {
    "duration": 0,
    "start_time": "2023-05-18T16:02:22.632Z"
   },
   {
    "duration": 0,
    "start_time": "2023-05-18T16:02:22.634Z"
   },
   {
    "duration": 0,
    "start_time": "2023-05-18T16:02:22.635Z"
   },
   {
    "duration": 0,
    "start_time": "2023-05-18T16:02:22.636Z"
   },
   {
    "duration": 0,
    "start_time": "2023-05-18T16:02:22.637Z"
   },
   {
    "duration": 0,
    "start_time": "2023-05-18T16:02:22.639Z"
   },
   {
    "duration": 0,
    "start_time": "2023-05-18T16:02:22.640Z"
   },
   {
    "duration": 0,
    "start_time": "2023-05-18T16:02:22.641Z"
   },
   {
    "duration": 0,
    "start_time": "2023-05-18T16:02:22.642Z"
   },
   {
    "duration": 0,
    "start_time": "2023-05-18T16:02:22.643Z"
   },
   {
    "duration": 167,
    "start_time": "2023-05-18T16:04:02.398Z"
   },
   {
    "duration": 51,
    "start_time": "2023-05-18T16:04:03.910Z"
   },
   {
    "duration": 291,
    "start_time": "2023-05-18T16:04:05.151Z"
   },
   {
    "duration": 281,
    "start_time": "2023-05-18T16:04:06.456Z"
   },
   {
    "duration": 13,
    "start_time": "2023-05-18T16:04:06.898Z"
   },
   {
    "duration": 77,
    "start_time": "2023-05-18T16:04:07.140Z"
   },
   {
    "duration": 180,
    "start_time": "2023-05-18T16:04:08.046Z"
   },
   {
    "duration": 271,
    "start_time": "2023-05-18T16:04:08.238Z"
   },
   {
    "duration": 73,
    "start_time": "2023-05-18T16:04:09.386Z"
   },
   {
    "duration": 15,
    "start_time": "2023-05-18T16:04:11.706Z"
   },
   {
    "duration": 14,
    "start_time": "2023-05-18T16:04:12.144Z"
   },
   {
    "duration": 16,
    "start_time": "2023-05-18T16:04:12.847Z"
   },
   {
    "duration": 15,
    "start_time": "2023-05-18T16:04:13.342Z"
   },
   {
    "duration": 17,
    "start_time": "2023-05-18T16:04:14.587Z"
   },
   {
    "duration": 13,
    "start_time": "2023-05-18T16:04:15.342Z"
   },
   {
    "duration": 27,
    "start_time": "2023-05-18T16:04:15.540Z"
   },
   {
    "duration": 15,
    "start_time": "2023-05-18T16:04:16.037Z"
   },
   {
    "duration": 13,
    "start_time": "2023-05-18T16:04:16.985Z"
   },
   {
    "duration": 17,
    "start_time": "2023-05-18T16:04:17.645Z"
   },
   {
    "duration": 163,
    "start_time": "2023-05-18T16:04:17.866Z"
   },
   {
    "duration": 25,
    "start_time": "2023-05-18T16:04:18.344Z"
   },
   {
    "duration": 53,
    "start_time": "2023-05-18T16:04:19.337Z"
   },
   {
    "duration": 52,
    "start_time": "2023-05-18T16:04:19.571Z"
   },
   {
    "duration": 19,
    "start_time": "2023-05-18T16:04:20.308Z"
   },
   {
    "duration": 13,
    "start_time": "2023-05-18T16:04:21.542Z"
   },
   {
    "duration": 85,
    "start_time": "2023-05-18T16:04:21.993Z"
   },
   {
    "duration": 684170,
    "start_time": "2023-05-18T16:04:22.746Z"
   },
   {
    "duration": 4,
    "start_time": "2023-05-18T16:15:46.918Z"
   },
   {
    "duration": 196239,
    "start_time": "2023-05-18T16:15:46.924Z"
   },
   {
    "duration": 4,
    "start_time": "2023-05-18T16:19:03.165Z"
   },
   {
    "duration": 7,
    "start_time": "2023-05-18T16:19:03.171Z"
   },
   {
    "duration": 12,
    "start_time": "2023-05-18T16:19:03.179Z"
   },
   {
    "duration": 636,
    "start_time": "2023-05-18T16:19:03.193Z"
   },
   {
    "duration": 75997,
    "start_time": "2023-05-18T16:19:03.831Z"
   },
   {
    "duration": 4,
    "start_time": "2023-05-18T16:25:36.613Z"
   },
   {
    "duration": 348,
    "start_time": "2023-05-18T16:25:38.540Z"
   },
   {
    "duration": 12,
    "start_time": "2023-05-18T16:25:38.890Z"
   },
   {
    "duration": 723248,
    "start_time": "2023-05-18T16:25:39.242Z"
   },
   {
    "duration": 5,
    "start_time": "2023-05-18T16:37:42.493Z"
   },
   {
    "duration": 49702,
    "start_time": "2023-05-18T16:37:42.499Z"
   },
   {
    "duration": 4,
    "start_time": "2023-05-18T16:38:32.203Z"
   },
   {
    "duration": 4,
    "start_time": "2023-05-18T16:38:32.217Z"
   },
   {
    "duration": 5,
    "start_time": "2023-05-18T16:38:32.222Z"
   },
   {
    "duration": 2144,
    "start_time": "2023-05-19T03:10:12.294Z"
   },
   {
    "duration": 2219,
    "start_time": "2023-05-19T03:10:14.442Z"
   },
   {
    "duration": 138,
    "start_time": "2023-05-19T03:10:16.663Z"
   },
   {
    "duration": 20,
    "start_time": "2023-05-19T03:10:16.814Z"
   },
   {
    "duration": 32,
    "start_time": "2023-05-19T03:10:16.838Z"
   },
   {
    "duration": 157,
    "start_time": "2023-05-19T03:10:16.876Z"
   },
   {
    "duration": 152,
    "start_time": "2023-05-19T03:10:17.035Z"
   },
   {
    "duration": 256,
    "start_time": "2023-05-19T03:10:17.189Z"
   },
   {
    "duration": 292,
    "start_time": "2023-05-19T03:10:17.447Z"
   },
   {
    "duration": 78,
    "start_time": "2023-05-19T03:10:17.741Z"
   },
   {
    "duration": 448,
    "start_time": "2023-05-19T03:10:17.821Z"
   },
   {
    "duration": 353,
    "start_time": "2023-05-19T03:10:18.271Z"
   },
   {
    "duration": 14,
    "start_time": "2023-05-19T03:10:18.626Z"
   },
   {
    "duration": 116,
    "start_time": "2023-05-19T03:10:18.645Z"
   },
   {
    "duration": 241,
    "start_time": "2023-05-19T03:10:18.763Z"
   },
   {
    "duration": 337,
    "start_time": "2023-05-19T03:10:19.010Z"
   },
   {
    "duration": 98,
    "start_time": "2023-05-19T03:10:19.349Z"
   },
   {
    "duration": 33,
    "start_time": "2023-05-19T03:10:19.449Z"
   },
   {
    "duration": 29,
    "start_time": "2023-05-19T03:10:19.492Z"
   },
   {
    "duration": 39,
    "start_time": "2023-05-19T03:10:19.523Z"
   },
   {
    "duration": 39,
    "start_time": "2023-05-19T03:10:19.564Z"
   },
   {
    "duration": 119,
    "start_time": "2023-05-19T03:10:19.606Z"
   },
   {
    "duration": 21,
    "start_time": "2023-05-19T03:10:19.727Z"
   },
   {
    "duration": 49,
    "start_time": "2023-05-19T03:10:19.750Z"
   },
   {
    "duration": 48,
    "start_time": "2023-05-19T03:10:19.801Z"
   },
   {
    "duration": 74,
    "start_time": "2023-05-19T03:10:19.851Z"
   },
   {
    "duration": 25,
    "start_time": "2023-05-19T03:10:19.927Z"
   },
   {
    "duration": 200,
    "start_time": "2023-05-19T03:10:19.954Z"
   },
   {
    "duration": 37,
    "start_time": "2023-05-19T03:10:20.155Z"
   },
   {
    "duration": 70,
    "start_time": "2023-05-19T03:10:20.200Z"
   },
   {
    "duration": 68,
    "start_time": "2023-05-19T03:10:20.275Z"
   },
   {
    "duration": 95,
    "start_time": "2023-05-19T03:10:20.345Z"
   },
   {
    "duration": 14,
    "start_time": "2023-05-19T03:10:20.442Z"
   },
   {
    "duration": 180,
    "start_time": "2023-05-19T03:10:20.458Z"
   },
   {
    "duration": 870883,
    "start_time": "2023-05-19T03:10:20.641Z"
   },
   {
    "duration": 4,
    "start_time": "2023-05-19T03:24:51.526Z"
   },
   {
    "duration": 242505,
    "start_time": "2023-05-19T03:24:51.532Z"
   },
   {
    "duration": 3,
    "start_time": "2023-05-19T03:28:54.043Z"
   },
   {
    "duration": 19,
    "start_time": "2023-05-19T03:28:54.049Z"
   },
   {
    "duration": 77,
    "start_time": "2023-05-19T03:28:54.071Z"
   },
   {
    "duration": 1091,
    "start_time": "2023-05-19T03:28:54.153Z"
   },
   {
    "duration": 345437,
    "start_time": "2023-05-19T03:28:55.246Z"
   },
   {
    "duration": 21,
    "start_time": "2023-05-19T03:34:40.686Z"
   },
   {
    "duration": 569,
    "start_time": "2023-05-19T03:34:40.709Z"
   },
   {
    "duration": 20,
    "start_time": "2023-05-19T03:34:41.280Z"
   },
   {
    "duration": 885783,
    "start_time": "2023-05-19T03:34:41.302Z"
   },
   {
    "duration": 19,
    "start_time": "2023-05-19T03:49:27.099Z"
   },
   {
    "duration": 62703,
    "start_time": "2023-05-19T03:49:27.120Z"
   },
   {
    "duration": 6,
    "start_time": "2023-05-19T03:50:29.827Z"
   },
   {
    "duration": 13,
    "start_time": "2023-05-19T03:50:29.834Z"
   },
   {
    "duration": 6,
    "start_time": "2023-05-19T03:50:29.849Z"
   },
   {
    "duration": 40915325,
    "start_time": "2023-05-19T03:50:29.857Z"
   },
   {
    "duration": 5,
    "start_time": "2023-05-19T15:12:25.189Z"
   },
   {
    "duration": 2547578,
    "start_time": "2023-05-19T15:12:25.197Z"
   },
   {
    "duration": 5,
    "start_time": "2023-05-19T15:54:52.777Z"
   },
   {
    "duration": 28,
    "start_time": "2023-05-19T15:54:52.784Z"
   },
   {
    "duration": 28,
    "start_time": "2023-05-19T15:54:52.813Z"
   },
   {
    "duration": 45,
    "start_time": "2023-05-19T15:54:52.843Z"
   },
   {
    "duration": 147,
    "start_time": "2023-05-19T15:54:52.889Z"
   },
   {
    "duration": 25147,
    "start_time": "2023-05-19T15:54:53.038Z"
   },
   {
    "duration": 0,
    "start_time": "2023-05-19T15:55:18.187Z"
   },
   {
    "duration": 0,
    "start_time": "2023-05-19T15:55:18.189Z"
   },
   {
    "duration": 0,
    "start_time": "2023-05-19T15:55:18.190Z"
   },
   {
    "duration": 0,
    "start_time": "2023-05-19T15:55:18.192Z"
   },
   {
    "duration": 0,
    "start_time": "2023-05-19T15:55:18.193Z"
   },
   {
    "duration": 5,
    "start_time": "2023-05-19T17:09:00.492Z"
   },
   {
    "duration": 93,
    "start_time": "2023-05-19T17:09:23.634Z"
   },
   {
    "duration": 5,
    "start_time": "2023-05-19T17:09:30.452Z"
   },
   {
    "duration": 5,
    "start_time": "2023-05-19T17:10:51.637Z"
   },
   {
    "duration": 9,
    "start_time": "2023-05-19T17:10:53.707Z"
   },
   {
    "duration": 9,
    "start_time": "2023-05-19T17:10:59.747Z"
   },
   {
    "duration": 87098,
    "start_time": "2023-05-19T17:13:27.075Z"
   },
   {
    "duration": 7,
    "start_time": "2023-05-19T17:29:42.444Z"
   },
   {
    "duration": 12,
    "start_time": "2023-05-19T17:29:47.353Z"
   },
   {
    "duration": 14,
    "start_time": "2023-05-19T17:34:32.525Z"
   },
   {
    "duration": 55086,
    "start_time": "2023-05-19T17:34:46.263Z"
   },
   {
    "duration": 7,
    "start_time": "2023-05-19T17:40:28.463Z"
   },
   {
    "duration": 3,
    "start_time": "2023-05-19T17:40:34.766Z"
   },
   {
    "duration": 6,
    "start_time": "2023-05-19T17:40:35.237Z"
   },
   {
    "duration": 8,
    "start_time": "2023-05-19T17:40:35.780Z"
   },
   {
    "duration": 7,
    "start_time": "2023-05-19T17:40:36.397Z"
   }
  ],
  "kernelspec": {
   "display_name": "Python 3 (ipykernel)",
   "language": "python",
   "name": "python3"
  },
  "language_info": {
   "codemirror_mode": {
    "name": "ipython",
    "version": 3
   },
   "file_extension": ".py",
   "mimetype": "text/x-python",
   "name": "python",
   "nbconvert_exporter": "python",
   "pygments_lexer": "ipython3",
   "version": "3.9.12"
  },
  "toc": {
   "base_numbering": 1,
   "nav_menu": {},
   "number_sections": true,
   "sideBar": true,
   "skip_h1_title": true,
   "title_cell": "План работы",
   "title_sidebar": "Contents",
   "toc_cell": true,
   "toc_position": {
    "height": "calc(100% - 180px)",
    "left": "10px",
    "top": "150px",
    "width": "326.398px"
   },
   "toc_section_display": true,
   "toc_window_display": true
  }
 },
 "nbformat": 4,
 "nbformat_minor": 2
}
