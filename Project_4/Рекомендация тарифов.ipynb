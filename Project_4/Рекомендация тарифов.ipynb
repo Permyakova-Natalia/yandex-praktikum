{
 "cells": [
  {
   "cell_type": "markdown",
   "metadata": {},
   "source": [
    "# Рекомендация тарифов"
   ]
  },
  {
   "cell_type": "markdown",
   "metadata": {},
   "source": [
    "В вашем распоряжении данные о поведении клиентов, которые уже перешли на эти тарифы (из проекта курса «Статистический анализ данных»). Нужно построить модель для задачи классификации, которая выберет подходящий тариф. Предобработка данных не понадобится — вы её уже сделали.\n",
    "\n",
    "Постройте модель с максимально большим значением *accuracy*. Чтобы сдать проект успешно, нужно довести долю правильных ответов по крайней мере до 0.75. Проверьте *accuracy* на тестовой выборке самостоятельно."
   ]
  },
  {
   "cell_type": "markdown",
   "metadata": {},
   "source": [
    "# План работы:\n",
    " 1. Изучение данных\n",
    " 2. Разбивка данных на выборки\n",
    " 3. Исследование моделей\n",
    " 4. Проверка лучшей модели на тестовой выборке\n",
    " 5. Проверка модели на адекватность"
   ]
  },
  {
   "cell_type": "markdown",
   "metadata": {},
   "source": [
    "## Откроем и изучим файл"
   ]
  },
  {
   "cell_type": "markdown",
   "metadata": {},
   "source": [
    "***Импортируем необходимые нам библиотеки***"
   ]
  },
  {
   "cell_type": "code",
   "execution_count": 1,
   "metadata": {},
   "outputs": [],
   "source": [
    "import pandas as pd\n",
    "from sklearn.model_selection import train_test_split\n",
    "from sklearn.ensemble import RandomForestClassifier\n",
    "from sklearn.linear_model import LogisticRegression \n",
    "from sklearn.tree import DecisionTreeClassifier\n",
    "from sklearn.metrics import accuracy_score\n",
    "import matplotlib.pyplot as plt\n",
    "from sklearn import tree\n",
    "from sklearn.dummy import DummyClassifier\n"
   ]
  },
  {
   "cell_type": "markdown",
   "metadata": {},
   "source": [
    "***Считываем файл и сохраняем его в переменную `df`***"
   ]
  },
  {
   "cell_type": "code",
   "execution_count": 2,
   "metadata": {},
   "outputs": [],
   "source": [
    "#df = pd.read_csv('/datasets/users_behavior.csv')\n",
    "df = pd.read_csv('https://code.s3.yandex.net/datasets/users_behavior.csv')"
   ]
  },
  {
   "cell_type": "markdown",
   "metadata": {},
   "source": [
    "***Выводим на экран первые 5 строк датасета***"
   ]
  },
  {
   "cell_type": "code",
   "execution_count": 3,
   "metadata": {},
   "outputs": [
    {
     "data": {
      "text/html": [
       "<div>\n",
       "<style scoped>\n",
       "    .dataframe tbody tr th:only-of-type {\n",
       "        vertical-align: middle;\n",
       "    }\n",
       "\n",
       "    .dataframe tbody tr th {\n",
       "        vertical-align: top;\n",
       "    }\n",
       "\n",
       "    .dataframe thead th {\n",
       "        text-align: right;\n",
       "    }\n",
       "</style>\n",
       "<table border=\"1\" class=\"dataframe\">\n",
       "  <thead>\n",
       "    <tr style=\"text-align: right;\">\n",
       "      <th></th>\n",
       "      <th>calls</th>\n",
       "      <th>minutes</th>\n",
       "      <th>messages</th>\n",
       "      <th>mb_used</th>\n",
       "      <th>is_ultra</th>\n",
       "    </tr>\n",
       "  </thead>\n",
       "  <tbody>\n",
       "    <tr>\n",
       "      <th>0</th>\n",
       "      <td>40.0</td>\n",
       "      <td>311.90</td>\n",
       "      <td>83.0</td>\n",
       "      <td>19915.42</td>\n",
       "      <td>0</td>\n",
       "    </tr>\n",
       "    <tr>\n",
       "      <th>1</th>\n",
       "      <td>85.0</td>\n",
       "      <td>516.75</td>\n",
       "      <td>56.0</td>\n",
       "      <td>22696.96</td>\n",
       "      <td>0</td>\n",
       "    </tr>\n",
       "    <tr>\n",
       "      <th>2</th>\n",
       "      <td>77.0</td>\n",
       "      <td>467.66</td>\n",
       "      <td>86.0</td>\n",
       "      <td>21060.45</td>\n",
       "      <td>0</td>\n",
       "    </tr>\n",
       "    <tr>\n",
       "      <th>3</th>\n",
       "      <td>106.0</td>\n",
       "      <td>745.53</td>\n",
       "      <td>81.0</td>\n",
       "      <td>8437.39</td>\n",
       "      <td>1</td>\n",
       "    </tr>\n",
       "    <tr>\n",
       "      <th>4</th>\n",
       "      <td>66.0</td>\n",
       "      <td>418.74</td>\n",
       "      <td>1.0</td>\n",
       "      <td>14502.75</td>\n",
       "      <td>0</td>\n",
       "    </tr>\n",
       "  </tbody>\n",
       "</table>\n",
       "</div>"
      ],
      "text/plain": [
       "   calls  minutes  messages   mb_used  is_ultra\n",
       "0   40.0   311.90      83.0  19915.42         0\n",
       "1   85.0   516.75      56.0  22696.96         0\n",
       "2   77.0   467.66      86.0  21060.45         0\n",
       "3  106.0   745.53      81.0   8437.39         1\n",
       "4   66.0   418.74       1.0  14502.75         0"
      ]
     },
     "execution_count": 3,
     "metadata": {},
     "output_type": "execute_result"
    }
   ],
   "source": [
    "df.head()\n"
   ]
  },
  {
   "cell_type": "markdown",
   "metadata": {},
   "source": [
    "*Выведем информацию о датасете*"
   ]
  },
  {
   "cell_type": "code",
   "execution_count": 4,
   "metadata": {},
   "outputs": [
    {
     "name": "stdout",
     "output_type": "stream",
     "text": [
      "<class 'pandas.core.frame.DataFrame'>\n",
      "RangeIndex: 3214 entries, 0 to 3213\n",
      "Data columns (total 5 columns):\n",
      " #   Column    Non-Null Count  Dtype  \n",
      "---  ------    --------------  -----  \n",
      " 0   calls     3214 non-null   float64\n",
      " 1   minutes   3214 non-null   float64\n",
      " 2   messages  3214 non-null   float64\n",
      " 3   mb_used   3214 non-null   float64\n",
      " 4   is_ultra  3214 non-null   int64  \n",
      "dtypes: float64(4), int64(1)\n",
      "memory usage: 125.7 KB\n"
     ]
    }
   ],
   "source": [
    "df.info()"
   ]
  },
  {
   "cell_type": "markdown",
   "metadata": {},
   "source": [
    "*В столбцах `calls` и `messages` указан тип данных `float`, поменяем его на `int`, так как количество звонков и смс может быть только целым числом*"
   ]
  },
  {
   "cell_type": "code",
   "execution_count": 5,
   "metadata": {},
   "outputs": [],
   "source": [
    "df['calls'] = df['calls'].astype('int')\n",
    "df['messages'] = df['messages'].astype('int')"
   ]
  },
  {
   "cell_type": "markdown",
   "metadata": {},
   "source": [
    "***Убедимся в отсутствии пропусков***"
   ]
  },
  {
   "cell_type": "code",
   "execution_count": 6,
   "metadata": {},
   "outputs": [
    {
     "data": {
      "text/plain": [
       "calls       0\n",
       "minutes     0\n",
       "messages    0\n",
       "mb_used     0\n",
       "is_ultra    0\n",
       "dtype: int64"
      ]
     },
     "execution_count": 6,
     "metadata": {},
     "output_type": "execute_result"
    }
   ],
   "source": [
    "df.isna().sum()"
   ]
  },
  {
   "cell_type": "markdown",
   "metadata": {},
   "source": [
    "***Отлично, пропусков нет, теперь проверим наличие явных дубликатов***"
   ]
  },
  {
   "cell_type": "code",
   "execution_count": 7,
   "metadata": {},
   "outputs": [
    {
     "data": {
      "text/plain": [
       "0"
      ]
     },
     "execution_count": 7,
     "metadata": {},
     "output_type": "execute_result"
    }
   ],
   "source": [
    "df.duplicated().sum()"
   ]
  },
  {
   "cell_type": "markdown",
   "metadata": {},
   "source": [
    "**Провкрим датасет на сбалансированность. Для этого посчитаем количество уникальных значений столбца `is_ultra`**"
   ]
  },
  {
   "cell_type": "code",
   "execution_count": 8,
   "metadata": {},
   "outputs": [
    {
     "data": {
      "text/plain": [
       "0    2229\n",
       "1     985\n",
       "Name: is_ultra, dtype: int64"
      ]
     },
     "execution_count": 8,
     "metadata": {},
     "output_type": "execute_result"
    }
   ],
   "source": [
    "df['is_ultra'].value_counts()"
   ]
  },
  {
   "cell_type": "markdown",
   "metadata": {},
   "source": [
    "Мы видим большой перекос в сторону тарифа \"Смарт\" (значение 0)"
   ]
  },
  {
   "cell_type": "markdown",
   "metadata": {},
   "source": [
    "***У нас все готово к следующему этапу. Приступим!***"
   ]
  },
  {
   "cell_type": "markdown",
   "metadata": {},
   "source": [
    "## Разбивка данных на выборки"
   ]
  },
  {
   "cell_type": "markdown",
   "metadata": {},
   "source": [
    "***Создадим переменную features со всеми признаками, кроме `is_ultra`.\n",
    "Создадим  переменную target с целевым признаком `is_ultra`***"
   ]
  },
  {
   "cell_type": "code",
   "execution_count": 9,
   "metadata": {},
   "outputs": [],
   "source": [
    "features = df.drop(['is_ultra'], axis=1)\n",
    "target = df['is_ultra']"
   ]
  },
  {
   "cell_type": "markdown",
   "metadata": {},
   "source": [
    "***Разделим исходные данные на обучающую, валидационную и тестовую выборки в пропорции 3:1:1***"
   ]
  },
  {
   "cell_type": "markdown",
   "metadata": {},
   "source": [
    "*Сначала разделяем весь набор данных один раз для выделения обучающей выборки.*"
   ]
  },
  {
   "cell_type": "code",
   "execution_count": 10,
   "metadata": {},
   "outputs": [],
   "source": [
    "features_train, features_test, target_train, target_test = train_test_split(\n",
    "    features, target, test_size=0.4, random_state=12345, stratify = target)"
   ]
  },
  {
   "cell_type": "markdown",
   "metadata": {},
   "source": [
    "*Затем разбиваем оставшиеся данные на датасеты для тестирования и валидации. Так как у нас явный перекос в сторону одного из тарифов, то воспользуемся аргументом `stratify` ,который позволит сохранить пропорции распределения в новых датасетах*"
   ]
  },
  {
   "cell_type": "code",
   "execution_count": 11,
   "metadata": {},
   "outputs": [],
   "source": [
    "features_valid, features_test, target_valid, target_test = train_test_split(\n",
    "    features_test, target_test, test_size=0.5, random_state=12345, stratify = target_test) #test_size равно 0,5 так как у нас равные пропорции тестовой\n",
    "#и валидационной выборок"
   ]
  },
  {
   "cell_type": "markdown",
   "metadata": {},
   "source": [
    "Проверим корректность разбиения"
   ]
  },
  {
   "cell_type": "code",
   "execution_count": 12,
   "metadata": {},
   "outputs": [
    {
     "data": {
      "text/plain": [
       "(1928, 4)"
      ]
     },
     "execution_count": 12,
     "metadata": {},
     "output_type": "execute_result"
    }
   ],
   "source": [
    "features_train.shape"
   ]
  },
  {
   "cell_type": "code",
   "execution_count": 13,
   "metadata": {},
   "outputs": [
    {
     "data": {
      "text/plain": [
       "(643, 4)"
      ]
     },
     "execution_count": 13,
     "metadata": {},
     "output_type": "execute_result"
    }
   ],
   "source": [
    "features_valid.shape"
   ]
  },
  {
   "cell_type": "code",
   "execution_count": 14,
   "metadata": {},
   "outputs": [
    {
     "data": {
      "text/plain": [
       "(643, 4)"
      ]
     },
     "execution_count": 14,
     "metadata": {},
     "output_type": "execute_result"
    }
   ],
   "source": [
    "features_test.shape"
   ]
  },
  {
   "cell_type": "markdown",
   "metadata": {},
   "source": [
    "Данные разбиты корректно, можно приступать к моделям"
   ]
  },
  {
   "cell_type": "markdown",
   "metadata": {},
   "source": [
    "## Исследование моделей"
   ]
  },
  {
   "cell_type": "markdown",
   "metadata": {},
   "source": [
    "### Решающее дерево"
   ]
  },
  {
   "cell_type": "markdown",
   "metadata": {},
   "source": [
    "*Рассмотрим модель обучения \"решающее дерево\". Попробуем разные значения одного параметра — максимальной глубины, `max_depth`. от 1 до 5 и выведем  макисмальный `Accuracy` на экран*"
   ]
  },
  {
   "cell_type": "code",
   "execution_count": 15,
   "metadata": {},
   "outputs": [
    {
     "name": "stdout",
     "output_type": "stream",
     "text": [
      "Accuracy лучшей модели: 0.7853810264385692\n",
      "DecisionTreeClassifier(max_depth=5, random_state=12345)\n"
     ]
    }
   ],
   "source": [
    "best_model_dt = None\n",
    "best_result_dt = 0\n",
    "train_accuracy_dt = [] #создадим списко в которой будем вносить качество модели на train датасете\n",
    "valid_accuracy_dt = [] #создадим списко в которой будем вносить качество модели на validation датасете\n",
    "for depth in range(1, 6):\n",
    "    model = DecisionTreeClassifier(random_state=12345, max_depth=depth) # обучите модель с заданной глубиной дерева\n",
    "    model.fit(features_train, target_train) # обучите модель\n",
    "    predictions = model.predict(features_valid) # получите предсказания модели\n",
    "    result_train = model.score(features_train, target_train)\n",
    "    result = accuracy_score(target_valid, predictions) # посчитайте качество модели\n",
    "    train_accuracy_dt.append(result_train)\n",
    "    valid_accuracy_dt.append(result)\n",
    "    if result > best_result_dt:\n",
    "        best_model_dt = model\n",
    "        best_result_dt = result\n",
    "        \n",
    "print(\"Accuracy лучшей модели:\", best_result_dt)\n",
    "print(best_model_dt)\n"
   ]
  },
  {
   "cell_type": "markdown",
   "metadata": {},
   "source": [
    "Построим графики, которые покажут зависимость accuracy от параметра max_depth для  на train и validation датасетов"
   ]
  },
  {
   "cell_type": "code",
   "execution_count": 16,
   "metadata": {},
   "outputs": [
    {
     "data": {
      "image/png": "[encoded data removed]",
      "text/plain": [
       "<Figure size 1080x720 with 1 Axes>"
      ]
     },
     "metadata": {
      "needs_background": "light"
     },
     "output_type": "display_data"
    }
   ],
   "source": [
    "depth = [1,2,3,4,5]\n",
    "plt.figure(figsize=(15, 10))\n",
    "plt.plot(depth, train_accuracy_dt, label = 'train')\n",
    "plt.plot(depth, valid_accuracy_dt, label = 'valid')\n",
    "plt.legend(loc='upper left', frameon=False)\n",
    "plt.xticks([1,2,3,4,5])\n",
    "plt.xlabel('Depth') \n",
    "plt.ylabel('Accuracy') \n",
    "plt.title('Дерево решений')\n",
    "plt.show()\n"
   ]
  },
  {
   "cell_type": "markdown",
   "metadata": {},
   "source": [
    "Мы видим, что на тренировочном датасете точность выше, чем на validation. Еще наблюдается резкое падение точности при параметре depth = 4"
   ]
  },
  {
   "cell_type": "markdown",
   "metadata": {},
   "source": [
    "### Случайный лес"
   ]
  },
  {
   "cell_type": "markdown",
   "metadata": {},
   "source": [
    "*Попробуем новый алгоритм классификации — `случайный лес`. Алгоритм обучает большое количество независимых друг от друга деревьев, а потом принимает решение на основе голосования. Случайный лес помогает улучшить результат предсказания и избежать переобучения. Для построения модели возьмем следующие гипперпараметры:*\n",
    "Количество деревьев `n_estimators`: от 10 до 50 с шагом 10\n",
    "Макисмальная глубина `max_depth` от 0 до 10\n",
    "Минимальное количество выборок, которые должен содержать внутренний узел для разделения на другие узлы `min_samples_split` от 2 до 6"
   ]
  },
  {
   "cell_type": "code",
   "execution_count": 17,
   "metadata": {
    "scrolled": true
   },
   "outputs": [
    {
     "name": "stdout",
     "output_type": "stream",
     "text": [
      "Accuracy наилучшей модели на валидационной выборке: 0.8211508553654744\n",
      "RandomForestClassifier(max_depth=9, n_estimators=40, random_state=12345)\n",
      "CPU times: total: 19.1 s\n",
      "Wall time: 19.2 s\n"
     ]
    }
   ],
   "source": [
    "%%time\n",
    "best_model_rf = None\n",
    "best_result_rf = 0\n",
    "\n",
    "for est in range(10, 51, 10):\n",
    "     for depth in range (1, 11):\n",
    "            for samples_split in range (2, 7):\n",
    "                model = RandomForestClassifier(random_state=12345, n_estimators=est, max_depth=depth, min_samples_split = samples_split)\n",
    "                model.fit(features_train, target_train) # обучаем модель на тренировочной выборке\n",
    "                result = model.score(features_valid, target_valid) # посчитаем качество модели на валидационной выборке\n",
    "                if result > best_result_rf:\n",
    "                    best_model_rf = model # сохраняем наилучшую модель\n",
    "                    best_result_rf =  result #  сохраняем наилучшее значение метрики accuracy на валидационных данных\n",
    "\n",
    "print(\"Accuracy наилучшей модели на валидационной выборке:\", best_result_rf)\n",
    "print(best_model_rf)\n"
   ]
  },
  {
   "cell_type": "markdown",
   "metadata": {},
   "source": [
    "### Логическая регрессия "
   ]
  },
  {
   "cell_type": "markdown",
   "metadata": {},
   "source": [
    "*Обучим модель логической регрессии и посмотрим долю правильных ответов*"
   ]
  },
  {
   "cell_type": "code",
   "execution_count": 18,
   "metadata": {},
   "outputs": [
    {
     "name": "stdout",
     "output_type": "stream",
     "text": [
      "Accuracy модели обученной лдогической регрессии: 0.7418351477449455\n"
     ]
    }
   ],
   "source": [
    "model = LogisticRegression()\n",
    "\n",
    "model.fit(features, target)\n",
    "result = model.score(features_valid, target_valid)\n",
    "print(\"Accuracy модели обученной лдогической регрессии:\", result)"
   ]
  },
  {
   "cell_type": "markdown",
   "metadata": {},
   "source": [
    "# Мы исследовали качества трех разных моделей: решающее дерево, случайный лес и логическая регрессия. В результате лучший `accuracy` показала модель случайный лес со следующими гипперпараметрами: max_depth=10, min_samples_split=6, n_estimators=50 #"
   ]
  },
  {
   "cell_type": "markdown",
   "metadata": {},
   "source": [
    "## Проверка лучшей модели на тестовой выборке"
   ]
  },
  {
   "cell_type": "markdown",
   "metadata": {},
   "source": [
    "**Проверим нашу модель, которая показала наилучшие результаты на валидационной выборке, на тестовой выборке**"
   ]
  },
  {
   "cell_type": "code",
   "execution_count": 19,
   "metadata": {},
   "outputs": [
    {
     "name": "stdout",
     "output_type": "stream",
     "text": [
      "Accuracy модели на тестовой выборке: 0.80248833592535\n"
     ]
    }
   ],
   "source": [
    "model = RandomForestClassifier(random_state=12345, n_estimators=50, max_depth=10, min_samples_split = 6)\n",
    "model.fit(features_train, target_train) # обучаем модель\n",
    "\n",
    "result = model.score(features_test, target_test) # посчитаем качество модели\n",
    "print(\"Accuracy модели на тестовой выборке:\", result)"
   ]
  },
  {
   "cell_type": "markdown",
   "metadata": {},
   "source": [
    "# Accuracy модели на тестовой выборке получился равным 0,809, что  больше, чем требуемый в задании уровень accuracy 0,75. Значит наша модель хорошо обучена и дает достаточно качественные прогнозы #"
   ]
  },
  {
   "cell_type": "markdown",
   "metadata": {},
   "source": [
    "Объединим тренировочную и валидоционную выборку и обучим модель, затем проверим результат на тестовой выборке"
   ]
  },
  {
   "cell_type": "code",
   "execution_count": 20,
   "metadata": {},
   "outputs": [
    {
     "name": "stdout",
     "output_type": "stream",
     "text": [
      "Accuracy модели на тестовой выборке: 0.833592534992224\n"
     ]
    }
   ],
   "source": [
    "features_train_2 = pd.concat([features_train, features_valid], sort = False, axis = 0)\n",
    "target_train_2 = pd.concat([target_train, target_valid], sort = False, axis = 0)\n",
    "model = RandomForestClassifier(random_state=12345, n_estimators=50, max_depth=10, min_samples_split = 6)\n",
    "model.fit(features_train_2, target_train_2) # обучаем модель\n",
    "\n",
    "result = model.score(features_test, target_test) # посчитаем качество модели\n",
    "print(\"Accuracy модели на тестовой выборке:\", result)"
   ]
  },
  {
   "cell_type": "markdown",
   "metadata": {},
   "source": [
    "# Точность модели получилась выше, когда мы объединили тестовую и валидационную выборки и обучили модель по ним #"
   ]
  },
  {
   "cell_type": "markdown",
   "metadata": {},
   "source": [
    "## Проверка модели на адекватность"
   ]
  },
  {
   "cell_type": "markdown",
   "metadata": {},
   "source": [
    "**Так как у нас явный перекос в пользу 0, то для проверки на адекватность сравним точность нашей модели с baseline моделью, которая всегда предсказывает наиболее частовстречающийся класс**"
   ]
  },
  {
   "cell_type": "code",
   "execution_count": 21,
   "metadata": {},
   "outputs": [
    {
     "name": "stdout",
     "output_type": "stream",
     "text": [
      "Accuracy модели на тестовой выборке: 0.6936236391912908\n"
     ]
    }
   ],
   "source": [
    "dummy_clf = DummyClassifier(strategy=\"most_frequent\", random_state=0)\n",
    "dummy_clf.fit(features_train_2, target_train_2)\n",
    "result_dummy = dummy_clf.score(features_test, target_test)\n",
    "print(\"Accuracy модели на тестовой выборке:\", result_dummy)"
   ]
  },
  {
   "cell_type": "markdown",
   "metadata": {},
   "source": [
    "Мы видим, что `accuracy` этой модели менбше, чем точность той модели ,какую мы получили, значит, проверка на адекватность пройдена!"
   ]
  }
 ],
 "metadata": {
  "ExecuteTimeLog": [
   {
    "duration": 576,
    "start_time": "2022-10-20T13:46:45.945Z"
   },
   {
    "duration": 37,
    "start_time": "2022-10-20T13:48:00.647Z"
   },
   {
    "duration": 36,
    "start_time": "2022-10-20T13:48:29.014Z"
   },
   {
    "duration": 113,
    "start_time": "2022-10-20T13:49:28.633Z"
   },
   {
    "duration": 3,
    "start_time": "2022-10-20T13:50:01.563Z"
   },
   {
    "duration": 28,
    "start_time": "2022-10-20T13:50:45.436Z"
   },
   {
    "duration": 9,
    "start_time": "2022-10-20T13:51:17.638Z"
   },
   {
    "duration": 9,
    "start_time": "2022-10-20T13:52:03.887Z"
   },
   {
    "duration": 63,
    "start_time": "2022-10-20T13:56:05.517Z"
   },
   {
    "duration": 5,
    "start_time": "2022-10-20T13:56:17.237Z"
   },
   {
    "duration": 6,
    "start_time": "2022-10-20T13:57:54.480Z"
   },
   {
    "duration": 7,
    "start_time": "2022-10-20T13:58:59.210Z"
   },
   {
    "duration": 4,
    "start_time": "2022-10-20T14:16:57.025Z"
   },
   {
    "duration": 7,
    "start_time": "2022-10-20T14:16:58.891Z"
   },
   {
    "duration": 668,
    "start_time": "2022-10-20T14:17:16.810Z"
   },
   {
    "duration": 38,
    "start_time": "2022-10-20T14:17:20.707Z"
   },
   {
    "duration": 10,
    "start_time": "2022-10-20T14:18:14.276Z"
   },
   {
    "duration": 5,
    "start_time": "2022-10-20T14:23:24.071Z"
   },
   {
    "duration": 5,
    "start_time": "2022-10-20T14:24:35.969Z"
   },
   {
    "duration": 4,
    "start_time": "2022-10-20T14:25:31.259Z"
   },
   {
    "duration": 40,
    "start_time": "2022-10-20T14:26:51.611Z"
   },
   {
    "duration": 234,
    "start_time": "2022-10-20T14:28:05.361Z"
   },
   {
    "duration": 3,
    "start_time": "2022-10-20T14:29:51.386Z"
   },
   {
    "duration": 431,
    "start_time": "2022-10-20T14:31:03.499Z"
   },
   {
    "duration": 13,
    "start_time": "2022-10-20T14:32:35.167Z"
   },
   {
    "duration": 3,
    "start_time": "2022-10-20T14:32:48.133Z"
   },
   {
    "duration": 34,
    "start_time": "2022-10-20T14:32:52.263Z"
   },
   {
    "duration": 40,
    "start_time": "2022-10-20T14:33:19.479Z"
   },
   {
    "duration": 6,
    "start_time": "2022-10-20T14:35:12.684Z"
   },
   {
    "duration": 13,
    "start_time": "2022-10-20T14:37:49.448Z"
   },
   {
    "duration": 1023,
    "start_time": "2022-10-21T16:23:20.536Z"
   },
   {
    "duration": 49,
    "start_time": "2022-10-21T16:23:21.561Z"
   },
   {
    "duration": 16,
    "start_time": "2022-10-21T16:23:21.612Z"
   },
   {
    "duration": 19,
    "start_time": "2022-10-21T16:23:21.629Z"
   },
   {
    "duration": 4,
    "start_time": "2022-10-21T16:23:21.650Z"
   },
   {
    "duration": 13,
    "start_time": "2022-10-21T16:23:21.655Z"
   },
   {
    "duration": 9,
    "start_time": "2022-10-21T16:23:21.669Z"
   },
   {
    "duration": 12,
    "start_time": "2022-10-21T16:23:21.679Z"
   },
   {
    "duration": 9,
    "start_time": "2022-10-21T16:23:21.693Z"
   },
   {
    "duration": 14,
    "start_time": "2022-10-21T16:23:21.704Z"
   },
   {
    "duration": 36,
    "start_time": "2022-10-21T16:23:21.719Z"
   },
   {
    "duration": 243,
    "start_time": "2022-10-21T16:23:21.756Z"
   },
   {
    "duration": 600,
    "start_time": "2022-10-21T16:23:22.001Z"
   },
   {
    "duration": 97,
    "start_time": "2022-10-21T16:23:22.604Z"
   },
   {
    "duration": 32,
    "start_time": "2022-10-21T16:28:05.547Z"
   },
   {
    "duration": 64,
    "start_time": "2022-10-21T16:41:11.393Z"
   },
   {
    "duration": 29,
    "start_time": "2022-10-21T16:41:18.351Z"
   },
   {
    "duration": 3,
    "start_time": "2022-10-21T16:43:03.370Z"
   },
   {
    "duration": 6290,
    "start_time": "2022-10-21T16:44:28.390Z"
   },
   {
    "duration": 6293,
    "start_time": "2022-10-21T16:45:02.637Z"
   },
   {
    "duration": 9926,
    "start_time": "2022-10-21T16:45:56.791Z"
   },
   {
    "duration": 14333,
    "start_time": "2022-10-21T16:46:44.408Z"
   },
   {
    "duration": 17911,
    "start_time": "2022-10-21T16:51:00.863Z"
   },
   {
    "duration": 227,
    "start_time": "2022-10-21T16:54:20.413Z"
   },
   {
    "duration": 1116,
    "start_time": "2022-10-22T13:55:00.544Z"
   },
   {
    "duration": 135,
    "start_time": "2022-10-22T13:55:01.662Z"
   },
   {
    "duration": 20,
    "start_time": "2022-10-22T13:55:01.799Z"
   },
   {
    "duration": 13,
    "start_time": "2022-10-22T13:55:01.822Z"
   },
   {
    "duration": 17,
    "start_time": "2022-10-22T13:55:01.836Z"
   },
   {
    "duration": 11,
    "start_time": "2022-10-22T13:55:01.855Z"
   },
   {
    "duration": 11,
    "start_time": "2022-10-22T13:55:01.868Z"
   },
   {
    "duration": 6,
    "start_time": "2022-10-22T13:55:01.881Z"
   },
   {
    "duration": 6,
    "start_time": "2022-10-22T13:55:01.889Z"
   },
   {
    "duration": 26,
    "start_time": "2022-10-22T13:55:01.898Z"
   },
   {
    "duration": 47,
    "start_time": "2022-10-22T13:55:01.927Z"
   },
   {
    "duration": 18901,
    "start_time": "2022-10-22T13:55:01.976Z"
   },
   {
    "duration": 1663,
    "start_time": "2022-10-22T13:55:20.879Z"
   },
   {
    "duration": 367,
    "start_time": "2022-10-22T13:55:22.549Z"
   },
   {
    "duration": 233,
    "start_time": "2022-10-22T14:14:27.836Z"
   },
   {
    "duration": 284,
    "start_time": "2022-10-22T14:18:22.653Z"
   },
   {
    "duration": 175,
    "start_time": "2022-10-22T14:21:36.461Z"
   },
   {
    "duration": 1576,
    "start_time": "2022-10-22T15:11:28.045Z"
   },
   {
    "duration": 17,
    "start_time": "2022-10-22T15:11:29.623Z"
   },
   {
    "duration": 14,
    "start_time": "2022-10-22T15:11:29.641Z"
   },
   {
    "duration": 10,
    "start_time": "2022-10-22T15:11:29.657Z"
   },
   {
    "duration": 8,
    "start_time": "2022-10-22T15:11:29.668Z"
   },
   {
    "duration": 10,
    "start_time": "2022-10-22T15:11:29.678Z"
   },
   {
    "duration": 5,
    "start_time": "2022-10-22T15:11:29.690Z"
   },
   {
    "duration": 5,
    "start_time": "2022-10-22T15:11:29.697Z"
   },
   {
    "duration": 19,
    "start_time": "2022-10-22T15:11:29.703Z"
   },
   {
    "duration": 7,
    "start_time": "2022-10-22T15:11:29.724Z"
   },
   {
    "duration": 32,
    "start_time": "2022-10-22T15:11:29.733Z"
   },
   {
    "duration": 18008,
    "start_time": "2022-10-22T15:11:29.766Z"
   },
   {
    "duration": 456,
    "start_time": "2022-10-22T15:11:47.776Z"
   },
   {
    "duration": 251,
    "start_time": "2022-10-22T15:11:48.322Z"
   },
   {
    "duration": 1086,
    "start_time": "2022-10-23T04:11:46.112Z"
   },
   {
    "duration": 40,
    "start_time": "2022-10-23T04:12:03.340Z"
   },
   {
    "duration": 15,
    "start_time": "2022-10-23T04:12:04.030Z"
   },
   {
    "duration": 11,
    "start_time": "2022-10-23T04:12:04.852Z"
   },
   {
    "duration": 4,
    "start_time": "2022-10-23T04:12:05.308Z"
   },
   {
    "duration": 5,
    "start_time": "2022-10-23T04:12:06.045Z"
   },
   {
    "duration": 7,
    "start_time": "2022-10-23T04:12:06.859Z"
   },
   {
    "duration": 5,
    "start_time": "2022-10-23T04:12:47.902Z"
   },
   {
    "duration": 4,
    "start_time": "2022-10-23T04:13:53.025Z"
   },
   {
    "duration": 62,
    "start_time": "2022-10-25T05:06:26.233Z"
   },
   {
    "duration": 6,
    "start_time": "2022-10-25T05:06:31.039Z"
   },
   {
    "duration": 5,
    "start_time": "2022-10-25T05:06:49.623Z"
   },
   {
    "duration": 6,
    "start_time": "2022-10-25T05:07:21.071Z"
   },
   {
    "duration": 1085,
    "start_time": "2022-10-25T05:07:28.092Z"
   },
   {
    "duration": 153,
    "start_time": "2022-10-25T05:07:29.179Z"
   },
   {
    "duration": 16,
    "start_time": "2022-10-25T05:07:29.333Z"
   },
   {
    "duration": 10,
    "start_time": "2022-10-25T05:07:29.351Z"
   },
   {
    "duration": 9,
    "start_time": "2022-10-25T05:07:29.362Z"
   },
   {
    "duration": 10,
    "start_time": "2022-10-25T05:07:29.373Z"
   },
   {
    "duration": 9,
    "start_time": "2022-10-25T05:07:29.385Z"
   },
   {
    "duration": 38,
    "start_time": "2022-10-25T05:07:29.396Z"
   },
   {
    "duration": 4,
    "start_time": "2022-10-25T05:07:29.437Z"
   },
   {
    "duration": 7,
    "start_time": "2022-10-25T05:07:29.444Z"
   },
   {
    "duration": 7,
    "start_time": "2022-10-25T05:07:29.452Z"
   },
   {
    "duration": 6,
    "start_time": "2022-10-25T05:07:29.461Z"
   },
   {
    "duration": 74,
    "start_time": "2022-10-25T05:07:29.469Z"
   },
   {
    "duration": 18278,
    "start_time": "2022-10-25T05:07:29.545Z"
   },
   {
    "duration": 1410,
    "start_time": "2022-10-25T05:07:47.825Z"
   },
   {
    "duration": 253,
    "start_time": "2022-10-25T05:07:49.237Z"
   },
   {
    "duration": 4,
    "start_time": "2022-10-25T05:09:04.178Z"
   },
   {
    "duration": 3,
    "start_time": "2022-10-25T05:09:42.372Z"
   },
   {
    "duration": 104,
    "start_time": "2022-10-25T05:11:25.552Z"
   },
   {
    "duration": 6,
    "start_time": "2022-10-25T05:11:51.511Z"
   },
   {
    "duration": 12,
    "start_time": "2022-10-25T05:11:53.224Z"
   },
   {
    "duration": 5,
    "start_time": "2022-10-25T05:12:12.514Z"
   },
   {
    "duration": 7,
    "start_time": "2022-10-25T05:12:15.680Z"
   },
   {
    "duration": 7,
    "start_time": "2022-10-25T05:12:46.297Z"
   },
   {
    "duration": 4,
    "start_time": "2022-10-25T05:12:47.608Z"
   },
   {
    "duration": 4,
    "start_time": "2022-10-25T05:12:48.220Z"
   },
   {
    "duration": 4,
    "start_time": "2022-10-25T05:12:48.697Z"
   },
   {
    "duration": 23,
    "start_time": "2022-10-25T09:55:25.157Z"
   },
   {
    "duration": 19,
    "start_time": "2022-10-25T09:56:40.678Z"
   },
   {
    "duration": 0,
    "start_time": "2022-10-25T09:58:50.155Z"
   },
   {
    "duration": 19,
    "start_time": "2022-10-25T09:58:58.755Z"
   },
   {
    "duration": 46,
    "start_time": "2022-10-25T09:59:50.836Z"
   },
   {
    "duration": 4,
    "start_time": "2022-10-25T09:59:55.708Z"
   },
   {
    "duration": 53,
    "start_time": "2022-10-25T10:00:52.935Z"
   },
   {
    "duration": 4,
    "start_time": "2022-10-25T10:00:53.901Z"
   },
   {
    "duration": 5,
    "start_time": "2022-10-25T10:00:58.022Z"
   },
   {
    "duration": 410,
    "start_time": "2022-10-25T10:04:23.926Z"
   },
   {
    "duration": 148,
    "start_time": "2022-10-25T10:05:15.080Z"
   },
   {
    "duration": 25,
    "start_time": "2022-10-25T10:08:54.437Z"
   },
   {
    "duration": 171,
    "start_time": "2022-10-25T10:09:03.583Z"
   },
   {
    "duration": 9,
    "start_time": "2022-10-25T10:11:21.953Z"
   },
   {
    "duration": 3,
    "start_time": "2022-10-25T10:11:35.891Z"
   },
   {
    "duration": 9,
    "start_time": "2022-10-25T10:11:41.513Z"
   },
   {
    "duration": 13,
    "start_time": "2022-10-25T10:12:08.306Z"
   },
   {
    "duration": 1686,
    "start_time": "2022-10-25T10:12:55.371Z"
   },
   {
    "duration": 1664,
    "start_time": "2022-10-25T10:13:19.844Z"
   },
   {
    "duration": 1617,
    "start_time": "2022-10-25T16:07:07.869Z"
   },
   {
    "duration": 120,
    "start_time": "2022-10-25T16:07:09.489Z"
   },
   {
    "duration": 15,
    "start_time": "2022-10-25T16:07:09.610Z"
   },
   {
    "duration": 13,
    "start_time": "2022-10-25T16:07:09.627Z"
   },
   {
    "duration": 11,
    "start_time": "2022-10-25T16:07:09.641Z"
   },
   {
    "duration": 15,
    "start_time": "2022-10-25T16:07:09.654Z"
   },
   {
    "duration": 12,
    "start_time": "2022-10-25T16:07:09.671Z"
   },
   {
    "duration": 13,
    "start_time": "2022-10-25T16:07:09.684Z"
   },
   {
    "duration": 10,
    "start_time": "2022-10-25T16:07:09.698Z"
   },
   {
    "duration": 13,
    "start_time": "2022-10-25T16:07:09.710Z"
   },
   {
    "duration": 12,
    "start_time": "2022-10-25T16:07:09.725Z"
   },
   {
    "duration": 6,
    "start_time": "2022-10-25T16:07:09.738Z"
   },
   {
    "duration": 6,
    "start_time": "2022-10-25T16:07:09.746Z"
   },
   {
    "duration": 8,
    "start_time": "2022-10-25T16:07:09.754Z"
   },
   {
    "duration": 63,
    "start_time": "2022-10-25T16:07:09.763Z"
   },
   {
    "duration": 1625,
    "start_time": "2022-10-25T16:07:09.828Z"
   },
   {
    "duration": 3,
    "start_time": "2022-10-25T16:07:11.455Z"
   },
   {
    "duration": 18565,
    "start_time": "2022-10-25T16:07:11.460Z"
   },
   {
    "duration": 0,
    "start_time": "2022-10-25T16:07:30.027Z"
   },
   {
    "duration": 0,
    "start_time": "2022-10-25T16:07:30.028Z"
   },
   {
    "duration": 134,
    "start_time": "2022-10-25T16:11:03.410Z"
   },
   {
    "duration": 98,
    "start_time": "2022-10-25T16:12:08.587Z"
   },
   {
    "duration": 137,
    "start_time": "2022-10-25T16:13:12.846Z"
   },
   {
    "duration": 196,
    "start_time": "2022-10-25T16:13:37.696Z"
   },
   {
    "duration": 106,
    "start_time": "2022-10-25T16:14:59.225Z"
   },
   {
    "duration": 113,
    "start_time": "2022-10-25T16:16:19.187Z"
   },
   {
    "duration": 110,
    "start_time": "2022-10-25T16:17:07.094Z"
   },
   {
    "duration": 123,
    "start_time": "2022-10-25T16:17:31.660Z"
   },
   {
    "duration": 126,
    "start_time": "2022-10-25T16:18:02.438Z"
   },
   {
    "duration": 233,
    "start_time": "2022-10-25T16:18:52.464Z"
   },
   {
    "duration": 158,
    "start_time": "2022-10-25T16:19:17.386Z"
   },
   {
    "duration": 151,
    "start_time": "2022-10-25T16:19:23.482Z"
   },
   {
    "duration": 173,
    "start_time": "2022-10-25T16:19:30.009Z"
   },
   {
    "duration": 177,
    "start_time": "2022-10-25T16:19:57.226Z"
   },
   {
    "duration": 17363,
    "start_time": "2022-10-25T16:23:34.712Z"
   },
   {
    "duration": 8,
    "start_time": "2022-10-25T16:24:44.635Z"
   },
   {
    "duration": 17996,
    "start_time": "2022-10-25T16:25:48.267Z"
   },
   {
    "duration": 200,
    "start_time": "2022-10-25T16:51:26.938Z"
   },
   {
    "duration": 188,
    "start_time": "2022-10-25T16:51:32.741Z"
   },
   {
    "duration": 3,
    "start_time": "2022-10-25T16:57:10.759Z"
   },
   {
    "duration": 3,
    "start_time": "2022-10-25T16:57:37.793Z"
   },
   {
    "duration": 7,
    "start_time": "2022-10-25T16:58:40.288Z"
   },
   {
    "duration": 1675,
    "start_time": "2022-12-24T08:15:41.308Z"
   },
   {
    "duration": 120,
    "start_time": "2022-12-24T08:15:42.985Z"
   },
   {
    "duration": 27,
    "start_time": "2022-12-24T08:15:43.107Z"
   },
   {
    "duration": 13,
    "start_time": "2022-12-24T08:15:43.137Z"
   },
   {
    "duration": 9,
    "start_time": "2022-12-24T08:15:43.152Z"
   },
   {
    "duration": 10,
    "start_time": "2022-12-24T08:15:43.163Z"
   },
   {
    "duration": 7,
    "start_time": "2022-12-24T08:15:43.176Z"
   },
   {
    "duration": 148,
    "start_time": "2022-12-24T08:15:43.185Z"
   },
   {
    "duration": 0,
    "start_time": "2022-12-24T08:15:43.336Z"
   },
   {
    "duration": 0,
    "start_time": "2022-12-24T08:15:43.337Z"
   },
   {
    "duration": 1,
    "start_time": "2022-12-24T08:15:43.338Z"
   },
   {
    "duration": 0,
    "start_time": "2022-12-24T08:15:43.340Z"
   },
   {
    "duration": 0,
    "start_time": "2022-12-24T08:15:43.341Z"
   },
   {
    "duration": 1,
    "start_time": "2022-12-24T08:15:43.342Z"
   },
   {
    "duration": 0,
    "start_time": "2022-12-24T08:15:43.344Z"
   },
   {
    "duration": 0,
    "start_time": "2022-12-24T08:15:43.345Z"
   },
   {
    "duration": 0,
    "start_time": "2022-12-24T08:15:43.346Z"
   },
   {
    "duration": 0,
    "start_time": "2022-12-24T08:15:43.347Z"
   },
   {
    "duration": 0,
    "start_time": "2022-12-24T08:15:43.348Z"
   },
   {
    "duration": 0,
    "start_time": "2022-12-24T08:15:43.349Z"
   },
   {
    "duration": 0,
    "start_time": "2022-12-24T08:15:43.350Z"
   },
   {
    "duration": 1668,
    "start_time": "2023-05-12T15:33:32.642Z"
   },
   {
    "duration": 132,
    "start_time": "2023-05-12T15:33:36.156Z"
   },
   {
    "duration": 16,
    "start_time": "2023-05-12T15:33:37.189Z"
   },
   {
    "duration": 12,
    "start_time": "2023-05-12T15:33:40.661Z"
   },
   {
    "duration": 5,
    "start_time": "2023-05-12T15:33:41.834Z"
   },
   {
    "duration": 7,
    "start_time": "2023-05-12T15:33:42.350Z"
   },
   {
    "duration": 7,
    "start_time": "2023-05-12T15:33:45.985Z"
   },
   {
    "duration": 1033,
    "start_time": "2023-05-12T15:34:04.090Z"
   },
   {
    "duration": 902,
    "start_time": "2023-05-12T15:34:11.444Z"
   },
   {
    "duration": 6,
    "start_time": "2023-05-12T15:34:19.902Z"
   },
   {
    "duration": 6,
    "start_time": "2023-05-12T15:34:30.113Z"
   }
  ],
  "kernelspec": {
   "display_name": "Python 3 (ipykernel)",
   "language": "python",
   "name": "python3"
  },
  "language_info": {
   "codemirror_mode": {
    "name": "ipython",
    "version": 3
   },
   "file_extension": ".py",
   "mimetype": "text/x-python",
   "name": "python",
   "nbconvert_exporter": "python",
   "pygments_lexer": "ipython3",
   "version": "3.9.12"
  },
  "toc": {
   "base_numbering": 1,
   "nav_menu": {},
   "number_sections": true,
   "sideBar": true,
   "skip_h1_title": true,
   "title_cell": "Table of Contents",
   "title_sidebar": "Contents",
   "toc_cell": false,
   "toc_position": {},
   "toc_section_display": true,
   "toc_window_display": false
  }
 },
 "nbformat": 4,
 "nbformat_minor": 2
}
