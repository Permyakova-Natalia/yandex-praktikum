{
 "cells": [
  {
   "cell_type": "markdown",
   "metadata": {
    "toc": true
   },
   "source": [
    "<h1>Содержание<span class=\"tocSkip\"></span></h1>\n",
    "<div class=\"toc\"><ul class=\"toc-item\"><li><span><a href=\"#Подготовка-данных\" data-toc-modified-id=\"Подготовка-данных-1\"><span class=\"toc-item-num\">1&nbsp;&nbsp;</span>Подготовка данных</a></span><ul class=\"toc-item\"><li><span><a href=\"#Импортирование-и-изучение-данных\" data-toc-modified-id=\"Импортирование-и-изучение-данных-1.1\"><span class=\"toc-item-num\">1.1&nbsp;&nbsp;</span>Импортирование и изучение данных</a></span></li><li><span><a href=\"#Проверка-эффективности-обогащения\" data-toc-modified-id=\"Проверка-эффективности-обогащения-1.2\"><span class=\"toc-item-num\">1.2&nbsp;&nbsp;</span>Проверка эффективности обогащения</a></span></li></ul></li><li><span><a href=\"#Анализ-данных\" data-toc-modified-id=\"Анализ-данных-2\"><span class=\"toc-item-num\">2&nbsp;&nbsp;</span>Анализ данных</a></span><ul class=\"toc-item\"><li><span><a href=\"#Посмотрим,-как-меняется-концентрация-металлов-(Au,-Ag,-Pb)-на-различных-этапах-очистки\" data-toc-modified-id=\"Посмотрим,-как-меняется-концентрация-металлов-(Au,-Ag,-Pb)-на-различных-этапах-очистки-2.1\"><span class=\"toc-item-num\">2.1&nbsp;&nbsp;</span>Посмотрим, как меняется концентрация металлов (Au, Ag, Pb) на различных этапах очистки</a></span></li><li><span><a href=\"#Cравним-распределения-размеров-гранул-сырья-на-обучающей-и-тестовой-выборках.\" data-toc-modified-id=\"Cравним-распределения-размеров-гранул-сырья-на-обучающей-и-тестовой-выборках.-2.2\"><span class=\"toc-item-num\">2.2&nbsp;&nbsp;</span>Cравним распределения размеров гранул сырья на обучающей и тестовой выборках.</a></span></li><li><span><a href=\"#Исследуем-суммарную-концентрацию-всех-веществ-на-разных-стадиях:-в-сырье,-в-черновом-и-финальном-концентратах.\" data-toc-modified-id=\"Исследуем-суммарную-концентрацию-всех-веществ-на-разных-стадиях:-в-сырье,-в-черновом-и-финальном-концентратах.-2.3\"><span class=\"toc-item-num\">2.3&nbsp;&nbsp;</span>Исследуем суммарную концентрацию всех веществ на разных стадиях: в сырье, в черновом и финальном концентратах.</a></span></li></ul></li><li><span><a href=\"#Модель\" data-toc-modified-id=\"Модель-3\"><span class=\"toc-item-num\">3&nbsp;&nbsp;</span>Модель</a></span><ul class=\"toc-item\"><li><span><a href=\"#Подготовка-тренировочных-данных\" data-toc-modified-id=\"Подготовка-тренировочных-данных-3.1\"><span class=\"toc-item-num\">3.1&nbsp;&nbsp;</span>Подготовка тренировочных данных</a></span></li><li><span><a href=\"#Создание-функции-для-вычисления-sMape\" data-toc-modified-id=\"Создание-функции-для-вычисления-sMape-3.2\"><span class=\"toc-item-num\">3.2&nbsp;&nbsp;</span>Создание функции для вычисления sMape</a></span></li><li><span><a href=\"#Модель-&quot;Решающее-дерево&quot;\" data-toc-modified-id=\"Модель-&quot;Решающее-дерево&quot;-3.3\"><span class=\"toc-item-num\">3.3&nbsp;&nbsp;</span>Модель \"Решающее дерево\"</a></span></li><li><span><a href=\"#Модель-линейная-регрессия\" data-toc-modified-id=\"Модель-линейная-регрессия-3.4\"><span class=\"toc-item-num\">3.4&nbsp;&nbsp;</span>Модель линейная регрессия</a></span></li><li><span><a href=\"#Модель-случайный-лес\" data-toc-modified-id=\"Модель-случайный-лес-3.5\"><span class=\"toc-item-num\">3.5&nbsp;&nbsp;</span>Модель случайный лес</a></span></li><li><span><a href=\"#Проверка-модели-на-тестовой-выборке\" data-toc-modified-id=\"Проверка-модели-на-тестовой-выборке-3.6\"><span class=\"toc-item-num\">3.6&nbsp;&nbsp;</span>Проверка модели на тестовой выборке</a></span></li></ul></li></ul></div>"
   ]
  },
  {
   "cell_type": "markdown",
   "metadata": {},
   "source": [
    "# Восстановление золота из руды"
   ]
  },
  {
   "cell_type": "markdown",
   "metadata": {},
   "source": [
    "Подготовьте прототип модели машинного обучения для «Цифры». Компания разрабатывает решения для эффективной работы промышленных предприятий.\n",
    "\n",
    "Модель должна предсказать коэффициент восстановления золота из золотосодержащей руды. Используйте данные с параметрами добычи и очистки. \n",
    "\n",
    "Модель поможет оптимизировать производство, чтобы не запускать предприятие с убыточными характеристиками.\n",
    "\n",
    "Вам нужно:\n",
    "\n",
    "1. Подготовить данные;\n",
    "2. Провести исследовательский анализ данных;\n",
    "3. Построить и обучить модель.\n",
    "\n",
    "Чтобы выполнить проект, обращайтесь к библиотекам *pandas*, *matplotlib* и *sklearn.* Вам поможет их документация."
   ]
  },
  {
   "cell_type": "markdown",
   "metadata": {},
   "source": [
    "## Подготовка данных"
   ]
  },
  {
   "cell_type": "markdown",
   "metadata": {},
   "source": [
    "### Импортирование и изучение данных"
   ]
  },
  {
   "cell_type": "markdown",
   "metadata": {},
   "source": [
    "**Импортируем библиотеки, необходимые для работы**"
   ]
  },
  {
   "cell_type": "code",
   "execution_count": 1,
   "metadata": {},
   "outputs": [],
   "source": [
    "import pandas as pd\n",
    "import numpy as np\n",
    "import matplotlib.pyplot as plt\n",
    "from sklearn.tree import DecisionTreeRegressor\n",
    "from sklearn.linear_model import LinearRegression\n",
    "from sklearn.ensemble import RandomForestRegressor\n",
    "from sklearn.preprocessing import StandardScaler\n",
    "from sklearn.model_selection import train_test_split, cross_val_score\n",
    "from sklearn.metrics import mean_squared_error\n",
    "from sklearn.metrics import mean_absolute_error\n",
    "from sklearn.metrics import make_scorer\n",
    "from numpy.random import RandomState\n",
    "import warnings\n",
    "warnings.filterwarnings(\"ignore\")\n",
    "from scipy import stats as st\n",
    "from sklearn.preprocessing import StandardScaler \n",
    "from IPython.display import display"
   ]
  },
  {
   "cell_type": "markdown",
   "metadata": {},
   "source": [
    "**Выгрузим данные и сохраним их**"
   ]
  },
  {
   "cell_type": "code",
   "execution_count": 2,
   "metadata": {},
   "outputs": [],
   "source": [
    "data_train = pd.read_csv('/datasets/gold_recovery_train_new.csv')\n",
    "data_test = pd.read_csv('/datasets/gold_recovery_test_new.csv')\n",
    "data_full = pd.read_csv('/datasets/gold_recovery_full_new.csv')"
   ]
  },
  {
   "cell_type": "markdown",
   "metadata": {},
   "source": [
    "**Выведем информацию о данных**"
   ]
  },
  {
   "cell_type": "code",
   "execution_count": 3,
   "metadata": {},
   "outputs": [
    {
     "name": "stdout",
     "output_type": "stream",
     "text": [
      "<class 'pandas.core.frame.DataFrame'>\n",
      "RangeIndex: 14149 entries, 0 to 14148\n",
      "Data columns (total 87 columns):\n",
      " #   Column                                              Non-Null Count  Dtype  \n",
      "---  ------                                              --------------  -----  \n",
      " 0   date                                                14149 non-null  object \n",
      " 1   final.output.concentrate_ag                         14148 non-null  float64\n",
      " 2   final.output.concentrate_pb                         14148 non-null  float64\n",
      " 3   final.output.concentrate_sol                        13938 non-null  float64\n",
      " 4   final.output.concentrate_au                         14149 non-null  float64\n",
      " 5   final.output.recovery                               14149 non-null  float64\n",
      " 6   final.output.tail_ag                                14149 non-null  float64\n",
      " 7   final.output.tail_pb                                14049 non-null  float64\n",
      " 8   final.output.tail_sol                               14144 non-null  float64\n",
      " 9   final.output.tail_au                                14149 non-null  float64\n",
      " 10  primary_cleaner.input.sulfate                       14129 non-null  float64\n",
      " 11  primary_cleaner.input.depressant                    14117 non-null  float64\n",
      " 12  primary_cleaner.input.feed_size                     14149 non-null  float64\n",
      " 13  primary_cleaner.input.xanthate                      14049 non-null  float64\n",
      " 14  primary_cleaner.output.concentrate_ag               14149 non-null  float64\n",
      " 15  primary_cleaner.output.concentrate_pb               14063 non-null  float64\n",
      " 16  primary_cleaner.output.concentrate_sol              13863 non-null  float64\n",
      " 17  primary_cleaner.output.concentrate_au               14149 non-null  float64\n",
      " 18  primary_cleaner.output.tail_ag                      14148 non-null  float64\n",
      " 19  primary_cleaner.output.tail_pb                      14134 non-null  float64\n",
      " 20  primary_cleaner.output.tail_sol                     14103 non-null  float64\n",
      " 21  primary_cleaner.output.tail_au                      14149 non-null  float64\n",
      " 22  primary_cleaner.state.floatbank8_a_air              14145 non-null  float64\n",
      " 23  primary_cleaner.state.floatbank8_a_level            14148 non-null  float64\n",
      " 24  primary_cleaner.state.floatbank8_b_air              14145 non-null  float64\n",
      " 25  primary_cleaner.state.floatbank8_b_level            14148 non-null  float64\n",
      " 26  primary_cleaner.state.floatbank8_c_air              14147 non-null  float64\n",
      " 27  primary_cleaner.state.floatbank8_c_level            14148 non-null  float64\n",
      " 28  primary_cleaner.state.floatbank8_d_air              14146 non-null  float64\n",
      " 29  primary_cleaner.state.floatbank8_d_level            14148 non-null  float64\n",
      " 30  rougher.calculation.sulfate_to_au_concentrate       14148 non-null  float64\n",
      " 31  rougher.calculation.floatbank10_sulfate_to_au_feed  14148 non-null  float64\n",
      " 32  rougher.calculation.floatbank11_sulfate_to_au_feed  14148 non-null  float64\n",
      " 33  rougher.calculation.au_pb_ratio                     14149 non-null  float64\n",
      " 34  rougher.input.feed_ag                               14149 non-null  float64\n",
      " 35  rougher.input.feed_pb                               14049 non-null  float64\n",
      " 36  rougher.input.feed_rate                             14141 non-null  float64\n",
      " 37  rougher.input.feed_size                             14005 non-null  float64\n",
      " 38  rougher.input.feed_sol                              14071 non-null  float64\n",
      " 39  rougher.input.feed_au                               14149 non-null  float64\n",
      " 40  rougher.input.floatbank10_sulfate                   14120 non-null  float64\n",
      " 41  rougher.input.floatbank10_xanthate                  14141 non-null  float64\n",
      " 42  rougher.input.floatbank11_sulfate                   14113 non-null  float64\n",
      " 43  rougher.input.floatbank11_xanthate                  13721 non-null  float64\n",
      " 44  rougher.output.concentrate_ag                       14149 non-null  float64\n",
      " 45  rougher.output.concentrate_pb                       14149 non-null  float64\n",
      " 46  rougher.output.concentrate_sol                      14127 non-null  float64\n",
      " 47  rougher.output.concentrate_au                       14149 non-null  float64\n",
      " 48  rougher.output.recovery                             14149 non-null  float64\n",
      " 49  rougher.output.tail_ag                              14148 non-null  float64\n",
      " 50  rougher.output.tail_pb                              14149 non-null  float64\n",
      " 51  rougher.output.tail_sol                             14149 non-null  float64\n",
      " 52  rougher.output.tail_au                              14149 non-null  float64\n",
      " 53  rougher.state.floatbank10_a_air                     14148 non-null  float64\n",
      " 54  rougher.state.floatbank10_a_level                   14148 non-null  float64\n",
      " 55  rougher.state.floatbank10_b_air                     14148 non-null  float64\n",
      " 56  rougher.state.floatbank10_b_level                   14148 non-null  float64\n",
      " 57  rougher.state.floatbank10_c_air                     14148 non-null  float64\n",
      " 58  rougher.state.floatbank10_c_level                   14148 non-null  float64\n",
      " 59  rougher.state.floatbank10_d_air                     14149 non-null  float64\n",
      " 60  rougher.state.floatbank10_d_level                   14149 non-null  float64\n",
      " 61  rougher.state.floatbank10_e_air                     13713 non-null  float64\n",
      " 62  rougher.state.floatbank10_e_level                   14149 non-null  float64\n",
      " 63  rougher.state.floatbank10_f_air                     14149 non-null  float64\n",
      " 64  rougher.state.floatbank10_f_level                   14149 non-null  float64\n",
      " 65  secondary_cleaner.output.tail_ag                    14147 non-null  float64\n",
      " 66  secondary_cleaner.output.tail_pb                    14139 non-null  float64\n",
      " 67  secondary_cleaner.output.tail_sol                   12544 non-null  float64\n",
      " 68  secondary_cleaner.output.tail_au                    14149 non-null  float64\n",
      " 69  secondary_cleaner.state.floatbank2_a_air            13932 non-null  float64\n",
      " 70  secondary_cleaner.state.floatbank2_a_level          14148 non-null  float64\n",
      " 71  secondary_cleaner.state.floatbank2_b_air            14128 non-null  float64\n",
      " 72  secondary_cleaner.state.floatbank2_b_level          14148 non-null  float64\n",
      " 73  secondary_cleaner.state.floatbank3_a_air            14145 non-null  float64\n",
      " 74  secondary_cleaner.state.floatbank3_a_level          14148 non-null  float64\n",
      " 75  secondary_cleaner.state.floatbank3_b_air            14148 non-null  float64\n",
      " 76  secondary_cleaner.state.floatbank3_b_level          14148 non-null  float64\n",
      " 77  secondary_cleaner.state.floatbank4_a_air            14143 non-null  float64\n",
      " 78  secondary_cleaner.state.floatbank4_a_level          14148 non-null  float64\n",
      " 79  secondary_cleaner.state.floatbank4_b_air            14148 non-null  float64\n",
      " 80  secondary_cleaner.state.floatbank4_b_level          14148 non-null  float64\n",
      " 81  secondary_cleaner.state.floatbank5_a_air            14148 non-null  float64\n",
      " 82  secondary_cleaner.state.floatbank5_a_level          14148 non-null  float64\n",
      " 83  secondary_cleaner.state.floatbank5_b_air            14148 non-null  float64\n",
      " 84  secondary_cleaner.state.floatbank5_b_level          14148 non-null  float64\n",
      " 85  secondary_cleaner.state.floatbank6_a_air            14147 non-null  float64\n",
      " 86  secondary_cleaner.state.floatbank6_a_level          14148 non-null  float64\n",
      "dtypes: float64(86), object(1)\n",
      "memory usage: 9.4+ MB\n"
     ]
    }
   ],
   "source": [
    "data_train.info()"
   ]
  },
  {
   "cell_type": "code",
   "execution_count": 4,
   "metadata": {},
   "outputs": [
    {
     "name": "stdout",
     "output_type": "stream",
     "text": [
      "<class 'pandas.core.frame.DataFrame'>\n",
      "RangeIndex: 5290 entries, 0 to 5289\n",
      "Data columns (total 53 columns):\n",
      " #   Column                                      Non-Null Count  Dtype  \n",
      "---  ------                                      --------------  -----  \n",
      " 0   date                                        5290 non-null   object \n",
      " 1   primary_cleaner.input.sulfate               5286 non-null   float64\n",
      " 2   primary_cleaner.input.depressant            5285 non-null   float64\n",
      " 3   primary_cleaner.input.feed_size             5290 non-null   float64\n",
      " 4   primary_cleaner.input.xanthate              5286 non-null   float64\n",
      " 5   primary_cleaner.state.floatbank8_a_air      5290 non-null   float64\n",
      " 6   primary_cleaner.state.floatbank8_a_level    5290 non-null   float64\n",
      " 7   primary_cleaner.state.floatbank8_b_air      5290 non-null   float64\n",
      " 8   primary_cleaner.state.floatbank8_b_level    5290 non-null   float64\n",
      " 9   primary_cleaner.state.floatbank8_c_air      5290 non-null   float64\n",
      " 10  primary_cleaner.state.floatbank8_c_level    5290 non-null   float64\n",
      " 11  primary_cleaner.state.floatbank8_d_air      5290 non-null   float64\n",
      " 12  primary_cleaner.state.floatbank8_d_level    5290 non-null   float64\n",
      " 13  rougher.input.feed_ag                       5290 non-null   float64\n",
      " 14  rougher.input.feed_pb                       5290 non-null   float64\n",
      " 15  rougher.input.feed_rate                     5287 non-null   float64\n",
      " 16  rougher.input.feed_size                     5289 non-null   float64\n",
      " 17  rougher.input.feed_sol                      5269 non-null   float64\n",
      " 18  rougher.input.feed_au                       5290 non-null   float64\n",
      " 19  rougher.input.floatbank10_sulfate           5285 non-null   float64\n",
      " 20  rougher.input.floatbank10_xanthate          5290 non-null   float64\n",
      " 21  rougher.input.floatbank11_sulfate           5282 non-null   float64\n",
      " 22  rougher.input.floatbank11_xanthate          5265 non-null   float64\n",
      " 23  rougher.state.floatbank10_a_air             5290 non-null   float64\n",
      " 24  rougher.state.floatbank10_a_level           5290 non-null   float64\n",
      " 25  rougher.state.floatbank10_b_air             5290 non-null   float64\n",
      " 26  rougher.state.floatbank10_b_level           5290 non-null   float64\n",
      " 27  rougher.state.floatbank10_c_air             5290 non-null   float64\n",
      " 28  rougher.state.floatbank10_c_level           5290 non-null   float64\n",
      " 29  rougher.state.floatbank10_d_air             5290 non-null   float64\n",
      " 30  rougher.state.floatbank10_d_level           5290 non-null   float64\n",
      " 31  rougher.state.floatbank10_e_air             5290 non-null   float64\n",
      " 32  rougher.state.floatbank10_e_level           5290 non-null   float64\n",
      " 33  rougher.state.floatbank10_f_air             5290 non-null   float64\n",
      " 34  rougher.state.floatbank10_f_level           5290 non-null   float64\n",
      " 35  secondary_cleaner.state.floatbank2_a_air    5287 non-null   float64\n",
      " 36  secondary_cleaner.state.floatbank2_a_level  5290 non-null   float64\n",
      " 37  secondary_cleaner.state.floatbank2_b_air    5288 non-null   float64\n",
      " 38  secondary_cleaner.state.floatbank2_b_level  5290 non-null   float64\n",
      " 39  secondary_cleaner.state.floatbank3_a_air    5281 non-null   float64\n",
      " 40  secondary_cleaner.state.floatbank3_a_level  5290 non-null   float64\n",
      " 41  secondary_cleaner.state.floatbank3_b_air    5290 non-null   float64\n",
      " 42  secondary_cleaner.state.floatbank3_b_level  5290 non-null   float64\n",
      " 43  secondary_cleaner.state.floatbank4_a_air    5290 non-null   float64\n",
      " 44  secondary_cleaner.state.floatbank4_a_level  5290 non-null   float64\n",
      " 45  secondary_cleaner.state.floatbank4_b_air    5290 non-null   float64\n",
      " 46  secondary_cleaner.state.floatbank4_b_level  5290 non-null   float64\n",
      " 47  secondary_cleaner.state.floatbank5_a_air    5290 non-null   float64\n",
      " 48  secondary_cleaner.state.floatbank5_a_level  5290 non-null   float64\n",
      " 49  secondary_cleaner.state.floatbank5_b_air    5290 non-null   float64\n",
      " 50  secondary_cleaner.state.floatbank5_b_level  5290 non-null   float64\n",
      " 51  secondary_cleaner.state.floatbank6_a_air    5290 non-null   float64\n",
      " 52  secondary_cleaner.state.floatbank6_a_level  5290 non-null   float64\n",
      "dtypes: float64(52), object(1)\n",
      "memory usage: 2.1+ MB\n"
     ]
    }
   ],
   "source": [
    "data_test.info()"
   ]
  },
  {
   "cell_type": "code",
   "execution_count": 5,
   "metadata": {},
   "outputs": [
    {
     "name": "stdout",
     "output_type": "stream",
     "text": [
      "<class 'pandas.core.frame.DataFrame'>\n",
      "RangeIndex: 19439 entries, 0 to 19438\n",
      "Data columns (total 87 columns):\n",
      " #   Column                                              Non-Null Count  Dtype  \n",
      "---  ------                                              --------------  -----  \n",
      " 0   date                                                19439 non-null  object \n",
      " 1   final.output.concentrate_ag                         19438 non-null  float64\n",
      " 2   final.output.concentrate_pb                         19438 non-null  float64\n",
      " 3   final.output.concentrate_sol                        19228 non-null  float64\n",
      " 4   final.output.concentrate_au                         19439 non-null  float64\n",
      " 5   final.output.recovery                               19439 non-null  float64\n",
      " 6   final.output.tail_ag                                19438 non-null  float64\n",
      " 7   final.output.tail_pb                                19338 non-null  float64\n",
      " 8   final.output.tail_sol                               19433 non-null  float64\n",
      " 9   final.output.tail_au                                19439 non-null  float64\n",
      " 10  primary_cleaner.input.sulfate                       19415 non-null  float64\n",
      " 11  primary_cleaner.input.depressant                    19402 non-null  float64\n",
      " 12  primary_cleaner.input.feed_size                     19439 non-null  float64\n",
      " 13  primary_cleaner.input.xanthate                      19335 non-null  float64\n",
      " 14  primary_cleaner.output.concentrate_ag               19439 non-null  float64\n",
      " 15  primary_cleaner.output.concentrate_pb               19323 non-null  float64\n",
      " 16  primary_cleaner.output.concentrate_sol              19069 non-null  float64\n",
      " 17  primary_cleaner.output.concentrate_au               19439 non-null  float64\n",
      " 18  primary_cleaner.output.tail_ag                      19435 non-null  float64\n",
      " 19  primary_cleaner.output.tail_pb                      19418 non-null  float64\n",
      " 20  primary_cleaner.output.tail_sol                     19377 non-null  float64\n",
      " 21  primary_cleaner.output.tail_au                      19439 non-null  float64\n",
      " 22  primary_cleaner.state.floatbank8_a_air              19435 non-null  float64\n",
      " 23  primary_cleaner.state.floatbank8_a_level            19438 non-null  float64\n",
      " 24  primary_cleaner.state.floatbank8_b_air              19435 non-null  float64\n",
      " 25  primary_cleaner.state.floatbank8_b_level            19438 non-null  float64\n",
      " 26  primary_cleaner.state.floatbank8_c_air              19437 non-null  float64\n",
      " 27  primary_cleaner.state.floatbank8_c_level            19438 non-null  float64\n",
      " 28  primary_cleaner.state.floatbank8_d_air              19436 non-null  float64\n",
      " 29  primary_cleaner.state.floatbank8_d_level            19438 non-null  float64\n",
      " 30  rougher.calculation.sulfate_to_au_concentrate       19437 non-null  float64\n",
      " 31  rougher.calculation.floatbank10_sulfate_to_au_feed  19437 non-null  float64\n",
      " 32  rougher.calculation.floatbank11_sulfate_to_au_feed  19437 non-null  float64\n",
      " 33  rougher.calculation.au_pb_ratio                     19439 non-null  float64\n",
      " 34  rougher.input.feed_ag                               19439 non-null  float64\n",
      " 35  rougher.input.feed_pb                               19339 non-null  float64\n",
      " 36  rougher.input.feed_rate                             19428 non-null  float64\n",
      " 37  rougher.input.feed_size                             19294 non-null  float64\n",
      " 38  rougher.input.feed_sol                              19340 non-null  float64\n",
      " 39  rougher.input.feed_au                               19439 non-null  float64\n",
      " 40  rougher.input.floatbank10_sulfate                   19405 non-null  float64\n",
      " 41  rougher.input.floatbank10_xanthate                  19431 non-null  float64\n",
      " 42  rougher.input.floatbank11_sulfate                   19395 non-null  float64\n",
      " 43  rougher.input.floatbank11_xanthate                  18986 non-null  float64\n",
      " 44  rougher.output.concentrate_ag                       19439 non-null  float64\n",
      " 45  rougher.output.concentrate_pb                       19439 non-null  float64\n",
      " 46  rougher.output.concentrate_sol                      19416 non-null  float64\n",
      " 47  rougher.output.concentrate_au                       19439 non-null  float64\n",
      " 48  rougher.output.recovery                             19439 non-null  float64\n",
      " 49  rougher.output.tail_ag                              19438 non-null  float64\n",
      " 50  rougher.output.tail_pb                              19439 non-null  float64\n",
      " 51  rougher.output.tail_sol                             19439 non-null  float64\n",
      " 52  rougher.output.tail_au                              19439 non-null  float64\n",
      " 53  rougher.state.floatbank10_a_air                     19438 non-null  float64\n",
      " 54  rougher.state.floatbank10_a_level                   19438 non-null  float64\n",
      " 55  rougher.state.floatbank10_b_air                     19438 non-null  float64\n",
      " 56  rougher.state.floatbank10_b_level                   19438 non-null  float64\n",
      " 57  rougher.state.floatbank10_c_air                     19438 non-null  float64\n",
      " 58  rougher.state.floatbank10_c_level                   19438 non-null  float64\n",
      " 59  rougher.state.floatbank10_d_air                     19439 non-null  float64\n",
      " 60  rougher.state.floatbank10_d_level                   19439 non-null  float64\n",
      " 61  rougher.state.floatbank10_e_air                     19003 non-null  float64\n",
      " 62  rougher.state.floatbank10_e_level                   19439 non-null  float64\n",
      " 63  rougher.state.floatbank10_f_air                     19439 non-null  float64\n",
      " 64  rougher.state.floatbank10_f_level                   19439 non-null  float64\n",
      " 65  secondary_cleaner.output.tail_ag                    19437 non-null  float64\n",
      " 66  secondary_cleaner.output.tail_pb                    19427 non-null  float64\n",
      " 67  secondary_cleaner.output.tail_sol                   17691 non-null  float64\n",
      " 68  secondary_cleaner.output.tail_au                    19439 non-null  float64\n",
      " 69  secondary_cleaner.state.floatbank2_a_air            19219 non-null  float64\n",
      " 70  secondary_cleaner.state.floatbank2_a_level          19438 non-null  float64\n",
      " 71  secondary_cleaner.state.floatbank2_b_air            19416 non-null  float64\n",
      " 72  secondary_cleaner.state.floatbank2_b_level          19438 non-null  float64\n",
      " 73  secondary_cleaner.state.floatbank3_a_air            19426 non-null  float64\n",
      " 74  secondary_cleaner.state.floatbank3_a_level          19438 non-null  float64\n",
      " 75  secondary_cleaner.state.floatbank3_b_air            19438 non-null  float64\n",
      " 76  secondary_cleaner.state.floatbank3_b_level          19438 non-null  float64\n",
      " 77  secondary_cleaner.state.floatbank4_a_air            19433 non-null  float64\n",
      " 78  secondary_cleaner.state.floatbank4_a_level          19438 non-null  float64\n",
      " 79  secondary_cleaner.state.floatbank4_b_air            19438 non-null  float64\n",
      " 80  secondary_cleaner.state.floatbank4_b_level          19438 non-null  float64\n",
      " 81  secondary_cleaner.state.floatbank5_a_air            19438 non-null  float64\n",
      " 82  secondary_cleaner.state.floatbank5_a_level          19438 non-null  float64\n",
      " 83  secondary_cleaner.state.floatbank5_b_air            19438 non-null  float64\n",
      " 84  secondary_cleaner.state.floatbank5_b_level          19438 non-null  float64\n",
      " 85  secondary_cleaner.state.floatbank6_a_air            19437 non-null  float64\n",
      " 86  secondary_cleaner.state.floatbank6_a_level          19438 non-null  float64\n",
      "dtypes: float64(86), object(1)\n",
      "memory usage: 12.9+ MB\n"
     ]
    }
   ],
   "source": [
    "data_full.info()"
   ]
  },
  {
   "cell_type": "markdown",
   "metadata": {},
   "source": [
    "**Проверим наличие явных дубликатов**"
   ]
  },
  {
   "cell_type": "code",
   "execution_count": 6,
   "metadata": {},
   "outputs": [
    {
     "data": {
      "text/plain": [
       "0"
      ]
     },
     "execution_count": 6,
     "metadata": {},
     "output_type": "execute_result"
    }
   ],
   "source": [
    "data_train.duplicated().sum()"
   ]
  },
  {
   "cell_type": "code",
   "execution_count": 7,
   "metadata": {},
   "outputs": [
    {
     "data": {
      "text/plain": [
       "0"
      ]
     },
     "execution_count": 7,
     "metadata": {},
     "output_type": "execute_result"
    }
   ],
   "source": [
    "data_test.duplicated().sum()"
   ]
  },
  {
   "cell_type": "code",
   "execution_count": 8,
   "metadata": {},
   "outputs": [
    {
     "data": {
      "text/plain": [
       "0"
      ]
     },
     "execution_count": 8,
     "metadata": {},
     "output_type": "execute_result"
    }
   ],
   "source": [
    "data_full.duplicated().sum()"
   ]
  },
  {
   "cell_type": "markdown",
   "metadata": {},
   "source": [
    "**Явные дубликаты отсутствуют. Теперь посмотрим на количество пропусков**"
   ]
  },
  {
   "cell_type": "code",
   "execution_count": 9,
   "metadata": {},
   "outputs": [
    {
     "data": {
      "text/plain": [
       "date                                            0\n",
       "final.output.concentrate_ag                     1\n",
       "final.output.concentrate_pb                     1\n",
       "final.output.concentrate_sol                  211\n",
       "final.output.concentrate_au                     0\n",
       "                                             ... \n",
       "secondary_cleaner.state.floatbank5_a_level      1\n",
       "secondary_cleaner.state.floatbank5_b_air        1\n",
       "secondary_cleaner.state.floatbank5_b_level      1\n",
       "secondary_cleaner.state.floatbank6_a_air        2\n",
       "secondary_cleaner.state.floatbank6_a_level      1\n",
       "Length: 87, dtype: int64"
      ]
     },
     "execution_count": 9,
     "metadata": {},
     "output_type": "execute_result"
    }
   ],
   "source": [
    "data_train.isnull().sum()"
   ]
  },
  {
   "cell_type": "code",
   "execution_count": 10,
   "metadata": {},
   "outputs": [
    {
     "data": {
      "text/plain": [
       "date                                           0\n",
       "primary_cleaner.input.sulfate                  4\n",
       "primary_cleaner.input.depressant               5\n",
       "primary_cleaner.input.feed_size                0\n",
       "primary_cleaner.input.xanthate                 4\n",
       "primary_cleaner.state.floatbank8_a_air         0\n",
       "primary_cleaner.state.floatbank8_a_level       0\n",
       "primary_cleaner.state.floatbank8_b_air         0\n",
       "primary_cleaner.state.floatbank8_b_level       0\n",
       "primary_cleaner.state.floatbank8_c_air         0\n",
       "primary_cleaner.state.floatbank8_c_level       0\n",
       "primary_cleaner.state.floatbank8_d_air         0\n",
       "primary_cleaner.state.floatbank8_d_level       0\n",
       "rougher.input.feed_ag                          0\n",
       "rougher.input.feed_pb                          0\n",
       "rougher.input.feed_rate                        3\n",
       "rougher.input.feed_size                        1\n",
       "rougher.input.feed_sol                        21\n",
       "rougher.input.feed_au                          0\n",
       "rougher.input.floatbank10_sulfate              5\n",
       "rougher.input.floatbank10_xanthate             0\n",
       "rougher.input.floatbank11_sulfate              8\n",
       "rougher.input.floatbank11_xanthate            25\n",
       "rougher.state.floatbank10_a_air                0\n",
       "rougher.state.floatbank10_a_level              0\n",
       "rougher.state.floatbank10_b_air                0\n",
       "rougher.state.floatbank10_b_level              0\n",
       "rougher.state.floatbank10_c_air                0\n",
       "rougher.state.floatbank10_c_level              0\n",
       "rougher.state.floatbank10_d_air                0\n",
       "rougher.state.floatbank10_d_level              0\n",
       "rougher.state.floatbank10_e_air                0\n",
       "rougher.state.floatbank10_e_level              0\n",
       "rougher.state.floatbank10_f_air                0\n",
       "rougher.state.floatbank10_f_level              0\n",
       "secondary_cleaner.state.floatbank2_a_air       3\n",
       "secondary_cleaner.state.floatbank2_a_level     0\n",
       "secondary_cleaner.state.floatbank2_b_air       2\n",
       "secondary_cleaner.state.floatbank2_b_level     0\n",
       "secondary_cleaner.state.floatbank3_a_air       9\n",
       "secondary_cleaner.state.floatbank3_a_level     0\n",
       "secondary_cleaner.state.floatbank3_b_air       0\n",
       "secondary_cleaner.state.floatbank3_b_level     0\n",
       "secondary_cleaner.state.floatbank4_a_air       0\n",
       "secondary_cleaner.state.floatbank4_a_level     0\n",
       "secondary_cleaner.state.floatbank4_b_air       0\n",
       "secondary_cleaner.state.floatbank4_b_level     0\n",
       "secondary_cleaner.state.floatbank5_a_air       0\n",
       "secondary_cleaner.state.floatbank5_a_level     0\n",
       "secondary_cleaner.state.floatbank5_b_air       0\n",
       "secondary_cleaner.state.floatbank5_b_level     0\n",
       "secondary_cleaner.state.floatbank6_a_air       0\n",
       "secondary_cleaner.state.floatbank6_a_level     0\n",
       "dtype: int64"
      ]
     },
     "execution_count": 10,
     "metadata": {},
     "output_type": "execute_result"
    }
   ],
   "source": [
    "data_test.isnull().sum()"
   ]
  },
  {
   "cell_type": "code",
   "execution_count": 11,
   "metadata": {},
   "outputs": [
    {
     "data": {
      "text/plain": [
       "date                                            0\n",
       "final.output.concentrate_ag                     1\n",
       "final.output.concentrate_pb                     1\n",
       "final.output.concentrate_sol                  211\n",
       "final.output.concentrate_au                     0\n",
       "                                             ... \n",
       "secondary_cleaner.state.floatbank5_a_level      1\n",
       "secondary_cleaner.state.floatbank5_b_air        1\n",
       "secondary_cleaner.state.floatbank5_b_level      1\n",
       "secondary_cleaner.state.floatbank6_a_air        2\n",
       "secondary_cleaner.state.floatbank6_a_level      1\n",
       "Length: 87, dtype: int64"
      ]
     },
     "execution_count": 11,
     "metadata": {},
     "output_type": "execute_result"
    }
   ],
   "source": [
    "data_full.isnull().sum()"
   ]
  },
  {
   "cell_type": "markdown",
   "metadata": {},
   "source": [
    "**Мы видим, что в данных есть пропуски. В условии задачи сказанно, что соседние по времени параметры часто похожи, воспользуемся этим условием и заполним пропущенные значения предпоследними значениями признака**"
   ]
  },
  {
   "cell_type": "code",
   "execution_count": 12,
   "metadata": {},
   "outputs": [],
   "source": [
    "data_train = data_train.ffill(axis=0)\n",
    "data_test = data_test.ffill(axis=0)\n",
    "data_full = data_full.ffill(axis=0)"
   ]
  },
  {
   "cell_type": "markdown",
   "metadata": {},
   "source": [
    "Исходя из задания, некоторые параметры недоступны, потому что замеряются и/или рассчитываются значительно позже. Из-за этого в тестовой выборке отсутствуют некоторые признаки, которые могут быть в обучающей. Также в тестовом наборе нет целевых признаков. Можно предположить, что столбцы rougher.output, rougher.calculation, final.output, primary_cleaner.output и secondary_cleaner.output отсутсвуют в тестовой выборке, так как заполняются после всех процессов.\n",
    "Добавим в тестовую выборку целевые признаки `rougher.output.recovery` и `final.output.recovery`, строки из тестовой выборки свяжем с полной через параметр `date`\n"
   ]
  },
  {
   "cell_type": "code",
   "execution_count": 13,
   "metadata": {},
   "outputs": [
    {
     "name": "stdout",
     "output_type": "stream",
     "text": [
      "<class 'pandas.core.frame.DataFrame'>\n",
      "Int64Index: 5290 entries, 0 to 5289\n",
      "Data columns (total 55 columns):\n",
      " #   Column                                      Non-Null Count  Dtype  \n",
      "---  ------                                      --------------  -----  \n",
      " 0   date                                        5290 non-null   object \n",
      " 1   primary_cleaner.input.sulfate               5290 non-null   float64\n",
      " 2   primary_cleaner.input.depressant            5290 non-null   float64\n",
      " 3   primary_cleaner.input.feed_size             5290 non-null   float64\n",
      " 4   primary_cleaner.input.xanthate              5290 non-null   float64\n",
      " 5   primary_cleaner.state.floatbank8_a_air      5290 non-null   float64\n",
      " 6   primary_cleaner.state.floatbank8_a_level    5290 non-null   float64\n",
      " 7   primary_cleaner.state.floatbank8_b_air      5290 non-null   float64\n",
      " 8   primary_cleaner.state.floatbank8_b_level    5290 non-null   float64\n",
      " 9   primary_cleaner.state.floatbank8_c_air      5290 non-null   float64\n",
      " 10  primary_cleaner.state.floatbank8_c_level    5290 non-null   float64\n",
      " 11  primary_cleaner.state.floatbank8_d_air      5290 non-null   float64\n",
      " 12  primary_cleaner.state.floatbank8_d_level    5290 non-null   float64\n",
      " 13  rougher.input.feed_ag                       5290 non-null   float64\n",
      " 14  rougher.input.feed_pb                       5290 non-null   float64\n",
      " 15  rougher.input.feed_rate                     5290 non-null   float64\n",
      " 16  rougher.input.feed_size                     5290 non-null   float64\n",
      " 17  rougher.input.feed_sol                      5290 non-null   float64\n",
      " 18  rougher.input.feed_au                       5290 non-null   float64\n",
      " 19  rougher.input.floatbank10_sulfate           5290 non-null   float64\n",
      " 20  rougher.input.floatbank10_xanthate          5290 non-null   float64\n",
      " 21  rougher.input.floatbank11_sulfate           5290 non-null   float64\n",
      " 22  rougher.input.floatbank11_xanthate          5290 non-null   float64\n",
      " 23  rougher.state.floatbank10_a_air             5290 non-null   float64\n",
      " 24  rougher.state.floatbank10_a_level           5290 non-null   float64\n",
      " 25  rougher.state.floatbank10_b_air             5290 non-null   float64\n",
      " 26  rougher.state.floatbank10_b_level           5290 non-null   float64\n",
      " 27  rougher.state.floatbank10_c_air             5290 non-null   float64\n",
      " 28  rougher.state.floatbank10_c_level           5290 non-null   float64\n",
      " 29  rougher.state.floatbank10_d_air             5290 non-null   float64\n",
      " 30  rougher.state.floatbank10_d_level           5290 non-null   float64\n",
      " 31  rougher.state.floatbank10_e_air             5290 non-null   float64\n",
      " 32  rougher.state.floatbank10_e_level           5290 non-null   float64\n",
      " 33  rougher.state.floatbank10_f_air             5290 non-null   float64\n",
      " 34  rougher.state.floatbank10_f_level           5290 non-null   float64\n",
      " 35  secondary_cleaner.state.floatbank2_a_air    5290 non-null   float64\n",
      " 36  secondary_cleaner.state.floatbank2_a_level  5290 non-null   float64\n",
      " 37  secondary_cleaner.state.floatbank2_b_air    5290 non-null   float64\n",
      " 38  secondary_cleaner.state.floatbank2_b_level  5290 non-null   float64\n",
      " 39  secondary_cleaner.state.floatbank3_a_air    5290 non-null   float64\n",
      " 40  secondary_cleaner.state.floatbank3_a_level  5290 non-null   float64\n",
      " 41  secondary_cleaner.state.floatbank3_b_air    5290 non-null   float64\n",
      " 42  secondary_cleaner.state.floatbank3_b_level  5290 non-null   float64\n",
      " 43  secondary_cleaner.state.floatbank4_a_air    5290 non-null   float64\n",
      " 44  secondary_cleaner.state.floatbank4_a_level  5290 non-null   float64\n",
      " 45  secondary_cleaner.state.floatbank4_b_air    5290 non-null   float64\n",
      " 46  secondary_cleaner.state.floatbank4_b_level  5290 non-null   float64\n",
      " 47  secondary_cleaner.state.floatbank5_a_air    5290 non-null   float64\n",
      " 48  secondary_cleaner.state.floatbank5_a_level  5290 non-null   float64\n",
      " 49  secondary_cleaner.state.floatbank5_b_air    5290 non-null   float64\n",
      " 50  secondary_cleaner.state.floatbank5_b_level  5290 non-null   float64\n",
      " 51  secondary_cleaner.state.floatbank6_a_air    5290 non-null   float64\n",
      " 52  secondary_cleaner.state.floatbank6_a_level  5290 non-null   float64\n",
      " 53  rougher.output.recovery                     5290 non-null   float64\n",
      " 54  final.output.recovery                       5290 non-null   float64\n",
      "dtypes: float64(54), object(1)\n",
      "memory usage: 2.3+ MB\n"
     ]
    }
   ],
   "source": [
    "data_test = data_test.merge(data_full.loc[:, ['date','rougher.output.recovery','final.output.recovery']], on='date')\n",
    "data_test.info()"
   ]
  },
  {
   "cell_type": "markdown",
   "metadata": {},
   "source": [
    "### Проверка эффективности обогащения"
   ]
  },
  {
   "cell_type": "markdown",
   "metadata": {},
   "source": [
    "**Вычислим эффективность обогащения `recovery` и проверим её на обучающей выборке для признака `rougher.output.recovery`**"
   ]
  },
  {
   "cell_type": "code",
   "execution_count": 14,
   "metadata": {},
   "outputs": [],
   "source": [
    "recovery = []\n",
    "i = 0\n",
    "for i in range(len(data_train)):\n",
    "    recovery_au = (\n",
    "        (data_train.loc[i,'rougher.output.concentrate_au'] * (data_train.loc[i,'rougher.input.feed_au'] - data_train.loc[i,'rougher.output.tail_au']))*100 /  \n",
    "        (data_train.loc[i,'rougher.input.feed_au'] * (data_train.loc[i,'rougher.output.concentrate_au'] - data_train.loc[i,'rougher.output.tail_au'])) \n",
    "    )\n",
    "    recovery.append(recovery_au)\n",
    "    \n",
    "    i+=1\n",
    "recovery = pd.Series(recovery)"
   ]
  },
  {
   "cell_type": "markdown",
   "metadata": {},
   "source": [
    "**Вычислим абсолютную среднюю ошибку `MAE`**"
   ]
  },
  {
   "cell_type": "code",
   "execution_count": 15,
   "metadata": {},
   "outputs": [
    {
     "data": {
      "text/plain": [
       "1.1131451184435918e-14"
      ]
     },
     "execution_count": 15,
     "metadata": {},
     "output_type": "execute_result"
    }
   ],
   "source": [
    "mae = mean_absolute_error(data_train['rougher.output.recovery'], recovery)\n",
    "mae"
   ]
  },
  {
   "cell_type": "markdown",
   "metadata": {},
   "source": [
    "**Значение параметра МАЕ очень маленькое, значит наши расчеты совпадают с данными из датасета**"
   ]
  },
  {
   "cell_type": "markdown",
   "metadata": {},
   "source": [
    "# ВЫВОД\n",
    "Мы провели анализ данных и получили следующие результаты:\n",
    "    1. Явные дубликаты в датасетах отсутствуют\n",
    "    2. Пропуски в данных заполнили значениями, предшествующими по времени, так как по условию задачи соседние по времени параметры часто похожи.\n",
    "    3. Проверили правильность расчета эффективного обогащения. Параметр МАЕ близок к 0, значит расчет верен.\n",
    "    4. Выяснили, что в тестовой выборке отсутствуют некоторые значения, которые есть в тренировочной. Вероятно, это  потому что некоторые параметры замеряются или рассчитываются значительно позже.\n",
    "    5. В тестовую выборку были добавлены целевые признаки `rougher.output.recovery`, `final.output.recovery`."
   ]
  },
  {
   "cell_type": "markdown",
   "metadata": {},
   "source": [
    "## Анализ данных"
   ]
  },
  {
   "cell_type": "markdown",
   "metadata": {},
   "source": [
    "### Посмотрим, как меняется концентрация металлов (Au, Ag, Pb) на различных этапах очистки"
   ]
  },
  {
   "cell_type": "markdown",
   "metadata": {},
   "source": [
    "**Распределение концентрации золота**"
   ]
  },
  {
   "cell_type": "code",
   "execution_count": 16,
   "metadata": {},
   "outputs": [
    {
     "data": {
      "image/png": "[encoded data removed]",
      "text/plain": [
       "<Figure size 1080x720 with 1 Axes>"
      ]
     },
     "metadata": {
      "needs_background": "light"
     },
     "output_type": "display_data"
    }
   ],
   "source": [
    "plt.figure(figsize=[15, 10])\n",
    "plt.title('ГРАФИК РАСПРЕДЕЛЕНИЯ Золота на различных этапах очистки', fontsize=13)\n",
    "data_train['rougher.input.feed_au'].hist(label = 'Сырье', bins = 100)\n",
    "data_train['rougher.output.concentrate_au'].hist(label = 'Концентрация после флотации', bins = 100)\n",
    "data_train['primary_cleaner.output.concentrate_au'].hist(label = 'Концентрация после первичной очистки', bins = 100)\n",
    "data_train['final.output.concentrate_au'].hist(label = 'Финальная концентрация', bins = 100)\n",
    "plt.xlabel('Концентрация металла')\n",
    "plt.ylabel('Количество наблюдений')\n",
    "plt.legend()\n",
    "plt.show()"
   ]
  },
  {
   "cell_type": "markdown",
   "metadata": {},
   "source": [
    "**Распределение концентрации серебра**"
   ]
  },
  {
   "cell_type": "code",
   "execution_count": 17,
   "metadata": {},
   "outputs": [
    {
     "data": {
      "image/png": "[encoded data removed]",
      "text/plain": [
       "<Figure size 1080x720 with 1 Axes>"
      ]
     },
     "metadata": {
      "needs_background": "light"
     },
     "output_type": "display_data"
    }
   ],
   "source": [
    "plt.figure(figsize=[15, 10])\n",
    "plt.title('ГРАФИК РАСПРЕДЕЛЕНИЯ Серебра на различных этапах очистки', fontsize=13)\n",
    "data_train['rougher.input.feed_ag'].hist(label = 'Сырье', bins = 100)\n",
    "data_train['rougher.output.concentrate_ag'].hist(label = 'Концентрация после флотации', bins = 100)\n",
    "data_train['primary_cleaner.output.concentrate_ag'].hist(label = 'Концентрация после первичной очистки', bins = 100)\n",
    "data_train['final.output.concentrate_ag'].hist(label = 'Финальная концентрация', bins = 100)\n",
    "plt.xlabel('Концентрация металла')\n",
    "plt.ylabel('Количество наблюдений')\n",
    "plt.legend()\n",
    "plt.show()"
   ]
  },
  {
   "cell_type": "markdown",
   "metadata": {},
   "source": [
    "**Распределение концентрации Свинца**"
   ]
  },
  {
   "cell_type": "code",
   "execution_count": 18,
   "metadata": {},
   "outputs": [
    {
     "data": {
      "image/png": "[encoded data removed]",
      "text/plain": [
       "<Figure size 1080x720 with 1 Axes>"
      ]
     },
     "metadata": {
      "needs_background": "light"
     },
     "output_type": "display_data"
    }
   ],
   "source": [
    "plt.figure(figsize=[15, 10])\n",
    "plt.title('ГРАФИК РАСПРЕДЕЛЕНИЯ Свинца на различных этапах очистки', fontsize=13)\n",
    "data_train['rougher.input.feed_pb'].hist(label = 'Сырье', bins = 100)\n",
    "data_train['rougher.output.concentrate_pb'].hist(label = 'Концентрация после флотации', bins = 100)\n",
    "data_train['primary_cleaner.output.concentrate_pb'].hist(label = 'Концентрация после первичной очистки', bins = 100)\n",
    "data_train['final.output.concentrate_pb'].hist(label = 'Финальная концентрация', bins = 100)\n",
    "plt.xlabel('Концентрация металла')\n",
    "plt.ylabel('Количество наблюдений')\n",
    "plt.legend()\n",
    "plt.show()"
   ]
  },
  {
   "cell_type": "markdown",
   "metadata": {},
   "source": [
    "**ВЫВОД**\n",
    "\n",
    "**Доля золота на после каждого этапа очитски постепенно увеличивается.**\n",
    "\n",
    "**Доля серебра увеличивается на этапе флотации, а затем постепенно уменьшается.**\n",
    "\n",
    "**Доля свинца сначала увеличивается на этапе флотации и после первичной очитски, затем остатется примерно на одном уровне.**\n",
    "\n",
    "***В данных для каждого металла присутствуют аномалии, в виде значенинй, приближенных или равных 0***"
   ]
  },
  {
   "cell_type": "markdown",
   "metadata": {},
   "source": [
    "### Cравним распределения размеров гранул сырья на обучающей и тестовой выборках."
   ]
  },
  {
   "cell_type": "code",
   "execution_count": 19,
   "metadata": {
    "scrolled": true
   },
   "outputs": [
    {
     "data": {
      "image/png": "[encoded data removed]",
      "text/plain": [
       "<Figure size 1080x720 with 1 Axes>"
      ]
     },
     "metadata": {
      "needs_background": "light"
     },
     "output_type": "display_data"
    }
   ],
   "source": [
    "plt.figure(figsize=[15, 10])\n",
    "plt.title('ГРАФИК РАСПРЕДЕЛЕНИЯ размеров гранул сырья перед флотацией', fontsize=13)\n",
    "data_train['rougher.input.feed_size'].hist(label = 'Обучающая выборка', bins = 50)\n",
    "data_test['rougher.input.feed_size'].hist(label = 'Тестовая выборка', bins =50)\n",
    "plt.xlabel('Размер гранул')\n",
    "plt.ylabel('Количество наблюдений')\n",
    "plt.legend()\n",
    "plt.show()"
   ]
  },
  {
   "cell_type": "code",
   "execution_count": 20,
   "metadata": {},
   "outputs": [
    {
     "data": {
      "image/png": "[encoded data removed]",
      "text/plain": [
       "<Figure size 1080x720 with 1 Axes>"
      ]
     },
     "metadata": {
      "needs_background": "light"
     },
     "output_type": "display_data"
    }
   ],
   "source": [
    "plt.figure(figsize=[15, 10])\n",
    "plt.title('ГРАФИК РАСПРЕДЕЛЕНИЯ размеров гранул сырья после флотацией', fontsize=13)\n",
    "data_train['primary_cleaner.input.feed_size'].hist(label = 'Обучающая выборка', bins = 50)\n",
    "data_test['primary_cleaner.input.feed_size'].hist(label = 'Тестовая выборка', bins =50)\n",
    "plt.xlabel('Размер гранул')\n",
    "plt.ylabel('Количество наблюдений')\n",
    "plt.legend()\n",
    "plt.show()"
   ]
  },
  {
   "cell_type": "markdown",
   "metadata": {},
   "source": [
    "**Мы видим, что значимых различий между распределениями для выборок не наблюдается**"
   ]
  },
  {
   "cell_type": "markdown",
   "metadata": {},
   "source": [
    "<div class=\"alert alert-block alert-info\">\n",
    "<b>Совет: </b> В данном случае желательно было использовать параметр \"density=True\" в методе \".hist()\". Так бы нам удалось перейти от количества к доле.\n",
    "    \n",
    "Также стоит увеличить добавить прозрачность (параметр alpha).\n",
    "</div>"
   ]
  },
  {
   "cell_type": "markdown",
   "metadata": {},
   "source": [
    "### Исследуем суммарную концентрацию всех веществ на разных стадиях: в сырье, в черновом и финальном концентратах."
   ]
  },
  {
   "cell_type": "markdown",
   "metadata": {},
   "source": [
    "Добавим в датасет `data_full`, новые столбцы `rougher.input.feed` `rougher.output` `final.output`, в которые занесем суммы концентрации всех веществ на разных этапах очистки: перед флотации, после флотации и финальная концентрация"
   ]
  },
  {
   "cell_type": "code",
   "execution_count": 21,
   "metadata": {},
   "outputs": [],
   "source": [
    "data_full['rougher.input.feed'] = data_full['rougher.input.feed_ag'] + data_full['rougher.input.feed_pb'] + data_full['rougher.input.feed_au']+data_full['rougher.input.feed_sol']"
   ]
  },
  {
   "cell_type": "code",
   "execution_count": 22,
   "metadata": {},
   "outputs": [],
   "source": [
    "data_full['rougher.output'] = data_full['rougher.output.concentrate_ag'] + data_full['rougher.output.concentrate_pb'] + data_full['rougher.output.concentrate_au']+data_full['rougher.output.concentrate_sol']"
   ]
  },
  {
   "cell_type": "code",
   "execution_count": 23,
   "metadata": {},
   "outputs": [],
   "source": [
    "data_full['final.output'] = (\n",
    "    data_full['final.output.concentrate_ag'] + data_full['final.output.concentrate_pb'] + \n",
    "    data_full['final.output.concentrate_au']+data_full['final.output.concentrate_sol']\n",
    "    )"
   ]
  },
  {
   "cell_type": "code",
   "execution_count": 24,
   "metadata": {},
   "outputs": [
    {
     "data": {
      "image/png": "[encoded data removed]",
      "text/plain": [
       "<Figure size 1080x720 with 1 Axes>"
      ]
     },
     "metadata": {
      "needs_background": "light"
     },
     "output_type": "display_data"
    }
   ],
   "source": [
    "plt.figure(figsize=[15, 10])\n",
    "plt.title('ГРАФИК суммарной концентрации всех веществ на разных стадиях', fontsize=13)\n",
    "data_full['rougher.input.feed'].hist(label = 'Концентрация перед флотацией', bins = 50)\n",
    "data_full['rougher.output'].hist(label = 'Концентрация после флотации', bins =50)\n",
    "data_full['final.output'].hist(label = 'Финальная концентрация', bins =50)\n",
    "plt.xlabel('Концентрация веществ')\n",
    "plt.ylabel('Количество наблюдений')\n",
    "plt.legend()\n",
    "plt.show()"
   ]
  },
  {
   "cell_type": "markdown",
   "metadata": {},
   "source": [
    "Мы видим, что к финальному этапу суммарная концентрация веществ увеличивается. Однако здесь мы так же наблюдаем наличие 0 значений на этапах после флорации и финальном этапе. Удалим эти аномальные значения из наших выборок"
   ]
  },
  {
   "cell_type": "code",
   "execution_count": 25,
   "metadata": {},
   "outputs": [],
   "source": [
    "data_train = (\n",
    "    data_train.loc[(data_train['rougher.output.concentrate_ag'] !=0) & (data_train['rougher.output.concentrate_au'] !=0) &\n",
    "    (data_train['rougher.output.concentrate_pb'] !=0) & (data_train['rougher.output.concentrate_sol'] !=0)]\n",
    ")\n",
    "data_train = (\n",
    "    data_train.loc[(data_train['final.output.concentrate_ag'] !=0) & (data_train['final.output.concentrate_au'] !=0) &\n",
    "    (data_train['final.output.concentrate_pb'] !=0) & (data_train['final.output.concentrate_sol'] !=0)]\n",
    ")\n"
   ]
  },
  {
   "cell_type": "markdown",
   "metadata": {},
   "source": [
    "# ВЫВОД:\n",
    "- Доля золота постепенно увеличивается во время прохождения жтапов очистки\n",
    "- Значимых различий между распределениями размеров гранул сырья на обучающей для выборок не наблюдается\n",
    "- При анализе суммарной концентрации веществ на разных стадиях были выявлены аномалии в виде нулевых значений. Аномалии были удалены"
   ]
  },
  {
   "cell_type": "markdown",
   "metadata": {},
   "source": [
    "**Можем переходить к обучению моделей**"
   ]
  },
  {
   "cell_type": "markdown",
   "metadata": {},
   "source": [
    "## Модель"
   ]
  },
  {
   "cell_type": "markdown",
   "metadata": {},
   "source": [
    "### Подготовка тренировочных данных"
   ]
  },
  {
   "cell_type": "markdown",
   "metadata": {},
   "source": [
    "Так как в тестовой выборке есть признаки, которые отсутствуют в тренировойчной выборке, то считаю, что их нужно удалить, чтобы они не оказывали влияния на нашу модель"
   ]
  },
  {
   "cell_type": "code",
   "execution_count": 26,
   "metadata": {},
   "outputs": [],
   "source": [
    "# создадим переменную delet_columns, в которую запишем признаки, которые есть в тренировочной выборке, но нет в тестовой.\n",
    "delet_columns = set(data_train) - set(data_test)\n",
    "# удалим эти признаки из тренировойчной выборки\n",
    "data_train = data_train.drop(columns=delet_columns, axis =1)"
   ]
  },
  {
   "cell_type": "code",
   "execution_count": 27,
   "metadata": {},
   "outputs": [
    {
     "name": "stdout",
     "output_type": "stream",
     "text": [
      "<class 'pandas.core.frame.DataFrame'>\n",
      "Int64Index: 13792 entries, 0 to 14148\n",
      "Data columns (total 55 columns):\n",
      " #   Column                                      Non-Null Count  Dtype  \n",
      "---  ------                                      --------------  -----  \n",
      " 0   date                                        13792 non-null  object \n",
      " 1   final.output.recovery                       13792 non-null  float64\n",
      " 2   primary_cleaner.input.sulfate               13792 non-null  float64\n",
      " 3   primary_cleaner.input.depressant            13792 non-null  float64\n",
      " 4   primary_cleaner.input.feed_size             13792 non-null  float64\n",
      " 5   primary_cleaner.input.xanthate              13792 non-null  float64\n",
      " 6   primary_cleaner.state.floatbank8_a_air      13792 non-null  float64\n",
      " 7   primary_cleaner.state.floatbank8_a_level    13792 non-null  float64\n",
      " 8   primary_cleaner.state.floatbank8_b_air      13792 non-null  float64\n",
      " 9   primary_cleaner.state.floatbank8_b_level    13792 non-null  float64\n",
      " 10  primary_cleaner.state.floatbank8_c_air      13792 non-null  float64\n",
      " 11  primary_cleaner.state.floatbank8_c_level    13792 non-null  float64\n",
      " 12  primary_cleaner.state.floatbank8_d_air      13792 non-null  float64\n",
      " 13  primary_cleaner.state.floatbank8_d_level    13792 non-null  float64\n",
      " 14  rougher.input.feed_ag                       13792 non-null  float64\n",
      " 15  rougher.input.feed_pb                       13792 non-null  float64\n",
      " 16  rougher.input.feed_rate                     13792 non-null  float64\n",
      " 17  rougher.input.feed_size                     13792 non-null  float64\n",
      " 18  rougher.input.feed_sol                      13792 non-null  float64\n",
      " 19  rougher.input.feed_au                       13792 non-null  float64\n",
      " 20  rougher.input.floatbank10_sulfate           13792 non-null  float64\n",
      " 21  rougher.input.floatbank10_xanthate          13792 non-null  float64\n",
      " 22  rougher.input.floatbank11_sulfate           13792 non-null  float64\n",
      " 23  rougher.input.floatbank11_xanthate          13792 non-null  float64\n",
      " 24  rougher.output.recovery                     13792 non-null  float64\n",
      " 25  rougher.state.floatbank10_a_air             13792 non-null  float64\n",
      " 26  rougher.state.floatbank10_a_level           13792 non-null  float64\n",
      " 27  rougher.state.floatbank10_b_air             13792 non-null  float64\n",
      " 28  rougher.state.floatbank10_b_level           13792 non-null  float64\n",
      " 29  rougher.state.floatbank10_c_air             13792 non-null  float64\n",
      " 30  rougher.state.floatbank10_c_level           13792 non-null  float64\n",
      " 31  rougher.state.floatbank10_d_air             13792 non-null  float64\n",
      " 32  rougher.state.floatbank10_d_level           13792 non-null  float64\n",
      " 33  rougher.state.floatbank10_e_air             13792 non-null  float64\n",
      " 34  rougher.state.floatbank10_e_level           13792 non-null  float64\n",
      " 35  rougher.state.floatbank10_f_air             13792 non-null  float64\n",
      " 36  rougher.state.floatbank10_f_level           13792 non-null  float64\n",
      " 37  secondary_cleaner.state.floatbank2_a_air    13792 non-null  float64\n",
      " 38  secondary_cleaner.state.floatbank2_a_level  13792 non-null  float64\n",
      " 39  secondary_cleaner.state.floatbank2_b_air    13792 non-null  float64\n",
      " 40  secondary_cleaner.state.floatbank2_b_level  13792 non-null  float64\n",
      " 41  secondary_cleaner.state.floatbank3_a_air    13792 non-null  float64\n",
      " 42  secondary_cleaner.state.floatbank3_a_level  13792 non-null  float64\n",
      " 43  secondary_cleaner.state.floatbank3_b_air    13792 non-null  float64\n",
      " 44  secondary_cleaner.state.floatbank3_b_level  13792 non-null  float64\n",
      " 45  secondary_cleaner.state.floatbank4_a_air    13792 non-null  float64\n",
      " 46  secondary_cleaner.state.floatbank4_a_level  13792 non-null  float64\n",
      " 47  secondary_cleaner.state.floatbank4_b_air    13792 non-null  float64\n",
      " 48  secondary_cleaner.state.floatbank4_b_level  13792 non-null  float64\n",
      " 49  secondary_cleaner.state.floatbank5_a_air    13792 non-null  float64\n",
      " 50  secondary_cleaner.state.floatbank5_a_level  13792 non-null  float64\n",
      " 51  secondary_cleaner.state.floatbank5_b_air    13792 non-null  float64\n",
      " 52  secondary_cleaner.state.floatbank5_b_level  13792 non-null  float64\n",
      " 53  secondary_cleaner.state.floatbank6_a_air    13792 non-null  float64\n",
      " 54  secondary_cleaner.state.floatbank6_a_level  13792 non-null  float64\n",
      "dtypes: float64(54), object(1)\n",
      "memory usage: 5.9+ MB\n"
     ]
    }
   ],
   "source": [
    "data_train.info()"
   ]
  },
  {
   "cell_type": "code",
   "execution_count": 28,
   "metadata": {},
   "outputs": [
    {
     "name": "stdout",
     "output_type": "stream",
     "text": [
      "<class 'pandas.core.frame.DataFrame'>\n",
      "Int64Index: 5290 entries, 0 to 5289\n",
      "Data columns (total 55 columns):\n",
      " #   Column                                      Non-Null Count  Dtype  \n",
      "---  ------                                      --------------  -----  \n",
      " 0   date                                        5290 non-null   object \n",
      " 1   primary_cleaner.input.sulfate               5290 non-null   float64\n",
      " 2   primary_cleaner.input.depressant            5290 non-null   float64\n",
      " 3   primary_cleaner.input.feed_size             5290 non-null   float64\n",
      " 4   primary_cleaner.input.xanthate              5290 non-null   float64\n",
      " 5   primary_cleaner.state.floatbank8_a_air      5290 non-null   float64\n",
      " 6   primary_cleaner.state.floatbank8_a_level    5290 non-null   float64\n",
      " 7   primary_cleaner.state.floatbank8_b_air      5290 non-null   float64\n",
      " 8   primary_cleaner.state.floatbank8_b_level    5290 non-null   float64\n",
      " 9   primary_cleaner.state.floatbank8_c_air      5290 non-null   float64\n",
      " 10  primary_cleaner.state.floatbank8_c_level    5290 non-null   float64\n",
      " 11  primary_cleaner.state.floatbank8_d_air      5290 non-null   float64\n",
      " 12  primary_cleaner.state.floatbank8_d_level    5290 non-null   float64\n",
      " 13  rougher.input.feed_ag                       5290 non-null   float64\n",
      " 14  rougher.input.feed_pb                       5290 non-null   float64\n",
      " 15  rougher.input.feed_rate                     5290 non-null   float64\n",
      " 16  rougher.input.feed_size                     5290 non-null   float64\n",
      " 17  rougher.input.feed_sol                      5290 non-null   float64\n",
      " 18  rougher.input.feed_au                       5290 non-null   float64\n",
      " 19  rougher.input.floatbank10_sulfate           5290 non-null   float64\n",
      " 20  rougher.input.floatbank10_xanthate          5290 non-null   float64\n",
      " 21  rougher.input.floatbank11_sulfate           5290 non-null   float64\n",
      " 22  rougher.input.floatbank11_xanthate          5290 non-null   float64\n",
      " 23  rougher.state.floatbank10_a_air             5290 non-null   float64\n",
      " 24  rougher.state.floatbank10_a_level           5290 non-null   float64\n",
      " 25  rougher.state.floatbank10_b_air             5290 non-null   float64\n",
      " 26  rougher.state.floatbank10_b_level           5290 non-null   float64\n",
      " 27  rougher.state.floatbank10_c_air             5290 non-null   float64\n",
      " 28  rougher.state.floatbank10_c_level           5290 non-null   float64\n",
      " 29  rougher.state.floatbank10_d_air             5290 non-null   float64\n",
      " 30  rougher.state.floatbank10_d_level           5290 non-null   float64\n",
      " 31  rougher.state.floatbank10_e_air             5290 non-null   float64\n",
      " 32  rougher.state.floatbank10_e_level           5290 non-null   float64\n",
      " 33  rougher.state.floatbank10_f_air             5290 non-null   float64\n",
      " 34  rougher.state.floatbank10_f_level           5290 non-null   float64\n",
      " 35  secondary_cleaner.state.floatbank2_a_air    5290 non-null   float64\n",
      " 36  secondary_cleaner.state.floatbank2_a_level  5290 non-null   float64\n",
      " 37  secondary_cleaner.state.floatbank2_b_air    5290 non-null   float64\n",
      " 38  secondary_cleaner.state.floatbank2_b_level  5290 non-null   float64\n",
      " 39  secondary_cleaner.state.floatbank3_a_air    5290 non-null   float64\n",
      " 40  secondary_cleaner.state.floatbank3_a_level  5290 non-null   float64\n",
      " 41  secondary_cleaner.state.floatbank3_b_air    5290 non-null   float64\n",
      " 42  secondary_cleaner.state.floatbank3_b_level  5290 non-null   float64\n",
      " 43  secondary_cleaner.state.floatbank4_a_air    5290 non-null   float64\n",
      " 44  secondary_cleaner.state.floatbank4_a_level  5290 non-null   float64\n",
      " 45  secondary_cleaner.state.floatbank4_b_air    5290 non-null   float64\n",
      " 46  secondary_cleaner.state.floatbank4_b_level  5290 non-null   float64\n",
      " 47  secondary_cleaner.state.floatbank5_a_air    5290 non-null   float64\n",
      " 48  secondary_cleaner.state.floatbank5_a_level  5290 non-null   float64\n",
      " 49  secondary_cleaner.state.floatbank5_b_air    5290 non-null   float64\n",
      " 50  secondary_cleaner.state.floatbank5_b_level  5290 non-null   float64\n",
      " 51  secondary_cleaner.state.floatbank6_a_air    5290 non-null   float64\n",
      " 52  secondary_cleaner.state.floatbank6_a_level  5290 non-null   float64\n",
      " 53  rougher.output.recovery                     5290 non-null   float64\n",
      " 54  final.output.recovery                       5290 non-null   float64\n",
      "dtypes: float64(54), object(1)\n",
      "memory usage: 2.3+ MB\n"
     ]
    }
   ],
   "source": [
    "data_test.info()"
   ]
  },
  {
   "cell_type": "markdown",
   "metadata": {},
   "source": [
    "Так же удалим столбец `date`, так как он не оказывает влияния на модель"
   ]
  },
  {
   "cell_type": "code",
   "execution_count": 29,
   "metadata": {},
   "outputs": [],
   "source": [
    "data_train = data_train.drop('date', axis=1)\n",
    "data_test = data_test.drop('date', axis=1)"
   ]
  },
  {
   "cell_type": "markdown",
   "metadata": {},
   "source": [
    "**Создадим переменную `features_train` со всеми признаками, кроме целевых. Создадим переменную `target_train` с целевымы признаками `rougher.output.recovery` и `final.output.recovery` в тренировочной выборке. Тоже самое сделаем и для тестовой выборки**"
   ]
  },
  {
   "cell_type": "code",
   "execution_count": 30,
   "metadata": {},
   "outputs": [],
   "source": [
    "features_train = data_train.drop(['rougher.output.recovery', 'final.output.recovery'], axis=1)\n",
    "target_train_rougher = data_train['rougher.output.recovery'] \n",
    "target_train_final = data_train['final.output.recovery']\n",
    "features_test = data_test.drop(['rougher.output.recovery', 'final.output.recovery'], axis=1)\n",
    "target_test_rougher = data_test['rougher.output.recovery'] \n",
    "target_test_final = data_test['final.output.recovery']"
   ]
  },
  {
   "cell_type": "markdown",
   "metadata": {},
   "source": [
    "<div class=\"alert alert-block alert-success\">\n",
    "<b>Успех:</b> Верно.\n",
    "</div>"
   ]
  },
  {
   "cell_type": "markdown",
   "metadata": {},
   "source": [
    "### Создание функции для вычисления sMape"
   ]
  },
  {
   "cell_type": "code",
   "execution_count": 31,
   "metadata": {},
   "outputs": [],
   "source": [
    "# Напишем функцию для вычисления sMAPE\n",
    "def smape_func (target, predict):\n",
    "    smape = (1/len(target))*np.sum((np.abs(target - predict))/( (np.abs(target)+np.abs(predict))/2))*100\n",
    "    return smape"
   ]
  },
  {
   "cell_type": "code",
   "execution_count": 32,
   "metadata": {},
   "outputs": [],
   "source": [
    "# С помощью функции `make_score` преобразуем нашу метрику в вызываемые объект, который можно использовать для оценки модели.\n",
    "smape_for_scorer = make_scorer(smape_func)"
   ]
  },
  {
   "cell_type": "code",
   "execution_count": 33,
   "metadata": {},
   "outputs": [],
   "source": [
    "# Напишем функцию для вычисления итоговыой sMape\n",
    "def final_smape_func (rougher, final):\n",
    "    final_smape = 0.25*rougher+0.75*final\n",
    "    return final_smape"
   ]
  },
  {
   "cell_type": "markdown",
   "metadata": {},
   "source": [
    "### Модель \"Решающее дерево\""
   ]
  },
  {
   "cell_type": "markdown",
   "metadata": {},
   "source": [
    "**Рассмотрим модель обучения \"решающее дерево\". Попробуем разные значения одного параметра — максимальной глубины, max_depth. от 1 до 5 и выведем макисмальный Accuracy на экран**"
   ]
  },
  {
   "cell_type": "code",
   "execution_count": 34,
   "metadata": {},
   "outputs": [
    {
     "name": "stdout",
     "output_type": "stream",
     "text": [
      "9.354553984526433\n",
      "8.996357508977972\n",
      "8.925785452030949\n",
      "9.122909934819479\n",
      "10.327834884715028\n",
      "sMAPE лучшей модели: 8.925785452030949\n",
      "Парметр depth лучшей модели: 3\n",
      "CPU times: user 7.47 s, sys: 18 ms, total: 7.49 s\n",
      "Wall time: 7.51 s\n"
     ]
    }
   ],
   "source": [
    "%%time\n",
    "state = RandomState(12345)\n",
    "best_depth = 0\n",
    "best_result_dt = 100\n",
    "train_accuracy_dt = [] #создадим списко в которой будем вносить качество модели на train датасете\n",
    "for depth in range(1, 6):\n",
    "    model_1 = DecisionTreeRegressor(random_state=state, max_depth=depth) \n",
    "    final_score_rougher = cross_val_score (model_1, features_train, target_train_rougher, scoring=smape_for_scorer, cv=5).mean()\n",
    "    model_2 = DecisionTreeRegressor(random_state=state, max_depth=depth)\n",
    "    final_score_final = cross_val_score (model_2, features_train, target_train_final, scoring=smape_for_scorer, cv=5).mean()\n",
    "    \n",
    "    \n",
    "    smape_result = final_smape_func(final_score_rougher,  final_score_final)\n",
    "    \n",
    "    if smape_result < best_result_dt:\n",
    "        best_depth = depth\n",
    "        best_result_dt = smape_result\n",
    "        \n",
    "print(\"sMAPE лучшей модели:\", best_result_dt)\n",
    "print('Парметр depth лучшей модели:', best_depth)"
   ]
  },
  {
   "cell_type": "markdown",
   "metadata": {},
   "source": [
    "### Модель линейная регрессия"
   ]
  },
  {
   "cell_type": "code",
   "execution_count": 35,
   "metadata": {},
   "outputs": [
    {
     "name": "stdout",
     "output_type": "stream",
     "text": [
      "sMAPE модели 10.327834884715028\n",
      "CPU times: user 2.36 s, sys: 8.48 ms, total: 2.37 s\n",
      "Wall time: 2.38 s\n"
     ]
    }
   ],
   "source": [
    "%%time\n",
    "model_lr_1 = LinearRegression()\n",
    "final_score_rougher = cross_val_score (model_1, features_train, target_train_rougher, scoring=smape_for_scorer, cv=5).mean()\n",
    "model_lr_2 = LinearRegression()\n",
    "final_score_final = cross_val_score (model_2, features_train, target_train_final, scoring=smape_for_scorer, cv=5).mean()\n",
    "smape_result = final_smape_func(final_score_rougher,  final_score_final)\n",
    "print('sMAPE модели', smape_result)"
   ]
  },
  {
   "cell_type": "markdown",
   "metadata": {},
   "source": [
    "### Модель случайный лес"
   ]
  },
  {
   "cell_type": "code",
   "execution_count": 43,
   "metadata": {
    "scrolled": false
   },
   "outputs": [
    {
     "name": "stdout",
     "output_type": "stream",
     "text": [
      "8.575065590886856\n",
      "[30, 4]\n",
      "CPU times: user 38min 26s, sys: 8.5 s, total: 38min 34s\n",
      "Wall time: 38min 35s\n"
     ]
    }
   ],
   "source": [
    "%%time\n",
    "best_result_for_rf = 100\n",
    "best_param_for_rf = []\n",
    "for est in range(10, 51, 10):\n",
    "    for depth in range(1,11):\n",
    "            \n",
    "            model_rf_for_rougher = RandomForestRegressor(n_estimators=est, max_depth=depth, random_state=state)\n",
    "            final_score_rougher = cross_val_score(model_rf_for_rougher,\n",
    "                                  features_train,\n",
    "                                  target_train_rougher,\n",
    "                                  scoring=smape_for_scorer,\n",
    "                                  cv=5).mean()\n",
    "                \n",
    "            model_rf_for_final = RandomForestRegressor(n_estimators=est, max_depth=depth, random_state=state)\n",
    "            final_score_final = cross_val_score(model_rf_for_final,\n",
    "                                features_train,\n",
    "                                target_train_final,\n",
    "                                scoring=smape_for_scorer,\n",
    "                                cv=5).mean()\n",
    "            smape_result = final_smape_func(final_score_rougher, final_score_final)\n",
    "              \n",
    "            if smape_result < best_result_for_rf:\n",
    "                best_result_for_rf = smape_result\n",
    "                best_param_for_rf = [est,depth]\n",
    "print('sMAPE лучшей модели случайный лес: ', best_result_for_rf)\n",
    "print(best_param_for_rf)\n",
    "                                     \n"
   ]
  },
  {
   "cell_type": "markdown",
   "metadata": {},
   "source": [
    "# Мы исследовали качества трех разных моделей: решающее дерево, случайный лес и логическая регрессия. В результате лучший `sMaAPE` показала модель случайный лес со следующими гипперпараметрами: max_depth=4, n_estimators=30 #"
   ]
  },
  {
   "cell_type": "markdown",
   "metadata": {},
   "source": [
    "### Проверка модели на тестовой выборке"
   ]
  },
  {
   "cell_type": "code",
   "execution_count": 44,
   "metadata": {},
   "outputs": [
    {
     "name": "stdout",
     "output_type": "stream",
     "text": [
      "sMAPE модели на тестовой выборке:  9.810029981684933\n"
     ]
    }
   ],
   "source": [
    "model_test_1 = RandomForestRegressor(n_estimators=30, max_depth=4, random_state=state)\n",
    "model_test_1.fit(features_train, target_train_rougher)\n",
    "predicted_rougher = model_test_1.predict(features_test)\n",
    "\n",
    "model_test_2 = RandomForestRegressor(n_estimators=10, max_depth=10, random_state=state)\n",
    "model_test_2.fit(features_train, target_train_final)\n",
    "predicted_final = model_test_2.predict(features_test)\n",
    "\n",
    "smape_result_rougher = smape_func(target_test_rougher, predicted_rougher)\n",
    "smape_result_final = smape_func(target_test_final, predicted_final)\n",
    "final_smape_result = final_smape_func(smape_result_rougher, smape_result_final)\n",
    "print('sMAPE модели на тестовой выборке: ',final_smape_result )"
   ]
  },
  {
   "cell_type": "markdown",
   "metadata": {},
   "source": [
    "**sMAPE лучшей модели на тестовой выборке показал результат 9,81**"
   ]
  },
  {
   "cell_type": "markdown",
   "metadata": {},
   "source": [
    "# Вывод: В ходе исследования данных технологического процесса очистки руды были получены следующие результаты:\n",
    " - Проведена проверка правильности расчета эффективности обогащения. Эффективность обогащения расчитана верно\n",
    " - Выялено ,что по мере прохождения очистки сырья, доля золота и свинца увеличивается, а доля серебра - уменьшается\n",
    " - В ходе анализа суммарной концентрации всех веществ были выявлены и удалены аномальные значения\n",
    " - Были обучены 3 модели, которые прогнозировали эффективность обогащения чернового концентрата и эфффективность обогащения финального концентрата\n",
    " - В качестве метрики качества использовали параметр sMAPE - симметричное среднее абсолютное процентное отклонение. Лучший результат показала модель \"Случайного леса\" sMAPE = 8,575\n",
    " - Проверили данную модель на тестовой выборке и получили результат sMAPE = 9,81\n"
   ]
  }
 ],
 "metadata": {
  "ExecuteTimeLog": [
   {
    "duration": 1109,
    "start_time": "2022-11-29T12:09:53.260Z"
   },
   {
    "duration": 133,
    "start_time": "2022-11-29T12:10:54.356Z"
   },
   {
    "duration": 883,
    "start_time": "2022-11-29T12:11:15.484Z"
   },
   {
    "duration": 294,
    "start_time": "2022-11-29T12:11:36.805Z"
   },
   {
    "duration": 427,
    "start_time": "2022-11-29T12:13:24.267Z"
   },
   {
    "duration": 1924,
    "start_time": "2022-11-29T12:13:53.283Z"
   },
   {
    "duration": 321,
    "start_time": "2022-11-29T12:35:16.815Z"
   },
   {
    "duration": 126,
    "start_time": "2022-11-29T12:35:19.941Z"
   },
   {
    "duration": 9,
    "start_time": "2022-11-29T12:36:03.815Z"
   },
   {
    "duration": 10,
    "start_time": "2022-11-29T12:36:38.875Z"
   },
   {
    "duration": 29,
    "start_time": "2022-11-29T12:39:02.380Z"
   },
   {
    "duration": 6,
    "start_time": "2022-11-29T12:40:20.016Z"
   },
   {
    "duration": 6,
    "start_time": "2022-11-29T12:41:24.390Z"
   },
   {
    "duration": 1048,
    "start_time": "2022-11-29T12:42:42.301Z"
   },
   {
    "duration": 6,
    "start_time": "2022-11-29T12:43:04.159Z"
   },
   {
    "duration": 6,
    "start_time": "2022-11-29T12:43:44.466Z"
   },
   {
    "duration": 67,
    "start_time": "2022-11-29T12:48:05.261Z"
   },
   {
    "duration": 50,
    "start_time": "2022-11-29T12:48:17.789Z"
   },
   {
    "duration": 95,
    "start_time": "2022-11-29T12:48:22.876Z"
   },
   {
    "duration": 59,
    "start_time": "2022-11-29T12:49:36.840Z"
   },
   {
    "duration": 81,
    "start_time": "2022-11-29T12:50:21.625Z"
   },
   {
    "duration": 4186,
    "start_time": "2022-11-29T12:50:45.225Z"
   },
   {
    "duration": 9,
    "start_time": "2022-11-29T12:51:09.990Z"
   },
   {
    "duration": 791,
    "start_time": "2022-11-29T12:51:17.546Z"
   },
   {
    "duration": 11,
    "start_time": "2022-11-29T12:52:26.677Z"
   },
   {
    "duration": 3370,
    "start_time": "2022-11-29T12:54:22.183Z"
   },
   {
    "duration": 10,
    "start_time": "2022-11-29T12:54:35.776Z"
   },
   {
    "duration": 13,
    "start_time": "2022-11-29T12:54:57.914Z"
   },
   {
    "duration": 3751,
    "start_time": "2022-11-29T12:56:33.152Z"
   },
   {
    "duration": 52,
    "start_time": "2022-11-29T12:56:48.404Z"
   },
   {
    "duration": 7,
    "start_time": "2022-11-29T12:57:15.163Z"
   },
   {
    "duration": 1175,
    "start_time": "2022-11-29T12:57:19.127Z"
   },
   {
    "duration": 956,
    "start_time": "2022-11-29T12:57:20.304Z"
   },
   {
    "duration": 14,
    "start_time": "2022-11-29T12:57:21.262Z"
   },
   {
    "duration": 408,
    "start_time": "2022-11-29T12:57:21.278Z"
   },
   {
    "duration": 5,
    "start_time": "2022-11-29T12:57:21.687Z"
   },
   {
    "duration": 16,
    "start_time": "2022-11-29T12:57:21.693Z"
   },
   {
    "duration": 13,
    "start_time": "2022-11-29T12:57:21.710Z"
   },
   {
    "duration": 4202,
    "start_time": "2022-11-29T12:57:21.724Z"
   },
   {
    "duration": 3470,
    "start_time": "2022-11-29T12:57:25.928Z"
   },
   {
    "duration": 11244,
    "start_time": "2022-11-29T12:58:28.250Z"
   },
   {
    "duration": 1132,
    "start_time": "2022-11-29T12:58:51.758Z"
   },
   {
    "duration": 922,
    "start_time": "2022-11-29T12:58:52.892Z"
   },
   {
    "duration": 12,
    "start_time": "2022-11-29T12:58:53.815Z"
   },
   {
    "duration": 437,
    "start_time": "2022-11-29T12:58:53.829Z"
   },
   {
    "duration": 5,
    "start_time": "2022-11-29T12:58:54.269Z"
   },
   {
    "duration": 19,
    "start_time": "2022-11-29T12:58:54.276Z"
   },
   {
    "duration": 31,
    "start_time": "2022-11-29T12:58:54.297Z"
   },
   {
    "duration": 11356,
    "start_time": "2022-11-29T12:58:54.330Z"
   },
   {
    "duration": 44,
    "start_time": "2022-11-29T12:59:25.863Z"
   },
   {
    "duration": 8,
    "start_time": "2022-11-29T12:59:35.248Z"
   },
   {
    "duration": 1102,
    "start_time": "2022-11-29T12:59:40.602Z"
   },
   {
    "duration": 973,
    "start_time": "2022-11-29T12:59:41.705Z"
   },
   {
    "duration": 16,
    "start_time": "2022-11-29T12:59:42.680Z"
   },
   {
    "duration": 407,
    "start_time": "2022-11-29T12:59:42.698Z"
   },
   {
    "duration": 6,
    "start_time": "2022-11-29T12:59:43.107Z"
   },
   {
    "duration": 10,
    "start_time": "2022-11-29T12:59:43.114Z"
   },
   {
    "duration": 17,
    "start_time": "2022-11-29T12:59:43.126Z"
   },
   {
    "duration": 11452,
    "start_time": "2022-11-29T12:59:43.149Z"
   },
   {
    "duration": 1118,
    "start_time": "2022-11-29T13:00:08.682Z"
   },
   {
    "duration": 942,
    "start_time": "2022-11-29T13:00:09.802Z"
   },
   {
    "duration": 14,
    "start_time": "2022-11-29T13:00:10.746Z"
   },
   {
    "duration": 423,
    "start_time": "2022-11-29T13:00:10.762Z"
   },
   {
    "duration": 5,
    "start_time": "2022-11-29T13:00:11.187Z"
   },
   {
    "duration": 14,
    "start_time": "2022-11-29T13:00:11.194Z"
   },
   {
    "duration": 11,
    "start_time": "2022-11-29T13:00:11.210Z"
   },
   {
    "duration": 11140,
    "start_time": "2022-11-29T13:00:11.222Z"
   },
   {
    "duration": 122,
    "start_time": "2022-11-29T13:00:22.363Z"
   },
   {
    "duration": 919,
    "start_time": "2022-11-29T13:00:28.714Z"
   },
   {
    "duration": 19609,
    "start_time": "2022-11-29T13:01:06.708Z"
   },
   {
    "duration": 5,
    "start_time": "2022-11-29T13:01:34.358Z"
   },
   {
    "duration": 50,
    "start_time": "2022-11-29T13:02:39.423Z"
   },
   {
    "duration": 8,
    "start_time": "2022-11-29T13:03:16.264Z"
   },
   {
    "duration": 1142,
    "start_time": "2022-11-29T13:03:24.112Z"
   },
   {
    "duration": 857,
    "start_time": "2022-11-29T13:03:25.257Z"
   },
   {
    "duration": 12,
    "start_time": "2022-11-29T13:03:26.116Z"
   },
   {
    "duration": 392,
    "start_time": "2022-11-29T13:03:26.130Z"
   },
   {
    "duration": 5,
    "start_time": "2022-11-29T13:03:26.524Z"
   },
   {
    "duration": 8,
    "start_time": "2022-11-29T13:03:26.531Z"
   },
   {
    "duration": 10,
    "start_time": "2022-11-29T13:03:26.541Z"
   },
   {
    "duration": 126,
    "start_time": "2022-11-29T13:03:26.552Z"
   },
   {
    "duration": 0,
    "start_time": "2022-11-29T13:03:26.680Z"
   },
   {
    "duration": 507,
    "start_time": "2022-11-29T13:06:48.646Z"
   },
   {
    "duration": 7,
    "start_time": "2022-11-29T13:06:51.989Z"
   },
   {
    "duration": 100,
    "start_time": "2022-11-29T13:07:06.101Z"
   },
   {
    "duration": 58,
    "start_time": "2022-11-29T13:07:25.989Z"
   },
   {
    "duration": 480,
    "start_time": "2022-11-29T13:07:30.455Z"
   },
   {
    "duration": 4,
    "start_time": "2022-11-29T13:07:52.016Z"
   },
   {
    "duration": 1603,
    "start_time": "2022-11-29T13:10:10.010Z"
   },
   {
    "duration": 6,
    "start_time": "2022-11-29T13:10:29.204Z"
   },
   {
    "duration": 8,
    "start_time": "2022-11-29T13:12:40.688Z"
   },
   {
    "duration": 4,
    "start_time": "2022-11-29T13:12:50.594Z"
   },
   {
    "duration": 5,
    "start_time": "2022-11-29T13:12:52.439Z"
   },
   {
    "duration": 5,
    "start_time": "2022-11-29T13:12:57.559Z"
   },
   {
    "duration": 5,
    "start_time": "2022-11-29T13:20:32.196Z"
   },
   {
    "duration": 5,
    "start_time": "2022-11-29T13:20:41.828Z"
   },
   {
    "duration": 5,
    "start_time": "2022-11-29T13:20:55.286Z"
   },
   {
    "duration": 5,
    "start_time": "2022-11-29T13:21:04.776Z"
   },
   {
    "duration": 1220,
    "start_time": "2022-11-29T13:42:03.156Z"
   },
   {
    "duration": 334,
    "start_time": "2022-11-29T13:42:04.378Z"
   },
   {
    "duration": 22,
    "start_time": "2022-11-29T13:42:04.714Z"
   },
   {
    "duration": 97,
    "start_time": "2022-11-29T13:42:04.739Z"
   },
   {
    "duration": 4,
    "start_time": "2022-11-29T13:42:04.840Z"
   },
   {
    "duration": 28,
    "start_time": "2022-11-29T13:42:04.846Z"
   },
   {
    "duration": 11,
    "start_time": "2022-11-29T13:42:04.876Z"
   },
   {
    "duration": 575,
    "start_time": "2022-11-29T13:42:04.889Z"
   },
   {
    "duration": 5,
    "start_time": "2022-11-29T13:42:05.466Z"
   },
   {
    "duration": 11,
    "start_time": "2022-11-29T13:42:05.472Z"
   },
   {
    "duration": 10,
    "start_time": "2022-11-29T13:42:05.484Z"
   },
   {
    "duration": 13,
    "start_time": "2022-11-29T13:42:05.495Z"
   },
   {
    "duration": 91,
    "start_time": "2022-11-29T13:42:40.808Z"
   },
   {
    "duration": 5,
    "start_time": "2022-11-29T13:45:37.428Z"
   },
   {
    "duration": 6,
    "start_time": "2022-11-29T13:45:52.182Z"
   },
   {
    "duration": 59,
    "start_time": "2022-11-30T12:43:25.253Z"
   },
   {
    "duration": 1011,
    "start_time": "2022-11-30T12:43:30.437Z"
   },
   {
    "duration": 846,
    "start_time": "2022-11-30T12:43:31.450Z"
   },
   {
    "duration": 13,
    "start_time": "2022-11-30T12:43:32.297Z"
   },
   {
    "duration": 414,
    "start_time": "2022-11-30T12:43:32.312Z"
   },
   {
    "duration": 4,
    "start_time": "2022-11-30T12:43:32.728Z"
   },
   {
    "duration": 13,
    "start_time": "2022-11-30T12:43:32.734Z"
   },
   {
    "duration": 7,
    "start_time": "2022-11-30T12:43:32.749Z"
   },
   {
    "duration": 469,
    "start_time": "2022-11-30T12:43:32.758Z"
   },
   {
    "duration": 6,
    "start_time": "2022-11-30T12:43:33.228Z"
   },
   {
    "duration": 8,
    "start_time": "2022-11-30T12:43:33.237Z"
   },
   {
    "duration": 7,
    "start_time": "2022-11-30T12:43:33.246Z"
   },
   {
    "duration": 22,
    "start_time": "2022-11-30T12:43:33.255Z"
   },
   {
    "duration": 6,
    "start_time": "2022-11-30T12:43:33.279Z"
   },
   {
    "duration": 21,
    "start_time": "2022-11-30T13:46:52.957Z"
   },
   {
    "duration": 19,
    "start_time": "2022-11-30T13:47:14.854Z"
   },
   {
    "duration": 440,
    "start_time": "2022-11-30T13:52:24.863Z"
   },
   {
    "duration": 114,
    "start_time": "2022-11-30T13:55:49.082Z"
   },
   {
    "duration": 8,
    "start_time": "2022-11-30T13:56:02.054Z"
   },
   {
    "duration": 29,
    "start_time": "2022-11-30T13:56:09.086Z"
   },
   {
    "duration": 20,
    "start_time": "2022-11-30T13:57:13.649Z"
   },
   {
    "duration": 20,
    "start_time": "2022-11-30T13:59:22.876Z"
   },
   {
    "duration": 19,
    "start_time": "2022-11-30T14:01:11.784Z"
   },
   {
    "duration": 18,
    "start_time": "2022-11-30T14:01:14.401Z"
   },
   {
    "duration": 19,
    "start_time": "2022-11-30T14:01:34.135Z"
   },
   {
    "duration": 1090,
    "start_time": "2022-11-30T14:02:12.857Z"
   },
   {
    "duration": 61,
    "start_time": "2022-11-30T14:02:34.593Z"
   },
   {
    "duration": 20,
    "start_time": "2022-11-30T14:02:39.417Z"
   },
   {
    "duration": 189,
    "start_time": "2022-11-30T14:04:12.251Z"
   },
   {
    "duration": 2,
    "start_time": "2022-11-30T14:04:18.941Z"
   },
   {
    "duration": 17,
    "start_time": "2022-11-30T14:04:23.245Z"
   },
   {
    "duration": 353,
    "start_time": "2022-11-30T14:04:37.847Z"
   },
   {
    "duration": 367,
    "start_time": "2022-11-30T14:04:55.111Z"
   },
   {
    "duration": 376,
    "start_time": "2022-11-30T14:06:18.513Z"
   },
   {
    "duration": 301,
    "start_time": "2022-11-30T14:08:21.933Z"
   },
   {
    "duration": 412,
    "start_time": "2022-11-30T14:09:20.176Z"
   },
   {
    "duration": 578,
    "start_time": "2022-11-30T14:10:52.080Z"
   },
   {
    "duration": 369,
    "start_time": "2022-11-30T14:11:19.858Z"
   },
   {
    "duration": 512,
    "start_time": "2022-11-30T14:22:04.901Z"
   },
   {
    "duration": 472,
    "start_time": "2022-11-30T14:22:35.508Z"
   },
   {
    "duration": 200,
    "start_time": "2022-11-30T14:29:12.378Z"
   },
   {
    "duration": 205,
    "start_time": "2022-11-30T14:29:53.698Z"
   },
   {
    "duration": 43,
    "start_time": "2022-11-30T14:34:56.124Z"
   },
   {
    "duration": 1931,
    "start_time": "2022-11-30T14:35:32.588Z"
   },
   {
    "duration": 5,
    "start_time": "2022-11-30T14:38:38.945Z"
   },
   {
    "duration": 224,
    "start_time": "2022-11-30T14:38:59.634Z"
   },
   {
    "duration": 100,
    "start_time": "2022-11-30T14:40:30.605Z"
   },
   {
    "duration": 48,
    "start_time": "2022-11-30T14:40:37.878Z"
   },
   {
    "duration": 53,
    "start_time": "2022-11-30T14:40:42.776Z"
   },
   {
    "duration": 5,
    "start_time": "2022-11-30T14:40:53.037Z"
   },
   {
    "duration": 6,
    "start_time": "2022-11-30T14:42:18.056Z"
   },
   {
    "duration": 511,
    "start_time": "2022-11-30T14:42:52.348Z"
   },
   {
    "duration": 7,
    "start_time": "2022-11-30T14:43:46.442Z"
   },
   {
    "duration": 5,
    "start_time": "2022-11-30T14:43:47.162Z"
   },
   {
    "duration": 7,
    "start_time": "2022-11-30T14:43:47.729Z"
   },
   {
    "duration": 251,
    "start_time": "2022-11-30T14:43:51.298Z"
   },
   {
    "duration": 252,
    "start_time": "2022-11-30T14:44:10.458Z"
   },
   {
    "duration": 27,
    "start_time": "2022-11-30T14:45:09.587Z"
   },
   {
    "duration": 44,
    "start_time": "2022-11-30T14:45:19.565Z"
   },
   {
    "duration": 46,
    "start_time": "2022-11-30T14:46:28.248Z"
   },
   {
    "duration": 16,
    "start_time": "2022-11-30T14:46:39.527Z"
   },
   {
    "duration": 7,
    "start_time": "2022-11-30T14:47:05.012Z"
   },
   {
    "duration": 5,
    "start_time": "2022-11-30T14:47:12.616Z"
   },
   {
    "duration": 6,
    "start_time": "2022-11-30T14:47:13.176Z"
   },
   {
    "duration": 6,
    "start_time": "2022-11-30T14:47:13.680Z"
   },
   {
    "duration": 304,
    "start_time": "2022-11-30T14:47:14.319Z"
   },
   {
    "duration": 12,
    "start_time": "2022-11-30T14:47:39.833Z"
   },
   {
    "duration": 1340,
    "start_time": "2022-11-30T14:47:45.595Z"
   },
   {
    "duration": 349,
    "start_time": "2022-11-30T14:47:46.937Z"
   },
   {
    "duration": 11,
    "start_time": "2022-11-30T14:47:47.288Z"
   },
   {
    "duration": 90,
    "start_time": "2022-11-30T14:47:47.301Z"
   },
   {
    "duration": 374,
    "start_time": "2022-11-30T14:47:47.392Z"
   },
   {
    "duration": 10,
    "start_time": "2022-11-30T14:47:47.767Z"
   },
   {
    "duration": 4,
    "start_time": "2022-11-30T14:47:47.779Z"
   },
   {
    "duration": 14,
    "start_time": "2022-11-30T14:47:47.785Z"
   },
   {
    "duration": 527,
    "start_time": "2022-11-30T14:47:47.801Z"
   },
   {
    "duration": 5,
    "start_time": "2022-11-30T14:47:48.331Z"
   },
   {
    "duration": 13,
    "start_time": "2022-11-30T14:47:48.337Z"
   },
   {
    "duration": 9,
    "start_time": "2022-11-30T14:47:48.351Z"
   },
   {
    "duration": 15,
    "start_time": "2022-11-30T14:47:48.362Z"
   },
   {
    "duration": 19,
    "start_time": "2022-11-30T14:47:48.379Z"
   },
   {
    "duration": 23,
    "start_time": "2022-11-30T14:47:48.400Z"
   },
   {
    "duration": 375,
    "start_time": "2022-11-30T14:47:48.425Z"
   },
   {
    "duration": 498,
    "start_time": "2022-11-30T14:47:48.802Z"
   },
   {
    "duration": 421,
    "start_time": "2022-11-30T14:47:49.301Z"
   },
   {
    "duration": 194,
    "start_time": "2022-11-30T14:47:49.723Z"
   },
   {
    "duration": 192,
    "start_time": "2022-11-30T14:47:49.919Z"
   },
   {
    "duration": 5,
    "start_time": "2022-11-30T14:47:50.113Z"
   },
   {
    "duration": 53,
    "start_time": "2022-11-30T14:47:50.120Z"
   },
   {
    "duration": 11,
    "start_time": "2022-11-30T14:47:50.175Z"
   },
   {
    "duration": 376,
    "start_time": "2022-11-30T14:47:50.187Z"
   },
   {
    "duration": 118,
    "start_time": "2022-11-30T14:47:50.565Z"
   },
   {
    "duration": 34,
    "start_time": "2022-11-30T14:48:28.345Z"
   },
   {
    "duration": 3,
    "start_time": "2022-11-30T14:51:11.375Z"
   },
   {
    "duration": 10,
    "start_time": "2022-11-30T14:51:22.900Z"
   },
   {
    "duration": 12,
    "start_time": "2022-11-30T14:51:29.025Z"
   },
   {
    "duration": 11,
    "start_time": "2022-11-30T14:51:45.473Z"
   },
   {
    "duration": 7,
    "start_time": "2022-11-30T14:52:14.089Z"
   },
   {
    "duration": 4,
    "start_time": "2022-11-30T14:52:34.489Z"
   },
   {
    "duration": 11,
    "start_time": "2022-11-30T14:52:40.489Z"
   },
   {
    "duration": 23,
    "start_time": "2022-11-30T14:52:47.329Z"
   },
   {
    "duration": 55,
    "start_time": "2022-11-30T14:53:26.812Z"
   },
   {
    "duration": 55,
    "start_time": "2022-11-30T14:53:57.988Z"
   },
   {
    "duration": 21,
    "start_time": "2022-11-30T14:54:07.829Z"
   },
   {
    "duration": 1380,
    "start_time": "2022-11-30T14:54:16.286Z"
   },
   {
    "duration": 295,
    "start_time": "2022-11-30T14:54:17.668Z"
   },
   {
    "duration": 16,
    "start_time": "2022-11-30T14:54:17.965Z"
   },
   {
    "duration": 88,
    "start_time": "2022-11-30T14:54:17.982Z"
   },
   {
    "duration": 351,
    "start_time": "2022-11-30T14:54:18.071Z"
   },
   {
    "duration": 5,
    "start_time": "2022-11-30T14:54:18.423Z"
   },
   {
    "duration": 9,
    "start_time": "2022-11-30T14:54:18.430Z"
   },
   {
    "duration": 6,
    "start_time": "2022-11-30T14:54:18.441Z"
   },
   {
    "duration": 510,
    "start_time": "2022-11-30T14:54:18.448Z"
   },
   {
    "duration": 5,
    "start_time": "2022-11-30T14:54:18.961Z"
   },
   {
    "duration": 15,
    "start_time": "2022-11-30T14:54:18.982Z"
   },
   {
    "duration": 21,
    "start_time": "2022-11-30T14:54:18.999Z"
   },
   {
    "duration": 8,
    "start_time": "2022-11-30T14:54:19.022Z"
   },
   {
    "duration": 19,
    "start_time": "2022-11-30T14:54:19.032Z"
   },
   {
    "duration": 22,
    "start_time": "2022-11-30T14:54:19.053Z"
   },
   {
    "duration": 369,
    "start_time": "2022-11-30T14:54:19.077Z"
   },
   {
    "duration": 459,
    "start_time": "2022-11-30T14:54:19.447Z"
   },
   {
    "duration": 394,
    "start_time": "2022-11-30T14:54:19.908Z"
   },
   {
    "duration": 188,
    "start_time": "2022-11-30T14:54:20.303Z"
   },
   {
    "duration": 201,
    "start_time": "2022-11-30T14:54:20.493Z"
   },
   {
    "duration": 6,
    "start_time": "2022-11-30T14:54:20.696Z"
   },
   {
    "duration": 33,
    "start_time": "2022-11-30T14:54:20.703Z"
   },
   {
    "duration": 9,
    "start_time": "2022-11-30T14:54:20.737Z"
   },
   {
    "duration": 395,
    "start_time": "2022-11-30T14:54:20.748Z"
   },
   {
    "duration": 39,
    "start_time": "2022-11-30T14:54:21.144Z"
   },
   {
    "duration": 23,
    "start_time": "2022-11-30T14:54:21.185Z"
   },
   {
    "duration": 47,
    "start_time": "2022-11-30T14:54:37.577Z"
   },
   {
    "duration": 16,
    "start_time": "2022-11-30T14:54:43.645Z"
   },
   {
    "duration": 1338,
    "start_time": "2022-11-30T14:54:51.421Z"
   },
   {
    "duration": 300,
    "start_time": "2022-11-30T14:54:52.761Z"
   },
   {
    "duration": 19,
    "start_time": "2022-11-30T14:54:53.062Z"
   },
   {
    "duration": 88,
    "start_time": "2022-11-30T14:54:53.084Z"
   },
   {
    "duration": 364,
    "start_time": "2022-11-30T14:54:53.175Z"
   },
   {
    "duration": 6,
    "start_time": "2022-11-30T14:54:53.541Z"
   },
   {
    "duration": 36,
    "start_time": "2022-11-30T14:54:53.549Z"
   },
   {
    "duration": 26,
    "start_time": "2022-11-30T14:54:53.587Z"
   },
   {
    "duration": 574,
    "start_time": "2022-11-30T14:54:53.614Z"
   },
   {
    "duration": 5,
    "start_time": "2022-11-30T14:54:54.190Z"
   },
   {
    "duration": 8,
    "start_time": "2022-11-30T14:54:54.197Z"
   },
   {
    "duration": 12,
    "start_time": "2022-11-30T14:54:54.207Z"
   },
   {
    "duration": 13,
    "start_time": "2022-11-30T14:54:54.221Z"
   },
   {
    "duration": 27,
    "start_time": "2022-11-30T14:54:54.235Z"
   },
   {
    "duration": 38,
    "start_time": "2022-11-30T14:54:54.263Z"
   },
   {
    "duration": 362,
    "start_time": "2022-11-30T14:54:54.303Z"
   },
   {
    "duration": 514,
    "start_time": "2022-11-30T14:54:54.667Z"
   },
   {
    "duration": 453,
    "start_time": "2022-11-30T14:54:55.183Z"
   },
   {
    "duration": 208,
    "start_time": "2022-11-30T14:54:55.638Z"
   },
   {
    "duration": 197,
    "start_time": "2022-11-30T14:54:55.848Z"
   },
   {
    "duration": 5,
    "start_time": "2022-11-30T14:54:56.047Z"
   },
   {
    "duration": 20,
    "start_time": "2022-11-30T14:54:56.054Z"
   },
   {
    "duration": 14,
    "start_time": "2022-11-30T14:54:56.076Z"
   },
   {
    "duration": 375,
    "start_time": "2022-11-30T14:54:56.092Z"
   },
   {
    "duration": 24,
    "start_time": "2022-11-30T14:54:56.476Z"
   },
   {
    "duration": 24,
    "start_time": "2022-11-30T14:54:56.502Z"
   },
   {
    "duration": 1298,
    "start_time": "2022-11-30T14:55:17.725Z"
   },
   {
    "duration": 305,
    "start_time": "2022-11-30T14:55:19.025Z"
   },
   {
    "duration": 10,
    "start_time": "2022-11-30T14:55:19.331Z"
   },
   {
    "duration": 120,
    "start_time": "2022-11-30T14:55:19.343Z"
   },
   {
    "duration": 372,
    "start_time": "2022-11-30T14:55:19.465Z"
   },
   {
    "duration": 5,
    "start_time": "2022-11-30T14:55:19.839Z"
   },
   {
    "duration": 11,
    "start_time": "2022-11-30T14:55:19.845Z"
   },
   {
    "duration": 18,
    "start_time": "2022-11-30T14:55:19.858Z"
   },
   {
    "duration": 515,
    "start_time": "2022-11-30T14:55:19.878Z"
   },
   {
    "duration": 5,
    "start_time": "2022-11-30T14:55:20.395Z"
   },
   {
    "duration": 17,
    "start_time": "2022-11-30T14:55:20.401Z"
   },
   {
    "duration": 10,
    "start_time": "2022-11-30T14:55:20.420Z"
   },
   {
    "duration": 11,
    "start_time": "2022-11-30T14:55:20.432Z"
   },
   {
    "duration": 14,
    "start_time": "2022-11-30T14:55:20.445Z"
   },
   {
    "duration": 26,
    "start_time": "2022-11-30T14:55:20.461Z"
   },
   {
    "duration": 357,
    "start_time": "2022-11-30T14:55:20.489Z"
   },
   {
    "duration": 456,
    "start_time": "2022-11-30T14:55:20.848Z"
   },
   {
    "duration": 395,
    "start_time": "2022-11-30T14:55:21.305Z"
   },
   {
    "duration": 190,
    "start_time": "2022-11-30T14:55:21.702Z"
   },
   {
    "duration": 199,
    "start_time": "2022-11-30T14:55:21.893Z"
   },
   {
    "duration": 6,
    "start_time": "2022-11-30T14:55:22.094Z"
   },
   {
    "duration": 16,
    "start_time": "2022-11-30T14:55:22.101Z"
   },
   {
    "duration": 8,
    "start_time": "2022-11-30T14:55:22.118Z"
   },
   {
    "duration": 378,
    "start_time": "2022-11-30T14:55:22.128Z"
   },
   {
    "duration": 25,
    "start_time": "2022-11-30T14:55:22.507Z"
   },
   {
    "duration": 43,
    "start_time": "2022-11-30T14:55:22.533Z"
   },
   {
    "duration": 9,
    "start_time": "2022-11-30T14:56:02.519Z"
   },
   {
    "duration": 1362,
    "start_time": "2022-11-30T14:56:06.853Z"
   },
   {
    "duration": 309,
    "start_time": "2022-11-30T14:56:08.216Z"
   },
   {
    "duration": 11,
    "start_time": "2022-11-30T14:56:08.527Z"
   },
   {
    "duration": 100,
    "start_time": "2022-11-30T14:56:08.540Z"
   },
   {
    "duration": 381,
    "start_time": "2022-11-30T14:56:08.642Z"
   },
   {
    "duration": 5,
    "start_time": "2022-11-30T14:56:09.025Z"
   },
   {
    "duration": 8,
    "start_time": "2022-11-30T14:56:09.032Z"
   },
   {
    "duration": 15,
    "start_time": "2022-11-30T14:56:09.041Z"
   },
   {
    "duration": 562,
    "start_time": "2022-11-30T14:56:09.058Z"
   },
   {
    "duration": 5,
    "start_time": "2022-11-30T14:56:09.622Z"
   },
   {
    "duration": 25,
    "start_time": "2022-11-30T14:56:09.629Z"
   },
   {
    "duration": 27,
    "start_time": "2022-11-30T14:56:09.655Z"
   },
   {
    "duration": 14,
    "start_time": "2022-11-30T14:56:09.683Z"
   },
   {
    "duration": 37,
    "start_time": "2022-11-30T14:56:09.699Z"
   },
   {
    "duration": 38,
    "start_time": "2022-11-30T14:56:09.738Z"
   },
   {
    "duration": 362,
    "start_time": "2022-11-30T14:56:09.778Z"
   },
   {
    "duration": 463,
    "start_time": "2022-11-30T14:56:10.141Z"
   },
   {
    "duration": 400,
    "start_time": "2022-11-30T14:56:10.606Z"
   },
   {
    "duration": 194,
    "start_time": "2022-11-30T14:56:11.008Z"
   },
   {
    "duration": 202,
    "start_time": "2022-11-30T14:56:11.203Z"
   },
   {
    "duration": 5,
    "start_time": "2022-11-30T14:56:11.407Z"
   },
   {
    "duration": 11,
    "start_time": "2022-11-30T14:56:11.414Z"
   },
   {
    "duration": 15,
    "start_time": "2022-11-30T14:56:11.427Z"
   },
   {
    "duration": 380,
    "start_time": "2022-11-30T14:56:11.444Z"
   },
   {
    "duration": 24,
    "start_time": "2022-11-30T14:56:11.826Z"
   },
   {
    "duration": 42,
    "start_time": "2022-11-30T14:56:11.852Z"
   },
   {
    "duration": 1323,
    "start_time": "2022-11-30T14:57:10.174Z"
   },
   {
    "duration": 301,
    "start_time": "2022-11-30T14:57:11.499Z"
   },
   {
    "duration": 10,
    "start_time": "2022-11-30T14:57:11.802Z"
   },
   {
    "duration": 92,
    "start_time": "2022-11-30T14:57:11.813Z"
   },
   {
    "duration": 363,
    "start_time": "2022-11-30T14:57:11.906Z"
   },
   {
    "duration": 6,
    "start_time": "2022-11-30T14:57:12.271Z"
   },
   {
    "duration": 9,
    "start_time": "2022-11-30T14:57:12.278Z"
   },
   {
    "duration": 7,
    "start_time": "2022-11-30T14:57:12.289Z"
   },
   {
    "duration": 507,
    "start_time": "2022-11-30T14:57:12.297Z"
   },
   {
    "duration": 5,
    "start_time": "2022-11-30T14:57:12.806Z"
   },
   {
    "duration": 8,
    "start_time": "2022-11-30T14:57:12.813Z"
   },
   {
    "duration": 8,
    "start_time": "2022-11-30T14:57:12.822Z"
   },
   {
    "duration": 10,
    "start_time": "2022-11-30T14:57:12.832Z"
   },
   {
    "duration": 13,
    "start_time": "2022-11-30T14:57:12.843Z"
   },
   {
    "duration": 39,
    "start_time": "2022-11-30T14:57:12.857Z"
   },
   {
    "duration": 16,
    "start_time": "2022-11-30T14:57:12.898Z"
   },
   {
    "duration": 366,
    "start_time": "2022-11-30T14:57:12.916Z"
   },
   {
    "duration": 482,
    "start_time": "2022-11-30T14:57:13.284Z"
   },
   {
    "duration": 412,
    "start_time": "2022-11-30T14:57:13.768Z"
   },
   {
    "duration": 200,
    "start_time": "2022-11-30T14:57:14.182Z"
   },
   {
    "duration": 202,
    "start_time": "2022-11-30T14:57:14.384Z"
   },
   {
    "duration": 7,
    "start_time": "2022-11-30T14:57:14.588Z"
   },
   {
    "duration": 8,
    "start_time": "2022-11-30T14:57:14.596Z"
   },
   {
    "duration": 12,
    "start_time": "2022-11-30T14:57:14.605Z"
   },
   {
    "duration": 454,
    "start_time": "2022-11-30T14:57:14.619Z"
   },
   {
    "duration": 23,
    "start_time": "2022-11-30T14:57:15.076Z"
   },
   {
    "duration": 53,
    "start_time": "2022-11-30T14:57:15.101Z"
   },
   {
    "duration": 1514,
    "start_time": "2022-12-01T12:44:53.327Z"
   },
   {
    "duration": 3208,
    "start_time": "2022-12-01T12:46:17.935Z"
   },
   {
    "duration": 21,
    "start_time": "2022-12-01T12:47:57.940Z"
   },
   {
    "duration": 17,
    "start_time": "2022-12-01T12:48:12.025Z"
   },
   {
    "duration": 19,
    "start_time": "2022-12-01T12:48:27.578Z"
   },
   {
    "duration": 148,
    "start_time": "2022-12-01T12:54:26.612Z"
   },
   {
    "duration": 22,
    "start_time": "2022-12-01T12:54:38.340Z"
   },
   {
    "duration": 101,
    "start_time": "2022-12-01T12:54:45.740Z"
   },
   {
    "duration": 11,
    "start_time": "2022-12-01T12:55:48.121Z"
   },
   {
    "duration": 10,
    "start_time": "2022-12-01T12:55:57.831Z"
   },
   {
    "duration": 9,
    "start_time": "2022-12-01T12:56:05.919Z"
   },
   {
    "duration": 10,
    "start_time": "2022-12-01T12:56:40.759Z"
   },
   {
    "duration": 10,
    "start_time": "2022-12-01T12:58:30.474Z"
   },
   {
    "duration": 4,
    "start_time": "2022-12-01T12:58:57.972Z"
   },
   {
    "duration": 10,
    "start_time": "2022-12-01T12:59:02.852Z"
   },
   {
    "duration": 9,
    "start_time": "2022-12-01T13:00:43.735Z"
   },
   {
    "duration": 11,
    "start_time": "2022-12-01T13:01:02.191Z"
   },
   {
    "duration": 111,
    "start_time": "2022-12-01T13:01:32.945Z"
   },
   {
    "duration": 8,
    "start_time": "2022-12-01T13:01:40.172Z"
   },
   {
    "duration": 10,
    "start_time": "2022-12-01T13:01:58.640Z"
   },
   {
    "duration": 8,
    "start_time": "2022-12-01T13:02:12.834Z"
   },
   {
    "duration": 12,
    "start_time": "2022-12-01T13:02:32.625Z"
   },
   {
    "duration": 1557,
    "start_time": "2022-12-01T14:15:41.508Z"
   },
   {
    "duration": 3108,
    "start_time": "2022-12-01T14:15:44.353Z"
   },
   {
    "duration": 20,
    "start_time": "2022-12-01T14:15:47.463Z"
   },
   {
    "duration": 13,
    "start_time": "2022-12-01T14:15:47.485Z"
   },
   {
    "duration": 23,
    "start_time": "2022-12-01T14:15:47.500Z"
   },
   {
    "duration": 131,
    "start_time": "2022-12-01T14:15:47.525Z"
   },
   {
    "duration": 21,
    "start_time": "2022-12-01T14:15:47.658Z"
   },
   {
    "duration": 108,
    "start_time": "2022-12-01T14:15:47.681Z"
   },
   {
    "duration": 10,
    "start_time": "2022-12-01T14:15:48.185Z"
   },
   {
    "duration": 8,
    "start_time": "2022-12-01T14:15:48.752Z"
   },
   {
    "duration": 11,
    "start_time": "2022-12-01T14:15:52.393Z"
   },
   {
    "duration": 110,
    "start_time": "2022-12-01T14:15:52.994Z"
   },
   {
    "duration": 26,
    "start_time": "2022-12-01T14:24:01.631Z"
   },
   {
    "duration": 19,
    "start_time": "2022-12-01T14:34:33.385Z"
   },
   {
    "duration": 11,
    "start_time": "2022-12-01T14:37:19.853Z"
   },
   {
    "duration": 541,
    "start_time": "2022-12-01T14:37:26.681Z"
   },
   {
    "duration": 9,
    "start_time": "2022-12-01T14:41:19.716Z"
   },
   {
    "duration": 6,
    "start_time": "2022-12-01T14:41:28.994Z"
   },
   {
    "duration": 154,
    "start_time": "2022-12-01T14:55:08.493Z"
   },
   {
    "duration": 176,
    "start_time": "2022-12-01T14:55:30.810Z"
   },
   {
    "duration": 233,
    "start_time": "2022-12-01T15:04:55.742Z"
   },
   {
    "duration": 295,
    "start_time": "2022-12-01T15:07:07.872Z"
   },
   {
    "duration": 318,
    "start_time": "2022-12-01T15:07:52.625Z"
   },
   {
    "duration": 253,
    "start_time": "2022-12-01T15:08:52.323Z"
   },
   {
    "duration": 268,
    "start_time": "2022-12-01T15:09:54.142Z"
   },
   {
    "duration": 252,
    "start_time": "2022-12-01T15:10:03.166Z"
   },
   {
    "duration": 244,
    "start_time": "2022-12-01T15:10:09.790Z"
   },
   {
    "duration": 709,
    "start_time": "2022-12-01T15:11:21.448Z"
   },
   {
    "duration": 1017,
    "start_time": "2022-12-01T15:12:19.017Z"
   },
   {
    "duration": 3728,
    "start_time": "2022-12-01T15:12:51.684Z"
   },
   {
    "duration": 66,
    "start_time": "2022-12-01T15:13:16.404Z"
   },
   {
    "duration": 2474,
    "start_time": "2022-12-01T15:13:21.963Z"
   },
   {
    "duration": 2436,
    "start_time": "2022-12-01T15:13:44.860Z"
   },
   {
    "duration": 2386,
    "start_time": "2022-12-01T15:13:57.365Z"
   },
   {
    "duration": 2342,
    "start_time": "2022-12-01T15:14:07.068Z"
   },
   {
    "duration": 1992,
    "start_time": "2022-12-01T15:14:16.366Z"
   },
   {
    "duration": 2294,
    "start_time": "2022-12-01T15:14:50.535Z"
   },
   {
    "duration": 950,
    "start_time": "2022-12-01T15:15:12.710Z"
   },
   {
    "duration": 1014,
    "start_time": "2022-12-01T15:16:15.889Z"
   },
   {
    "duration": 917,
    "start_time": "2022-12-01T15:17:31.407Z"
   },
   {
    "duration": 1532,
    "start_time": "2022-12-01T15:19:25.471Z"
   },
   {
    "duration": 875,
    "start_time": "2022-12-01T15:19:34.823Z"
   },
   {
    "duration": 883,
    "start_time": "2022-12-01T15:19:40.367Z"
   },
   {
    "duration": 1502,
    "start_time": "2022-12-02T13:17:09.206Z"
   },
   {
    "duration": 2545,
    "start_time": "2022-12-02T13:17:10.710Z"
   },
   {
    "duration": 23,
    "start_time": "2022-12-02T13:17:13.257Z"
   },
   {
    "duration": 23,
    "start_time": "2022-12-02T13:17:13.283Z"
   },
   {
    "duration": 18,
    "start_time": "2022-12-02T13:17:13.308Z"
   },
   {
    "duration": 165,
    "start_time": "2022-12-02T13:17:13.328Z"
   },
   {
    "duration": 26,
    "start_time": "2022-12-02T13:17:13.497Z"
   },
   {
    "duration": 120,
    "start_time": "2022-12-02T13:17:13.525Z"
   },
   {
    "duration": 10,
    "start_time": "2022-12-02T13:17:13.647Z"
   },
   {
    "duration": 7,
    "start_time": "2022-12-02T13:17:13.661Z"
   },
   {
    "duration": 27,
    "start_time": "2022-12-02T13:17:13.669Z"
   },
   {
    "duration": 27,
    "start_time": "2022-12-02T13:17:13.698Z"
   },
   {
    "duration": 14,
    "start_time": "2022-12-02T13:17:13.727Z"
   },
   {
    "duration": 582,
    "start_time": "2022-12-02T13:17:13.743Z"
   },
   {
    "duration": 5,
    "start_time": "2022-12-02T13:17:14.327Z"
   },
   {
    "duration": 977,
    "start_time": "2022-12-02T13:17:14.334Z"
   },
   {
    "duration": 926,
    "start_time": "2022-12-02T13:17:15.312Z"
   },
   {
    "duration": 1069,
    "start_time": "2022-12-02T13:17:16.240Z"
   },
   {
    "duration": 608,
    "start_time": "2022-12-02T13:17:17.312Z"
   },
   {
    "duration": 129,
    "start_time": "2022-12-02T13:17:17.922Z"
   },
   {
    "duration": 0,
    "start_time": "2022-12-02T13:17:18.053Z"
   },
   {
    "duration": 0,
    "start_time": "2022-12-02T13:17:18.054Z"
   },
   {
    "duration": 0,
    "start_time": "2022-12-02T13:17:18.055Z"
   },
   {
    "duration": 0,
    "start_time": "2022-12-02T13:17:18.057Z"
   },
   {
    "duration": 0,
    "start_time": "2022-12-02T13:17:18.058Z"
   },
   {
    "duration": 0,
    "start_time": "2022-12-02T13:17:18.059Z"
   },
   {
    "duration": 0,
    "start_time": "2022-12-02T13:17:18.061Z"
   },
   {
    "duration": 471,
    "start_time": "2022-12-02T13:17:34.074Z"
   },
   {
    "duration": 370,
    "start_time": "2022-12-02T13:17:41.629Z"
   },
   {
    "duration": 358,
    "start_time": "2022-12-02T13:18:20.893Z"
   },
   {
    "duration": 368,
    "start_time": "2022-12-02T13:18:34.229Z"
   },
   {
    "duration": 838,
    "start_time": "2022-12-02T13:18:42.614Z"
   },
   {
    "duration": 257,
    "start_time": "2022-12-02T13:18:53.750Z"
   },
   {
    "duration": 277,
    "start_time": "2022-12-02T13:19:04.416Z"
   },
   {
    "duration": 467,
    "start_time": "2022-12-02T13:19:13.016Z"
   },
   {
    "duration": 410,
    "start_time": "2022-12-02T13:22:16.443Z"
   },
   {
    "duration": 476,
    "start_time": "2022-12-02T13:23:03.327Z"
   },
   {
    "duration": 7,
    "start_time": "2022-12-02T13:33:08.716Z"
   },
   {
    "duration": 5,
    "start_time": "2022-12-02T13:33:09.620Z"
   },
   {
    "duration": 6,
    "start_time": "2022-12-02T13:33:10.100Z"
   },
   {
    "duration": 438,
    "start_time": "2022-12-02T13:39:07.509Z"
   },
   {
    "duration": 50,
    "start_time": "2022-12-02T13:46:22.578Z"
   },
   {
    "duration": 1411,
    "start_time": "2022-12-02T13:46:29.730Z"
   },
   {
    "duration": 2605,
    "start_time": "2022-12-02T13:46:31.143Z"
   },
   {
    "duration": 18,
    "start_time": "2022-12-02T13:46:33.750Z"
   },
   {
    "duration": 12,
    "start_time": "2022-12-02T13:46:33.771Z"
   },
   {
    "duration": 24,
    "start_time": "2022-12-02T13:46:33.785Z"
   },
   {
    "duration": 150,
    "start_time": "2022-12-02T13:46:33.811Z"
   },
   {
    "duration": 23,
    "start_time": "2022-12-02T13:46:33.962Z"
   },
   {
    "duration": 111,
    "start_time": "2022-12-02T13:46:33.987Z"
   },
   {
    "duration": 10,
    "start_time": "2022-12-02T13:46:34.100Z"
   },
   {
    "duration": 7,
    "start_time": "2022-12-02T13:46:34.112Z"
   },
   {
    "duration": 10,
    "start_time": "2022-12-02T13:46:34.120Z"
   },
   {
    "duration": 28,
    "start_time": "2022-12-02T13:46:34.132Z"
   },
   {
    "duration": 49,
    "start_time": "2022-12-02T13:46:34.162Z"
   },
   {
    "duration": 557,
    "start_time": "2022-12-02T13:46:34.213Z"
   },
   {
    "duration": 5,
    "start_time": "2022-12-02T13:46:34.772Z"
   },
   {
    "duration": 993,
    "start_time": "2022-12-02T13:46:34.778Z"
   },
   {
    "duration": 1096,
    "start_time": "2022-12-02T13:46:35.773Z"
   },
   {
    "duration": 1012,
    "start_time": "2022-12-02T13:46:36.871Z"
   },
   {
    "duration": 362,
    "start_time": "2022-12-02T13:46:37.885Z"
   },
   {
    "duration": 391,
    "start_time": "2022-12-02T13:46:38.251Z"
   },
   {
    "duration": 7,
    "start_time": "2022-12-02T13:46:38.643Z"
   },
   {
    "duration": 7,
    "start_time": "2022-12-02T13:46:38.652Z"
   },
   {
    "duration": 5,
    "start_time": "2022-12-02T13:46:38.661Z"
   },
   {
    "duration": 459,
    "start_time": "2022-12-02T13:46:38.667Z"
   },
   {
    "duration": 1407,
    "start_time": "2022-12-02T13:47:22.380Z"
   },
   {
    "duration": 2577,
    "start_time": "2022-12-02T13:47:23.789Z"
   },
   {
    "duration": 25,
    "start_time": "2022-12-02T13:47:26.369Z"
   },
   {
    "duration": 15,
    "start_time": "2022-12-02T13:47:26.396Z"
   },
   {
    "duration": 18,
    "start_time": "2022-12-02T13:47:26.413Z"
   },
   {
    "duration": 143,
    "start_time": "2022-12-02T13:47:26.432Z"
   },
   {
    "duration": 30,
    "start_time": "2022-12-02T13:47:26.577Z"
   },
   {
    "duration": 103,
    "start_time": "2022-12-02T13:47:26.608Z"
   },
   {
    "duration": 9,
    "start_time": "2022-12-02T13:47:26.713Z"
   },
   {
    "duration": 6,
    "start_time": "2022-12-02T13:47:26.724Z"
   },
   {
    "duration": 15,
    "start_time": "2022-12-02T13:47:26.731Z"
   },
   {
    "duration": 53,
    "start_time": "2022-12-02T13:47:26.748Z"
   },
   {
    "duration": 14,
    "start_time": "2022-12-02T13:47:26.803Z"
   },
   {
    "duration": 514,
    "start_time": "2022-12-02T13:47:26.819Z"
   },
   {
    "duration": 6,
    "start_time": "2022-12-02T13:47:27.335Z"
   },
   {
    "duration": 978,
    "start_time": "2022-12-02T13:47:27.343Z"
   },
   {
    "duration": 858,
    "start_time": "2022-12-02T13:47:28.323Z"
   },
   {
    "duration": 984,
    "start_time": "2022-12-02T13:47:29.183Z"
   },
   {
    "duration": 373,
    "start_time": "2022-12-02T13:47:30.169Z"
   },
   {
    "duration": 387,
    "start_time": "2022-12-02T13:47:30.544Z"
   },
   {
    "duration": 6,
    "start_time": "2022-12-02T13:47:30.933Z"
   },
   {
    "duration": 20,
    "start_time": "2022-12-02T13:47:30.940Z"
   },
   {
    "duration": 23,
    "start_time": "2022-12-02T13:47:30.961Z"
   },
   {
    "duration": 450,
    "start_time": "2022-12-02T13:47:30.986Z"
   },
   {
    "duration": 315,
    "start_time": "2022-12-02T13:47:31.438Z"
   },
   {
    "duration": 22,
    "start_time": "2022-12-02T13:50:16.442Z"
   },
   {
    "duration": 1533,
    "start_time": "2022-12-02T16:05:00.887Z"
   },
   {
    "duration": 2103,
    "start_time": "2022-12-02T16:05:02.422Z"
   },
   {
    "duration": 18,
    "start_time": "2022-12-02T16:05:04.526Z"
   },
   {
    "duration": 12,
    "start_time": "2022-12-02T16:05:04.546Z"
   },
   {
    "duration": 19,
    "start_time": "2022-12-02T16:05:04.559Z"
   },
   {
    "duration": 127,
    "start_time": "2022-12-02T16:05:04.580Z"
   },
   {
    "duration": 20,
    "start_time": "2022-12-02T16:05:04.709Z"
   },
   {
    "duration": 109,
    "start_time": "2022-12-02T16:05:04.731Z"
   },
   {
    "duration": 10,
    "start_time": "2022-12-02T16:05:04.842Z"
   },
   {
    "duration": 23,
    "start_time": "2022-12-02T16:05:04.855Z"
   },
   {
    "duration": 10,
    "start_time": "2022-12-02T16:05:04.879Z"
   },
   {
    "duration": 23,
    "start_time": "2022-12-02T16:05:04.892Z"
   },
   {
    "duration": 13,
    "start_time": "2022-12-02T16:05:04.917Z"
   },
   {
    "duration": 534,
    "start_time": "2022-12-02T16:05:04.932Z"
   },
   {
    "duration": 5,
    "start_time": "2022-12-02T16:05:05.468Z"
   },
   {
    "duration": 901,
    "start_time": "2022-12-02T16:05:05.478Z"
   },
   {
    "duration": 786,
    "start_time": "2022-12-02T16:05:06.381Z"
   },
   {
    "duration": 893,
    "start_time": "2022-12-02T16:05:07.169Z"
   },
   {
    "duration": 316,
    "start_time": "2022-12-02T16:05:08.064Z"
   },
   {
    "duration": 337,
    "start_time": "2022-12-02T16:05:08.382Z"
   },
   {
    "duration": 7,
    "start_time": "2022-12-02T16:05:08.721Z"
   },
   {
    "duration": 9,
    "start_time": "2022-12-02T16:05:08.729Z"
   },
   {
    "duration": 12,
    "start_time": "2022-12-02T16:05:08.739Z"
   },
   {
    "duration": 430,
    "start_time": "2022-12-02T16:05:08.753Z"
   },
   {
    "duration": 17,
    "start_time": "2022-12-02T16:05:09.185Z"
   },
   {
    "duration": 2,
    "start_time": "2022-12-02T16:32:02.811Z"
   },
   {
    "duration": 100,
    "start_time": "2022-12-02T16:33:51.271Z"
   },
   {
    "duration": 6,
    "start_time": "2022-12-02T16:34:11.512Z"
   },
   {
    "duration": 15,
    "start_time": "2022-12-02T16:34:23.144Z"
   },
   {
    "duration": 7,
    "start_time": "2022-12-02T16:36:05.300Z"
   },
   {
    "duration": 3,
    "start_time": "2022-12-02T16:39:16.080Z"
   },
   {
    "duration": 1124,
    "start_time": "2022-12-02T16:46:34.868Z"
   },
   {
    "duration": 11,
    "start_time": "2022-12-02T16:47:04.830Z"
   },
   {
    "duration": 29,
    "start_time": "2022-12-02T16:47:28.630Z"
   },
   {
    "duration": 1263,
    "start_time": "2022-12-02T16:47:46.302Z"
   },
   {
    "duration": 678,
    "start_time": "2022-12-02T16:47:47.567Z"
   },
   {
    "duration": 19,
    "start_time": "2022-12-02T16:47:48.246Z"
   },
   {
    "duration": 19,
    "start_time": "2022-12-02T16:47:48.267Z"
   },
   {
    "duration": 15,
    "start_time": "2022-12-02T16:47:48.288Z"
   },
   {
    "duration": 132,
    "start_time": "2022-12-02T16:47:48.305Z"
   },
   {
    "duration": 21,
    "start_time": "2022-12-02T16:47:48.439Z"
   },
   {
    "duration": 101,
    "start_time": "2022-12-02T16:47:48.462Z"
   },
   {
    "duration": 18,
    "start_time": "2022-12-02T16:47:48.565Z"
   },
   {
    "duration": 7,
    "start_time": "2022-12-02T16:47:48.585Z"
   },
   {
    "duration": 12,
    "start_time": "2022-12-02T16:47:48.593Z"
   },
   {
    "duration": 27,
    "start_time": "2022-12-02T16:47:48.606Z"
   },
   {
    "duration": 48,
    "start_time": "2022-12-02T16:47:48.634Z"
   },
   {
    "duration": 475,
    "start_time": "2022-12-02T16:47:48.684Z"
   },
   {
    "duration": 6,
    "start_time": "2022-12-02T16:47:49.161Z"
   },
   {
    "duration": 849,
    "start_time": "2022-12-02T16:47:49.168Z"
   },
   {
    "duration": 783,
    "start_time": "2022-12-02T16:47:50.019Z"
   },
   {
    "duration": 852,
    "start_time": "2022-12-02T16:47:50.803Z"
   },
   {
    "duration": 307,
    "start_time": "2022-12-02T16:47:51.657Z"
   },
   {
    "duration": 326,
    "start_time": "2022-12-02T16:47:51.965Z"
   },
   {
    "duration": 5,
    "start_time": "2022-12-02T16:47:52.293Z"
   },
   {
    "duration": 6,
    "start_time": "2022-12-02T16:47:52.299Z"
   },
   {
    "duration": 6,
    "start_time": "2022-12-02T16:47:52.306Z"
   },
   {
    "duration": 378,
    "start_time": "2022-12-02T16:47:52.313Z"
   },
   {
    "duration": 17,
    "start_time": "2022-12-02T16:47:52.693Z"
   },
   {
    "duration": 5,
    "start_time": "2022-12-02T16:47:52.712Z"
   },
   {
    "duration": 15,
    "start_time": "2022-12-02T16:47:52.719Z"
   },
   {
    "duration": 11,
    "start_time": "2022-12-02T16:47:52.737Z"
   },
   {
    "duration": 33,
    "start_time": "2022-12-02T16:47:52.749Z"
   },
   {
    "duration": 1250,
    "start_time": "2022-12-02T16:47:52.784Z"
   },
   {
    "duration": 0,
    "start_time": "2022-12-02T16:47:54.036Z"
   },
   {
    "duration": 0,
    "start_time": "2022-12-02T16:47:54.038Z"
   },
   {
    "duration": 1212,
    "start_time": "2022-12-02T16:49:00.771Z"
   },
   {
    "duration": 14,
    "start_time": "2022-12-02T16:49:50.996Z"
   },
   {
    "duration": 13,
    "start_time": "2022-12-02T16:50:15.269Z"
   },
   {
    "duration": 1176,
    "start_time": "2022-12-02T16:50:49.725Z"
   },
   {
    "duration": 10,
    "start_time": "2022-12-02T16:52:46.817Z"
   },
   {
    "duration": 12,
    "start_time": "2022-12-02T16:52:54.344Z"
   },
   {
    "duration": 103,
    "start_time": "2022-12-02T16:54:26.464Z"
   },
   {
    "duration": 14,
    "start_time": "2022-12-02T16:54:32.933Z"
   },
   {
    "duration": 8,
    "start_time": "2022-12-02T16:54:40.076Z"
   },
   {
    "duration": 2,
    "start_time": "2022-12-02T16:55:45.909Z"
   },
   {
    "duration": 8,
    "start_time": "2022-12-02T17:04:24.333Z"
   },
   {
    "duration": 3,
    "start_time": "2022-12-02T17:20:53.641Z"
   },
   {
    "duration": 8,
    "start_time": "2022-12-02T17:20:54.410Z"
   },
   {
    "duration": 11,
    "start_time": "2022-12-02T17:21:35.652Z"
   },
   {
    "duration": 4,
    "start_time": "2022-12-02T17:21:44.852Z"
   },
   {
    "duration": 3,
    "start_time": "2022-12-02T17:21:49.876Z"
   },
   {
    "duration": 3,
    "start_time": "2022-12-02T17:21:50.747Z"
   },
   {
    "duration": 41,
    "start_time": "2022-12-02T17:26:57.034Z"
   },
   {
    "duration": 6,
    "start_time": "2022-12-02T17:27:35.198Z"
   },
   {
    "duration": 54,
    "start_time": "2022-12-02T17:27:51.014Z"
   },
   {
    "duration": 40,
    "start_time": "2022-12-02T17:28:09.590Z"
   },
   {
    "duration": 80,
    "start_time": "2022-12-02T17:28:20.608Z"
   },
   {
    "duration": 21,
    "start_time": "2022-12-02T17:28:42.926Z"
   },
   {
    "duration": 76,
    "start_time": "2022-12-02T17:28:46.809Z"
   },
   {
    "duration": 5,
    "start_time": "2022-12-02T17:29:00.631Z"
   },
   {
    "duration": 105,
    "start_time": "2022-12-02T17:29:20.522Z"
   },
   {
    "duration": 4,
    "start_time": "2022-12-02T17:29:52.729Z"
   },
   {
    "duration": 79,
    "start_time": "2022-12-02T17:29:56.994Z"
   },
   {
    "duration": 720,
    "start_time": "2022-12-02T17:30:18.505Z"
   },
   {
    "duration": 719,
    "start_time": "2022-12-02T17:30:31.195Z"
   },
   {
    "duration": 726,
    "start_time": "2022-12-02T17:30:56.114Z"
   },
   {
    "duration": 1483,
    "start_time": "2022-12-03T14:34:35.663Z"
   },
   {
    "duration": 2097,
    "start_time": "2022-12-03T14:34:37.148Z"
   },
   {
    "duration": 16,
    "start_time": "2022-12-03T14:34:39.247Z"
   },
   {
    "duration": 71,
    "start_time": "2022-12-03T14:34:39.265Z"
   },
   {
    "duration": 43,
    "start_time": "2022-12-03T14:34:39.338Z"
   },
   {
    "duration": 160,
    "start_time": "2022-12-03T14:34:39.383Z"
   },
   {
    "duration": 19,
    "start_time": "2022-12-03T14:34:39.545Z"
   },
   {
    "duration": 141,
    "start_time": "2022-12-03T14:34:39.566Z"
   },
   {
    "duration": 8,
    "start_time": "2022-12-03T14:34:39.709Z"
   },
   {
    "duration": 22,
    "start_time": "2022-12-03T14:34:39.720Z"
   },
   {
    "duration": 39,
    "start_time": "2022-12-03T14:34:39.745Z"
   },
   {
    "duration": 54,
    "start_time": "2022-12-03T14:34:39.785Z"
   },
   {
    "duration": 48,
    "start_time": "2022-12-03T14:34:39.841Z"
   },
   {
    "duration": 497,
    "start_time": "2022-12-03T14:34:39.891Z"
   },
   {
    "duration": 15,
    "start_time": "2022-12-03T14:34:40.390Z"
   },
   {
    "duration": 905,
    "start_time": "2022-12-03T14:34:40.407Z"
   },
   {
    "duration": 803,
    "start_time": "2022-12-03T14:34:41.314Z"
   },
   {
    "duration": 916,
    "start_time": "2022-12-03T14:34:42.119Z"
   },
   {
    "duration": 331,
    "start_time": "2022-12-03T14:34:43.037Z"
   },
   {
    "duration": 351,
    "start_time": "2022-12-03T14:34:43.370Z"
   },
   {
    "duration": 6,
    "start_time": "2022-12-03T14:34:43.723Z"
   },
   {
    "duration": 32,
    "start_time": "2022-12-03T14:34:43.730Z"
   },
   {
    "duration": 36,
    "start_time": "2022-12-03T14:34:43.764Z"
   },
   {
    "duration": 419,
    "start_time": "2022-12-03T14:34:43.802Z"
   },
   {
    "duration": 16,
    "start_time": "2022-12-03T14:34:44.222Z"
   },
   {
    "duration": 53,
    "start_time": "2022-12-03T14:34:44.240Z"
   },
   {
    "duration": 141,
    "start_time": "2022-12-03T14:34:44.294Z"
   },
   {
    "duration": 46,
    "start_time": "2022-12-03T14:34:44.437Z"
   },
   {
    "duration": 33,
    "start_time": "2022-12-03T14:34:44.485Z"
   },
   {
    "duration": 55,
    "start_time": "2022-12-03T14:34:44.519Z"
   },
   {
    "duration": 45,
    "start_time": "2022-12-03T14:34:44.576Z"
   },
   {
    "duration": 26,
    "start_time": "2022-12-03T14:34:44.623Z"
   },
   {
    "duration": 31,
    "start_time": "2022-12-03T14:34:44.651Z"
   },
   {
    "duration": 927,
    "start_time": "2022-12-03T14:34:44.684Z"
   },
   {
    "duration": 2,
    "start_time": "2022-12-03T14:36:02.452Z"
   },
   {
    "duration": 3,
    "start_time": "2022-12-03T14:36:03.650Z"
   },
   {
    "duration": 807,
    "start_time": "2022-12-03T14:36:05.030Z"
   },
   {
    "duration": 730,
    "start_time": "2022-12-03T14:37:46.422Z"
   },
   {
    "duration": 42,
    "start_time": "2022-12-03T14:39:08.232Z"
   },
   {
    "duration": 729,
    "start_time": "2022-12-03T14:39:15.305Z"
   },
   {
    "duration": 723,
    "start_time": "2022-12-03T14:39:48.242Z"
   },
   {
    "duration": 3,
    "start_time": "2022-12-03T14:40:15.806Z"
   },
   {
    "duration": 766,
    "start_time": "2022-12-03T14:40:17.612Z"
   },
   {
    "duration": 2,
    "start_time": "2022-12-03T14:40:34.911Z"
   },
   {
    "duration": 3278,
    "start_time": "2022-12-03T14:40:37.213Z"
   },
   {
    "duration": 3212,
    "start_time": "2022-12-03T14:41:33.110Z"
   },
   {
    "duration": 662,
    "start_time": "2022-12-03T14:43:36.947Z"
   },
   {
    "duration": 1332,
    "start_time": "2022-12-03T14:43:45.314Z"
   },
   {
    "duration": 662,
    "start_time": "2022-12-03T14:43:46.649Z"
   },
   {
    "duration": 17,
    "start_time": "2022-12-03T14:43:47.312Z"
   },
   {
    "duration": 31,
    "start_time": "2022-12-03T14:43:47.331Z"
   },
   {
    "duration": 40,
    "start_time": "2022-12-03T14:43:47.364Z"
   },
   {
    "duration": 144,
    "start_time": "2022-12-03T14:43:47.406Z"
   },
   {
    "duration": 19,
    "start_time": "2022-12-03T14:43:47.552Z"
   },
   {
    "duration": 101,
    "start_time": "2022-12-03T14:43:47.573Z"
   },
   {
    "duration": 9,
    "start_time": "2022-12-03T14:43:47.676Z"
   },
   {
    "duration": 21,
    "start_time": "2022-12-03T14:43:47.687Z"
   },
   {
    "duration": 14,
    "start_time": "2022-12-03T14:43:47.710Z"
   },
   {
    "duration": 35,
    "start_time": "2022-12-03T14:43:47.725Z"
   },
   {
    "duration": 27,
    "start_time": "2022-12-03T14:43:47.761Z"
   },
   {
    "duration": 516,
    "start_time": "2022-12-03T14:43:47.790Z"
   },
   {
    "duration": 4,
    "start_time": "2022-12-03T14:43:48.308Z"
   },
   {
    "duration": 892,
    "start_time": "2022-12-03T14:43:48.314Z"
   },
   {
    "duration": 807,
    "start_time": "2022-12-03T14:43:49.208Z"
   },
   {
    "duration": 925,
    "start_time": "2022-12-03T14:43:50.017Z"
   },
   {
    "duration": 333,
    "start_time": "2022-12-03T14:43:50.944Z"
   },
   {
    "duration": 357,
    "start_time": "2022-12-03T14:43:51.279Z"
   },
   {
    "duration": 6,
    "start_time": "2022-12-03T14:43:51.638Z"
   },
   {
    "duration": 5,
    "start_time": "2022-12-03T14:43:51.645Z"
   },
   {
    "duration": 6,
    "start_time": "2022-12-03T14:43:51.651Z"
   },
   {
    "duration": 418,
    "start_time": "2022-12-03T14:43:51.658Z"
   },
   {
    "duration": 26,
    "start_time": "2022-12-03T14:43:52.078Z"
   },
   {
    "duration": 6,
    "start_time": "2022-12-03T14:43:52.106Z"
   },
   {
    "duration": 24,
    "start_time": "2022-12-03T14:43:52.113Z"
   },
   {
    "duration": 11,
    "start_time": "2022-12-03T14:43:52.140Z"
   },
   {
    "duration": 7,
    "start_time": "2022-12-03T14:43:52.153Z"
   },
   {
    "duration": 10,
    "start_time": "2022-12-03T14:43:52.162Z"
   },
   {
    "duration": 31,
    "start_time": "2022-12-03T14:43:52.174Z"
   },
   {
    "duration": 3,
    "start_time": "2022-12-03T14:43:52.206Z"
   },
   {
    "duration": 4,
    "start_time": "2022-12-03T14:43:52.211Z"
   },
   {
    "duration": 184,
    "start_time": "2022-12-03T14:43:52.217Z"
   },
   {
    "duration": 78,
    "start_time": "2022-12-03T14:43:52.403Z"
   },
   {
    "duration": 8295,
    "start_time": "2022-12-03T14:44:18.729Z"
   },
   {
    "duration": 2613,
    "start_time": "2022-12-03T14:44:30.832Z"
   },
   {
    "duration": 45,
    "start_time": "2022-12-03T14:44:40.282Z"
   },
   {
    "duration": 8413,
    "start_time": "2022-12-03T14:44:43.898Z"
   },
   {
    "duration": 2569,
    "start_time": "2022-12-03T14:44:59.521Z"
   },
   {
    "duration": 8239,
    "start_time": "2022-12-03T14:46:51.894Z"
   },
   {
    "duration": 8424,
    "start_time": "2022-12-03T14:47:26.934Z"
   },
   {
    "duration": 15,
    "start_time": "2022-12-03T14:51:23.214Z"
   },
   {
    "duration": 11,
    "start_time": "2022-12-03T14:51:42.815Z"
   },
   {
    "duration": 6,
    "start_time": "2022-12-03T14:51:47.565Z"
   },
   {
    "duration": 6,
    "start_time": "2022-12-03T14:51:59.093Z"
   },
   {
    "duration": 5,
    "start_time": "2022-12-03T14:52:20.167Z"
   },
   {
    "duration": 3,
    "start_time": "2022-12-03T14:52:21.239Z"
   },
   {
    "duration": 2,
    "start_time": "2022-12-03T14:52:21.912Z"
   },
   {
    "duration": 739,
    "start_time": "2022-12-03T14:52:23.937Z"
   },
   {
    "duration": 743,
    "start_time": "2022-12-03T14:53:56.583Z"
   },
   {
    "duration": 8362,
    "start_time": "2022-12-03T14:54:18.955Z"
   },
   {
    "duration": 2639,
    "start_time": "2022-12-03T14:54:41.696Z"
   },
   {
    "duration": 8277,
    "start_time": "2022-12-03T14:56:03.694Z"
   },
   {
    "duration": 2645,
    "start_time": "2022-12-03T14:56:26.888Z"
   },
   {
    "duration": 43,
    "start_time": "2022-12-03T15:04:25.116Z"
   },
   {
    "duration": 39,
    "start_time": "2022-12-03T15:04:43.364Z"
   },
   {
    "duration": 78,
    "start_time": "2022-12-03T15:05:16.653Z"
   },
   {
    "duration": 11,
    "start_time": "2022-12-03T15:05:58.287Z"
   },
   {
    "duration": 79,
    "start_time": "2022-12-03T15:06:03.878Z"
   },
   {
    "duration": 1917,
    "start_time": "2022-12-03T15:06:54.777Z"
   },
   {
    "duration": 1917,
    "start_time": "2022-12-03T15:07:16.017Z"
   },
   {
    "duration": 3701,
    "start_time": "2022-12-03T15:07:32.105Z"
   },
   {
    "duration": 3722,
    "start_time": "2022-12-03T15:08:34.596Z"
   },
   {
    "duration": 3692,
    "start_time": "2022-12-03T15:08:50.812Z"
   },
   {
    "duration": 3717,
    "start_time": "2022-12-03T15:09:04.132Z"
   },
   {
    "duration": 1407,
    "start_time": "2022-12-03T17:37:37.138Z"
   },
   {
    "duration": 765,
    "start_time": "2022-12-03T17:37:38.547Z"
   },
   {
    "duration": 20,
    "start_time": "2022-12-03T17:37:39.313Z"
   },
   {
    "duration": 11,
    "start_time": "2022-12-03T17:37:39.335Z"
   },
   {
    "duration": 16,
    "start_time": "2022-12-03T17:37:39.347Z"
   },
   {
    "duration": 155,
    "start_time": "2022-12-03T17:37:39.364Z"
   },
   {
    "duration": 31,
    "start_time": "2022-12-03T17:37:39.524Z"
   },
   {
    "duration": 109,
    "start_time": "2022-12-03T17:37:39.557Z"
   },
   {
    "duration": 8,
    "start_time": "2022-12-03T17:37:39.667Z"
   },
   {
    "duration": 5,
    "start_time": "2022-12-03T17:37:39.678Z"
   },
   {
    "duration": 35,
    "start_time": "2022-12-03T17:37:39.685Z"
   },
   {
    "duration": 63,
    "start_time": "2022-12-03T17:37:39.722Z"
   },
   {
    "duration": 30,
    "start_time": "2022-12-03T17:37:39.786Z"
   },
   {
    "duration": 539,
    "start_time": "2022-12-03T17:37:39.818Z"
   },
   {
    "duration": 5,
    "start_time": "2022-12-03T17:37:40.358Z"
   },
   {
    "duration": 896,
    "start_time": "2022-12-03T17:37:40.365Z"
   },
   {
    "duration": 816,
    "start_time": "2022-12-03T17:37:41.263Z"
   },
   {
    "duration": 959,
    "start_time": "2022-12-03T17:37:42.081Z"
   },
   {
    "duration": 348,
    "start_time": "2022-12-03T17:37:43.042Z"
   },
   {
    "duration": 367,
    "start_time": "2022-12-03T17:37:43.392Z"
   },
   {
    "duration": 7,
    "start_time": "2022-12-03T17:37:43.761Z"
   },
   {
    "duration": 6,
    "start_time": "2022-12-03T17:37:43.769Z"
   },
   {
    "duration": 11,
    "start_time": "2022-12-03T17:37:43.776Z"
   },
   {
    "duration": 445,
    "start_time": "2022-12-03T17:37:43.788Z"
   },
   {
    "duration": 18,
    "start_time": "2022-12-03T17:37:44.235Z"
   },
   {
    "duration": 6,
    "start_time": "2022-12-03T17:37:44.255Z"
   },
   {
    "duration": 21,
    "start_time": "2022-12-03T17:37:44.263Z"
   },
   {
    "duration": 21,
    "start_time": "2022-12-03T17:37:44.304Z"
   },
   {
    "duration": 17,
    "start_time": "2022-12-03T17:37:44.327Z"
   },
   {
    "duration": 12,
    "start_time": "2022-12-03T17:37:44.345Z"
   },
   {
    "duration": 8,
    "start_time": "2022-12-03T17:37:44.359Z"
   },
   {
    "duration": 6,
    "start_time": "2022-12-03T17:37:44.368Z"
   },
   {
    "duration": 6,
    "start_time": "2022-12-03T17:37:44.375Z"
   },
   {
    "duration": 8709,
    "start_time": "2022-12-03T17:37:44.383Z"
   },
   {
    "duration": 2698,
    "start_time": "2022-12-03T17:37:53.093Z"
   },
   {
    "duration": 1475,
    "start_time": "2022-12-04T02:59:47.916Z"
   },
   {
    "duration": 2094,
    "start_time": "2022-12-04T02:59:49.393Z"
   },
   {
    "duration": 18,
    "start_time": "2022-12-04T02:59:51.489Z"
   },
   {
    "duration": 25,
    "start_time": "2022-12-04T02:59:51.509Z"
   },
   {
    "duration": 18,
    "start_time": "2022-12-04T02:59:51.536Z"
   },
   {
    "duration": 127,
    "start_time": "2022-12-04T02:59:51.556Z"
   },
   {
    "duration": 19,
    "start_time": "2022-12-04T02:59:51.685Z"
   },
   {
    "duration": 99,
    "start_time": "2022-12-04T02:59:51.706Z"
   },
   {
    "duration": 9,
    "start_time": "2022-12-04T02:59:51.807Z"
   },
   {
    "duration": 19,
    "start_time": "2022-12-04T02:59:51.818Z"
   },
   {
    "duration": 22,
    "start_time": "2022-12-04T02:59:51.839Z"
   },
   {
    "duration": 37,
    "start_time": "2022-12-04T02:59:51.862Z"
   },
   {
    "duration": 24,
    "start_time": "2022-12-04T02:59:51.900Z"
   },
   {
    "duration": 478,
    "start_time": "2022-12-04T02:59:51.925Z"
   },
   {
    "duration": 5,
    "start_time": "2022-12-04T02:59:52.404Z"
   },
   {
    "duration": 911,
    "start_time": "2022-12-04T02:59:52.410Z"
   },
   {
    "duration": 759,
    "start_time": "2022-12-04T02:59:53.323Z"
   },
   {
    "duration": 859,
    "start_time": "2022-12-04T02:59:54.084Z"
   },
   {
    "duration": 308,
    "start_time": "2022-12-04T02:59:54.944Z"
   },
   {
    "duration": 328,
    "start_time": "2022-12-04T02:59:55.254Z"
   },
   {
    "duration": 6,
    "start_time": "2022-12-04T02:59:55.584Z"
   },
   {
    "duration": 4,
    "start_time": "2022-12-04T02:59:55.592Z"
   },
   {
    "duration": 9,
    "start_time": "2022-12-04T02:59:55.598Z"
   },
   {
    "duration": 426,
    "start_time": "2022-12-04T02:59:55.608Z"
   },
   {
    "duration": 17,
    "start_time": "2022-12-04T02:59:56.036Z"
   },
   {
    "duration": 6,
    "start_time": "2022-12-04T02:59:56.055Z"
   },
   {
    "duration": 27,
    "start_time": "2022-12-04T02:59:56.063Z"
   },
   {
    "duration": 12,
    "start_time": "2022-12-04T02:59:56.094Z"
   },
   {
    "duration": 7,
    "start_time": "2022-12-04T02:59:56.108Z"
   },
   {
    "duration": 16,
    "start_time": "2022-12-04T02:59:56.117Z"
   },
   {
    "duration": 5,
    "start_time": "2022-12-04T02:59:56.135Z"
   },
   {
    "duration": 4,
    "start_time": "2022-12-04T02:59:56.142Z"
   },
   {
    "duration": 3,
    "start_time": "2022-12-04T02:59:56.179Z"
   },
   {
    "duration": 7517,
    "start_time": "2022-12-04T02:59:56.184Z"
   },
   {
    "duration": 2382,
    "start_time": "2022-12-04T03:00:03.703Z"
   },
   {
    "duration": 2383026,
    "start_time": "2022-12-04T03:00:06.086Z"
   },
   {
    "duration": 3345,
    "start_time": "2022-12-04T03:39:49.114Z"
   },
   {
    "duration": 2300191,
    "start_time": "2022-12-04T04:40:31.814Z"
   },
   {
    "duration": 2311487,
    "start_time": "2022-12-04T06:04:50.746Z"
   },
   {
    "duration": 3009,
    "start_time": "2022-12-04T06:51:17.347Z"
   },
   {
    "duration": 3004,
    "start_time": "2022-12-04T06:52:23.021Z"
   },
   {
    "duration": 2315691,
    "start_time": "2022-12-04T06:53:13.510Z"
   },
   {
    "duration": 7776,
    "start_time": "2022-12-04T07:45:04.199Z"
   }
  ],
  "kernelspec": {
   "display_name": "Python 3 (ipykernel)",
   "language": "python",
   "name": "python3"
  },
  "language_info": {
   "codemirror_mode": {
    "name": "ipython",
    "version": 3
   },
   "file_extension": ".py",
   "mimetype": "text/x-python",
   "name": "python",
   "nbconvert_exporter": "python",
   "pygments_lexer": "ipython3",
   "version": "3.9.12"
  },
  "toc": {
   "base_numbering": 1,
   "nav_menu": {},
   "number_sections": true,
   "sideBar": true,
   "skip_h1_title": true,
   "title_cell": "Содержание",
   "title_sidebar": "Contents",
   "toc_cell": true,
   "toc_position": {
    "height": "calc(100% - 180px)",
    "left": "10px",
    "top": "150px",
    "width": "340.355px"
   },
   "toc_section_display": true,
   "toc_window_display": true
  }
 },
 "nbformat": 4,
 "nbformat_minor": 2
}
