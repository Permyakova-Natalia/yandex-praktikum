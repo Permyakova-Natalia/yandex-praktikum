{
 "cells": [
  {
   "cell_type": "markdown",
   "metadata": {
    "toc": true
   },
   "source": [
    "<h1>Содержание<span class=\"tocSkip\"></span></h1>\n",
    "<div class=\"toc\"><ul class=\"toc-item\"><li><span><a href=\"#Подготовка-данных\" data-toc-modified-id=\"Подготовка-данных-1\"><span class=\"toc-item-num\">1&nbsp;&nbsp;</span>Подготовка данных</a></span><ul class=\"toc-item\"><li><span><a href=\"#Импортируем-библиотеки,-необходимые-для-работы\" data-toc-modified-id=\"Импортируем-библиотеки,-необходимые-для-работы-1.1\"><span class=\"toc-item-num\">1.1&nbsp;&nbsp;</span>Импортируем библиотеки, необходимые для работы</a></span></li><li><span><a href=\"#Прочитаем-файл-и-сохраним-его-в-переменную-data.-Выведем-на-экран-первые-5-строк.-Проанализируем-имеющиеся-данные\" data-toc-modified-id=\"Прочитаем-файл-и-сохраним-его-в-переменную-data.-Выведем-на-экран-первые-5-строк.-Проанализируем-имеющиеся-данные-1.2\"><span class=\"toc-item-num\">1.2&nbsp;&nbsp;</span>Прочитаем файл и сохраним его в переменную <code>data</code>. Выведем на экран первые 5 строк. Проанализируем имеющиеся данные</a></span></li><li><span><a href=\"#Анализ-признаков-датасета\" data-toc-modified-id=\"Анализ-признаков-датасета-1.3\"><span class=\"toc-item-num\">1.3&nbsp;&nbsp;</span>Анализ признаков датасета</a></span></li><li><span><a href=\"#Применение-метода-OHE-к-категориальным-данным\" data-toc-modified-id=\"Применение-метода-OHE-к-категориальным-данным-1.4\"><span class=\"toc-item-num\">1.4&nbsp;&nbsp;</span>Применение метода OHE к категориальным данным</a></span></li><li><span><a href=\"#Формирование-выборок\" data-toc-modified-id=\"Формирование-выборок-1.5\"><span class=\"toc-item-num\">1.5&nbsp;&nbsp;</span>Формирование выборок</a></span></li><li><span><a href=\"#Масштабирование-признаков\" data-toc-modified-id=\"Масштабирование-признаков-1.6\"><span class=\"toc-item-num\">1.6&nbsp;&nbsp;</span>Масштабирование признаков</a></span></li></ul></li><li><span><a href=\"#Исследование-задачи\" data-toc-modified-id=\"Исследование-задачи-2\"><span class=\"toc-item-num\">2&nbsp;&nbsp;</span>Исследование задачи</a></span><ul class=\"toc-item\"><li><span><a href=\"#Решающее-дерево\" data-toc-modified-id=\"Решающее-дерево-2.1\"><span class=\"toc-item-num\">2.1&nbsp;&nbsp;</span>Решающее дерево</a></span></li><li><span><a href=\"#Случаный-лес\" data-toc-modified-id=\"Случаный-лес-2.2\"><span class=\"toc-item-num\">2.2&nbsp;&nbsp;</span>Случаный лес</a></span></li><li><span><a href=\"#Логистическая-регрессия\" data-toc-modified-id=\"Логистическая-регрессия-2.3\"><span class=\"toc-item-num\">2.3&nbsp;&nbsp;</span>Логистическая регрессия</a></span></li><li><span><a href=\"#Проверка-датасета-на-сбалансированность\" data-toc-modified-id=\"Проверка-датасета-на-сбалансированность-2.4\"><span class=\"toc-item-num\">2.4&nbsp;&nbsp;</span>Проверка датасета на сбалансированность</a></span></li><li><span><a href=\"#Проверка-модели-на-адекватность\" data-toc-modified-id=\"Проверка-модели-на-адекватность-2.5\"><span class=\"toc-item-num\">2.5&nbsp;&nbsp;</span>Проверка модели на адекватность</a></span></li></ul></li><li><span><a href=\"#Борьба-с-дисбалансом\" data-toc-modified-id=\"Борьба-с-дисбалансом-3\"><span class=\"toc-item-num\">3&nbsp;&nbsp;</span>Борьба с дисбалансом</a></span><ul class=\"toc-item\"><li><span><a href=\"#Увеличение-выборки\" data-toc-modified-id=\"Увеличение-выборки-3.1\"><span class=\"toc-item-num\">3.1&nbsp;&nbsp;</span>Увеличение выборки</a></span></li><li><span><a href=\"#Уменьшение-выборки\" data-toc-modified-id=\"Уменьшение-выборки-3.2\"><span class=\"toc-item-num\">3.2&nbsp;&nbsp;</span>Уменьшение выборки</a></span></li></ul></li><li><span><a href=\"#Тестирование-модели\" data-toc-modified-id=\"Тестирование-модели-4\"><span class=\"toc-item-num\">4&nbsp;&nbsp;</span>Тестирование модели</a></span></li></ul></div>"
   ]
  },
  {
   "cell_type": "markdown",
   "metadata": {},
   "source": [
    "# Отток клиентов"
   ]
  },
  {
   "cell_type": "markdown",
   "metadata": {},
   "source": [
    "Из «Бета-Банка» стали уходить клиенты. Каждый месяц. Немного, но заметно. Банковские маркетологи посчитали: сохранять текущих клиентов дешевле, чем привлекать новых.\n",
    "\n",
    "Нужно спрогнозировать, уйдёт клиент из банка в ближайшее время или нет. Нам предоставлены исторические данные о поведении клиентов и расторжении договоров с банком.\n",
    "\n",
    "<b>Цель задачи:</b> Построим модель с предельно большим значением *F1*-меры. Чтобы сдать проект успешно, нужно довести метрику до 0.59. \n",
    "\n",
    "<b>Описание данных: </b>\n",
    "\n",
    "`RowNumber` — индекс строки в данных\n",
    "\n",
    "`CustomerId`— уникальный идентификатор клиента\n",
    "\n",
    "`Surname` — фамилия\n",
    "\n",
    "`CreditScore` — кредитный рейтинг\n",
    "\n",
    "`Geography` — страна проживания\n",
    "\n",
    "`Gender` — пол\n",
    "\n",
    "`Age` — возраст\n",
    "\n",
    "`Tenure` — сколько лет человек является клиентом банка\n",
    "\n",
    "`Balance` — баланс на счёте\n",
    "\n",
    "`NumOfProducts` — количество продуктов банка, используемых клиентом\n",
    "\n",
    "`HasCrCard` — наличие кредитной карты\n",
    "\n",
    "`IsActiveMember` — активность клиента\n",
    "\n",
    "`EstimatedSalary` — предполагаемая зарплата\n",
    "\n",
    "`Exited` — факт ухода клиента\n",
    "\n",
    "<b>План работы:</b>\n",
    "1. Подготовка данных\n",
    "2. Исследование данных\n",
    "3. Борьба с дисбалансом\n",
    "4. Тестирование модели\n",
    "\n",
    "\n",
    "\n",
    "Источник данных: [https://www.kaggle.com/barelydedicated/bank-customer-churn-modeling](https://www.kaggle.com/barelydedicated/bank-customer-churn-modeling)"
   ]
  },
  {
   "cell_type": "markdown",
   "metadata": {},
   "source": [
    "## Подготовка данных"
   ]
  },
  {
   "cell_type": "markdown",
   "metadata": {},
   "source": [
    "### Импортируем библиотеки, необходимые для работы"
   ]
  },
  {
   "cell_type": "code",
   "execution_count": 1,
   "metadata": {},
   "outputs": [],
   "source": [
    "import pandas as pd\n",
    "import matplotlib.pyplot as plt\n",
    "from sklearn.model_selection import train_test_split\n",
    "from sklearn.ensemble import RandomForestClassifier\n",
    "from sklearn.linear_model import LogisticRegression \n",
    "from sklearn.tree import DecisionTreeClassifier\n",
    "from sklearn.preprocessing import StandardScaler\n",
    "from sklearn.metrics import accuracy_score\n",
    "from sklearn import tree\n",
    "from sklearn.dummy import DummyClassifier\n",
    "from sklearn.metrics import confusion_matrix\n",
    "from sklearn.metrics import recall_score\n",
    "from sklearn.metrics import precision_score\n",
    "from sklearn.metrics import f1_score\n",
    "from sklearn.metrics import roc_auc_score\n",
    "from sklearn.metrics import roc_curve\n",
    "from sklearn.utils import shuffle\n",
    "import warnings\n",
    "warnings.filterwarnings(\"ignore\")"
   ]
  },
  {
   "cell_type": "markdown",
   "metadata": {},
   "source": [
    "### Прочитаем файл и сохраним его в переменную `data`. Выведем на экран первые 5 строк. Проанализируем имеющиеся данные"
   ]
  },
  {
   "cell_type": "code",
   "execution_count": 2,
   "metadata": {},
   "outputs": [
    {
     "data": {
      "text/html": [
       "<div>\n",
       "<style scoped>\n",
       "    .dataframe tbody tr th:only-of-type {\n",
       "        vertical-align: middle;\n",
       "    }\n",
       "\n",
       "    .dataframe tbody tr th {\n",
       "        vertical-align: top;\n",
       "    }\n",
       "\n",
       "    .dataframe thead th {\n",
       "        text-align: right;\n",
       "    }\n",
       "</style>\n",
       "<table border=\"1\" class=\"dataframe\">\n",
       "  <thead>\n",
       "    <tr style=\"text-align: right;\">\n",
       "      <th></th>\n",
       "      <th>RowNumber</th>\n",
       "      <th>CustomerId</th>\n",
       "      <th>Surname</th>\n",
       "      <th>CreditScore</th>\n",
       "      <th>Geography</th>\n",
       "      <th>Gender</th>\n",
       "      <th>Age</th>\n",
       "      <th>Tenure</th>\n",
       "      <th>Balance</th>\n",
       "      <th>NumOfProducts</th>\n",
       "      <th>HasCrCard</th>\n",
       "      <th>IsActiveMember</th>\n",
       "      <th>EstimatedSalary</th>\n",
       "      <th>Exited</th>\n",
       "    </tr>\n",
       "  </thead>\n",
       "  <tbody>\n",
       "    <tr>\n",
       "      <th>0</th>\n",
       "      <td>1</td>\n",
       "      <td>15634602</td>\n",
       "      <td>Hargrave</td>\n",
       "      <td>619</td>\n",
       "      <td>France</td>\n",
       "      <td>Female</td>\n",
       "      <td>42</td>\n",
       "      <td>2.0</td>\n",
       "      <td>0.00</td>\n",
       "      <td>1</td>\n",
       "      <td>1</td>\n",
       "      <td>1</td>\n",
       "      <td>101348.88</td>\n",
       "      <td>1</td>\n",
       "    </tr>\n",
       "    <tr>\n",
       "      <th>1</th>\n",
       "      <td>2</td>\n",
       "      <td>15647311</td>\n",
       "      <td>Hill</td>\n",
       "      <td>608</td>\n",
       "      <td>Spain</td>\n",
       "      <td>Female</td>\n",
       "      <td>41</td>\n",
       "      <td>1.0</td>\n",
       "      <td>83807.86</td>\n",
       "      <td>1</td>\n",
       "      <td>0</td>\n",
       "      <td>1</td>\n",
       "      <td>112542.58</td>\n",
       "      <td>0</td>\n",
       "    </tr>\n",
       "    <tr>\n",
       "      <th>2</th>\n",
       "      <td>3</td>\n",
       "      <td>15619304</td>\n",
       "      <td>Onio</td>\n",
       "      <td>502</td>\n",
       "      <td>France</td>\n",
       "      <td>Female</td>\n",
       "      <td>42</td>\n",
       "      <td>8.0</td>\n",
       "      <td>159660.80</td>\n",
       "      <td>3</td>\n",
       "      <td>1</td>\n",
       "      <td>0</td>\n",
       "      <td>113931.57</td>\n",
       "      <td>1</td>\n",
       "    </tr>\n",
       "    <tr>\n",
       "      <th>3</th>\n",
       "      <td>4</td>\n",
       "      <td>15701354</td>\n",
       "      <td>Boni</td>\n",
       "      <td>699</td>\n",
       "      <td>France</td>\n",
       "      <td>Female</td>\n",
       "      <td>39</td>\n",
       "      <td>1.0</td>\n",
       "      <td>0.00</td>\n",
       "      <td>2</td>\n",
       "      <td>0</td>\n",
       "      <td>0</td>\n",
       "      <td>93826.63</td>\n",
       "      <td>0</td>\n",
       "    </tr>\n",
       "    <tr>\n",
       "      <th>4</th>\n",
       "      <td>5</td>\n",
       "      <td>15737888</td>\n",
       "      <td>Mitchell</td>\n",
       "      <td>850</td>\n",
       "      <td>Spain</td>\n",
       "      <td>Female</td>\n",
       "      <td>43</td>\n",
       "      <td>2.0</td>\n",
       "      <td>125510.82</td>\n",
       "      <td>1</td>\n",
       "      <td>1</td>\n",
       "      <td>1</td>\n",
       "      <td>79084.10</td>\n",
       "      <td>0</td>\n",
       "    </tr>\n",
       "  </tbody>\n",
       "</table>\n",
       "</div>"
      ],
      "text/plain": [
       "   RowNumber  CustomerId   Surname  CreditScore Geography  Gender  Age  \\\n",
       "0          1    15634602  Hargrave          619    France  Female   42   \n",
       "1          2    15647311      Hill          608     Spain  Female   41   \n",
       "2          3    15619304      Onio          502    France  Female   42   \n",
       "3          4    15701354      Boni          699    France  Female   39   \n",
       "4          5    15737888  Mitchell          850     Spain  Female   43   \n",
       "\n",
       "   Tenure    Balance  NumOfProducts  HasCrCard  IsActiveMember  \\\n",
       "0     2.0       0.00              1          1               1   \n",
       "1     1.0   83807.86              1          0               1   \n",
       "2     8.0  159660.80              3          1               0   \n",
       "3     1.0       0.00              2          0               0   \n",
       "4     2.0  125510.82              1          1               1   \n",
       "\n",
       "   EstimatedSalary  Exited  \n",
       "0        101348.88       1  \n",
       "1        112542.58       0  \n",
       "2        113931.57       1  \n",
       "3         93826.63       0  \n",
       "4         79084.10       0  "
      ]
     },
     "execution_count": 2,
     "metadata": {},
     "output_type": "execute_result"
    }
   ],
   "source": [
    "data = pd.read_csv('Churn.csv')\n",
    "data.head()"
   ]
  },
  {
   "cell_type": "markdown",
   "metadata": {},
   "source": [
    "**Выведем на экран информацию о датасете**"
   ]
  },
  {
   "cell_type": "code",
   "execution_count": 3,
   "metadata": {},
   "outputs": [
    {
     "name": "stdout",
     "output_type": "stream",
     "text": [
      "<class 'pandas.core.frame.DataFrame'>\n",
      "RangeIndex: 10000 entries, 0 to 9999\n",
      "Data columns (total 14 columns):\n",
      " #   Column           Non-Null Count  Dtype  \n",
      "---  ------           --------------  -----  \n",
      " 0   RowNumber        10000 non-null  int64  \n",
      " 1   CustomerId       10000 non-null  int64  \n",
      " 2   Surname          10000 non-null  object \n",
      " 3   CreditScore      10000 non-null  int64  \n",
      " 4   Geography        10000 non-null  object \n",
      " 5   Gender           10000 non-null  object \n",
      " 6   Age              10000 non-null  int64  \n",
      " 7   Tenure           9091 non-null   float64\n",
      " 8   Balance          10000 non-null  float64\n",
      " 9   NumOfProducts    10000 non-null  int64  \n",
      " 10  HasCrCard        10000 non-null  int64  \n",
      " 11  IsActiveMember   10000 non-null  int64  \n",
      " 12  EstimatedSalary  10000 non-null  float64\n",
      " 13  Exited           10000 non-null  int64  \n",
      "dtypes: float64(3), int64(8), object(3)\n",
      "memory usage: 1.1+ MB\n"
     ]
    }
   ],
   "source": [
    "data.info()"
   ]
  },
  {
   "cell_type": "markdown",
   "metadata": {},
   "source": [
    "**Приведем названия столбцов к нижнему регистру**"
   ]
  },
  {
   "cell_type": "code",
   "execution_count": 4,
   "metadata": {},
   "outputs": [],
   "source": [
    "#data.columns = [x.lower() for x in data.columns]\n",
    "data.columns = data.columns.str.replace(r\"([A-Z])\", r\" \\1\").str.lower().str.replace(' ', '_').str[1:]"
   ]
  },
  {
   "cell_type": "markdown",
   "metadata": {},
   "source": [
    "**Проверим наличие пропусков в датафрейме**"
   ]
  },
  {
   "cell_type": "code",
   "execution_count": 5,
   "metadata": {
    "scrolled": true
   },
   "outputs": [
    {
     "data": {
      "text/plain": [
       "row_number            0\n",
       "customer_id           0\n",
       "surname               0\n",
       "credit_score          0\n",
       "geography             0\n",
       "gender                0\n",
       "age                   0\n",
       "tenure              909\n",
       "balance               0\n",
       "num_of_products       0\n",
       "has_cr_card           0\n",
       "is_active_member      0\n",
       "estimated_salary      0\n",
       "exited                0\n",
       "dtype: int64"
      ]
     },
     "execution_count": 5,
     "metadata": {},
     "output_type": "execute_result"
    }
   ],
   "source": [
    "data.isna().sum()"
   ]
  },
  {
   "cell_type": "markdown",
   "metadata": {},
   "source": [
    "*Заменим пропуски в столбце `Tenure ` значением 0, вероятно пользователи являются клиентами банка меньше года*"
   ]
  },
  {
   "cell_type": "code",
   "execution_count": 6,
   "metadata": {},
   "outputs": [],
   "source": [
    "data['tenure'] = data['tenure'].fillna(0)"
   ]
  },
  {
   "cell_type": "markdown",
   "metadata": {},
   "source": [
    "**Проверим наличие явных дубликатов**"
   ]
  },
  {
   "cell_type": "code",
   "execution_count": 7,
   "metadata": {},
   "outputs": [
    {
     "data": {
      "text/plain": [
       "0"
      ]
     },
     "execution_count": 7,
     "metadata": {},
     "output_type": "execute_result"
    }
   ],
   "source": [
    "data.duplicated().sum()"
   ]
  },
  {
   "cell_type": "markdown",
   "metadata": {},
   "source": [
    "**Явных дубликатов нет ,можем продолжать изучать данные**"
   ]
  },
  {
   "cell_type": "markdown",
   "metadata": {},
   "source": [
    "### Анализ признаков датасета"
   ]
  },
  {
   "cell_type": "markdown",
   "metadata": {},
   "source": [
    "**Целевой признак `exited` - катекариальный ,показывает факт уходи клиента. Значит у нас задача классификации**"
   ]
  },
  {
   "cell_type": "markdown",
   "metadata": {},
   "source": [
    "*Изучим остальные признаки:\n",
    "`rownumber` - номер строки, дублирует индексацию в датафрейме, не оказывает влияние на целевой признак, можем удалить столбец*"
   ]
  },
  {
   "cell_type": "code",
   "execution_count": 11,
   "metadata": {},
   "outputs": [
    {
     "data": {
      "text/html": [
       "<div>\n",
       "<style scoped>\n",
       "    .dataframe tbody tr th:only-of-type {\n",
       "        vertical-align: middle;\n",
       "    }\n",
       "\n",
       "    .dataframe tbody tr th {\n",
       "        vertical-align: top;\n",
       "    }\n",
       "\n",
       "    .dataframe thead th {\n",
       "        text-align: right;\n",
       "    }\n",
       "</style>\n",
       "<table border=\"1\" class=\"dataframe\">\n",
       "  <thead>\n",
       "    <tr style=\"text-align: right;\">\n",
       "      <th></th>\n",
       "      <th>customer_id</th>\n",
       "      <th>surname</th>\n",
       "      <th>credit_score</th>\n",
       "      <th>geography</th>\n",
       "      <th>gender</th>\n",
       "      <th>age</th>\n",
       "      <th>tenure</th>\n",
       "      <th>balance</th>\n",
       "      <th>num_of_products</th>\n",
       "      <th>has_cr_card</th>\n",
       "      <th>is_active_member</th>\n",
       "      <th>estimated_salary</th>\n",
       "      <th>exited</th>\n",
       "    </tr>\n",
       "  </thead>\n",
       "  <tbody>\n",
       "    <tr>\n",
       "      <th>0</th>\n",
       "      <td>15634602</td>\n",
       "      <td>Hargrave</td>\n",
       "      <td>619</td>\n",
       "      <td>France</td>\n",
       "      <td>Female</td>\n",
       "      <td>42</td>\n",
       "      <td>2.0</td>\n",
       "      <td>0.00</td>\n",
       "      <td>1</td>\n",
       "      <td>1</td>\n",
       "      <td>1</td>\n",
       "      <td>101348.88</td>\n",
       "      <td>1</td>\n",
       "    </tr>\n",
       "    <tr>\n",
       "      <th>1</th>\n",
       "      <td>15647311</td>\n",
       "      <td>Hill</td>\n",
       "      <td>608</td>\n",
       "      <td>Spain</td>\n",
       "      <td>Female</td>\n",
       "      <td>41</td>\n",
       "      <td>1.0</td>\n",
       "      <td>83807.86</td>\n",
       "      <td>1</td>\n",
       "      <td>0</td>\n",
       "      <td>1</td>\n",
       "      <td>112542.58</td>\n",
       "      <td>0</td>\n",
       "    </tr>\n",
       "    <tr>\n",
       "      <th>2</th>\n",
       "      <td>15619304</td>\n",
       "      <td>Onio</td>\n",
       "      <td>502</td>\n",
       "      <td>France</td>\n",
       "      <td>Female</td>\n",
       "      <td>42</td>\n",
       "      <td>8.0</td>\n",
       "      <td>159660.80</td>\n",
       "      <td>3</td>\n",
       "      <td>1</td>\n",
       "      <td>0</td>\n",
       "      <td>113931.57</td>\n",
       "      <td>1</td>\n",
       "    </tr>\n",
       "    <tr>\n",
       "      <th>3</th>\n",
       "      <td>15701354</td>\n",
       "      <td>Boni</td>\n",
       "      <td>699</td>\n",
       "      <td>France</td>\n",
       "      <td>Female</td>\n",
       "      <td>39</td>\n",
       "      <td>1.0</td>\n",
       "      <td>0.00</td>\n",
       "      <td>2</td>\n",
       "      <td>0</td>\n",
       "      <td>0</td>\n",
       "      <td>93826.63</td>\n",
       "      <td>0</td>\n",
       "    </tr>\n",
       "    <tr>\n",
       "      <th>4</th>\n",
       "      <td>15737888</td>\n",
       "      <td>Mitchell</td>\n",
       "      <td>850</td>\n",
       "      <td>Spain</td>\n",
       "      <td>Female</td>\n",
       "      <td>43</td>\n",
       "      <td>2.0</td>\n",
       "      <td>125510.82</td>\n",
       "      <td>1</td>\n",
       "      <td>1</td>\n",
       "      <td>1</td>\n",
       "      <td>79084.10</td>\n",
       "      <td>0</td>\n",
       "    </tr>\n",
       "  </tbody>\n",
       "</table>\n",
       "</div>"
      ],
      "text/plain": [
       "   customer_id   surname  credit_score geography  gender  age  tenure  \\\n",
       "0     15634602  Hargrave           619    France  Female   42     2.0   \n",
       "1     15647311      Hill           608     Spain  Female   41     1.0   \n",
       "2     15619304      Onio           502    France  Female   42     8.0   \n",
       "3     15701354      Boni           699    France  Female   39     1.0   \n",
       "4     15737888  Mitchell           850     Spain  Female   43     2.0   \n",
       "\n",
       "     balance  num_of_products  has_cr_card  is_active_member  \\\n",
       "0       0.00                1            1                 1   \n",
       "1   83807.86                1            0                 1   \n",
       "2  159660.80                3            1                 0   \n",
       "3       0.00                2            0                 0   \n",
       "4  125510.82                1            1                 1   \n",
       "\n",
       "   estimated_salary  exited  \n",
       "0         101348.88       1  \n",
       "1         112542.58       0  \n",
       "2         113931.57       1  \n",
       "3          93826.63       0  \n",
       "4          79084.10       0  "
      ]
     },
     "execution_count": 11,
     "metadata": {},
     "output_type": "execute_result"
    }
   ],
   "source": [
    "data_new = data.drop('row_number', axis=1)\n",
    "data_new.head()"
   ]
  },
  {
   "cell_type": "markdown",
   "metadata": {},
   "source": [
    "*`customerid` — уникальный идентификатор клиента. Тоже не оказывает никакого влияния на целевой признак, удаляем*"
   ]
  },
  {
   "cell_type": "code",
   "execution_count": 13,
   "metadata": {},
   "outputs": [
    {
     "data": {
      "text/html": [
       "<div>\n",
       "<style scoped>\n",
       "    .dataframe tbody tr th:only-of-type {\n",
       "        vertical-align: middle;\n",
       "    }\n",
       "\n",
       "    .dataframe tbody tr th {\n",
       "        vertical-align: top;\n",
       "    }\n",
       "\n",
       "    .dataframe thead th {\n",
       "        text-align: right;\n",
       "    }\n",
       "</style>\n",
       "<table border=\"1\" class=\"dataframe\">\n",
       "  <thead>\n",
       "    <tr style=\"text-align: right;\">\n",
       "      <th></th>\n",
       "      <th>row_number</th>\n",
       "      <th>surname</th>\n",
       "      <th>credit_score</th>\n",
       "      <th>geography</th>\n",
       "      <th>gender</th>\n",
       "      <th>age</th>\n",
       "      <th>tenure</th>\n",
       "      <th>balance</th>\n",
       "      <th>num_of_products</th>\n",
       "      <th>has_cr_card</th>\n",
       "      <th>is_active_member</th>\n",
       "      <th>estimated_salary</th>\n",
       "      <th>exited</th>\n",
       "    </tr>\n",
       "  </thead>\n",
       "  <tbody>\n",
       "    <tr>\n",
       "      <th>0</th>\n",
       "      <td>1</td>\n",
       "      <td>Hargrave</td>\n",
       "      <td>619</td>\n",
       "      <td>France</td>\n",
       "      <td>Female</td>\n",
       "      <td>42</td>\n",
       "      <td>2.0</td>\n",
       "      <td>0.00</td>\n",
       "      <td>1</td>\n",
       "      <td>1</td>\n",
       "      <td>1</td>\n",
       "      <td>101348.88</td>\n",
       "      <td>1</td>\n",
       "    </tr>\n",
       "    <tr>\n",
       "      <th>1</th>\n",
       "      <td>2</td>\n",
       "      <td>Hill</td>\n",
       "      <td>608</td>\n",
       "      <td>Spain</td>\n",
       "      <td>Female</td>\n",
       "      <td>41</td>\n",
       "      <td>1.0</td>\n",
       "      <td>83807.86</td>\n",
       "      <td>1</td>\n",
       "      <td>0</td>\n",
       "      <td>1</td>\n",
       "      <td>112542.58</td>\n",
       "      <td>0</td>\n",
       "    </tr>\n",
       "    <tr>\n",
       "      <th>2</th>\n",
       "      <td>3</td>\n",
       "      <td>Onio</td>\n",
       "      <td>502</td>\n",
       "      <td>France</td>\n",
       "      <td>Female</td>\n",
       "      <td>42</td>\n",
       "      <td>8.0</td>\n",
       "      <td>159660.80</td>\n",
       "      <td>3</td>\n",
       "      <td>1</td>\n",
       "      <td>0</td>\n",
       "      <td>113931.57</td>\n",
       "      <td>1</td>\n",
       "    </tr>\n",
       "    <tr>\n",
       "      <th>3</th>\n",
       "      <td>4</td>\n",
       "      <td>Boni</td>\n",
       "      <td>699</td>\n",
       "      <td>France</td>\n",
       "      <td>Female</td>\n",
       "      <td>39</td>\n",
       "      <td>1.0</td>\n",
       "      <td>0.00</td>\n",
       "      <td>2</td>\n",
       "      <td>0</td>\n",
       "      <td>0</td>\n",
       "      <td>93826.63</td>\n",
       "      <td>0</td>\n",
       "    </tr>\n",
       "    <tr>\n",
       "      <th>4</th>\n",
       "      <td>5</td>\n",
       "      <td>Mitchell</td>\n",
       "      <td>850</td>\n",
       "      <td>Spain</td>\n",
       "      <td>Female</td>\n",
       "      <td>43</td>\n",
       "      <td>2.0</td>\n",
       "      <td>125510.82</td>\n",
       "      <td>1</td>\n",
       "      <td>1</td>\n",
       "      <td>1</td>\n",
       "      <td>79084.10</td>\n",
       "      <td>0</td>\n",
       "    </tr>\n",
       "  </tbody>\n",
       "</table>\n",
       "</div>"
      ],
      "text/plain": [
       "   row_number   surname  credit_score geography  gender  age  tenure  \\\n",
       "0           1  Hargrave           619    France  Female   42     2.0   \n",
       "1           2      Hill           608     Spain  Female   41     1.0   \n",
       "2           3      Onio           502    France  Female   42     8.0   \n",
       "3           4      Boni           699    France  Female   39     1.0   \n",
       "4           5  Mitchell           850     Spain  Female   43     2.0   \n",
       "\n",
       "     balance  num_of_products  has_cr_card  is_active_member  \\\n",
       "0       0.00                1            1                 1   \n",
       "1   83807.86                1            0                 1   \n",
       "2  159660.80                3            1                 0   \n",
       "3       0.00                2            0                 0   \n",
       "4  125510.82                1            1                 1   \n",
       "\n",
       "   estimated_salary  exited  \n",
       "0         101348.88       1  \n",
       "1         112542.58       0  \n",
       "2         113931.57       1  \n",
       "3          93826.63       0  \n",
       "4          79084.10       0  "
      ]
     },
     "execution_count": 13,
     "metadata": {},
     "output_type": "execute_result"
    }
   ],
   "source": [
    "data_new = data.drop('customer_id', axis=1)\n",
    "data_new.head()"
   ]
  },
  {
   "cell_type": "markdown",
   "metadata": {},
   "source": [
    "*`Surname` — фамилия клиента. Это информация о клиенте, но она не окажет влияния на нашу модель, удаляем*"
   ]
  },
  {
   "cell_type": "code",
   "execution_count": 14,
   "metadata": {},
   "outputs": [
    {
     "data": {
      "text/html": [
       "<div>\n",
       "<style scoped>\n",
       "    .dataframe tbody tr th:only-of-type {\n",
       "        vertical-align: middle;\n",
       "    }\n",
       "\n",
       "    .dataframe tbody tr th {\n",
       "        vertical-align: top;\n",
       "    }\n",
       "\n",
       "    .dataframe thead th {\n",
       "        text-align: right;\n",
       "    }\n",
       "</style>\n",
       "<table border=\"1\" class=\"dataframe\">\n",
       "  <thead>\n",
       "    <tr style=\"text-align: right;\">\n",
       "      <th></th>\n",
       "      <th>row_number</th>\n",
       "      <th>customer_id</th>\n",
       "      <th>credit_score</th>\n",
       "      <th>geography</th>\n",
       "      <th>gender</th>\n",
       "      <th>age</th>\n",
       "      <th>tenure</th>\n",
       "      <th>balance</th>\n",
       "      <th>num_of_products</th>\n",
       "      <th>has_cr_card</th>\n",
       "      <th>is_active_member</th>\n",
       "      <th>estimated_salary</th>\n",
       "      <th>exited</th>\n",
       "    </tr>\n",
       "  </thead>\n",
       "  <tbody>\n",
       "    <tr>\n",
       "      <th>0</th>\n",
       "      <td>1</td>\n",
       "      <td>15634602</td>\n",
       "      <td>619</td>\n",
       "      <td>France</td>\n",
       "      <td>Female</td>\n",
       "      <td>42</td>\n",
       "      <td>2.0</td>\n",
       "      <td>0.00</td>\n",
       "      <td>1</td>\n",
       "      <td>1</td>\n",
       "      <td>1</td>\n",
       "      <td>101348.88</td>\n",
       "      <td>1</td>\n",
       "    </tr>\n",
       "    <tr>\n",
       "      <th>1</th>\n",
       "      <td>2</td>\n",
       "      <td>15647311</td>\n",
       "      <td>608</td>\n",
       "      <td>Spain</td>\n",
       "      <td>Female</td>\n",
       "      <td>41</td>\n",
       "      <td>1.0</td>\n",
       "      <td>83807.86</td>\n",
       "      <td>1</td>\n",
       "      <td>0</td>\n",
       "      <td>1</td>\n",
       "      <td>112542.58</td>\n",
       "      <td>0</td>\n",
       "    </tr>\n",
       "    <tr>\n",
       "      <th>2</th>\n",
       "      <td>3</td>\n",
       "      <td>15619304</td>\n",
       "      <td>502</td>\n",
       "      <td>France</td>\n",
       "      <td>Female</td>\n",
       "      <td>42</td>\n",
       "      <td>8.0</td>\n",
       "      <td>159660.80</td>\n",
       "      <td>3</td>\n",
       "      <td>1</td>\n",
       "      <td>0</td>\n",
       "      <td>113931.57</td>\n",
       "      <td>1</td>\n",
       "    </tr>\n",
       "    <tr>\n",
       "      <th>3</th>\n",
       "      <td>4</td>\n",
       "      <td>15701354</td>\n",
       "      <td>699</td>\n",
       "      <td>France</td>\n",
       "      <td>Female</td>\n",
       "      <td>39</td>\n",
       "      <td>1.0</td>\n",
       "      <td>0.00</td>\n",
       "      <td>2</td>\n",
       "      <td>0</td>\n",
       "      <td>0</td>\n",
       "      <td>93826.63</td>\n",
       "      <td>0</td>\n",
       "    </tr>\n",
       "    <tr>\n",
       "      <th>4</th>\n",
       "      <td>5</td>\n",
       "      <td>15737888</td>\n",
       "      <td>850</td>\n",
       "      <td>Spain</td>\n",
       "      <td>Female</td>\n",
       "      <td>43</td>\n",
       "      <td>2.0</td>\n",
       "      <td>125510.82</td>\n",
       "      <td>1</td>\n",
       "      <td>1</td>\n",
       "      <td>1</td>\n",
       "      <td>79084.10</td>\n",
       "      <td>0</td>\n",
       "    </tr>\n",
       "  </tbody>\n",
       "</table>\n",
       "</div>"
      ],
      "text/plain": [
       "   row_number  customer_id  credit_score geography  gender  age  tenure  \\\n",
       "0           1     15634602           619    France  Female   42     2.0   \n",
       "1           2     15647311           608     Spain  Female   41     1.0   \n",
       "2           3     15619304           502    France  Female   42     8.0   \n",
       "3           4     15701354           699    France  Female   39     1.0   \n",
       "4           5     15737888           850     Spain  Female   43     2.0   \n",
       "\n",
       "     balance  num_of_products  has_cr_card  is_active_member  \\\n",
       "0       0.00                1            1                 1   \n",
       "1   83807.86                1            0                 1   \n",
       "2  159660.80                3            1                 0   \n",
       "3       0.00                2            0                 0   \n",
       "4  125510.82                1            1                 1   \n",
       "\n",
       "   estimated_salary  exited  \n",
       "0         101348.88       1  \n",
       "1         112542.58       0  \n",
       "2         113931.57       1  \n",
       "3          93826.63       0  \n",
       "4          79084.10       0  "
      ]
     },
     "execution_count": 14,
     "metadata": {},
     "output_type": "execute_result"
    }
   ],
   "source": [
    "data_new = data.drop('surname', axis=1)\n",
    "data_new.head()"
   ]
  },
  {
   "cell_type": "markdown",
   "metadata": {},
   "source": [
    "*`CreditScore` — кредитный рейтинг, оставляем этот критерий. Возможно в дальнейшем потребуется масштабирование данных*"
   ]
  },
  {
   "cell_type": "markdown",
   "metadata": {},
   "source": [
    "*`Geography` — страна проживания. Выведм на экран уникальные значения*"
   ]
  },
  {
   "cell_type": "code",
   "execution_count": 15,
   "metadata": {
    "scrolled": true
   },
   "outputs": [
    {
     "data": {
      "text/plain": [
       "array(['France', 'Spain', 'Germany'], dtype=object)"
      ]
     },
     "execution_count": 15,
     "metadata": {},
     "output_type": "execute_result"
    }
   ],
   "source": [
    "data_new['geography'].unique()"
   ]
  },
  {
   "cell_type": "markdown",
   "metadata": {},
   "source": [
    "**Мы видим 3 уникальных значения, значит это категориальный признак. Преобразуем колонку техникой OHE**"
   ]
  },
  {
   "cell_type": "markdown",
   "metadata": {},
   "source": [
    "**Признаки `gender`, `hascrcard`, `isactivemember` так же являются категориальными. Для них применим технику OHE**"
   ]
  },
  {
   "cell_type": "markdown",
   "metadata": {},
   "source": [
    "**Признаки `age`, `tenure`, `numofproducts`, `estimatedsalary` являются численными. Для них рассмотрим возможность масштабирования.**"
   ]
  },
  {
   "cell_type": "markdown",
   "metadata": {},
   "source": [
    "### Применение метода OHE к категориальным данным"
   ]
  },
  {
   "cell_type": "markdown",
   "metadata": {},
   "source": [
    "**Подготовим категориальные данные методом OHE**"
   ]
  },
  {
   "cell_type": "code",
   "execution_count": 16,
   "metadata": {},
   "outputs": [
    {
     "data": {
      "text/html": [
       "<div>\n",
       "<style scoped>\n",
       "    .dataframe tbody tr th:only-of-type {\n",
       "        vertical-align: middle;\n",
       "    }\n",
       "\n",
       "    .dataframe tbody tr th {\n",
       "        vertical-align: top;\n",
       "    }\n",
       "\n",
       "    .dataframe thead th {\n",
       "        text-align: right;\n",
       "    }\n",
       "</style>\n",
       "<table border=\"1\" class=\"dataframe\">\n",
       "  <thead>\n",
       "    <tr style=\"text-align: right;\">\n",
       "      <th></th>\n",
       "      <th>row_number</th>\n",
       "      <th>customer_id</th>\n",
       "      <th>credit_score</th>\n",
       "      <th>age</th>\n",
       "      <th>tenure</th>\n",
       "      <th>balance</th>\n",
       "      <th>num_of_products</th>\n",
       "      <th>has_cr_card</th>\n",
       "      <th>is_active_member</th>\n",
       "      <th>estimated_salary</th>\n",
       "      <th>exited</th>\n",
       "      <th>geography_Germany</th>\n",
       "      <th>geography_Spain</th>\n",
       "      <th>gender_Male</th>\n",
       "    </tr>\n",
       "  </thead>\n",
       "  <tbody>\n",
       "    <tr>\n",
       "      <th>0</th>\n",
       "      <td>1</td>\n",
       "      <td>15634602</td>\n",
       "      <td>619</td>\n",
       "      <td>42</td>\n",
       "      <td>2.0</td>\n",
       "      <td>0.00</td>\n",
       "      <td>1</td>\n",
       "      <td>1</td>\n",
       "      <td>1</td>\n",
       "      <td>101348.88</td>\n",
       "      <td>1</td>\n",
       "      <td>0</td>\n",
       "      <td>0</td>\n",
       "      <td>0</td>\n",
       "    </tr>\n",
       "    <tr>\n",
       "      <th>1</th>\n",
       "      <td>2</td>\n",
       "      <td>15647311</td>\n",
       "      <td>608</td>\n",
       "      <td>41</td>\n",
       "      <td>1.0</td>\n",
       "      <td>83807.86</td>\n",
       "      <td>1</td>\n",
       "      <td>0</td>\n",
       "      <td>1</td>\n",
       "      <td>112542.58</td>\n",
       "      <td>0</td>\n",
       "      <td>0</td>\n",
       "      <td>1</td>\n",
       "      <td>0</td>\n",
       "    </tr>\n",
       "    <tr>\n",
       "      <th>2</th>\n",
       "      <td>3</td>\n",
       "      <td>15619304</td>\n",
       "      <td>502</td>\n",
       "      <td>42</td>\n",
       "      <td>8.0</td>\n",
       "      <td>159660.80</td>\n",
       "      <td>3</td>\n",
       "      <td>1</td>\n",
       "      <td>0</td>\n",
       "      <td>113931.57</td>\n",
       "      <td>1</td>\n",
       "      <td>0</td>\n",
       "      <td>0</td>\n",
       "      <td>0</td>\n",
       "    </tr>\n",
       "    <tr>\n",
       "      <th>3</th>\n",
       "      <td>4</td>\n",
       "      <td>15701354</td>\n",
       "      <td>699</td>\n",
       "      <td>39</td>\n",
       "      <td>1.0</td>\n",
       "      <td>0.00</td>\n",
       "      <td>2</td>\n",
       "      <td>0</td>\n",
       "      <td>0</td>\n",
       "      <td>93826.63</td>\n",
       "      <td>0</td>\n",
       "      <td>0</td>\n",
       "      <td>0</td>\n",
       "      <td>0</td>\n",
       "    </tr>\n",
       "    <tr>\n",
       "      <th>4</th>\n",
       "      <td>5</td>\n",
       "      <td>15737888</td>\n",
       "      <td>850</td>\n",
       "      <td>43</td>\n",
       "      <td>2.0</td>\n",
       "      <td>125510.82</td>\n",
       "      <td>1</td>\n",
       "      <td>1</td>\n",
       "      <td>1</td>\n",
       "      <td>79084.10</td>\n",
       "      <td>0</td>\n",
       "      <td>0</td>\n",
       "      <td>1</td>\n",
       "      <td>0</td>\n",
       "    </tr>\n",
       "  </tbody>\n",
       "</table>\n",
       "</div>"
      ],
      "text/plain": [
       "   row_number  customer_id  credit_score  age  tenure    balance  \\\n",
       "0           1     15634602           619   42     2.0       0.00   \n",
       "1           2     15647311           608   41     1.0   83807.86   \n",
       "2           3     15619304           502   42     8.0  159660.80   \n",
       "3           4     15701354           699   39     1.0       0.00   \n",
       "4           5     15737888           850   43     2.0  125510.82   \n",
       "\n",
       "   num_of_products  has_cr_card  is_active_member  estimated_salary  exited  \\\n",
       "0                1            1                 1         101348.88       1   \n",
       "1                1            0                 1         112542.58       0   \n",
       "2                3            1                 0         113931.57       1   \n",
       "3                2            0                 0          93826.63       0   \n",
       "4                1            1                 1          79084.10       0   \n",
       "\n",
       "   geography_Germany  geography_Spain  gender_Male  \n",
       "0                  0                0            0  \n",
       "1                  0                1            0  \n",
       "2                  0                0            0  \n",
       "3                  0                0            0  \n",
       "4                  0                1            0  "
      ]
     },
     "execution_count": 16,
     "metadata": {},
     "output_type": "execute_result"
    }
   ],
   "source": [
    "data_new = pd.get_dummies(data_new, drop_first=True)\n",
    "data_new.head()"
   ]
  },
  {
   "cell_type": "markdown",
   "metadata": {},
   "source": [
    "### Формирование выборок"
   ]
  },
  {
   "cell_type": "markdown",
   "metadata": {},
   "source": [
    "**Создадим переменную `features` со всеми признаками, кроме `exited`. Создадим переменную target с целевым признаком `exited`****Создадим переменную `features` со всеми признаками, кроме `exited`. Создадим переменную target с целевым признаком `exited`**"
   ]
  },
  {
   "cell_type": "code",
   "execution_count": 17,
   "metadata": {},
   "outputs": [],
   "source": [
    "features = data_new.drop(['exited'], axis=1)\n",
    "target = data_new['exited']"
   ]
  },
  {
   "cell_type": "markdown",
   "metadata": {},
   "source": [
    "**Разделим исходные данные на обучающую, валидационную и тестовую выборки в пропорции 3:1:1. Сначала разделяем весь набор данных один раз для выделения обучающей выборки.**"
   ]
  },
  {
   "cell_type": "code",
   "execution_count": 18,
   "metadata": {},
   "outputs": [],
   "source": [
    "features_train, features_test, target_train, target_test = train_test_split(\n",
    "    features, target, test_size=0.4, random_state=12345, stratify = target)"
   ]
  },
  {
   "cell_type": "markdown",
   "metadata": {},
   "source": [
    "**Затем разбиваем оставшиеся данные на датасеты для тестирования и валидации. Так как у нас явный перекос в сторону одного из тарифов, то воспользуемся аргументом `stratify` ,который позволит сохранить пропорции распределения в новых датасетах**"
   ]
  },
  {
   "cell_type": "code",
   "execution_count": 19,
   "metadata": {},
   "outputs": [],
   "source": [
    "features_valid, features_test, target_valid, target_test = train_test_split(\n",
    "    features_test, target_test, test_size=0.5, random_state=12345, stratify = target_test)"
   ]
  },
  {
   "cell_type": "markdown",
   "metadata": {},
   "source": [
    "*Проверим корректность разбиения*"
   ]
  },
  {
   "cell_type": "code",
   "execution_count": 20,
   "metadata": {},
   "outputs": [
    {
     "data": {
      "text/plain": [
       "(6000, 13)"
      ]
     },
     "execution_count": 20,
     "metadata": {},
     "output_type": "execute_result"
    }
   ],
   "source": [
    "features_train.shape"
   ]
  },
  {
   "cell_type": "code",
   "execution_count": 21,
   "metadata": {},
   "outputs": [
    {
     "data": {
      "text/plain": [
       "(2000, 13)"
      ]
     },
     "execution_count": 21,
     "metadata": {},
     "output_type": "execute_result"
    }
   ],
   "source": [
    "features_valid.shape"
   ]
  },
  {
   "cell_type": "code",
   "execution_count": 22,
   "metadata": {},
   "outputs": [
    {
     "data": {
      "text/plain": [
       "(2000, 13)"
      ]
     },
     "execution_count": 22,
     "metadata": {},
     "output_type": "execute_result"
    }
   ],
   "source": [
    "features_test.shape"
   ]
  },
  {
   "cell_type": "markdown",
   "metadata": {},
   "source": [
    "### Масштабирование признаков"
   ]
  },
  {
   "cell_type": "markdown",
   "metadata": {},
   "source": [
    "**В переменную `numeric` передадим численные признаки ,которые будем масштабировать**"
   ]
  },
  {
   "cell_type": "code",
   "execution_count": 26,
   "metadata": {},
   "outputs": [],
   "source": [
    "numeric = ['credit_score', 'age', 'tenure', 'balance', 'num_of_products', 'estimated_salary']"
   ]
  },
  {
   "cell_type": "markdown",
   "metadata": {},
   "source": [
    "**Создаим объект структуры StandardScaler() и настроем его на обучающих данных.**"
   ]
  },
  {
   "cell_type": "code",
   "execution_count": 27,
   "metadata": {},
   "outputs": [
    {
     "data": {
      "text/plain": [
       "StandardScaler()"
      ]
     },
     "execution_count": 27,
     "metadata": {},
     "output_type": "execute_result"
    }
   ],
   "source": [
    "scaler = StandardScaler()\n",
    "scaler.fit(features_train[numeric])"
   ]
  },
  {
   "cell_type": "markdown",
   "metadata": {},
   "source": [
    "**Масштабируем численные признаки обучающей выборки**"
   ]
  },
  {
   "cell_type": "code",
   "execution_count": 28,
   "metadata": {},
   "outputs": [
    {
     "data": {
      "text/html": [
       "<div>\n",
       "<style scoped>\n",
       "    .dataframe tbody tr th:only-of-type {\n",
       "        vertical-align: middle;\n",
       "    }\n",
       "\n",
       "    .dataframe tbody tr th {\n",
       "        vertical-align: top;\n",
       "    }\n",
       "\n",
       "    .dataframe thead th {\n",
       "        text-align: right;\n",
       "    }\n",
       "</style>\n",
       "<table border=\"1\" class=\"dataframe\">\n",
       "  <thead>\n",
       "    <tr style=\"text-align: right;\">\n",
       "      <th></th>\n",
       "      <th>row_number</th>\n",
       "      <th>customer_id</th>\n",
       "      <th>credit_score</th>\n",
       "      <th>age</th>\n",
       "      <th>tenure</th>\n",
       "      <th>balance</th>\n",
       "      <th>num_of_products</th>\n",
       "      <th>has_cr_card</th>\n",
       "      <th>is_active_member</th>\n",
       "      <th>estimated_salary</th>\n",
       "      <th>geography_Germany</th>\n",
       "      <th>geography_Spain</th>\n",
       "      <th>gender_Male</th>\n",
       "    </tr>\n",
       "  </thead>\n",
       "  <tbody>\n",
       "    <tr>\n",
       "      <th>2837</th>\n",
       "      <td>2838</td>\n",
       "      <td>15703059</td>\n",
       "      <td>-1.040434</td>\n",
       "      <td>0.953312</td>\n",
       "      <td>0.467449</td>\n",
       "      <td>0.774657</td>\n",
       "      <td>-0.914708</td>\n",
       "      <td>0</td>\n",
       "      <td>1</td>\n",
       "      <td>-0.119110</td>\n",
       "      <td>1</td>\n",
       "      <td>0</td>\n",
       "      <td>0</td>\n",
       "    </tr>\n",
       "    <tr>\n",
       "      <th>9925</th>\n",
       "      <td>9926</td>\n",
       "      <td>15605672</td>\n",
       "      <td>0.454006</td>\n",
       "      <td>-0.095244</td>\n",
       "      <td>-1.461501</td>\n",
       "      <td>1.910540</td>\n",
       "      <td>-0.914708</td>\n",
       "      <td>1</td>\n",
       "      <td>1</td>\n",
       "      <td>-0.258658</td>\n",
       "      <td>0</td>\n",
       "      <td>0</td>\n",
       "      <td>0</td>\n",
       "    </tr>\n",
       "    <tr>\n",
       "      <th>8746</th>\n",
       "      <td>8747</td>\n",
       "      <td>15577905</td>\n",
       "      <td>0.103585</td>\n",
       "      <td>-0.476537</td>\n",
       "      <td>1.110432</td>\n",
       "      <td>0.481608</td>\n",
       "      <td>0.820981</td>\n",
       "      <td>0</td>\n",
       "      <td>1</td>\n",
       "      <td>1.422836</td>\n",
       "      <td>0</td>\n",
       "      <td>0</td>\n",
       "      <td>1</td>\n",
       "    </tr>\n",
       "    <tr>\n",
       "      <th>660</th>\n",
       "      <td>661</td>\n",
       "      <td>15592937</td>\n",
       "      <td>-0.184996</td>\n",
       "      <td>0.190726</td>\n",
       "      <td>-1.461501</td>\n",
       "      <td>0.088439</td>\n",
       "      <td>-0.914708</td>\n",
       "      <td>1</td>\n",
       "      <td>1</td>\n",
       "      <td>-1.160427</td>\n",
       "      <td>1</td>\n",
       "      <td>0</td>\n",
       "      <td>0</td>\n",
       "    </tr>\n",
       "    <tr>\n",
       "      <th>3610</th>\n",
       "      <td>3611</td>\n",
       "      <td>15711716</td>\n",
       "      <td>-0.720933</td>\n",
       "      <td>1.620574</td>\n",
       "      <td>-1.140009</td>\n",
       "      <td>0.879129</td>\n",
       "      <td>-0.914708</td>\n",
       "      <td>1</td>\n",
       "      <td>0</td>\n",
       "      <td>0.113236</td>\n",
       "      <td>0</td>\n",
       "      <td>0</td>\n",
       "      <td>0</td>\n",
       "    </tr>\n",
       "  </tbody>\n",
       "</table>\n",
       "</div>"
      ],
      "text/plain": [
       "      row_number  customer_id  credit_score       age    tenure   balance  \\\n",
       "2837        2838     15703059     -1.040434  0.953312  0.467449  0.774657   \n",
       "9925        9926     15605672      0.454006 -0.095244 -1.461501  1.910540   \n",
       "8746        8747     15577905      0.103585 -0.476537  1.110432  0.481608   \n",
       "660          661     15592937     -0.184996  0.190726 -1.461501  0.088439   \n",
       "3610        3611     15711716     -0.720933  1.620574 -1.140009  0.879129   \n",
       "\n",
       "      num_of_products  has_cr_card  is_active_member  estimated_salary  \\\n",
       "2837        -0.914708            0                 1         -0.119110   \n",
       "9925        -0.914708            1                 1         -0.258658   \n",
       "8746         0.820981            0                 1          1.422836   \n",
       "660         -0.914708            1                 1         -1.160427   \n",
       "3610        -0.914708            1                 0          0.113236   \n",
       "\n",
       "      geography_Germany  geography_Spain  gender_Male  \n",
       "2837                  1                0            0  \n",
       "9925                  0                0            0  \n",
       "8746                  0                0            1  \n",
       "660                   1                0            0  \n",
       "3610                  0                0            0  "
      ]
     },
     "execution_count": 28,
     "metadata": {},
     "output_type": "execute_result"
    }
   ],
   "source": [
    "features_train[numeric] = scaler.transform(features_train[numeric])\n",
    "features_train.head()"
   ]
  },
  {
   "cell_type": "markdown",
   "metadata": {},
   "source": [
    "**Масштабируем численные признаки валидационной выборки**"
   ]
  },
  {
   "cell_type": "code",
   "execution_count": 29,
   "metadata": {},
   "outputs": [
    {
     "data": {
      "text/html": [
       "<div>\n",
       "<style scoped>\n",
       "    .dataframe tbody tr th:only-of-type {\n",
       "        vertical-align: middle;\n",
       "    }\n",
       "\n",
       "    .dataframe tbody tr th {\n",
       "        vertical-align: top;\n",
       "    }\n",
       "\n",
       "    .dataframe thead th {\n",
       "        text-align: right;\n",
       "    }\n",
       "</style>\n",
       "<table border=\"1\" class=\"dataframe\">\n",
       "  <thead>\n",
       "    <tr style=\"text-align: right;\">\n",
       "      <th></th>\n",
       "      <th>row_number</th>\n",
       "      <th>customer_id</th>\n",
       "      <th>credit_score</th>\n",
       "      <th>age</th>\n",
       "      <th>tenure</th>\n",
       "      <th>balance</th>\n",
       "      <th>num_of_products</th>\n",
       "      <th>has_cr_card</th>\n",
       "      <th>is_active_member</th>\n",
       "      <th>estimated_salary</th>\n",
       "      <th>geography_Germany</th>\n",
       "      <th>geography_Spain</th>\n",
       "      <th>gender_Male</th>\n",
       "    </tr>\n",
       "  </thead>\n",
       "  <tbody>\n",
       "    <tr>\n",
       "      <th>6612</th>\n",
       "      <td>6613</td>\n",
       "      <td>15615938</td>\n",
       "      <td>-1.524838</td>\n",
       "      <td>2.383160</td>\n",
       "      <td>-0.497026</td>\n",
       "      <td>1.011655</td>\n",
       "      <td>-0.914708</td>\n",
       "      <td>0</td>\n",
       "      <td>1</td>\n",
       "      <td>0.010275</td>\n",
       "      <td>0</td>\n",
       "      <td>0</td>\n",
       "      <td>0</td>\n",
       "    </tr>\n",
       "    <tr>\n",
       "      <th>519</th>\n",
       "      <td>520</td>\n",
       "      <td>15745417</td>\n",
       "      <td>0.587990</td>\n",
       "      <td>1.811221</td>\n",
       "      <td>0.467449</td>\n",
       "      <td>0.213192</td>\n",
       "      <td>-0.914708</td>\n",
       "      <td>0</td>\n",
       "      <td>1</td>\n",
       "      <td>0.453089</td>\n",
       "      <td>0</td>\n",
       "      <td>0</td>\n",
       "      <td>1</td>\n",
       "    </tr>\n",
       "    <tr>\n",
       "      <th>1609</th>\n",
       "      <td>1610</td>\n",
       "      <td>15750248</td>\n",
       "      <td>-0.318980</td>\n",
       "      <td>-0.381213</td>\n",
       "      <td>1.110432</td>\n",
       "      <td>0.893896</td>\n",
       "      <td>-0.914708</td>\n",
       "      <td>1</td>\n",
       "      <td>0</td>\n",
       "      <td>-0.603508</td>\n",
       "      <td>0</td>\n",
       "      <td>0</td>\n",
       "      <td>0</td>\n",
       "    </tr>\n",
       "    <tr>\n",
       "      <th>3475</th>\n",
       "      <td>3476</td>\n",
       "      <td>15770554</td>\n",
       "      <td>1.226991</td>\n",
       "      <td>-0.762506</td>\n",
       "      <td>-0.175534</td>\n",
       "      <td>-0.240363</td>\n",
       "      <td>0.820981</td>\n",
       "      <td>1</td>\n",
       "      <td>1</td>\n",
       "      <td>-1.621460</td>\n",
       "      <td>0</td>\n",
       "      <td>0</td>\n",
       "      <td>1</td>\n",
       "    </tr>\n",
       "    <tr>\n",
       "      <th>2707</th>\n",
       "      <td>2708</td>\n",
       "      <td>15628203</td>\n",
       "      <td>-0.133464</td>\n",
       "      <td>-0.095244</td>\n",
       "      <td>-0.497026</td>\n",
       "      <td>0.447305</td>\n",
       "      <td>-0.914708</td>\n",
       "      <td>0</td>\n",
       "      <td>0</td>\n",
       "      <td>0.338574</td>\n",
       "      <td>0</td>\n",
       "      <td>0</td>\n",
       "      <td>0</td>\n",
       "    </tr>\n",
       "  </tbody>\n",
       "</table>\n",
       "</div>"
      ],
      "text/plain": [
       "      row_number  customer_id  credit_score       age    tenure   balance  \\\n",
       "6612        6613     15615938     -1.524838  2.383160 -0.497026  1.011655   \n",
       "519          520     15745417      0.587990  1.811221  0.467449  0.213192   \n",
       "1609        1610     15750248     -0.318980 -0.381213  1.110432  0.893896   \n",
       "3475        3476     15770554      1.226991 -0.762506 -0.175534 -0.240363   \n",
       "2707        2708     15628203     -0.133464 -0.095244 -0.497026  0.447305   \n",
       "\n",
       "      num_of_products  has_cr_card  is_active_member  estimated_salary  \\\n",
       "6612        -0.914708            0                 1          0.010275   \n",
       "519         -0.914708            0                 1          0.453089   \n",
       "1609        -0.914708            1                 0         -0.603508   \n",
       "3475         0.820981            1                 1         -1.621460   \n",
       "2707        -0.914708            0                 0          0.338574   \n",
       "\n",
       "      geography_Germany  geography_Spain  gender_Male  \n",
       "6612                  0                0            0  \n",
       "519                   0                0            1  \n",
       "1609                  0                0            0  \n",
       "3475                  0                0            1  \n",
       "2707                  0                0            0  "
      ]
     },
     "execution_count": 29,
     "metadata": {},
     "output_type": "execute_result"
    }
   ],
   "source": [
    "features_valid[numeric] = scaler.transform(features_valid[numeric])\n",
    "features_valid.head()"
   ]
  },
  {
   "cell_type": "markdown",
   "metadata": {},
   "source": [
    "**Масштабируем численные признаки тестовой выборки**"
   ]
  },
  {
   "cell_type": "code",
   "execution_count": 30,
   "metadata": {},
   "outputs": [
    {
     "data": {
      "text/html": [
       "<div>\n",
       "<style scoped>\n",
       "    .dataframe tbody tr th:only-of-type {\n",
       "        vertical-align: middle;\n",
       "    }\n",
       "\n",
       "    .dataframe tbody tr th {\n",
       "        vertical-align: top;\n",
       "    }\n",
       "\n",
       "    .dataframe thead th {\n",
       "        text-align: right;\n",
       "    }\n",
       "</style>\n",
       "<table border=\"1\" class=\"dataframe\">\n",
       "  <thead>\n",
       "    <tr style=\"text-align: right;\">\n",
       "      <th></th>\n",
       "      <th>row_number</th>\n",
       "      <th>customer_id</th>\n",
       "      <th>credit_score</th>\n",
       "      <th>age</th>\n",
       "      <th>tenure</th>\n",
       "      <th>balance</th>\n",
       "      <th>num_of_products</th>\n",
       "      <th>has_cr_card</th>\n",
       "      <th>is_active_member</th>\n",
       "      <th>estimated_salary</th>\n",
       "      <th>geography_Germany</th>\n",
       "      <th>geography_Spain</th>\n",
       "      <th>gender_Male</th>\n",
       "    </tr>\n",
       "  </thead>\n",
       "  <tbody>\n",
       "    <tr>\n",
       "      <th>657</th>\n",
       "      <td>658</td>\n",
       "      <td>15698474</td>\n",
       "      <td>-0.504497</td>\n",
       "      <td>1.429928</td>\n",
       "      <td>-1.140009</td>\n",
       "      <td>0.873883</td>\n",
       "      <td>0.820981</td>\n",
       "      <td>1</td>\n",
       "      <td>1</td>\n",
       "      <td>1.725255</td>\n",
       "      <td>1</td>\n",
       "      <td>0</td>\n",
       "      <td>0</td>\n",
       "    </tr>\n",
       "    <tr>\n",
       "      <th>2083</th>\n",
       "      <td>2084</td>\n",
       "      <td>15779738</td>\n",
       "      <td>-1.195031</td>\n",
       "      <td>-1.429769</td>\n",
       "      <td>-1.140009</td>\n",
       "      <td>-1.219673</td>\n",
       "      <td>-0.914708</td>\n",
       "      <td>1</td>\n",
       "      <td>1</td>\n",
       "      <td>1.203665</td>\n",
       "      <td>0</td>\n",
       "      <td>0</td>\n",
       "      <td>1</td>\n",
       "    </tr>\n",
       "    <tr>\n",
       "      <th>3234</th>\n",
       "      <td>3235</td>\n",
       "      <td>15664907</td>\n",
       "      <td>-1.267176</td>\n",
       "      <td>0.762665</td>\n",
       "      <td>-1.140009</td>\n",
       "      <td>-1.219673</td>\n",
       "      <td>-0.914708</td>\n",
       "      <td>1</td>\n",
       "      <td>0</td>\n",
       "      <td>-1.374743</td>\n",
       "      <td>0</td>\n",
       "      <td>0</td>\n",
       "      <td>1</td>\n",
       "    </tr>\n",
       "    <tr>\n",
       "      <th>1551</th>\n",
       "      <td>1552</td>\n",
       "      <td>15749177</td>\n",
       "      <td>0.825039</td>\n",
       "      <td>1.239281</td>\n",
       "      <td>0.788940</td>\n",
       "      <td>-1.219673</td>\n",
       "      <td>0.820981</td>\n",
       "      <td>0</td>\n",
       "      <td>1</td>\n",
       "      <td>0.382306</td>\n",
       "      <td>0</td>\n",
       "      <td>1</td>\n",
       "      <td>0</td>\n",
       "    </tr>\n",
       "    <tr>\n",
       "      <th>2344</th>\n",
       "      <td>2345</td>\n",
       "      <td>15642345</td>\n",
       "      <td>0.660135</td>\n",
       "      <td>0.953312</td>\n",
       "      <td>-0.175534</td>\n",
       "      <td>0.267087</td>\n",
       "      <td>-0.914708</td>\n",
       "      <td>1</td>\n",
       "      <td>0</td>\n",
       "      <td>-1.613578</td>\n",
       "      <td>1</td>\n",
       "      <td>0</td>\n",
       "      <td>0</td>\n",
       "    </tr>\n",
       "  </tbody>\n",
       "</table>\n",
       "</div>"
      ],
      "text/plain": [
       "      row_number  customer_id  credit_score       age    tenure   balance  \\\n",
       "657          658     15698474     -0.504497  1.429928 -1.140009  0.873883   \n",
       "2083        2084     15779738     -1.195031 -1.429769 -1.140009 -1.219673   \n",
       "3234        3235     15664907     -1.267176  0.762665 -1.140009 -1.219673   \n",
       "1551        1552     15749177      0.825039  1.239281  0.788940 -1.219673   \n",
       "2344        2345     15642345      0.660135  0.953312 -0.175534  0.267087   \n",
       "\n",
       "      num_of_products  has_cr_card  is_active_member  estimated_salary  \\\n",
       "657          0.820981            1                 1          1.725255   \n",
       "2083        -0.914708            1                 1          1.203665   \n",
       "3234        -0.914708            1                 0         -1.374743   \n",
       "1551         0.820981            0                 1          0.382306   \n",
       "2344        -0.914708            1                 0         -1.613578   \n",
       "\n",
       "      geography_Germany  geography_Spain  gender_Male  \n",
       "657                   1                0            0  \n",
       "2083                  0                0            1  \n",
       "3234                  0                0            1  \n",
       "1551                  0                1            0  \n",
       "2344                  1                0            0  "
      ]
     },
     "execution_count": 30,
     "metadata": {},
     "output_type": "execute_result"
    }
   ],
   "source": [
    "features_test[numeric] = scaler.transform(features_test[numeric])\n",
    "features_test.head()"
   ]
  },
  {
   "cell_type": "markdown",
   "metadata": {},
   "source": [
    "**Мы подготовили все данные, выявили целевой признак, применили к каткгориальным признаком метод ОНЕ, чтобы избежать дамми-ловушку, также произвели масштабирование численных признаков и разделили наш датасет на тренировочную, валидационную и тестовую выборки. Теперь мы можем переходить к исследованию задачи**"
   ]
  },
  {
   "cell_type": "markdown",
   "metadata": {},
   "source": [
    "## Исследование задачи"
   ]
  },
  {
   "cell_type": "markdown",
   "metadata": {},
   "source": [
    "### Решающее дерево"
   ]
  },
  {
   "cell_type": "markdown",
   "metadata": {},
   "source": [
    "**Рассмотрим модель обучения \"решающее дерево\". Попробуем разные значения одного параметра — максимальной глубины, max_depth. от 1 до 5 и выведем макисмальный Accuracy на экран**"
   ]
  },
  {
   "cell_type": "code",
   "execution_count": 31,
   "metadata": {},
   "outputs": [
    {
     "name": "stdout",
     "output_type": "stream",
     "text": [
      "Accuracy лучшей модели: 0.857\n",
      "DecisionTreeClassifier(max_depth=5, random_state=12345)\n"
     ]
    }
   ],
   "source": [
    "best_model_dt = None\n",
    "best_result_dt = 0\n",
    "train_accuracy_dt = [] #создадим списко в которой будем вносить качество модели на train датасете\n",
    "valid_accuracy_dt = [] #создадим списко в которой будем вносить качество модели на validation датасете\n",
    "for depth in range(1, 6):\n",
    "    model = DecisionTreeClassifier(random_state=12345, max_depth=depth) \n",
    "    model.fit(features_train, target_train) \n",
    "    predictions = model.predict(features_valid) \n",
    "    result_train = model.score(features_train, target_train)\n",
    "    result = accuracy_score(target_valid, predictions) # посчитаем качество модели\n",
    "    train_accuracy_dt.append(result_train)\n",
    "    valid_accuracy_dt.append(result)\n",
    "    if result > best_result_dt:\n",
    "        best_model_dt = model\n",
    "        best_result_dt = result\n",
    "        \n",
    "print(\"Accuracy лучшей модели:\", best_result_dt)\n",
    "print(best_model_dt)\n"
   ]
  },
  {
   "cell_type": "markdown",
   "metadata": {},
   "source": [
    "**Построим графики, которые покажут зависимость accuracy от параметра max_depth для на train и validation датасетов**"
   ]
  },
  {
   "cell_type": "code",
   "execution_count": 32,
   "metadata": {
    "scrolled": false
   },
   "outputs": [
    {
     "data": {
      "image/png": "[encoded data removed]",
      "text/plain": [
       "<Figure size 1080x720 with 1 Axes>"
      ]
     },
     "metadata": {
      "needs_background": "light"
     },
     "output_type": "display_data"
    }
   ],
   "source": [
    "depth = [1,2,3,4,5]\n",
    "plt.figure(figsize=(15, 10))\n",
    "plt.plot(depth, train_accuracy_dt, label = 'train')\n",
    "plt.plot(depth, valid_accuracy_dt, label = 'valid')\n",
    "plt.legend(loc='upper left', frameon=False)\n",
    "plt.xticks([1,2,3,4,5])\n",
    "plt.xlabel('Depth') \n",
    "plt.ylabel('Accuracy') \n",
    "plt.title('Дерево решений')\n",
    "plt.show()\n"
   ]
  },
  {
   "cell_type": "markdown",
   "metadata": {},
   "source": [
    "*метрика на валидации еще не стала однозначна падать, это значит можно попробовать взять глубину побольше. Проверим параметр max_depth. от 1 до 10*"
   ]
  },
  {
   "cell_type": "code",
   "execution_count": 33,
   "metadata": {},
   "outputs": [
    {
     "name": "stdout",
     "output_type": "stream",
     "text": [
      "Accuracy лучшей модели: 0.8595\n",
      "DecisionTreeClassifier(max_depth=6, random_state=12345)\n"
     ]
    }
   ],
   "source": [
    "best_model_dt = None\n",
    "best_result_dt = 0\n",
    "train_accuracy_dt = [] \n",
    "valid_accuracy_dt = [] \n",
    "for depth in range(1, 11):\n",
    "    model = DecisionTreeClassifier(random_state=12345, max_depth=depth) \n",
    "    model.fit(features_train, target_train) \n",
    "    predictions = model.predict(features_valid) \n",
    "    result_train = model.score(features_train, target_train)\n",
    "    result = accuracy_score(target_valid, predictions) \n",
    "    train_accuracy_dt.append(result_train)\n",
    "    valid_accuracy_dt.append(result)\n",
    "    if result > best_result_dt:\n",
    "        best_model_dt = model\n",
    "        best_result_dt = result\n",
    "        \n",
    "print(\"Accuracy лучшей модели:\", best_result_dt)\n",
    "print(best_model_dt)\n"
   ]
  },
  {
   "cell_type": "markdown",
   "metadata": {},
   "source": [
    "*Еще раз посмотрим на график*"
   ]
  },
  {
   "cell_type": "code",
   "execution_count": 34,
   "metadata": {},
   "outputs": [
    {
     "data": {
      "image/png": "[encoded data removed]",
      "text/plain": [
       "<Figure size 1080x720 with 1 Axes>"
      ]
     },
     "metadata": {
      "needs_background": "light"
     },
     "output_type": "display_data"
    }
   ],
   "source": [
    "depth = [1,2,3,4,5,6,7,8,9,10]\n",
    "plt.figure(figsize=(15, 10))\n",
    "plt.plot(depth, train_accuracy_dt, label = 'train')\n",
    "plt.plot(depth, valid_accuracy_dt, label = 'valid')\n",
    "plt.legend(loc='upper left', frameon=False)\n",
    "plt.xticks([1,2,3,4,5,6,7,8,9,10])\n",
    "plt.xlabel('Depth') \n",
    "plt.ylabel('Accuracy') \n",
    "plt.title('Дерево решений')\n",
    "plt.show()\n"
   ]
  },
  {
   "cell_type": "markdown",
   "metadata": {},
   "source": [
    "**Мы видим, что после значения max_depth = 6 метрика на валидационной модели начинает падать, значит модель переобучается, следовательнро оптимальное значение max_depth = 6**"
   ]
  },
  {
   "cell_type": "markdown",
   "metadata": {},
   "source": [
    "### Случаный лес"
   ]
  },
  {
   "cell_type": "markdown",
   "metadata": {},
   "source": [
    "*Попробуем новый алгоритм классификации — `случайный лес`. Алгоритм обучает большое количество независимых друг от друга деревьев, а потом принимает решение на основе голосования. Случайный лес помогает улучшить результат предсказания и избежать переобучения. Для построения модели возьмем следующие гипперпараметры:*\n",
    "Количество деревьев `n_estimators`: от 10 до 50 с шагом 10\n",
    "Макисмальная глубина `max_depth` от 0 до 10\n",
    "Минимальное количество выборок, которые должен содержать внутренний узел для разделения на другие узлы `min_samples_split` от 2 до 6"
   ]
  },
  {
   "cell_type": "code",
   "execution_count": 35,
   "metadata": {},
   "outputs": [
    {
     "name": "stdout",
     "output_type": "stream",
     "text": [
      "Accuracy наилучшей модели на валидационной выборке: 0.8675\n",
      "RandomForestClassifier(max_depth=8, n_estimators=30, random_state=12345)\n",
      "CPU times: total: 39.1 s\n",
      "Wall time: 39.4 s\n"
     ]
    }
   ],
   "source": [
    "%%time\n",
    "best_model_rf = None\n",
    "best_result_rf = 0\n",
    "\n",
    "for est in range(10, 51, 10):\n",
    "     for depth in range (1, 11):\n",
    "            for samples_split in range (2, 7):\n",
    "                model = RandomForestClassifier(random_state=12345, n_estimators=est, max_depth=depth, min_samples_split = samples_split)\n",
    "                model.fit(features_train, target_train) # обучаем модель на тренировочной выборке\n",
    "                result = model.score(features_valid, target_valid) # посчитаем качество модели на валидационной выборке\n",
    "                if result > best_result_rf:\n",
    "                    best_model_rf = model # сохраняем наилучшую модель\n",
    "                    best_result_rf =  result #  сохраняем наилучшее значение метрики accuracy на валидационных данных\n",
    "\n",
    "print(\"Accuracy наилучшей модели на валидационной выборке:\", best_result_rf)\n",
    "print(best_model_rf)"
   ]
  },
  {
   "cell_type": "markdown",
   "metadata": {},
   "source": [
    "### Логистическая регрессия"
   ]
  },
  {
   "cell_type": "markdown",
   "metadata": {},
   "source": [
    "*Обучим модель логической регрессии и посмотрим долю правильных ответов*"
   ]
  },
  {
   "cell_type": "code",
   "execution_count": 36,
   "metadata": {},
   "outputs": [
    {
     "name": "stdout",
     "output_type": "stream",
     "text": [
      "Accuracy модели обученной лдогической регрессии: 0.796\n"
     ]
    }
   ],
   "source": [
    "model = LogisticRegression(solver='liblinear', class_weight='balanced')\n",
    "\n",
    "model.fit(features, target)\n",
    "result = model.score(features_valid, target_valid)\n",
    "print(\"Accuracy модели обученной лдогической регрессии:\", result)"
   ]
  },
  {
   "cell_type": "markdown",
   "metadata": {},
   "source": [
    "# Мы исследовали качества трех разных моделей: решающее дерево, случайный лес и логическая регрессия. В результате лучший `accuracy` показала модель случайный лес со следующими гипперпараметрами: max_depth=8, n_estimators=30 #"
   ]
  },
  {
   "cell_type": "markdown",
   "metadata": {},
   "source": [
    "### Проверка датасета на сбалансированность"
   ]
  },
  {
   "cell_type": "markdown",
   "metadata": {},
   "source": [
    "*Проверим датасет на сбалансированность*"
   ]
  },
  {
   "cell_type": "code",
   "execution_count": 37,
   "metadata": {},
   "outputs": [
    {
     "data": {
      "text/plain": [
       "0    0.7963\n",
       "1    0.2037\n",
       "Name: exited, dtype: float64"
      ]
     },
     "execution_count": 37,
     "metadata": {},
     "output_type": "execute_result"
    }
   ],
   "source": [
    "data_new['exited'].value_counts(normalize=1)"
   ]
  },
  {
   "cell_type": "markdown",
   "metadata": {},
   "source": [
    "**Мы видим, что почти 80% значений 0, наблюдается явный дисбаланс.**"
   ]
  },
  {
   "cell_type": "markdown",
   "metadata": {},
   "source": [
    "*Проанализируем частоты классов в результатах предсказаний*"
   ]
  },
  {
   "cell_type": "markdown",
   "metadata": {},
   "source": [
    "**Для дерева решений:**"
   ]
  },
  {
   "cell_type": "code",
   "execution_count": 38,
   "metadata": {},
   "outputs": [
    {
     "data": {
      "text/plain": [
       "0    0.8765\n",
       "1    0.1235\n",
       "dtype: float64"
      ]
     },
     "execution_count": 38,
     "metadata": {},
     "output_type": "execute_result"
    }
   ],
   "source": [
    "model_DTC = DecisionTreeClassifier(random_state=12345, max_depth=6) # обучите модель с заданной глубиной дерева\n",
    "model_DTC.fit(features_train, target_train)\n",
    "DTC_frequency = pd.Series(model_DTC.predict(features_valid)).value_counts(normalize=True)\n",
    "DTC_frequency"
   ]
  },
  {
   "cell_type": "markdown",
   "metadata": {},
   "source": [
    "**Случайный лес:**"
   ]
  },
  {
   "cell_type": "code",
   "execution_count": 39,
   "metadata": {},
   "outputs": [
    {
     "data": {
      "text/plain": [
       "0    0.8895\n",
       "1    0.1105\n",
       "dtype: float64"
      ]
     },
     "execution_count": 39,
     "metadata": {},
     "output_type": "execute_result"
    }
   ],
   "source": [
    "model_RFC = RandomForestClassifier(random_state=12345, n_estimators=30, max_depth=8, min_samples_split = 6)\n",
    "model_RFC.fit(features_train, target_train)\n",
    "RFC_frequency = pd.Series(model_RFC.predict(features_valid)).value_counts(normalize=True)\n",
    "RFC_frequency"
   ]
  },
  {
   "cell_type": "markdown",
   "metadata": {},
   "source": [
    "**Логистическая регрессия:**"
   ]
  },
  {
   "cell_type": "code",
   "execution_count": 40,
   "metadata": {},
   "outputs": [
    {
     "data": {
      "text/plain": [
       "0    1.0\n",
       "dtype: float64"
      ]
     },
     "execution_count": 40,
     "metadata": {},
     "output_type": "execute_result"
    }
   ],
   "source": [
    "model_LR = LogisticRegression(solver='liblinear', class_weight='balanced')\n",
    "model_LR.fit(features, target)\n",
    "LR_frequency = pd.Series(model_LR.predict(features_valid)).value_counts(normalize=True)\n",
    "LR_frequency"
   ]
  },
  {
   "cell_type": "markdown",
   "metadata": {},
   "source": [
    "**Во всех моделях преобладает параметр 0, а логистическая регрессия и вовсе выдает одинаковый результат**"
   ]
  },
  {
   "cell_type": "markdown",
   "metadata": {},
   "source": [
    "### Проверка модели на адекватность"
   ]
  },
  {
   "cell_type": "markdown",
   "metadata": {},
   "source": [
    "**Проверим модель на адекватность**"
   ]
  },
  {
   "cell_type": "markdown",
   "metadata": {},
   "source": [
    "**Так как у нас явный перекос в пользу 0, то для проверки на адекватность сравним точность нашей модели с baseline моделью, которая всегда предсказывает наиболее частовстречающийся класс**"
   ]
  },
  {
   "cell_type": "code",
   "execution_count": 41,
   "metadata": {},
   "outputs": [
    {
     "name": "stdout",
     "output_type": "stream",
     "text": [
      "Accuracy модели на тестовой выборке: 0.7965\n"
     ]
    }
   ],
   "source": [
    "dummy_clf = DummyClassifier(strategy=\"most_frequent\", random_state=0)\n",
    "dummy_clf.fit(features_train, target_train)\n",
    "result_dummy = dummy_clf.score(features_test, target_test)\n",
    "print(\"Accuracy модели на тестовой выборке:\", result_dummy)"
   ]
  },
  {
   "cell_type": "markdown",
   "metadata": {},
   "source": [
    "**Изучим матрицу ошибок для каждой модели**"
   ]
  },
  {
   "cell_type": "code",
   "execution_count": 42,
   "metadata": {},
   "outputs": [
    {
     "data": {
      "text/plain": [
       "array([[1532,   60],\n",
       "       [ 221,  187]], dtype=int64)"
      ]
     },
     "execution_count": 42,
     "metadata": {},
     "output_type": "execute_result"
    }
   ],
   "source": [
    "#Матрица для дерева решений\n",
    "prediction_DTC = model_DTC.predict(features_valid)\n",
    "confusion_matrix(target_valid, prediction_DTC)"
   ]
  },
  {
   "cell_type": "markdown",
   "metadata": {},
   "source": [
    "*Мы видим, что модель выдает много ложно отрицательных ответов*"
   ]
  },
  {
   "cell_type": "markdown",
   "metadata": {},
   "source": [
    "*Рассчитаем полноту, точность, F1-меру и параметр AUC-ROC*"
   ]
  },
  {
   "cell_type": "code",
   "execution_count": 43,
   "metadata": {},
   "outputs": [
    {
     "name": "stdout",
     "output_type": "stream",
     "text": [
      "Полнота 0.4583333333333333\n",
      "Точность 0.757085020242915\n",
      "F1-мера 0.5709923664122136\n",
      "AUC-ROC 0.710322445561139\n"
     ]
    }
   ],
   "source": [
    "print(\"Полнота\" , recall_score(target_valid, prediction_DTC))\n",
    "print(\"Точность\", precision_score(target_valid, prediction_DTC))\n",
    "print(\"F1-мера\", f1_score(target_valid, prediction_DTC))\n",
    "print(\"AUC-ROC\", roc_auc_score(target_valid, prediction_DTC))"
   ]
  },
  {
   "cell_type": "markdown",
   "metadata": {},
   "source": [
    "**Значение F1-меры ниже порогового, что свидетельствует о низком качестве модели**"
   ]
  },
  {
   "cell_type": "code",
   "execution_count": 44,
   "metadata": {},
   "outputs": [
    {
     "data": {
      "text/plain": [
       "array([[1546,   46],\n",
       "       [ 233,  175]], dtype=int64)"
      ]
     },
     "execution_count": 44,
     "metadata": {},
     "output_type": "execute_result"
    }
   ],
   "source": [
    "#Матрица для случайного леса\n",
    "prediction_RFC = model_RFC.predict(features_valid)\n",
    "confusion_matrix(target_valid, prediction_RFC)"
   ]
  },
  {
   "cell_type": "markdown",
   "metadata": {},
   "source": [
    "У модели случайного леса так же большое количестов ложноотрицательных ответов"
   ]
  },
  {
   "cell_type": "markdown",
   "metadata": {},
   "source": [
    "Рассчитаем полноту, точность, F1-меру и параметр AUC-ROC"
   ]
  },
  {
   "cell_type": "code",
   "execution_count": 45,
   "metadata": {},
   "outputs": [
    {
     "name": "stdout",
     "output_type": "stream",
     "text": [
      "Полнота 0.42892156862745096\n",
      "Точность 0.7918552036199095\n",
      "F1-мера 0.5564387917329094\n",
      "AUC-ROC 0.7000135481328209\n"
     ]
    }
   ],
   "source": [
    "print(\"Полнота\" , recall_score(target_valid, prediction_RFC))\n",
    "print(\"Точность\", precision_score(target_valid, prediction_RFC))\n",
    "print(\"F1-мера\", f1_score(target_valid, prediction_RFC))\n",
    "print(\"AUC-ROC\", roc_auc_score(target_valid, prediction_RFC))"
   ]
  },
  {
   "cell_type": "markdown",
   "metadata": {},
   "source": [
    "**Значение F1-меры ниже порогового, что свидетельствует о низком качестве модели**"
   ]
  },
  {
   "cell_type": "code",
   "execution_count": 46,
   "metadata": {},
   "outputs": [
    {
     "data": {
      "text/plain": [
       "array([[1592,    0],\n",
       "       [ 408,    0]], dtype=int64)"
      ]
     },
     "execution_count": 46,
     "metadata": {},
     "output_type": "execute_result"
    }
   ],
   "source": [
    "#Матрица для логистической регрессии\n",
    "prediction_LR = model_LR.predict(features_valid)\n",
    "confusion_matrix(target_valid, prediction_LR)"
   ]
  },
  {
   "cell_type": "markdown",
   "metadata": {},
   "source": [
    "*Так как логистическая регрессия выдает только значения 0, то у нее отсутствуют, прогнозы FP и TP*"
   ]
  },
  {
   "cell_type": "markdown",
   "metadata": {},
   "source": [
    "***В результате исследования мы выявили, что в выборке наблюдается значительный дисбаланс ( почти 80% ответов целевого признака были негативными и только 20% позитивными), из-за чего значения полноты и F-1 метрики во всех довольно низкие и не подходят под условие задачи.***"
   ]
  },
  {
   "cell_type": "markdown",
   "metadata": {},
   "source": [
    "**Перейдем к формированию сбалансированных выборок, чтобу улучшить точность прогноза**"
   ]
  },
  {
   "cell_type": "markdown",
   "metadata": {},
   "source": [
    "## Борьба с дисбалансом"
   ]
  },
  {
   "cell_type": "markdown",
   "metadata": {},
   "source": [
    "### Увеличение выборки"
   ]
  },
  {
   "cell_type": "markdown",
   "metadata": {},
   "source": [
    "Так как у нас в в выборке отрицательных ответов примерно 80%, а положительных примерно 20%, то для достижения баланса увеличим количество положительных ответов в 4 раза"
   ]
  },
  {
   "cell_type": "code",
   "execution_count": 47,
   "metadata": {},
   "outputs": [
    {
     "data": {
      "text/plain": [
       "<AxesSubplot:ylabel='Frequency'>"
      ]
     },
     "execution_count": 47,
     "metadata": {},
     "output_type": "execute_result"
    },
    {
     "data": {
      "image/png": "[encoded data removed]",
      "text/plain": [
       "<Figure size 144x144 with 1 Axes>"
      ]
     },
     "metadata": {
      "needs_background": "light"
     },
     "output_type": "display_data"
    }
   ],
   "source": [
    "def upsample(features, target, repeat):\n",
    "    features_zeros = features[target == 0]\n",
    "    features_ones = features[target == 1]\n",
    "    target_zeros = target[target == 0]\n",
    "    target_ones = target[target == 1]\n",
    "\n",
    "    features_upsampled = pd.concat([features_zeros] + [features_ones] * repeat)\n",
    "    target_upsampled = pd.concat([target_zeros] + [target_ones] * repeat)\n",
    "    \n",
    "    features_upsampled, target_upsampled = shuffle(\n",
    "        features_upsampled, target_upsampled, random_state=12345)\n",
    "    \n",
    "    return features_upsampled, target_upsampled\n",
    "\n",
    "features_upsampled, target_upsampled = upsample(features_train, target_train, 4)\n",
    "target_upsampled.plot(kind='hist', bins = 2, figsize = (2,2)) # на гистограмме проверим получившуюся выборку"
   ]
  },
  {
   "cell_type": "markdown",
   "metadata": {},
   "source": [
    "*Мы получили сбалансрованное количество классов. Обучим модели на новых данных*"
   ]
  },
  {
   "cell_type": "markdown",
   "metadata": {},
   "source": [
    "**Дерево решений:**"
   ]
  },
  {
   "cell_type": "code",
   "execution_count": 48,
   "metadata": {},
   "outputs": [
    {
     "name": "stdout",
     "output_type": "stream",
     "text": [
      "accuracy_score 0.7635\n",
      "Полнота 0.7549019607843137\n",
      "Точность 0.4522760646108664\n",
      "F1-мера 0.5656565656565657\n",
      "AUC-ROC 0.7603027391861267\n"
     ]
    }
   ],
   "source": [
    "model_DTC = DecisionTreeClassifier(random_state=12345, max_depth=6) \n",
    "model_DTC.fit(features_upsampled, target_upsampled)\n",
    "prediction_DTC = model_DTC.predict(features_valid)\n",
    "print('accuracy_score', accuracy_score(target_valid, prediction_DTC))\n",
    "print(\"Полнота\" , recall_score(target_valid, prediction_DTC))\n",
    "print(\"Точность\", precision_score(target_valid, prediction_DTC))\n",
    "print(\"F1-мера\", f1_score(target_valid, prediction_DTC))\n",
    "print(\"AUC-ROC\", roc_auc_score(target_valid, prediction_DTC))"
   ]
  },
  {
   "cell_type": "markdown",
   "metadata": {},
   "source": [
    "**Случайный лес**"
   ]
  },
  {
   "cell_type": "code",
   "execution_count": 49,
   "metadata": {},
   "outputs": [
    {
     "name": "stdout",
     "output_type": "stream",
     "text": [
      "accuracy_score 0.815\n",
      "Полнота 0.7377450980392157\n",
      "Точность 0.5336879432624113\n",
      "F1-мера 0.6193415637860081\n",
      "AUC-ROC 0.7862720465070451\n"
     ]
    }
   ],
   "source": [
    "model_RFC = RandomForestClassifier(random_state=12345, n_estimators=50, max_depth=8, min_samples_split = 2)\n",
    "model_RFC.fit(features_upsampled, target_upsampled)\n",
    "prediction_RFC = model_RFC.predict(features_valid)\n",
    "print('accuracy_score', accuracy_score(target_valid, prediction_RFC))\n",
    "print(\"Полнота\" , recall_score(target_valid, prediction_RFC))\n",
    "print(\"Точность\", precision_score(target_valid, prediction_RFC))\n",
    "print(\"F1-мера\", f1_score(target_valid, prediction_RFC))\n",
    "print(\"AUC-ROC\", roc_auc_score(target_valid, prediction_RFC))"
   ]
  },
  {
   "cell_type": "markdown",
   "metadata": {},
   "source": [
    "**Логистическая регрессия**"
   ]
  },
  {
   "cell_type": "code",
   "execution_count": 50,
   "metadata": {
    "scrolled": false
   },
   "outputs": [
    {
     "name": "stdout",
     "output_type": "stream",
     "text": [
      "accuracy_score 0.7205\n",
      "Полнота 0.7083333333333334\n",
      "Точность 0.39643347050754457\n",
      "F1-мера 0.5083553210202286\n",
      "AUC-ROC 0.7159757118927974\n"
     ]
    }
   ],
   "source": [
    "model_LR = LogisticRegression(solver='liblinear', class_weight='balanced')\n",
    "model_LR.fit(features_upsampled, target_upsampled)\n",
    "prediction_LR = model_LR.predict(features_valid)\n",
    "print('accuracy_score', accuracy_score(target_valid, prediction_LR))\n",
    "print(\"Полнота\" , recall_score(target_valid, prediction_LR))\n",
    "print(\"Точность\", precision_score(target_valid, prediction_LR))\n",
    "print(\"F1-мера\", f1_score(target_valid, prediction_LR))\n",
    "print(\"AUC-ROC\", roc_auc_score(target_valid, prediction_LR))"
   ]
  },
  {
   "cell_type": "markdown",
   "metadata": {},
   "source": [
    "**Наибольшее значение F1-меры показала модель случайного леса, параметр которой превзошел необходимый порог. Это значит, что наша модель подошла.**"
   ]
  },
  {
   "cell_type": "markdown",
   "metadata": {},
   "source": [
    "### Уменьшение выборки"
   ]
  },
  {
   "cell_type": "markdown",
   "metadata": {},
   "source": [
    "Уменьшим количество отрицательных ответов в 4 раза, чтобы сбалансировать выборку."
   ]
  },
  {
   "cell_type": "code",
   "execution_count": 51,
   "metadata": {},
   "outputs": [
    {
     "data": {
      "text/plain": [
       "<AxesSubplot:ylabel='Frequency'>"
      ]
     },
     "execution_count": 51,
     "metadata": {},
     "output_type": "execute_result"
    },
    {
     "data": {
      "image/png": "[encoded data removed]",
      "text/plain": [
       "<Figure size 144x144 with 1 Axes>"
      ]
     },
     "metadata": {
      "needs_background": "light"
     },
     "output_type": "display_data"
    }
   ],
   "source": [
    "def downsample(features, target, fraction):\n",
    "    features_zeros = features[target == 0]\n",
    "    features_ones = features[target == 1]\n",
    "    target_zeros = target[target == 0]\n",
    "    target_ones = target[target == 1]\n",
    "\n",
    "    features_downsampled = pd.concat([features_zeros.sample(frac=fraction, random_state=12345)] + [features_ones])\n",
    "    target_downsampled = pd.concat(\n",
    "        [target_zeros.sample(frac=fraction, random_state=12345)] + [target_ones])\n",
    "    \n",
    "    features_downsampled, target_downsampled = shuffle(\n",
    "        features_downsampled, target_downsampled, random_state=12345)\n",
    "    \n",
    "    return features_downsampled, target_downsampled\n",
    "\n",
    "features_downsampled, target_downsampled = downsample(features_train, target_train, 0.25)\n",
    "target_downsampled.plot(kind='hist', bins = 2, figsize = (2,2))"
   ]
  },
  {
   "cell_type": "markdown",
   "metadata": {},
   "source": [
    "*Мы получили сбалансрованное количество классов. Обучим модели на новых данных*"
   ]
  },
  {
   "cell_type": "markdown",
   "metadata": {},
   "source": [
    "**Дерево решений:**"
   ]
  },
  {
   "cell_type": "code",
   "execution_count": 52,
   "metadata": {},
   "outputs": [
    {
     "name": "stdout",
     "output_type": "stream",
     "text": [
      "accuracy_score 0.777\n",
      "Полнота 0.7647058823529411\n",
      "Точность 0.47129909365558914\n",
      "F1-мера 0.5831775700934578\n",
      "AUC-ROC 0.7724283180608927\n"
     ]
    }
   ],
   "source": [
    "model_DTC_downsample = DecisionTreeClassifier(random_state=12345, max_depth=6) \n",
    "model_DTC_downsample.fit(features_downsampled, target_downsampled)\n",
    "prediction_DTC_downsample = model_DTC_downsample.predict(features_valid)\n",
    "print('accuracy_score', accuracy_score(target_valid, prediction_DTC_downsample))\n",
    "print(\"Полнота\" , recall_score(target_valid, prediction_DTC_downsample))\n",
    "print(\"Точность\", precision_score(target_valid, prediction_DTC_downsample))\n",
    "print(\"F1-мера\", f1_score(target_valid, prediction_DTC_downsample))\n",
    "print(\"AUC-ROC\", roc_auc_score(target_valid, prediction_DTC_downsample))"
   ]
  },
  {
   "cell_type": "markdown",
   "metadata": {},
   "source": [
    "**Случайный лес**"
   ]
  },
  {
   "cell_type": "code",
   "execution_count": 53,
   "metadata": {},
   "outputs": [
    {
     "name": "stdout",
     "output_type": "stream",
     "text": [
      "accuracy_score 0.801\n",
      "Полнота 0.7843137254901961\n",
      "Точность 0.5079365079365079\n",
      "F1-мера 0.6165703275529866\n",
      "AUC-ROC 0.7947950536998718\n"
     ]
    }
   ],
   "source": [
    "model_RFC_downsample = RandomForestClassifier(random_state=12345, n_estimators=50, max_depth=8, min_samples_split = 2)\n",
    "model_RFC_downsample.fit(features_downsampled, target_downsampled)\n",
    "prediction_RFC_downsample = model_RFC_downsample.predict(features_valid)\n",
    "print('accuracy_score', accuracy_score(target_valid, prediction_RFC_downsample))\n",
    "print(\"Полнота\" , recall_score(target_valid, prediction_RFC_downsample))\n",
    "print(\"Точность\", precision_score(target_valid, prediction_RFC_downsample))\n",
    "print(\"F1-мера\", f1_score(target_valid, prediction_RFC_downsample))\n",
    "print(\"AUC-ROC\", roc_auc_score(target_valid, prediction_RFC_downsample))"
   ]
  },
  {
   "cell_type": "markdown",
   "metadata": {},
   "source": [
    "**Логистическая регрессия**"
   ]
  },
  {
   "cell_type": "code",
   "execution_count": 54,
   "metadata": {
    "scrolled": false
   },
   "outputs": [
    {
     "name": "stdout",
     "output_type": "stream",
     "text": [
      "accuracy_score 0.7205\n",
      "Полнота 0.7083333333333334\n",
      "Точность 0.39643347050754457\n",
      "F1-мера 0.5083553210202286\n",
      "AUC-ROC 0.7159757118927974\n"
     ]
    }
   ],
   "source": [
    "model_LR_downsample = LogisticRegression(solver='liblinear', class_weight='balanced')\n",
    "model_LR_downsample.fit(features_upsampled, target_upsampled)\n",
    "prediction_LR_downsample = model_LR_downsample.predict(features_valid)\n",
    "print('accuracy_score', accuracy_score(target_valid, prediction_LR_downsample))\n",
    "print(\"Полнота\" , recall_score(target_valid, prediction_LR_downsample))\n",
    "print(\"Точность\", precision_score(target_valid, prediction_LR_downsample))\n",
    "print(\"F1-мера\", f1_score(target_valid, prediction_LR_downsample))\n",
    "print(\"AUC-ROC\", roc_auc_score(target_valid, prediction_LR_downsample))"
   ]
  },
  {
   "cell_type": "markdown",
   "metadata": {},
   "source": [
    "**Наибольшее значение F1-меры показала модель случайного леса, параметр которой превзошел необходимый порог, но оказался меньше, чем в случае когда мы делали увеличение выборки для сбалансированности**"
   ]
  },
  {
   "cell_type": "markdown",
   "metadata": {},
   "source": [
    "**Мы устранили дисбаланс классов в обучающей выборки путем увеличения количества позитивных значений в 4 раза.**\n",
    "***На новых данных все модели показали результат выше, чем на несбалансированной выборке. Лучшие показатели были у модели случайного леса:***\n",
    " - accuracy_score 0.815\n",
    " - Полнота 0.7377450980392157\n",
    " - Точность 0.5336879432624113\n",
    " - F1-мера 0.6193415637860081\n",
    " - AUC-ROC 0.7862720465070451\n"
   ]
  },
  {
   "cell_type": "markdown",
   "metadata": {},
   "source": [
    ">*Теперь протестируем модель на тестовых данных*"
   ]
  },
  {
   "cell_type": "markdown",
   "metadata": {},
   "source": [
    "## Тестирование модели"
   ]
  },
  {
   "cell_type": "markdown",
   "metadata": {},
   "source": [
    "**Проверим нашу модель на тестовой выборке**"
   ]
  },
  {
   "cell_type": "code",
   "execution_count": 55,
   "metadata": {},
   "outputs": [
    {
     "name": "stdout",
     "output_type": "stream",
     "text": [
      "accuracy_score 0.8145\n",
      "Полнота 0.7027027027027027\n",
      "Точность 0.5335820895522388\n",
      "F1-мера 0.6065747613997879\n",
      "AUC-ROC 0.7728830525440695\n"
     ]
    }
   ],
   "source": [
    "model_test = RandomForestClassifier(random_state=12345, n_estimators=50, max_depth=8, min_samples_split = 2)\n",
    "model_test.fit(features_upsampled, target_upsampled)\n",
    "prediction_test = model_RFC.predict(features_test)\n",
    "print('accuracy_score', accuracy_score(target_test, prediction_test))\n",
    "print(\"Полнота\" , recall_score(target_test, prediction_test))\n",
    "print(\"Точность\", precision_score(target_test, prediction_test))\n",
    "print(\"F1-мера\", f1_score(target_test, prediction_test))\n",
    "print(\"AUC-ROC\", roc_auc_score(target_test, prediction_test))"
   ]
  },
  {
   "cell_type": "markdown",
   "metadata": {},
   "source": [
    "**Построим ROC-кривую для нашей модели**"
   ]
  },
  {
   "cell_type": "code",
   "execution_count": 56,
   "metadata": {},
   "outputs": [
    {
     "data": {
      "text/plain": [
       "[<matplotlib.lines.Line2D at 0x193bf11ffa0>]"
      ]
     },
     "execution_count": 56,
     "metadata": {},
     "output_type": "execute_result"
    },
    {
     "data": {
      "image/png": "[encoded data removed]",
      "text/plain": [
       "<Figure size 432x288 with 1 Axes>"
      ]
     },
     "metadata": {
      "needs_background": "light"
     },
     "output_type": "display_data"
    }
   ],
   "source": [
    "probabilities_valid = model.predict_proba(features_valid)\n",
    "probabilities_one_valid = probabilities_valid[:, 1]\n",
    "fpr, tpr, thresholds = roc_curve(target_valid, probabilities_valid[:, 1])\n",
    "\n",
    "plt.figure()\n",
    "plt.plot(fpr, tpr)\n",
    "plt.xlabel('False Positive Rate')\n",
    "plt.ylabel('True Positive Rate')\n",
    "plt.ylim([0.0, 1.0])\n",
    "plt.xlim([0.0, 1.0])\n",
    "plt.title(\"ROC-кривая\")\n",
    "plt.plot([0, 1], [0, 1], linestyle='--')"
   ]
  },
  {
   "cell_type": "markdown",
   "metadata": {},
   "source": [
    "**При тестировании нашей модели на тестовой выборке, мы получили следующие результаты:**\n",
    "- accuracy_score 0.8145\n",
    "- Полнота 0.7027027027027027\n",
    "- Точность 0.5335820895522388\n",
    "- F1-мера 0.6065747613997879\n",
    "- AUC-ROC 0.7728830525440695\n",
    "\n",
    "**Модель достигла требуемого порога значения метрики F1 (F1>0.59).\n",
    "Модель характеризуется высоким показателем полноты = 0.703 (min = 0, max = 1), поэтому она с высокой вероятностью предскажит уход клиента из банка.**"
   ]
  }
 ],
 "metadata": {
  "ExecuteTimeLog": [
   {
    "duration": 368,
    "start_time": "2022-11-04T03:46:27.040Z"
   },
   {
    "duration": 91,
    "start_time": "2022-11-04T03:53:11.355Z"
   },
   {
    "duration": 13,
    "start_time": "2022-11-04T03:54:03.858Z"
   },
   {
    "duration": 60,
    "start_time": "2022-11-04T03:55:52.774Z"
   },
   {
    "duration": 8,
    "start_time": "2022-11-04T03:55:59.667Z"
   },
   {
    "duration": 7,
    "start_time": "2022-11-04T03:57:07.928Z"
   },
   {
    "duration": 4,
    "start_time": "2022-11-04T03:59:07.534Z"
   },
   {
    "duration": 3,
    "start_time": "2022-11-04T04:00:34.406Z"
   },
   {
    "duration": 10,
    "start_time": "2022-11-04T04:00:35.701Z"
   },
   {
    "duration": 4,
    "start_time": "2022-11-04T04:00:50.790Z"
   },
   {
    "duration": 13,
    "start_time": "2022-11-04T04:04:34.559Z"
   },
   {
    "duration": 17,
    "start_time": "2022-11-04T04:08:32.126Z"
   },
   {
    "duration": 12,
    "start_time": "2022-11-04T04:08:47.844Z"
   },
   {
    "duration": 420,
    "start_time": "2022-11-04T04:09:12.421Z"
   },
   {
    "duration": 55,
    "start_time": "2022-11-04T04:09:12.843Z"
   },
   {
    "duration": 14,
    "start_time": "2022-11-04T04:09:12.899Z"
   },
   {
    "duration": 29,
    "start_time": "2022-11-04T04:09:12.915Z"
   },
   {
    "duration": 27,
    "start_time": "2022-11-04T04:09:12.945Z"
   },
   {
    "duration": 28,
    "start_time": "2022-11-04T04:09:12.973Z"
   },
   {
    "duration": 41,
    "start_time": "2022-11-04T04:09:13.003Z"
   },
   {
    "duration": 96,
    "start_time": "2022-11-04T04:09:13.045Z"
   },
   {
    "duration": 11,
    "start_time": "2022-11-04T04:09:35.845Z"
   },
   {
    "duration": 10,
    "start_time": "2022-11-04T04:10:18.608Z"
   },
   {
    "duration": 20,
    "start_time": "2022-11-04T04:10:34.177Z"
   },
   {
    "duration": 14,
    "start_time": "2022-11-04T04:12:03.619Z"
   },
   {
    "duration": 19,
    "start_time": "2022-11-04T04:14:15.647Z"
   },
   {
    "duration": 4,
    "start_time": "2022-11-04T04:19:17.351Z"
   },
   {
    "duration": 205,
    "start_time": "2022-11-04T04:29:01.263Z"
   },
   {
    "duration": 199,
    "start_time": "2022-11-04T04:29:25.146Z"
   },
   {
    "duration": 435,
    "start_time": "2022-11-04T04:29:39.996Z"
   },
   {
    "duration": 54,
    "start_time": "2022-11-04T04:29:40.433Z"
   },
   {
    "duration": 12,
    "start_time": "2022-11-04T04:29:40.489Z"
   },
   {
    "duration": 16,
    "start_time": "2022-11-04T04:29:40.503Z"
   },
   {
    "duration": 19,
    "start_time": "2022-11-04T04:29:40.520Z"
   },
   {
    "duration": 23,
    "start_time": "2022-11-04T04:29:40.541Z"
   },
   {
    "duration": 19,
    "start_time": "2022-11-04T04:29:40.566Z"
   },
   {
    "duration": 14,
    "start_time": "2022-11-04T04:29:40.587Z"
   },
   {
    "duration": 15,
    "start_time": "2022-11-04T04:29:40.602Z"
   },
   {
    "duration": 40,
    "start_time": "2022-11-04T04:29:40.619Z"
   },
   {
    "duration": 20,
    "start_time": "2022-11-04T04:29:40.661Z"
   },
   {
    "duration": 219,
    "start_time": "2022-11-04T04:29:40.682Z"
   },
   {
    "duration": 406,
    "start_time": "2022-11-04T04:30:10.798Z"
   },
   {
    "duration": 54,
    "start_time": "2022-11-04T04:30:11.206Z"
   },
   {
    "duration": 12,
    "start_time": "2022-11-04T04:30:11.261Z"
   },
   {
    "duration": 3,
    "start_time": "2022-11-04T04:30:11.276Z"
   },
   {
    "duration": 12,
    "start_time": "2022-11-04T04:30:11.281Z"
   },
   {
    "duration": 4,
    "start_time": "2022-11-04T04:30:11.295Z"
   },
   {
    "duration": 26,
    "start_time": "2022-11-04T04:30:11.301Z"
   },
   {
    "duration": 14,
    "start_time": "2022-11-04T04:30:11.329Z"
   },
   {
    "duration": 15,
    "start_time": "2022-11-04T04:30:11.345Z"
   },
   {
    "duration": 15,
    "start_time": "2022-11-04T04:30:11.362Z"
   },
   {
    "duration": 8,
    "start_time": "2022-11-04T04:30:11.378Z"
   },
   {
    "duration": 42,
    "start_time": "2022-11-04T04:30:11.388Z"
   },
   {
    "duration": 438,
    "start_time": "2022-11-08T15:35:54.238Z"
   },
   {
    "duration": 176,
    "start_time": "2022-11-08T15:35:54.679Z"
   },
   {
    "duration": 13,
    "start_time": "2022-11-08T15:35:54.857Z"
   },
   {
    "duration": 8,
    "start_time": "2022-11-08T15:35:54.872Z"
   },
   {
    "duration": 13,
    "start_time": "2022-11-08T15:35:54.882Z"
   },
   {
    "duration": 15,
    "start_time": "2022-11-08T15:35:54.897Z"
   },
   {
    "duration": 27,
    "start_time": "2022-11-08T15:35:54.914Z"
   },
   {
    "duration": 25,
    "start_time": "2022-11-08T15:35:54.943Z"
   },
   {
    "duration": 23,
    "start_time": "2022-11-08T15:35:54.969Z"
   },
   {
    "duration": 24,
    "start_time": "2022-11-08T15:35:54.995Z"
   },
   {
    "duration": 23,
    "start_time": "2022-11-08T15:35:55.021Z"
   },
   {
    "duration": 29,
    "start_time": "2022-11-08T15:35:55.046Z"
   },
   {
    "duration": 74,
    "start_time": "2022-11-08T15:42:37.354Z"
   },
   {
    "duration": 18,
    "start_time": "2022-11-08T15:43:08.220Z"
   },
   {
    "duration": 15,
    "start_time": "2022-11-08T15:43:15.267Z"
   },
   {
    "duration": 15,
    "start_time": "2022-11-08T15:43:25.173Z"
   },
   {
    "duration": 5,
    "start_time": "2022-11-08T15:43:37.365Z"
   },
   {
    "duration": 18,
    "start_time": "2022-11-08T15:43:40.621Z"
   },
   {
    "duration": 6,
    "start_time": "2022-11-08T15:43:55.492Z"
   },
   {
    "duration": 8,
    "start_time": "2022-11-08T15:44:35.262Z"
   },
   {
    "duration": 755,
    "start_time": "2022-11-08T15:45:10.599Z"
   },
   {
    "duration": 9,
    "start_time": "2022-11-08T15:45:16.439Z"
   },
   {
    "duration": 50,
    "start_time": "2022-11-08T15:45:38.136Z"
   },
   {
    "duration": 7,
    "start_time": "2022-11-08T15:46:01.712Z"
   },
   {
    "duration": 5,
    "start_time": "2022-11-08T15:46:22.489Z"
   },
   {
    "duration": 5,
    "start_time": "2022-11-08T15:46:48.434Z"
   },
   {
    "duration": 5,
    "start_time": "2022-11-08T15:46:50.521Z"
   },
   {
    "duration": 3,
    "start_time": "2022-11-08T15:48:06.100Z"
   },
   {
    "duration": 3,
    "start_time": "2022-11-08T15:53:58.312Z"
   },
   {
    "duration": 9,
    "start_time": "2022-11-08T15:55:01.529Z"
   },
   {
    "duration": 50,
    "start_time": "2022-11-08T15:57:00.715Z"
   },
   {
    "duration": 26,
    "start_time": "2022-11-08T15:57:59.045Z"
   },
   {
    "duration": 40,
    "start_time": "2022-11-08T15:58:32.693Z"
   },
   {
    "duration": 63,
    "start_time": "2022-11-08T16:04:05.255Z"
   },
   {
    "duration": 4,
    "start_time": "2022-11-08T16:04:42.599Z"
   },
   {
    "duration": 100,
    "start_time": "2022-11-08T16:04:47.521Z"
   },
   {
    "duration": 15,
    "start_time": "2022-11-08T16:05:21.720Z"
   },
   {
    "duration": 484,
    "start_time": "2022-11-08T16:05:43.595Z"
   },
   {
    "duration": 250,
    "start_time": "2022-11-08T16:05:47.906Z"
   },
   {
    "duration": 212,
    "start_time": "2022-11-08T16:06:11.298Z"
   },
   {
    "duration": 271,
    "start_time": "2022-11-08T16:07:13.061Z"
   },
   {
    "duration": 222,
    "start_time": "2022-11-08T16:07:47.926Z"
   },
   {
    "duration": 39720,
    "start_time": "2022-11-08T16:11:33.276Z"
   },
   {
    "duration": 286,
    "start_time": "2022-11-08T16:12:56.151Z"
   },
   {
    "duration": 8,
    "start_time": "2022-11-08T16:18:10.565Z"
   },
   {
    "duration": 12,
    "start_time": "2022-11-08T16:18:37.342Z"
   },
   {
    "duration": 21,
    "start_time": "2022-11-08T16:20:37.956Z"
   },
   {
    "duration": 4,
    "start_time": "2022-11-08T16:20:55.469Z"
   },
   {
    "duration": 16,
    "start_time": "2022-11-08T16:21:00.542Z"
   },
   {
    "duration": 7,
    "start_time": "2022-11-08T16:21:29.974Z"
   },
   {
    "duration": 45,
    "start_time": "2022-11-08T16:29:57.454Z"
   },
   {
    "duration": 47,
    "start_time": "2022-11-08T16:30:12.869Z"
   },
   {
    "duration": 32,
    "start_time": "2022-11-08T16:30:30.332Z"
   },
   {
    "duration": 34,
    "start_time": "2022-11-08T16:30:41.070Z"
   },
   {
    "duration": 213,
    "start_time": "2022-11-08T16:32:12.145Z"
   },
   {
    "duration": 862,
    "start_time": "2022-11-08T16:33:36.258Z"
   },
   {
    "duration": 76,
    "start_time": "2022-11-08T16:36:36.745Z"
   },
   {
    "duration": 35,
    "start_time": "2022-11-08T16:36:50.289Z"
   },
   {
    "duration": 200,
    "start_time": "2022-11-08T16:37:23.332Z"
   },
   {
    "duration": 219,
    "start_time": "2022-11-08T16:37:26.905Z"
   },
   {
    "duration": 4,
    "start_time": "2022-11-08T16:40:00.694Z"
   },
   {
    "duration": 12,
    "start_time": "2022-11-08T16:40:04.838Z"
   },
   {
    "duration": 4,
    "start_time": "2022-11-08T16:40:19.946Z"
   },
   {
    "duration": 10,
    "start_time": "2022-11-08T16:40:25.037Z"
   },
   {
    "duration": 21,
    "start_time": "2022-11-08T16:43:25.012Z"
   },
   {
    "duration": 10,
    "start_time": "2022-11-08T16:44:40.559Z"
   },
   {
    "duration": 443,
    "start_time": "2022-11-08T16:45:00.678Z"
   },
   {
    "duration": 100,
    "start_time": "2022-11-08T16:45:04.719Z"
   },
   {
    "duration": 13,
    "start_time": "2022-11-08T16:49:42.749Z"
   },
   {
    "duration": 5,
    "start_time": "2022-11-08T16:49:51.543Z"
   },
   {
    "duration": 15,
    "start_time": "2022-11-08T16:50:46.865Z"
   },
   {
    "duration": 12,
    "start_time": "2022-11-08T16:53:34.693Z"
   },
   {
    "duration": 15,
    "start_time": "2022-11-08T16:56:55.084Z"
   },
   {
    "duration": 5,
    "start_time": "2022-11-08T17:03:42.984Z"
   },
   {
    "duration": 160,
    "start_time": "2022-11-08T17:07:09.287Z"
   },
   {
    "duration": 388,
    "start_time": "2022-11-08T17:07:14.258Z"
   },
   {
    "duration": 27,
    "start_time": "2022-11-08T17:10:02.644Z"
   },
   {
    "duration": 98,
    "start_time": "2022-11-08T17:12:42.616Z"
   },
   {
    "duration": 98,
    "start_time": "2022-11-08T17:13:09.281Z"
   },
   {
    "duration": 51,
    "start_time": "2022-11-08T17:18:59.181Z"
   },
   {
    "duration": 287,
    "start_time": "2022-11-08T17:20:34.775Z"
   },
   {
    "duration": 216,
    "start_time": "2022-11-08T17:20:48.447Z"
   },
   {
    "duration": 261,
    "start_time": "2022-11-08T17:20:53.191Z"
   },
   {
    "duration": 443,
    "start_time": "2022-11-08T17:20:59.520Z"
   },
   {
    "duration": 433,
    "start_time": "2022-11-08T17:21:04.967Z"
   },
   {
    "duration": 45,
    "start_time": "2022-11-08T17:22:53.140Z"
   },
   {
    "duration": 462,
    "start_time": "2022-11-08T17:23:23.645Z"
   },
   {
    "duration": 206,
    "start_time": "2022-11-08T17:24:11.831Z"
   },
   {
    "duration": 81,
    "start_time": "2022-11-08T17:24:45.542Z"
   },
   {
    "duration": 65,
    "start_time": "2022-11-08T17:25:03.074Z"
   },
   {
    "duration": 82,
    "start_time": "2022-11-08T17:25:26.378Z"
   },
   {
    "duration": 49,
    "start_time": "2022-11-08T17:28:28.857Z"
   },
   {
    "duration": 130,
    "start_time": "2022-11-08T17:28:51.597Z"
   },
   {
    "duration": 550,
    "start_time": "2022-11-08T17:28:59.308Z"
   },
   {
    "duration": 66,
    "start_time": "2022-11-08T17:35:09.912Z"
   },
   {
    "duration": 557,
    "start_time": "2022-11-08T17:35:21.243Z"
   },
   {
    "duration": 14,
    "start_time": "2022-11-08T17:41:25.833Z"
   },
   {
    "duration": 307,
    "start_time": "2022-11-08T17:42:04.129Z"
   },
   {
    "duration": 274,
    "start_time": "2022-11-08T17:43:05.694Z"
   },
   {
    "duration": 1458,
    "start_time": "2022-11-09T10:02:35.753Z"
   },
   {
    "duration": 1273,
    "start_time": "2022-11-09T10:25:32.749Z"
   },
   {
    "duration": 159,
    "start_time": "2022-11-09T10:25:34.024Z"
   },
   {
    "duration": 12,
    "start_time": "2022-11-09T10:25:34.184Z"
   },
   {
    "duration": 3,
    "start_time": "2022-11-09T10:25:34.198Z"
   },
   {
    "duration": 9,
    "start_time": "2022-11-09T10:25:34.202Z"
   },
   {
    "duration": 6,
    "start_time": "2022-11-09T10:25:34.213Z"
   },
   {
    "duration": 14,
    "start_time": "2022-11-09T10:25:34.221Z"
   },
   {
    "duration": 22,
    "start_time": "2022-11-09T10:25:34.236Z"
   },
   {
    "duration": 16,
    "start_time": "2022-11-09T10:25:34.259Z"
   },
   {
    "duration": 19,
    "start_time": "2022-11-09T10:25:34.277Z"
   },
   {
    "duration": 18,
    "start_time": "2022-11-09T10:25:34.297Z"
   },
   {
    "duration": 105,
    "start_time": "2022-11-09T10:25:34.317Z"
   },
   {
    "duration": 0,
    "start_time": "2022-11-09T10:25:34.424Z"
   },
   {
    "duration": 0,
    "start_time": "2022-11-09T10:25:34.425Z"
   },
   {
    "duration": 0,
    "start_time": "2022-11-09T10:25:34.427Z"
   },
   {
    "duration": 0,
    "start_time": "2022-11-09T10:25:34.428Z"
   },
   {
    "duration": 0,
    "start_time": "2022-11-09T10:25:34.430Z"
   },
   {
    "duration": 0,
    "start_time": "2022-11-09T10:25:34.431Z"
   },
   {
    "duration": 0,
    "start_time": "2022-11-09T10:25:34.448Z"
   },
   {
    "duration": 0,
    "start_time": "2022-11-09T10:25:34.450Z"
   },
   {
    "duration": 0,
    "start_time": "2022-11-09T10:25:34.451Z"
   },
   {
    "duration": 0,
    "start_time": "2022-11-09T10:25:34.453Z"
   },
   {
    "duration": 0,
    "start_time": "2022-11-09T10:25:34.455Z"
   },
   {
    "duration": 0,
    "start_time": "2022-11-09T10:25:34.456Z"
   },
   {
    "duration": 0,
    "start_time": "2022-11-09T10:25:34.458Z"
   },
   {
    "duration": 0,
    "start_time": "2022-11-09T10:25:34.459Z"
   },
   {
    "duration": 0,
    "start_time": "2022-11-09T10:25:34.460Z"
   },
   {
    "duration": 0,
    "start_time": "2022-11-09T10:25:34.461Z"
   },
   {
    "duration": 0,
    "start_time": "2022-11-09T10:25:34.463Z"
   },
   {
    "duration": 0,
    "start_time": "2022-11-09T10:25:34.464Z"
   },
   {
    "duration": 0,
    "start_time": "2022-11-09T10:25:34.466Z"
   },
   {
    "duration": 0,
    "start_time": "2022-11-09T10:25:34.467Z"
   },
   {
    "duration": 0,
    "start_time": "2022-11-09T10:25:34.468Z"
   },
   {
    "duration": 0,
    "start_time": "2022-11-09T10:25:34.470Z"
   },
   {
    "duration": 1,
    "start_time": "2022-11-09T10:25:34.471Z"
   },
   {
    "duration": 0,
    "start_time": "2022-11-09T10:25:34.473Z"
   },
   {
    "duration": 0,
    "start_time": "2022-11-09T10:25:34.474Z"
   },
   {
    "duration": 0,
    "start_time": "2022-11-09T10:25:34.475Z"
   },
   {
    "duration": 0,
    "start_time": "2022-11-09T10:25:34.476Z"
   },
   {
    "duration": 0,
    "start_time": "2022-11-09T10:25:34.477Z"
   },
   {
    "duration": 0,
    "start_time": "2022-11-09T10:25:34.478Z"
   },
   {
    "duration": 0,
    "start_time": "2022-11-09T10:25:34.479Z"
   },
   {
    "duration": 0,
    "start_time": "2022-11-09T10:25:34.480Z"
   },
   {
    "duration": 0,
    "start_time": "2022-11-09T10:25:34.481Z"
   },
   {
    "duration": 10,
    "start_time": "2022-11-09T10:25:34.628Z"
   },
   {
    "duration": 0,
    "start_time": "2022-11-09T10:25:34.640Z"
   },
   {
    "duration": 23,
    "start_time": "2022-11-09T10:25:57.709Z"
   },
   {
    "duration": 6,
    "start_time": "2022-11-09T10:25:59.403Z"
   },
   {
    "duration": 9,
    "start_time": "2022-11-09T10:26:00.143Z"
   },
   {
    "duration": 6,
    "start_time": "2022-11-09T10:26:00.570Z"
   },
   {
    "duration": 4,
    "start_time": "2022-11-09T10:26:01.005Z"
   },
   {
    "duration": 4,
    "start_time": "2022-11-09T10:26:01.218Z"
   },
   {
    "duration": 4,
    "start_time": "2022-11-09T10:26:01.442Z"
   },
   {
    "duration": 3,
    "start_time": "2022-11-09T10:26:03.003Z"
   },
   {
    "duration": 9,
    "start_time": "2022-11-09T10:26:03.505Z"
   },
   {
    "duration": 21,
    "start_time": "2022-11-09T10:26:04.324Z"
   },
   {
    "duration": 17,
    "start_time": "2022-11-09T10:26:15.073Z"
   },
   {
    "duration": 20,
    "start_time": "2022-11-09T10:26:18.000Z"
   },
   {
    "duration": 83,
    "start_time": "2022-11-09T10:26:19.839Z"
   },
   {
    "duration": 175,
    "start_time": "2022-11-09T10:26:20.618Z"
   },
   {
    "duration": 242,
    "start_time": "2022-11-09T10:26:21.062Z"
   },
   {
    "duration": 185,
    "start_time": "2022-11-09T10:26:23.187Z"
   },
   {
    "duration": 33219,
    "start_time": "2022-11-09T10:26:27.249Z"
   },
   {
    "duration": 120,
    "start_time": "2022-11-09T10:27:00.470Z"
   },
   {
    "duration": 7,
    "start_time": "2022-11-09T10:27:16.612Z"
   },
   {
    "duration": 30,
    "start_time": "2022-11-09T10:27:19.445Z"
   },
   {
    "duration": 198,
    "start_time": "2022-11-09T10:27:20.269Z"
   },
   {
    "duration": 119,
    "start_time": "2022-11-09T10:27:20.688Z"
   },
   {
    "duration": 6,
    "start_time": "2022-11-09T10:27:22.532Z"
   },
   {
    "duration": 10,
    "start_time": "2022-11-09T10:27:23.457Z"
   },
   {
    "duration": 11,
    "start_time": "2022-11-09T10:27:27.133Z"
   },
   {
    "duration": 19,
    "start_time": "2022-11-09T10:27:28.945Z"
   },
   {
    "duration": 11,
    "start_time": "2022-11-09T10:27:29.679Z"
   },
   {
    "duration": 31,
    "start_time": "2022-11-09T10:27:30.126Z"
   },
   {
    "duration": 89,
    "start_time": "2022-11-09T10:27:31.798Z"
   },
   {
    "duration": 43,
    "start_time": "2022-11-09T10:27:32.861Z"
   },
   {
    "duration": 392,
    "start_time": "2022-11-09T10:27:33.669Z"
   },
   {
    "duration": 154,
    "start_time": "2022-11-09T10:27:35.895Z"
   },
   {
    "duration": 18,
    "start_time": "2022-11-09T10:27:38.006Z"
   },
   {
    "duration": 4,
    "start_time": "2022-11-09T10:28:58.907Z"
   },
   {
    "duration": 1793,
    "start_time": "2022-11-09T10:32:14.012Z"
   },
   {
    "duration": 51,
    "start_time": "2022-11-09T10:32:15.806Z"
   },
   {
    "duration": 16,
    "start_time": "2022-11-09T10:32:15.860Z"
   },
   {
    "duration": 12,
    "start_time": "2022-11-09T10:32:15.878Z"
   },
   {
    "duration": 12,
    "start_time": "2022-11-09T10:32:15.891Z"
   },
   {
    "duration": 5,
    "start_time": "2022-11-09T10:32:15.904Z"
   },
   {
    "duration": 13,
    "start_time": "2022-11-09T10:32:15.911Z"
   },
   {
    "duration": 12,
    "start_time": "2022-11-09T10:32:15.925Z"
   },
   {
    "duration": 20,
    "start_time": "2022-11-09T10:32:15.950Z"
   },
   {
    "duration": 17,
    "start_time": "2022-11-09T10:32:15.972Z"
   },
   {
    "duration": 9,
    "start_time": "2022-11-09T10:32:15.990Z"
   },
   {
    "duration": 49,
    "start_time": "2022-11-09T10:32:16.000Z"
   },
   {
    "duration": 7,
    "start_time": "2022-11-09T10:32:16.052Z"
   },
   {
    "duration": 23,
    "start_time": "2022-11-09T10:32:16.061Z"
   },
   {
    "duration": 14,
    "start_time": "2022-11-09T10:32:16.086Z"
   },
   {
    "duration": 14,
    "start_time": "2022-11-09T10:32:16.101Z"
   },
   {
    "duration": 21,
    "start_time": "2022-11-09T10:32:16.116Z"
   },
   {
    "duration": 6,
    "start_time": "2022-11-09T10:32:16.138Z"
   },
   {
    "duration": 4,
    "start_time": "2022-11-09T10:32:16.146Z"
   },
   {
    "duration": 13,
    "start_time": "2022-11-09T10:32:16.151Z"
   },
   {
    "duration": 32,
    "start_time": "2022-11-09T10:32:16.166Z"
   },
   {
    "duration": 24,
    "start_time": "2022-11-09T10:32:16.200Z"
   },
   {
    "duration": 44,
    "start_time": "2022-11-09T10:32:16.226Z"
   },
   {
    "duration": 99,
    "start_time": "2022-11-09T10:32:16.272Z"
   },
   {
    "duration": 179,
    "start_time": "2022-11-09T10:32:16.373Z"
   },
   {
    "duration": 235,
    "start_time": "2022-11-09T10:32:16.554Z"
   },
   {
    "duration": 189,
    "start_time": "2022-11-09T10:32:16.791Z"
   },
   {
    "duration": 34285,
    "start_time": "2022-11-09T10:32:16.983Z"
   },
   {
    "duration": 181,
    "start_time": "2022-11-09T10:32:51.270Z"
   },
   {
    "duration": 95,
    "start_time": "2022-11-09T10:32:51.457Z"
   },
   {
    "duration": 41,
    "start_time": "2022-11-09T10:32:51.554Z"
   },
   {
    "duration": 233,
    "start_time": "2022-11-09T10:32:51.597Z"
   },
   {
    "duration": 219,
    "start_time": "2022-11-09T10:32:51.832Z"
   },
   {
    "duration": 12,
    "start_time": "2022-11-09T10:32:52.053Z"
   },
   {
    "duration": 15,
    "start_time": "2022-11-09T10:32:52.149Z"
   },
   {
    "duration": 14,
    "start_time": "2022-11-09T10:32:52.166Z"
   },
   {
    "duration": 19,
    "start_time": "2022-11-09T10:32:52.182Z"
   },
   {
    "duration": 9,
    "start_time": "2022-11-09T10:32:52.203Z"
   },
   {
    "duration": 135,
    "start_time": "2022-11-09T10:32:52.214Z"
   },
   {
    "duration": 151,
    "start_time": "2022-11-09T10:32:52.351Z"
   },
   {
    "duration": 52,
    "start_time": "2022-11-09T10:32:52.504Z"
   },
   {
    "duration": 402,
    "start_time": "2022-11-09T10:32:52.558Z"
   },
   {
    "duration": 91,
    "start_time": "2022-11-09T10:32:52.962Z"
   },
   {
    "duration": 201,
    "start_time": "2022-11-09T10:32:53.055Z"
   },
   {
    "duration": 0,
    "start_time": "2022-11-09T10:32:53.258Z"
   },
   {
    "duration": 0,
    "start_time": "2022-11-09T10:32:53.259Z"
   },
   {
    "duration": 30,
    "start_time": "2022-11-09T10:34:34.821Z"
   },
   {
    "duration": 148,
    "start_time": "2022-11-09T10:34:48.387Z"
   },
   {
    "duration": 28,
    "start_time": "2022-11-09T15:14:56.547Z"
   },
   {
    "duration": 174,
    "start_time": "2022-11-09T15:15:56.134Z"
   },
   {
    "duration": 71,
    "start_time": "2022-11-09T15:16:36.684Z"
   },
   {
    "duration": 389,
    "start_time": "2022-11-09T15:35:28.853Z"
   },
   {
    "duration": 50,
    "start_time": "2022-11-10T02:24:03.295Z"
   },
   {
    "duration": 1744,
    "start_time": "2022-11-10T02:24:07.910Z"
   },
   {
    "duration": 364,
    "start_time": "2022-11-10T02:24:09.656Z"
   },
   {
    "duration": 13,
    "start_time": "2022-11-10T02:24:10.269Z"
   },
   {
    "duration": 7,
    "start_time": "2022-11-10T02:24:14.091Z"
   },
   {
    "duration": 8,
    "start_time": "2022-11-10T02:24:21.612Z"
   },
   {
    "duration": 42,
    "start_time": "2022-12-28T17:35:08.725Z"
   }
  ],
  "kernelspec": {
   "display_name": "Python 3 (ipykernel)",
   "language": "python",
   "name": "python3"
  },
  "language_info": {
   "codemirror_mode": {
    "name": "ipython",
    "version": 3
   },
   "file_extension": ".py",
   "mimetype": "text/x-python",
   "name": "python",
   "nbconvert_exporter": "python",
   "pygments_lexer": "ipython3",
   "version": "3.9.12"
  },
  "toc": {
   "base_numbering": 1,
   "nav_menu": {},
   "number_sections": true,
   "sideBar": false,
   "skip_h1_title": true,
   "title_cell": "Содержание",
   "title_sidebar": "Contents",
   "toc_cell": true,
   "toc_position": {
    "height": "1056px",
    "left": "186px",
    "top": "140.229px",
    "width": "165px"
   },
   "toc_section_display": true,
   "toc_window_display": true
  }
 },
 "nbformat": 4,
 "nbformat_minor": 2
}
